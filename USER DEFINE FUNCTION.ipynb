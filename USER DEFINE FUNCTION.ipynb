{
 "cells": [
  {
   "cell_type": "markdown",
   "metadata": {},
   "source": [
    "# FACTORIAL OF NUMBER"
   ]
  },
  {
   "cell_type": "code",
   "execution_count": 2,
   "metadata": {},
   "outputs": [],
   "source": [
    "def FACTORIAL(x):\n",
    "    if x==1:\n",
    "        return 1\n",
    "    return  x * FACTORIAL(x-1) # Recursive call "
   ]
  },
  {
   "cell_type": "code",
   "execution_count": 3,
   "metadata": {},
   "outputs": [
    {
     "data": {
      "text/plain": [
       "120"
      ]
     },
     "execution_count": 3,
     "metadata": {},
     "output_type": "execute_result"
    }
   ],
   "source": [
    "FACTORIAL(5)"
   ]
  },
  {
   "cell_type": "markdown",
   "metadata": {},
   "source": [
    "✨ **The Magic of Factorials!** ✨  \n",
    "\n",
    "📢 **Did You Know?** The value **120** is the factorial of **5**.  \n",
    "\n",
    "🧮 **Calculation:**  \n",
    "\\[\n",
    "5! = 5 X 4 X 3 X 2 X 1 = 120\n",
    "\\]\n",
    "\n",
    "💡 **How Does It Work?**  \n",
    "Your recursive function smartly multiplies each number down to **1**, giving the perfect result — **120**! 🚀"
   ]
  },
  {
   "cell_type": "markdown",
   "metadata": {},
   "source": [
    "This function calculates the **factorial** of a given number using **recursion**. Let's break it down step by step.\n",
    "\n",
    "### Code Explanation\n",
    "```python\n",
    "def FACTORIAL(x):  # Function definition\n",
    "    if x == 1:     # Base condition: Stops recursion when x equals 1\n",
    "        return 1\n",
    "    return x * FACTORIAL(x - 1)  # Recursive call\n",
    "```\n",
    "\n",
    "### Step-by-Step Working\n",
    "Suppose we call the function with `FACTORIAL(4)`.\n",
    "\n",
    "1. **First Call:** `FACTORIAL(4)`\n",
    "   - Since `x != 1`, it returns `4 * FACTORIAL(3)`\n",
    "\n",
    "2. **Second Call:** `FACTORIAL(3)`\n",
    "   - Since `x != 1`, it returns `3 * FACTORIAL(2)`\n",
    "\n",
    "3. **Third Call:** `FACTORIAL(2)`\n",
    "   - Since `x != 1`, it returns `2 * FACTORIAL(1)`\n",
    "\n",
    "4. **Fourth Call:** `FACTORIAL(1)`\n",
    "   - Since `x == 1`, it returns **1** (Base condition met).\n",
    "\n",
    "### Backtracking (Returning the Results)\n",
    "- The result from `FACTORIAL(1)` (which is `1`) goes back to the previous step:\n",
    "  \n",
    "\\[\n",
    "FACTORIAL(2) = 2 \\times 1 = 2\n",
    "\\]\n",
    "\n",
    "- This result goes back to the previous step:\n",
    "\n",
    "\\[\n",
    "FACTORIAL(3) = 3 \\times 2 = 6\n",
    "\\]\n",
    "\n",
    "- This result goes back to the initial call:\n",
    "\n",
    "\\[\n",
    "FACTORIAL(4) = 4 \\times 6 = 24\n",
    "\\]\n",
    "\n",
    "### Final Answer\n",
    "`FACTORIAL(4)` → **24**\n",
    "\n",
    "### Key Concepts\n",
    "✅ **Recursion**: The function calls itself.  \n",
    "✅ **Base Condition**: Stops recursion when `x == 1`.  \n",
    "✅ **Backtracking**: Combines results while returning from recursive calls."
   ]
  },
  {
   "cell_type": "markdown",
   "metadata": {},
   "source": [
    "# FIBONACCI SEQUENCE:"
   ]
  },
  {
   "cell_type": "code",
   "execution_count": 4,
   "metadata": {},
   "outputs": [],
   "source": [
    "def FEBONACCI(n):\n",
    "    fib=[0,1]\n",
    "    for a in range(2,n):\n",
    "        fib.append(fib[-1]+fib[-2])\n",
    "    return fib    "
   ]
  },
  {
   "cell_type": "code",
   "execution_count": 5,
   "metadata": {},
   "outputs": [
    {
     "data": {
      "text/plain": [
       "[0, 1, 1, 2, 3]"
      ]
     },
     "execution_count": 5,
     "metadata": {},
     "output_type": "execute_result"
    }
   ],
   "source": [
    "FEBONACCI(5)"
   ]
  },
  {
   "cell_type": "markdown",
   "metadata": {},
   "source": [
    "\n",
    "\n",
    "---\n",
    "\n",
    "### 🔎 **Step-by-Step Example: `FEBONACCI(6)`**\n",
    "\n",
    "1. **Initialization:**  \n",
    "   `fib = [0, 1]`\n",
    "\n",
    "---\n",
    "\n",
    "2. **First Iteration (`a = 2`)**  \n",
    "   ➔ `fib[-1] = 1` and `fib[-2] = 0`  \n",
    "   ➔ `fib.append(1 + 0)`  \n",
    "   ➔ **Result:** `fib = [0, 1, 1]`\n",
    "\n",
    "---\n",
    "\n",
    "3. **Second Iteration (`a = 3`)**  \n",
    "   ➔ `fib[-1] = 1` and `fib[-2] = 1`  \n",
    "   ➔ `fib.append(1 + 1)`  \n",
    "   ➔ **Result:** `fib = [0, 1, 1, 2]`\n",
    "\n",
    "---\n",
    "\n",
    "4. **Third Iteration (`a = 4`)**  \n",
    "   ➔ `fib[-1] = 2` and `fib[-2] = 1`  \n",
    "   ➔ `fib.append(2 + 1)`  \n",
    "   ➔ **Result:** `fib = [0, 1, 1, 2, 3]`\n",
    "\n",
    "---\n",
    "\n",
    "5. **Fourth Iteration (`a = 5`)**  \n",
    "   ➔ `fib[-1] = 3` and `fib[-2] = 2`  \n",
    "   ➔ `fib.append(3 + 2)`  \n",
    "   ➔ **Result:** `fib = [0, 1, 1, 2, 3, 5]`\n",
    "\n",
    "---\n",
    "\n",
    "### ✨ **Final Output**\n",
    "`FEBONACCI(6)` → 🌈 **[0, 1, 1, 2, 3, 5]**\n",
    "\n",
    "---\n",
    "\n",
    "### 📌 **Key Concepts**\n",
    "✅ **Fibonacci Sequence** → Each number is the sum of the last two numbers.  \n",
    "✅ **List Indexing** → `fib[-1]` and `fib[-2]` efficiently access the last two elements.  \n",
    "✅ **Iteration** → Ensures numbers are generated until `n` terms are reached."
   ]
  },
  {
   "cell_type": "markdown",
   "metadata": {},
   "source": [
    "# CHECK IF THE NUMBER IS PRIME"
   ]
  },
  {
   "cell_type": "code",
   "execution_count": 293,
   "metadata": {},
   "outputs": [],
   "source": [
    "def PRIME_DETECTOR(NUM):\n",
    "    if NUM <= 1:  # 🔹 Numbers less than or equal to 1 are NOT prime\n",
    "        return \"It is not a prime number\"\n",
    "    else:\n",
    "        for a in range(2, NUM):  # 🔹 Check divisibility from 2 to NUM-1\n",
    "            if NUM % a == 0:     # 🔹 If divisible by any number in this range\n",
    "                return \"It is not a prime number\"\n",
    "                break            # 🔹 Break the loop (optional, since return exits)\n",
    "        else:\n",
    "            return \"It is a prime number\"  # 🔹 If no divisors are found\n"
   ]
  },
  {
   "cell_type": "code",
   "execution_count": 294,
   "metadata": {},
   "outputs": [
    {
     "data": {
      "text/plain": [
       "'It is not a prime number'"
      ]
     },
     "execution_count": 294,
     "metadata": {},
     "output_type": "execute_result"
    }
   ],
   "source": [
    "PRIME_DETECTOR(8)"
   ]
  },
  {
   "cell_type": "markdown",
   "metadata": {},
   "source": [
    "# REVERSE STRING"
   ]
  },
  {
   "cell_type": "code",
   "execution_count": 295,
   "metadata": {},
   "outputs": [],
   "source": [
    "def REVERSE_STRING(TEXT):\n",
    "    return TEXT[::-1]\n",
    "    "
   ]
  },
  {
   "cell_type": "code",
   "execution_count": 296,
   "metadata": {},
   "outputs": [
    {
     "data": {
      "text/plain": [
       "'LAWJU'"
      ]
     },
     "execution_count": 296,
     "metadata": {},
     "output_type": "execute_result"
    }
   ],
   "source": [
    "REVERSE_STRING(\"UJWAL\")"
   ]
  },
  {
   "cell_type": "markdown",
   "metadata": {},
   "source": [
    "# PALINDROME CHECK"
   ]
  },
  {
   "cell_type": "code",
   "execution_count": 297,
   "metadata": {},
   "outputs": [],
   "source": [
    "def PALINDROME_CHECK(TEXT):\n",
    "    return TEXT==TEXT[::-1]"
   ]
  },
  {
   "cell_type": "code",
   "execution_count": 298,
   "metadata": {},
   "outputs": [
    {
     "data": {
      "text/plain": [
       "True"
      ]
     },
     "execution_count": 298,
     "metadata": {},
     "output_type": "execute_result"
    }
   ],
   "source": [
    "PALINDROME_CHECK(\"NITIN\")"
   ]
  },
  {
   "cell_type": "markdown",
   "metadata": {},
   "source": [
    "# PALINDROME CHECK 2"
   ]
  },
  {
   "cell_type": "code",
   "execution_count": 299,
   "metadata": {},
   "outputs": [],
   "source": [
    "def PALINDROME_CHECK2(TEXT):\n",
    "    return TEXT==\"\".join(reversed(TEXT))"
   ]
  },
  {
   "cell_type": "code",
   "execution_count": 300,
   "metadata": {},
   "outputs": [
    {
     "data": {
      "text/plain": [
       "True"
      ]
     },
     "execution_count": 300,
     "metadata": {},
     "output_type": "execute_result"
    }
   ],
   "source": [
    "PALINDROME_CHECK2(\"NITIN\")"
   ]
  },
  {
   "cell_type": "markdown",
   "metadata": {},
   "source": [
    "# FIND MAX IN LIST"
   ]
  },
  {
   "cell_type": "code",
   "execution_count": 301,
   "metadata": {},
   "outputs": [],
   "source": [
    "def MAX(LIST):\n",
    "    return max(LIST) \n",
    "     "
   ]
  },
  {
   "cell_type": "code",
   "execution_count": 302,
   "metadata": {},
   "outputs": [
    {
     "data": {
      "text/plain": [
       "20"
      ]
     },
     "execution_count": 302,
     "metadata": {},
     "output_type": "execute_result"
    }
   ],
   "source": [
    "LIST=[1,2,3,4,5,6,7,20]\n",
    "MAX(LIST)"
   ]
  },
  {
   "cell_type": "markdown",
   "metadata": {},
   "source": [
    "# FIND MAX IN LIST 2"
   ]
  },
  {
   "cell_type": "code",
   "execution_count": 303,
   "metadata": {},
   "outputs": [],
   "source": [
    "def MAX2(LIST):\n",
    "    if not LIST:\n",
    "        return None\n",
    "    \n",
    "    MAX_VALUE=LIST[0]\n",
    "    for NUM in LIST:\n",
    "        if NUM>MAX_VALUE:\n",
    "            MAX_VALUE=NUM\n",
    "    return MAX_VALUE    \n",
    "            "
   ]
  },
  {
   "cell_type": "code",
   "execution_count": 304,
   "metadata": {},
   "outputs": [
    {
     "data": {
      "text/plain": [
       "20"
      ]
     },
     "execution_count": 304,
     "metadata": {},
     "output_type": "execute_result"
    }
   ],
   "source": [
    "MAX2(LIST)"
   ]
  },
  {
   "cell_type": "markdown",
   "metadata": {},
   "source": [
    "# FIND MIN IN LIST"
   ]
  },
  {
   "cell_type": "code",
   "execution_count": 305,
   "metadata": {},
   "outputs": [],
   "source": [
    "def MIN(LIST):\n",
    "    return min(LIST)"
   ]
  },
  {
   "cell_type": "code",
   "execution_count": 306,
   "metadata": {},
   "outputs": [
    {
     "data": {
      "text/plain": [
       "1"
      ]
     },
     "execution_count": 306,
     "metadata": {},
     "output_type": "execute_result"
    }
   ],
   "source": [
    "MIN(LIST)"
   ]
  },
  {
   "cell_type": "markdown",
   "metadata": {},
   "source": [
    "# FIND MIN IN LIST 2"
   ]
  },
  {
   "cell_type": "code",
   "execution_count": 307,
   "metadata": {},
   "outputs": [],
   "source": [
    "def MIN2(LIST):\n",
    "    if not LIST:\n",
    "        return None\n",
    "    \n",
    "    MIN_VALUE=LIST[0]\n",
    "    for num in LIST:\n",
    "        if num<MIN_VALUE:\n",
    "            MIN_VALUE=num\n",
    "    return MIN_VALUE        "
   ]
  },
  {
   "cell_type": "code",
   "execution_count": 308,
   "metadata": {},
   "outputs": [
    {
     "data": {
      "text/plain": [
       "1"
      ]
     },
     "execution_count": 308,
     "metadata": {},
     "output_type": "execute_result"
    }
   ],
   "source": [
    "MIN2(LIST)"
   ]
  },
  {
   "cell_type": "markdown",
   "metadata": {},
   "source": [
    "# SUM OF LIST ELEMENTS"
   ]
  },
  {
   "cell_type": "code",
   "execution_count": 309,
   "metadata": {},
   "outputs": [],
   "source": [
    "def SUM(LIST):\n",
    "    if not list:\n",
    "        return None\n",
    "    return sum(LIST)"
   ]
  },
  {
   "cell_type": "code",
   "execution_count": 310,
   "metadata": {},
   "outputs": [
    {
     "data": {
      "text/plain": [
       "48"
      ]
     },
     "execution_count": 310,
     "metadata": {},
     "output_type": "execute_result"
    }
   ],
   "source": [
    "SUM(LIST)"
   ]
  },
  {
   "cell_type": "markdown",
   "metadata": {},
   "source": [
    "# SUM OF LIST ELEMENTS 2"
   ]
  },
  {
   "cell_type": "code",
   "execution_count": 311,
   "metadata": {},
   "outputs": [],
   "source": [
    "def SUM2(LIST):\n",
    "    if not list:\n",
    "        return None\n",
    "    sum=0\n",
    "    for num in LIST:\n",
    "        sum += num \n",
    "    return sum"
   ]
  },
  {
   "cell_type": "code",
   "execution_count": 312,
   "metadata": {},
   "outputs": [
    {
     "data": {
      "text/plain": [
       "48"
      ]
     },
     "execution_count": 312,
     "metadata": {},
     "output_type": "execute_result"
    }
   ],
   "source": [
    "SUM2(LIST)"
   ]
  },
  {
   "cell_type": "markdown",
   "metadata": {},
   "source": [
    "# COUNT VOWELS IN A STRING:"
   ]
  },
  {
   "cell_type": "code",
   "execution_count": 313,
   "metadata": {},
   "outputs": [],
   "source": [
    "def VOWELS_COUNT(TEXT):\n",
    "    from collections import Counter\n",
    "    VOWELS=\"AEIOUaeiou\"\n",
    "    FOUND_VOWELS_IN_TEXT=[char for char in TEXT if char in VOWELS]\n",
    "    print(len(FOUND_VOWELS_IN_TEXT))\n",
    "    print(Counter(FOUND_VOWELS_IN_TEXT))\n",
    "    return sum(1 for char in TEXT if char in VOWELS)\n",
    "    \n",
    "    "
   ]
  },
  {
   "cell_type": "code",
   "execution_count": 314,
   "metadata": {},
   "outputs": [
    {
     "name": "stdout",
     "output_type": "stream",
     "text": [
      "4\n",
      "Counter({'A': 2, 'I': 1, 'U': 1})\n"
     ]
    },
    {
     "data": {
      "text/plain": [
       "4"
      ]
     },
     "execution_count": 314,
     "metadata": {},
     "output_type": "execute_result"
    }
   ],
   "source": [
    "TEXT=\"I AM UJWAL\"\n",
    "VOWELS_COUNT(TEXT)"
   ]
  },
  {
   "cell_type": "markdown",
   "metadata": {},
   "source": [
    "### 💡 **Key Point to Remember**  \n",
    "➡️ **Any code written after `return` will not execute** because `return` immediately exits the function.  \n",
    "\n",
    "✅ **Place print statements or additional logic before the `return` statement** if you want them to run."
   ]
  },
  {
   "cell_type": "markdown",
   "metadata": {},
   "source": [
    "# REMOVE DUPLICATES FROM LIST."
   ]
  },
  {
   "cell_type": "code",
   "execution_count": 315,
   "metadata": {},
   "outputs": [],
   "source": [
    "def REMOVE_DUPLICATE(LIST):\n",
    "    return list(set(LIST))"
   ]
  },
  {
   "cell_type": "code",
   "execution_count": 316,
   "metadata": {},
   "outputs": [
    {
     "data": {
      "text/plain": [
       "['APPLE', 'MANGO']"
      ]
     },
     "execution_count": 316,
     "metadata": {},
     "output_type": "execute_result"
    }
   ],
   "source": [
    "LIST=[\"APPLE\",\"MANGO\",\"APPLE\"]\n",
    "REMOVE_DUPLICATE(LIST)"
   ]
  },
  {
   "cell_type": "markdown",
   "metadata": {},
   "source": [
    "# COUNT THE WORDS IN A STRING"
   ]
  },
  {
   "cell_type": "code",
   "execution_count": 317,
   "metadata": {},
   "outputs": [],
   "source": [
    "def WORD_COUNT(TEXT):\n",
    "    return len(TEXT.split())"
   ]
  },
  {
   "cell_type": "code",
   "execution_count": 318,
   "metadata": {},
   "outputs": [
    {
     "data": {
      "text/plain": [
       "9"
      ]
     },
     "execution_count": 318,
     "metadata": {},
     "output_type": "execute_result"
    }
   ],
   "source": [
    "TEXT=\"I AM UJWAL AND I AM 21 YEAR OLD.\"\n",
    "WORD_COUNT(TEXT)"
   ]
  },
  {
   "cell_type": "markdown",
   "metadata": {},
   "source": [
    "# WORD COUNT 2"
   ]
  },
  {
   "cell_type": "code",
   "execution_count": 319,
   "metadata": {},
   "outputs": [],
   "source": [
    "def WORD_COUNT2(TEXT):\n",
    "    return TEXT.count(\" \")+1"
   ]
  },
  {
   "cell_type": "code",
   "execution_count": 320,
   "metadata": {},
   "outputs": [
    {
     "data": {
      "text/plain": [
       "9"
      ]
     },
     "execution_count": 320,
     "metadata": {},
     "output_type": "execute_result"
    }
   ],
   "source": [
    "WORD_COUNT2(TEXT)"
   ]
  },
  {
   "cell_type": "markdown",
   "metadata": {},
   "source": [
    "# WORD COUNT 3"
   ]
  },
  {
   "cell_type": "code",
   "execution_count": 321,
   "metadata": {},
   "outputs": [],
   "source": [
    "\n",
    "\n",
    "def WORD_COUNT3(TEXT):\n",
    "    from nltk.tokenize import word_tokenize\n",
    "    import re\n",
    "    import string\n",
    "    TEXT = re.sub(r\"\\d+\", \"\", TEXT)  # Removes digits\n",
    "    TEXT = re.sub(r\"\\s+\", \" \", TEXT.strip())  # Removes extra spaces\n",
    "    TEXT=TEXT.translate(str.maketrans(\"\",\"\",string.punctuation))\n",
    "    TEXT = word_tokenize(TEXT)  # Tokenizes text\n",
    "    return len(TEXT)\n"
   ]
  },
  {
   "cell_type": "code",
   "execution_count": 322,
   "metadata": {},
   "outputs": [
    {
     "data": {
      "text/plain": [
       "8"
      ]
     },
     "execution_count": 322,
     "metadata": {},
     "output_type": "execute_result"
    }
   ],
   "source": [
    "WORD_COUNT3(TEXT)"
   ]
  },
  {
   "cell_type": "markdown",
   "metadata": {},
   "source": [
    "# LONGEST WORD IN A TEXT:"
   ]
  },
  {
   "cell_type": "code",
   "execution_count": 323,
   "metadata": {},
   "outputs": [],
   "source": [
    "def LONGEST_WORD(TEXT):\n",
    "    LIST=list(TEXT.split())\n",
    "    longest_word=\"\"\n",
    "    for WORD in LIST:\n",
    "        if len(WORD) > len(longest_word):\n",
    "            longest_word=WORD\n",
    "        \n",
    "    return longest_word"
   ]
  },
  {
   "cell_type": "code",
   "execution_count": 324,
   "metadata": {},
   "outputs": [
    {
     "data": {
      "text/plain": [
       "'UJWAL'"
      ]
     },
     "execution_count": 324,
     "metadata": {},
     "output_type": "execute_result"
    }
   ],
   "source": [
    "LONGEST_WORD(TEXT)"
   ]
  },
  {
   "cell_type": "markdown",
   "metadata": {},
   "source": [
    "# CAPITALIZE FIRST LETTER OF EACH WORD"
   ]
  },
  {
   "cell_type": "code",
   "execution_count": 325,
   "metadata": {},
   "outputs": [],
   "source": [
    "def CAPITALIZE_WORD(TEXT):\n",
    "    cap_TEXT=\"\"\n",
    "    for word in TEXT.split():\n",
    "        cap_word=word.capitalize()\n",
    "        cap_TEXT += cap_word+\" \"  \n",
    "    return cap_TEXT    "
   ]
  },
  {
   "cell_type": "code",
   "execution_count": 326,
   "metadata": {},
   "outputs": [
    {
     "data": {
      "text/plain": [
       "'I Am Ujwal And I Am 21 Year Old. '"
      ]
     },
     "execution_count": 326,
     "metadata": {},
     "output_type": "execute_result"
    }
   ],
   "source": [
    "CAPITALIZE_WORD(TEXT)"
   ]
  },
  {
   "cell_type": "markdown",
   "metadata": {},
   "source": [
    "# CHECK ANAGRAM"
   ]
  },
  {
   "cell_type": "markdown",
   "metadata": {},
   "source": [
    "📜 **Logic to Check for Anagrams** 📜  \n",
    "\n",
    "🔍 **Two strings are considered anagrams if:**  \n",
    "\n",
    "✅ **Same Characters:** Both strings must contain identical characters.  \n",
    "✅ **Same Frequency:** Each character must appear the same number of times.  \n",
    "✅ **Order Doesn't Matter:** Character arrangement can differ.  \n",
    "\n",
    "💡 **Example:**  \n",
    "`Listen` 🔄 `Silent` → ✅ **Anagram**  \n",
    "`Hello` 🔄 `Olelh` → ✅ **Anagram**  \n",
    "`Python` 🔄 `Java` → ❌ **Not an Anagram**"
   ]
  },
  {
   "cell_type": "markdown",
   "metadata": {},
   "source": [
    "### 🛠️ **Logic to Build an Anagram Function**  \n",
    "\n",
    "1️⃣ **Clean the Strings**  \n",
    "- Remove spaces.  \n",
    "- Convert both strings to lowercase.  \n",
    "\n",
    "2️⃣ **Check Length**  \n",
    "- If the lengths are different → ❌ **Not an Anagram**  \n",
    "\n",
    "3️⃣ **Count Characters**  \n",
    "- Sort both strings.  \n",
    "- If sorted versions match → ✅ **Anagram**  \n",
    "\n",
    "---\n",
    "\n",
    "### 🔎 **Example Flow**  \n",
    "**Input:** `\"Listen\"` and `\"Silent\"`  \n",
    "\n",
    "➡️ Cleaned Strings → `\"listen\"` and `\"silent\"`  \n",
    "✅ Lowercasing → Ensures case differences don’t affect the result.\n",
    "\n",
    "✅ Removing Spaces → Ensures extra spaces are ignored.\n",
    "➡️ Length Check → **Same Length**  \n",
    "➡️ Sorted Strings → `\"eilnst\"` and `\"eilnst\"`  \n",
    "➡️ **Match Found** → ✅ **Anagram**"
   ]
  },
  {
   "cell_type": "code",
   "execution_count": 327,
   "metadata": {},
   "outputs": [],
   "source": [
    "def CHECK_ANAGRAM(TEXT1,TEXT2):\n",
    "    TEXT1=TEXT1.lower()\n",
    "    TEXT2=TEXT2.lower()\n",
    "    import re\n",
    "    TEXT1=re.sub(r\"\\s+\",\"\",TEXT1)\n",
    "    TEXT2=re.sub(r\"\\s+\",\"\",TEXT2)\n",
    "    if len(TEXT1)==len(TEXT2):\n",
    "        result= 1\n",
    "    else:\n",
    "        result= 0\n",
    "    if result==1:\n",
    "        if sorted(TEXT1)==sorted(TEXT2):\n",
    "            return \"they are anagram\"\n",
    "        else:\n",
    "            return \"they are not anagram\"\n",
    "    else :\n",
    "        return \"they are not anagram\" "
   ]
  },
  {
   "cell_type": "code",
   "execution_count": 328,
   "metadata": {},
   "outputs": [
    {
     "data": {
      "text/plain": [
       "'they are anagram'"
      ]
     },
     "execution_count": 328,
     "metadata": {},
     "output_type": "execute_result"
    }
   ],
   "source": [
    "TEXT1=\"i am ujwal\"\n",
    "TEXT2=\"i am ujwal\"\n",
    "CHECK_ANAGRAM(TEXT1,TEXT2)"
   ]
  },
  {
   "cell_type": "markdown",
   "metadata": {},
   "source": [
    "# CHECK ANAGRAM 2"
   ]
  },
  {
   "cell_type": "code",
   "execution_count": 329,
   "metadata": {},
   "outputs": [],
   "source": [
    "def CHECK_ANAGRAM2(TEXT1,TEXT2):\n",
    "    TEXT1=TEXT1.lower()\n",
    "    TEXT2=TEXT2.lower()\n",
    "    import re\n",
    "    TEXT1=re.sub(r\"\\s+\",\"\",TEXT1)\n",
    "    TEXT2=re.sub(r\"\\s+\",\"\",TEXT2)\n",
    "    if len(TEXT1) != len(TEXT2):\n",
    "        return \"THEY ARE NOT ANAGRAM\"\n",
    "    \n",
    "    if sorted(TEXT1) != sorted(TEXT2):\n",
    "        return \"THEY ARE NOT ANAGRAM\"\n",
    "    \n",
    "    else:\n",
    "        return \"THEY ARE ANAGRAM\"\n",
    "    "
   ]
  },
  {
   "cell_type": "code",
   "execution_count": 330,
   "metadata": {},
   "outputs": [
    {
     "data": {
      "text/plain": [
       "'THEY ARE ANAGRAM'"
      ]
     },
     "execution_count": 330,
     "metadata": {},
     "output_type": "execute_result"
    }
   ],
   "source": [
    "CHECK_ANAGRAM2(TEXT1,TEXT2)"
   ]
  },
  {
   "cell_type": "markdown",
   "metadata": {},
   "source": [
    "# COUNT ALL CHARECTER OCCUERRENCE IN A TEXT:"
   ]
  },
  {
   "cell_type": "code",
   "execution_count": 331,
   "metadata": {},
   "outputs": [],
   "source": [
    "def CHAR_OCCURRENCE_COUNT(TEXT):\n",
    "    from collections import Counter\n",
    "    return Counter(TEXT)\n",
    "    "
   ]
  },
  {
   "cell_type": "code",
   "execution_count": 332,
   "metadata": {},
   "outputs": [
    {
     "data": {
      "text/plain": [
       "Counter({' ': 8,\n",
       "         'A': 5,\n",
       "         'I': 2,\n",
       "         'M': 2,\n",
       "         'L': 2,\n",
       "         'D': 2,\n",
       "         'U': 1,\n",
       "         'J': 1,\n",
       "         'W': 1,\n",
       "         'N': 1,\n",
       "         '2': 1,\n",
       "         '1': 1,\n",
       "         'Y': 1,\n",
       "         'E': 1,\n",
       "         'R': 1,\n",
       "         'O': 1,\n",
       "         '.': 1})"
      ]
     },
     "execution_count": 332,
     "metadata": {},
     "output_type": "execute_result"
    }
   ],
   "source": [
    "CHAR_OCCURRENCE_COUNT(TEXT)"
   ]
  },
  {
   "cell_type": "markdown",
   "metadata": {},
   "source": [
    "# COUNT ALL CHARECTER OCCURRENCE IN A TEXT 2:"
   ]
  },
  {
   "cell_type": "code",
   "execution_count": 333,
   "metadata": {},
   "outputs": [
    {
     "data": {
      "text/plain": [
       "'I AM UJWAL AND I AM 21 YEAR OLD.'"
      ]
     },
     "execution_count": 333,
     "metadata": {},
     "output_type": "execute_result"
    }
   ],
   "source": [
    "TEXT"
   ]
  },
  {
   "cell_type": "code",
   "execution_count": 334,
   "metadata": {},
   "outputs": [
    {
     "name": "stdout",
     "output_type": "stream",
     "text": [
      "R = 1\n",
      "O = 1\n",
      "  = 8\n",
      "L = 2\n",
      "U = 1\n",
      "A = 5\n",
      "N = 1\n",
      "D = 2\n",
      "2 = 1\n",
      "J = 1\n",
      "1 = 1\n",
      "Y = 1\n",
      "W = 1\n",
      "M = 2\n",
      "I = 2\n",
      "E = 1\n",
      ". = 1\n"
     ]
    }
   ],
   "source": [
    "for char in set(TEXT):\n",
    "    print(F\"{char} = {TEXT.count(char)}\") "
   ]
  },
  {
   "cell_type": "code",
   "execution_count": 335,
   "metadata": {},
   "outputs": [
    {
     "name": "stdout",
     "output_type": "stream",
     "text": [
      "R\n",
      "O\n",
      " \n",
      "L\n",
      "U\n",
      "A\n",
      "N\n",
      "D\n",
      "2\n",
      "J\n",
      "1\n",
      "Y\n",
      "W\n",
      "M\n",
      "I\n",
      "E\n",
      ".\n"
     ]
    }
   ],
   "source": [
    "for char in set(TEXT):\n",
    "    print(char)"
   ]
  },
  {
   "cell_type": "markdown",
   "metadata": {},
   "source": [
    "# COUNT OF SINGLE CHARECTER OCCURENCE IN A TEXT:"
   ]
  },
  {
   "cell_type": "code",
   "execution_count": 336,
   "metadata": {},
   "outputs": [],
   "source": [
    "def SINGLE_CHAR_OCCURRENCE(TEXT, character):\n",
    "    count_of_a = 0\n",
    "    for char in TEXT:\n",
    "        if char == character or char == character.lower() or char == character.upper():       # making this function case insensitive..\n",
    "            count_of_a += 1\n",
    "    print(f\"{character} = {count_of_a}\") "
   ]
  },
  {
   "cell_type": "code",
   "execution_count": 337,
   "metadata": {},
   "outputs": [
    {
     "name": "stdout",
     "output_type": "stream",
     "text": [
      "A = 5\n"
     ]
    }
   ],
   "source": [
    "SINGLE_CHAR_OCCURRENCE(TEXT,\"A\")"
   ]
  },
  {
   "cell_type": "markdown",
   "metadata": {},
   "source": [
    "# COUNT OF SINGLE CHARECTER OCCURENCE IN A TEXT 2:"
   ]
  },
  {
   "cell_type": "code",
   "execution_count": 338,
   "metadata": {},
   "outputs": [],
   "source": [
    "def SINGLE_CHAR_OCCURRENCE2(TEXT, character):\n",
    "    return TEXT.count(character) or TEXT.count(character.upper())\n",
    "    "
   ]
  },
  {
   "cell_type": "code",
   "execution_count": 339,
   "metadata": {},
   "outputs": [
    {
     "data": {
      "text/plain": [
       "5"
      ]
     },
     "execution_count": 339,
     "metadata": {},
     "output_type": "execute_result"
    }
   ],
   "source": [
    "SINGLE_CHAR_OCCURRENCE2(TEXT,\"a\")"
   ]
  },
  {
   "cell_type": "markdown",
   "metadata": {},
   "source": [
    "# STRING TO LIST OF CHARACTER FUNCTION:"
   ]
  },
  {
   "cell_type": "code",
   "execution_count": 340,
   "metadata": {},
   "outputs": [],
   "source": [
    "def STRING_TO_LIST_CHAR(TEXT):\n",
    "    return list(TEXT)"
   ]
  },
  {
   "cell_type": "code",
   "execution_count": 341,
   "metadata": {},
   "outputs": [
    {
     "data": {
      "text/plain": [
       "['I',\n",
       " ' ',\n",
       " 'A',\n",
       " 'M',\n",
       " ' ',\n",
       " 'U',\n",
       " 'J',\n",
       " 'W',\n",
       " 'A',\n",
       " 'L',\n",
       " ' ',\n",
       " 'A',\n",
       " 'N',\n",
       " 'D',\n",
       " ' ',\n",
       " 'I',\n",
       " ' ',\n",
       " 'A',\n",
       " 'M',\n",
       " ' ',\n",
       " '2',\n",
       " '1',\n",
       " ' ',\n",
       " 'Y',\n",
       " 'E',\n",
       " 'A',\n",
       " 'R',\n",
       " ' ',\n",
       " 'O',\n",
       " 'L',\n",
       " 'D',\n",
       " '.']"
      ]
     },
     "execution_count": 341,
     "metadata": {},
     "output_type": "execute_result"
    }
   ],
   "source": [
    "STRING_TO_LIST_CHAR(TEXT)"
   ]
  },
  {
   "cell_type": "markdown",
   "metadata": {},
   "source": [
    "# STRING TO LIST OF CHARACTER 2"
   ]
  },
  {
   "cell_type": "code",
   "execution_count": 342,
   "metadata": {},
   "outputs": [],
   "source": [
    "def STRING_TO_LIST_CHAR2(TEXT):\n",
    "    LIST=[char for char in TEXT]\n",
    "    return LIST"
   ]
  },
  {
   "cell_type": "code",
   "execution_count": 343,
   "metadata": {},
   "outputs": [
    {
     "data": {
      "text/plain": [
       "['I',\n",
       " ' ',\n",
       " 'A',\n",
       " 'M',\n",
       " ' ',\n",
       " 'U',\n",
       " 'J',\n",
       " 'W',\n",
       " 'A',\n",
       " 'L',\n",
       " ' ',\n",
       " 'A',\n",
       " 'N',\n",
       " 'D',\n",
       " ' ',\n",
       " 'I',\n",
       " ' ',\n",
       " 'A',\n",
       " 'M',\n",
       " ' ',\n",
       " '2',\n",
       " '1',\n",
       " ' ',\n",
       " 'Y',\n",
       " 'E',\n",
       " 'A',\n",
       " 'R',\n",
       " ' ',\n",
       " 'O',\n",
       " 'L',\n",
       " 'D',\n",
       " '.']"
      ]
     },
     "execution_count": 343,
     "metadata": {},
     "output_type": "execute_result"
    }
   ],
   "source": [
    "STRING_TO_LIST_CHAR2(TEXT)"
   ]
  },
  {
   "cell_type": "markdown",
   "metadata": {},
   "source": [
    "# REPLACE SUBSTRING(CASE SENSITIVE)"
   ]
  },
  {
   "cell_type": "code",
   "execution_count": 344,
   "metadata": {},
   "outputs": [],
   "source": [
    "def REPLACE_SUBSTRING(TEXT,OLD,NEW):\n",
    "    TEXT = TEXT.replace(OLD,NEW)\n",
    "    return TEXT"
   ]
  },
  {
   "cell_type": "code",
   "execution_count": 345,
   "metadata": {},
   "outputs": [
    {
     "data": {
      "text/plain": [
       "'I AM UJWAL AND I AM 21 YEAR OLD.'"
      ]
     },
     "execution_count": 345,
     "metadata": {},
     "output_type": "execute_result"
    }
   ],
   "source": [
    "TEXT"
   ]
  },
  {
   "cell_type": "code",
   "execution_count": 346,
   "metadata": {},
   "outputs": [
    {
     "data": {
      "text/plain": [
       "'I AM nagesh AND I AM 21 YEAR OLD.'"
      ]
     },
     "execution_count": 346,
     "metadata": {},
     "output_type": "execute_result"
    }
   ],
   "source": [
    "REPLACE_SUBSTRING(TEXT,\"UJWAL\",\"nagesh\")"
   ]
  },
  {
   "cell_type": "markdown",
   "metadata": {},
   "source": [
    "# REPLACE SUBSTRING (CASE INSENSITIVE)"
   ]
  },
  {
   "cell_type": "code",
   "execution_count": 347,
   "metadata": {},
   "outputs": [],
   "source": [
    "def REPLACE_SUBSTRING_INSENSITIVE(TEXT,OLD,NEW):\n",
    "    if OLD in TEXT:\n",
    "        TEXT=TEXT.replace(OLD,NEW) # replace function does not modify the original text directly\n",
    "        return TEXT\n",
    "    elif OLD.lower() in TEXT:\n",
    "        TEXT_l=TEXT.replace(OLD.lower(),NEW)\n",
    "        return TEXT_l\n",
    "    elif OLD.upper() in TEXT:\n",
    "        TEXT_u=TEXT.replace(OLD.upper(),NEW)\n",
    "        return TEXT_u            "
   ]
  },
  {
   "cell_type": "code",
   "execution_count": 348,
   "metadata": {},
   "outputs": [],
   "source": [
    "REPLACE_SUBSTRING_INSENSITIVE(TEXT,\"nagesh\",\"UJWAL\")"
   ]
  },
  {
   "cell_type": "code",
   "execution_count": 349,
   "metadata": {},
   "outputs": [
    {
     "data": {
      "text/plain": [
       "'I AM UJWAL AND I AM 21 YEAR OLD.'"
      ]
     },
     "execution_count": 349,
     "metadata": {},
     "output_type": "execute_result"
    }
   ],
   "source": [
    "TEXT"
   ]
  },
  {
   "cell_type": "markdown",
   "metadata": {},
   "source": [
    "# REPLACE SUBSTRING (CASE INSENSITIVE)2"
   ]
  },
  {
   "cell_type": "code",
   "execution_count": 350,
   "metadata": {},
   "outputs": [],
   "source": [
    "def REPLACE_SUBSTRING_INSENSITIVE2(TEXT, OLD, NEW):\n",
    "    # Use re.IGNORECASE to handle all case variations\n",
    "    import re\n",
    "    return re.sub(re.escape(OLD), NEW, TEXT, flags=re.IGNORECASE)\n"
   ]
  },
  {
   "cell_type": "code",
   "execution_count": 351,
   "metadata": {},
   "outputs": [
    {
     "data": {
      "text/plain": [
       "'I AM nagesh AND I AM 21 YEAR OLD.'"
      ]
     },
     "execution_count": 351,
     "metadata": {},
     "output_type": "execute_result"
    }
   ],
   "source": [
    "REPLACE_SUBSTRING_INSENSITIVE2(TEXT,\"UJWAL\",\"nagesh\")"
   ]
  },
  {
   "cell_type": "markdown",
   "metadata": {},
   "source": [
    "# REPLACE SUBSTRING (CASE INSENSITIVE)3"
   ]
  },
  {
   "cell_type": "code",
   "execution_count": 352,
   "metadata": {},
   "outputs": [],
   "source": [
    "def REPLACE_SUBSTRING_INSENSITIVE3(TEXT,OLD,NEW):\n",
    "    text=TEXT.lower()\n",
    "    old=OLD.lower()\n",
    "    new=NEW.lower()\n",
    "    TEXT=text.replace(old,new)\n",
    "    return TEXT"
   ]
  },
  {
   "cell_type": "code",
   "execution_count": 353,
   "metadata": {},
   "outputs": [
    {
     "data": {
      "text/plain": [
       "'i am ujwal and i am 21 year old.'"
      ]
     },
     "execution_count": 353,
     "metadata": {},
     "output_type": "execute_result"
    }
   ],
   "source": [
    "REPLACE_SUBSTRING_INSENSITIVE3(TEXT,\"nagesh\",\"UJWAL\")"
   ]
  },
  {
   "cell_type": "code",
   "execution_count": 354,
   "metadata": {},
   "outputs": [],
   "source": [
    "TEXT=\"I AM UJWAL AND I AM 21 YEAR OLD.\""
   ]
  },
  {
   "cell_type": "markdown",
   "metadata": {},
   "source": [
    "# REPLACE SUBSTRING THE NEW WORD SHOULD BE ACCORDING TO CASE OF SENTENCE."
   ]
  },
  {
   "cell_type": "code",
   "execution_count": 355,
   "metadata": {},
   "outputs": [],
   "source": [
    "def REPLACE_SUBSTRING2(TEXT, OLD, NEW):\n",
    "    def CASE_NEW(NEW):\n",
    "        if OLD.isupper():\n",
    "            return NEW.upper()\n",
    "        elif OLD.islower():\n",
    "            return NEW.lower()\n",
    "        else:\n",
    "            return NEW.capitalize()\n",
    "\n",
    "    TEXT = TEXT.replace(OLD, CASE_NEW(NEW))  \n",
    "    return TEXT\n"
   ]
  },
  {
   "cell_type": "code",
   "execution_count": 356,
   "metadata": {},
   "outputs": [
    {
     "data": {
      "text/plain": [
       "'I AM UJWAL AND I AM 21 YEAR OLD.'"
      ]
     },
     "execution_count": 356,
     "metadata": {},
     "output_type": "execute_result"
    }
   ],
   "source": [
    "TEXT"
   ]
  },
  {
   "cell_type": "code",
   "execution_count": 358,
   "metadata": {},
   "outputs": [
    {
     "data": {
      "text/plain": [
       "'I AM NAGESH AND I AM 21 YEAR OLD.'"
      ]
     },
     "execution_count": 358,
     "metadata": {},
     "output_type": "execute_result"
    }
   ],
   "source": [
    "REPLACE_SUBSTRING2(TEXT,\"UJWAL\",\"nagesh\")"
   ]
  },
  {
   "cell_type": "markdown",
   "metadata": {},
   "source": []
  }
 ],
 "metadata": {
  "kernelspec": {
   "display_name": "Python 3",
   "language": "python",
   "name": "python3"
  },
  "language_info": {
   "codemirror_mode": {
    "name": "ipython",
    "version": 3
   },
   "file_extension": ".py",
   "mimetype": "text/x-python",
   "name": "python",
   "nbconvert_exporter": "python",
   "pygments_lexer": "ipython3",
   "version": "3.11.9"
  }
 },
 "nbformat": 4,
 "nbformat_minor": 2
}
