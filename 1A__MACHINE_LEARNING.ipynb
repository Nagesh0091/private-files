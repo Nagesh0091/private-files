{
 "cells": [
  {
   "cell_type": "markdown",
   "id": "b8815fe9",
   "metadata": {},
   "source": [
    "# 🤖 MACHINE LEARNING\n"
   ]
  },
  {
   "cell_type": "markdown",
   "id": "a1912534",
   "metadata": {},
   "source": [
    "\n",
    "A branch of **Artificial Intelligence (AI)** that focuses on **building systems** which **learn from data** and make **decisions** based on it.\n",
    "\n",
    "---\n",
    "\n",
    "## 🌟 Types of Machine Learning\n",
    "\n",
    "\n",
    "\n",
    "### 🔵 **Supervised Learning**\n",
    "\n",
    "> 📌 The machine learns using **labeled data** (data with correct answers).\n",
    "\n",
    "> 🎯 Goal: **Predict output** for new, unseen data.\n",
    "\n",
    "📚 **Example:**\n",
    "\n",
    "If we give data like:\n",
    "\n",
    "`📖 Hours Studied → 📝 Marks Scored`\n",
    "\n",
    "The machine learns this pattern and can **predict marks** for new students.\n",
    "\n",
    "---\n",
    "\n",
    "### 🟢 **Unsupervised Learning**\n",
    "\n",
    "> 📌 The machine learns using **unlabeled data** (no answers).\n",
    "\n",
    "> 🎯 Goal: **Find hidden patterns or groupings** in the data.\n",
    "\n",
    "📚 **Example:**\n",
    "\n",
    "Given customer data like `Age, Income`, it can group similar customers —\n",
    "🧑‍💼👩‍💼 **Customer Segmentation**.\n",
    "\n",
    "---\n",
    "\n",
    "### 🔴 **Reinforcement Learning**\n",
    "\n",
    "> 📌 The machine learns by **interacting with an environment** and receiving **rewards or penalties**.\n",
    "\n",
    "> 🎯 Goal: Learn the **best actions** to maximize rewards.\n",
    "\n",
    "📚 **Example:**\n",
    "\n",
    "A **self-driving car** gets a:\n",
    "\n",
    "✅ **Reward** for staying in the lane\n",
    "\n",
    "❌ **Penalty** for crashing\n",
    "\n",
    "\n"
   ]
  },
  {
   "cell_type": "code",
   "execution_count": null,
   "id": "3c06800a",
   "metadata": {},
   "outputs": [],
   "source": []
  }
 ],
 "metadata": {
  "kernelspec": {
   "display_name": "Python 3",
   "language": "python",
   "name": "python3"
  },
  "language_info": {
   "name": "python",
   "version": "3.11.9"
  }
 },
 "nbformat": 4,
 "nbformat_minor": 5
}
