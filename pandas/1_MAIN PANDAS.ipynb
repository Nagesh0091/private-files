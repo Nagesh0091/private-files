{
 "cells": [
  {
   "cell_type": "markdown",
   "id": "525d311e",
   "metadata": {},
   "source": [
    "# **❤️PANDAS❤️**"
   ]
  },
  {
   "cell_type": "markdown",
   "id": "c3975f9c",
   "metadata": {},
   "source": [
    "\n",
    "---\n",
    "\n",
    "# 🐼 What is Pandas?\n",
    "\n",
    "**Pandas** is a Python library used to work with **tables** (rows and columns) easily.\n",
    "\n",
    "It is mainly used for:\n",
    "- Data loading (CSV, Excel,SQL,etc)\n",
    "- Data Manupulation (removing missing values, fixing errors,etc)\n",
    "- Analyzing data (statistics, group by)\n",
    "- Preparing data for machine learning\n",
    "- Saving data (exporting to CSV, Excel)\n",
    "\n",
    "---\n",
    "\n",
    "# 🔥 Main Tools inside Pandas:\n",
    "| Name | Meaning |\n",
    "|:----|:--------|\n",
    "| `DataFrame` | A full table (rows + columns) |\n",
    "| `Series` | Just one column or one row |\n",
    "\n",
    "---\n",
    "\n"
   ]
  }
 ],
 "metadata": {
  "kernelspec": {
   "display_name": "Python 3",
   "language": "python",
   "name": "python3"
  },
  "language_info": {
   "name": "python",
   "version": "3.11.9"
  }
 },
 "nbformat": 4,
 "nbformat_minor": 5
}
