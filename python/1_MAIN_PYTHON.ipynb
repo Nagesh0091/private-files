{
 "cells": [
  {
   "cell_type": "markdown",
   "metadata": {},
   "source": [
    "# **❤️ PYTHON ❤️**"
   ]
  },
  {
   "cell_type": "markdown",
   "metadata": {},
   "source": [
    "PYTHON is a powerful versatile programming language use for:\n",
    "\n",
    "      🕸️WEB DEVELOPMENT\n",
    "\n",
    "      📅DATA ANALYSIS\n",
    "\n",
    "      🏧AUTOMATION \n",
    "\n",
    "      🤖AI\n",
    "\n",
    "      🧑‍💻MACHINE LEARNING AND MORE\n",
    "\n",
    "It offers extensive libraries and framework:\n",
    "\n",
    "**WHAT IS THE MEAN BY LIBRARY ?**\n",
    "\n",
    "A library is a collection of pre-written code that you can use to perform common tasks.\n",
    "\n",
    "✅ You call it when needed, and it helps avoid writing code from scratch.\n",
    "\n",
    "📌 Example: math, pandas, NumPy in Python.\n",
    "\n",
    "**WHAT IS THE MEAN BY FRAMEWORK ?**\n",
    "\n",
    "A framework is a ready-to-use structure for building applications.\n",
    "\n",
    "✅ It controls the flow of your program and tells you where to add your code.\n",
    "\n",
    "📌 Example: Django for web apps, TensorFlow for machine learning.\n",
    "\n",
    "**WHAT IS THE MEAN BY PACKAGE ?**\n",
    "\n",
    "A package is a folder that contains Python modules (files with .py code).\n",
    "\n",
    "✅ It helps organize code into manageable parts.\n",
    "\n",
    "📌 Example: sklearn is a package; inside it are modules like sklearn.linear_model.\n",
    "\n",
    "**WHAT IS THE MEAN BY CLASS ?**\n",
    "\n",
    "A class is a blueprint to create objects.\n",
    "\n",
    "✅ It groups data (variables) and functions (methods) together.      \n"
   ]
  },
  {
   "cell_type": "markdown",
   "metadata": {},
   "source": [
    "---\n",
    "---"
   ]
  },
  {
   "cell_type": "markdown",
   "metadata": {},
   "source": [
    "### **😍😍SOME OF THE POPULAR PYTHON LYBRARIES INCLUDES**\n",
    "\n",
    "\n",
    "\n",
    "---\n",
    "\n",
    "### 🔢 **Data Manipulation & Analysis**\n",
    "- **NumPy** – Used for fast numerical computations and handling arrays.  \n",
    "- **pandas** – For data manipulation and analysis using DataFrames.\n",
    "\n",
    "---\n",
    "\n",
    "### 📊 **Data Visualization**\n",
    "- **matplotlib** – Basic plotting like line, bar, and scatter plots.  \n",
    "- **seaborn** – Statistical data visualization with built-in themes.  \n",
    "- **plotly** – Interactive and dynamic charts.\n",
    "\n",
    "---\n",
    "\n",
    "### 📚 **Machine Learning**\n",
    "- **scikit-learn** – for machine learning algorithms and tools.  \n",
    "- **XGBoost** – High-performance gradient boosting algorithm.  \n",
    "- **LightGBM** – Fast gradient boosting framework by Microsoft.  \n",
    "- **CatBoost** – Gradient boosting library for categorical data.\n",
    "\n",
    "---\n",
    "\n",
    "### 🤖 **Deep Learning**\n",
    "- **TensorFlow** – Powerful deep learning framework by Google.  \n",
    "- **Keras** – High-level API for building neural networks (runs on TensorFlow).  \n",
    "- **PyTorch** – Flexible deep learning library by Facebook.\n",
    "\n",
    "---\n",
    "\n",
    "### 🧹 **Data Cleaning & Preprocessing**\n",
    "- **re** – Regular expressions for pattern matching in text.  \n",
    "- **nltk** – Natural language processing tools.  \n",
    "- **spaCy** – Fast NLP processing (like tokenization, tagging).\n",
    "\n",
    "---\n",
    "\n",
    "### 🌐 **Web Development**\n",
    "- **Flask** – Lightweight web framework.  \n",
    "- **Django** – Full-featured web framework.\n",
    "\n",
    "---\n",
    "\n",
    "### 📦 **Utilities**\n",
    "- **os** – Interact with the operating system.  \n",
    "- **sys** – Access Python runtime environment.  \n",
    "- **datetime** – Deal with dates and times.  \n",
    "- **json** – Handle JSON data.\n",
    "\n",
    "---\n",
    "\n",
    "Here are the main **Python libraries for Object Detection**, with a **one-line explanation** for each:\n",
    "\n",
    "---\n",
    "\n",
    "### 📦 **Object Detection Libraries**\n",
    "\n",
    "- **OpenCV** – Offers object detection using Haar cascades and deep learning (DNN module).  \n",
    " - **PyTorch** – Supports object detection using models like Faster R-CNN, SSD, YOLO through `torchvision`.  \n",
    "- **YOLO (You Only Look Once)** – Real-time object detection using pre-trained weights (via `ultralytics` or `darknet`).  \n",
    "- **Detectron2** – Facebook AI’s library for state-of-the-art object detection and segmentation (based on PyTorch).  \n",
    "- **MMDetection** – OpenMMLab’s powerful object detection toolbox based on PyTorch.  \n",
    "- **ImageAI** – High-level library to run object detection with a few lines of code (built on TensorFlow).  \n",
    "- **KerasCV** – Keras extension that includes YOLO and object detection models for fast prototyping.\n",
    "\n",
    "---\n",
    "\n",
    "Here are the main **Python libraries for Sentiment Analysis** with a one-line explanation for each:\n",
    "\n",
    "---\n",
    "\n",
    "### 💬 **Sentiment Analysis Libraries**\n",
    "\n",
    "- **TextBlob** – Simple NLP tool for sentiment, polarity, and subjectivity analysis.  \n",
    "- **VADER (from NLTK)** – Rule-based sentiment analyzer tuned for social media text.  \n",
    "- **NLTK** – Provides tools to preprocess text and can be used with classifiers for sentiment.  \n",
    "- **spaCy** – Fast NLP library, often combined with external models for sentiment tasks.  \n",
    "- **Transformers (Hugging Face)** – Use pre-trained models like BERT for state-of-the-art sentiment analysis.  \n",
    "- **Flair** – Easy-to-use NLP library with pre-trained sentiment models.  \n",
    "- **AllenNLP** – NLP research library with models for classification including sentiment.  \n",
    "- **Gensim** – Mainly for topic modeling and word embeddings, but can support sentiment pipelines.  \n",
    "- **StanfordNLP / Stanza** – Stanford's models with multilingual sentiment support.\n",
    "\n",
    "---\n",
    "\n"
   ]
  },
  {
   "cell_type": "code",
   "execution_count": 5,
   "metadata": {},
   "outputs": [
    {
     "name": "stdout",
     "output_type": "stream",
     "text": [
      "2.0\n"
     ]
    }
   ],
   "source": [
    "# numpy\n",
    "import numpy as np\n",
    "arr = np.array([1, 2, 3])\n",
    "print(np.mean(arr))  # Output: 2.0\n"
   ]
  },
  {
   "cell_type": "code",
   "execution_count": 6,
   "metadata": {},
   "outputs": [
    {
     "name": "stdout",
     "output_type": "stream",
     "text": [
      "A    3\n",
      "B    7\n",
      "dtype: int64\n"
     ]
    }
   ],
   "source": [
    "# pandas \n",
    "import pandas as pd\n",
    "df = pd.DataFrame({'A': [1, 2], 'B': [3, 4]})\n",
    "print(df.sum())  # Sum by column\n"
   ]
  },
  {
   "cell_type": "code",
   "execution_count": 7,
   "metadata": {},
   "outputs": [
    {
     "data": {
      "image/png": "[encoded data removed]",
      "text/plain": [
       "<Figure size 640x480 with 1 Axes>"
      ]
     },
     "metadata": {},
     "output_type": "display_data"
    }
   ],
   "source": [
    "# matplotlib\n",
    "import matplotlib.pyplot as plt\n",
    "plt.plot([1, 2, 3], [4, 5, 6])\n",
    "plt.show()\n"
   ]
  },
  {
   "cell_type": "code",
   "execution_count": 8,
   "metadata": {},
   "outputs": [
    {
     "data": {
      "text/plain": [
       "<Axes: >"
      ]
     },
     "execution_count": 8,
     "metadata": {},
     "output_type": "execute_result"
    },
    {
     "data": {
      "image/png": "[encoded data removed]",
      "text/plain": [
       "<Figure size 640x480 with 1 Axes>"
      ]
     },
     "metadata": {},
     "output_type": "display_data"
    }
   ],
   "source": [
    "# seaborn\n",
    "import seaborn as sns\n",
    "sns.boxplot(data=[1, 2, 2, 3, 4])\n"
   ]
  },
  {
   "cell_type": "code",
   "execution_count": 9,
   "metadata": {},
   "outputs": [
    {
     "data": {
      "application/vnd.plotly.v1+json": {
       "config": {
        "plotlyServerURL": "https://plot.ly"
       },
       "data": [
        {
         "alignmentgroup": "True",
         "hovertemplate": "x=%{x}<br>y=%{y}<extra></extra>",
         "legendgroup": "",
         "marker": {
          "color": "#636efa",
          "pattern": {
           "shape": ""
          }
         },
         "name": "",
         "offsetgroup": "",
         "orientation": "v",
         "showlegend": false,
         "textposition": "auto",
         "type": "bar",
         "x": [
          "A",
          "B"
         ],
         "xaxis": "x",
         "y": [
          10,
          20
         ],
         "yaxis": "y"
        }
       ],
       "layout": {
        "barmode": "relative",
        "legend": {
         "tracegroupgap": 0
        },
        "margin": {
         "t": 60
        },
        "template": {
         "data": {
          "bar": [
           {
            "error_x": {
             "color": "#2a3f5f"
            },
            "error_y": {
             "color": "#2a3f5f"
            },
            "marker": {
             "line": {
              "color": "#E5ECF6",
              "width": 0.5
             },
             "pattern": {
              "fillmode": "overlay",
              "size": 10,
              "solidity": 0.2
             }
            },
            "type": "bar"
           }
          ],
          "barpolar": [
           {
            "marker": {
             "line": {
              "color": "#E5ECF6",
              "width": 0.5
             },
             "pattern": {
              "fillmode": "overlay",
              "size": 10,
              "solidity": 0.2
             }
            },
            "type": "barpolar"
           }
          ],
          "carpet": [
           {
            "aaxis": {
             "endlinecolor": "#2a3f5f",
             "gridcolor": "white",
             "linecolor": "white",
             "minorgridcolor": "white",
             "startlinecolor": "#2a3f5f"
            },
            "baxis": {
             "endlinecolor": "#2a3f5f",
             "gridcolor": "white",
             "linecolor": "white",
             "minorgridcolor": "white",
             "startlinecolor": "#2a3f5f"
            },
            "type": "carpet"
           }
          ],
          "choropleth": [
           {
            "colorbar": {
             "outlinewidth": 0,
             "ticks": ""
            },
            "type": "choropleth"
           }
          ],
          "contour": [
           {
            "colorbar": {
             "outlinewidth": 0,
             "ticks": ""
            },
            "colorscale": [
             [
              0,
              "#0d0887"
             ],
             [
              0.1111111111111111,
              "#46039f"
             ],
             [
              0.2222222222222222,
              "#7201a8"
             ],
             [
              0.3333333333333333,
              "#9c179e"
             ],
             [
              0.4444444444444444,
              "#bd3786"
             ],
             [
              0.5555555555555556,
              "#d8576b"
             ],
             [
              0.6666666666666666,
              "#ed7953"
             ],
             [
              0.7777777777777778,
              "#fb9f3a"
             ],
             [
              0.8888888888888888,
              "#fdca26"
             ],
             [
              1,
              "#f0f921"
             ]
            ],
            "type": "contour"
           }
          ],
          "contourcarpet": [
           {
            "colorbar": {
             "outlinewidth": 0,
             "ticks": ""
            },
            "type": "contourcarpet"
           }
          ],
          "heatmap": [
           {
            "colorbar": {
             "outlinewidth": 0,
             "ticks": ""
            },
            "colorscale": [
             [
              0,
              "#0d0887"
             ],
             [
              0.1111111111111111,
              "#46039f"
             ],
             [
              0.2222222222222222,
              "#7201a8"
             ],
             [
              0.3333333333333333,
              "#9c179e"
             ],
             [
              0.4444444444444444,
              "#bd3786"
             ],
             [
              0.5555555555555556,
              "#d8576b"
             ],
             [
              0.6666666666666666,
              "#ed7953"
             ],
             [
              0.7777777777777778,
              "#fb9f3a"
             ],
             [
              0.8888888888888888,
              "#fdca26"
             ],
             [
              1,
              "#f0f921"
             ]
            ],
            "type": "heatmap"
           }
          ],
          "heatmapgl": [
           {
            "colorbar": {
             "outlinewidth": 0,
             "ticks": ""
            },
            "colorscale": [
             [
              0,
              "#0d0887"
             ],
             [
              0.1111111111111111,
              "#46039f"
             ],
             [
              0.2222222222222222,
              "#7201a8"
             ],
             [
              0.3333333333333333,
              "#9c179e"
             ],
             [
              0.4444444444444444,
              "#bd3786"
             ],
             [
              0.5555555555555556,
              "#d8576b"
             ],
             [
              0.6666666666666666,
              "#ed7953"
             ],
             [
              0.7777777777777778,
              "#fb9f3a"
             ],
             [
              0.8888888888888888,
              "#fdca26"
             ],
             [
              1,
              "#f0f921"
             ]
            ],
            "type": "heatmapgl"
           }
          ],
          "histogram": [
           {
            "marker": {
             "pattern": {
              "fillmode": "overlay",
              "size": 10,
              "solidity": 0.2
             }
            },
            "type": "histogram"
           }
          ],
          "histogram2d": [
           {
            "colorbar": {
             "outlinewidth": 0,
             "ticks": ""
            },
            "colorscale": [
             [
              0,
              "#0d0887"
             ],
             [
              0.1111111111111111,
              "#46039f"
             ],
             [
              0.2222222222222222,
              "#7201a8"
             ],
             [
              0.3333333333333333,
              "#9c179e"
             ],
             [
              0.4444444444444444,
              "#bd3786"
             ],
             [
              0.5555555555555556,
              "#d8576b"
             ],
             [
              0.6666666666666666,
              "#ed7953"
             ],
             [
              0.7777777777777778,
              "#fb9f3a"
             ],
             [
              0.8888888888888888,
              "#fdca26"
             ],
             [
              1,
              "#f0f921"
             ]
            ],
            "type": "histogram2d"
           }
          ],
          "histogram2dcontour": [
           {
            "colorbar": {
             "outlinewidth": 0,
             "ticks": ""
            },
            "colorscale": [
             [
              0,
              "#0d0887"
             ],
             [
              0.1111111111111111,
              "#46039f"
             ],
             [
              0.2222222222222222,
              "#7201a8"
             ],
             [
              0.3333333333333333,
              "#9c179e"
             ],
             [
              0.4444444444444444,
              "#bd3786"
             ],
             [
              0.5555555555555556,
              "#d8576b"
             ],
             [
              0.6666666666666666,
              "#ed7953"
             ],
             [
              0.7777777777777778,
              "#fb9f3a"
             ],
             [
              0.8888888888888888,
              "#fdca26"
             ],
             [
              1,
              "#f0f921"
             ]
            ],
            "type": "histogram2dcontour"
           }
          ],
          "mesh3d": [
           {
            "colorbar": {
             "outlinewidth": 0,
             "ticks": ""
            },
            "type": "mesh3d"
           }
          ],
          "parcoords": [
           {
            "line": {
             "colorbar": {
              "outlinewidth": 0,
              "ticks": ""
             }
            },
            "type": "parcoords"
           }
          ],
          "pie": [
           {
            "automargin": true,
            "type": "pie"
           }
          ],
          "scatter": [
           {
            "fillpattern": {
             "fillmode": "overlay",
             "size": 10,
             "solidity": 0.2
            },
            "type": "scatter"
           }
          ],
          "scatter3d": [
           {
            "line": {
             "colorbar": {
              "outlinewidth": 0,
              "ticks": ""
             }
            },
            "marker": {
             "colorbar": {
              "outlinewidth": 0,
              "ticks": ""
             }
            },
            "type": "scatter3d"
           }
          ],
          "scattercarpet": [
           {
            "marker": {
             "colorbar": {
              "outlinewidth": 0,
              "ticks": ""
             }
            },
            "type": "scattercarpet"
           }
          ],
          "scattergeo": [
           {
            "marker": {
             "colorbar": {
              "outlinewidth": 0,
              "ticks": ""
             }
            },
            "type": "scattergeo"
           }
          ],
          "scattergl": [
           {
            "marker": {
             "colorbar": {
              "outlinewidth": 0,
              "ticks": ""
             }
            },
            "type": "scattergl"
           }
          ],
          "scattermapbox": [
           {
            "marker": {
             "colorbar": {
              "outlinewidth": 0,
              "ticks": ""
             }
            },
            "type": "scattermapbox"
           }
          ],
          "scatterpolar": [
           {
            "marker": {
             "colorbar": {
              "outlinewidth": 0,
              "ticks": ""
             }
            },
            "type": "scatterpolar"
           }
          ],
          "scatterpolargl": [
           {
            "marker": {
             "colorbar": {
              "outlinewidth": 0,
              "ticks": ""
             }
            },
            "type": "scatterpolargl"
           }
          ],
          "scatterternary": [
           {
            "marker": {
             "colorbar": {
              "outlinewidth": 0,
              "ticks": ""
             }
            },
            "type": "scatterternary"
           }
          ],
          "surface": [
           {
            "colorbar": {
             "outlinewidth": 0,
             "ticks": ""
            },
            "colorscale": [
             [
              0,
              "#0d0887"
             ],
             [
              0.1111111111111111,
              "#46039f"
             ],
             [
              0.2222222222222222,
              "#7201a8"
             ],
             [
              0.3333333333333333,
              "#9c179e"
             ],
             [
              0.4444444444444444,
              "#bd3786"
             ],
             [
              0.5555555555555556,
              "#d8576b"
             ],
             [
              0.6666666666666666,
              "#ed7953"
             ],
             [
              0.7777777777777778,
              "#fb9f3a"
             ],
             [
              0.8888888888888888,
              "#fdca26"
             ],
             [
              1,
              "#f0f921"
             ]
            ],
            "type": "surface"
           }
          ],
          "table": [
           {
            "cells": {
             "fill": {
              "color": "#EBF0F8"
             },
             "line": {
              "color": "white"
             }
            },
            "header": {
             "fill": {
              "color": "#C8D4E3"
             },
             "line": {
              "color": "white"
             }
            },
            "type": "table"
           }
          ]
         },
         "layout": {
          "annotationdefaults": {
           "arrowcolor": "#2a3f5f",
           "arrowhead": 0,
           "arrowwidth": 1
          },
          "autotypenumbers": "strict",
          "coloraxis": {
           "colorbar": {
            "outlinewidth": 0,
            "ticks": ""
           }
          },
          "colorscale": {
           "diverging": [
            [
             0,
             "#8e0152"
            ],
            [
             0.1,
             "#c51b7d"
            ],
            [
             0.2,
             "#de77ae"
            ],
            [
             0.3,
             "#f1b6da"
            ],
            [
             0.4,
             "#fde0ef"
            ],
            [
             0.5,
             "#f7f7f7"
            ],
            [
             0.6,
             "#e6f5d0"
            ],
            [
             0.7,
             "#b8e186"
            ],
            [
             0.8,
             "#7fbc41"
            ],
            [
             0.9,
             "#4d9221"
            ],
            [
             1,
             "#276419"
            ]
           ],
           "sequential": [
            [
             0,
             "#0d0887"
            ],
            [
             0.1111111111111111,
             "#46039f"
            ],
            [
             0.2222222222222222,
             "#7201a8"
            ],
            [
             0.3333333333333333,
             "#9c179e"
            ],
            [
             0.4444444444444444,
             "#bd3786"
            ],
            [
             0.5555555555555556,
             "#d8576b"
            ],
            [
             0.6666666666666666,
             "#ed7953"
            ],
            [
             0.7777777777777778,
             "#fb9f3a"
            ],
            [
             0.8888888888888888,
             "#fdca26"
            ],
            [
             1,
             "#f0f921"
            ]
           ],
           "sequentialminus": [
            [
             0,
             "#0d0887"
            ],
            [
             0.1111111111111111,
             "#46039f"
            ],
            [
             0.2222222222222222,
             "#7201a8"
            ],
            [
             0.3333333333333333,
             "#9c179e"
            ],
            [
             0.4444444444444444,
             "#bd3786"
            ],
            [
             0.5555555555555556,
             "#d8576b"
            ],
            [
             0.6666666666666666,
             "#ed7953"
            ],
            [
             0.7777777777777778,
             "#fb9f3a"
            ],
            [
             0.8888888888888888,
             "#fdca26"
            ],
            [
             1,
             "#f0f921"
            ]
           ]
          },
          "colorway": [
           "#636efa",
           "#EF553B",
           "#00cc96",
           "#ab63fa",
           "#FFA15A",
           "#19d3f3",
           "#FF6692",
           "#B6E880",
           "#FF97FF",
           "#FECB52"
          ],
          "font": {
           "color": "#2a3f5f"
          },
          "geo": {
           "bgcolor": "white",
           "lakecolor": "white",
           "landcolor": "#E5ECF6",
           "showlakes": true,
           "showland": true,
           "subunitcolor": "white"
          },
          "hoverlabel": {
           "align": "left"
          },
          "hovermode": "closest",
          "mapbox": {
           "style": "light"
          },
          "paper_bgcolor": "white",
          "plot_bgcolor": "#E5ECF6",
          "polar": {
           "angularaxis": {
            "gridcolor": "white",
            "linecolor": "white",
            "ticks": ""
           },
           "bgcolor": "#E5ECF6",
           "radialaxis": {
            "gridcolor": "white",
            "linecolor": "white",
            "ticks": ""
           }
          },
          "scene": {
           "xaxis": {
            "backgroundcolor": "#E5ECF6",
            "gridcolor": "white",
            "gridwidth": 2,
            "linecolor": "white",
            "showbackground": true,
            "ticks": "",
            "zerolinecolor": "white"
           },
           "yaxis": {
            "backgroundcolor": "#E5ECF6",
            "gridcolor": "white",
            "gridwidth": 2,
            "linecolor": "white",
            "showbackground": true,
            "ticks": "",
            "zerolinecolor": "white"
           },
           "zaxis": {
            "backgroundcolor": "#E5ECF6",
            "gridcolor": "white",
            "gridwidth": 2,
            "linecolor": "white",
            "showbackground": true,
            "ticks": "",
            "zerolinecolor": "white"
           }
          },
          "shapedefaults": {
           "line": {
            "color": "#2a3f5f"
           }
          },
          "ternary": {
           "aaxis": {
            "gridcolor": "white",
            "linecolor": "white",
            "ticks": ""
           },
           "baxis": {
            "gridcolor": "white",
            "linecolor": "white",
            "ticks": ""
           },
           "bgcolor": "#E5ECF6",
           "caxis": {
            "gridcolor": "white",
            "linecolor": "white",
            "ticks": ""
           }
          },
          "title": {
           "x": 0.05
          },
          "xaxis": {
           "automargin": true,
           "gridcolor": "white",
           "linecolor": "white",
           "ticks": "",
           "title": {
            "standoff": 15
           },
           "zerolinecolor": "white",
           "zerolinewidth": 2
          },
          "yaxis": {
           "automargin": true,
           "gridcolor": "white",
           "linecolor": "white",
           "ticks": "",
           "title": {
            "standoff": 15
           },
           "zerolinecolor": "white",
           "zerolinewidth": 2
          }
         }
        },
        "xaxis": {
         "anchor": "y",
         "domain": [
          0,
          1
         ],
         "title": {
          "text": "x"
         }
        },
        "yaxis": {
         "anchor": "x",
         "domain": [
          0,
          1
         ],
         "title": {
          "text": "y"
         }
        }
       }
      }
     },
     "metadata": {},
     "output_type": "display_data"
    }
   ],
   "source": [
    "# plotly \n",
    "import plotly.express as px\n",
    "fig = px.bar(x=[\"A\", \"B\"], y=[10, 20])\n",
    "fig.show()\n"
   ]
  },
  {
   "cell_type": "code",
   "execution_count": 11,
   "metadata": {},
   "outputs": [
    {
     "name": "stdout",
     "output_type": "stream",
     "text": [
      "[6.]\n"
     ]
    }
   ],
   "source": [
    "# scikit-learn\n",
    "from sklearn.linear_model import LinearRegression\n",
    "model = LinearRegression().fit([[1], [2]], [2, 4])\n",
    "print(model.predict([[3]]))  # Predict for input 3\n"
   ]
  },
  {
   "cell_type": "code",
   "execution_count": 12,
   "metadata": {},
   "outputs": [
    {
     "name": "stdout",
     "output_type": "stream",
     "text": [
      "[3.9990773]\n"
     ]
    }
   ],
   "source": [
    "# xgboost\n",
    "import xgboost as xgb\n",
    "model = xgb.XGBRegressor().fit([[1], [2]], [2, 4])\n",
    "print(model.predict([[3]]))\n"
   ]
  },
  {
   "cell_type": "code",
   "execution_count": 13,
   "metadata": {},
   "outputs": [
    {
     "ename": "ModuleNotFoundError",
     "evalue": "No module named 'lightgbm'",
     "output_type": "error",
     "traceback": [
      "\u001b[1;31m---------------------------------------------------------------------------\u001b[0m",
      "\u001b[1;31mModuleNotFoundError\u001b[0m                       Traceback (most recent call last)",
      "Cell \u001b[1;32mIn[13], line 2\u001b[0m\n\u001b[0;32m      1\u001b[0m \u001b[38;5;66;03m#lightgbm\u001b[39;00m\n\u001b[1;32m----> 2\u001b[0m \u001b[38;5;28;01mimport\u001b[39;00m \u001b[38;5;21;01mlightgbm\u001b[39;00m \u001b[38;5;28;01mas\u001b[39;00m \u001b[38;5;21;01mlgb\u001b[39;00m\n\u001b[0;32m      3\u001b[0m model \u001b[38;5;241m=\u001b[39m lgb\u001b[38;5;241m.\u001b[39mLGBMRegressor()\u001b[38;5;241m.\u001b[39mfit([[\u001b[38;5;241m1\u001b[39m], [\u001b[38;5;241m2\u001b[39m]], [\u001b[38;5;241m2\u001b[39m, \u001b[38;5;241m4\u001b[39m])\n\u001b[0;32m      4\u001b[0m \u001b[38;5;28mprint\u001b[39m(model\u001b[38;5;241m.\u001b[39mpredict([[\u001b[38;5;241m3\u001b[39m]]))\n",
      "\u001b[1;31mModuleNotFoundError\u001b[0m: No module named 'lightgbm'"
     ]
    }
   ],
   "source": [
    "#lightgbm\n",
    "import lightgbm as lgb\n",
    "model = lgb.LGBMRegressor().fit([[1], [2]], [2, 4])\n",
    "print(model.predict([[3]]))\n"
   ]
  },
  {
   "cell_type": "code",
   "execution_count": null,
   "metadata": {},
   "outputs": [],
   "source": [
    "# cat boost\n",
    "from catboost import CatBoostRegressor\n",
    "model = CatBoostRegressor(verbose=0).fit([[1], [2]], [2, 4])\n",
    "print(model.predict([[3]]))\n"
   ]
  },
  {
   "cell_type": "code",
   "execution_count": 14,
   "metadata": {},
   "outputs": [
    {
     "ename": "ImportError",
     "evalue": "\n\nIMPORTANT: PLEASE READ THIS FOR ADVICE ON HOW TO SOLVE THIS ISSUE!\n\nImporting the numpy C-extensions failed. This error can happen for\nmany reasons, often due to issues with your setup or how NumPy was\ninstalled.\n\nWe have compiled some common reasons and troubleshooting tips at:\n\n    https://numpy.org/devdocs/user/troubleshooting-importerror.html\n\nPlease note and check the following:\n\n  * The Python version is: Python3.12 from \"c:\\Users\\Nagesh Agrawal\\anaconda3\\python.exe\"\n  * The NumPy version is: \"1.26.4\"\n\nand make sure that they are the versions you expect.\nPlease carefully study the documentation linked above for further help.\n\nOriginal error was: DLL load failed while importing _multiarray_umath: The specified module could not be found.\n",
     "output_type": "error",
     "traceback": [
      "\u001b[1;31m---------------------------------------------------------------------------\u001b[0m",
      "\u001b[1;31mImportError\u001b[0m                               Traceback (most recent call last)",
      "File \u001b[1;32mc:\\Users\\Nagesh Agrawal\\anaconda3\\Lib\\site-packages\\numpy\\_core\\__init__.py:23\u001b[0m\n\u001b[0;32m     22\u001b[0m \u001b[38;5;28;01mtry\u001b[39;00m:\n\u001b[1;32m---> 23\u001b[0m     \u001b[38;5;28;01mfrom\u001b[39;00m \u001b[38;5;21;01m.\u001b[39;00m \u001b[38;5;28;01mimport\u001b[39;00m multiarray\n\u001b[0;32m     24\u001b[0m \u001b[38;5;28;01mexcept\u001b[39;00m \u001b[38;5;167;01mImportError\u001b[39;00m \u001b[38;5;28;01mas\u001b[39;00m exc:\n",
      "File \u001b[1;32mc:\\Users\\Nagesh Agrawal\\anaconda3\\Lib\\site-packages\\numpy\\_core\\multiarray.py:10\u001b[0m\n\u001b[0;32m      9\u001b[0m \u001b[38;5;28;01mimport\u001b[39;00m \u001b[38;5;21;01mfunctools\u001b[39;00m\n\u001b[1;32m---> 10\u001b[0m \u001b[38;5;28;01mfrom\u001b[39;00m \u001b[38;5;21;01m.\u001b[39;00m \u001b[38;5;28;01mimport\u001b[39;00m overrides\n\u001b[0;32m     11\u001b[0m \u001b[38;5;28;01mfrom\u001b[39;00m \u001b[38;5;21;01m.\u001b[39;00m \u001b[38;5;28;01mimport\u001b[39;00m _multiarray_umath\n",
      "File \u001b[1;32mc:\\Users\\Nagesh Agrawal\\anaconda3\\Lib\\site-packages\\numpy\\_core\\overrides.py:7\u001b[0m\n\u001b[0;32m      6\u001b[0m \u001b[38;5;28;01mfrom\u001b[39;00m \u001b[38;5;21;01m.\u001b[39;00m\u001b[38;5;21;01m.\u001b[39;00m\u001b[38;5;21;01m_utils\u001b[39;00m\u001b[38;5;21;01m.\u001b[39;00m\u001b[38;5;21;01m_inspect\u001b[39;00m \u001b[38;5;28;01mimport\u001b[39;00m getargspec\n\u001b[1;32m----> 7\u001b[0m \u001b[38;5;28;01mfrom\u001b[39;00m \u001b[38;5;21;01mnumpy\u001b[39;00m\u001b[38;5;21;01m.\u001b[39;00m\u001b[38;5;21;01m_core\u001b[39;00m\u001b[38;5;21;01m.\u001b[39;00m\u001b[38;5;21;01m_multiarray_umath\u001b[39;00m \u001b[38;5;28;01mimport\u001b[39;00m (\n\u001b[0;32m      8\u001b[0m     add_docstring,  _get_implementing_args, _ArrayFunctionDispatcher)\n\u001b[0;32m     11\u001b[0m ARRAY_FUNCTIONS \u001b[38;5;241m=\u001b[39m \u001b[38;5;28mset\u001b[39m()\n",
      "\u001b[1;31mImportError\u001b[0m: DLL load failed while importing _multiarray_umath: The specified module could not be found.",
      "\nDuring handling of the above exception, another exception occurred:\n",
      "\u001b[1;31mImportError\u001b[0m                               Traceback (most recent call last)",
      "File \u001b[1;32mc:\\Users\\Nagesh Agrawal\\anaconda3\\Lib\\site-packages\\numpy\\_core\\__init__.py:49\u001b[0m\n\u001b[0;32m     25\u001b[0m     \u001b[38;5;28;01mimport\u001b[39;00m \u001b[38;5;21;01msys\u001b[39;00m\n\u001b[0;32m     26\u001b[0m     msg \u001b[38;5;241m=\u001b[39m \u001b[38;5;124m\"\"\"\u001b[39m\n\u001b[0;32m     27\u001b[0m \n\u001b[0;32m     28\u001b[0m \u001b[38;5;124mIMPORTANT: PLEASE READ THIS FOR ADVICE ON HOW TO SOLVE THIS ISSUE!\u001b[39m\n\u001b[1;32m   (...)\u001b[0m\n\u001b[0;32m     47\u001b[0m \u001b[38;5;124m\"\"\"\u001b[39m \u001b[38;5;241m%\u001b[39m (sys\u001b[38;5;241m.\u001b[39mversion_info[\u001b[38;5;241m0\u001b[39m], sys\u001b[38;5;241m.\u001b[39mversion_info[\u001b[38;5;241m1\u001b[39m], sys\u001b[38;5;241m.\u001b[39mexecutable,\n\u001b[0;32m     48\u001b[0m         __version__, exc)\n\u001b[1;32m---> 49\u001b[0m     \u001b[38;5;28;01mraise\u001b[39;00m \u001b[38;5;167;01mImportError\u001b[39;00m(msg)\n\u001b[0;32m     50\u001b[0m \u001b[38;5;28;01mfinally\u001b[39;00m:\n\u001b[0;32m     51\u001b[0m     \u001b[38;5;28;01mfor\u001b[39;00m envkey \u001b[38;5;129;01min\u001b[39;00m env_added:\n",
      "\u001b[1;31mImportError\u001b[0m: \n\nIMPORTANT: PLEASE READ THIS FOR ADVICE ON HOW TO SOLVE THIS ISSUE!\n\nImporting the numpy C-extensions failed. This error can happen for\nmany reasons, often due to issues with your setup or how NumPy was\ninstalled.\n\nWe have compiled some common reasons and troubleshooting tips at:\n\n    https://numpy.org/devdocs/user/troubleshooting-importerror.html\n\nPlease note and check the following:\n\n  * The Python version is: Python3.12 from \"c:\\Users\\Nagesh Agrawal\\anaconda3\\python.exe\"\n  * The NumPy version is: \"1.26.4\"\n\nand make sure that they are the versions you expect.\nPlease carefully study the documentation linked above for further help.\n\nOriginal error was: DLL load failed while importing _multiarray_umath: The specified module could not be found.\n"
     ]
    },
    {
     "ename": "ImportError",
     "evalue": "\n\nIMPORTANT: PLEASE READ THIS FOR ADVICE ON HOW TO SOLVE THIS ISSUE!\n\nImporting the numpy C-extensions failed. This error can happen for\nmany reasons, often due to issues with your setup or how NumPy was\ninstalled.\n\nWe have compiled some common reasons and troubleshooting tips at:\n\n    https://numpy.org/devdocs/user/troubleshooting-importerror.html\n\nPlease note and check the following:\n\n  * The Python version is: Python3.12 from \"c:\\Users\\Nagesh Agrawal\\anaconda3\\python.exe\"\n  * The NumPy version is: \"1.26.4\"\n\nand make sure that they are the versions you expect.\nPlease carefully study the documentation linked above for further help.\n\nOriginal error was: DLL load failed while importing _multiarray_umath: The specified module could not be found.\n",
     "output_type": "error",
     "traceback": [
      "\u001b[1;31m---------------------------------------------------------------------------\u001b[0m",
      "\u001b[1;31mImportError\u001b[0m                               Traceback (most recent call last)",
      "File \u001b[1;32mc:\\Users\\Nagesh Agrawal\\anaconda3\\Lib\\site-packages\\numpy\\_core\\__init__.py:23\u001b[0m\n\u001b[0;32m     22\u001b[0m \u001b[38;5;28;01mtry\u001b[39;00m:\n\u001b[1;32m---> 23\u001b[0m     \u001b[38;5;28;01mfrom\u001b[39;00m \u001b[38;5;21;01m.\u001b[39;00m \u001b[38;5;28;01mimport\u001b[39;00m multiarray\n\u001b[0;32m     24\u001b[0m \u001b[38;5;28;01mexcept\u001b[39;00m \u001b[38;5;167;01mImportError\u001b[39;00m \u001b[38;5;28;01mas\u001b[39;00m exc:\n",
      "File \u001b[1;32mc:\\Users\\Nagesh Agrawal\\anaconda3\\Lib\\site-packages\\numpy\\_core\\multiarray.py:10\u001b[0m\n\u001b[0;32m      9\u001b[0m \u001b[38;5;28;01mimport\u001b[39;00m \u001b[38;5;21;01mfunctools\u001b[39;00m\n\u001b[1;32m---> 10\u001b[0m \u001b[38;5;28;01mfrom\u001b[39;00m \u001b[38;5;21;01m.\u001b[39;00m \u001b[38;5;28;01mimport\u001b[39;00m overrides\n\u001b[0;32m     11\u001b[0m \u001b[38;5;28;01mfrom\u001b[39;00m \u001b[38;5;21;01m.\u001b[39;00m \u001b[38;5;28;01mimport\u001b[39;00m _multiarray_umath\n",
      "File \u001b[1;32mc:\\Users\\Nagesh Agrawal\\anaconda3\\Lib\\site-packages\\numpy\\_core\\overrides.py:7\u001b[0m\n\u001b[0;32m      6\u001b[0m \u001b[38;5;28;01mfrom\u001b[39;00m \u001b[38;5;21;01m.\u001b[39;00m\u001b[38;5;21;01m.\u001b[39;00m\u001b[38;5;21;01m_utils\u001b[39;00m\u001b[38;5;21;01m.\u001b[39;00m\u001b[38;5;21;01m_inspect\u001b[39;00m \u001b[38;5;28;01mimport\u001b[39;00m getargspec\n\u001b[1;32m----> 7\u001b[0m \u001b[38;5;28;01mfrom\u001b[39;00m \u001b[38;5;21;01mnumpy\u001b[39;00m\u001b[38;5;21;01m.\u001b[39;00m\u001b[38;5;21;01m_core\u001b[39;00m\u001b[38;5;21;01m.\u001b[39;00m\u001b[38;5;21;01m_multiarray_umath\u001b[39;00m \u001b[38;5;28;01mimport\u001b[39;00m (\n\u001b[0;32m      8\u001b[0m     add_docstring,  _get_implementing_args, _ArrayFunctionDispatcher)\n\u001b[0;32m     11\u001b[0m ARRAY_FUNCTIONS \u001b[38;5;241m=\u001b[39m \u001b[38;5;28mset\u001b[39m()\n",
      "\u001b[1;31mImportError\u001b[0m: DLL load failed while importing _multiarray_umath: The specified module could not be found.",
      "\nDuring handling of the above exception, another exception occurred:\n",
      "\u001b[1;31mImportError\u001b[0m                               Traceback (most recent call last)",
      "File \u001b[1;32mc:\\Users\\Nagesh Agrawal\\anaconda3\\Lib\\site-packages\\numpy\\_core\\__init__.py:49\u001b[0m\n\u001b[0;32m     25\u001b[0m     \u001b[38;5;28;01mimport\u001b[39;00m \u001b[38;5;21;01msys\u001b[39;00m\n\u001b[0;32m     26\u001b[0m     msg \u001b[38;5;241m=\u001b[39m \u001b[38;5;124m\"\"\"\u001b[39m\n\u001b[0;32m     27\u001b[0m \n\u001b[0;32m     28\u001b[0m \u001b[38;5;124mIMPORTANT: PLEASE READ THIS FOR ADVICE ON HOW TO SOLVE THIS ISSUE!\u001b[39m\n\u001b[1;32m   (...)\u001b[0m\n\u001b[0;32m     47\u001b[0m \u001b[38;5;124m\"\"\"\u001b[39m \u001b[38;5;241m%\u001b[39m (sys\u001b[38;5;241m.\u001b[39mversion_info[\u001b[38;5;241m0\u001b[39m], sys\u001b[38;5;241m.\u001b[39mversion_info[\u001b[38;5;241m1\u001b[39m], sys\u001b[38;5;241m.\u001b[39mexecutable,\n\u001b[0;32m     48\u001b[0m         __version__, exc)\n\u001b[1;32m---> 49\u001b[0m     \u001b[38;5;28;01mraise\u001b[39;00m \u001b[38;5;167;01mImportError\u001b[39;00m(msg)\n\u001b[0;32m     50\u001b[0m \u001b[38;5;28;01mfinally\u001b[39;00m:\n\u001b[0;32m     51\u001b[0m     \u001b[38;5;28;01mfor\u001b[39;00m envkey \u001b[38;5;129;01min\u001b[39;00m env_added:\n",
      "\u001b[1;31mImportError\u001b[0m: \n\nIMPORTANT: PLEASE READ THIS FOR ADVICE ON HOW TO SOLVE THIS ISSUE!\n\nImporting the numpy C-extensions failed. This error can happen for\nmany reasons, often due to issues with your setup or how NumPy was\ninstalled.\n\nWe have compiled some common reasons and troubleshooting tips at:\n\n    https://numpy.org/devdocs/user/troubleshooting-importerror.html\n\nPlease note and check the following:\n\n  * The Python version is: Python3.12 from \"c:\\Users\\Nagesh Agrawal\\anaconda3\\python.exe\"\n  * The NumPy version is: \"1.26.4\"\n\nand make sure that they are the versions you expect.\nPlease carefully study the documentation linked above for further help.\n\nOriginal error was: DLL load failed while importing _multiarray_umath: The specified module could not be found.\n"
     ]
    },
    {
     "ename": "ImportError",
     "evalue": "\n\nIMPORTANT: PLEASE READ THIS FOR ADVICE ON HOW TO SOLVE THIS ISSUE!\n\nImporting the numpy C-extensions failed. This error can happen for\nmany reasons, often due to issues with your setup or how NumPy was\ninstalled.\n\nWe have compiled some common reasons and troubleshooting tips at:\n\n    https://numpy.org/devdocs/user/troubleshooting-importerror.html\n\nPlease note and check the following:\n\n  * The Python version is: Python3.12 from \"c:\\Users\\Nagesh Agrawal\\anaconda3\\python.exe\"\n  * The NumPy version is: \"1.26.4\"\n\nand make sure that they are the versions you expect.\nPlease carefully study the documentation linked above for further help.\n\nOriginal error was: DLL load failed while importing _multiarray_umath: The specified module could not be found.\n",
     "output_type": "error",
     "traceback": [
      "\u001b[1;31m---------------------------------------------------------------------------\u001b[0m",
      "\u001b[1;31mImportError\u001b[0m                               Traceback (most recent call last)",
      "File \u001b[1;32mc:\\Users\\Nagesh Agrawal\\anaconda3\\Lib\\site-packages\\numpy\\_core\\__init__.py:23\u001b[0m\n\u001b[0;32m     22\u001b[0m \u001b[38;5;28;01mtry\u001b[39;00m:\n\u001b[1;32m---> 23\u001b[0m     \u001b[38;5;28;01mfrom\u001b[39;00m \u001b[38;5;21;01m.\u001b[39;00m \u001b[38;5;28;01mimport\u001b[39;00m multiarray\n\u001b[0;32m     24\u001b[0m \u001b[38;5;28;01mexcept\u001b[39;00m \u001b[38;5;167;01mImportError\u001b[39;00m \u001b[38;5;28;01mas\u001b[39;00m exc:\n",
      "File \u001b[1;32mc:\\Users\\Nagesh Agrawal\\anaconda3\\Lib\\site-packages\\numpy\\_core\\multiarray.py:10\u001b[0m\n\u001b[0;32m      9\u001b[0m \u001b[38;5;28;01mimport\u001b[39;00m \u001b[38;5;21;01mfunctools\u001b[39;00m\n\u001b[1;32m---> 10\u001b[0m \u001b[38;5;28;01mfrom\u001b[39;00m \u001b[38;5;21;01m.\u001b[39;00m \u001b[38;5;28;01mimport\u001b[39;00m overrides\n\u001b[0;32m     11\u001b[0m \u001b[38;5;28;01mfrom\u001b[39;00m \u001b[38;5;21;01m.\u001b[39;00m \u001b[38;5;28;01mimport\u001b[39;00m _multiarray_umath\n",
      "File \u001b[1;32mc:\\Users\\Nagesh Agrawal\\anaconda3\\Lib\\site-packages\\numpy\\_core\\overrides.py:7\u001b[0m\n\u001b[0;32m      6\u001b[0m \u001b[38;5;28;01mfrom\u001b[39;00m \u001b[38;5;21;01m.\u001b[39;00m\u001b[38;5;21;01m.\u001b[39;00m\u001b[38;5;21;01m_utils\u001b[39;00m\u001b[38;5;21;01m.\u001b[39;00m\u001b[38;5;21;01m_inspect\u001b[39;00m \u001b[38;5;28;01mimport\u001b[39;00m getargspec\n\u001b[1;32m----> 7\u001b[0m \u001b[38;5;28;01mfrom\u001b[39;00m \u001b[38;5;21;01mnumpy\u001b[39;00m\u001b[38;5;21;01m.\u001b[39;00m\u001b[38;5;21;01m_core\u001b[39;00m\u001b[38;5;21;01m.\u001b[39;00m\u001b[38;5;21;01m_multiarray_umath\u001b[39;00m \u001b[38;5;28;01mimport\u001b[39;00m (\n\u001b[0;32m      8\u001b[0m     add_docstring,  _get_implementing_args, _ArrayFunctionDispatcher)\n\u001b[0;32m     11\u001b[0m ARRAY_FUNCTIONS \u001b[38;5;241m=\u001b[39m \u001b[38;5;28mset\u001b[39m()\n",
      "\u001b[1;31mImportError\u001b[0m: DLL load failed while importing _multiarray_umath: The specified module could not be found.",
      "\nDuring handling of the above exception, another exception occurred:\n",
      "\u001b[1;31mImportError\u001b[0m                               Traceback (most recent call last)",
      "File \u001b[1;32mc:\\Users\\Nagesh Agrawal\\anaconda3\\Lib\\site-packages\\numpy\\_core\\__init__.py:49\u001b[0m\n\u001b[0;32m     25\u001b[0m     \u001b[38;5;28;01mimport\u001b[39;00m \u001b[38;5;21;01msys\u001b[39;00m\n\u001b[0;32m     26\u001b[0m     msg \u001b[38;5;241m=\u001b[39m \u001b[38;5;124m\"\"\"\u001b[39m\n\u001b[0;32m     27\u001b[0m \n\u001b[0;32m     28\u001b[0m \u001b[38;5;124mIMPORTANT: PLEASE READ THIS FOR ADVICE ON HOW TO SOLVE THIS ISSUE!\u001b[39m\n\u001b[1;32m   (...)\u001b[0m\n\u001b[0;32m     47\u001b[0m \u001b[38;5;124m\"\"\"\u001b[39m \u001b[38;5;241m%\u001b[39m (sys\u001b[38;5;241m.\u001b[39mversion_info[\u001b[38;5;241m0\u001b[39m], sys\u001b[38;5;241m.\u001b[39mversion_info[\u001b[38;5;241m1\u001b[39m], sys\u001b[38;5;241m.\u001b[39mexecutable,\n\u001b[0;32m     48\u001b[0m         __version__, exc)\n\u001b[1;32m---> 49\u001b[0m     \u001b[38;5;28;01mraise\u001b[39;00m \u001b[38;5;167;01mImportError\u001b[39;00m(msg)\n\u001b[0;32m     50\u001b[0m \u001b[38;5;28;01mfinally\u001b[39;00m:\n\u001b[0;32m     51\u001b[0m     \u001b[38;5;28;01mfor\u001b[39;00m envkey \u001b[38;5;129;01min\u001b[39;00m env_added:\n",
      "\u001b[1;31mImportError\u001b[0m: \n\nIMPORTANT: PLEASE READ THIS FOR ADVICE ON HOW TO SOLVE THIS ISSUE!\n\nImporting the numpy C-extensions failed. This error can happen for\nmany reasons, often due to issues with your setup or how NumPy was\ninstalled.\n\nWe have compiled some common reasons and troubleshooting tips at:\n\n    https://numpy.org/devdocs/user/troubleshooting-importerror.html\n\nPlease note and check the following:\n\n  * The Python version is: Python3.12 from \"c:\\Users\\Nagesh Agrawal\\anaconda3\\python.exe\"\n  * The NumPy version is: \"1.26.4\"\n\nand make sure that they are the versions you expect.\nPlease carefully study the documentation linked above for further help.\n\nOriginal error was: DLL load failed while importing _multiarray_umath: The specified module could not be found.\n"
     ]
    },
    {
     "ename": "ImportError",
     "evalue": "_multiarray_umath failed to import",
     "output_type": "error",
     "traceback": [
      "\u001b[1;31m---------------------------------------------------------------------------\u001b[0m",
      "\u001b[1;31mImportError\u001b[0m                               Traceback (most recent call last)",
      "\u001b[1;31mImportError\u001b[0m: _multiarray_umath failed to import"
     ]
    },
    {
     "ename": "ImportError",
     "evalue": "numpy._core.umath failed to import",
     "output_type": "error",
     "traceback": [
      "\u001b[1;31m---------------------------------------------------------------------------\u001b[0m",
      "\u001b[1;31mImportError\u001b[0m                               Traceback (most recent call last)",
      "Cell \u001b[1;32mIn[14], line 2\u001b[0m\n\u001b[0;32m      1\u001b[0m \u001b[38;5;66;03m# tensorflow\u001b[39;00m\n\u001b[1;32m----> 2\u001b[0m \u001b[38;5;28;01mimport\u001b[39;00m \u001b[38;5;21;01mtensorflow\u001b[39;00m \u001b[38;5;28;01mas\u001b[39;00m \u001b[38;5;21;01mtf\u001b[39;00m\n\u001b[0;32m      3\u001b[0m model \u001b[38;5;241m=\u001b[39m tf\u001b[38;5;241m.\u001b[39mkeras\u001b[38;5;241m.\u001b[39mSequential([tf\u001b[38;5;241m.\u001b[39mkeras\u001b[38;5;241m.\u001b[39mlayers\u001b[38;5;241m.\u001b[39mDense(\u001b[38;5;241m1\u001b[39m, input_shape\u001b[38;5;241m=\u001b[39m[\u001b[38;5;241m1\u001b[39m])])\n\u001b[0;32m      4\u001b[0m model\u001b[38;5;241m.\u001b[39mcompile(optimizer\u001b[38;5;241m=\u001b[39m\u001b[38;5;124m'\u001b[39m\u001b[38;5;124msgd\u001b[39m\u001b[38;5;124m'\u001b[39m, loss\u001b[38;5;241m=\u001b[39m\u001b[38;5;124m'\u001b[39m\u001b[38;5;124mmse\u001b[39m\u001b[38;5;124m'\u001b[39m)\n",
      "File \u001b[1;32mc:\\Users\\Nagesh Agrawal\\anaconda3\\Lib\\site-packages\\tensorflow\\__init__.py:49\u001b[0m\n\u001b[0;32m     46\u001b[0m \u001b[38;5;28;01mfrom\u001b[39;00m \u001b[38;5;21;01mtensorflow\u001b[39;00m\u001b[38;5;21;01m.\u001b[39;00m\u001b[38;5;21;01mpython\u001b[39;00m \u001b[38;5;28;01mimport\u001b[39;00m tf2 \u001b[38;5;28;01mas\u001b[39;00m _tf2\n\u001b[0;32m     47\u001b[0m _tf2\u001b[38;5;241m.\u001b[39menable()\n\u001b[1;32m---> 49\u001b[0m \u001b[38;5;28;01mfrom\u001b[39;00m \u001b[38;5;21;01mtensorflow\u001b[39;00m\u001b[38;5;21;01m.\u001b[39;00m\u001b[38;5;21;01m_api\u001b[39;00m\u001b[38;5;21;01m.\u001b[39;00m\u001b[38;5;21;01mv2\u001b[39;00m \u001b[38;5;28;01mimport\u001b[39;00m __internal__\n\u001b[0;32m     50\u001b[0m \u001b[38;5;28;01mfrom\u001b[39;00m \u001b[38;5;21;01mtensorflow\u001b[39;00m\u001b[38;5;21;01m.\u001b[39;00m\u001b[38;5;21;01m_api\u001b[39;00m\u001b[38;5;21;01m.\u001b[39;00m\u001b[38;5;21;01mv2\u001b[39;00m \u001b[38;5;28;01mimport\u001b[39;00m __operators__\n\u001b[0;32m     51\u001b[0m \u001b[38;5;28;01mfrom\u001b[39;00m \u001b[38;5;21;01mtensorflow\u001b[39;00m\u001b[38;5;21;01m.\u001b[39;00m\u001b[38;5;21;01m_api\u001b[39;00m\u001b[38;5;21;01m.\u001b[39;00m\u001b[38;5;21;01mv2\u001b[39;00m \u001b[38;5;28;01mimport\u001b[39;00m audio\n",
      "File \u001b[1;32mc:\\Users\\Nagesh Agrawal\\anaconda3\\Lib\\site-packages\\tensorflow\\_api\\v2\\__internal__\\__init__.py:8\u001b[0m\n\u001b[0;32m      3\u001b[0m \u001b[38;5;124;03m\"\"\"Public API for tf._api.v2.__internal__ namespace\u001b[39;00m\n\u001b[0;32m      4\u001b[0m \u001b[38;5;124;03m\"\"\"\u001b[39;00m\n\u001b[0;32m      6\u001b[0m \u001b[38;5;28;01mimport\u001b[39;00m \u001b[38;5;21;01msys\u001b[39;00m \u001b[38;5;28;01mas\u001b[39;00m \u001b[38;5;21;01m_sys\u001b[39;00m\n\u001b[1;32m----> 8\u001b[0m \u001b[38;5;28;01mfrom\u001b[39;00m \u001b[38;5;21;01mtensorflow\u001b[39;00m\u001b[38;5;21;01m.\u001b[39;00m\u001b[38;5;21;01m_api\u001b[39;00m\u001b[38;5;21;01m.\u001b[39;00m\u001b[38;5;21;01mv2\u001b[39;00m\u001b[38;5;21;01m.\u001b[39;00m\u001b[38;5;21;01m__internal__\u001b[39;00m \u001b[38;5;28;01mimport\u001b[39;00m autograph\n\u001b[0;32m      9\u001b[0m \u001b[38;5;28;01mfrom\u001b[39;00m \u001b[38;5;21;01mtensorflow\u001b[39;00m\u001b[38;5;21;01m.\u001b[39;00m\u001b[38;5;21;01m_api\u001b[39;00m\u001b[38;5;21;01m.\u001b[39;00m\u001b[38;5;21;01mv2\u001b[39;00m\u001b[38;5;21;01m.\u001b[39;00m\u001b[38;5;21;01m__internal__\u001b[39;00m \u001b[38;5;28;01mimport\u001b[39;00m decorator\n\u001b[0;32m     10\u001b[0m \u001b[38;5;28;01mfrom\u001b[39;00m \u001b[38;5;21;01mtensorflow\u001b[39;00m\u001b[38;5;21;01m.\u001b[39;00m\u001b[38;5;21;01m_api\u001b[39;00m\u001b[38;5;21;01m.\u001b[39;00m\u001b[38;5;21;01mv2\u001b[39;00m\u001b[38;5;21;01m.\u001b[39;00m\u001b[38;5;21;01m__internal__\u001b[39;00m \u001b[38;5;28;01mimport\u001b[39;00m dispatch\n",
      "File \u001b[1;32mc:\\Users\\Nagesh Agrawal\\anaconda3\\Lib\\site-packages\\tensorflow\\_api\\v2\\__internal__\\autograph\\__init__.py:8\u001b[0m\n\u001b[0;32m      3\u001b[0m \u001b[38;5;124;03m\"\"\"Public API for tf._api.v2.__internal__.autograph namespace\u001b[39;00m\n\u001b[0;32m      4\u001b[0m \u001b[38;5;124;03m\"\"\"\u001b[39;00m\n\u001b[0;32m      6\u001b[0m \u001b[38;5;28;01mimport\u001b[39;00m \u001b[38;5;21;01msys\u001b[39;00m \u001b[38;5;28;01mas\u001b[39;00m \u001b[38;5;21;01m_sys\u001b[39;00m\n\u001b[1;32m----> 8\u001b[0m \u001b[38;5;28;01mfrom\u001b[39;00m \u001b[38;5;21;01mtensorflow\u001b[39;00m\u001b[38;5;21;01m.\u001b[39;00m\u001b[38;5;21;01mpython\u001b[39;00m\u001b[38;5;21;01m.\u001b[39;00m\u001b[38;5;21;01mautograph\u001b[39;00m\u001b[38;5;21;01m.\u001b[39;00m\u001b[38;5;21;01mcore\u001b[39;00m\u001b[38;5;21;01m.\u001b[39;00m\u001b[38;5;21;01mag_ctx\u001b[39;00m \u001b[38;5;28;01mimport\u001b[39;00m control_status_ctx \u001b[38;5;66;03m# line: 34\u001b[39;00m\n\u001b[0;32m      9\u001b[0m \u001b[38;5;28;01mfrom\u001b[39;00m \u001b[38;5;21;01mtensorflow\u001b[39;00m\u001b[38;5;21;01m.\u001b[39;00m\u001b[38;5;21;01mpython\u001b[39;00m\u001b[38;5;21;01m.\u001b[39;00m\u001b[38;5;21;01mautograph\u001b[39;00m\u001b[38;5;21;01m.\u001b[39;00m\u001b[38;5;21;01mimpl\u001b[39;00m\u001b[38;5;21;01m.\u001b[39;00m\u001b[38;5;21;01mapi\u001b[39;00m \u001b[38;5;28;01mimport\u001b[39;00m tf_convert\n",
      "File \u001b[1;32mc:\\Users\\Nagesh Agrawal\\anaconda3\\Lib\\site-packages\\tensorflow\\python\\autograph\\core\\ag_ctx.py:21\u001b[0m\n\u001b[0;32m     18\u001b[0m \u001b[38;5;28;01mimport\u001b[39;00m \u001b[38;5;21;01minspect\u001b[39;00m\n\u001b[0;32m     19\u001b[0m \u001b[38;5;28;01mimport\u001b[39;00m \u001b[38;5;21;01mthreading\u001b[39;00m\n\u001b[1;32m---> 21\u001b[0m \u001b[38;5;28;01mfrom\u001b[39;00m \u001b[38;5;21;01mtensorflow\u001b[39;00m\u001b[38;5;21;01m.\u001b[39;00m\u001b[38;5;21;01mpython\u001b[39;00m\u001b[38;5;21;01m.\u001b[39;00m\u001b[38;5;21;01mautograph\u001b[39;00m\u001b[38;5;21;01m.\u001b[39;00m\u001b[38;5;21;01mutils\u001b[39;00m \u001b[38;5;28;01mimport\u001b[39;00m ag_logging\n\u001b[0;32m     22\u001b[0m \u001b[38;5;28;01mfrom\u001b[39;00m \u001b[38;5;21;01mtensorflow\u001b[39;00m\u001b[38;5;21;01m.\u001b[39;00m\u001b[38;5;21;01mpython\u001b[39;00m\u001b[38;5;21;01m.\u001b[39;00m\u001b[38;5;21;01mutil\u001b[39;00m\u001b[38;5;21;01m.\u001b[39;00m\u001b[38;5;21;01mtf_export\u001b[39;00m \u001b[38;5;28;01mimport\u001b[39;00m tf_export\n\u001b[0;32m     25\u001b[0m stacks \u001b[38;5;241m=\u001b[39m threading\u001b[38;5;241m.\u001b[39mlocal()\n",
      "File \u001b[1;32mc:\\Users\\Nagesh Agrawal\\anaconda3\\Lib\\site-packages\\tensorflow\\python\\autograph\\utils\\__init__.py:17\u001b[0m\n\u001b[0;32m      1\u001b[0m \u001b[38;5;66;03m# Copyright 2016 The TensorFlow Authors. All Rights Reserved.\u001b[39;00m\n\u001b[0;32m      2\u001b[0m \u001b[38;5;66;03m#\u001b[39;00m\n\u001b[0;32m      3\u001b[0m \u001b[38;5;66;03m# Licensed under the Apache License, Version 2.0 (the \"License\");\u001b[39;00m\n\u001b[1;32m   (...)\u001b[0m\n\u001b[0;32m     13\u001b[0m \u001b[38;5;66;03m# limitations under the License.\u001b[39;00m\n\u001b[0;32m     14\u001b[0m \u001b[38;5;66;03m# ==============================================================================\u001b[39;00m\n\u001b[0;32m     15\u001b[0m \u001b[38;5;124;03m\"\"\"Utility module that contains APIs usable in the generated code.\"\"\"\u001b[39;00m\n\u001b[1;32m---> 17\u001b[0m \u001b[38;5;28;01mfrom\u001b[39;00m \u001b[38;5;21;01mtensorflow\u001b[39;00m\u001b[38;5;21;01m.\u001b[39;00m\u001b[38;5;21;01mpython\u001b[39;00m\u001b[38;5;21;01m.\u001b[39;00m\u001b[38;5;21;01mautograph\u001b[39;00m\u001b[38;5;21;01m.\u001b[39;00m\u001b[38;5;21;01mutils\u001b[39;00m\u001b[38;5;21;01m.\u001b[39;00m\u001b[38;5;21;01mcontext_managers\u001b[39;00m \u001b[38;5;28;01mimport\u001b[39;00m control_dependency_on_returns\n\u001b[0;32m     18\u001b[0m \u001b[38;5;28;01mfrom\u001b[39;00m \u001b[38;5;21;01mtensorflow\u001b[39;00m\u001b[38;5;21;01m.\u001b[39;00m\u001b[38;5;21;01mpython\u001b[39;00m\u001b[38;5;21;01m.\u001b[39;00m\u001b[38;5;21;01mautograph\u001b[39;00m\u001b[38;5;21;01m.\u001b[39;00m\u001b[38;5;21;01mutils\u001b[39;00m\u001b[38;5;21;01m.\u001b[39;00m\u001b[38;5;21;01mmisc\u001b[39;00m \u001b[38;5;28;01mimport\u001b[39;00m alias_tensors\n\u001b[0;32m     19\u001b[0m \u001b[38;5;28;01mfrom\u001b[39;00m \u001b[38;5;21;01mtensorflow\u001b[39;00m\u001b[38;5;21;01m.\u001b[39;00m\u001b[38;5;21;01mpython\u001b[39;00m\u001b[38;5;21;01m.\u001b[39;00m\u001b[38;5;21;01mautograph\u001b[39;00m\u001b[38;5;21;01m.\u001b[39;00m\u001b[38;5;21;01mutils\u001b[39;00m\u001b[38;5;21;01m.\u001b[39;00m\u001b[38;5;21;01mtensor_list\u001b[39;00m \u001b[38;5;28;01mimport\u001b[39;00m dynamic_list_append\n",
      "File \u001b[1;32mc:\\Users\\Nagesh Agrawal\\anaconda3\\Lib\\site-packages\\tensorflow\\python\\autograph\\utils\\context_managers.py:19\u001b[0m\n\u001b[0;32m     15\u001b[0m \u001b[38;5;124;03m\"\"\"Various context managers.\"\"\"\u001b[39;00m\n\u001b[0;32m     17\u001b[0m \u001b[38;5;28;01mimport\u001b[39;00m \u001b[38;5;21;01mcontextlib\u001b[39;00m\n\u001b[1;32m---> 19\u001b[0m \u001b[38;5;28;01mfrom\u001b[39;00m \u001b[38;5;21;01mtensorflow\u001b[39;00m\u001b[38;5;21;01m.\u001b[39;00m\u001b[38;5;21;01mpython\u001b[39;00m\u001b[38;5;21;01m.\u001b[39;00m\u001b[38;5;21;01mframework\u001b[39;00m \u001b[38;5;28;01mimport\u001b[39;00m ops\n\u001b[0;32m     20\u001b[0m \u001b[38;5;28;01mfrom\u001b[39;00m \u001b[38;5;21;01mtensorflow\u001b[39;00m\u001b[38;5;21;01m.\u001b[39;00m\u001b[38;5;21;01mpython\u001b[39;00m\u001b[38;5;21;01m.\u001b[39;00m\u001b[38;5;21;01mops\u001b[39;00m \u001b[38;5;28;01mimport\u001b[39;00m tensor_array_ops\n\u001b[0;32m     23\u001b[0m \u001b[38;5;28;01mdef\u001b[39;00m \u001b[38;5;21mcontrol_dependency_on_returns\u001b[39m(return_value):\n",
      "File \u001b[1;32mc:\\Users\\Nagesh Agrawal\\anaconda3\\Lib\\site-packages\\tensorflow\\python\\framework\\ops.py:50\u001b[0m\n\u001b[0;32m     48\u001b[0m \u001b[38;5;28;01mfrom\u001b[39;00m \u001b[38;5;21;01mtensorflow\u001b[39;00m\u001b[38;5;21;01m.\u001b[39;00m\u001b[38;5;21;01mpython\u001b[39;00m \u001b[38;5;28;01mimport\u001b[39;00m tf2\n\u001b[0;32m     49\u001b[0m \u001b[38;5;28;01mfrom\u001b[39;00m \u001b[38;5;21;01mtensorflow\u001b[39;00m\u001b[38;5;21;01m.\u001b[39;00m\u001b[38;5;21;01mpython\u001b[39;00m\u001b[38;5;21;01m.\u001b[39;00m\u001b[38;5;21;01mclient\u001b[39;00m \u001b[38;5;28;01mimport\u001b[39;00m pywrap_tf_session\n\u001b[1;32m---> 50\u001b[0m \u001b[38;5;28;01mfrom\u001b[39;00m \u001b[38;5;21;01mtensorflow\u001b[39;00m\u001b[38;5;21;01m.\u001b[39;00m\u001b[38;5;21;01mpython\u001b[39;00m\u001b[38;5;21;01m.\u001b[39;00m\u001b[38;5;21;01meager\u001b[39;00m \u001b[38;5;28;01mimport\u001b[39;00m context\n\u001b[0;32m     51\u001b[0m \u001b[38;5;28;01mfrom\u001b[39;00m \u001b[38;5;21;01mtensorflow\u001b[39;00m\u001b[38;5;21;01m.\u001b[39;00m\u001b[38;5;21;01mpython\u001b[39;00m\u001b[38;5;21;01m.\u001b[39;00m\u001b[38;5;21;01meager\u001b[39;00m \u001b[38;5;28;01mimport\u001b[39;00m core\n\u001b[0;32m     52\u001b[0m \u001b[38;5;28;01mfrom\u001b[39;00m \u001b[38;5;21;01mtensorflow\u001b[39;00m\u001b[38;5;21;01m.\u001b[39;00m\u001b[38;5;21;01mpython\u001b[39;00m\u001b[38;5;21;01m.\u001b[39;00m\u001b[38;5;21;01meager\u001b[39;00m \u001b[38;5;28;01mimport\u001b[39;00m monitoring\n",
      "File \u001b[1;32mc:\\Users\\Nagesh Agrawal\\anaconda3\\Lib\\site-packages\\tensorflow\\python\\eager\\context.py:37\u001b[0m\n\u001b[0;32m     35\u001b[0m \u001b[38;5;28;01mfrom\u001b[39;00m \u001b[38;5;21;01mtensorflow\u001b[39;00m\u001b[38;5;21;01m.\u001b[39;00m\u001b[38;5;21;01mpython\u001b[39;00m\u001b[38;5;21;01m.\u001b[39;00m\u001b[38;5;21;01mclient\u001b[39;00m \u001b[38;5;28;01mimport\u001b[39;00m pywrap_tf_session\n\u001b[0;32m     36\u001b[0m \u001b[38;5;28;01mfrom\u001b[39;00m \u001b[38;5;21;01mtensorflow\u001b[39;00m\u001b[38;5;21;01m.\u001b[39;00m\u001b[38;5;21;01mpython\u001b[39;00m\u001b[38;5;21;01m.\u001b[39;00m\u001b[38;5;21;01meager\u001b[39;00m \u001b[38;5;28;01mimport\u001b[39;00m cancellation\n\u001b[1;32m---> 37\u001b[0m \u001b[38;5;28;01mfrom\u001b[39;00m \u001b[38;5;21;01mtensorflow\u001b[39;00m\u001b[38;5;21;01m.\u001b[39;00m\u001b[38;5;21;01mpython\u001b[39;00m\u001b[38;5;21;01m.\u001b[39;00m\u001b[38;5;21;01meager\u001b[39;00m \u001b[38;5;28;01mimport\u001b[39;00m execute\n\u001b[0;32m     38\u001b[0m \u001b[38;5;28;01mfrom\u001b[39;00m \u001b[38;5;21;01mtensorflow\u001b[39;00m\u001b[38;5;21;01m.\u001b[39;00m\u001b[38;5;21;01mpython\u001b[39;00m\u001b[38;5;21;01m.\u001b[39;00m\u001b[38;5;21;01meager\u001b[39;00m \u001b[38;5;28;01mimport\u001b[39;00m executor\n\u001b[0;32m     39\u001b[0m \u001b[38;5;28;01mfrom\u001b[39;00m \u001b[38;5;21;01mtensorflow\u001b[39;00m\u001b[38;5;21;01m.\u001b[39;00m\u001b[38;5;21;01mpython\u001b[39;00m\u001b[38;5;21;01m.\u001b[39;00m\u001b[38;5;21;01meager\u001b[39;00m \u001b[38;5;28;01mimport\u001b[39;00m monitoring\n",
      "File \u001b[1;32mc:\\Users\\Nagesh Agrawal\\anaconda3\\Lib\\site-packages\\tensorflow\\python\\eager\\execute.py:21\u001b[0m\n\u001b[0;32m     19\u001b[0m \u001b[38;5;28;01mfrom\u001b[39;00m \u001b[38;5;21;01mtensorflow\u001b[39;00m\u001b[38;5;21;01m.\u001b[39;00m\u001b[38;5;21;01mpython\u001b[39;00m \u001b[38;5;28;01mimport\u001b[39;00m pywrap_tfe\n\u001b[0;32m     20\u001b[0m \u001b[38;5;28;01mfrom\u001b[39;00m \u001b[38;5;21;01mtensorflow\u001b[39;00m\u001b[38;5;21;01m.\u001b[39;00m\u001b[38;5;21;01mpython\u001b[39;00m\u001b[38;5;21;01m.\u001b[39;00m\u001b[38;5;21;01meager\u001b[39;00m \u001b[38;5;28;01mimport\u001b[39;00m core\n\u001b[1;32m---> 21\u001b[0m \u001b[38;5;28;01mfrom\u001b[39;00m \u001b[38;5;21;01mtensorflow\u001b[39;00m\u001b[38;5;21;01m.\u001b[39;00m\u001b[38;5;21;01mpython\u001b[39;00m\u001b[38;5;21;01m.\u001b[39;00m\u001b[38;5;21;01mframework\u001b[39;00m \u001b[38;5;28;01mimport\u001b[39;00m dtypes\n\u001b[0;32m     22\u001b[0m \u001b[38;5;28;01mfrom\u001b[39;00m \u001b[38;5;21;01mtensorflow\u001b[39;00m\u001b[38;5;21;01m.\u001b[39;00m\u001b[38;5;21;01mpython\u001b[39;00m\u001b[38;5;21;01m.\u001b[39;00m\u001b[38;5;21;01mframework\u001b[39;00m \u001b[38;5;28;01mimport\u001b[39;00m tensor_conversion_registry\n\u001b[0;32m     23\u001b[0m \u001b[38;5;28;01mfrom\u001b[39;00m \u001b[38;5;21;01mtensorflow\u001b[39;00m\u001b[38;5;21;01m.\u001b[39;00m\u001b[38;5;21;01mpython\u001b[39;00m\u001b[38;5;21;01m.\u001b[39;00m\u001b[38;5;21;01mframework\u001b[39;00m \u001b[38;5;28;01mimport\u001b[39;00m tensor_shape\n",
      "File \u001b[1;32mc:\\Users\\Nagesh Agrawal\\anaconda3\\Lib\\site-packages\\tensorflow\\python\\framework\\dtypes.py:21\u001b[0m\n\u001b[0;32m     18\u001b[0m \u001b[38;5;28;01mimport\u001b[39;00m \u001b[38;5;21;01mdataclasses\u001b[39;00m\n\u001b[0;32m     19\u001b[0m \u001b[38;5;28;01mfrom\u001b[39;00m \u001b[38;5;21;01mtyping\u001b[39;00m \u001b[38;5;28;01mimport\u001b[39;00m Type, Sequence, Optional\n\u001b[1;32m---> 21\u001b[0m \u001b[38;5;28;01mimport\u001b[39;00m \u001b[38;5;21;01mml_dtypes\u001b[39;00m\n\u001b[0;32m     22\u001b[0m \u001b[38;5;28;01mimport\u001b[39;00m \u001b[38;5;21;01mnumpy\u001b[39;00m \u001b[38;5;28;01mas\u001b[39;00m \u001b[38;5;21;01mnp\u001b[39;00m\n\u001b[0;32m     24\u001b[0m \u001b[38;5;28;01mfrom\u001b[39;00m \u001b[38;5;21;01mtensorflow\u001b[39;00m\u001b[38;5;21;01m.\u001b[39;00m\u001b[38;5;21;01mcore\u001b[39;00m\u001b[38;5;21;01m.\u001b[39;00m\u001b[38;5;21;01mframework\u001b[39;00m \u001b[38;5;28;01mimport\u001b[39;00m types_pb2\n",
      "File \u001b[1;32mc:\\Users\\Nagesh Agrawal\\anaconda3\\Lib\\site-packages\\ml_dtypes\\__init__.py:32\u001b[0m\n\u001b[0;32m     16\u001b[0m __all__ \u001b[38;5;241m=\u001b[39m [\n\u001b[0;32m     17\u001b[0m     \u001b[38;5;124m\"\u001b[39m\u001b[38;5;124m__version__\u001b[39m\u001b[38;5;124m\"\u001b[39m,\n\u001b[0;32m     18\u001b[0m     \u001b[38;5;124m\"\u001b[39m\u001b[38;5;124mbfloat16\u001b[39m\u001b[38;5;124m\"\u001b[39m,\n\u001b[1;32m   (...)\u001b[0m\n\u001b[0;32m     27\u001b[0m     \u001b[38;5;124m\"\u001b[39m\u001b[38;5;124muint4\u001b[39m\u001b[38;5;124m\"\u001b[39m,\n\u001b[0;32m     28\u001b[0m ]\n\u001b[0;32m     30\u001b[0m \u001b[38;5;28;01mfrom\u001b[39;00m \u001b[38;5;21;01mtyping\u001b[39;00m \u001b[38;5;28;01mimport\u001b[39;00m Type\n\u001b[1;32m---> 32\u001b[0m \u001b[38;5;28;01mfrom\u001b[39;00m \u001b[38;5;21;01mml_dtypes\u001b[39;00m\u001b[38;5;21;01m.\u001b[39;00m\u001b[38;5;21;01m_finfo\u001b[39;00m \u001b[38;5;28;01mimport\u001b[39;00m finfo\n\u001b[0;32m     33\u001b[0m \u001b[38;5;28;01mfrom\u001b[39;00m \u001b[38;5;21;01mml_dtypes\u001b[39;00m\u001b[38;5;21;01m.\u001b[39;00m\u001b[38;5;21;01m_iinfo\u001b[39;00m \u001b[38;5;28;01mimport\u001b[39;00m iinfo\n\u001b[0;32m     34\u001b[0m \u001b[38;5;28;01mfrom\u001b[39;00m \u001b[38;5;21;01mml_dtypes\u001b[39;00m\u001b[38;5;21;01m.\u001b[39;00m\u001b[38;5;21;01m_ml_dtypes_ext\u001b[39;00m \u001b[38;5;28;01mimport\u001b[39;00m bfloat16\n",
      "File \u001b[1;32mc:\\Users\\Nagesh Agrawal\\anaconda3\\Lib\\site-packages\\ml_dtypes\\_finfo.py:19\u001b[0m\n\u001b[0;32m     15\u001b[0m \u001b[38;5;124;03m\"\"\"Overload of numpy.finfo to handle dtypes defined in ml_dtypes.\"\"\"\u001b[39;00m\n\u001b[0;32m     17\u001b[0m \u001b[38;5;28;01mfrom\u001b[39;00m \u001b[38;5;21;01mtyping\u001b[39;00m \u001b[38;5;28;01mimport\u001b[39;00m Dict\n\u001b[1;32m---> 19\u001b[0m \u001b[38;5;28;01mfrom\u001b[39;00m \u001b[38;5;21;01mml_dtypes\u001b[39;00m\u001b[38;5;21;01m.\u001b[39;00m\u001b[38;5;21;01m_ml_dtypes_ext\u001b[39;00m \u001b[38;5;28;01mimport\u001b[39;00m bfloat16\n\u001b[0;32m     20\u001b[0m \u001b[38;5;28;01mfrom\u001b[39;00m \u001b[38;5;21;01mml_dtypes\u001b[39;00m\u001b[38;5;21;01m.\u001b[39;00m\u001b[38;5;21;01m_ml_dtypes_ext\u001b[39;00m \u001b[38;5;28;01mimport\u001b[39;00m float8_e4m3b11fnuz\n\u001b[0;32m     21\u001b[0m \u001b[38;5;28;01mfrom\u001b[39;00m \u001b[38;5;21;01mml_dtypes\u001b[39;00m\u001b[38;5;21;01m.\u001b[39;00m\u001b[38;5;21;01m_ml_dtypes_ext\u001b[39;00m \u001b[38;5;28;01mimport\u001b[39;00m float8_e4m3fn\n",
      "\u001b[1;31mImportError\u001b[0m: numpy._core.umath failed to import"
     ]
    }
   ],
   "source": [
    "# tensorflow\n",
    "import tensorflow as tf\n",
    "model = tf.keras.Sequential([tf.keras.layers.Dense(1, input_shape=[1])])\n",
    "model.compile(optimizer='sgd', loss='mse')\n",
    "model.fit([1, 2], [2, 4], epochs=10, verbose=0)\n",
    "print(model.predict([3]))\n"
   ]
  },
  {
   "cell_type": "code",
   "execution_count": null,
   "metadata": {},
   "outputs": [],
   "source": [
    "# keras \n",
    "from keras.models import Sequential\n",
    "from keras.layers import Dense\n",
    "model = Sequential([Dense(1, input_shape=[1])])\n",
    "model.compile(optimizer='sgd', loss='mse')\n",
    "model.fit([1, 2], [2, 4], epochs=10, verbose=0)\n",
    "print(model.predict([3]))\n"
   ]
  },
  {
   "cell_type": "code",
   "execution_count": null,
   "metadata": {},
   "outputs": [],
   "source": [
    "# pytorch\n",
    "import torch\n",
    "from torch import nn\n",
    "model = nn.Linear(1, 1)\n",
    "x = torch.tensor([[1.0], [2.0]])\n",
    "y = torch.tensor([[2.0], [4.0]])\n",
    "loss_fn = nn.MSELoss()\n",
    "optimizer = torch.optim.SGD(model.parameters(), lr=0.01)\n",
    "for _ in range(10):\n",
    "    pred = model(x)\n",
    "    loss = loss_fn(pred, y)\n",
    "    loss.backward()\n",
    "    optimizer.step()\n",
    "    optimizer.zero_grad()\n",
    "print(model(torch.tensor([[3.0]])))\n"
   ]
  },
  {
   "cell_type": "code",
   "execution_count": null,
   "metadata": {},
   "outputs": [],
   "source": [
    "# re\n",
    "import re\n",
    "text = \"Email: abc@example.com\"\n",
    "print(re.findall(r'\\S+@\\S+', text))  # Find email\n"
   ]
  },
  {
   "cell_type": "code",
   "execution_count": null,
   "metadata": {},
   "outputs": [],
   "source": [
    "# nltk\n",
    "import nltk\n",
    "nltk.download('punkt')\n",
    "print(nltk.word_tokenize(\"This is a test sentence.\"))\n"
   ]
  },
  {
   "cell_type": "code",
   "execution_count": null,
   "metadata": {},
   "outputs": [],
   "source": [
    "# spacy \n",
    "import spacy\n",
    "nlp = spacy.load(\"en_core_web_sm\")\n",
    "doc = nlp(\"This is a sentence.\")\n",
    "print([token.text for token in doc])\n"
   ]
  },
  {
   "cell_type": "code",
   "execution_count": null,
   "metadata": {},
   "outputs": [
    {
     "name": "stdout",
     "output_type": "stream",
     "text": [
      " * Serving Flask app '__main__'\n",
      " * Debug mode: off\n"
     ]
    },
    {
     "name": "stderr",
     "output_type": "stream",
     "text": [
      "WARNING: This is a development server. Do not use it in a production deployment. Use a production WSGI server instead.\n",
      " * Running on http://127.0.0.1:5000\n",
      "Press CTRL+C to quit\n",
      "127.0.0.1 - - [11/Apr/2025 19:52:46] \"GET / HTTP/1.1\" 200 -\n",
      "127.0.0.1 - - [11/Apr/2025 19:52:46] \"GET /favicon.ico HTTP/1.1\" 404 -\n"
     ]
    }
   ],
   "source": [
    "# flask\n",
    "from flask import Flask\n",
    "app = Flask(__name__)\n",
    "@app.route(\"/\")\n",
    "def home():\n",
    "    return \"Hello, Flask!\"\n",
    "app.run()  # Uncomment to run\n"
   ]
  },
  {
   "cell_type": "code",
   "execution_count": null,
   "metadata": {},
   "outputs": [],
   "source": [
    "# os\n",
    "import os\n",
    "print(os.getcwd())  # Current directory\n"
   ]
  },
  {
   "cell_type": "code",
   "execution_count": null,
   "metadata": {},
   "outputs": [],
   "source": [
    "# sys\n",
    "import sys\n",
    "print(sys.version)  # Python version\n"
   ]
  },
  {
   "cell_type": "code",
   "execution_count": null,
   "metadata": {},
   "outputs": [],
   "source": [
    "# datetime\n",
    "from datetime import datetime\n",
    "print(datetime.now())  # Current date & time\n"
   ]
  },
  {
   "cell_type": "code",
   "execution_count": null,
   "metadata": {},
   "outputs": [],
   "source": [
    "# json\n",
    "import json\n",
    "data = {\"name\": \"Alice\", \"age\": 25}\n",
    "print(json.dumps(data))  # Convert to JSON string\n"
   ]
  },
  {
   "cell_type": "code",
   "execution_count": 1,
   "metadata": {},
   "outputs": [
    {
     "name": "stdout",
     "output_type": "stream",
     "text": [
      "Sentiment: Sentiment(polarity=0.625, subjectivity=0.6)\n"
     ]
    }
   ],
   "source": [
    "#  TextBlob (Very simple and beginner-friendly)\n",
    "from textblob import TextBlob\n",
    "\n",
    "text = \"I love this product!\"\n",
    "blob = TextBlob(text)\n",
    "print(\"Sentiment:\", blob.sentiment)\n"
   ]
  },
  {
   "cell_type": "code",
   "execution_count": 2,
   "metadata": {},
   "outputs": [
    {
     "name": "stdout",
     "output_type": "stream",
     "text": [
      "Sentiment Score: {'neg': 0.0, 'neu': 0.406, 'pos': 0.594, 'compound': 0.6588}\n"
     ]
    },
    {
     "name": "stderr",
     "output_type": "stream",
     "text": [
      "[nltk_data] Downloading package vader_lexicon to C:\\Users\\Nagesh\n",
      "[nltk_data]     Agrawal\\AppData\\Roaming\\nltk_data...\n",
      "[nltk_data]   Package vader_lexicon is already up-to-date!\n"
     ]
    }
   ],
   "source": [
    "# VADER (from NLTK) – Great for social media\n",
    "from nltk.sentiment.vader import SentimentIntensityAnalyzer\n",
    "import nltk\n",
    "nltk.download('vader_lexicon')\n",
    "\n",
    "analyzer = SentimentIntensityAnalyzer()\n",
    "text = \"I had an awesome day!\"\n",
    "score = analyzer.polarity_scores(text)\n",
    "print(\"Sentiment Score:\", score)\n"
   ]
  },
  {
   "cell_type": "code",
   "execution_count": 4,
   "metadata": {},
   "outputs": [
    {
     "name": "stdout",
     "output_type": "stream",
     "text": [
      "Collecting spacy\n",
      "  Downloading spacy-3.8.5-cp312-cp312-win_amd64.whl.metadata (28 kB)\n",
      "Collecting spacy-legacy<3.1.0,>=3.0.11 (from spacy)\n",
      "  Downloading spacy_legacy-3.0.12-py2.py3-none-any.whl.metadata (2.8 kB)\n",
      "Collecting spacy-loggers<2.0.0,>=1.0.0 (from spacy)\n",
      "  Downloading spacy_loggers-1.0.5-py3-none-any.whl.metadata (23 kB)\n",
      "Collecting murmurhash<1.1.0,>=0.28.0 (from spacy)\n",
      "  Downloading murmurhash-1.0.12-cp312-cp312-win_amd64.whl.metadata (2.2 kB)\n",
      "Collecting cymem<2.1.0,>=2.0.2 (from spacy)\n",
      "  Downloading cymem-2.0.11-cp312-cp312-win_amd64.whl.metadata (8.8 kB)\n",
      "Collecting preshed<3.1.0,>=3.0.2 (from spacy)\n",
      "  Downloading preshed-3.0.9-cp312-cp312-win_amd64.whl.metadata (2.2 kB)\n",
      "Collecting thinc<8.4.0,>=8.3.4 (from spacy)\n",
      "  Downloading thinc-8.3.6-cp312-cp312-win_amd64.whl.metadata (15 kB)\n",
      "Collecting wasabi<1.2.0,>=0.9.1 (from spacy)\n",
      "  Downloading wasabi-1.1.3-py3-none-any.whl.metadata (28 kB)\n",
      "Collecting srsly<3.0.0,>=2.4.3 (from spacy)\n",
      "  Downloading srsly-2.5.1-cp312-cp312-win_amd64.whl.metadata (20 kB)\n",
      "Collecting catalogue<2.1.0,>=2.0.6 (from spacy)\n",
      "  Downloading catalogue-2.0.10-py3-none-any.whl.metadata (14 kB)\n",
      "Collecting weasel<0.5.0,>=0.1.0 (from spacy)\n",
      "  Downloading weasel-0.4.1-py3-none-any.whl.metadata (4.6 kB)\n",
      "Collecting typer<1.0.0,>=0.3.0 (from spacy)\n",
      "  Downloading typer-0.15.2-py3-none-any.whl.metadata (15 kB)\n",
      "Requirement already satisfied: tqdm<5.0.0,>=4.38.0 in c:\\users\\nagesh agrawal\\anaconda3\\lib\\site-packages (from spacy) (4.66.5)\n",
      "Requirement already satisfied: numpy>=1.19.0 in c:\\users\\nagesh agrawal\\anaconda3\\lib\\site-packages (from spacy) (1.26.4)\n",
      "Requirement already satisfied: requests<3.0.0,>=2.13.0 in c:\\users\\nagesh agrawal\\anaconda3\\lib\\site-packages (from spacy) (2.32.3)\n",
      "Requirement already satisfied: pydantic!=1.8,!=1.8.1,<3.0.0,>=1.7.4 in c:\\users\\nagesh agrawal\\anaconda3\\lib\\site-packages (from spacy) (2.8.2)\n",
      "Requirement already satisfied: jinja2 in c:\\users\\nagesh agrawal\\anaconda3\\lib\\site-packages (from spacy) (3.1.4)\n",
      "Requirement already satisfied: setuptools in c:\\users\\nagesh agrawal\\anaconda3\\lib\\site-packages (from spacy) (75.1.0)\n",
      "Requirement already satisfied: packaging>=20.0 in c:\\users\\nagesh agrawal\\anaconda3\\lib\\site-packages (from spacy) (24.1)\n",
      "Collecting langcodes<4.0.0,>=3.2.0 (from spacy)\n",
      "  Downloading langcodes-3.5.0-py3-none-any.whl.metadata (29 kB)\n",
      "Collecting language-data>=1.2 (from langcodes<4.0.0,>=3.2.0->spacy)\n",
      "  Downloading language_data-1.3.0-py3-none-any.whl.metadata (4.3 kB)\n",
      "Requirement already satisfied: annotated-types>=0.4.0 in c:\\users\\nagesh agrawal\\anaconda3\\lib\\site-packages (from pydantic!=1.8,!=1.8.1,<3.0.0,>=1.7.4->spacy) (0.6.0)\n",
      "Requirement already satisfied: pydantic-core==2.20.1 in c:\\users\\nagesh agrawal\\anaconda3\\lib\\site-packages (from pydantic!=1.8,!=1.8.1,<3.0.0,>=1.7.4->spacy) (2.20.1)\n",
      "Requirement already satisfied: typing-extensions>=4.6.1 in c:\\users\\nagesh agrawal\\anaconda3\\lib\\site-packages (from pydantic!=1.8,!=1.8.1,<3.0.0,>=1.7.4->spacy) (4.11.0)\n",
      "Requirement already satisfied: charset-normalizer<4,>=2 in c:\\users\\nagesh agrawal\\anaconda3\\lib\\site-packages (from requests<3.0.0,>=2.13.0->spacy) (3.3.2)\n",
      "Requirement already satisfied: idna<4,>=2.5 in c:\\users\\nagesh agrawal\\anaconda3\\lib\\site-packages (from requests<3.0.0,>=2.13.0->spacy) (3.7)\n",
      "Requirement already satisfied: urllib3<3,>=1.21.1 in c:\\users\\nagesh agrawal\\anaconda3\\lib\\site-packages (from requests<3.0.0,>=2.13.0->spacy) (2.2.3)\n",
      "Requirement already satisfied: certifi>=2017.4.17 in c:\\users\\nagesh agrawal\\anaconda3\\lib\\site-packages (from requests<3.0.0,>=2.13.0->spacy) (2024.8.30)\n",
      "Collecting blis<1.4.0,>=1.3.0 (from thinc<8.4.0,>=8.3.4->spacy)\n",
      "  Downloading blis-1.3.0-cp312-cp312-win_amd64.whl.metadata (7.6 kB)\n",
      "Collecting confection<1.0.0,>=0.0.1 (from thinc<8.4.0,>=8.3.4->spacy)\n",
      "  Downloading confection-0.1.5-py3-none-any.whl.metadata (19 kB)\n",
      "Collecting numpy>=1.19.0 (from spacy)\n",
      "  Downloading numpy-2.2.4-cp312-cp312-win_amd64.whl.metadata (60 kB)\n",
      "Requirement already satisfied: colorama in c:\\users\\nagesh agrawal\\anaconda3\\lib\\site-packages (from tqdm<5.0.0,>=4.38.0->spacy) (0.4.6)\n",
      "Requirement already satisfied: click>=8.0.0 in c:\\users\\nagesh agrawal\\anaconda3\\lib\\site-packages (from typer<1.0.0,>=0.3.0->spacy) (8.1.7)\n",
      "Collecting shellingham>=1.3.0 (from typer<1.0.0,>=0.3.0->spacy)\n",
      "  Downloading shellingham-1.5.4-py2.py3-none-any.whl.metadata (3.5 kB)\n",
      "Requirement already satisfied: rich>=10.11.0 in c:\\users\\nagesh agrawal\\anaconda3\\lib\\site-packages (from typer<1.0.0,>=0.3.0->spacy) (13.7.1)\n",
      "Collecting cloudpathlib<1.0.0,>=0.7.0 (from weasel<0.5.0,>=0.1.0->spacy)\n",
      "  Downloading cloudpathlib-0.21.0-py3-none-any.whl.metadata (14 kB)\n",
      "Requirement already satisfied: smart-open<8.0.0,>=5.2.1 in c:\\users\\nagesh agrawal\\anaconda3\\lib\\site-packages (from weasel<0.5.0,>=0.1.0->spacy) (5.2.1)\n",
      "Requirement already satisfied: MarkupSafe>=2.0 in c:\\users\\nagesh agrawal\\anaconda3\\lib\\site-packages (from jinja2->spacy) (2.1.3)\n",
      "Collecting marisa-trie>=1.1.0 (from language-data>=1.2->langcodes<4.0.0,>=3.2.0->spacy)\n",
      "  Downloading marisa_trie-1.2.1-cp312-cp312-win_amd64.whl.metadata (9.3 kB)\n",
      "Requirement already satisfied: markdown-it-py>=2.2.0 in c:\\users\\nagesh agrawal\\anaconda3\\lib\\site-packages (from rich>=10.11.0->typer<1.0.0,>=0.3.0->spacy) (2.2.0)\n",
      "Requirement already satisfied: pygments<3.0.0,>=2.13.0 in c:\\users\\nagesh agrawal\\anaconda3\\lib\\site-packages (from rich>=10.11.0->typer<1.0.0,>=0.3.0->spacy) (2.15.1)\n",
      "Requirement already satisfied: mdurl~=0.1 in c:\\users\\nagesh agrawal\\anaconda3\\lib\\site-packages (from markdown-it-py>=2.2.0->rich>=10.11.0->typer<1.0.0,>=0.3.0->spacy) (0.1.0)\n",
      "Downloading spacy-3.8.5-cp312-cp312-win_amd64.whl (11.8 MB)\n",
      "   ---------------------------------------- 0.0/11.8 MB ? eta -:--:--\n",
      "   ---------------------------------------- 0.0/11.8 MB ? eta -:--:--\n",
      "   ---------------------------------------- 0.0/11.8 MB ? eta -:--:--\n",
      "   ---------------------------------------- 0.0/11.8 MB ? eta -:--:--\n",
      "    --------------------------------------- 0.3/11.8 MB ? eta -:--:--\n",
      "    --------------------------------------- 0.3/11.8 MB ? eta -:--:--\n",
      "   - -------------------------------------- 0.5/11.8 MB 441.3 kB/s eta 0:00:26\n",
      "   - -------------------------------------- 0.5/11.8 MB 441.3 kB/s eta 0:00:26\n",
      "   -- ------------------------------------- 0.8/11.8 MB 430.1 kB/s eta 0:00:26\n",
      "   -- ------------------------------------- 0.8/11.8 MB 430.1 kB/s eta 0:00:26\n",
      "   -- ------------------------------------- 0.8/11.8 MB 430.1 kB/s eta 0:00:26\n",
      "   -- ------------------------------------- 0.8/11.8 MB 430.1 kB/s eta 0:00:26\n",
      "   --- ------------------------------------ 1.0/11.8 MB 399.4 kB/s eta 0:00:27\n",
      "   --- ------------------------------------ 1.0/11.8 MB 399.4 kB/s eta 0:00:27\n",
      "   --- ------------------------------------ 1.0/11.8 MB 399.4 kB/s eta 0:00:27\n",
      "   ---- ----------------------------------- 1.3/11.8 MB 387.9 kB/s eta 0:00:28\n",
      "   ---- ----------------------------------- 1.3/11.8 MB 387.9 kB/s eta 0:00:28\n",
      "   ---- ----------------------------------- 1.3/11.8 MB 387.9 kB/s eta 0:00:28\n",
      "   ---- ----------------------------------- 1.3/11.8 MB 387.9 kB/s eta 0:00:28\n",
      "   ----- ---------------------------------- 1.6/11.8 MB 366.3 kB/s eta 0:00:28\n",
      "   ----- ---------------------------------- 1.6/11.8 MB 366.3 kB/s eta 0:00:28\n",
      "   ----- ---------------------------------- 1.6/11.8 MB 366.3 kB/s eta 0:00:28\n",
      "   ----- ---------------------------------- 1.6/11.8 MB 366.3 kB/s eta 0:00:28\n",
      "   ------ --------------------------------- 1.8/11.8 MB 347.1 kB/s eta 0:00:29\n",
      "   ------ --------------------------------- 1.8/11.8 MB 347.1 kB/s eta 0:00:29\n",
      "   ------ --------------------------------- 1.8/11.8 MB 347.1 kB/s eta 0:00:29\n",
      "   ------ --------------------------------- 1.8/11.8 MB 347.1 kB/s eta 0:00:29\n",
      "   ------ --------------------------------- 1.8/11.8 MB 347.1 kB/s eta 0:00:29\n",
      "   ------- -------------------------------- 2.1/11.8 MB 329.9 kB/s eta 0:00:30\n",
      "   ------- -------------------------------- 2.1/11.8 MB 329.9 kB/s eta 0:00:30\n",
      "   ------- -------------------------------- 2.1/11.8 MB 329.9 kB/s eta 0:00:30\n",
      "   ------- -------------------------------- 2.1/11.8 MB 329.9 kB/s eta 0:00:30\n",
      "   -------- ------------------------------- 2.4/11.8 MB 326.6 kB/s eta 0:00:29\n",
      "   -------- ------------------------------- 2.4/11.8 MB 326.6 kB/s eta 0:00:29\n",
      "   -------- ------------------------------- 2.4/11.8 MB 326.6 kB/s eta 0:00:29\n",
      "   -------- ------------------------------- 2.4/11.8 MB 326.6 kB/s eta 0:00:29\n",
      "   -------- ------------------------------- 2.4/11.8 MB 326.6 kB/s eta 0:00:29\n",
      "   -------- ------------------------------- 2.4/11.8 MB 326.6 kB/s eta 0:00:29\n",
      "   -------- ------------------------------- 2.6/11.8 MB 308.8 kB/s eta 0:00:30\n",
      "   -------- ------------------------------- 2.6/11.8 MB 308.8 kB/s eta 0:00:30\n",
      "   -------- ------------------------------- 2.6/11.8 MB 308.8 kB/s eta 0:00:30\n",
      "   -------- ------------------------------- 2.6/11.8 MB 308.8 kB/s eta 0:00:30\n",
      "   -------- ------------------------------- 2.6/11.8 MB 308.8 kB/s eta 0:00:30\n",
      "   -------- ------------------------------- 2.6/11.8 MB 308.8 kB/s eta 0:00:30\n",
      "   --------- ------------------------------ 2.9/11.8 MB 298.0 kB/s eta 0:00:30\n",
      "   --------- ------------------------------ 2.9/11.8 MB 298.0 kB/s eta 0:00:30\n",
      "   --------- ------------------------------ 2.9/11.8 MB 298.0 kB/s eta 0:00:30\n",
      "   --------- ------------------------------ 2.9/11.8 MB 298.0 kB/s eta 0:00:30\n",
      "   ---------- ----------------------------- 3.1/11.8 MB 289.7 kB/s eta 0:00:30\n",
      "   ---------- ----------------------------- 3.1/11.8 MB 289.7 kB/s eta 0:00:30\n",
      "   ---------- ----------------------------- 3.1/11.8 MB 289.7 kB/s eta 0:00:30\n",
      "   ---------- ----------------------------- 3.1/11.8 MB 289.7 kB/s eta 0:00:30\n",
      "   ----------- ---------------------------- 3.4/11.8 MB 288.4 kB/s eta 0:00:30\n",
      "   ----------- ---------------------------- 3.4/11.8 MB 288.4 kB/s eta 0:00:30\n",
      "   ----------- ---------------------------- 3.4/11.8 MB 288.4 kB/s eta 0:00:30\n",
      "   ----------- ---------------------------- 3.4/11.8 MB 288.4 kB/s eta 0:00:30\n",
      "   ------------ --------------------------- 3.7/11.8 MB 291.6 kB/s eta 0:00:28\n",
      "   ------------ --------------------------- 3.7/11.8 MB 291.6 kB/s eta 0:00:28\n",
      "   ------------ --------------------------- 3.7/11.8 MB 291.6 kB/s eta 0:00:28\n",
      "   ------------- -------------------------- 3.9/11.8 MB 294.0 kB/s eta 0:00:27\n",
      "   ------------- -------------------------- 3.9/11.8 MB 294.0 kB/s eta 0:00:27\n",
      "   ------------- -------------------------- 3.9/11.8 MB 294.0 kB/s eta 0:00:27\n",
      "   -------------- ------------------------- 4.2/11.8 MB 296.4 kB/s eta 0:00:26\n",
      "   -------------- ------------------------- 4.2/11.8 MB 296.4 kB/s eta 0:00:26\n",
      "   -------------- ------------------------- 4.2/11.8 MB 296.4 kB/s eta 0:00:26\n",
      "   --------------- ------------------------ 4.5/11.8 MB 296.3 kB/s eta 0:00:25\n",
      "   --------------- ------------------------ 4.5/11.8 MB 296.3 kB/s eta 0:00:25\n",
      "   --------------- ------------------------ 4.5/11.8 MB 296.3 kB/s eta 0:00:25\n",
      "   ---------------- ----------------------- 4.7/11.8 MB 300.8 kB/s eta 0:00:24\n",
      "   ---------------- ----------------------- 5.0/11.8 MB 313.3 kB/s eta 0:00:22\n",
      "   ---------------- ----------------------- 5.0/11.8 MB 313.3 kB/s eta 0:00:22\n",
      "   ---------------- ----------------------- 5.0/11.8 MB 313.3 kB/s eta 0:00:22\n",
      "   ---------------- ----------------------- 5.0/11.8 MB 313.3 kB/s eta 0:00:22\n",
      "   ----------------- ---------------------- 5.2/11.8 MB 315.6 kB/s eta 0:00:21\n",
      "   ----------------- ---------------------- 5.2/11.8 MB 315.6 kB/s eta 0:00:21\n",
      "   ----------------- ---------------------- 5.2/11.8 MB 315.6 kB/s eta 0:00:21\n",
      "   ------------------ --------------------- 5.5/11.8 MB 312.4 kB/s eta 0:00:21\n",
      "   ------------------ --------------------- 5.5/11.8 MB 312.4 kB/s eta 0:00:21\n",
      "   ------------------ --------------------- 5.5/11.8 MB 312.4 kB/s eta 0:00:21\n",
      "   ------------------ --------------------- 5.5/11.8 MB 312.4 kB/s eta 0:00:21\n",
      "   ------------------- -------------------- 5.8/11.8 MB 311.5 kB/s eta 0:00:20\n",
      "   ------------------- -------------------- 5.8/11.8 MB 311.5 kB/s eta 0:00:20\n",
      "   -------------------- ------------------- 6.0/11.8 MB 316.0 kB/s eta 0:00:19\n",
      "   -------------------- ------------------- 6.0/11.8 MB 316.0 kB/s eta 0:00:19\n",
      "   --------------------- ------------------ 6.3/11.8 MB 320.5 kB/s eta 0:00:18\n",
      "   --------------------- ------------------ 6.3/11.8 MB 320.5 kB/s eta 0:00:18\n",
      "   ---------------------- ----------------- 6.6/11.8 MB 326.0 kB/s eta 0:00:17\n",
      "   ---------------------- ----------------- 6.6/11.8 MB 326.0 kB/s eta 0:00:17\n",
      "   ---------------------- ----------------- 6.6/11.8 MB 326.0 kB/s eta 0:00:17\n",
      "   ---------------------- ----------------- 6.6/11.8 MB 326.0 kB/s eta 0:00:17\n",
      "   ----------------------- ---------------- 6.8/11.8 MB 324.6 kB/s eta 0:00:16\n",
      "   ----------------------- ---------------- 6.8/11.8 MB 324.6 kB/s eta 0:00:16\n",
      "   ------------------------ --------------- 7.1/11.8 MB 331.7 kB/s eta 0:00:15\n",
      "   ------------------------ --------------- 7.3/11.8 MB 339.8 kB/s eta 0:00:14\n",
      "   ------------------------- -------------- 7.6/11.8 MB 348.0 kB/s eta 0:00:13\n",
      "   ------------------------- -------------- 7.6/11.8 MB 348.0 kB/s eta 0:00:13\n",
      "   -------------------------- ------------- 7.9/11.8 MB 354.4 kB/s eta 0:00:12\n",
      "   --------------------------- ------------ 8.1/11.8 MB 362.1 kB/s eta 0:00:11\n",
      "   --------------------------- ------------ 8.1/11.8 MB 362.1 kB/s eta 0:00:11\n",
      "   ---------------------------- ----------- 8.4/11.8 MB 367.8 kB/s eta 0:00:10\n",
      "   ---------------------------- ----------- 8.4/11.8 MB 367.8 kB/s eta 0:00:10\n",
      "   ----------------------------- ---------- 8.7/11.8 MB 371.8 kB/s eta 0:00:09\n",
      "   ----------------------------- ---------- 8.7/11.8 MB 371.8 kB/s eta 0:00:09\n",
      "   ------------------------------ --------- 8.9/11.8 MB 376.9 kB/s eta 0:00:08\n",
      "   ------------------------------ --------- 8.9/11.8 MB 376.9 kB/s eta 0:00:08\n",
      "   ------------------------------ --------- 8.9/11.8 MB 376.9 kB/s eta 0:00:08\n",
      "   ------------------------------- -------- 9.2/11.8 MB 374.5 kB/s eta 0:00:07\n",
      "   ------------------------------- -------- 9.2/11.8 MB 374.5 kB/s eta 0:00:07\n",
      "   ------------------------------- -------- 9.2/11.8 MB 374.5 kB/s eta 0:00:07\n",
      "   ------------------------------- -------- 9.2/11.8 MB 374.5 kB/s eta 0:00:07\n",
      "   -------------------------------- ------- 9.4/11.8 MB 371.4 kB/s eta 0:00:07\n",
      "   -------------------------------- ------- 9.4/11.8 MB 371.4 kB/s eta 0:00:07\n",
      "   -------------------------------- ------- 9.4/11.8 MB 371.4 kB/s eta 0:00:07\n",
      "   -------------------------------- ------- 9.7/11.8 MB 369.6 kB/s eta 0:00:06\n",
      "   -------------------------------- ------- 9.7/11.8 MB 369.6 kB/s eta 0:00:06\n",
      "   -------------------------------- ------- 9.7/11.8 MB 369.6 kB/s eta 0:00:06\n",
      "   --------------------------------- ------ 10.0/11.8 MB 371.0 kB/s eta 0:00:05\n",
      "   --------------------------------- ------ 10.0/11.8 MB 371.0 kB/s eta 0:00:05\n",
      "   ---------------------------------- ----- 10.2/11.8 MB 372.6 kB/s eta 0:00:05\n",
      "   ---------------------------------- ----- 10.2/11.8 MB 372.6 kB/s eta 0:00:05\n",
      "   ---------------------------------- ----- 10.2/11.8 MB 372.6 kB/s eta 0:00:05\n",
      "   ----------------------------------- ---- 10.5/11.8 MB 372.6 kB/s eta 0:00:04\n",
      "   ----------------------------------- ---- 10.5/11.8 MB 372.6 kB/s eta 0:00:04\n",
      "   ----------------------------------- ---- 10.5/11.8 MB 372.6 kB/s eta 0:00:04\n",
      "   ------------------------------------ --- 10.7/11.8 MB 372.8 kB/s eta 0:00:03\n",
      "   ------------------------------------ --- 10.7/11.8 MB 372.8 kB/s eta 0:00:03\n",
      "   ------------------------------------ --- 10.7/11.8 MB 372.8 kB/s eta 0:00:03\n",
      "   ------------------------------------- -- 11.0/11.8 MB 372.6 kB/s eta 0:00:03\n",
      "   -------------------------------------- - 11.3/11.8 MB 373.8 kB/s eta 0:00:02\n",
      "   -------------------------------------- - 11.3/11.8 MB 373.8 kB/s eta 0:00:02\n",
      "   ---------------------------------------  11.5/11.8 MB 376.1 kB/s eta 0:00:01\n",
      "   ---------------------------------------  11.5/11.8 MB 376.1 kB/s eta 0:00:01\n",
      "   ---------------------------------------  11.5/11.8 MB 376.1 kB/s eta 0:00:01\n",
      "   ---------------------------------------- 11.8/11.8 MB 372.3 kB/s eta 0:00:00\n",
      "Downloading catalogue-2.0.10-py3-none-any.whl (17 kB)\n",
      "Downloading cymem-2.0.11-cp312-cp312-win_amd64.whl (39 kB)\n",
      "Downloading langcodes-3.5.0-py3-none-any.whl (182 kB)\n",
      "Downloading murmurhash-1.0.12-cp312-cp312-win_amd64.whl (25 kB)\n",
      "Downloading preshed-3.0.9-cp312-cp312-win_amd64.whl (122 kB)\n",
      "Downloading spacy_legacy-3.0.12-py2.py3-none-any.whl (29 kB)\n",
      "Downloading spacy_loggers-1.0.5-py3-none-any.whl (22 kB)\n",
      "Downloading srsly-2.5.1-cp312-cp312-win_amd64.whl (632 kB)\n",
      "   ---------------------------------------- 0.0/632.6 kB ? eta -:--:--\n",
      "   ---------------------------------------- 0.0/632.6 kB ? eta -:--:--\n",
      "   ---------------------------------------- 0.0/632.6 kB ? eta -:--:--\n",
      "   ---------------------------------------- 0.0/632.6 kB ? eta -:--:--\n",
      "   ---------------------------------------- 0.0/632.6 kB ? eta -:--:--\n",
      "   ---------------- ----------------------- 262.1/632.6 kB ? eta -:--:--\n",
      "   ---------------- ----------------------- 262.1/632.6 kB ? eta -:--:--\n",
      "   ---------------- ----------------------- 262.1/632.6 kB ? eta -:--:--\n",
      "   ---------------- ----------------------- 262.1/632.6 kB ? eta -:--:--\n",
      "   ---------------- ----------------------- 262.1/632.6 kB ? eta -:--:--\n",
      "   ------------------------------- ------ 524.3/632.6 kB 294.5 kB/s eta 0:00:01\n",
      "   ------------------------------- ------ 524.3/632.6 kB 294.5 kB/s eta 0:00:01\n",
      "   -------------------------------------- 632.6/632.6 kB 275.6 kB/s eta 0:00:00\n",
      "Downloading thinc-8.3.6-cp312-cp312-win_amd64.whl (1.7 MB)\n",
      "   ---------------------------------------- 0.0/1.7 MB ? eta -:--:--\n",
      "   ---------------------------------------- 0.0/1.7 MB ? eta -:--:--\n",
      "   ---------------------------------------- 0.0/1.7 MB ? eta -:--:--\n",
      "   ---------------------------------------- 0.0/1.7 MB ? eta -:--:--\n",
      "   ---------------------------------------- 0.0/1.7 MB ? eta -:--:--\n",
      "   ----- ---------------------------------- 0.3/1.7 MB ? eta -:--:--\n",
      "   ----- ---------------------------------- 0.3/1.7 MB ? eta -:--:--\n",
      "   ----- ---------------------------------- 0.3/1.7 MB ? eta -:--:--\n",
      "   ----- ---------------------------------- 0.3/1.7 MB ? eta -:--:--\n",
      "   ----------- ---------------------------- 0.5/1.7 MB 310.6 kB/s eta 0:00:04\n",
      "   ----------- ---------------------------- 0.5/1.7 MB 310.6 kB/s eta 0:00:04\n",
      "   ----------- ---------------------------- 0.5/1.7 MB 310.6 kB/s eta 0:00:04\n",
      "   ----------------- ---------------------- 0.8/1.7 MB 364.8 kB/s eta 0:00:03\n",
      "   ----------------- ---------------------- 0.8/1.7 MB 364.8 kB/s eta 0:00:03\n",
      "   ----------------- ---------------------- 0.8/1.7 MB 364.8 kB/s eta 0:00:03\n",
      "   ----------------------- ---------------- 1.0/1.7 MB 370.1 kB/s eta 0:00:02\n",
      "   ----------------------- ---------------- 1.0/1.7 MB 370.1 kB/s eta 0:00:02\n",
      "   ----------------------- ---------------- 1.0/1.7 MB 370.1 kB/s eta 0:00:02\n",
      "   ----------------------------- ---------- 1.3/1.7 MB 377.0 kB/s eta 0:00:02\n",
      "   ----------------------------- ---------- 1.3/1.7 MB 377.0 kB/s eta 0:00:02\n",
      "   ----------------------------- ---------- 1.3/1.7 MB 377.0 kB/s eta 0:00:02\n",
      "   ----------------------------------- ---- 1.6/1.7 MB 376.2 kB/s eta 0:00:01\n",
      "   ----------------------------------- ---- 1.6/1.7 MB 376.2 kB/s eta 0:00:01\n",
      "   ----------------------------------- ---- 1.6/1.7 MB 376.2 kB/s eta 0:00:01\n",
      "   ---------------------------------------- 1.7/1.7 MB 367.5 kB/s eta 0:00:00\n",
      "Downloading numpy-2.2.4-cp312-cp312-win_amd64.whl (12.6 MB)\n",
      "   ---------------------------------------- 0.0/12.6 MB ? eta -:--:--\n",
      "   ---------------------------------------- 0.0/12.6 MB ? eta -:--:--\n",
      "   ---------------------------------------- 0.0/12.6 MB ? eta -:--:--\n",
      "   ---------------------------------------- 0.0/12.6 MB ? eta -:--:--\n",
      "    --------------------------------------- 0.3/12.6 MB ? eta -:--:--\n",
      "    --------------------------------------- 0.3/12.6 MB ? eta -:--:--\n",
      "    --------------------------------------- 0.3/12.6 MB ? eta -:--:--\n",
      "    --------------------------------------- 0.3/12.6 MB ? eta -:--:--\n",
      "   - -------------------------------------- 0.5/12.6 MB 328.9 kB/s eta 0:00:37\n",
      "   - -------------------------------------- 0.5/12.6 MB 328.9 kB/s eta 0:00:37\n",
      "   - -------------------------------------- 0.5/12.6 MB 328.9 kB/s eta 0:00:37\n",
      "   -- ------------------------------------- 0.8/12.6 MB 360.8 kB/s eta 0:00:33\n",
      "   -- ------------------------------------- 0.8/12.6 MB 360.8 kB/s eta 0:00:33\n",
      "   --- ------------------------------------ 1.0/12.6 MB 402.7 kB/s eta 0:00:29\n",
      "   --- ------------------------------------ 1.0/12.6 MB 402.7 kB/s eta 0:00:29\n",
      "   --- ------------------------------------ 1.0/12.6 MB 402.7 kB/s eta 0:00:29\n",
      "   ---- ----------------------------------- 1.3/12.6 MB 414.3 kB/s eta 0:00:28\n",
      "   ---- ----------------------------------- 1.3/12.6 MB 414.3 kB/s eta 0:00:28\n",
      "   ---- ----------------------------------- 1.3/12.6 MB 414.3 kB/s eta 0:00:28\n",
      "   ---- ----------------------------------- 1.6/12.6 MB 411.3 kB/s eta 0:00:27\n",
      "   ---- ----------------------------------- 1.6/12.6 MB 411.3 kB/s eta 0:00:27\n",
      "   ----- ---------------------------------- 1.8/12.6 MB 417.8 kB/s eta 0:00:26\n",
      "   ----- ---------------------------------- 1.8/12.6 MB 417.8 kB/s eta 0:00:26\n",
      "   ------ --------------------------------- 2.1/12.6 MB 424.0 kB/s eta 0:00:25\n",
      "   ------ --------------------------------- 2.1/12.6 MB 424.0 kB/s eta 0:00:25\n",
      "   ------ --------------------------------- 2.1/12.6 MB 424.0 kB/s eta 0:00:25\n",
      "   ------- -------------------------------- 2.4/12.6 MB 431.6 kB/s eta 0:00:24\n",
      "   ------- -------------------------------- 2.4/12.6 MB 431.6 kB/s eta 0:00:24\n",
      "   -------- ------------------------------- 2.6/12.6 MB 433.9 kB/s eta 0:00:24\n",
      "   -------- ------------------------------- 2.6/12.6 MB 433.9 kB/s eta 0:00:24\n",
      "   -------- ------------------------------- 2.6/12.6 MB 433.9 kB/s eta 0:00:24\n",
      "   --------- ------------------------------ 2.9/12.6 MB 438.1 kB/s eta 0:00:23\n",
      "   --------- ------------------------------ 2.9/12.6 MB 438.1 kB/s eta 0:00:23\n",
      "   --------- ------------------------------ 2.9/12.6 MB 438.1 kB/s eta 0:00:23\n",
      "   --------- ------------------------------ 3.1/12.6 MB 414.7 kB/s eta 0:00:23\n",
      "   --------- ------------------------------ 3.1/12.6 MB 414.7 kB/s eta 0:00:23\n",
      "   ---------- ----------------------------- 3.4/12.6 MB 406.7 kB/s eta 0:00:23\n",
      "   ---------- ----------------------------- 3.4/12.6 MB 406.7 kB/s eta 0:00:23\n",
      "   ---------- ----------------------------- 3.4/12.6 MB 406.7 kB/s eta 0:00:23\n",
      "   ---------- ----------------------------- 3.4/12.6 MB 406.7 kB/s eta 0:00:23\n",
      "   ---------- ----------------------------- 3.4/12.6 MB 406.7 kB/s eta 0:00:23\n",
      "   ---------- ----------------------------- 3.4/12.6 MB 406.7 kB/s eta 0:00:23\n",
      "   ----------- ---------------------------- 3.7/12.6 MB 373.5 kB/s eta 0:00:25\n",
      "   ------------ --------------------------- 3.9/12.6 MB 392.1 kB/s eta 0:00:23\n",
      "   ------------ --------------------------- 3.9/12.6 MB 392.1 kB/s eta 0:00:23\n",
      "   ------------- -------------------------- 4.2/12.6 MB 395.7 kB/s eta 0:00:22\n",
      "   ------------- -------------------------- 4.2/12.6 MB 395.7 kB/s eta 0:00:22\n",
      "   ------------- -------------------------- 4.2/12.6 MB 395.7 kB/s eta 0:00:22\n",
      "   ------------- -------------------------- 4.2/12.6 MB 395.7 kB/s eta 0:00:22\n",
      "   -------------- ------------------------- 4.5/12.6 MB 386.8 kB/s eta 0:00:22\n",
      "   -------------- ------------------------- 4.5/12.6 MB 386.8 kB/s eta 0:00:22\n",
      "   -------------- ------------------------- 4.5/12.6 MB 386.8 kB/s eta 0:00:22\n",
      "   -------------- ------------------------- 4.7/12.6 MB 380.8 kB/s eta 0:00:21\n",
      "   -------------- ------------------------- 4.7/12.6 MB 380.8 kB/s eta 0:00:21\n",
      "   -------------- ------------------------- 4.7/12.6 MB 380.8 kB/s eta 0:00:21\n",
      "   --------------- ------------------------ 5.0/12.6 MB 378.0 kB/s eta 0:00:21\n",
      "   --------------- ------------------------ 5.0/12.6 MB 378.0 kB/s eta 0:00:21\n",
      "   --------------- ------------------------ 5.0/12.6 MB 378.0 kB/s eta 0:00:21\n",
      "   --------------- ------------------------ 5.0/12.6 MB 378.0 kB/s eta 0:00:21\n",
      "   ---------------- ----------------------- 5.2/12.6 MB 373.7 kB/s eta 0:00:20\n",
      "   ---------------- ----------------------- 5.2/12.6 MB 373.7 kB/s eta 0:00:20\n",
      "   ---------------- ----------------------- 5.2/12.6 MB 373.7 kB/s eta 0:00:20\n",
      "   ---------------- ----------------------- 5.2/12.6 MB 373.7 kB/s eta 0:00:20\n",
      "   ---------------- ----------------------- 5.2/12.6 MB 373.7 kB/s eta 0:00:20\n",
      "   ----------------- ---------------------- 5.5/12.6 MB 360.8 kB/s eta 0:00:20\n",
      "   ----------------- ---------------------- 5.5/12.6 MB 360.8 kB/s eta 0:00:20\n",
      "   ----------------- ---------------------- 5.5/12.6 MB 360.8 kB/s eta 0:00:20\n",
      "   ----------------- ---------------------- 5.5/12.6 MB 360.8 kB/s eta 0:00:20\n",
      "   ------------------ --------------------- 5.8/12.6 MB 358.8 kB/s eta 0:00:20\n",
      "   ------------------ --------------------- 5.8/12.6 MB 358.8 kB/s eta 0:00:20\n",
      "   ------------------ --------------------- 5.8/12.6 MB 358.8 kB/s eta 0:00:20\n",
      "   ------------------ --------------------- 5.8/12.6 MB 358.8 kB/s eta 0:00:20\n",
      "   ------------------- -------------------- 6.0/12.6 MB 355.3 kB/s eta 0:00:19\n",
      "   ------------------- -------------------- 6.0/12.6 MB 355.3 kB/s eta 0:00:19\n",
      "   ------------------- -------------------- 6.0/12.6 MB 355.3 kB/s eta 0:00:19\n",
      "   ------------------- -------------------- 6.0/12.6 MB 355.3 kB/s eta 0:00:19\n",
      "   ------------------- -------------------- 6.3/12.6 MB 351.8 kB/s eta 0:00:19\n",
      "   ------------------- -------------------- 6.3/12.6 MB 351.8 kB/s eta 0:00:19\n",
      "   ------------------- -------------------- 6.3/12.6 MB 351.8 kB/s eta 0:00:19\n",
      "   ------------------- -------------------- 6.3/12.6 MB 351.8 kB/s eta 0:00:19\n",
      "   -------------------- ------------------- 6.6/12.6 MB 351.4 kB/s eta 0:00:18\n",
      "   -------------------- ------------------- 6.6/12.6 MB 351.4 kB/s eta 0:00:18\n",
      "   --------------------- ------------------ 6.8/12.6 MB 354.8 kB/s eta 0:00:17\n",
      "   --------------------- ------------------ 6.8/12.6 MB 354.8 kB/s eta 0:00:17\n",
      "   --------------------- ------------------ 6.8/12.6 MB 354.8 kB/s eta 0:00:17\n",
      "   --------------------- ------------------ 6.8/12.6 MB 354.8 kB/s eta 0:00:17\n",
      "   ---------------------- ----------------- 7.1/12.6 MB 354.9 kB/s eta 0:00:16\n",
      "   ---------------------- ----------------- 7.1/12.6 MB 354.9 kB/s eta 0:00:16\n",
      "   ---------------------- ----------------- 7.1/12.6 MB 354.9 kB/s eta 0:00:16\n",
      "   ---------------------- ----------------- 7.1/12.6 MB 354.9 kB/s eta 0:00:16\n",
      "   ---------------------- ----------------- 7.1/12.6 MB 354.9 kB/s eta 0:00:16\n",
      "   ----------------------- ---------------- 7.3/12.6 MB 347.4 kB/s eta 0:00:16\n",
      "   ----------------------- ---------------- 7.3/12.6 MB 347.4 kB/s eta 0:00:16\n",
      "   ----------------------- ---------------- 7.3/12.6 MB 347.4 kB/s eta 0:00:16\n",
      "   ----------------------- ---------------- 7.3/12.6 MB 347.4 kB/s eta 0:00:16\n",
      "   ------------------------ --------------- 7.6/12.6 MB 346.4 kB/s eta 0:00:15\n",
      "   ------------------------ --------------- 7.6/12.6 MB 346.4 kB/s eta 0:00:15\n",
      "   ------------------------ --------------- 7.6/12.6 MB 346.4 kB/s eta 0:00:15\n",
      "   ------------------------ --------------- 7.9/12.6 MB 348.0 kB/s eta 0:00:14\n",
      "   ------------------------ --------------- 7.9/12.6 MB 348.0 kB/s eta 0:00:14\n",
      "   ------------------------ --------------- 7.9/12.6 MB 348.0 kB/s eta 0:00:14\n",
      "   ------------------------- -------------- 8.1/12.6 MB 350.7 kB/s eta 0:00:13\n",
      "   ------------------------- -------------- 8.1/12.6 MB 350.7 kB/s eta 0:00:13\n",
      "   -------------------------- ------------- 8.4/12.6 MB 355.0 kB/s eta 0:00:12\n",
      "   -------------------------- ------------- 8.4/12.6 MB 355.0 kB/s eta 0:00:12\n",
      "   -------------------------- ------------- 8.4/12.6 MB 355.0 kB/s eta 0:00:12\n",
      "   --------------------------- ------------ 8.7/12.6 MB 354.4 kB/s eta 0:00:12\n",
      "   --------------------------- ------------ 8.7/12.6 MB 354.4 kB/s eta 0:00:12\n",
      "   --------------------------- ------------ 8.7/12.6 MB 354.4 kB/s eta 0:00:12\n",
      "   --------------------------- ------------ 8.7/12.6 MB 354.4 kB/s eta 0:00:12\n",
      "   ---------------------------- ----------- 8.9/12.6 MB 352.9 kB/s eta 0:00:11\n",
      "   ---------------------------- ----------- 8.9/12.6 MB 352.9 kB/s eta 0:00:11\n",
      "   ---------------------------- ----------- 8.9/12.6 MB 352.9 kB/s eta 0:00:11\n",
      "   ---------------------------- ----------- 8.9/12.6 MB 352.9 kB/s eta 0:00:11\n",
      "   ----------------------------- ---------- 9.2/12.6 MB 353.4 kB/s eta 0:00:10\n",
      "   ----------------------------- ---------- 9.2/12.6 MB 353.4 kB/s eta 0:00:10\n",
      "   ----------------------------- ---------- 9.2/12.6 MB 353.4 kB/s eta 0:00:10\n",
      "   ----------------------------- ---------- 9.4/12.6 MB 352.2 kB/s eta 0:00:10\n",
      "   ----------------------------- ---------- 9.4/12.6 MB 352.2 kB/s eta 0:00:10\n",
      "   ----------------------------- ---------- 9.4/12.6 MB 352.2 kB/s eta 0:00:10\n",
      "   ----------------------------- ---------- 9.4/12.6 MB 352.2 kB/s eta 0:00:10\n",
      "   ----------------------------- ---------- 9.4/12.6 MB 352.2 kB/s eta 0:00:10\n",
      "   ----------------------------- ---------- 9.4/12.6 MB 352.2 kB/s eta 0:00:10\n",
      "   ------------------------------ --------- 9.7/12.6 MB 345.3 kB/s eta 0:00:09\n",
      "   ------------------------------ --------- 9.7/12.6 MB 345.3 kB/s eta 0:00:09\n",
      "   ------------------------------ --------- 9.7/12.6 MB 345.3 kB/s eta 0:00:09\n",
      "   ------------------------------ --------- 9.7/12.6 MB 345.3 kB/s eta 0:00:09\n",
      "   ------------------------------- -------- 10.0/12.6 MB 344.3 kB/s eta 0:00:08\n",
      "   ------------------------------- -------- 10.0/12.6 MB 344.3 kB/s eta 0:00:08\n",
      "   ------------------------------- -------- 10.0/12.6 MB 344.3 kB/s eta 0:00:08\n",
      "   -------------------------------- ------- 10.2/12.6 MB 346.5 kB/s eta 0:00:07\n",
      "   -------------------------------- ------- 10.2/12.6 MB 346.5 kB/s eta 0:00:07\n",
      "   --------------------------------- ------ 10.5/12.6 MB 350.3 kB/s eta 0:00:07\n",
      "   --------------------------------- ------ 10.5/12.6 MB 350.3 kB/s eta 0:00:07\n",
      "   --------------------------------- ------ 10.5/12.6 MB 350.3 kB/s eta 0:00:07\n",
      "   --------------------------------- ------ 10.5/12.6 MB 350.3 kB/s eta 0:00:07\n",
      "   ---------------------------------- ----- 10.7/12.6 MB 349.5 kB/s eta 0:00:06\n",
      "   ---------------------------------- ----- 10.7/12.6 MB 349.5 kB/s eta 0:00:06\n",
      "   ---------------------------------- ----- 10.7/12.6 MB 349.5 kB/s eta 0:00:06\n",
      "   ---------------------------------- ----- 10.7/12.6 MB 349.5 kB/s eta 0:00:06\n",
      "   ---------------------------------- ----- 11.0/12.6 MB 347.3 kB/s eta 0:00:05\n",
      "   ---------------------------------- ----- 11.0/12.6 MB 347.3 kB/s eta 0:00:05\n",
      "   ---------------------------------- ----- 11.0/12.6 MB 347.3 kB/s eta 0:00:05\n",
      "   ---------------------------------- ----- 11.0/12.6 MB 347.3 kB/s eta 0:00:05\n",
      "   ----------------------------------- ---- 11.3/12.6 MB 342.4 kB/s eta 0:00:05\n",
      "   ----------------------------------- ---- 11.3/12.6 MB 342.4 kB/s eta 0:00:05\n",
      "   ----------------------------------- ---- 11.3/12.6 MB 342.4 kB/s eta 0:00:05\n",
      "   ----------------------------------- ---- 11.3/12.6 MB 342.4 kB/s eta 0:00:05\n",
      "   ----------------------------------- ---- 11.3/12.6 MB 342.4 kB/s eta 0:00:05\n",
      "   ------------------------------------ --- 11.5/12.6 MB 335.9 kB/s eta 0:00:04\n",
      "   ------------------------------------ --- 11.5/12.6 MB 335.9 kB/s eta 0:00:04\n",
      "   ------------------------------------ --- 11.5/12.6 MB 335.9 kB/s eta 0:00:04\n",
      "   ------------------------------------ --- 11.5/12.6 MB 335.9 kB/s eta 0:00:04\n",
      "   ------------------------------------ --- 11.5/12.6 MB 335.9 kB/s eta 0:00:04\n",
      "   ------------------------------------- -- 11.8/12.6 MB 328.4 kB/s eta 0:00:03\n",
      "   ------------------------------------- -- 11.8/12.6 MB 328.4 kB/s eta 0:00:03\n",
      "   ------------------------------------- -- 11.8/12.6 MB 328.4 kB/s eta 0:00:03\n",
      "   ------------------------------------- -- 11.8/12.6 MB 328.4 kB/s eta 0:00:03\n",
      "   -------------------------------------- - 12.1/12.6 MB 324.8 kB/s eta 0:00:02\n",
      "   -------------------------------------- - 12.1/12.6 MB 324.8 kB/s eta 0:00:02\n",
      "   -------------------------------------- - 12.1/12.6 MB 324.8 kB/s eta 0:00:02\n",
      "   -------------------------------------- - 12.3/12.6 MB 324.5 kB/s eta 0:00:01\n",
      "   -------------------------------------- - 12.3/12.6 MB 324.5 kB/s eta 0:00:01\n",
      "   -------------------------------------- - 12.3/12.6 MB 324.5 kB/s eta 0:00:01\n",
      "   ---------------------------------------  12.6/12.6 MB 323.5 kB/s eta 0:00:01\n",
      "   ---------------------------------------- 12.6/12.6 MB 325.8 kB/s eta 0:00:00\n",
      "Downloading typer-0.15.2-py3-none-any.whl (45 kB)\n",
      "Downloading wasabi-1.1.3-py3-none-any.whl (27 kB)\n",
      "Downloading weasel-0.4.1-py3-none-any.whl (50 kB)\n",
      "Downloading blis-1.3.0-cp312-cp312-win_amd64.whl (6.3 MB)\n",
      "   ---------------------------------------- 0.0/6.3 MB ? eta -:--:--\n",
      "   ---------------------------------------- 0.0/6.3 MB ? eta -:--:--\n",
      "   ---------------------------------------- 0.0/6.3 MB ? eta -:--:--\n",
      "   ---------------------------------------- 0.0/6.3 MB ? eta -:--:--\n",
      "   - -------------------------------------- 0.3/6.3 MB ? eta -:--:--\n",
      "   - -------------------------------------- 0.3/6.3 MB ? eta -:--:--\n",
      "   - -------------------------------------- 0.3/6.3 MB ? eta -:--:--\n",
      "   - -------------------------------------- 0.3/6.3 MB ? eta -:--:--\n",
      "   - -------------------------------------- 0.3/6.3 MB ? eta -:--:--\n",
      "   --- ------------------------------------ 0.5/6.3 MB 250.4 kB/s eta 0:00:23\n",
      "   --- ------------------------------------ 0.5/6.3 MB 250.4 kB/s eta 0:00:23\n",
      "   --- ------------------------------------ 0.5/6.3 MB 250.4 kB/s eta 0:00:23\n",
      "   --- ------------------------------------ 0.5/6.3 MB 250.4 kB/s eta 0:00:23\n",
      "   --- ------------------------------------ 0.5/6.3 MB 250.4 kB/s eta 0:00:23\n",
      "   ----- ---------------------------------- 0.8/6.3 MB 268.5 kB/s eta 0:00:21\n",
      "   ----- ---------------------------------- 0.8/6.3 MB 268.5 kB/s eta 0:00:21\n",
      "   ----- ---------------------------------- 0.8/6.3 MB 268.5 kB/s eta 0:00:21\n",
      "   ----- ---------------------------------- 0.8/6.3 MB 268.5 kB/s eta 0:00:21\n",
      "   ----- ---------------------------------- 0.8/6.3 MB 268.5 kB/s eta 0:00:21\n",
      "   ------ --------------------------------- 1.0/6.3 MB 249.2 kB/s eta 0:00:21\n",
      "   ------ --------------------------------- 1.0/6.3 MB 249.2 kB/s eta 0:00:21\n",
      "   ------ --------------------------------- 1.0/6.3 MB 249.2 kB/s eta 0:00:21\n",
      "   ------ --------------------------------- 1.0/6.3 MB 249.2 kB/s eta 0:00:21\n",
      "   ------ --------------------------------- 1.0/6.3 MB 249.2 kB/s eta 0:00:21\n",
      "   ------ --------------------------------- 1.0/6.3 MB 249.2 kB/s eta 0:00:21\n",
      "   -------- ------------------------------- 1.3/6.3 MB 238.0 kB/s eta 0:00:21\n",
      "   -------- ------------------------------- 1.3/6.3 MB 238.0 kB/s eta 0:00:21\n",
      "   -------- ------------------------------- 1.3/6.3 MB 238.0 kB/s eta 0:00:21\n",
      "   -------- ------------------------------- 1.3/6.3 MB 238.0 kB/s eta 0:00:21\n",
      "   -------- ------------------------------- 1.3/6.3 MB 238.0 kB/s eta 0:00:21\n",
      "   -------- ------------------------------- 1.3/6.3 MB 238.0 kB/s eta 0:00:21\n",
      "   -------- ------------------------------- 1.3/6.3 MB 238.0 kB/s eta 0:00:21\n",
      "   ---------- ----------------------------- 1.6/6.3 MB 223.7 kB/s eta 0:00:21\n",
      "   ---------- ----------------------------- 1.6/6.3 MB 223.7 kB/s eta 0:00:21\n",
      "   ---------- ----------------------------- 1.6/6.3 MB 223.7 kB/s eta 0:00:21\n",
      "   ---------- ----------------------------- 1.6/6.3 MB 223.7 kB/s eta 0:00:21\n",
      "   ---------- ----------------------------- 1.6/6.3 MB 223.7 kB/s eta 0:00:21\n",
      "   ----------- ---------------------------- 1.8/6.3 MB 226.7 kB/s eta 0:00:20\n",
      "   ----------- ---------------------------- 1.8/6.3 MB 226.7 kB/s eta 0:00:20\n",
      "   ----------- ---------------------------- 1.8/6.3 MB 226.7 kB/s eta 0:00:20\n",
      "   ----------- ---------------------------- 1.8/6.3 MB 226.7 kB/s eta 0:00:20\n",
      "   ------------- -------------------------- 2.1/6.3 MB 234.4 kB/s eta 0:00:18\n",
      "   ------------- -------------------------- 2.1/6.3 MB 234.4 kB/s eta 0:00:18\n",
      "   ------------- -------------------------- 2.1/6.3 MB 234.4 kB/s eta 0:00:18\n",
      "   ------------- -------------------------- 2.1/6.3 MB 234.4 kB/s eta 0:00:18\n",
      "   ------------- -------------------------- 2.1/6.3 MB 234.4 kB/s eta 0:00:18\n",
      "   --------------- ------------------------ 2.4/6.3 MB 234.6 kB/s eta 0:00:17\n",
      "   --------------- ------------------------ 2.4/6.3 MB 234.6 kB/s eta 0:00:17\n",
      "   --------------- ------------------------ 2.4/6.3 MB 234.6 kB/s eta 0:00:17\n",
      "   --------------- ------------------------ 2.4/6.3 MB 234.6 kB/s eta 0:00:17\n",
      "   --------------- ------------------------ 2.4/6.3 MB 234.6 kB/s eta 0:00:17\n",
      "   --------------- ------------------------ 2.4/6.3 MB 234.6 kB/s eta 0:00:17\n",
      "   --------------- ------------------------ 2.4/6.3 MB 234.6 kB/s eta 0:00:17\n",
      "   ---------------- ----------------------- 2.6/6.3 MB 225.7 kB/s eta 0:00:17\n",
      "   ---------------- ----------------------- 2.6/6.3 MB 225.7 kB/s eta 0:00:17\n",
      "   ---------------- ----------------------- 2.6/6.3 MB 225.7 kB/s eta 0:00:17\n",
      "   ---------------- ----------------------- 2.6/6.3 MB 225.7 kB/s eta 0:00:17\n",
      "   ---------------- ----------------------- 2.6/6.3 MB 225.7 kB/s eta 0:00:17\n",
      "   ---------------- ----------------------- 2.6/6.3 MB 225.7 kB/s eta 0:00:17\n",
      "   ---------------- ----------------------- 2.6/6.3 MB 225.7 kB/s eta 0:00:17\n",
      "   ---------------- ----------------------- 2.6/6.3 MB 225.7 kB/s eta 0:00:17\n",
      "   ------------------ --------------------- 2.9/6.3 MB 208.7 kB/s eta 0:00:17\n",
      "   ------------------ --------------------- 2.9/6.3 MB 208.7 kB/s eta 0:00:17\n",
      "   ------------------ --------------------- 2.9/6.3 MB 208.7 kB/s eta 0:00:17\n",
      "   ------------------ --------------------- 2.9/6.3 MB 208.7 kB/s eta 0:00:17\n",
      "   ------------------ --------------------- 2.9/6.3 MB 208.7 kB/s eta 0:00:17\n",
      "   -------------------- ------------------- 3.1/6.3 MB 204.4 kB/s eta 0:00:16\n",
      "   -------------------- ------------------- 3.1/6.3 MB 204.4 kB/s eta 0:00:16\n",
      "   -------------------- ------------------- 3.1/6.3 MB 204.4 kB/s eta 0:00:16\n",
      "   -------------------- ------------------- 3.1/6.3 MB 204.4 kB/s eta 0:00:16\n",
      "   -------------------- ------------------- 3.1/6.3 MB 204.4 kB/s eta 0:00:16\n",
      "   -------------------- ------------------- 3.1/6.3 MB 204.4 kB/s eta 0:00:16\n",
      "   --------------------- ------------------ 3.4/6.3 MB 201.3 kB/s eta 0:00:15\n",
      "   --------------------- ------------------ 3.4/6.3 MB 201.3 kB/s eta 0:00:15\n",
      "   --------------------- ------------------ 3.4/6.3 MB 201.3 kB/s eta 0:00:15\n",
      "   --------------------- ------------------ 3.4/6.3 MB 201.3 kB/s eta 0:00:15\n",
      "   --------------------- ------------------ 3.4/6.3 MB 201.3 kB/s eta 0:00:15\n",
      "   --------------------- ------------------ 3.4/6.3 MB 201.3 kB/s eta 0:00:15\n",
      "   ----------------------- ---------------- 3.7/6.3 MB 202.7 kB/s eta 0:00:13\n",
      "   ----------------------- ---------------- 3.7/6.3 MB 202.7 kB/s eta 0:00:13\n",
      "   ----------------------- ---------------- 3.7/6.3 MB 202.7 kB/s eta 0:00:13\n",
      "   ----------------------- ---------------- 3.7/6.3 MB 202.7 kB/s eta 0:00:13\n",
      "   ----------------------- ---------------- 3.7/6.3 MB 202.7 kB/s eta 0:00:13\n",
      "   ----------------------- ---------------- 3.7/6.3 MB 202.7 kB/s eta 0:00:13\n",
      "   ----------------------- ---------------- 3.7/6.3 MB 202.7 kB/s eta 0:00:13\n",
      "   ------------------------- -------------- 3.9/6.3 MB 199.7 kB/s eta 0:00:12\n",
      "   ------------------------- -------------- 3.9/6.3 MB 199.7 kB/s eta 0:00:12\n",
      "   ------------------------- -------------- 3.9/6.3 MB 199.7 kB/s eta 0:00:12\n",
      "   ------------------------- -------------- 3.9/6.3 MB 199.7 kB/s eta 0:00:12\n",
      "   ------------------------- -------------- 3.9/6.3 MB 199.7 kB/s eta 0:00:12\n",
      "   -------------------------- ------------- 4.2/6.3 MB 201.3 kB/s eta 0:00:11\n",
      "   -------------------------- ------------- 4.2/6.3 MB 201.3 kB/s eta 0:00:11\n",
      "   -------------------------- ------------- 4.2/6.3 MB 201.3 kB/s eta 0:00:11\n",
      "   -------------------------- ------------- 4.2/6.3 MB 201.3 kB/s eta 0:00:11\n",
      "   -------------------------- ------------- 4.2/6.3 MB 201.3 kB/s eta 0:00:11\n",
      "   -------------------------- ------------- 4.2/6.3 MB 201.3 kB/s eta 0:00:11\n",
      "   ---------------------------- ----------- 4.5/6.3 MB 202.0 kB/s eta 0:00:09\n",
      "   ---------------------------- ----------- 4.5/6.3 MB 202.0 kB/s eta 0:00:09\n",
      "   ---------------------------- ----------- 4.5/6.3 MB 202.0 kB/s eta 0:00:09\n",
      "   ---------------------------- ----------- 4.5/6.3 MB 202.0 kB/s eta 0:00:09\n",
      "   ------------------------------ --------- 4.7/6.3 MB 206.2 kB/s eta 0:00:08\n",
      "   ------------------------------ --------- 4.7/6.3 MB 206.2 kB/s eta 0:00:08\n",
      "   ------------------------------ --------- 4.7/6.3 MB 206.2 kB/s eta 0:00:08\n",
      "   ------------------------------ --------- 4.7/6.3 MB 206.2 kB/s eta 0:00:08\n",
      "   ------------------------------- -------- 5.0/6.3 MB 210.4 kB/s eta 0:00:07\n",
      "   ------------------------------- -------- 5.0/6.3 MB 210.4 kB/s eta 0:00:07\n",
      "   ------------------------------- -------- 5.0/6.3 MB 210.4 kB/s eta 0:00:07\n",
      "   ------------------------------- -------- 5.0/6.3 MB 210.4 kB/s eta 0:00:07\n",
      "   ------------------------------- -------- 5.0/6.3 MB 210.4 kB/s eta 0:00:07\n",
      "   ------------------------------- -------- 5.0/6.3 MB 210.4 kB/s eta 0:00:07\n",
      "   --------------------------------- ------ 5.2/6.3 MB 209.8 kB/s eta 0:00:05\n",
      "   --------------------------------- ------ 5.2/6.3 MB 209.8 kB/s eta 0:00:05\n",
      "   --------------------------------- ------ 5.2/6.3 MB 209.8 kB/s eta 0:00:05\n",
      "   --------------------------------- ------ 5.2/6.3 MB 209.8 kB/s eta 0:00:05\n",
      "   ----------------------------------- ---- 5.5/6.3 MB 213.2 kB/s eta 0:00:04\n",
      "   ----------------------------------- ---- 5.5/6.3 MB 213.2 kB/s eta 0:00:04\n",
      "   ----------------------------------- ---- 5.5/6.3 MB 213.2 kB/s eta 0:00:04\n",
      "   ----------------------------------- ---- 5.5/6.3 MB 213.2 kB/s eta 0:00:04\n",
      "   ------------------------------------ --- 5.8/6.3 MB 217.6 kB/s eta 0:00:03\n",
      "   ------------------------------------ --- 5.8/6.3 MB 217.6 kB/s eta 0:00:03\n",
      "   ------------------------------------ --- 5.8/6.3 MB 217.6 kB/s eta 0:00:03\n",
      "   ------------------------------------ --- 5.8/6.3 MB 217.6 kB/s eta 0:00:03\n",
      "   -------------------------------------- - 6.0/6.3 MB 220.6 kB/s eta 0:00:02\n",
      "   -------------------------------------- - 6.0/6.3 MB 220.6 kB/s eta 0:00:02\n",
      "   -------------------------------------- - 6.0/6.3 MB 220.6 kB/s eta 0:00:02\n",
      "   -------------------------------------- - 6.0/6.3 MB 220.6 kB/s eta 0:00:02\n",
      "   ---------------------------------------- 6.3/6.3 MB 221.6 kB/s eta 0:00:00\n",
      "Downloading cloudpathlib-0.21.0-py3-none-any.whl (52 kB)\n",
      "Downloading confection-0.1.5-py3-none-any.whl (35 kB)\n",
      "Downloading language_data-1.3.0-py3-none-any.whl (5.4 MB)\n",
      "   ---------------------------------------- 0.0/5.4 MB ? eta -:--:--\n",
      "   ---------------------------------------- 0.0/5.4 MB ? eta -:--:--\n",
      "   ---------------------------------------- 0.0/5.4 MB ? eta -:--:--\n",
      "   - -------------------------------------- 0.3/5.4 MB ? eta -:--:--\n",
      "   - -------------------------------------- 0.3/5.4 MB ? eta -:--:--\n",
      "   - -------------------------------------- 0.3/5.4 MB ? eta -:--:--\n",
      "   - -------------------------------------- 0.3/5.4 MB ? eta -:--:--\n",
      "   --- ------------------------------------ 0.5/5.4 MB 270.5 kB/s eta 0:00:18\n",
      "   --- ------------------------------------ 0.5/5.4 MB 270.5 kB/s eta 0:00:18\n",
      "   --- ------------------------------------ 0.5/5.4 MB 270.5 kB/s eta 0:00:18\n",
      "   --- ------------------------------------ 0.5/5.4 MB 270.5 kB/s eta 0:00:18\n",
      "   --- ------------------------------------ 0.5/5.4 MB 270.5 kB/s eta 0:00:18\n",
      "   ----- ---------------------------------- 0.8/5.4 MB 281.9 kB/s eta 0:00:17\n",
      "   ----- ---------------------------------- 0.8/5.4 MB 281.9 kB/s eta 0:00:17\n",
      "   ----- ---------------------------------- 0.8/5.4 MB 281.9 kB/s eta 0:00:17\n",
      "   ----- ---------------------------------- 0.8/5.4 MB 281.9 kB/s eta 0:00:17\n",
      "   ----- ---------------------------------- 0.8/5.4 MB 281.9 kB/s eta 0:00:17\n",
      "   ----- ---------------------------------- 0.8/5.4 MB 281.9 kB/s eta 0:00:17\n",
      "   ------- -------------------------------- 1.0/5.4 MB 243.1 kB/s eta 0:00:18\n",
      "   ------- -------------------------------- 1.0/5.4 MB 243.1 kB/s eta 0:00:18\n",
      "   ------- -------------------------------- 1.0/5.4 MB 243.1 kB/s eta 0:00:18\n",
      "   ------- -------------------------------- 1.0/5.4 MB 243.1 kB/s eta 0:00:18\n",
      "   ------- -------------------------------- 1.0/5.4 MB 243.1 kB/s eta 0:00:18\n",
      "   ------- -------------------------------- 1.0/5.4 MB 243.1 kB/s eta 0:00:18\n",
      "   --------- ------------------------------ 1.3/5.4 MB 224.4 kB/s eta 0:00:19\n",
      "   --------- ------------------------------ 1.3/5.4 MB 224.4 kB/s eta 0:00:19\n",
      "   --------- ------------------------------ 1.3/5.4 MB 224.4 kB/s eta 0:00:19\n",
      "   --------- ------------------------------ 1.3/5.4 MB 224.4 kB/s eta 0:00:19\n",
      "   --------- ------------------------------ 1.3/5.4 MB 224.4 kB/s eta 0:00:19\n",
      "   --------- ------------------------------ 1.3/5.4 MB 224.4 kB/s eta 0:00:19\n",
      "   --------- ------------------------------ 1.3/5.4 MB 224.4 kB/s eta 0:00:19\n",
      "   --------- ------------------------------ 1.3/5.4 MB 224.4 kB/s eta 0:00:19\n",
      "   ----------- ---------------------------- 1.6/5.4 MB 206.6 kB/s eta 0:00:19\n",
      "   ----------- ---------------------------- 1.6/5.4 MB 206.6 kB/s eta 0:00:19\n",
      "   ----------- ---------------------------- 1.6/5.4 MB 206.6 kB/s eta 0:00:19\n",
      "   ------------- -------------------------- 1.8/5.4 MB 223.7 kB/s eta 0:00:16\n",
      "   ------------- -------------------------- 1.8/5.4 MB 223.7 kB/s eta 0:00:16\n",
      "   ------------- -------------------------- 1.8/5.4 MB 223.7 kB/s eta 0:00:16\n",
      "   ------------- -------------------------- 1.8/5.4 MB 223.7 kB/s eta 0:00:16\n",
      "   --------------- ------------------------ 2.1/5.4 MB 233.0 kB/s eta 0:00:15\n",
      "   --------------- ------------------------ 2.1/5.4 MB 233.0 kB/s eta 0:00:15\n",
      "   --------------- ------------------------ 2.1/5.4 MB 233.0 kB/s eta 0:00:15\n",
      "   ----------------- ---------------------- 2.4/5.4 MB 241.4 kB/s eta 0:00:13\n",
      "   ----------------- ---------------------- 2.4/5.4 MB 241.4 kB/s eta 0:00:13\n",
      "   ----------------- ---------------------- 2.4/5.4 MB 241.4 kB/s eta 0:00:13\n",
      "   ----------------- ---------------------- 2.4/5.4 MB 241.4 kB/s eta 0:00:13\n",
      "   ------------------- -------------------- 2.6/5.4 MB 248.3 kB/s eta 0:00:12\n",
      "   ------------------- -------------------- 2.6/5.4 MB 248.3 kB/s eta 0:00:12\n",
      "   ------------------- -------------------- 2.6/5.4 MB 248.3 kB/s eta 0:00:12\n",
      "   --------------------- ------------------ 2.9/5.4 MB 256.5 kB/s eta 0:00:10\n",
      "   --------------------- ------------------ 2.9/5.4 MB 256.5 kB/s eta 0:00:10\n",
      "   --------------------- ------------------ 2.9/5.4 MB 256.5 kB/s eta 0:00:10\n",
      "   ----------------------- ---------------- 3.1/5.4 MB 262.5 kB/s eta 0:00:09\n",
      "   ----------------------- ---------------- 3.1/5.4 MB 262.5 kB/s eta 0:00:09\n",
      "   ----------------------- ---------------- 3.1/5.4 MB 262.5 kB/s eta 0:00:09\n",
      "   ------------------------- -------------- 3.4/5.4 MB 269.9 kB/s eta 0:00:08\n",
      "   ------------------------- -------------- 3.4/5.4 MB 269.9 kB/s eta 0:00:08\n",
      "   ------------------------- -------------- 3.4/5.4 MB 269.9 kB/s eta 0:00:08\n",
      "   --------------------------- ------------ 3.7/5.4 MB 276.8 kB/s eta 0:00:07\n",
      "   --------------------------- ------------ 3.7/5.4 MB 276.8 kB/s eta 0:00:07\n",
      "   ----------------------------- ---------- 3.9/5.4 MB 283.3 kB/s eta 0:00:06\n",
      "   ----------------------------- ---------- 3.9/5.4 MB 283.3 kB/s eta 0:00:06\n",
      "   ----------------------------- ---------- 3.9/5.4 MB 283.3 kB/s eta 0:00:06\n",
      "   ------------------------------- -------- 4.2/5.4 MB 287.9 kB/s eta 0:00:05\n",
      "   ------------------------------- -------- 4.2/5.4 MB 287.9 kB/s eta 0:00:05\n",
      "   ------------------------------- -------- 4.2/5.4 MB 287.9 kB/s eta 0:00:05\n",
      "   --------------------------------- ------ 4.5/5.4 MB 293.0 kB/s eta 0:00:04\n",
      "   --------------------------------- ------ 4.5/5.4 MB 293.0 kB/s eta 0:00:04\n",
      "   --------------------------------- ------ 4.5/5.4 MB 293.0 kB/s eta 0:00:04\n",
      "   --------------------------------- ------ 4.5/5.4 MB 293.0 kB/s eta 0:00:04\n",
      "   ----------------------------------- ---- 4.7/5.4 MB 292.5 kB/s eta 0:00:03\n",
      "   ----------------------------------- ---- 4.7/5.4 MB 292.5 kB/s eta 0:00:03\n",
      "   ----------------------------------- ---- 4.7/5.4 MB 292.5 kB/s eta 0:00:03\n",
      "   ----------------------------------- ---- 4.7/5.4 MB 292.5 kB/s eta 0:00:03\n",
      "   ------------------------------------ --- 5.0/5.4 MB 291.2 kB/s eta 0:00:02\n",
      "   ------------------------------------ --- 5.0/5.4 MB 291.2 kB/s eta 0:00:02\n",
      "   ------------------------------------ --- 5.0/5.4 MB 291.2 kB/s eta 0:00:02\n",
      "   -------------------------------------- - 5.2/5.4 MB 294.6 kB/s eta 0:00:01\n",
      "   -------------------------------------- - 5.2/5.4 MB 294.6 kB/s eta 0:00:01\n",
      "   ---------------------------------------- 5.4/5.4 MB 295.7 kB/s eta 0:00:00\n",
      "Downloading shellingham-1.5.4-py2.py3-none-any.whl (9.8 kB)\n",
      "Downloading marisa_trie-1.2.1-cp312-cp312-win_amd64.whl (150 kB)\n",
      "Installing collected packages: cymem, wasabi, spacy-loggers, spacy-legacy, shellingham, numpy, murmurhash, marisa-trie, cloudpathlib, catalogue, srsly, preshed, language-data, blis, typer, langcodes, confection, weasel, thinc, spacy\n",
      "  Attempting uninstall: numpy\n",
      "    Found existing installation: numpy 1.26.4\n",
      "    Uninstalling numpy-1.26.4:\n",
      "      Successfully uninstalled numpy-1.26.4\n",
      "Successfully installed blis-1.3.0 catalogue-2.0.10 cloudpathlib-0.21.0 confection-0.1.5 cymem-2.0.11 langcodes-3.5.0 language-data-1.3.0 marisa-trie-1.2.1 murmurhash-1.0.12 numpy-2.2.4 preshed-3.0.9 shellingham-1.5.4 spacy-3.8.5 spacy-legacy-3.0.12 spacy-loggers-1.0.5 srsly-2.5.1 thinc-8.3.6 typer-0.15.2 wasabi-1.1.3 weasel-0.4.1\n"
     ]
    },
    {
     "name": "stderr",
     "output_type": "stream",
     "text": [
      "ERROR: pip's dependency resolver does not currently take into account all the packages that are installed. This behaviour is the source of the following dependency conflicts.\n",
      "contourpy 1.2.0 requires numpy<2.0,>=1.20, but you have numpy 2.2.4 which is incompatible.\n",
      "gensim 4.3.3 requires numpy<2.0,>=1.18.5, but you have numpy 2.2.4 which is incompatible.\n",
      "numba 0.60.0 requires numpy<2.1,>=1.22, but you have numpy 2.2.4 which is incompatible.\n",
      "tensorflow-intel 2.18.0 requires numpy<2.1.0,>=1.26.0, but you have numpy 2.2.4 which is incompatible.\n"
     ]
    },
    {
     "ename": "ImportError",
     "evalue": "numpy.core.multiarray failed to import (auto-generated because you didn't call 'numpy.import_array()' after cimporting numpy; use '<void>numpy._import_array' to disable if you are certain you don't need it).",
     "output_type": "error",
     "traceback": [
      "\u001b[1;31m---------------------------------------------------------------------------\u001b[0m",
      "\u001b[1;31mImportError\u001b[0m                               Traceback (most recent call last)",
      "Cell \u001b[1;32mIn[4], line 3\u001b[0m\n\u001b[0;32m      1\u001b[0m \u001b[38;5;66;03m# . spaCy + Transformer model (Advanced)\u001b[39;00m\n\u001b[0;32m      2\u001b[0m get_ipython()\u001b[38;5;241m.\u001b[39msystem(\u001b[38;5;124m'\u001b[39m\u001b[38;5;124m pip install spacy\u001b[39m\u001b[38;5;124m'\u001b[39m)\n\u001b[1;32m----> 3\u001b[0m \u001b[38;5;28;01mimport\u001b[39;00m \u001b[38;5;21;01mspacy\u001b[39;00m\n\u001b[0;32m      4\u001b[0m \u001b[38;5;28;01mfrom\u001b[39;00m \u001b[38;5;21;01mspacytextblob\u001b[39;00m\u001b[38;5;21;01m.\u001b[39;00m\u001b[38;5;21;01mspacytextblob\u001b[39;00m \u001b[38;5;28;01mimport\u001b[39;00m SpacyTextBlob\n\u001b[0;32m      6\u001b[0m nlp \u001b[38;5;241m=\u001b[39m spacy\u001b[38;5;241m.\u001b[39mload(\u001b[38;5;124m'\u001b[39m\u001b[38;5;124men_core_web_sm\u001b[39m\u001b[38;5;124m'\u001b[39m)\n",
      "File \u001b[1;32mc:\\Users\\Nagesh Agrawal\\anaconda3\\Lib\\site-packages\\spacy\\__init__.py:6\u001b[0m\n\u001b[0;32m      3\u001b[0m \u001b[38;5;28;01mfrom\u001b[39;00m \u001b[38;5;21;01mtyping\u001b[39;00m \u001b[38;5;28;01mimport\u001b[39;00m Any, Dict, Iterable, Union\n\u001b[0;32m      5\u001b[0m \u001b[38;5;66;03m# set library-specific custom warning handling before doing anything else\u001b[39;00m\n\u001b[1;32m----> 6\u001b[0m \u001b[38;5;28;01mfrom\u001b[39;00m \u001b[38;5;21;01m.\u001b[39;00m\u001b[38;5;21;01merrors\u001b[39;00m \u001b[38;5;28;01mimport\u001b[39;00m setup_default_warnings\n\u001b[0;32m      8\u001b[0m setup_default_warnings()  \u001b[38;5;66;03m# noqa: E402\u001b[39;00m\n\u001b[0;32m     10\u001b[0m \u001b[38;5;66;03m# These are imported as part of the API\u001b[39;00m\n",
      "File \u001b[1;32mc:\\Users\\Nagesh Agrawal\\anaconda3\\Lib\\site-packages\\spacy\\errors.py:3\u001b[0m\n\u001b[0;32m      1\u001b[0m \u001b[38;5;28;01mimport\u001b[39;00m \u001b[38;5;21;01mwarnings\u001b[39;00m\n\u001b[1;32m----> 3\u001b[0m \u001b[38;5;28;01mfrom\u001b[39;00m \u001b[38;5;21;01m.\u001b[39;00m\u001b[38;5;21;01mcompat\u001b[39;00m \u001b[38;5;28;01mimport\u001b[39;00m Literal\n\u001b[0;32m      6\u001b[0m \u001b[38;5;28;01mclass\u001b[39;00m \u001b[38;5;21;01mErrorsWithCodes\u001b[39;00m(\u001b[38;5;28mtype\u001b[39m):\n\u001b[0;32m      7\u001b[0m     \u001b[38;5;28;01mdef\u001b[39;00m \u001b[38;5;21m__getattribute__\u001b[39m(\u001b[38;5;28mself\u001b[39m, code):\n",
      "File \u001b[1;32mc:\\Users\\Nagesh Agrawal\\anaconda3\\Lib\\site-packages\\spacy\\compat.py:39\u001b[0m\n\u001b[0;32m     36\u001b[0m \u001b[38;5;28;01mexcept\u001b[39;00m \u001b[38;5;167;01mImportError\u001b[39;00m:\n\u001b[0;32m     37\u001b[0m     \u001b[38;5;28;01mfrom\u001b[39;00m \u001b[38;5;21;01mcatalogue\u001b[39;00m \u001b[38;5;28;01mimport\u001b[39;00m _importlib_metadata \u001b[38;5;28;01mas\u001b[39;00m importlib_metadata  \u001b[38;5;66;03m# type: ignore[no-redef]    # noqa: F401\u001b[39;00m\n\u001b[1;32m---> 39\u001b[0m \u001b[38;5;28;01mfrom\u001b[39;00m \u001b[38;5;21;01mthinc\u001b[39;00m\u001b[38;5;21;01m.\u001b[39;00m\u001b[38;5;21;01mapi\u001b[39;00m \u001b[38;5;28;01mimport\u001b[39;00m Optimizer  \u001b[38;5;66;03m# noqa: F401\u001b[39;00m\n\u001b[0;32m     41\u001b[0m pickle \u001b[38;5;241m=\u001b[39m pickle\n\u001b[0;32m     42\u001b[0m copy_reg \u001b[38;5;241m=\u001b[39m copy_reg\n",
      "File \u001b[1;32mc:\\Users\\Nagesh Agrawal\\anaconda3\\Lib\\site-packages\\thinc\\api.py:1\u001b[0m\n\u001b[1;32m----> 1\u001b[0m \u001b[38;5;28;01mfrom\u001b[39;00m \u001b[38;5;21;01m.\u001b[39;00m\u001b[38;5;21;01mbackends\u001b[39;00m \u001b[38;5;28;01mimport\u001b[39;00m (\n\u001b[0;32m      2\u001b[0m     CupyOps,\n\u001b[0;32m      3\u001b[0m     MPSOps,\n\u001b[0;32m      4\u001b[0m     NumpyOps,\n\u001b[0;32m      5\u001b[0m     Ops,\n\u001b[0;32m      6\u001b[0m     get_current_ops,\n\u001b[0;32m      7\u001b[0m     get_ops,\n\u001b[0;32m      8\u001b[0m     set_current_ops,\n\u001b[0;32m      9\u001b[0m     set_gpu_allocator,\n\u001b[0;32m     10\u001b[0m     use_ops,\n\u001b[0;32m     11\u001b[0m     use_pytorch_for_gpu_memory,\n\u001b[0;32m     12\u001b[0m     use_tensorflow_for_gpu_memory,\n\u001b[0;32m     13\u001b[0m )\n\u001b[0;32m     14\u001b[0m \u001b[38;5;28;01mfrom\u001b[39;00m \u001b[38;5;21;01m.\u001b[39;00m\u001b[38;5;21;01mcompat\u001b[39;00m \u001b[38;5;28;01mimport\u001b[39;00m enable_mxnet, enable_tensorflow, has_cupy\n\u001b[0;32m     15\u001b[0m \u001b[38;5;28;01mfrom\u001b[39;00m \u001b[38;5;21;01m.\u001b[39;00m\u001b[38;5;21;01mconfig\u001b[39;00m \u001b[38;5;28;01mimport\u001b[39;00m Config, ConfigValidationError, registry\n",
      "File \u001b[1;32mc:\\Users\\Nagesh Agrawal\\anaconda3\\Lib\\site-packages\\thinc\\backends\\__init__.py:17\u001b[0m\n\u001b[0;32m     15\u001b[0m \u001b[38;5;28;01mfrom\u001b[39;00m \u001b[38;5;21;01m.\u001b[39;00m\u001b[38;5;21;01m_cupy_allocators\u001b[39;00m \u001b[38;5;28;01mimport\u001b[39;00m cupy_pytorch_allocator, cupy_tensorflow_allocator\n\u001b[0;32m     16\u001b[0m \u001b[38;5;28;01mfrom\u001b[39;00m \u001b[38;5;21;01m.\u001b[39;00m\u001b[38;5;21;01m_param_server\u001b[39;00m \u001b[38;5;28;01mimport\u001b[39;00m ParamServer\n\u001b[1;32m---> 17\u001b[0m \u001b[38;5;28;01mfrom\u001b[39;00m \u001b[38;5;21;01m.\u001b[39;00m\u001b[38;5;21;01mcupy_ops\u001b[39;00m \u001b[38;5;28;01mimport\u001b[39;00m CupyOps\n\u001b[0;32m     18\u001b[0m \u001b[38;5;28;01mfrom\u001b[39;00m \u001b[38;5;21;01m.\u001b[39;00m\u001b[38;5;21;01mmps_ops\u001b[39;00m \u001b[38;5;28;01mimport\u001b[39;00m MPSOps\n\u001b[0;32m     19\u001b[0m \u001b[38;5;28;01mfrom\u001b[39;00m \u001b[38;5;21;01m.\u001b[39;00m\u001b[38;5;21;01mnumpy_ops\u001b[39;00m \u001b[38;5;28;01mimport\u001b[39;00m NumpyOps\n",
      "File \u001b[1;32mc:\\Users\\Nagesh Agrawal\\anaconda3\\Lib\\site-packages\\thinc\\backends\\cupy_ops.py:16\u001b[0m\n\u001b[0;32m      6\u001b[0m \u001b[38;5;28;01mfrom\u001b[39;00m \u001b[38;5;21;01m.\u001b[39;00m\u001b[38;5;21;01m.\u001b[39;00m\u001b[38;5;21;01mutil\u001b[39;00m \u001b[38;5;28;01mimport\u001b[39;00m (\n\u001b[0;32m      7\u001b[0m     is_cupy_array,\n\u001b[0;32m      8\u001b[0m     is_mxnet_gpu_array,\n\u001b[1;32m   (...)\u001b[0m\n\u001b[0;32m     13\u001b[0m     torch2xp,\n\u001b[0;32m     14\u001b[0m )\n\u001b[0;32m     15\u001b[0m \u001b[38;5;28;01mfrom\u001b[39;00m \u001b[38;5;21;01m.\u001b[39;00m \u001b[38;5;28;01mimport\u001b[39;00m _custom_kernels\n\u001b[1;32m---> 16\u001b[0m \u001b[38;5;28;01mfrom\u001b[39;00m \u001b[38;5;21;01m.\u001b[39;00m\u001b[38;5;21;01mnumpy_ops\u001b[39;00m \u001b[38;5;28;01mimport\u001b[39;00m NumpyOps\n\u001b[0;32m     17\u001b[0m \u001b[38;5;28;01mfrom\u001b[39;00m \u001b[38;5;21;01m.\u001b[39;00m\u001b[38;5;21;01mops\u001b[39;00m \u001b[38;5;28;01mimport\u001b[39;00m Ops\n\u001b[0;32m     20\u001b[0m \u001b[38;5;129m@registry\u001b[39m\u001b[38;5;241m.\u001b[39mops(\u001b[38;5;124m\"\u001b[39m\u001b[38;5;124mCupyOps\u001b[39m\u001b[38;5;124m\"\u001b[39m)\n\u001b[0;32m     21\u001b[0m \u001b[38;5;28;01mclass\u001b[39;00m \u001b[38;5;21;01mCupyOps\u001b[39;00m(Ops):\n",
      "File \u001b[1;32mc:\\Users\\Nagesh Agrawal\\anaconda3\\Lib\\site-packages\\thinc\\backends\\numpy_ops.pyx:1\u001b[0m, in \u001b[0;36minit thinc.backends.numpy_ops\u001b[1;34m()\u001b[0m\n",
      "\u001b[1;31mImportError\u001b[0m: numpy.core.multiarray failed to import (auto-generated because you didn't call 'numpy.import_array()' after cimporting numpy; use '<void>numpy._import_array' to disable if you are certain you don't need it)."
     ]
    }
   ],
   "source": [
    "# . spaCy + Transformer model (Advanced)\n",
    "! pip install spacy\n",
    "import spacy\n",
    "from spacytextblob.spacytextblob import SpacyTextBlob\n",
    "\n",
    "nlp = spacy.load('en_core_web_sm')\n",
    "nlp.add_pipe('spacytextblob')\n",
    "\n",
    "doc = nlp(\"The service was terrible.\")\n",
    "print(\"Sentiment:\", doc._.polarity)\n"
   ]
  },
  {
   "cell_type": "code",
   "execution_count": null,
   "metadata": {},
   "outputs": [],
   "source": [
    "# Hugging Face Transformers (BERT model)\n",
    "! pip install transformers\n",
    "from transformers import pipeline\n",
    "\n",
    "classifier = pipeline(\"sentiment-analysis\")\n",
    "result = classifier(\"I'm feeling great today!\")\n",
    "print(result)\n"
   ]
  },
  {
   "cell_type": "code",
   "execution_count": null,
   "metadata": {},
   "outputs": [],
   "source": [
    "#  Flair – Pre-trained sentiment model\n",
    "pip install flair\n",
    "from flair.models import TextClassifier\n",
    "from flair.data import Sentence\n",
    "\n",
    "classifier = TextClassifier.load('sentiment')\n",
    "sentence = Sentence(\"I absolutely love this movie!\")\n",
    "\n",
    "classifier.predict(sentence)\n",
    "print(sentence.labels)  # Output: [POSITIVE (0.99)]\n"
   ]
  },
  {
   "cell_type": "code",
   "execution_count": null,
   "metadata": {},
   "outputs": [],
   "source": [
    "# Stanza (StanfordNLP) – Multilingual sentiment support\n",
    "! pip install stanza\n",
    "import stanza\n",
    "\n",
    "stanza.download('en')\n",
    "nlp = stanza.Pipeline(lang='en', processors='tokenize,sentiment')\n",
    "\n",
    "doc = nlp(\"I really enjoy working with this team.\")\n",
    "for sentence in doc.sentences:\n",
    "    print(f\"Sentiment Score: {sentence.sentiment}\")  # 0 = negative, 1 = neutral, 2 = positive\n"
   ]
  }
 ],
 "metadata": {
  "kernelspec": {
   "display_name": "Python 3",
   "language": "python",
   "name": "python3"
  },
  "language_info": {
   "codemirror_mode": {
    "name": "ipython",
    "version": 3
   },
   "file_extension": ".py",
   "mimetype": "text/x-python",
   "name": "python",
   "nbconvert_exporter": "python",
   "pygments_lexer": "ipython3",
   "version": "3.11.9"
  }
 },
 "nbformat": 4,
 "nbformat_minor": 2
}
