{
 "cells": [
  {
   "cell_type": "markdown",
   "id": "7785feff",
   "metadata": {},
   "source": [
    "# **CONVERSION TO LIST**"
   ]
  },
  {
   "cell_type": "code",
   "execution_count": 6,
   "id": "3e832ad9",
   "metadata": {},
   "outputs": [
    {
     "data": {
      "text/plain": [
       "[1, 2, 3, 4, 5, 6]"
      ]
     },
     "execution_count": 6,
     "metadata": {},
     "output_type": "execute_result"
    }
   ],
   "source": [
    "# TUPLE TO LIST:\n",
    "T=(1,2,3,4,5,6)\n",
    "L=list(T)\n",
    "L"
   ]
  },
  {
   "cell_type": "code",
   "execution_count": 7,
   "id": "5f9fd8b3",
   "metadata": {},
   "outputs": [
    {
     "data": {
      "text/plain": [
       "[1, 2, 3, 4, 5, 6, 7]"
      ]
     },
     "execution_count": 7,
     "metadata": {},
     "output_type": "execute_result"
    }
   ],
   "source": [
    "S={1,2,3,4,5,6,7,7,7,7}\n",
    "L2=list(S)\n",
    "L2"
   ]
  },
  {
   "cell_type": "code",
   "execution_count": 16,
   "id": "aa4744ae",
   "metadata": {},
   "outputs": [
    {
     "name": "stdout",
     "output_type": "stream",
     "text": [
      "[[1, 2, 3, 4, 5], ('A0', 'B1', 'C3', 'D4')]\n",
      "['A', 'B']\n",
      "[('A', [1, 2, 3, 4, 5]), ('B', ('A0', 'B1', 'C3', 'D4'))]\n"
     ]
    }
   ],
   "source": [
    "DIC={\"A\":[1,2,3,4,5],\n",
    "     \"B\":(\"A0\",\"B1\",\"C3\",\"D4\")}\n",
    "LIST1=list(DIC.values())\n",
    "LIST2=list(DIC.keys())\n",
    "LIST3=list(DIC.items())\n",
    "print(LIST1)\n",
    "print(LIST2)\n",
    "print(LIST3)"
   ]
  },
  {
   "cell_type": "code",
   "execution_count": null,
   "id": "4208d28c",
   "metadata": {},
   "outputs": [],
   "source": []
  }
 ],
 "metadata": {
  "kernelspec": {
   "display_name": "Python 3",
   "language": "python",
   "name": "python3"
  },
  "language_info": {
   "codemirror_mode": {
    "name": "ipython",
    "version": 3
   },
   "file_extension": ".py",
   "mimetype": "text/x-python",
   "name": "python",
   "nbconvert_exporter": "python",
   "pygments_lexer": "ipython3",
   "version": "3.11.9"
  }
 },
 "nbformat": 4,
 "nbformat_minor": 5
}
