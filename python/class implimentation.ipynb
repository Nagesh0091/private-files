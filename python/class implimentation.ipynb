{
 "cells": [
  {
   "cell_type": "code",
   "execution_count": 5,
   "id": "cce1210f",
   "metadata": {},
   "outputs": [
    {
     "name": "stdout",
     "output_type": "stream",
     "text": [
      "10\n",
      "100.254\n",
      "hello\n"
     ]
    }
   ],
   "source": [
    "class ImplementAbs:\n",
    "    def __init__(self,string):\n",
    "        self.string=string\n",
    "        \n",
    "    def __abs__(self):\n",
    "        return self.string.lower()\n",
    "    \n",
    "custom_obj= ImplementAbs(\"hello\")\n",
    "x=abs(-10)\n",
    "y=abs(-100.254)\n",
    "z=abs(custom_obj)\n",
    "print(x)        \n",
    "print(y)        \n",
    "print(z)        "
   ]
  },
  {
   "cell_type": "code",
   "execution_count": null,
   "id": "f68d24c8",
   "metadata": {},
   "outputs": [],
   "source": []
  }
 ],
 "metadata": {
  "kernelspec": {
   "display_name": "Python 3",
   "language": "python",
   "name": "python3"
  },
  "language_info": {
   "codemirror_mode": {
    "name": "ipython",
    "version": 3
   },
   "file_extension": ".py",
   "mimetype": "text/x-python",
   "name": "python",
   "nbconvert_exporter": "python",
   "pygments_lexer": "ipython3",
   "version": "3.11.9"
  }
 },
 "nbformat": 4,
 "nbformat_minor": 5
}
