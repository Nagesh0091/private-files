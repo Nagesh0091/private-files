{
 "cells": [
  {
   "cell_type": "markdown",
   "id": "f3849854",
   "metadata": {},
   "source": [
    "# **CONVERSION TO TUPLE** "
   ]
  },
  {
   "cell_type": "code",
   "execution_count": 2,
   "id": "bfe51186",
   "metadata": {},
   "outputs": [
    {
     "data": {
      "text/plain": [
       "(1, 2, 3, 4, 5, 6, 7, 8)"
      ]
     },
     "execution_count": 2,
     "metadata": {},
     "output_type": "execute_result"
    }
   ],
   "source": [
    "L=[1,2,3,4,5,6,7,8]\n",
    "T=tuple(L)\n",
    "T"
   ]
  },
  {
   "cell_type": "code",
   "execution_count": 3,
   "id": "dfa7688b",
   "metadata": {},
   "outputs": [
    {
     "data": {
      "text/plain": [
       "(1, 2, 3, 4, 5, 6, 7, 8)"
      ]
     },
     "execution_count": 3,
     "metadata": {},
     "output_type": "execute_result"
    }
   ],
   "source": [
    "S={1,2,3,4,5,6,7,8,8,8,9}\n",
    "T2=tuple(L)\n",
    "T2"
   ]
  },
  {
   "cell_type": "code",
   "execution_count": 8,
   "id": "77388ae6",
   "metadata": {},
   "outputs": [
    {
     "name": "stdout",
     "output_type": "stream",
     "text": [
      "('NAMES', 'SALARY', 'AGE')\n",
      "(['NAGESH', 'UJWAL', 'SURAJ', 'AMIT'], [300000, 400000, 500000], [21, 22, 22, 22])\n",
      "(('NAMES', ['NAGESH', 'UJWAL', 'SURAJ', 'AMIT']), ('SALARY', [300000, 400000, 500000]), ('AGE', [21, 22, 22, 22]))\n"
     ]
    }
   ],
   "source": [
    "DIC={\"NAMES\":[\"NAGESH\",\"UJWAL\",\"SURAJ\",\"AMIT\"],\n",
    "     \"SALARY\":[300000,400000,500000],\n",
    "     \"AGE\":[21,22,22,22],\n",
    "     }\n",
    "T3=tuple(DIC.keys())\n",
    "T4=tuple(DIC.values())\n",
    "T5=tuple(DIC.items())\n",
    "print(T3)\n",
    "print(T4)\n",
    "print(T5)\n"
   ]
  },
  {
   "cell_type": "code",
   "execution_count": null,
   "id": "f6245fc2",
   "metadata": {},
   "outputs": [],
   "source": []
  }
 ],
 "metadata": {
  "kernelspec": {
   "display_name": "Python 3",
   "language": "python",
   "name": "python3"
  },
  "language_info": {
   "codemirror_mode": {
    "name": "ipython",
    "version": 3
   },
   "file_extension": ".py",
   "mimetype": "text/x-python",
   "name": "python",
   "nbconvert_exporter": "python",
   "pygments_lexer": "ipython3",
   "version": "3.11.9"
  }
 },
 "nbformat": 4,
 "nbformat_minor": 5
}
