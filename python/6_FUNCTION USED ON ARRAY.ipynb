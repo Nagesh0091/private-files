{
 "cells": [
  {
   "cell_type": "markdown",
   "id": "7afd89fc",
   "metadata": {},
   "source": [
    "# **FUNCTION USED ON ARRAY**"
   ]
  },
  {
   "cell_type": "markdown",
   "id": "53b3a781",
   "metadata": {},
   "source": [
    "\n",
    "\n",
    "---\n",
    "\n",
    "### 🧱 **Creation**\n",
    "- `np.array()` – from list/tuple\n",
    "- `np.zeros(shape)` – array of 0s\n",
    "- `np.ones(shape)` – array of 1s\n",
    "- `np.full(shape, value)` – filled with value\n",
    "- `np.arange(start, stop, step)` – like `range()`\n",
    "- `np.linspace(start, stop, num)` – evenly spaced numbers\n",
    "- `np.random.rand(shape)` – random floats [0,1)\n",
    "- `np.random.randint(low, high, size)` – random integers\n",
    "\n",
    "---\n",
    "\n",
    "### 🛠️ **Manipulation**\n",
    "- `np.append(arr, values)` – adds values to end\n",
    "- `np.insert(arr, index, values)` – inserts at index\n",
    "- `np.delete(arr, index)` – removes elements\n",
    "- `np.reshape(arr, new_shape)` – reshapes array\n",
    "- `arr.flatten()` – converts to 1D\n",
    "- `arr.ravel()` – flattens (faster, view)\n",
    "- `arr.tolist()` – converts to Python list\n",
    "\n",
    "---\n",
    "\n",
    "### 🔍 **Information**\n",
    "- `arr.shape` – dimensions\n",
    "- `arr.ndim` – number of dimensions\n",
    "- `arr.size` – total number of elements\n",
    "- `arr.dtype` – data type of elements\n",
    "\n",
    "---\n",
    "\n",
    "### 🧮 **Math Operations**\n",
    "- `np.sum(arr)` – sum of elements\n",
    "- `np.mean(arr)` – average\n",
    "- `np.median(arr)` – median\n",
    "- `np.std(arr)` – standard deviation\n",
    "- `np.min(arr)` / `np.max(arr)` – min/max\n",
    "- `np.sort(arr)` – sorted array\n",
    "- `np.unique(arr)` – unique values\n",
    "\n",
    "---\n",
    "\n",
    "### 🔢 **Element-wise Operations**\n",
    "- `arr + 2`, `arr * 2` – scalar math\n",
    "- `arr1 + arr2` – element-wise addition\n",
    "- `np.sqrt(arr)` – square root\n",
    "- `np.exp(arr)` – exponential\n",
    "- `np.log(arr)` – natural log\n",
    "\n",
    "---\n",
    "\n",
    "### 🔁 **Comparison / Boolean**\n",
    "- `arr > 5`, `arr == 10` – element-wise comparison\n",
    "- `np.where(condition, x, y)` – conditionally choose values\n",
    "\n",
    "---\n"
   ]
  },
  {
   "cell_type": "code",
   "execution_count": 31,
   "id": "faea1d40",
   "metadata": {},
   "outputs": [
    {
     "data": {
      "text/plain": [
       "array([0, 1, 2, 3, 4])"
      ]
     },
     "execution_count": 31,
     "metadata": {},
     "output_type": "execute_result"
    }
   ],
   "source": [
    "# CREATION OF ARRAY..\n",
    "np.arange(0,5)"
   ]
  },
  {
   "cell_type": "code",
   "execution_count": 32,
   "id": "ee320242",
   "metadata": {},
   "outputs": [],
   "source": [
    "import numpy as np\n",
    "ARR = np.array([1,2,3,4,5,6,7,8,9,10])"
   ]
  },
  {
   "cell_type": "code",
   "execution_count": 33,
   "id": "c6dd2793",
   "metadata": {},
   "outputs": [
    {
     "data": {
      "text/plain": [
       "array([ 1,  2,  3,  4,  5,  6,  7,  8,  9, 10, 11])"
      ]
     },
     "execution_count": 33,
     "metadata": {},
     "output_type": "execute_result"
    }
   ],
   "source": [
    "# APPEND FUNCTION:\n",
    "ARR=np.append(ARR,11)\n",
    "ARR"
   ]
  },
  {
   "cell_type": "code",
   "execution_count": 34,
   "id": "49338af9",
   "metadata": {},
   "outputs": [
    {
     "data": {
      "text/plain": [
       "array([ 1,  2,  3,  4,  5,  6,  7,  8,  9, 10, 11, 12, 13])"
      ]
     },
     "execution_count": 34,
     "metadata": {},
     "output_type": "execute_result"
    }
   ],
   "source": [
    "# EXTEND FUNCTION: EXTEND ONLY WORKS FOR LIST....\n",
    "ARR = np.append(ARR,[12,13])\n",
    "ARR"
   ]
  },
  {
   "cell_type": "code",
   "execution_count": 35,
   "metadata": {},
   "outputs": [
    {
     "data": {
      "text/plain": [
       "array([ 1,  2,  3,  4,  5,  6,  7,  8,  9, 10, 11, 12, 13, 14])"
      ]
     },
     "execution_count": 35,
     "metadata": {},
     "output_type": "execute_result"
    }
   ],
   "source": [
    "# INSERT FUNCTION:np.insert(ARR,INDEX,VALUE)\n",
    "ARR=np.insert(ARR,len(ARR),14)\n",
    "ARR"
   ]
  },
  {
   "cell_type": "code",
   "execution_count": 36,
   "metadata": {},
   "outputs": [
    {
     "data": {
      "text/plain": [
       "array([ 1,  2,  3,  4,  5,  6,  7,  8,  9, 10, 11, 12, 13])"
      ]
     },
     "execution_count": 36,
     "metadata": {},
     "output_type": "execute_result"
    }
   ],
   "source": [
    "# DELETE FUNCTION:\n",
    "ARR=np.delete(ARR,len(ARR)-1)\n",
    "ARR"
   ]
  },
  {
   "cell_type": "code",
   "execution_count": 37,
   "id": "854fa25d",
   "metadata": {},
   "outputs": [
    {
     "data": {
      "text/plain": [
       "array([ 1,  2,  3,  4,  5,  6,  7,  8,  9, 10, 11, 12, 13])"
      ]
     },
     "execution_count": 37,
     "metadata": {},
     "output_type": "execute_result"
    }
   ],
   "source": [
    "# FLATTEN FUNCTION: CONVERT INTO 1 D\n",
    "ARR2=ARR.flatten()\n",
    "ARR2"
   ]
  },
  {
   "cell_type": "code",
   "execution_count": 38,
   "id": "981d504b",
   "metadata": {},
   "outputs": [
    {
     "data": {
      "text/plain": [
       "array([ 1,  2,  3,  4,  5,  6,  7,  8,  9, 10, 11, 12, 13])"
      ]
     },
     "execution_count": 38,
     "metadata": {},
     "output_type": "execute_result"
    }
   ],
   "source": [
    "ARR.ravel()"
   ]
  },
  {
   "cell_type": "code",
   "execution_count": 39,
   "id": "7294d62d",
   "metadata": {},
   "outputs": [
    {
     "data": {
      "text/plain": [
       "[1, 2, 3, 4, 5, 6, 7, 8, 9, 10, 11, 12, 13]"
      ]
     },
     "execution_count": 39,
     "metadata": {},
     "output_type": "execute_result"
    }
   ],
   "source": [
    "ARR.tolist()"
   ]
  },
  {
   "cell_type": "code",
   "execution_count": 41,
   "id": "7da1abd4",
   "metadata": {},
   "outputs": [
    {
     "data": {
      "text/plain": [
       "(13,)"
      ]
     },
     "execution_count": 41,
     "metadata": {},
     "output_type": "execute_result"
    }
   ],
   "source": [
    "ARR.shape"
   ]
  },
  {
   "cell_type": "code",
   "execution_count": 42,
   "id": "769928e5",
   "metadata": {},
   "outputs": [
    {
     "data": {
      "text/plain": [
       "1"
      ]
     },
     "execution_count": 42,
     "metadata": {},
     "output_type": "execute_result"
    }
   ],
   "source": [
    "ARR.ndim"
   ]
  },
  {
   "cell_type": "code",
   "execution_count": 43,
   "id": "db84f49f",
   "metadata": {},
   "outputs": [
    {
     "data": {
      "text/plain": [
       "13"
      ]
     },
     "execution_count": 43,
     "metadata": {},
     "output_type": "execute_result"
    }
   ],
   "source": [
    "ARR.size"
   ]
  },
  {
   "cell_type": "code",
   "execution_count": 46,
   "id": "104142f5",
   "metadata": {},
   "outputs": [
    {
     "data": {
      "text/plain": [
       "dtype('int32')"
      ]
     },
     "execution_count": 46,
     "metadata": {},
     "output_type": "execute_result"
    }
   ],
   "source": [
    "ARR.dtype"
   ]
  },
  {
   "cell_type": "code",
   "execution_count": 47,
   "id": "b4040376",
   "metadata": {},
   "outputs": [
    {
     "data": {
      "text/plain": [
       "7.0"
      ]
     },
     "execution_count": 47,
     "metadata": {},
     "output_type": "execute_result"
    }
   ],
   "source": [
    "np.mean(ARR)"
   ]
  },
  {
   "cell_type": "code",
   "execution_count": 48,
   "id": "6f7401c4",
   "metadata": {},
   "outputs": [
    {
     "data": {
      "text/plain": [
       "91"
      ]
     },
     "execution_count": 48,
     "metadata": {},
     "output_type": "execute_result"
    }
   ],
   "source": [
    "np.sum(ARR)"
   ]
  },
  {
   "cell_type": "code",
   "execution_count": 49,
   "metadata": {},
   "outputs": [
    {
     "data": {
      "text/plain": [
       "1"
      ]
     },
     "execution_count": 49,
     "metadata": {},
     "output_type": "execute_result"
    }
   ],
   "source": [
    "np.min(ARR)"
   ]
  },
  {
   "cell_type": "code",
   "execution_count": 50,
   "id": "0130bafc",
   "metadata": {},
   "outputs": [
    {
     "data": {
      "text/plain": [
       "13"
      ]
     },
     "execution_count": 50,
     "metadata": {},
     "output_type": "execute_result"
    }
   ],
   "source": [
    "np.max(ARR)"
   ]
  },
  {
   "cell_type": "code",
   "execution_count": 51,
   "id": "67bda026",
   "metadata": {},
   "outputs": [
    {
     "data": {
      "text/plain": [
       "7.0"
      ]
     },
     "execution_count": 51,
     "metadata": {},
     "output_type": "execute_result"
    }
   ],
   "source": [
    "np.median(ARR)"
   ]
  },
  {
   "cell_type": "code",
   "execution_count": 52,
   "id": "6f2f1ad0",
   "metadata": {},
   "outputs": [
    {
     "data": {
      "text/plain": [
       "3.7416573867739413"
      ]
     },
     "execution_count": 52,
     "metadata": {},
     "output_type": "execute_result"
    }
   ],
   "source": [
    "np.std(ARR)"
   ]
  },
  {
   "cell_type": "code",
   "execution_count": 53,
   "id": "464040e9",
   "metadata": {},
   "outputs": [
    {
     "data": {
      "text/plain": [
       "array([ 1,  2,  3,  4,  5,  6,  7,  8,  9, 10, 11, 12, 13])"
      ]
     },
     "execution_count": 53,
     "metadata": {},
     "output_type": "execute_result"
    }
   ],
   "source": [
    "np.sort(ARR)"
   ]
  },
  {
   "cell_type": "code",
   "execution_count": 54,
   "id": "2376649d",
   "metadata": {},
   "outputs": [
    {
     "data": {
      "text/plain": [
       "array([ 1,  2,  3,  4,  5,  6,  7,  8,  9, 10, 11, 12, 13])"
      ]
     },
     "execution_count": 54,
     "metadata": {},
     "output_type": "execute_result"
    }
   ],
   "source": [
    "np.unique(ARR)"
   ]
  }
 ],
 "metadata": {
  "kernelspec": {
   "display_name": "Python 3",
   "language": "python",
   "name": "python3"
  },
  "language_info": {
   "codemirror_mode": {
    "name": "ipython",
    "version": 3
   },
   "file_extension": ".py",
   "mimetype": "text/x-python",
   "name": "python",
   "nbconvert_exporter": "python",
   "pygments_lexer": "ipython3",
   "version": "3.11.9"
  }
 },
 "nbformat": 4,
 "nbformat_minor": 5
}
