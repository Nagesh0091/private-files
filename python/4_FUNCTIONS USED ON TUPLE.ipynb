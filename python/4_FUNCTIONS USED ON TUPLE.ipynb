{
 "cells": [
  {
   "cell_type": "markdown",
   "id": "d9493104",
   "metadata": {},
   "source": [
    "# **FUNCTIONS  USED ON TUPLE**"
   ]
  },
  {
   "cell_type": "code",
   "execution_count": 3,
   "id": "5843acb2",
   "metadata": {},
   "outputs": [],
   "source": [
    "T=(1,2,3,4,5,6,7,8,9,0)"
   ]
  },
  {
   "cell_type": "code",
   "execution_count": 8,
   "id": "9ecc3ae2",
   "metadata": {},
   "outputs": [
    {
     "data": {
      "text/plain": [
       "1"
      ]
     },
     "execution_count": 8,
     "metadata": {},
     "output_type": "execute_result"
    }
   ],
   "source": [
    "# COUNT FUNCTION:\n",
    "T.count(9)"
   ]
  },
  {
   "cell_type": "code",
   "execution_count": 9,
   "id": "2816efd4",
   "metadata": {},
   "outputs": [
    {
     "data": {
      "text/plain": [
       "9"
      ]
     },
     "execution_count": 9,
     "metadata": {},
     "output_type": "execute_result"
    }
   ],
   "source": [
    "# INDEX FUNCTION:\n",
    "T.index(0)"
   ]
  },
  {
   "cell_type": "markdown",
   "id": "cd097eac",
   "metadata": {},
   "source": [
    "---\n",
    "---\n",
    "---\n",
    "---\n",
    "---\n",
    "---\n",
    "---"
   ]
  },
  {
   "cell_type": "code",
   "execution_count": 18,
   "id": "336bde6f",
   "metadata": {},
   "outputs": [
    {
     "data": {
      "text/plain": [
       "[1, 2, 3, 4, 5, 6, 7, 8, 9, 0]"
      ]
     },
     "execution_count": 18,
     "metadata": {},
     "output_type": "execute_result"
    }
   ],
   "source": [
    "# LIST FUNCTION:\n",
    "list(T)"
   ]
  },
  {
   "cell_type": "code",
   "execution_count": 19,
   "id": "84566be7",
   "metadata": {},
   "outputs": [
    {
     "data": {
      "text/plain": [
       "(1, 2, 3, 4, 5, 6, 7, 8, 9, 0)"
      ]
     },
     "execution_count": 19,
     "metadata": {},
     "output_type": "execute_result"
    }
   ],
   "source": [
    "T"
   ]
  },
  {
   "cell_type": "code",
   "execution_count": 11,
   "id": "19a7520e",
   "metadata": {},
   "outputs": [
    {
     "data": {
      "text/plain": [
       "[0, 1, 2, 3, 4, 5, 6, 7, 8, 9]"
      ]
     },
     "execution_count": 11,
     "metadata": {},
     "output_type": "execute_result"
    }
   ],
   "source": [
    "# SORTED FUNCTION:\n",
    "sorted(T)"
   ]
  },
  {
   "cell_type": "code",
   "execution_count": 4,
   "id": "186127de",
   "metadata": {},
   "outputs": [
    {
     "data": {
      "text/plain": [
       "10"
      ]
     },
     "execution_count": 4,
     "metadata": {},
     "output_type": "execute_result"
    }
   ],
   "source": [
    "# LENGTH FUNCTION:\n",
    "len(T)"
   ]
  },
  {
   "cell_type": "code",
   "execution_count": 5,
   "id": "b56cd3b4",
   "metadata": {},
   "outputs": [
    {
     "data": {
      "text/plain": [
       "0"
      ]
     },
     "execution_count": 5,
     "metadata": {},
     "output_type": "execute_result"
    }
   ],
   "source": [
    "# MIN FUNCTION:\n",
    "min(T)"
   ]
  },
  {
   "cell_type": "code",
   "execution_count": 6,
   "id": "ac79a05a",
   "metadata": {},
   "outputs": [
    {
     "data": {
      "text/plain": [
       "9"
      ]
     },
     "execution_count": 6,
     "metadata": {},
     "output_type": "execute_result"
    }
   ],
   "source": [
    "# MAX FUNCTION:\n",
    "max(T)"
   ]
  },
  {
   "cell_type": "code",
   "execution_count": 7,
   "id": "f6841015",
   "metadata": {},
   "outputs": [
    {
     "data": {
      "text/plain": [
       "45"
      ]
     },
     "execution_count": 7,
     "metadata": {},
     "output_type": "execute_result"
    }
   ],
   "source": [
    "# SUM FUNCTION:\n",
    "sum(T)"
   ]
  }
 ],
 "metadata": {
  "kernelspec": {
   "display_name": "Python 3",
   "language": "python",
   "name": "python3"
  },
  "language_info": {
   "codemirror_mode": {
    "name": "ipython",
    "version": 3
   },
   "file_extension": ".py",
   "mimetype": "text/x-python",
   "name": "python",
   "nbconvert_exporter": "python",
   "pygments_lexer": "ipython3",
   "version": "3.11.9"
  }
 },
 "nbformat": 4,
 "nbformat_minor": 5
}
