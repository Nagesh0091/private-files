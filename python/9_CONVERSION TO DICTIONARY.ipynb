{
 "cells": [
  {
   "cell_type": "code",
   "execution_count": 55,
   "id": "b48ca9b3",
   "metadata": {},
   "outputs": [],
   "source": [
    "\n",
    "import numpy as np\n",
    "ARR=np.array([31,32,33,34,35,36,37,38,39,40])"
   ]
  },
  {
   "cell_type": "code",
   "execution_count": 56,
   "id": "5da9a168",
   "metadata": {},
   "outputs": [
    {
     "data": {
      "text/plain": [
       "{'A': 1, 'B': 2, 'C': 3, 'D': 4, 'E': 5}"
      ]
     },
     "execution_count": 56,
     "metadata": {},
     "output_type": "execute_result"
    }
   ],
   "source": [
    "L=[(\"A\",1),(\"B\",2),(\"C\",3),(\"D\",4),(\"E\",5)]\n",
    "DIC=dict(L)\n",
    "DIC"
   ]
  },
  {
   "cell_type": "code",
   "execution_count": 57,
   "id": "e77bbc9c",
   "metadata": {},
   "outputs": [
    {
     "data": {
      "text/plain": [
       "{0: 1, 1: 2, 2: 3, 3: 4, 4: 5}"
      ]
     },
     "execution_count": 57,
     "metadata": {},
     "output_type": "execute_result"
    }
   ],
   "source": [
    "L2=[1,2,3,4,5]\n",
    "DIC2=dict(enumerate(L2))\n",
    "DIC2"
   ]
  },
  {
   "cell_type": "code",
   "execution_count": 58,
   "id": "d969578d",
   "metadata": {},
   "outputs": [
    {
     "data": {
      "text/plain": [
       "{'A': 1, 'B': 2, 'C': 3, 'D': 4, 'E': 5}"
      ]
     },
     "execution_count": 58,
     "metadata": {},
     "output_type": "execute_result"
    }
   ],
   "source": [
    "L3=[\"A\",\"B\",\"C\",\"D\",\"E\"]# KEYS\n",
    "L4=[1,2,3,4,5,6]# VALUES\n",
    "DIC3=dict(zip(L3,L4))\n",
    "DIC3"
   ]
  },
  {
   "cell_type": "code",
   "execution_count": 59,
   "id": "8edbdd98",
   "metadata": {},
   "outputs": [
    {
     "data": {
      "text/plain": [
       "{'B': 1, 'D': 2, 'C': 3, 'E': 4, 'A': 5}"
      ]
     },
     "execution_count": 59,
     "metadata": {},
     "output_type": "execute_result"
    }
   ],
   "source": [
    "S1={\"A\",\"B\",\"C\",\"D\",\"E\"}\n",
    "S2={1,2,3,4,5,6}\n",
    "DIC4=dict(zip(S1,S2))\n",
    "DIC4"
   ]
  },
  {
   "cell_type": "code",
   "execution_count": 60,
   "id": "a1c231e7",
   "metadata": {},
   "outputs": [
    {
     "data": {
      "application/vnd.microsoft.datawrangler.viewer.v0+json": {
       "columns": [
        {
         "name": "index",
         "rawType": "int64",
         "type": "integer"
        },
        {
         "name": "NAMES",
         "rawType": "object",
         "type": "string"
        },
        {
         "name": "AGE",
         "rawType": "int64",
         "type": "integer"
        }
       ],
       "conversionMethod": "pd.DataFrame",
       "ref": "30a58e9e-3d6c-4a55-8aba-bf48f67e73ee",
       "rows": [
        [
         "0",
         "NAGESH",
         "22"
        ],
        [
         "1",
         "UJWAL",
         "22"
        ],
        [
         "2",
         "MODI",
         "58"
        ]
       ],
       "shape": {
        "columns": 2,
        "rows": 3
       }
      },
      "text/html": [
       "<div>\n",
       "<style scoped>\n",
       "    .dataframe tbody tr th:only-of-type {\n",
       "        vertical-align: middle;\n",
       "    }\n",
       "\n",
       "    .dataframe tbody tr th {\n",
       "        vertical-align: top;\n",
       "    }\n",
       "\n",
       "    .dataframe thead th {\n",
       "        text-align: right;\n",
       "    }\n",
       "</style>\n",
       "<table border=\"1\" class=\"dataframe\">\n",
       "  <thead>\n",
       "    <tr style=\"text-align: right;\">\n",
       "      <th></th>\n",
       "      <th>NAMES</th>\n",
       "      <th>AGE</th>\n",
       "    </tr>\n",
       "  </thead>\n",
       "  <tbody>\n",
       "    <tr>\n",
       "      <th>0</th>\n",
       "      <td>NAGESH</td>\n",
       "      <td>22</td>\n",
       "    </tr>\n",
       "    <tr>\n",
       "      <th>1</th>\n",
       "      <td>UJWAL</td>\n",
       "      <td>22</td>\n",
       "    </tr>\n",
       "    <tr>\n",
       "      <th>2</th>\n",
       "      <td>MODI</td>\n",
       "      <td>58</td>\n",
       "    </tr>\n",
       "  </tbody>\n",
       "</table>\n",
       "</div>"
      ],
      "text/plain": [
       "    NAMES  AGE\n",
       "0  NAGESH   22\n",
       "1   UJWAL   22\n",
       "2    MODI   58"
      ]
     },
     "execution_count": 60,
     "metadata": {},
     "output_type": "execute_result"
    }
   ],
   "source": [
    "import pandas as pd\n",
    "DIC5={\"NAMES\":[\"NAGESH\",\"UJWAL\",\"MODI\"],\n",
    "     \"AGE\":[22,22,58]}\n",
    "DF=pd.DataFrame(DIC5)\n",
    "DF"
   ]
  },
  {
   "cell_type": "code",
   "execution_count": 61,
   "id": "e1b97210",
   "metadata": {},
   "outputs": [
    {
     "data": {
      "application/vnd.microsoft.datawrangler.viewer.v0+json": {
       "columns": [
        {
         "name": "index",
         "rawType": "int64",
         "type": "integer"
        },
        {
         "name": "names",
         "rawType": "object",
         "type": "string"
        },
        {
         "name": "age",
         "rawType": "int64",
         "type": "integer"
        },
        {
         "name": "salary",
         "rawType": "int64",
         "type": "integer"
        }
       ],
       "conversionMethod": "pd.DataFrame",
       "ref": "a50c95b5-bf41-4363-bf1f-6fd303e7e3f4",
       "rows": [
        [
         "0",
         "UJWAL",
         "22",
         "300000"
        ],
        [
         "1",
         "NAGESH",
         "22",
         "300000"
        ],
        [
         "2",
         "MODI",
         "58",
         "10000000000000"
        ]
       ],
       "shape": {
        "columns": 3,
        "rows": 3
       }
      },
      "text/html": [
       "<div>\n",
       "<style scoped>\n",
       "    .dataframe tbody tr th:only-of-type {\n",
       "        vertical-align: middle;\n",
       "    }\n",
       "\n",
       "    .dataframe tbody tr th {\n",
       "        vertical-align: top;\n",
       "    }\n",
       "\n",
       "    .dataframe thead th {\n",
       "        text-align: right;\n",
       "    }\n",
       "</style>\n",
       "<table border=\"1\" class=\"dataframe\">\n",
       "  <thead>\n",
       "    <tr style=\"text-align: right;\">\n",
       "      <th></th>\n",
       "      <th>names</th>\n",
       "      <th>age</th>\n",
       "      <th>salary</th>\n",
       "    </tr>\n",
       "  </thead>\n",
       "  <tbody>\n",
       "    <tr>\n",
       "      <th>0</th>\n",
       "      <td>UJWAL</td>\n",
       "      <td>22</td>\n",
       "      <td>300000</td>\n",
       "    </tr>\n",
       "    <tr>\n",
       "      <th>1</th>\n",
       "      <td>NAGESH</td>\n",
       "      <td>22</td>\n",
       "      <td>300000</td>\n",
       "    </tr>\n",
       "    <tr>\n",
       "      <th>2</th>\n",
       "      <td>MODI</td>\n",
       "      <td>58</td>\n",
       "      <td>10000000000000</td>\n",
       "    </tr>\n",
       "  </tbody>\n",
       "</table>\n",
       "</div>"
      ],
      "text/plain": [
       "    names  age          salary\n",
       "0   UJWAL   22          300000\n",
       "1  NAGESH   22          300000\n",
       "2    MODI   58  10000000000000"
      ]
     },
     "execution_count": 61,
     "metadata": {},
     "output_type": "execute_result"
    }
   ],
   "source": [
    "VALUES=[[\"UJWAL\",22,300000],\n",
    "        [\"NAGESH\",22,300000],\n",
    "        [\"MODI\",58,10000000000000]]\n",
    "import pandas as pd\n",
    "DF2=pd.DataFrame(VALUES,columns=[\"names\",\"age\",\"salary\"])\n",
    "DF2"
   ]
  },
  {
   "cell_type": "code",
   "execution_count": 64,
   "id": "f4ca1673",
   "metadata": {},
   "outputs": [
    {
     "data": {
      "text/plain": [
       "{'names': ['UJWAL', 'NAGESH', 'MODI'],\n",
       " 'age': [22, 22, 58],\n",
       " 'salary': [300000, 300000, 10000000000000]}"
      ]
     },
     "execution_count": 64,
     "metadata": {},
     "output_type": "execute_result"
    }
   ],
   "source": [
    "DIC6=DF2.to_dict(\"list\")\n",
    "DIC6"
   ]
  }
 ],
 "metadata": {
  "kernelspec": {
   "display_name": "Python 3",
   "language": "python",
   "name": "python3"
  },
  "language_info": {
   "codemirror_mode": {
    "name": "ipython",
    "version": 3
   },
   "file_extension": ".py",
   "mimetype": "text/x-python",
   "name": "python",
   "nbconvert_exporter": "python",
   "pygments_lexer": "ipython3",
   "version": "3.11.9"
  }
 },
 "nbformat": 4,
 "nbformat_minor": 5
}
