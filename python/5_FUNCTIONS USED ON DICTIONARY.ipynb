{
 "cells": [
  {
   "cell_type": "markdown",
   "id": "e7060584",
   "metadata": {},
   "source": [
    "# **FUNSTIONS USED ON DICTIONARY**"
   ]
  },
  {
   "cell_type": "code",
   "execution_count": 12,
   "id": "8325f0a0",
   "metadata": {},
   "outputs": [],
   "source": [
    "DIC={\"FRUITS\":[\"APPLE\",\"ORANGE\",\"STRAWBERRY\",\"BERRY\"],\n",
    "     \"DAYS\":[\"SUNDAY\",\"MONDAY\",\"TUESDAY\",\"WEDNESDAY\",\"THUSDAY\",\"FRIDAY\",\"SATURDAY\"],\n",
    "     \"COUNT\":[1,2,3,4,6,7,8,9,10]}"
   ]
  },
  {
   "cell_type": "code",
   "execution_count": null,
   "id": "c54e2c40",
   "metadata": {},
   "outputs": [
    {
     "data": {
      "text/plain": [
       "['APPLE', 'ORANGE', 'STRAWBERRY', 'BERRY']"
      ]
     },
     "execution_count": 13,
     "metadata": {},
     "output_type": "execute_result"
    }
   ],
   "source": [
    "# GET FUNCTION:\n",
    "DIC.get(\"FRUITS\")# GET FUNCTION TO GET VALUES FROM PERTICULAR KEY ."
   ]
  },
  {
   "cell_type": "code",
   "execution_count": 14,
   "id": "e0816c42",
   "metadata": {},
   "outputs": [
    {
     "data": {
      "text/plain": [
       "dict_keys(['FRUITS', 'DAYS', 'COUNT'])"
      ]
     },
     "execution_count": 14,
     "metadata": {},
     "output_type": "execute_result"
    }
   ],
   "source": [
    "# KEYS FUNCTION:\n",
    "DIC.keys()"
   ]
  },
  {
   "cell_type": "code",
   "execution_count": 15,
   "id": "e0085627",
   "metadata": {},
   "outputs": [
    {
     "data": {
      "text/plain": [
       "dict_values([['APPLE', 'ORANGE', 'STRAWBERRY', 'BERRY'], ['SUNDAY', 'MONDAY', 'TUESDAY', 'WEDNESDAY', 'THUSDAY', 'FRIDAY', 'SATURDAY'], [1, 2, 3, 4, 6, 7, 8, 9, 10]])"
      ]
     },
     "execution_count": 15,
     "metadata": {},
     "output_type": "execute_result"
    }
   ],
   "source": [
    "# VALUES FUNCTION:\n",
    "DIC.values()"
   ]
  },
  {
   "cell_type": "code",
   "execution_count": 16,
   "id": "8dd80554",
   "metadata": {},
   "outputs": [
    {
     "data": {
      "text/plain": [
       "dict_items([('FRUITS', ['APPLE', 'ORANGE', 'STRAWBERRY', 'BERRY']), ('DAYS', ['SUNDAY', 'MONDAY', 'TUESDAY', 'WEDNESDAY', 'THUSDAY', 'FRIDAY', 'SATURDAY']), ('COUNT', [1, 2, 3, 4, 6, 7, 8, 9, 10])])"
      ]
     },
     "execution_count": 16,
     "metadata": {},
     "output_type": "execute_result"
    }
   ],
   "source": [
    "# ITEMS FUNCTION:\n",
    "DIC.items()"
   ]
  },
  {
   "cell_type": "code",
   "execution_count": 17,
   "id": "097a261b",
   "metadata": {},
   "outputs": [
    {
     "data": {
      "text/plain": [
       "['APPLE', 'ORANGE', 'STRAWBERRY', 'BERRY']"
      ]
     },
     "execution_count": 17,
     "metadata": {},
     "output_type": "execute_result"
    }
   ],
   "source": [
    "# POP FUNCTION:\n",
    "DIC.pop(\"FRUITS\")"
   ]
  },
  {
   "cell_type": "code",
   "execution_count": 18,
   "id": "dd2a6445",
   "metadata": {},
   "outputs": [
    {
     "data": {
      "text/plain": [
       "('COUNT', [1, 2, 3, 4, 6, 7, 8, 9, 10])"
      ]
     },
     "execution_count": 18,
     "metadata": {},
     "output_type": "execute_result"
    }
   ],
   "source": [
    "# POPITEM FUNCTION:\n",
    "DIC.popitem()"
   ]
  },
  {
   "cell_type": "code",
   "execution_count": 19,
   "id": "00327fb7",
   "metadata": {},
   "outputs": [
    {
     "data": {
      "text/plain": [
       "{'DAYS': ['SUNDAY',\n",
       "  'MONDAY',\n",
       "  'TUESDAY',\n",
       "  'WEDNESDAY',\n",
       "  'THUSDAY',\n",
       "  'FRIDAY',\n",
       "  'SATURDAY'],\n",
       " 'COUNT': [1, 2, 3, 4, 5, 6, 7, 8, 9, 10],\n",
       " 'FRUITS': ['APPLE', 'ORANGE', 'STRAWBERRY', 'BERRY']}"
      ]
     },
     "execution_count": 19,
     "metadata": {},
     "output_type": "execute_result"
    }
   ],
   "source": [
    "# UPDATE FUNCTION:\n",
    "DIC.update({\"COUNT\":[1,2,3,4,5,6,7,8,9,10],\n",
    "            \"FRUITS\":[\"APPLE\",\"ORANGE\",\"STRAWBERRY\",\"BERRY\"]})\n",
    "DIC"
   ]
  }
 ],
 "metadata": {
  "kernelspec": {
   "display_name": "Python 3",
   "language": "python",
   "name": "python3"
  },
  "language_info": {
   "codemirror_mode": {
    "name": "ipython",
    "version": 3
   },
   "file_extension": ".py",
   "mimetype": "text/x-python",
   "name": "python",
   "nbconvert_exporter": "python",
   "pygments_lexer": "ipython3",
   "version": "3.11.9"
  }
 },
 "nbformat": 4,
 "nbformat_minor": 5
}
