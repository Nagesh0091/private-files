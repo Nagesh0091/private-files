{
 "cells": [
  {
   "cell_type": "markdown",
   "metadata": {},
   "source": [
    "# FACTORIAL OF NUMBER"
   ]
  },
  {
   "cell_type": "code",
   "execution_count": 12,
   "metadata": {},
   "outputs": [],
   "source": [
    "def FACTORIAL(NUM):\n",
    "    if NUM==1:\n",
    "        return 1\n",
    "    return NUM*FACTORIAL(NUM-1)# RECURSIVVE CALL\n"
   ]
  },
  {
   "cell_type": "code",
   "execution_count": 13,
   "metadata": {},
   "outputs": [
    {
     "data": {
      "text/plain": [
       "120"
      ]
     },
     "execution_count": 13,
     "metadata": {},
     "output_type": "execute_result"
    }
   ],
   "source": [
    "FACTORIAL(5)"
   ]
  },
  {
   "cell_type": "markdown",
   "metadata": {},
   "source": [
    "# LIST OF  FACTORIAL OF NUMBER"
   ]
  },
  {
   "cell_type": "code",
   "execution_count": 19,
   "metadata": {},
   "outputs": [],
   "source": [
    "def FACTORIAL_LIST(NUM):\n",
    "    if NUM == 1:\n",
    "        return [1]  # Start with 1 as the first factorial\n",
    "    result = FACTORIAL_LIST(NUM - 1)\n",
    "    result.append(NUM * result[-1])  # Append the next factorial value\n",
    "    return result"
   ]
  },
  {
   "cell_type": "code",
   "execution_count": 20,
   "metadata": {},
   "outputs": [
    {
     "data": {
      "text/plain": [
       "[1, 2, 6, 24, 120]"
      ]
     },
     "execution_count": 20,
     "metadata": {},
     "output_type": "execute_result"
    }
   ],
   "source": [
    "FACTORIAL_LIST(5)"
   ]
  },
  {
   "cell_type": "markdown",
   "metadata": {},
   "source": [
    "# FIBONACCI SEQUENCE:"
   ]
  },
  {
   "cell_type": "code",
   "execution_count": 8,
   "metadata": {},
   "outputs": [],
   "source": [
    "def fibonacci(n):\n",
    "    fib=[0,1]\n",
    "    for a in range(2,n):\n",
    "      fib.append(fib[-1]+fib[-2])\n",
    "    return fib    "
   ]
  },
  {
   "cell_type": "code",
   "execution_count": 9,
   "metadata": {},
   "outputs": [
    {
     "data": {
      "text/plain": [
       "[0, 1, 1, 2, 3]"
      ]
     },
     "execution_count": 9,
     "metadata": {},
     "output_type": "execute_result"
    }
   ],
   "source": [
    "fibonacci(5)"
   ]
  },
  {
   "cell_type": "markdown",
   "metadata": {},
   "source": [
    "# CHECK IF THE NUMBER IS PRIME"
   ]
  },
  {
   "cell_type": "code",
   "execution_count": 23,
   "metadata": {},
   "outputs": [],
   "source": [
    "def CHECK_PRIME(a):\n",
    "    if a<=1:\n",
    "        return \"its not a prime number\"\n",
    "    else :\n",
    "        for b in range(2,a):\n",
    "            if a%b==0:\n",
    "                return \"it is not a prime\"\n",
    "        else:\n",
    "            return \"it is a prime number\"    "
   ]
  },
  {
   "cell_type": "code",
   "execution_count": 25,
   "metadata": {},
   "outputs": [
    {
     "data": {
      "text/plain": [
       "'it is not a prime'"
      ]
     },
     "execution_count": 25,
     "metadata": {},
     "output_type": "execute_result"
    }
   ],
   "source": [
    "CHECK_PRIME(4)"
   ]
  },
  {
   "cell_type": "markdown",
   "metadata": {},
   "source": [
    "# REVERSE STRING"
   ]
  },
  {
   "cell_type": "code",
   "execution_count": 29,
   "metadata": {},
   "outputs": [],
   "source": [
    "def REVERSE_TEXT(TEXT):\n",
    "    return TEXT[::-1]"
   ]
  },
  {
   "cell_type": "code",
   "execution_count": 32,
   "metadata": {},
   "outputs": [
    {
     "data": {
      "text/plain": [
       "'lawju'"
      ]
     },
     "execution_count": 32,
     "metadata": {},
     "output_type": "execute_result"
    }
   ],
   "source": [
    "REVERSE_TEXT(\"ujwal\")"
   ]
  },
  {
   "cell_type": "code",
   "execution_count": 33,
   "metadata": {},
   "outputs": [],
   "source": [
    "def REVERSE_TEXT2(TEXT):\n",
    "    return \"\".join(reversed(TEXT))"
   ]
  },
  {
   "cell_type": "code",
   "execution_count": 34,
   "metadata": {},
   "outputs": [
    {
     "data": {
      "text/plain": [
       "'LAWJU'"
      ]
     },
     "execution_count": 34,
     "metadata": {},
     "output_type": "execute_result"
    }
   ],
   "source": [
    "REVERSE_TEXT2(\"UJWAL\")"
   ]
  },
  {
   "cell_type": "markdown",
   "metadata": {},
   "source": [
    "# PALINDROME CHECK"
   ]
  },
  {
   "cell_type": "code",
   "execution_count": 37,
   "metadata": {},
   "outputs": [],
   "source": [
    "def CHECK_PALINDROME(TEXT):\n",
    "    return TEXT==TEXT[::-1]"
   ]
  },
  {
   "cell_type": "code",
   "execution_count": 38,
   "metadata": {},
   "outputs": [
    {
     "data": {
      "text/plain": [
       "True"
      ]
     },
     "execution_count": 38,
     "metadata": {},
     "output_type": "execute_result"
    }
   ],
   "source": [
    "CHECK_PALINDROME(\"NITIN\")"
   ]
  },
  {
   "cell_type": "markdown",
   "metadata": {},
   "source": [
    "# FIND MAX IN LIST"
   ]
  },
  {
   "cell_type": "code",
   "execution_count": 39,
   "metadata": {},
   "outputs": [],
   "source": [
    "def MAX_INLIST(LIST):\n",
    "    return max(LIST)"
   ]
  },
  {
   "cell_type": "code",
   "execution_count": 41,
   "metadata": {},
   "outputs": [
    {
     "data": {
      "text/plain": [
       "5"
      ]
     },
     "execution_count": 41,
     "metadata": {},
     "output_type": "execute_result"
    }
   ],
   "source": [
    "LIST=[1,2,3,4,5]\n",
    "MAX_INLIST(LIST)"
   ]
  },
  {
   "cell_type": "code",
   "execution_count": 42,
   "metadata": {},
   "outputs": [],
   "source": [
    "def MAX_INLIST2(LIST):\n",
    "    max_value= LIST[0]\n",
    "    for a in LIST:\n",
    "        if a > max_value:\n",
    "            max_value=a\n",
    "    return max_value        "
   ]
  },
  {
   "cell_type": "code",
   "execution_count": 43,
   "metadata": {},
   "outputs": [
    {
     "data": {
      "text/plain": [
       "5"
      ]
     },
     "execution_count": 43,
     "metadata": {},
     "output_type": "execute_result"
    }
   ],
   "source": [
    "MAX_INLIST2(LIST)"
   ]
  },
  {
   "cell_type": "markdown",
   "metadata": {},
   "source": [
    "# COUNT VOWELS IN A STRING:"
   ]
  },
  {
   "cell_type": "code",
   "execution_count": 55,
   "metadata": {},
   "outputs": [],
   "source": [
    "def COUNT_VOWELS(TEXT):\n",
    "    vowels=\"aeiouAEIOU\"\n",
    "    from collections import Counter\n",
    "    found=[char for char in TEXT if char in vowels]\n",
    "    print(f\"founded vowels in a text = {found}\")\n",
    "    print(f\"distint count of founded vowels in a text = {Counter(found)}\")\n",
    "    return len(found)\n",
    "    \n",
    "    "
   ]
  },
  {
   "cell_type": "code",
   "execution_count": 56,
   "metadata": {},
   "outputs": [
    {
     "name": "stdout",
     "output_type": "stream",
     "text": [
      "founded vowels in a text = ['I', 'A', 'A', 'E', 'A', 'I', 'A', 'E', 'A', 'O']\n",
      "distint count of founded vowels in a text = Counter({'A': 5, 'I': 2, 'E': 2, 'O': 1})\n"
     ]
    },
    {
     "data": {
      "text/plain": [
       "10"
      ]
     },
     "execution_count": 56,
     "metadata": {},
     "output_type": "execute_result"
    }
   ],
   "source": [
    "TEXT=\"I AM NAGESH AND I AM 21 YEARS OLD.\"\n",
    "COUNT_VOWELS(TEXT)"
   ]
  },
  {
   "cell_type": "markdown",
   "metadata": {},
   "source": [
    "# REMOVE DUPLICATES FROM LIST."
   ]
  },
  {
   "cell_type": "code",
   "execution_count": 58,
   "metadata": {},
   "outputs": [],
   "source": [
    "def REMOVE_DUPLICATES(LIST):\n",
    "    return list(set(LIST))"
   ]
  },
  {
   "cell_type": "code",
   "execution_count": 60,
   "metadata": {},
   "outputs": [
    {
     "data": {
      "text/plain": [
       "[1, 2, 3, 4, 5]"
      ]
     },
     "execution_count": 60,
     "metadata": {},
     "output_type": "execute_result"
    }
   ],
   "source": [
    "LIST=[1,2,3,4,5,5,5,5]\n",
    "REMOVE_DUPLICATES(LIST)"
   ]
  },
  {
   "cell_type": "markdown",
   "metadata": {},
   "source": [
    "# COUNT THE WORDS IN A STRING"
   ]
  },
  {
   "cell_type": "code",
   "execution_count": 70,
   "metadata": {},
   "outputs": [],
   "source": [
    "def WORD_COUNTER(TEXT):\n",
    "    LIST=list(TEXT.split())\n",
    "    return len(LIST) "
   ]
  },
  {
   "cell_type": "code",
   "execution_count": 71,
   "metadata": {},
   "outputs": [
    {
     "data": {
      "text/plain": [
       "9"
      ]
     },
     "execution_count": 71,
     "metadata": {},
     "output_type": "execute_result"
    }
   ],
   "source": [
    "WORD_COUNTER(TEXT)"
   ]
  },
  {
   "cell_type": "markdown",
   "metadata": {},
   "source": [
    "# WORD COUNT 2\n"
   ]
  },
  {
   "cell_type": "code",
   "execution_count": 72,
   "metadata": {},
   "outputs": [],
   "source": [
    "def WORD_COUNTER2(TEXT):\n",
    "    return TEXT.count(\" \")+1"
   ]
  },
  {
   "cell_type": "code",
   "execution_count": 74,
   "metadata": {},
   "outputs": [
    {
     "data": {
      "text/plain": [
       "9"
      ]
     },
     "execution_count": 74,
     "metadata": {},
     "output_type": "execute_result"
    }
   ],
   "source": [
    "WORD_COUNTER2(TEXT)"
   ]
  },
  {
   "cell_type": "markdown",
   "metadata": {},
   "source": [
    "# WORD COUNT 3"
   ]
  },
  {
   "cell_type": "code",
   "execution_count": 86,
   "metadata": {},
   "outputs": [],
   "source": [
    "def WORD_COUNTER3(TEXT):\n",
    "    from nltk.tokenize import word_tokenize\n",
    "    import re\n",
    "    import string\n",
    "    TEXT=re.sub(r\"\\d+\",\"\",TEXT)\n",
    "    TEXT=re.sub(r\"\\s+\",\" \",TEXT.strip())\n",
    "    TEXT=TEXT.translate(str.maketrans(\"\",\"\",string.punctuation))\n",
    "    TEXT=word_tokenize(TEXT)\n",
    "    return len(TEXT)"
   ]
  },
  {
   "cell_type": "code",
   "execution_count": 84,
   "metadata": {},
   "outputs": [
    {
     "data": {
      "text/plain": [
       "'I AM NAGESH AND I AM 21 YEARS OLD.'"
      ]
     },
     "execution_count": 84,
     "metadata": {},
     "output_type": "execute_result"
    }
   ],
   "source": [
    "TEXT"
   ]
  },
  {
   "cell_type": "code",
   "execution_count": 87,
   "metadata": {},
   "outputs": [
    {
     "data": {
      "text/plain": [
       "8"
      ]
     },
     "execution_count": 87,
     "metadata": {},
     "output_type": "execute_result"
    }
   ],
   "source": [
    "WORD_COUNTER3(TEXT)"
   ]
  },
  {
   "cell_type": "markdown",
   "metadata": {},
   "source": [
    "# LONGEST WORD IN A TEXT:"
   ]
  },
  {
   "cell_type": "code",
   "execution_count": 101,
   "metadata": {},
   "outputs": [],
   "source": [
    "def LONGEST_WORD(TEXT):\n",
    "    LIST=list(TEXT.split())\n",
    "    LONGEST_WORD=\"\"\n",
    "    for word in LIST:\n",
    "        if len(word) > len(LONGEST_WORD):\n",
    "            LONGEST_WORD=word\n",
    "    return LONGEST_WORD    \n",
    "        "
   ]
  },
  {
   "cell_type": "code",
   "execution_count": 102,
   "metadata": {},
   "outputs": [
    {
     "data": {
      "text/plain": [
       "'NAGESH'"
      ]
     },
     "execution_count": 102,
     "metadata": {},
     "output_type": "execute_result"
    }
   ],
   "source": [
    "LONGEST_WORD(TEXT)"
   ]
  },
  {
   "cell_type": "markdown",
   "metadata": {},
   "source": [
    "# SEPERATE EVEN AND ODD NUMBER FROM THE LIST OF NUMBERS "
   ]
  },
  {
   "cell_type": "code",
   "execution_count": 111,
   "metadata": {},
   "outputs": [],
   "source": [
    "def EVEN_ODD_SEPARATOR(LIST):\n",
    "    if any(type(num)not in [int,float] for num in LIST):\n",
    "        return \"non numeric list\"\n",
    "    \n",
    "    even= [num for num in LIST if num%2==0]\n",
    "    odd=[num for num in LIST if num%2!=0]\n",
    "    \n",
    "    return f\"even{even},odd{odd}\""
   ]
  },
  {
   "cell_type": "code",
   "execution_count": 115,
   "metadata": {},
   "outputs": [
    {
     "data": {
      "text/plain": [
       "'even[2, 4, 6, 8, 10],odd[1, 3, 5, 7, 9]'"
      ]
     },
     "execution_count": 115,
     "metadata": {},
     "output_type": "execute_result"
    }
   ],
   "source": [
    "LIST=[1,2,3,4,5,6,7,8,9,10]\n",
    "EVEN_ODD_SEPARATOR(LIST)"
   ]
  },
  {
   "cell_type": "markdown",
   "metadata": {},
   "source": [
    "# CHECK ANAGRAM"
   ]
  },
  {
   "cell_type": "code",
   "execution_count": 118,
   "metadata": {},
   "outputs": [],
   "source": [
    "def CHECK_ANAGRAM(TEXT1,TEXT2):\n",
    "    if len(TEXT1)==len(TEXT2):\n",
    "        result= 1\n",
    "    else :\n",
    "        result= 0\n",
    "    \n",
    "    if result==1:\n",
    "        if sorted(TEXT1)==sorted(TEXT2):\n",
    "            return \"both string are matched\"\n",
    "    else:\n",
    "        return \"they are not matched\"    "
   ]
  },
  {
   "cell_type": "code",
   "execution_count": 121,
   "metadata": {},
   "outputs": [
    {
     "data": {
      "text/plain": [
       "'both string are matched'"
      ]
     },
     "execution_count": 121,
     "metadata": {},
     "output_type": "execute_result"
    }
   ],
   "source": [
    "TEXT1=\"i am ujwal\"\n",
    "TEXT2=\"i am ujwal\"\n",
    "CHECK_ANAGRAM(TEXT1,TEXT2)"
   ]
  },
  {
   "cell_type": "markdown",
   "metadata": {},
   "source": [
    "# greeting function"
   ]
  },
  {
   "cell_type": "code",
   "execution_count": 7,
   "metadata": {},
   "outputs": [
    {
     "name": "stdout",
     "output_type": "stream",
     "text": [
      "hello nagesh !\n"
     ]
    }
   ],
   "source": [
    "def greet(name:str):\n",
    "    print(f\"hello {name} !\")\n",
    "\n",
    "greet(\"nagesh\")    "
   ]
  }
 ],
 "metadata": {
  "kernelspec": {
   "display_name": "Python 3",
   "language": "python",
   "name": "python3"
  },
  "language_info": {
   "codemirror_mode": {
    "name": "ipython",
    "version": 3
   },
   "file_extension": ".py",
   "mimetype": "text/x-python",
   "name": "python",
   "nbconvert_exporter": "python",
   "pygments_lexer": "ipython3",
   "version": "3.11.9"
  }
 },
 "nbformat": 4,
 "nbformat_minor": 2
}
