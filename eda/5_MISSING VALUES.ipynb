{
 "cells": [
  {
   "cell_type": "markdown",
   "id": "e3790d98",
   "metadata": {},
   "source": [
    "# **👨‍💻MISSING VALUES**"
   ]
  },
  {
   "cell_type": "markdown",
   "id": "ab7d17e2",
   "metadata": {},
   "source": [
    "SOME OF THE VALUES WILL BE MISSED IN A DATASET BECAUSE OF SEVERAL REASONS SUCH AS HUMAN ERROR,MACHINE FAILURE,ETC. "
   ]
  },
  {
   "cell_type": "markdown",
   "id": "6e987c23",
   "metadata": {},
   "source": [
    "WHEN WE HAVE NULL VALUES IN THE DATASET THEY REPRESENT MISSING INFORMATION THESE NULLS CAN BE CAUSE PROBLEM \n",
    "WHEN WE TRY TO CALCULATE THINGS LIKE \n",
    "\n",
    "* MEAN\n",
    "\n",
    "* MEDIAN"
   ]
  },
  {
   "cell_type": "markdown",
   "id": "abe23232",
   "metadata": {},
   "source": [
    "IF SOME DATA IS MISSING , THE AVERAGE MIGHT NOT REFLECT THE TRUE TREND OF THE DATA\n",
    "WHEN WE COMPARE VALUES TO DETECT OUTLIERS \n",
    "WRONG CALCULATIONS CAN MAKE NORMAL VALUES UNUSUAL VALUES OR HIDE ACTUAL UNUSUAL VALUES..."
   ]
  },
  {
   "cell_type": "code",
   "execution_count": 198,
   "id": "28dd591a",
   "metadata": {},
   "outputs": [],
   "source": [
    "# DATA LOADING:\n",
    "import pandas as pd\n",
    "DATA=pd.read_csv(r\"C:\\Users\\Nagesh Agrawal\\OneDrive\\Desktop\\EDA\\DATA\\archive (1)\\2019-Dec.csv\")"
   ]
  },
  {
   "cell_type": "markdown",
   "id": "b0ffbdce",
   "metadata": {},
   "source": [
    "##### **TO FIND MISSING VALUES**"
   ]
  },
  {
   "cell_type": "markdown",
   "id": "782e5b78",
   "metadata": {},
   "source": [
    "# **🔍 INSPECT DATASET:**"
   ]
  },
  {
   "cell_type": "code",
   "execution_count": 199,
   "id": "6de932cc",
   "metadata": {},
   "outputs": [
    {
     "data": {
      "application/vnd.microsoft.datawrangler.viewer.v0+json": {
       "columns": [
        {
         "name": "index",
         "rawType": "int64",
         "type": "integer"
        },
        {
         "name": "event_time",
         "rawType": "object",
         "type": "string"
        },
        {
         "name": "event_type",
         "rawType": "object",
         "type": "string"
        },
        {
         "name": "product_id",
         "rawType": "int64",
         "type": "integer"
        },
        {
         "name": "category_id",
         "rawType": "int64",
         "type": "integer"
        },
        {
         "name": "category_code",
         "rawType": "object",
         "type": "unknown"
        },
        {
         "name": "brand",
         "rawType": "object",
         "type": "unknown"
        },
        {
         "name": "price",
         "rawType": "float64",
         "type": "float"
        },
        {
         "name": "user_id",
         "rawType": "int64",
         "type": "integer"
        },
        {
         "name": "user_session",
         "rawType": "object",
         "type": "string"
        }
       ],
       "conversionMethod": "pd.DataFrame",
       "ref": "08e5e069-1192-4127-aa71-f16d614ea787",
       "rows": [
        [
         "0",
         "2019-12-01 00:00:00 UTC",
         "remove_from_cart",
         "5712790",
         "1487580005268456287",
         null,
         "f.o.x",
         "6.27",
         "576802932",
         "51d85cb0-897f-48d2-918b-ad63965c12dc"
        ],
        [
         "1",
         "2019-12-01 00:00:00 UTC",
         "view",
         "5764655",
         "1487580005411062629",
         null,
         "cnd",
         "29.05",
         "412120092",
         "8adff31e-2051-4894-9758-224bfa8aec18"
        ],
        [
         "2",
         "2019-12-01 00:00:02 UTC",
         "cart",
         "4958",
         "1487580009471148064",
         null,
         "runail",
         "1.19",
         "494077766",
         "c99a50e8-2fac-4c4d-89ec-41c05f114554"
        ],
        [
         "3",
         "2019-12-01 00:00:05 UTC",
         "view",
         "5848413",
         "1487580007675986893",
         null,
         "freedecor",
         "0.79",
         "348405118",
         "722ffea5-73c0-4924-8e8f-371ff8031af4"
        ],
        [
         "4",
         "2019-12-01 00:00:07 UTC",
         "view",
         "5824148",
         "1487580005511725929",
         null,
         null,
         "5.56",
         "576005683",
         "28172809-7e4a-45ce-bab0-5efa90117cd5"
        ]
       ],
       "shape": {
        "columns": 9,
        "rows": 5
       }
      },
      "text/html": [
       "<div>\n",
       "<style scoped>\n",
       "    .dataframe tbody tr th:only-of-type {\n",
       "        vertical-align: middle;\n",
       "    }\n",
       "\n",
       "    .dataframe tbody tr th {\n",
       "        vertical-align: top;\n",
       "    }\n",
       "\n",
       "    .dataframe thead th {\n",
       "        text-align: right;\n",
       "    }\n",
       "</style>\n",
       "<table border=\"1\" class=\"dataframe\">\n",
       "  <thead>\n",
       "    <tr style=\"text-align: right;\">\n",
       "      <th></th>\n",
       "      <th>event_time</th>\n",
       "      <th>event_type</th>\n",
       "      <th>product_id</th>\n",
       "      <th>category_id</th>\n",
       "      <th>category_code</th>\n",
       "      <th>brand</th>\n",
       "      <th>price</th>\n",
       "      <th>user_id</th>\n",
       "      <th>user_session</th>\n",
       "    </tr>\n",
       "  </thead>\n",
       "  <tbody>\n",
       "    <tr>\n",
       "      <th>0</th>\n",
       "      <td>2019-12-01 00:00:00 UTC</td>\n",
       "      <td>remove_from_cart</td>\n",
       "      <td>5712790</td>\n",
       "      <td>1487580005268456287</td>\n",
       "      <td>NaN</td>\n",
       "      <td>f.o.x</td>\n",
       "      <td>6.27</td>\n",
       "      <td>576802932</td>\n",
       "      <td>51d85cb0-897f-48d2-918b-ad63965c12dc</td>\n",
       "    </tr>\n",
       "    <tr>\n",
       "      <th>1</th>\n",
       "      <td>2019-12-01 00:00:00 UTC</td>\n",
       "      <td>view</td>\n",
       "      <td>5764655</td>\n",
       "      <td>1487580005411062629</td>\n",
       "      <td>NaN</td>\n",
       "      <td>cnd</td>\n",
       "      <td>29.05</td>\n",
       "      <td>412120092</td>\n",
       "      <td>8adff31e-2051-4894-9758-224bfa8aec18</td>\n",
       "    </tr>\n",
       "    <tr>\n",
       "      <th>2</th>\n",
       "      <td>2019-12-01 00:00:02 UTC</td>\n",
       "      <td>cart</td>\n",
       "      <td>4958</td>\n",
       "      <td>1487580009471148064</td>\n",
       "      <td>NaN</td>\n",
       "      <td>runail</td>\n",
       "      <td>1.19</td>\n",
       "      <td>494077766</td>\n",
       "      <td>c99a50e8-2fac-4c4d-89ec-41c05f114554</td>\n",
       "    </tr>\n",
       "    <tr>\n",
       "      <th>3</th>\n",
       "      <td>2019-12-01 00:00:05 UTC</td>\n",
       "      <td>view</td>\n",
       "      <td>5848413</td>\n",
       "      <td>1487580007675986893</td>\n",
       "      <td>NaN</td>\n",
       "      <td>freedecor</td>\n",
       "      <td>0.79</td>\n",
       "      <td>348405118</td>\n",
       "      <td>722ffea5-73c0-4924-8e8f-371ff8031af4</td>\n",
       "    </tr>\n",
       "    <tr>\n",
       "      <th>4</th>\n",
       "      <td>2019-12-01 00:00:07 UTC</td>\n",
       "      <td>view</td>\n",
       "      <td>5824148</td>\n",
       "      <td>1487580005511725929</td>\n",
       "      <td>NaN</td>\n",
       "      <td>NaN</td>\n",
       "      <td>5.56</td>\n",
       "      <td>576005683</td>\n",
       "      <td>28172809-7e4a-45ce-bab0-5efa90117cd5</td>\n",
       "    </tr>\n",
       "  </tbody>\n",
       "</table>\n",
       "</div>"
      ],
      "text/plain": [
       "                event_time        event_type  product_id          category_id  \\\n",
       "0  2019-12-01 00:00:00 UTC  remove_from_cart     5712790  1487580005268456287   \n",
       "1  2019-12-01 00:00:00 UTC              view     5764655  1487580005411062629   \n",
       "2  2019-12-01 00:00:02 UTC              cart        4958  1487580009471148064   \n",
       "3  2019-12-01 00:00:05 UTC              view     5848413  1487580007675986893   \n",
       "4  2019-12-01 00:00:07 UTC              view     5824148  1487580005511725929   \n",
       "\n",
       "  category_code      brand  price    user_id  \\\n",
       "0           NaN      f.o.x   6.27  576802932   \n",
       "1           NaN        cnd  29.05  412120092   \n",
       "2           NaN     runail   1.19  494077766   \n",
       "3           NaN  freedecor   0.79  348405118   \n",
       "4           NaN        NaN   5.56  576005683   \n",
       "\n",
       "                           user_session  \n",
       "0  51d85cb0-897f-48d2-918b-ad63965c12dc  \n",
       "1  8adff31e-2051-4894-9758-224bfa8aec18  \n",
       "2  c99a50e8-2fac-4c4d-89ec-41c05f114554  \n",
       "3  722ffea5-73c0-4924-8e8f-371ff8031af4  \n",
       "4  28172809-7e4a-45ce-bab0-5efa90117cd5  "
      ]
     },
     "execution_count": 199,
     "metadata": {},
     "output_type": "execute_result"
    }
   ],
   "source": [
    "DATA.head()"
   ]
  },
  {
   "cell_type": "code",
   "execution_count": 200,
   "id": "ed32d577",
   "metadata": {},
   "outputs": [
    {
     "data": {
      "application/vnd.microsoft.datawrangler.viewer.v0+json": {
       "columns": [
        {
         "name": "index",
         "rawType": "int64",
         "type": "integer"
        },
        {
         "name": "event_time",
         "rawType": "object",
         "type": "string"
        },
        {
         "name": "event_type",
         "rawType": "object",
         "type": "string"
        },
        {
         "name": "product_id",
         "rawType": "int64",
         "type": "integer"
        },
        {
         "name": "category_id",
         "rawType": "int64",
         "type": "integer"
        },
        {
         "name": "category_code",
         "rawType": "object",
         "type": "unknown"
        },
        {
         "name": "brand",
         "rawType": "object",
         "type": "unknown"
        },
        {
         "name": "price",
         "rawType": "float64",
         "type": "float"
        },
        {
         "name": "user_id",
         "rawType": "int64",
         "type": "integer"
        },
        {
         "name": "user_session",
         "rawType": "object",
         "type": "string"
        }
       ],
       "conversionMethod": "pd.DataFrame",
       "ref": "9f0f70b4-ecb1-4fa4-aa4f-cb4050f97776",
       "rows": [
        [
         "3533281",
         "2019-12-31 23:59:39 UTC",
         "view",
         "5683350",
         "1487580005671109489",
         null,
         "masura",
         "2.84",
         "536812729",
         "e4a2d47c-a956-4c46-8176-745f52ea664b"
        ],
        [
         "3533282",
         "2019-12-31 23:59:46 UTC",
         "view",
         "5888097",
         "1487580013388628160",
         null,
         "shik",
         "179.05",
         "503658154",
         "2dde9867-9e71-4a64-880d-aa68b66aae6d"
        ],
        [
         "3533283",
         "2019-12-31 23:59:51 UTC",
         "view",
         "59975",
         "1487580012096782476",
         null,
         null,
         "7.14",
         "595414541",
         "4c6d80bb-5dd3-4fbb-b592-187b51db2753"
        ],
        [
         "3533284",
         "2019-12-31 23:59:52 UTC",
         "view",
         "5775982",
         "1783999063314661546",
         null,
         null,
         "11.9",
         "397780878",
         "7e8a2b85-153a-44eb-a71f-b748fde14fcc"
        ],
        [
         "3533285",
         "2019-12-31 23:59:57 UTC",
         "view",
         "5635090",
         "1487580005754995573",
         null,
         null,
         "4.44",
         "420652863",
         "546f6af3-a517-4752-a98b-80c4c5860711"
        ]
       ],
       "shape": {
        "columns": 9,
        "rows": 5
       }
      },
      "text/html": [
       "<div>\n",
       "<style scoped>\n",
       "    .dataframe tbody tr th:only-of-type {\n",
       "        vertical-align: middle;\n",
       "    }\n",
       "\n",
       "    .dataframe tbody tr th {\n",
       "        vertical-align: top;\n",
       "    }\n",
       "\n",
       "    .dataframe thead th {\n",
       "        text-align: right;\n",
       "    }\n",
       "</style>\n",
       "<table border=\"1\" class=\"dataframe\">\n",
       "  <thead>\n",
       "    <tr style=\"text-align: right;\">\n",
       "      <th></th>\n",
       "      <th>event_time</th>\n",
       "      <th>event_type</th>\n",
       "      <th>product_id</th>\n",
       "      <th>category_id</th>\n",
       "      <th>category_code</th>\n",
       "      <th>brand</th>\n",
       "      <th>price</th>\n",
       "      <th>user_id</th>\n",
       "      <th>user_session</th>\n",
       "    </tr>\n",
       "  </thead>\n",
       "  <tbody>\n",
       "    <tr>\n",
       "      <th>3533281</th>\n",
       "      <td>2019-12-31 23:59:39 UTC</td>\n",
       "      <td>view</td>\n",
       "      <td>5683350</td>\n",
       "      <td>1487580005671109489</td>\n",
       "      <td>NaN</td>\n",
       "      <td>masura</td>\n",
       "      <td>2.84</td>\n",
       "      <td>536812729</td>\n",
       "      <td>e4a2d47c-a956-4c46-8176-745f52ea664b</td>\n",
       "    </tr>\n",
       "    <tr>\n",
       "      <th>3533282</th>\n",
       "      <td>2019-12-31 23:59:46 UTC</td>\n",
       "      <td>view</td>\n",
       "      <td>5888097</td>\n",
       "      <td>1487580013388628160</td>\n",
       "      <td>NaN</td>\n",
       "      <td>shik</td>\n",
       "      <td>179.05</td>\n",
       "      <td>503658154</td>\n",
       "      <td>2dde9867-9e71-4a64-880d-aa68b66aae6d</td>\n",
       "    </tr>\n",
       "    <tr>\n",
       "      <th>3533283</th>\n",
       "      <td>2019-12-31 23:59:51 UTC</td>\n",
       "      <td>view</td>\n",
       "      <td>59975</td>\n",
       "      <td>1487580012096782476</td>\n",
       "      <td>NaN</td>\n",
       "      <td>NaN</td>\n",
       "      <td>7.14</td>\n",
       "      <td>595414541</td>\n",
       "      <td>4c6d80bb-5dd3-4fbb-b592-187b51db2753</td>\n",
       "    </tr>\n",
       "    <tr>\n",
       "      <th>3533284</th>\n",
       "      <td>2019-12-31 23:59:52 UTC</td>\n",
       "      <td>view</td>\n",
       "      <td>5775982</td>\n",
       "      <td>1783999063314661546</td>\n",
       "      <td>NaN</td>\n",
       "      <td>NaN</td>\n",
       "      <td>11.90</td>\n",
       "      <td>397780878</td>\n",
       "      <td>7e8a2b85-153a-44eb-a71f-b748fde14fcc</td>\n",
       "    </tr>\n",
       "    <tr>\n",
       "      <th>3533285</th>\n",
       "      <td>2019-12-31 23:59:57 UTC</td>\n",
       "      <td>view</td>\n",
       "      <td>5635090</td>\n",
       "      <td>1487580005754995573</td>\n",
       "      <td>NaN</td>\n",
       "      <td>NaN</td>\n",
       "      <td>4.44</td>\n",
       "      <td>420652863</td>\n",
       "      <td>546f6af3-a517-4752-a98b-80c4c5860711</td>\n",
       "    </tr>\n",
       "  </tbody>\n",
       "</table>\n",
       "</div>"
      ],
      "text/plain": [
       "                      event_time event_type  product_id          category_id  \\\n",
       "3533281  2019-12-31 23:59:39 UTC       view     5683350  1487580005671109489   \n",
       "3533282  2019-12-31 23:59:46 UTC       view     5888097  1487580013388628160   \n",
       "3533283  2019-12-31 23:59:51 UTC       view       59975  1487580012096782476   \n",
       "3533284  2019-12-31 23:59:52 UTC       view     5775982  1783999063314661546   \n",
       "3533285  2019-12-31 23:59:57 UTC       view     5635090  1487580005754995573   \n",
       "\n",
       "        category_code   brand   price    user_id  \\\n",
       "3533281           NaN  masura    2.84  536812729   \n",
       "3533282           NaN    shik  179.05  503658154   \n",
       "3533283           NaN     NaN    7.14  595414541   \n",
       "3533284           NaN     NaN   11.90  397780878   \n",
       "3533285           NaN     NaN    4.44  420652863   \n",
       "\n",
       "                                 user_session  \n",
       "3533281  e4a2d47c-a956-4c46-8176-745f52ea664b  \n",
       "3533282  2dde9867-9e71-4a64-880d-aa68b66aae6d  \n",
       "3533283  4c6d80bb-5dd3-4fbb-b592-187b51db2753  \n",
       "3533284  7e8a2b85-153a-44eb-a71f-b748fde14fcc  \n",
       "3533285  546f6af3-a517-4752-a98b-80c4c5860711  "
      ]
     },
     "execution_count": 200,
     "metadata": {},
     "output_type": "execute_result"
    }
   ],
   "source": [
    "DATA.tail()"
   ]
  },
  {
   "cell_type": "markdown",
   "id": "6a69b289",
   "metadata": {},
   "source": [
    "# **CHECK FOR UNIQUE VALUES**"
   ]
  },
  {
   "cell_type": "code",
   "execution_count": 201,
   "id": "2d44345d",
   "metadata": {},
   "outputs": [
    {
     "name": "stdout",
     "output_type": "stream",
     "text": [
      "event_time 1654771\n",
      "event_type 4\n",
      "product_id 44624\n",
      "category_id 482\n",
      "category_code 10\n",
      "brand 252\n",
      "price 2122\n",
      "user_id 370154\n",
      "user_session 839812\n"
     ]
    }
   ],
   "source": [
    "# CHECK NUMBER OF UNIQUES VALUES IN EACH COLUMN:\n",
    "for column in DATA.columns:\n",
    "    print(f\"{column}\",DATA[column].nunique())\n",
    "    "
   ]
  },
  {
   "cell_type": "code",
   "execution_count": 202,
   "id": "fbc5fcbf",
   "metadata": {},
   "outputs": [
    {
     "data": {
      "text/plain": [
       "array(['remove_from_cart', 'view', 'cart', 'purchase'], dtype=object)"
      ]
     },
     "execution_count": 202,
     "metadata": {},
     "output_type": "execute_result"
    }
   ],
   "source": [
    "# checking for unique values in each column:\n",
    "DATA[\"event_type\"].unique()"
   ]
  },
  {
   "cell_type": "code",
   "execution_count": 203,
   "id": "36d596e0",
   "metadata": {},
   "outputs": [
    {
     "data": {
      "text/plain": [
       "array([nan, 'furniture.bathroom.bath', 'appliances.environment.vacuum',\n",
       "       'stationery.cartrige', 'furniture.living_room.cabinet',\n",
       "       'apparel.glove', 'accessories.bag', 'accessories.cosmetic_bag',\n",
       "       'appliances.personal.hair_cutter', 'furniture.living_room.chair',\n",
       "       'appliances.environment.air_conditioner'], dtype=object)"
      ]
     },
     "execution_count": 203,
     "metadata": {},
     "output_type": "execute_result"
    }
   ],
   "source": [
    "DATA[\"category_code\"].unique()"
   ]
  },
  {
   "cell_type": "markdown",
   "id": "eed3301b",
   "metadata": {},
   "source": [
    "# **DESCRIPTIVE STATISTIC**"
   ]
  },
  {
   "cell_type": "code",
   "execution_count": 204,
   "id": "1c34c909",
   "metadata": {},
   "outputs": [
    {
     "name": "stdout",
     "output_type": "stream",
     "text": [
      "<class 'pandas.core.frame.DataFrame'>\n",
      "RangeIndex: 3533286 entries, 0 to 3533285\n",
      "Data columns (total 9 columns):\n",
      " #   Column         Dtype  \n",
      "---  ------         -----  \n",
      " 0   event_time     object \n",
      " 1   event_type     object \n",
      " 2   product_id     int64  \n",
      " 3   category_id    int64  \n",
      " 4   category_code  object \n",
      " 5   brand          object \n",
      " 6   price          float64\n",
      " 7   user_id        int64  \n",
      " 8   user_session   object \n",
      "dtypes: float64(1), int64(3), object(5)\n",
      "memory usage: 242.6+ MB\n"
     ]
    }
   ],
   "source": [
    "DATA.info()"
   ]
  },
  {
   "cell_type": "markdown",
   "id": "2e0c0fff",
   "metadata": {},
   "source": [
    "# **FOR CHECKING**"
   ]
  },
  {
   "cell_type": "code",
   "execution_count": 205,
   "id": "c929f896",
   "metadata": {},
   "outputs": [
    {
     "data": {
      "text/plain": [
       "True"
      ]
     },
     "execution_count": 205,
     "metadata": {},
     "output_type": "execute_result"
    }
   ],
   "source": [
    "DATA.isna().values.any()"
   ]
  },
  {
   "cell_type": "markdown",
   "id": "8caa9c7c",
   "metadata": {},
   "source": [
    "# **FUNCTIONS**"
   ]
  },
  {
   "cell_type": "code",
   "execution_count": 206,
   "id": "3e4a7232",
   "metadata": {},
   "outputs": [
    {
     "data": {
      "text/plain": [
       "event_time             0\n",
       "event_type             0\n",
       "product_id             0\n",
       "category_id            0\n",
       "category_code    3474821\n",
       "brand            1510289\n",
       "price                  0\n",
       "user_id                0\n",
       "user_session         779\n",
       "dtype: int64"
      ]
     },
     "execution_count": 206,
     "metadata": {},
     "output_type": "execute_result"
    }
   ],
   "source": [
    "DATA.isna().sum()"
   ]
  },
  {
   "cell_type": "markdown",
   "id": "7650e09b",
   "metadata": {},
   "source": [
    "# **PERCENTAGE CALCULATION**"
   ]
  },
  {
   "cell_type": "code",
   "execution_count": 207,
   "id": "530016e0",
   "metadata": {},
   "outputs": [
    {
     "data": {
      "text/plain": [
       "event_time        0.000000\n",
       "event_type        0.000000\n",
       "product_id        0.000000\n",
       "category_id       0.000000\n",
       "category_code    98.345308\n",
       "brand            42.744601\n",
       "price             0.000000\n",
       "user_id           0.000000\n",
       "user_session      0.022047\n",
       "dtype: float64"
      ]
     },
     "execution_count": 207,
     "metadata": {},
     "output_type": "execute_result"
    }
   ],
   "source": [
    "DATA.isna().sum()/len(DATA)*100"
   ]
  },
  {
   "cell_type": "markdown",
   "id": "d79a03b9",
   "metadata": {},
   "source": [
    "# **VISUALISE THE RECORDS WHICH CONTAIN MISSING VALUES**"
   ]
  },
  {
   "cell_type": "code",
   "execution_count": 208,
   "id": "88a70f4d",
   "metadata": {},
   "outputs": [
    {
     "data": {
      "application/vnd.microsoft.datawrangler.viewer.v0+json": {
       "columns": [
        {
         "name": "index",
         "rawType": "int64",
         "type": "integer"
        },
        {
         "name": "event_time",
         "rawType": "object",
         "type": "string"
        },
        {
         "name": "event_type",
         "rawType": "object",
         "type": "string"
        },
        {
         "name": "product_id",
         "rawType": "int64",
         "type": "integer"
        },
        {
         "name": "category_id",
         "rawType": "int64",
         "type": "integer"
        },
        {
         "name": "category_code",
         "rawType": "object",
         "type": "unknown"
        },
        {
         "name": "brand",
         "rawType": "object",
         "type": "unknown"
        },
        {
         "name": "price",
         "rawType": "float64",
         "type": "float"
        },
        {
         "name": "user_id",
         "rawType": "int64",
         "type": "integer"
        },
        {
         "name": "user_session",
         "rawType": "object",
         "type": "unknown"
        }
       ],
       "conversionMethod": "pd.DataFrame",
       "ref": "4914e771-7589-44cc-a8a2-105ba0dceb1f",
       "rows": [
        [
         "0",
         "2019-12-01 00:00:00 UTC",
         "remove_from_cart",
         "5712790",
         "1487580005268456287",
         null,
         "f.o.x",
         "6.27",
         "576802932",
         "51d85cb0-897f-48d2-918b-ad63965c12dc"
        ],
        [
         "1",
         "2019-12-01 00:00:00 UTC",
         "view",
         "5764655",
         "1487580005411062629",
         null,
         "cnd",
         "29.05",
         "412120092",
         "8adff31e-2051-4894-9758-224bfa8aec18"
        ],
        [
         "2",
         "2019-12-01 00:00:02 UTC",
         "cart",
         "4958",
         "1487580009471148064",
         null,
         "runail",
         "1.19",
         "494077766",
         "c99a50e8-2fac-4c4d-89ec-41c05f114554"
        ],
        [
         "3",
         "2019-12-01 00:00:05 UTC",
         "view",
         "5848413",
         "1487580007675986893",
         null,
         "freedecor",
         "0.79",
         "348405118",
         "722ffea5-73c0-4924-8e8f-371ff8031af4"
        ],
        [
         "4",
         "2019-12-01 00:00:07 UTC",
         "view",
         "5824148",
         "1487580005511725929",
         null,
         null,
         "5.56",
         "576005683",
         "28172809-7e4a-45ce-bab0-5efa90117cd5"
        ],
        [
         "5",
         "2019-12-01 00:00:09 UTC",
         "view",
         "5773361",
         "1487580005134238553",
         null,
         "runail",
         "2.62",
         "560109803",
         "38cf4ba1-4a0a-4c9e-b870-46685d105f95"
        ],
        [
         "6",
         "2019-12-01 00:00:18 UTC",
         "cart",
         "5629988",
         "1487580009311764506",
         null,
         null,
         "1.19",
         "579966747",
         "1512be50-d0fd-4a92-bcd8-3ea3943f2a3b"
        ],
        [
         "7",
         "2019-12-01 00:00:22 UTC",
         "view",
         "5807805",
         "1487580005713052531",
         null,
         "ingarden",
         "4.44",
         "576005683",
         "28172809-7e4a-45ce-bab0-5efa90117cd5"
        ],
        [
         "8",
         "2019-12-01 00:00:27 UTC",
         "view",
         "5588608",
         "1487580008145748965",
         null,
         "roubloff",
         "5.4",
         "546170008",
         "676d9fcc-2a4f-4448-b49d-136f2e4208c1"
        ],
        [
         "9",
         "2019-12-01 00:00:34 UTC",
         "cart",
         "5335",
         "1487580009605365797",
         null,
         "runail",
         "0.4",
         "494077766",
         "c99a50e8-2fac-4c4d-89ec-41c05f114554"
        ],
        [
         "10",
         "2019-12-01 00:00:40 UTC",
         "cart",
         "5755170",
         "1487580009387261981",
         null,
         null,
         "2.79",
         "579751441",
         "8de492d7-0937-47ae-be2c-a7615aec2b0d"
        ],
        [
         "11",
         "2019-12-01 00:00:44 UTC",
         "remove_from_cart",
         "5650294",
         "1487580007835370453",
         null,
         "metzger",
         "3.33",
         "576802932",
         "51d85cb0-897f-48d2-918b-ad63965c12dc"
        ],
        [
         "12",
         "2019-12-01 00:00:45 UTC",
         "cart",
         "5755170",
         "1487580009387261981",
         null,
         null,
         "2.79",
         "579751441",
         "8de492d7-0937-47ae-be2c-a7615aec2b0d"
        ],
        [
         "13",
         "2019-12-01 00:00:46 UTC",
         "remove_from_cart",
         "5692261",
         "1487580007835370453",
         null,
         "staleks",
         "6.35",
         "576802932",
         "51d85cb0-897f-48d2-918b-ad63965c12dc"
        ],
        [
         "14",
         "2019-12-01 00:00:46 UTC",
         "view",
         "5798929",
         "1783999068909863670",
         null,
         "zinger",
         "6.19",
         "579966747",
         "1512be50-d0fd-4a92-bcd8-3ea3943f2a3b"
        ],
        [
         "15",
         "2019-12-01 00:00:46 UTC",
         "cart",
         "5755170",
         "1487580009387261981",
         null,
         null,
         "2.79",
         "579751441",
         "8de492d7-0937-47ae-be2c-a7615aec2b0d"
        ],
        [
         "16",
         "2019-12-01 00:00:49 UTC",
         "remove_from_cart",
         "5694628",
         "1487580007835370453",
         null,
         "yoko",
         "3.65",
         "576802932",
         "51d85cb0-897f-48d2-918b-ad63965c12dc"
        ],
        [
         "17",
         "2019-12-01 00:00:50 UTC",
         "view",
         "3936",
         "1487580005343953762",
         null,
         "entity",
         "10.95",
         "579969717",
         "006dd2fb-ae1e-4461-985a-d4e70ca64543"
        ],
        [
         "18",
         "2019-12-01 00:00:52 UTC",
         "cart",
         "5761411",
         "1487580007432717250",
         null,
         "ingarden",
         "2.86",
         "494077766",
         "c99a50e8-2fac-4c4d-89ec-41c05f114554"
        ],
        [
         "19",
         "2019-12-01 00:00:58 UTC",
         "cart",
         "5761411",
         "1487580007432717250",
         null,
         "ingarden",
         "2.86",
         "494077766",
         "c99a50e8-2fac-4c4d-89ec-41c05f114554"
        ],
        [
         "20",
         "2019-12-01 00:00:58 UTC",
         "view",
         "5817779",
         "1487580010872045658",
         null,
         "irisk",
         "0.79",
         "576802932",
         "f7257a5b-5449-4136-aa56-e373f484ffa2"
        ],
        [
         "21",
         "2019-12-01 00:01:01 UTC",
         "view",
         "5832416",
         "1487580009471148064",
         null,
         null,
         "0.95",
         "576802932",
         "01dbbcc3-b26b-4bed-bce4-1b506725a351"
        ],
        [
         "22",
         "2019-12-01 00:01:02 UTC",
         "view",
         "5706778",
         "1487580005268456287",
         null,
         "beautix",
         "14.13",
         "564257889",
         "a4248817-8d0d-4dac-96e6-a586563308de"
        ],
        [
         "23",
         "2019-12-01 00:01:11 UTC",
         "view",
         "5849033",
         "1487580005092295511",
         null,
         "uno",
         "10.32",
         "562651624",
         "f8783526-2382-454b-b417-fa48d371030f"
        ],
        [
         "24",
         "2019-12-01 00:01:15 UTC",
         "cart",
         "5904369",
         "1487580007675986893",
         null,
         null,
         "1.59",
         "348405118",
         "722ffea5-73c0-4924-8e8f-371ff8031af4"
        ],
        [
         "25",
         "2019-12-01 00:01:16 UTC",
         "view",
         "5881896",
         "1487580011903844485",
         null,
         null,
         "3.63",
         "537197314",
         "1fc5bdf5-a94f-4e5f-8283-215b3fed14c1"
        ],
        [
         "26",
         "2019-12-01 00:01:16 UTC",
         "remove_from_cart",
         "5742926",
         "1487580006317032337",
         null,
         "yoko",
         "21.78",
         "576802932",
         "51d85cb0-897f-48d2-918b-ad63965c12dc"
        ],
        [
         "27",
         "2019-12-01 00:01:19 UTC",
         "cart",
         "5600449",
         "1487580008145748965",
         null,
         "roubloff",
         "15.38",
         "546170008",
         "676d9fcc-2a4f-4448-b49d-136f2e4208c1"
        ],
        [
         "28",
         "2019-12-01 00:01:19 UTC",
         "view",
         "5614842",
         "1487580005411062629",
         null,
         "cnd",
         "13.56",
         "412120092",
         "8adff31e-2051-4894-9758-224bfa8aec18"
        ],
        [
         "29",
         "2019-12-01 00:01:22 UTC",
         "cart",
         "5666749",
         "1487580009076883471",
         null,
         "philips",
         "3.43",
         "494077766",
         "c99a50e8-2fac-4c4d-89ec-41c05f114554"
        ],
        [
         "30",
         "2019-12-01 00:01:22 UTC",
         "view",
         "5847872",
         "1487580006317032337",
         null,
         null,
         "7.94",
         "576802932",
         "d3809963-53ce-47fd-88c0-21afda8c90ca"
        ],
        [
         "31",
         "2019-12-01 00:01:34 UTC",
         "remove_from_cart",
         "5847872",
         "1487580006317032337",
         null,
         null,
         "7.94",
         "576802932",
         "51d85cb0-897f-48d2-918b-ad63965c12dc"
        ],
        [
         "32",
         "2019-12-01 00:01:44 UTC",
         "cart",
         "5862564",
         "1487580008145748965",
         null,
         "roubloff",
         "1.71",
         "546170008",
         "676d9fcc-2a4f-4448-b49d-136f2e4208c1"
        ],
        [
         "34",
         "2019-12-01 00:01:50 UTC",
         "view",
         "5795703",
         "1487580005268456287",
         null,
         null,
         "10.95",
         "556579890",
         "1d94a188-7fa5-4c52-a9fc-99abf8b4838f"
        ],
        [
         "35",
         "2019-12-01 00:01:51 UTC",
         "view",
         "5859489",
         "1487580005671109489",
         null,
         "masura",
         "1.73",
         "521863546",
         "50040a3b-8a81-483d-b0e8-8152821701f8"
        ],
        [
         "36",
         "2019-12-01 00:01:52 UTC",
         "cart",
         "5700046",
         "1487580009286598681",
         null,
         "runail",
         "0.4",
         "576802932",
         "51d85cb0-897f-48d2-918b-ad63965c12dc"
        ],
        [
         "37",
         "2019-12-01 00:01:52 UTC",
         "cart",
         "5700046",
         "1487580009286598681",
         null,
         "runail",
         "0.4",
         "576802932",
         "51d85cb0-897f-48d2-918b-ad63965c12dc"
        ],
        [
         "38",
         "2019-12-01 00:01:58 UTC",
         "view",
         "5810157",
         "1487580009445982239",
         null,
         "irisk",
         "1.43",
         "494077766",
         "c99a50e8-2fac-4c4d-89ec-41c05f114554"
        ],
        [
         "39",
         "2019-12-01 00:02:16 UTC",
         "view",
         "5899850",
         "2115334439910245200",
         null,
         null,
         "4.46",
         "538507783",
         "177b9f5a-9ef3-4e11-b31e-6efd86a9bff2"
        ],
        [
         "40",
         "2019-12-01 00:02:16 UTC",
         "cart",
         "5862313",
         "1487580007675986893",
         null,
         "freedecor",
         "0.79",
         "348405118",
         "722ffea5-73c0-4924-8e8f-371ff8031af4"
        ],
        [
         "41",
         "2019-12-01 00:02:18 UTC",
         "remove_from_cart",
         "5772301",
         "1602943681873052386",
         null,
         "grattol",
         "4.76",
         "492321842",
         "d1d89629-a5f8-4aab-b42e-e8c30756396f"
        ],
        [
         "42",
         "2019-12-01 00:02:19 UTC",
         "remove_from_cart",
         "5772301",
         "1602943681873052386",
         null,
         "grattol",
         "4.76",
         "492321842",
         "d1d89629-a5f8-4aab-b42e-e8c30756396f"
        ],
        [
         "43",
         "2019-12-01 00:02:25 UTC",
         "view",
         "5772301",
         "1602943681873052386",
         null,
         "grattol",
         "4.76",
         "492321842",
         "d1d89629-a5f8-4aab-b42e-e8c30756396f"
        ],
        [
         "44",
         "2019-12-01 00:02:32 UTC",
         "view",
         "5817700",
         "1487580010821714008",
         null,
         null,
         "0.71",
         "576802932",
         "7df52373-e255-4889-9d68-e05a7f119cca"
        ],
        [
         "45",
         "2019-12-01 00:02:34 UTC",
         "cart",
         "5798924",
         "1783999068867920626",
         null,
         "zinger",
         "3.97",
         "579966747",
         "1512be50-d0fd-4a92-bcd8-3ea3943f2a3b"
        ],
        [
         "46",
         "2019-12-01 00:02:34 UTC",
         "view",
         "5695827",
         "1487580010821714008",
         null,
         "ingarden",
         "0.79",
         "576802932",
         "3abf05f0-0368-48a2-baa7-62562aed1481"
        ],
        [
         "47",
         "2019-12-01 00:02:36 UTC",
         "view",
         "5590822",
         "1487580006300255120",
         null,
         "strong",
         "194.44",
         "509449396",
         "35baf72e-d65a-422b-8d46-d62a52985877"
        ],
        [
         "48",
         "2019-12-01 00:02:40 UTC",
         "view",
         "5800015",
         "1487580005092295511",
         null,
         null,
         "8.89",
         "555150103",
         "66f40972-7d43-4204-877a-32ee1b1df991"
        ],
        [
         "49",
         "2019-12-01 00:02:40 UTC",
         "view",
         "5849033",
         "1487580005092295511",
         null,
         "uno",
         "10.32",
         "562651624",
         "f8783526-2382-454b-b417-fa48d371030f"
        ],
        [
         "50",
         "2019-12-01 00:02:41 UTC",
         "cart",
         "5810157",
         "1487580009445982239",
         null,
         "irisk",
         "1.43",
         "494077766",
         "c99a50e8-2fac-4c4d-89ec-41c05f114554"
        ]
       ],
       "shape": {
        "columns": 9,
        "rows": 3490093
       }
      },
      "text/html": [
       "<div>\n",
       "<style scoped>\n",
       "    .dataframe tbody tr th:only-of-type {\n",
       "        vertical-align: middle;\n",
       "    }\n",
       "\n",
       "    .dataframe tbody tr th {\n",
       "        vertical-align: top;\n",
       "    }\n",
       "\n",
       "    .dataframe thead th {\n",
       "        text-align: right;\n",
       "    }\n",
       "</style>\n",
       "<table border=\"1\" class=\"dataframe\">\n",
       "  <thead>\n",
       "    <tr style=\"text-align: right;\">\n",
       "      <th></th>\n",
       "      <th>event_time</th>\n",
       "      <th>event_type</th>\n",
       "      <th>product_id</th>\n",
       "      <th>category_id</th>\n",
       "      <th>category_code</th>\n",
       "      <th>brand</th>\n",
       "      <th>price</th>\n",
       "      <th>user_id</th>\n",
       "      <th>user_session</th>\n",
       "    </tr>\n",
       "  </thead>\n",
       "  <tbody>\n",
       "    <tr>\n",
       "      <th>0</th>\n",
       "      <td>2019-12-01 00:00:00 UTC</td>\n",
       "      <td>remove_from_cart</td>\n",
       "      <td>5712790</td>\n",
       "      <td>1487580005268456287</td>\n",
       "      <td>NaN</td>\n",
       "      <td>f.o.x</td>\n",
       "      <td>6.27</td>\n",
       "      <td>576802932</td>\n",
       "      <td>51d85cb0-897f-48d2-918b-ad63965c12dc</td>\n",
       "    </tr>\n",
       "    <tr>\n",
       "      <th>1</th>\n",
       "      <td>2019-12-01 00:00:00 UTC</td>\n",
       "      <td>view</td>\n",
       "      <td>5764655</td>\n",
       "      <td>1487580005411062629</td>\n",
       "      <td>NaN</td>\n",
       "      <td>cnd</td>\n",
       "      <td>29.05</td>\n",
       "      <td>412120092</td>\n",
       "      <td>8adff31e-2051-4894-9758-224bfa8aec18</td>\n",
       "    </tr>\n",
       "    <tr>\n",
       "      <th>2</th>\n",
       "      <td>2019-12-01 00:00:02 UTC</td>\n",
       "      <td>cart</td>\n",
       "      <td>4958</td>\n",
       "      <td>1487580009471148064</td>\n",
       "      <td>NaN</td>\n",
       "      <td>runail</td>\n",
       "      <td>1.19</td>\n",
       "      <td>494077766</td>\n",
       "      <td>c99a50e8-2fac-4c4d-89ec-41c05f114554</td>\n",
       "    </tr>\n",
       "    <tr>\n",
       "      <th>3</th>\n",
       "      <td>2019-12-01 00:00:05 UTC</td>\n",
       "      <td>view</td>\n",
       "      <td>5848413</td>\n",
       "      <td>1487580007675986893</td>\n",
       "      <td>NaN</td>\n",
       "      <td>freedecor</td>\n",
       "      <td>0.79</td>\n",
       "      <td>348405118</td>\n",
       "      <td>722ffea5-73c0-4924-8e8f-371ff8031af4</td>\n",
       "    </tr>\n",
       "    <tr>\n",
       "      <th>4</th>\n",
       "      <td>2019-12-01 00:00:07 UTC</td>\n",
       "      <td>view</td>\n",
       "      <td>5824148</td>\n",
       "      <td>1487580005511725929</td>\n",
       "      <td>NaN</td>\n",
       "      <td>NaN</td>\n",
       "      <td>5.56</td>\n",
       "      <td>576005683</td>\n",
       "      <td>28172809-7e4a-45ce-bab0-5efa90117cd5</td>\n",
       "    </tr>\n",
       "    <tr>\n",
       "      <th>...</th>\n",
       "      <td>...</td>\n",
       "      <td>...</td>\n",
       "      <td>...</td>\n",
       "      <td>...</td>\n",
       "      <td>...</td>\n",
       "      <td>...</td>\n",
       "      <td>...</td>\n",
       "      <td>...</td>\n",
       "      <td>...</td>\n",
       "    </tr>\n",
       "    <tr>\n",
       "      <th>3533281</th>\n",
       "      <td>2019-12-31 23:59:39 UTC</td>\n",
       "      <td>view</td>\n",
       "      <td>5683350</td>\n",
       "      <td>1487580005671109489</td>\n",
       "      <td>NaN</td>\n",
       "      <td>masura</td>\n",
       "      <td>2.84</td>\n",
       "      <td>536812729</td>\n",
       "      <td>e4a2d47c-a956-4c46-8176-745f52ea664b</td>\n",
       "    </tr>\n",
       "    <tr>\n",
       "      <th>3533282</th>\n",
       "      <td>2019-12-31 23:59:46 UTC</td>\n",
       "      <td>view</td>\n",
       "      <td>5888097</td>\n",
       "      <td>1487580013388628160</td>\n",
       "      <td>NaN</td>\n",
       "      <td>shik</td>\n",
       "      <td>179.05</td>\n",
       "      <td>503658154</td>\n",
       "      <td>2dde9867-9e71-4a64-880d-aa68b66aae6d</td>\n",
       "    </tr>\n",
       "    <tr>\n",
       "      <th>3533283</th>\n",
       "      <td>2019-12-31 23:59:51 UTC</td>\n",
       "      <td>view</td>\n",
       "      <td>59975</td>\n",
       "      <td>1487580012096782476</td>\n",
       "      <td>NaN</td>\n",
       "      <td>NaN</td>\n",
       "      <td>7.14</td>\n",
       "      <td>595414541</td>\n",
       "      <td>4c6d80bb-5dd3-4fbb-b592-187b51db2753</td>\n",
       "    </tr>\n",
       "    <tr>\n",
       "      <th>3533284</th>\n",
       "      <td>2019-12-31 23:59:52 UTC</td>\n",
       "      <td>view</td>\n",
       "      <td>5775982</td>\n",
       "      <td>1783999063314661546</td>\n",
       "      <td>NaN</td>\n",
       "      <td>NaN</td>\n",
       "      <td>11.90</td>\n",
       "      <td>397780878</td>\n",
       "      <td>7e8a2b85-153a-44eb-a71f-b748fde14fcc</td>\n",
       "    </tr>\n",
       "    <tr>\n",
       "      <th>3533285</th>\n",
       "      <td>2019-12-31 23:59:57 UTC</td>\n",
       "      <td>view</td>\n",
       "      <td>5635090</td>\n",
       "      <td>1487580005754995573</td>\n",
       "      <td>NaN</td>\n",
       "      <td>NaN</td>\n",
       "      <td>4.44</td>\n",
       "      <td>420652863</td>\n",
       "      <td>546f6af3-a517-4752-a98b-80c4c5860711</td>\n",
       "    </tr>\n",
       "  </tbody>\n",
       "</table>\n",
       "<p>3490093 rows × 9 columns</p>\n",
       "</div>"
      ],
      "text/plain": [
       "                      event_time        event_type  product_id  \\\n",
       "0        2019-12-01 00:00:00 UTC  remove_from_cart     5712790   \n",
       "1        2019-12-01 00:00:00 UTC              view     5764655   \n",
       "2        2019-12-01 00:00:02 UTC              cart        4958   \n",
       "3        2019-12-01 00:00:05 UTC              view     5848413   \n",
       "4        2019-12-01 00:00:07 UTC              view     5824148   \n",
       "...                          ...               ...         ...   \n",
       "3533281  2019-12-31 23:59:39 UTC              view     5683350   \n",
       "3533282  2019-12-31 23:59:46 UTC              view     5888097   \n",
       "3533283  2019-12-31 23:59:51 UTC              view       59975   \n",
       "3533284  2019-12-31 23:59:52 UTC              view     5775982   \n",
       "3533285  2019-12-31 23:59:57 UTC              view     5635090   \n",
       "\n",
       "                 category_id category_code      brand   price    user_id  \\\n",
       "0        1487580005268456287           NaN      f.o.x    6.27  576802932   \n",
       "1        1487580005411062629           NaN        cnd   29.05  412120092   \n",
       "2        1487580009471148064           NaN     runail    1.19  494077766   \n",
       "3        1487580007675986893           NaN  freedecor    0.79  348405118   \n",
       "4        1487580005511725929           NaN        NaN    5.56  576005683   \n",
       "...                      ...           ...        ...     ...        ...   \n",
       "3533281  1487580005671109489           NaN     masura    2.84  536812729   \n",
       "3533282  1487580013388628160           NaN       shik  179.05  503658154   \n",
       "3533283  1487580012096782476           NaN        NaN    7.14  595414541   \n",
       "3533284  1783999063314661546           NaN        NaN   11.90  397780878   \n",
       "3533285  1487580005754995573           NaN        NaN    4.44  420652863   \n",
       "\n",
       "                                 user_session  \n",
       "0        51d85cb0-897f-48d2-918b-ad63965c12dc  \n",
       "1        8adff31e-2051-4894-9758-224bfa8aec18  \n",
       "2        c99a50e8-2fac-4c4d-89ec-41c05f114554  \n",
       "3        722ffea5-73c0-4924-8e8f-371ff8031af4  \n",
       "4        28172809-7e4a-45ce-bab0-5efa90117cd5  \n",
       "...                                       ...  \n",
       "3533281  e4a2d47c-a956-4c46-8176-745f52ea664b  \n",
       "3533282  2dde9867-9e71-4a64-880d-aa68b66aae6d  \n",
       "3533283  4c6d80bb-5dd3-4fbb-b592-187b51db2753  \n",
       "3533284  7e8a2b85-153a-44eb-a71f-b748fde14fcc  \n",
       "3533285  546f6af3-a517-4752-a98b-80c4c5860711  \n",
       "\n",
       "[3490093 rows x 9 columns]"
      ]
     },
     "execution_count": 208,
     "metadata": {},
     "output_type": "execute_result"
    }
   ],
   "source": [
    "DATA[DATA.isna().any(axis=1)]"
   ]
  },
  {
   "cell_type": "markdown",
   "id": "ff492531",
   "metadata": {},
   "source": [
    "# **🔨TREATMENT OF NULL VALUES**"
   ]
  },
  {
   "cell_type": "markdown",
   "id": "33b7bdb9",
   "metadata": {},
   "source": [
    "## **🧑‍🏭IMPUTING MISSING DATA**"
   ]
  },
  {
   "cell_type": "markdown",
   "id": "9434c6c3",
   "metadata": {},
   "source": [
    "\n",
    "---\n",
    "\n",
    "### 🔍 Handling Moderate Missing Data (5% to 50%)\n",
    "\n",
    "#### 📊 For **Numerical Columns**:\n",
    "- 🚨 **Outliers Present?** → Fill with **Median**  \n",
    "- ✅ **No Outliers?** → Fill with **Mean**\n",
    "\n",
    "#### 🏷️ For **Categorical Columns**:\n",
    "- 🎯 Always fill with **Mode**\n",
    "\n",
    "#### 🧠 When **Missing = Meaningful**:\n",
    "- 📌 Use a **Constant Value** (like \"Unknown\", -999,0 etc.)\n",
    "\n",
    "---"
   ]
  },
  {
   "cell_type": "markdown",
   "id": "fba1b4dd",
   "metadata": {},
   "source": [
    "HERE THE MISSING VALUES ARE PRESENT IN \n",
    "\n",
    "| Column         | Missing Percentage | COLUMN DATA TYPE |\n",
    "|----------------|--------------------|------------------|\n",
    "| category_code  | 98.345308%          | object          |\n",
    "| brand          | 42.744601%          | object          |\n",
    "| user_session   | 0.022047%           | object          |\n"
   ]
  },
  {
   "cell_type": "code",
   "execution_count": 209,
   "id": "7fc6b8d1",
   "metadata": {},
   "outputs": [
    {
     "data": {
      "application/vnd.microsoft.datawrangler.viewer.v0+json": {
       "columns": [
        {
         "name": "index",
         "rawType": "int64",
         "type": "integer"
        },
        {
         "name": "event_time",
         "rawType": "object",
         "type": "string"
        },
        {
         "name": "event_type",
         "rawType": "object",
         "type": "string"
        },
        {
         "name": "product_id",
         "rawType": "int64",
         "type": "integer"
        },
        {
         "name": "category_id",
         "rawType": "int64",
         "type": "integer"
        },
        {
         "name": "category_code",
         "rawType": "object",
         "type": "unknown"
        },
        {
         "name": "brand",
         "rawType": "object",
         "type": "unknown"
        },
        {
         "name": "price",
         "rawType": "float64",
         "type": "float"
        },
        {
         "name": "user_id",
         "rawType": "int64",
         "type": "integer"
        },
        {
         "name": "user_session",
         "rawType": "object",
         "type": "unknown"
        }
       ],
       "conversionMethod": "pd.DataFrame",
       "ref": "79f23f81-3637-4ed9-b7c0-8a7e9da50f33",
       "rows": [
        [
         "0",
         "2019-12-01 00:00:00 UTC",
         "remove_from_cart",
         "5712790",
         "1487580005268456287",
         null,
         "f.o.x",
         "6.27",
         "576802932",
         "51d85cb0-897f-48d2-918b-ad63965c12dc"
        ],
        [
         "1",
         "2019-12-01 00:00:00 UTC",
         "view",
         "5764655",
         "1487580005411062629",
         null,
         "cnd",
         "29.05",
         "412120092",
         "8adff31e-2051-4894-9758-224bfa8aec18"
        ],
        [
         "2",
         "2019-12-01 00:00:02 UTC",
         "cart",
         "4958",
         "1487580009471148064",
         null,
         "runail",
         "1.19",
         "494077766",
         "c99a50e8-2fac-4c4d-89ec-41c05f114554"
        ],
        [
         "3",
         "2019-12-01 00:00:05 UTC",
         "view",
         "5848413",
         "1487580007675986893",
         null,
         "freedecor",
         "0.79",
         "348405118",
         "722ffea5-73c0-4924-8e8f-371ff8031af4"
        ],
        [
         "4",
         "2019-12-01 00:00:07 UTC",
         "view",
         "5824148",
         "1487580005511725929",
         null,
         null,
         "5.56",
         "576005683",
         "28172809-7e4a-45ce-bab0-5efa90117cd5"
        ],
        [
         "5",
         "2019-12-01 00:00:09 UTC",
         "view",
         "5773361",
         "1487580005134238553",
         null,
         "runail",
         "2.62",
         "560109803",
         "38cf4ba1-4a0a-4c9e-b870-46685d105f95"
        ],
        [
         "6",
         "2019-12-01 00:00:18 UTC",
         "cart",
         "5629988",
         "1487580009311764506",
         null,
         null,
         "1.19",
         "579966747",
         "1512be50-d0fd-4a92-bcd8-3ea3943f2a3b"
        ],
        [
         "7",
         "2019-12-01 00:00:22 UTC",
         "view",
         "5807805",
         "1487580005713052531",
         null,
         "ingarden",
         "4.44",
         "576005683",
         "28172809-7e4a-45ce-bab0-5efa90117cd5"
        ],
        [
         "8",
         "2019-12-01 00:00:27 UTC",
         "view",
         "5588608",
         "1487580008145748965",
         null,
         "roubloff",
         "5.4",
         "546170008",
         "676d9fcc-2a4f-4448-b49d-136f2e4208c1"
        ],
        [
         "9",
         "2019-12-01 00:00:34 UTC",
         "cart",
         "5335",
         "1487580009605365797",
         null,
         "runail",
         "0.4",
         "494077766",
         "c99a50e8-2fac-4c4d-89ec-41c05f114554"
        ],
        [
         "10",
         "2019-12-01 00:00:40 UTC",
         "cart",
         "5755170",
         "1487580009387261981",
         null,
         null,
         "2.79",
         "579751441",
         "8de492d7-0937-47ae-be2c-a7615aec2b0d"
        ],
        [
         "11",
         "2019-12-01 00:00:44 UTC",
         "remove_from_cart",
         "5650294",
         "1487580007835370453",
         null,
         "metzger",
         "3.33",
         "576802932",
         "51d85cb0-897f-48d2-918b-ad63965c12dc"
        ],
        [
         "12",
         "2019-12-01 00:00:45 UTC",
         "cart",
         "5755170",
         "1487580009387261981",
         null,
         null,
         "2.79",
         "579751441",
         "8de492d7-0937-47ae-be2c-a7615aec2b0d"
        ],
        [
         "13",
         "2019-12-01 00:00:46 UTC",
         "remove_from_cart",
         "5692261",
         "1487580007835370453",
         null,
         "staleks",
         "6.35",
         "576802932",
         "51d85cb0-897f-48d2-918b-ad63965c12dc"
        ],
        [
         "14",
         "2019-12-01 00:00:46 UTC",
         "view",
         "5798929",
         "1783999068909863670",
         null,
         "zinger",
         "6.19",
         "579966747",
         "1512be50-d0fd-4a92-bcd8-3ea3943f2a3b"
        ],
        [
         "15",
         "2019-12-01 00:00:46 UTC",
         "cart",
         "5755170",
         "1487580009387261981",
         null,
         null,
         "2.79",
         "579751441",
         "8de492d7-0937-47ae-be2c-a7615aec2b0d"
        ],
        [
         "16",
         "2019-12-01 00:00:49 UTC",
         "remove_from_cart",
         "5694628",
         "1487580007835370453",
         null,
         "yoko",
         "3.65",
         "576802932",
         "51d85cb0-897f-48d2-918b-ad63965c12dc"
        ],
        [
         "17",
         "2019-12-01 00:00:50 UTC",
         "view",
         "3936",
         "1487580005343953762",
         null,
         "entity",
         "10.95",
         "579969717",
         "006dd2fb-ae1e-4461-985a-d4e70ca64543"
        ],
        [
         "18",
         "2019-12-01 00:00:52 UTC",
         "cart",
         "5761411",
         "1487580007432717250",
         null,
         "ingarden",
         "2.86",
         "494077766",
         "c99a50e8-2fac-4c4d-89ec-41c05f114554"
        ],
        [
         "19",
         "2019-12-01 00:00:58 UTC",
         "cart",
         "5761411",
         "1487580007432717250",
         null,
         "ingarden",
         "2.86",
         "494077766",
         "c99a50e8-2fac-4c4d-89ec-41c05f114554"
        ],
        [
         "20",
         "2019-12-01 00:00:58 UTC",
         "view",
         "5817779",
         "1487580010872045658",
         null,
         "irisk",
         "0.79",
         "576802932",
         "f7257a5b-5449-4136-aa56-e373f484ffa2"
        ],
        [
         "21",
         "2019-12-01 00:01:01 UTC",
         "view",
         "5832416",
         "1487580009471148064",
         null,
         null,
         "0.95",
         "576802932",
         "01dbbcc3-b26b-4bed-bce4-1b506725a351"
        ],
        [
         "22",
         "2019-12-01 00:01:02 UTC",
         "view",
         "5706778",
         "1487580005268456287",
         null,
         "beautix",
         "14.13",
         "564257889",
         "a4248817-8d0d-4dac-96e6-a586563308de"
        ],
        [
         "23",
         "2019-12-01 00:01:11 UTC",
         "view",
         "5849033",
         "1487580005092295511",
         null,
         "uno",
         "10.32",
         "562651624",
         "f8783526-2382-454b-b417-fa48d371030f"
        ],
        [
         "24",
         "2019-12-01 00:01:15 UTC",
         "cart",
         "5904369",
         "1487580007675986893",
         null,
         null,
         "1.59",
         "348405118",
         "722ffea5-73c0-4924-8e8f-371ff8031af4"
        ],
        [
         "25",
         "2019-12-01 00:01:16 UTC",
         "view",
         "5881896",
         "1487580011903844485",
         null,
         null,
         "3.63",
         "537197314",
         "1fc5bdf5-a94f-4e5f-8283-215b3fed14c1"
        ],
        [
         "26",
         "2019-12-01 00:01:16 UTC",
         "remove_from_cart",
         "5742926",
         "1487580006317032337",
         null,
         "yoko",
         "21.78",
         "576802932",
         "51d85cb0-897f-48d2-918b-ad63965c12dc"
        ],
        [
         "27",
         "2019-12-01 00:01:19 UTC",
         "cart",
         "5600449",
         "1487580008145748965",
         null,
         "roubloff",
         "15.38",
         "546170008",
         "676d9fcc-2a4f-4448-b49d-136f2e4208c1"
        ],
        [
         "28",
         "2019-12-01 00:01:19 UTC",
         "view",
         "5614842",
         "1487580005411062629",
         null,
         "cnd",
         "13.56",
         "412120092",
         "8adff31e-2051-4894-9758-224bfa8aec18"
        ],
        [
         "29",
         "2019-12-01 00:01:22 UTC",
         "cart",
         "5666749",
         "1487580009076883471",
         null,
         "philips",
         "3.43",
         "494077766",
         "c99a50e8-2fac-4c4d-89ec-41c05f114554"
        ],
        [
         "30",
         "2019-12-01 00:01:22 UTC",
         "view",
         "5847872",
         "1487580006317032337",
         null,
         null,
         "7.94",
         "576802932",
         "d3809963-53ce-47fd-88c0-21afda8c90ca"
        ],
        [
         "31",
         "2019-12-01 00:01:34 UTC",
         "remove_from_cart",
         "5847872",
         "1487580006317032337",
         null,
         null,
         "7.94",
         "576802932",
         "51d85cb0-897f-48d2-918b-ad63965c12dc"
        ],
        [
         "32",
         "2019-12-01 00:01:44 UTC",
         "cart",
         "5862564",
         "1487580008145748965",
         null,
         "roubloff",
         "1.71",
         "546170008",
         "676d9fcc-2a4f-4448-b49d-136f2e4208c1"
        ],
        [
         "33",
         "2019-12-01 00:01:47 UTC",
         "view",
         "5732026",
         "1487580011970953351",
         "furniture.bathroom.bath",
         "domix",
         "4.16",
         "509445281",
         "91e9d610-759a-4831-b89a-22f2ab5fbc0f"
        ],
        [
         "34",
         "2019-12-01 00:01:50 UTC",
         "view",
         "5795703",
         "1487580005268456287",
         null,
         null,
         "10.95",
         "556579890",
         "1d94a188-7fa5-4c52-a9fc-99abf8b4838f"
        ],
        [
         "35",
         "2019-12-01 00:01:51 UTC",
         "view",
         "5859489",
         "1487580005671109489",
         null,
         "masura",
         "1.73",
         "521863546",
         "50040a3b-8a81-483d-b0e8-8152821701f8"
        ],
        [
         "36",
         "2019-12-01 00:01:52 UTC",
         "cart",
         "5700046",
         "1487580009286598681",
         null,
         "runail",
         "0.4",
         "576802932",
         "51d85cb0-897f-48d2-918b-ad63965c12dc"
        ],
        [
         "37",
         "2019-12-01 00:01:52 UTC",
         "cart",
         "5700046",
         "1487580009286598681",
         null,
         "runail",
         "0.4",
         "576802932",
         "51d85cb0-897f-48d2-918b-ad63965c12dc"
        ],
        [
         "38",
         "2019-12-01 00:01:58 UTC",
         "view",
         "5810157",
         "1487580009445982239",
         null,
         "irisk",
         "1.43",
         "494077766",
         "c99a50e8-2fac-4c4d-89ec-41c05f114554"
        ],
        [
         "39",
         "2019-12-01 00:02:16 UTC",
         "view",
         "5899850",
         "2115334439910245200",
         null,
         null,
         "4.46",
         "538507783",
         "177b9f5a-9ef3-4e11-b31e-6efd86a9bff2"
        ],
        [
         "40",
         "2019-12-01 00:02:16 UTC",
         "cart",
         "5862313",
         "1487580007675986893",
         null,
         "freedecor",
         "0.79",
         "348405118",
         "722ffea5-73c0-4924-8e8f-371ff8031af4"
        ],
        [
         "41",
         "2019-12-01 00:02:18 UTC",
         "remove_from_cart",
         "5772301",
         "1602943681873052386",
         null,
         "grattol",
         "4.76",
         "492321842",
         "d1d89629-a5f8-4aab-b42e-e8c30756396f"
        ],
        [
         "42",
         "2019-12-01 00:02:19 UTC",
         "remove_from_cart",
         "5772301",
         "1602943681873052386",
         null,
         "grattol",
         "4.76",
         "492321842",
         "d1d89629-a5f8-4aab-b42e-e8c30756396f"
        ],
        [
         "43",
         "2019-12-01 00:02:25 UTC",
         "view",
         "5772301",
         "1602943681873052386",
         null,
         "grattol",
         "4.76",
         "492321842",
         "d1d89629-a5f8-4aab-b42e-e8c30756396f"
        ],
        [
         "44",
         "2019-12-01 00:02:32 UTC",
         "view",
         "5817700",
         "1487580010821714008",
         null,
         null,
         "0.71",
         "576802932",
         "7df52373-e255-4889-9d68-e05a7f119cca"
        ],
        [
         "45",
         "2019-12-01 00:02:34 UTC",
         "cart",
         "5798924",
         "1783999068867920626",
         null,
         "zinger",
         "3.97",
         "579966747",
         "1512be50-d0fd-4a92-bcd8-3ea3943f2a3b"
        ],
        [
         "46",
         "2019-12-01 00:02:34 UTC",
         "view",
         "5695827",
         "1487580010821714008",
         null,
         "ingarden",
         "0.79",
         "576802932",
         "3abf05f0-0368-48a2-baa7-62562aed1481"
        ],
        [
         "47",
         "2019-12-01 00:02:36 UTC",
         "view",
         "5590822",
         "1487580006300255120",
         null,
         "strong",
         "194.44",
         "509449396",
         "35baf72e-d65a-422b-8d46-d62a52985877"
        ],
        [
         "48",
         "2019-12-01 00:02:40 UTC",
         "view",
         "5800015",
         "1487580005092295511",
         null,
         null,
         "8.89",
         "555150103",
         "66f40972-7d43-4204-877a-32ee1b1df991"
        ],
        [
         "49",
         "2019-12-01 00:02:40 UTC",
         "view",
         "5849033",
         "1487580005092295511",
         null,
         "uno",
         "10.32",
         "562651624",
         "f8783526-2382-454b-b417-fa48d371030f"
        ]
       ],
       "shape": {
        "columns": 9,
        "rows": 3533286
       }
      },
      "text/html": [
       "<div>\n",
       "<style scoped>\n",
       "    .dataframe tbody tr th:only-of-type {\n",
       "        vertical-align: middle;\n",
       "    }\n",
       "\n",
       "    .dataframe tbody tr th {\n",
       "        vertical-align: top;\n",
       "    }\n",
       "\n",
       "    .dataframe thead th {\n",
       "        text-align: right;\n",
       "    }\n",
       "</style>\n",
       "<table border=\"1\" class=\"dataframe\">\n",
       "  <thead>\n",
       "    <tr style=\"text-align: right;\">\n",
       "      <th></th>\n",
       "      <th>event_time</th>\n",
       "      <th>event_type</th>\n",
       "      <th>product_id</th>\n",
       "      <th>category_id</th>\n",
       "      <th>category_code</th>\n",
       "      <th>brand</th>\n",
       "      <th>price</th>\n",
       "      <th>user_id</th>\n",
       "      <th>user_session</th>\n",
       "    </tr>\n",
       "  </thead>\n",
       "  <tbody>\n",
       "    <tr>\n",
       "      <th>0</th>\n",
       "      <td>2019-12-01 00:00:00 UTC</td>\n",
       "      <td>remove_from_cart</td>\n",
       "      <td>5712790</td>\n",
       "      <td>1487580005268456287</td>\n",
       "      <td>NaN</td>\n",
       "      <td>f.o.x</td>\n",
       "      <td>6.27</td>\n",
       "      <td>576802932</td>\n",
       "      <td>51d85cb0-897f-48d2-918b-ad63965c12dc</td>\n",
       "    </tr>\n",
       "    <tr>\n",
       "      <th>1</th>\n",
       "      <td>2019-12-01 00:00:00 UTC</td>\n",
       "      <td>view</td>\n",
       "      <td>5764655</td>\n",
       "      <td>1487580005411062629</td>\n",
       "      <td>NaN</td>\n",
       "      <td>cnd</td>\n",
       "      <td>29.05</td>\n",
       "      <td>412120092</td>\n",
       "      <td>8adff31e-2051-4894-9758-224bfa8aec18</td>\n",
       "    </tr>\n",
       "    <tr>\n",
       "      <th>2</th>\n",
       "      <td>2019-12-01 00:00:02 UTC</td>\n",
       "      <td>cart</td>\n",
       "      <td>4958</td>\n",
       "      <td>1487580009471148064</td>\n",
       "      <td>NaN</td>\n",
       "      <td>runail</td>\n",
       "      <td>1.19</td>\n",
       "      <td>494077766</td>\n",
       "      <td>c99a50e8-2fac-4c4d-89ec-41c05f114554</td>\n",
       "    </tr>\n",
       "    <tr>\n",
       "      <th>3</th>\n",
       "      <td>2019-12-01 00:00:05 UTC</td>\n",
       "      <td>view</td>\n",
       "      <td>5848413</td>\n",
       "      <td>1487580007675986893</td>\n",
       "      <td>NaN</td>\n",
       "      <td>freedecor</td>\n",
       "      <td>0.79</td>\n",
       "      <td>348405118</td>\n",
       "      <td>722ffea5-73c0-4924-8e8f-371ff8031af4</td>\n",
       "    </tr>\n",
       "    <tr>\n",
       "      <th>4</th>\n",
       "      <td>2019-12-01 00:00:07 UTC</td>\n",
       "      <td>view</td>\n",
       "      <td>5824148</td>\n",
       "      <td>1487580005511725929</td>\n",
       "      <td>NaN</td>\n",
       "      <td>NaN</td>\n",
       "      <td>5.56</td>\n",
       "      <td>576005683</td>\n",
       "      <td>28172809-7e4a-45ce-bab0-5efa90117cd5</td>\n",
       "    </tr>\n",
       "    <tr>\n",
       "      <th>...</th>\n",
       "      <td>...</td>\n",
       "      <td>...</td>\n",
       "      <td>...</td>\n",
       "      <td>...</td>\n",
       "      <td>...</td>\n",
       "      <td>...</td>\n",
       "      <td>...</td>\n",
       "      <td>...</td>\n",
       "      <td>...</td>\n",
       "    </tr>\n",
       "    <tr>\n",
       "      <th>3533281</th>\n",
       "      <td>2019-12-31 23:59:39 UTC</td>\n",
       "      <td>view</td>\n",
       "      <td>5683350</td>\n",
       "      <td>1487580005671109489</td>\n",
       "      <td>NaN</td>\n",
       "      <td>masura</td>\n",
       "      <td>2.84</td>\n",
       "      <td>536812729</td>\n",
       "      <td>e4a2d47c-a956-4c46-8176-745f52ea664b</td>\n",
       "    </tr>\n",
       "    <tr>\n",
       "      <th>3533282</th>\n",
       "      <td>2019-12-31 23:59:46 UTC</td>\n",
       "      <td>view</td>\n",
       "      <td>5888097</td>\n",
       "      <td>1487580013388628160</td>\n",
       "      <td>NaN</td>\n",
       "      <td>shik</td>\n",
       "      <td>179.05</td>\n",
       "      <td>503658154</td>\n",
       "      <td>2dde9867-9e71-4a64-880d-aa68b66aae6d</td>\n",
       "    </tr>\n",
       "    <tr>\n",
       "      <th>3533283</th>\n",
       "      <td>2019-12-31 23:59:51 UTC</td>\n",
       "      <td>view</td>\n",
       "      <td>59975</td>\n",
       "      <td>1487580012096782476</td>\n",
       "      <td>NaN</td>\n",
       "      <td>NaN</td>\n",
       "      <td>7.14</td>\n",
       "      <td>595414541</td>\n",
       "      <td>4c6d80bb-5dd3-4fbb-b592-187b51db2753</td>\n",
       "    </tr>\n",
       "    <tr>\n",
       "      <th>3533284</th>\n",
       "      <td>2019-12-31 23:59:52 UTC</td>\n",
       "      <td>view</td>\n",
       "      <td>5775982</td>\n",
       "      <td>1783999063314661546</td>\n",
       "      <td>NaN</td>\n",
       "      <td>NaN</td>\n",
       "      <td>11.90</td>\n",
       "      <td>397780878</td>\n",
       "      <td>7e8a2b85-153a-44eb-a71f-b748fde14fcc</td>\n",
       "    </tr>\n",
       "    <tr>\n",
       "      <th>3533285</th>\n",
       "      <td>2019-12-31 23:59:57 UTC</td>\n",
       "      <td>view</td>\n",
       "      <td>5635090</td>\n",
       "      <td>1487580005754995573</td>\n",
       "      <td>NaN</td>\n",
       "      <td>NaN</td>\n",
       "      <td>4.44</td>\n",
       "      <td>420652863</td>\n",
       "      <td>546f6af3-a517-4752-a98b-80c4c5860711</td>\n",
       "    </tr>\n",
       "  </tbody>\n",
       "</table>\n",
       "<p>3533286 rows × 9 columns</p>\n",
       "</div>"
      ],
      "text/plain": [
       "                      event_time        event_type  product_id  \\\n",
       "0        2019-12-01 00:00:00 UTC  remove_from_cart     5712790   \n",
       "1        2019-12-01 00:00:00 UTC              view     5764655   \n",
       "2        2019-12-01 00:00:02 UTC              cart        4958   \n",
       "3        2019-12-01 00:00:05 UTC              view     5848413   \n",
       "4        2019-12-01 00:00:07 UTC              view     5824148   \n",
       "...                          ...               ...         ...   \n",
       "3533281  2019-12-31 23:59:39 UTC              view     5683350   \n",
       "3533282  2019-12-31 23:59:46 UTC              view     5888097   \n",
       "3533283  2019-12-31 23:59:51 UTC              view       59975   \n",
       "3533284  2019-12-31 23:59:52 UTC              view     5775982   \n",
       "3533285  2019-12-31 23:59:57 UTC              view     5635090   \n",
       "\n",
       "                 category_id category_code      brand   price    user_id  \\\n",
       "0        1487580005268456287           NaN      f.o.x    6.27  576802932   \n",
       "1        1487580005411062629           NaN        cnd   29.05  412120092   \n",
       "2        1487580009471148064           NaN     runail    1.19  494077766   \n",
       "3        1487580007675986893           NaN  freedecor    0.79  348405118   \n",
       "4        1487580005511725929           NaN        NaN    5.56  576005683   \n",
       "...                      ...           ...        ...     ...        ...   \n",
       "3533281  1487580005671109489           NaN     masura    2.84  536812729   \n",
       "3533282  1487580013388628160           NaN       shik  179.05  503658154   \n",
       "3533283  1487580012096782476           NaN        NaN    7.14  595414541   \n",
       "3533284  1783999063314661546           NaN        NaN   11.90  397780878   \n",
       "3533285  1487580005754995573           NaN        NaN    4.44  420652863   \n",
       "\n",
       "                                 user_session  \n",
       "0        51d85cb0-897f-48d2-918b-ad63965c12dc  \n",
       "1        8adff31e-2051-4894-9758-224bfa8aec18  \n",
       "2        c99a50e8-2fac-4c4d-89ec-41c05f114554  \n",
       "3        722ffea5-73c0-4924-8e8f-371ff8031af4  \n",
       "4        28172809-7e4a-45ce-bab0-5efa90117cd5  \n",
       "...                                       ...  \n",
       "3533281  e4a2d47c-a956-4c46-8176-745f52ea664b  \n",
       "3533282  2dde9867-9e71-4a64-880d-aa68b66aae6d  \n",
       "3533283  4c6d80bb-5dd3-4fbb-b592-187b51db2753  \n",
       "3533284  7e8a2b85-153a-44eb-a71f-b748fde14fcc  \n",
       "3533285  546f6af3-a517-4752-a98b-80c4c5860711  \n",
       "\n",
       "[3533286 rows x 9 columns]"
      ]
     },
     "execution_count": 209,
     "metadata": {},
     "output_type": "execute_result"
    }
   ],
   "source": [
    "DATA"
   ]
  },
  {
   "cell_type": "code",
   "execution_count": 210,
   "id": "9df59c01",
   "metadata": {},
   "outputs": [],
   "source": [
    "# IMPUTING FOR CATEGORICAL COLUMN :brand HAVING NULL VALUES BETWEEN 5% AND 50%.:"
   ]
  },
  {
   "cell_type": "code",
   "execution_count": 211,
   "id": "17c6cc02",
   "metadata": {},
   "outputs": [
    {
     "data": {
      "text/plain": [
       "0    runail\n",
       "Name: brand, dtype: object"
      ]
     },
     "execution_count": 211,
     "metadata": {},
     "output_type": "execute_result"
    }
   ],
   "source": [
    "DATA[\"brand\"].mode() # on index 0"
   ]
  },
  {
   "cell_type": "code",
   "execution_count": 212,
   "id": "8c7f91a9",
   "metadata": {},
   "outputs": [],
   "source": [
    "# DATA[\"brand\"]=DATA.groupby(\"category_id\")[\"brand\"].transform(lambda x : x.fillna(x.mode().iloc(0) if not x.mode().empty else x))"
   ]
  },
  {
   "cell_type": "code",
   "execution_count": 213,
   "id": "631e294f",
   "metadata": {},
   "outputs": [],
   "source": [
    "# DATA[\"brand\"].fillna(DATA[\"brand\"].mode(),inplace=True) \n",
    "# # this will change the meaning of data.."
   ]
  },
  {
   "cell_type": "code",
   "execution_count": 214,
   "id": "315903d7",
   "metadata": {},
   "outputs": [
    {
     "name": "stderr",
     "output_type": "stream",
     "text": [
      "C:\\Users\\Nagesh Agrawal\\AppData\\Local\\Temp\\ipykernel_19660\\2462881389.py:2: FutureWarning: A value is trying to be set on a copy of a DataFrame or Series through chained assignment using an inplace method.\n",
      "The behavior will change in pandas 3.0. This inplace method will never work because the intermediate object on which we are setting values always behaves as a copy.\n",
      "\n",
      "For example, when doing 'df[col].method(value, inplace=True)', try using 'df.method({col: value}, inplace=True)' or df[col] = df[col].method(value) instead, to perform the operation inplace on the original object.\n",
      "\n",
      "\n",
      "  DATA[\"brand\"].fillna(\"missing\",inplace=True)\n"
     ]
    }
   ],
   "source": [
    "# WE CAN REPLACE THE VALUE WITH CONSTANT VALUE:\n",
    "DATA[\"brand\"].fillna(\"missing\",inplace=True)"
   ]
  },
  {
   "cell_type": "code",
   "execution_count": 215,
   "id": "1e8d9399",
   "metadata": {},
   "outputs": [
    {
     "data": {
      "text/plain": [
       "event_time        0.000000\n",
       "event_type        0.000000\n",
       "product_id        0.000000\n",
       "category_id       0.000000\n",
       "category_code    98.345308\n",
       "brand             0.000000\n",
       "price             0.000000\n",
       "user_id           0.000000\n",
       "user_session      0.022047\n",
       "dtype: float64"
      ]
     },
     "execution_count": 215,
     "metadata": {},
     "output_type": "execute_result"
    }
   ],
   "source": [
    "DATA.isna().mean()*100"
   ]
  },
  {
   "cell_type": "code",
   "execution_count": 216,
   "id": "8d804f4c",
   "metadata": {},
   "outputs": [],
   "source": [
    "# LEAVE AS IT IS AS NAN HANDLE DURING ENCODING:"
   ]
  },
  {
   "cell_type": "markdown",
   "id": "1dc54bbc",
   "metadata": {},
   "source": [
    "##### **🧑‍🏭REMOVE MISSING DATA**"
   ]
  },
  {
   "cell_type": "markdown",
   "id": "f8434afb",
   "metadata": {},
   "source": [
    "* IF THE FREQUENCY OF MISSING DATA RECORDS ARE LESS. (LESS THAN 5%)\n",
    "* IN EACH COLUMN THERE MORE THAN 90% OF DATA IS NULL."
   ]
  },
  {
   "cell_type": "markdown",
   "id": "05b2b716",
   "metadata": {},
   "source": [
    "| Column         | Missing Percentage | COLUMN DATA TYPE |\n",
    "|----------------|--------------------|------------------|\n",
    "| category_code  | 98.345308%          | object          |\n",
    "| user_session   | 0.022047%           | object          |"
   ]
  },
  {
   "cell_type": "code",
   "execution_count": 217,
   "id": "63d59280",
   "metadata": {},
   "outputs": [
    {
     "data": {
      "text/plain": [
       "Index(['event_time', 'event_type', 'product_id', 'category_id', 'brand',\n",
       "       'price', 'user_id', 'user_session'],\n",
       "      dtype='object')"
      ]
     },
     "execution_count": 217,
     "metadata": {},
     "output_type": "execute_result"
    }
   ],
   "source": [
    "# IN EACH COLUMN THERE MORE THAN 90% OF DATA IS NULL.\n",
    "# Category_code having 98 %  so we should remove that column.\n",
    "DATA.drop(\"category_code\",axis=1,inplace=True)\n",
    "DATA.columns"
   ]
  },
  {
   "cell_type": "code",
   "execution_count": 236,
   "id": "9d3c997b",
   "metadata": {},
   "outputs": [
    {
     "data": {
      "application/vnd.microsoft.datawrangler.viewer.v0+json": {
       "columns": [
        {
         "name": "index",
         "rawType": "int64",
         "type": "integer"
        },
        {
         "name": "event_time",
         "rawType": "object",
         "type": "string"
        },
        {
         "name": "event_type",
         "rawType": "object",
         "type": "string"
        },
        {
         "name": "product_id",
         "rawType": "int64",
         "type": "integer"
        },
        {
         "name": "category_id",
         "rawType": "int64",
         "type": "integer"
        },
        {
         "name": "brand",
         "rawType": "object",
         "type": "string"
        },
        {
         "name": "price",
         "rawType": "float64",
         "type": "float"
        },
        {
         "name": "user_id",
         "rawType": "int64",
         "type": "integer"
        },
        {
         "name": "user_session",
         "rawType": "object",
         "type": "string"
        }
       ],
       "conversionMethod": "pd.DataFrame",
       "ref": "14c4675c-c9ef-4c95-95c2-20d4159ca2c5",
       "rows": [
        [
         "0",
         "2019-12-01 00:00:00 UTC",
         "remove_from_cart",
         "5712790",
         "1487580005268456287",
         "f.o.x",
         "6.27",
         "576802932",
         "51d85cb0-897f-48d2-918b-ad63965c12dc"
        ],
        [
         "1",
         "2019-12-01 00:00:00 UTC",
         "view",
         "5764655",
         "1487580005411062629",
         "cnd",
         "29.05",
         "412120092",
         "8adff31e-2051-4894-9758-224bfa8aec18"
        ],
        [
         "2",
         "2019-12-01 00:00:02 UTC",
         "cart",
         "4958",
         "1487580009471148064",
         "runail",
         "1.19",
         "494077766",
         "c99a50e8-2fac-4c4d-89ec-41c05f114554"
        ],
        [
         "3",
         "2019-12-01 00:00:05 UTC",
         "view",
         "5848413",
         "1487580007675986893",
         "freedecor",
         "0.79",
         "348405118",
         "722ffea5-73c0-4924-8e8f-371ff8031af4"
        ],
        [
         "4",
         "2019-12-01 00:00:07 UTC",
         "view",
         "5824148",
         "1487580005511725929",
         "missing",
         "5.56",
         "576005683",
         "28172809-7e4a-45ce-bab0-5efa90117cd5"
        ],
        [
         "5",
         "2019-12-01 00:00:09 UTC",
         "view",
         "5773361",
         "1487580005134238553",
         "runail",
         "2.62",
         "560109803",
         "38cf4ba1-4a0a-4c9e-b870-46685d105f95"
        ],
        [
         "6",
         "2019-12-01 00:00:18 UTC",
         "cart",
         "5629988",
         "1487580009311764506",
         "missing",
         "1.19",
         "579966747",
         "1512be50-d0fd-4a92-bcd8-3ea3943f2a3b"
        ],
        [
         "7",
         "2019-12-01 00:00:22 UTC",
         "view",
         "5807805",
         "1487580005713052531",
         "ingarden",
         "4.44",
         "576005683",
         "28172809-7e4a-45ce-bab0-5efa90117cd5"
        ],
        [
         "8",
         "2019-12-01 00:00:27 UTC",
         "view",
         "5588608",
         "1487580008145748965",
         "roubloff",
         "5.4",
         "546170008",
         "676d9fcc-2a4f-4448-b49d-136f2e4208c1"
        ],
        [
         "9",
         "2019-12-01 00:00:34 UTC",
         "cart",
         "5335",
         "1487580009605365797",
         "runail",
         "0.4",
         "494077766",
         "c99a50e8-2fac-4c4d-89ec-41c05f114554"
        ],
        [
         "10",
         "2019-12-01 00:00:40 UTC",
         "cart",
         "5755170",
         "1487580009387261981",
         "missing",
         "2.79",
         "579751441",
         "8de492d7-0937-47ae-be2c-a7615aec2b0d"
        ],
        [
         "11",
         "2019-12-01 00:00:44 UTC",
         "remove_from_cart",
         "5650294",
         "1487580007835370453",
         "metzger",
         "3.33",
         "576802932",
         "51d85cb0-897f-48d2-918b-ad63965c12dc"
        ],
        [
         "12",
         "2019-12-01 00:00:45 UTC",
         "cart",
         "5755170",
         "1487580009387261981",
         "missing",
         "2.79",
         "579751441",
         "8de492d7-0937-47ae-be2c-a7615aec2b0d"
        ],
        [
         "13",
         "2019-12-01 00:00:46 UTC",
         "remove_from_cart",
         "5692261",
         "1487580007835370453",
         "staleks",
         "6.35",
         "576802932",
         "51d85cb0-897f-48d2-918b-ad63965c12dc"
        ],
        [
         "14",
         "2019-12-01 00:00:46 UTC",
         "view",
         "5798929",
         "1783999068909863670",
         "zinger",
         "6.19",
         "579966747",
         "1512be50-d0fd-4a92-bcd8-3ea3943f2a3b"
        ],
        [
         "15",
         "2019-12-01 00:00:46 UTC",
         "cart",
         "5755170",
         "1487580009387261981",
         "missing",
         "2.79",
         "579751441",
         "8de492d7-0937-47ae-be2c-a7615aec2b0d"
        ],
        [
         "16",
         "2019-12-01 00:00:49 UTC",
         "remove_from_cart",
         "5694628",
         "1487580007835370453",
         "yoko",
         "3.65",
         "576802932",
         "51d85cb0-897f-48d2-918b-ad63965c12dc"
        ],
        [
         "17",
         "2019-12-01 00:00:50 UTC",
         "view",
         "3936",
         "1487580005343953762",
         "entity",
         "10.95",
         "579969717",
         "006dd2fb-ae1e-4461-985a-d4e70ca64543"
        ],
        [
         "18",
         "2019-12-01 00:00:52 UTC",
         "cart",
         "5761411",
         "1487580007432717250",
         "ingarden",
         "2.86",
         "494077766",
         "c99a50e8-2fac-4c4d-89ec-41c05f114554"
        ],
        [
         "19",
         "2019-12-01 00:00:58 UTC",
         "cart",
         "5761411",
         "1487580007432717250",
         "ingarden",
         "2.86",
         "494077766",
         "c99a50e8-2fac-4c4d-89ec-41c05f114554"
        ],
        [
         "20",
         "2019-12-01 00:00:58 UTC",
         "view",
         "5817779",
         "1487580010872045658",
         "irisk",
         "0.79",
         "576802932",
         "f7257a5b-5449-4136-aa56-e373f484ffa2"
        ],
        [
         "21",
         "2019-12-01 00:01:01 UTC",
         "view",
         "5832416",
         "1487580009471148064",
         "missing",
         "0.95",
         "576802932",
         "01dbbcc3-b26b-4bed-bce4-1b506725a351"
        ],
        [
         "22",
         "2019-12-01 00:01:02 UTC",
         "view",
         "5706778",
         "1487580005268456287",
         "beautix",
         "14.13",
         "564257889",
         "a4248817-8d0d-4dac-96e6-a586563308de"
        ],
        [
         "23",
         "2019-12-01 00:01:11 UTC",
         "view",
         "5849033",
         "1487580005092295511",
         "uno",
         "10.32",
         "562651624",
         "f8783526-2382-454b-b417-fa48d371030f"
        ],
        [
         "24",
         "2019-12-01 00:01:15 UTC",
         "cart",
         "5904369",
         "1487580007675986893",
         "missing",
         "1.59",
         "348405118",
         "722ffea5-73c0-4924-8e8f-371ff8031af4"
        ],
        [
         "25",
         "2019-12-01 00:01:16 UTC",
         "view",
         "5881896",
         "1487580011903844485",
         "missing",
         "3.63",
         "537197314",
         "1fc5bdf5-a94f-4e5f-8283-215b3fed14c1"
        ],
        [
         "26",
         "2019-12-01 00:01:16 UTC",
         "remove_from_cart",
         "5742926",
         "1487580006317032337",
         "yoko",
         "21.78",
         "576802932",
         "51d85cb0-897f-48d2-918b-ad63965c12dc"
        ],
        [
         "27",
         "2019-12-01 00:01:19 UTC",
         "cart",
         "5600449",
         "1487580008145748965",
         "roubloff",
         "15.38",
         "546170008",
         "676d9fcc-2a4f-4448-b49d-136f2e4208c1"
        ],
        [
         "28",
         "2019-12-01 00:01:19 UTC",
         "view",
         "5614842",
         "1487580005411062629",
         "cnd",
         "13.56",
         "412120092",
         "8adff31e-2051-4894-9758-224bfa8aec18"
        ],
        [
         "29",
         "2019-12-01 00:01:22 UTC",
         "cart",
         "5666749",
         "1487580009076883471",
         "philips",
         "3.43",
         "494077766",
         "c99a50e8-2fac-4c4d-89ec-41c05f114554"
        ],
        [
         "30",
         "2019-12-01 00:01:22 UTC",
         "view",
         "5847872",
         "1487580006317032337",
         "missing",
         "7.94",
         "576802932",
         "d3809963-53ce-47fd-88c0-21afda8c90ca"
        ],
        [
         "31",
         "2019-12-01 00:01:34 UTC",
         "remove_from_cart",
         "5847872",
         "1487580006317032337",
         "missing",
         "7.94",
         "576802932",
         "51d85cb0-897f-48d2-918b-ad63965c12dc"
        ],
        [
         "32",
         "2019-12-01 00:01:44 UTC",
         "cart",
         "5862564",
         "1487580008145748965",
         "roubloff",
         "1.71",
         "546170008",
         "676d9fcc-2a4f-4448-b49d-136f2e4208c1"
        ],
        [
         "33",
         "2019-12-01 00:01:47 UTC",
         "view",
         "5732026",
         "1487580011970953351",
         "domix",
         "4.16",
         "509445281",
         "91e9d610-759a-4831-b89a-22f2ab5fbc0f"
        ],
        [
         "34",
         "2019-12-01 00:01:50 UTC",
         "view",
         "5795703",
         "1487580005268456287",
         "missing",
         "10.95",
         "556579890",
         "1d94a188-7fa5-4c52-a9fc-99abf8b4838f"
        ],
        [
         "35",
         "2019-12-01 00:01:51 UTC",
         "view",
         "5859489",
         "1487580005671109489",
         "masura",
         "1.73",
         "521863546",
         "50040a3b-8a81-483d-b0e8-8152821701f8"
        ],
        [
         "36",
         "2019-12-01 00:01:52 UTC",
         "cart",
         "5700046",
         "1487580009286598681",
         "runail",
         "0.4",
         "576802932",
         "51d85cb0-897f-48d2-918b-ad63965c12dc"
        ],
        [
         "37",
         "2019-12-01 00:01:52 UTC",
         "cart",
         "5700046",
         "1487580009286598681",
         "runail",
         "0.4",
         "576802932",
         "51d85cb0-897f-48d2-918b-ad63965c12dc"
        ],
        [
         "38",
         "2019-12-01 00:01:58 UTC",
         "view",
         "5810157",
         "1487580009445982239",
         "irisk",
         "1.43",
         "494077766",
         "c99a50e8-2fac-4c4d-89ec-41c05f114554"
        ],
        [
         "39",
         "2019-12-01 00:02:16 UTC",
         "view",
         "5899850",
         "2115334439910245200",
         "missing",
         "4.46",
         "538507783",
         "177b9f5a-9ef3-4e11-b31e-6efd86a9bff2"
        ],
        [
         "40",
         "2019-12-01 00:02:16 UTC",
         "cart",
         "5862313",
         "1487580007675986893",
         "freedecor",
         "0.79",
         "348405118",
         "722ffea5-73c0-4924-8e8f-371ff8031af4"
        ],
        [
         "41",
         "2019-12-01 00:02:18 UTC",
         "remove_from_cart",
         "5772301",
         "1602943681873052386",
         "grattol",
         "4.76",
         "492321842",
         "d1d89629-a5f8-4aab-b42e-e8c30756396f"
        ],
        [
         "42",
         "2019-12-01 00:02:19 UTC",
         "remove_from_cart",
         "5772301",
         "1602943681873052386",
         "grattol",
         "4.76",
         "492321842",
         "d1d89629-a5f8-4aab-b42e-e8c30756396f"
        ],
        [
         "43",
         "2019-12-01 00:02:25 UTC",
         "view",
         "5772301",
         "1602943681873052386",
         "grattol",
         "4.76",
         "492321842",
         "d1d89629-a5f8-4aab-b42e-e8c30756396f"
        ],
        [
         "44",
         "2019-12-01 00:02:32 UTC",
         "view",
         "5817700",
         "1487580010821714008",
         "missing",
         "0.71",
         "576802932",
         "7df52373-e255-4889-9d68-e05a7f119cca"
        ],
        [
         "45",
         "2019-12-01 00:02:34 UTC",
         "cart",
         "5798924",
         "1783999068867920626",
         "zinger",
         "3.97",
         "579966747",
         "1512be50-d0fd-4a92-bcd8-3ea3943f2a3b"
        ],
        [
         "46",
         "2019-12-01 00:02:34 UTC",
         "view",
         "5695827",
         "1487580010821714008",
         "ingarden",
         "0.79",
         "576802932",
         "3abf05f0-0368-48a2-baa7-62562aed1481"
        ],
        [
         "47",
         "2019-12-01 00:02:36 UTC",
         "view",
         "5590822",
         "1487580006300255120",
         "strong",
         "194.44",
         "509449396",
         "35baf72e-d65a-422b-8d46-d62a52985877"
        ],
        [
         "48",
         "2019-12-01 00:02:40 UTC",
         "view",
         "5800015",
         "1487580005092295511",
         "missing",
         "8.89",
         "555150103",
         "66f40972-7d43-4204-877a-32ee1b1df991"
        ],
        [
         "49",
         "2019-12-01 00:02:40 UTC",
         "view",
         "5849033",
         "1487580005092295511",
         "uno",
         "10.32",
         "562651624",
         "f8783526-2382-454b-b417-fa48d371030f"
        ]
       ],
       "shape": {
        "columns": 8,
        "rows": 3532507
       }
      },
      "text/html": [
       "<div>\n",
       "<style scoped>\n",
       "    .dataframe tbody tr th:only-of-type {\n",
       "        vertical-align: middle;\n",
       "    }\n",
       "\n",
       "    .dataframe tbody tr th {\n",
       "        vertical-align: top;\n",
       "    }\n",
       "\n",
       "    .dataframe thead th {\n",
       "        text-align: right;\n",
       "    }\n",
       "</style>\n",
       "<table border=\"1\" class=\"dataframe\">\n",
       "  <thead>\n",
       "    <tr style=\"text-align: right;\">\n",
       "      <th></th>\n",
       "      <th>event_time</th>\n",
       "      <th>event_type</th>\n",
       "      <th>product_id</th>\n",
       "      <th>category_id</th>\n",
       "      <th>brand</th>\n",
       "      <th>price</th>\n",
       "      <th>user_id</th>\n",
       "      <th>user_session</th>\n",
       "    </tr>\n",
       "  </thead>\n",
       "  <tbody>\n",
       "    <tr>\n",
       "      <th>0</th>\n",
       "      <td>2019-12-01 00:00:00 UTC</td>\n",
       "      <td>remove_from_cart</td>\n",
       "      <td>5712790</td>\n",
       "      <td>1487580005268456287</td>\n",
       "      <td>f.o.x</td>\n",
       "      <td>6.27</td>\n",
       "      <td>576802932</td>\n",
       "      <td>51d85cb0-897f-48d2-918b-ad63965c12dc</td>\n",
       "    </tr>\n",
       "    <tr>\n",
       "      <th>1</th>\n",
       "      <td>2019-12-01 00:00:00 UTC</td>\n",
       "      <td>view</td>\n",
       "      <td>5764655</td>\n",
       "      <td>1487580005411062629</td>\n",
       "      <td>cnd</td>\n",
       "      <td>29.05</td>\n",
       "      <td>412120092</td>\n",
       "      <td>8adff31e-2051-4894-9758-224bfa8aec18</td>\n",
       "    </tr>\n",
       "    <tr>\n",
       "      <th>2</th>\n",
       "      <td>2019-12-01 00:00:02 UTC</td>\n",
       "      <td>cart</td>\n",
       "      <td>4958</td>\n",
       "      <td>1487580009471148064</td>\n",
       "      <td>runail</td>\n",
       "      <td>1.19</td>\n",
       "      <td>494077766</td>\n",
       "      <td>c99a50e8-2fac-4c4d-89ec-41c05f114554</td>\n",
       "    </tr>\n",
       "    <tr>\n",
       "      <th>3</th>\n",
       "      <td>2019-12-01 00:00:05 UTC</td>\n",
       "      <td>view</td>\n",
       "      <td>5848413</td>\n",
       "      <td>1487580007675986893</td>\n",
       "      <td>freedecor</td>\n",
       "      <td>0.79</td>\n",
       "      <td>348405118</td>\n",
       "      <td>722ffea5-73c0-4924-8e8f-371ff8031af4</td>\n",
       "    </tr>\n",
       "    <tr>\n",
       "      <th>4</th>\n",
       "      <td>2019-12-01 00:00:07 UTC</td>\n",
       "      <td>view</td>\n",
       "      <td>5824148</td>\n",
       "      <td>1487580005511725929</td>\n",
       "      <td>missing</td>\n",
       "      <td>5.56</td>\n",
       "      <td>576005683</td>\n",
       "      <td>28172809-7e4a-45ce-bab0-5efa90117cd5</td>\n",
       "    </tr>\n",
       "    <tr>\n",
       "      <th>...</th>\n",
       "      <td>...</td>\n",
       "      <td>...</td>\n",
       "      <td>...</td>\n",
       "      <td>...</td>\n",
       "      <td>...</td>\n",
       "      <td>...</td>\n",
       "      <td>...</td>\n",
       "      <td>...</td>\n",
       "    </tr>\n",
       "    <tr>\n",
       "      <th>3533281</th>\n",
       "      <td>2019-12-31 23:59:39 UTC</td>\n",
       "      <td>view</td>\n",
       "      <td>5683350</td>\n",
       "      <td>1487580005671109489</td>\n",
       "      <td>masura</td>\n",
       "      <td>2.84</td>\n",
       "      <td>536812729</td>\n",
       "      <td>e4a2d47c-a956-4c46-8176-745f52ea664b</td>\n",
       "    </tr>\n",
       "    <tr>\n",
       "      <th>3533282</th>\n",
       "      <td>2019-12-31 23:59:46 UTC</td>\n",
       "      <td>view</td>\n",
       "      <td>5888097</td>\n",
       "      <td>1487580013388628160</td>\n",
       "      <td>shik</td>\n",
       "      <td>179.05</td>\n",
       "      <td>503658154</td>\n",
       "      <td>2dde9867-9e71-4a64-880d-aa68b66aae6d</td>\n",
       "    </tr>\n",
       "    <tr>\n",
       "      <th>3533283</th>\n",
       "      <td>2019-12-31 23:59:51 UTC</td>\n",
       "      <td>view</td>\n",
       "      <td>59975</td>\n",
       "      <td>1487580012096782476</td>\n",
       "      <td>missing</td>\n",
       "      <td>7.14</td>\n",
       "      <td>595414541</td>\n",
       "      <td>4c6d80bb-5dd3-4fbb-b592-187b51db2753</td>\n",
       "    </tr>\n",
       "    <tr>\n",
       "      <th>3533284</th>\n",
       "      <td>2019-12-31 23:59:52 UTC</td>\n",
       "      <td>view</td>\n",
       "      <td>5775982</td>\n",
       "      <td>1783999063314661546</td>\n",
       "      <td>missing</td>\n",
       "      <td>11.90</td>\n",
       "      <td>397780878</td>\n",
       "      <td>7e8a2b85-153a-44eb-a71f-b748fde14fcc</td>\n",
       "    </tr>\n",
       "    <tr>\n",
       "      <th>3533285</th>\n",
       "      <td>2019-12-31 23:59:57 UTC</td>\n",
       "      <td>view</td>\n",
       "      <td>5635090</td>\n",
       "      <td>1487580005754995573</td>\n",
       "      <td>missing</td>\n",
       "      <td>4.44</td>\n",
       "      <td>420652863</td>\n",
       "      <td>546f6af3-a517-4752-a98b-80c4c5860711</td>\n",
       "    </tr>\n",
       "  </tbody>\n",
       "</table>\n",
       "<p>3532507 rows × 8 columns</p>\n",
       "</div>"
      ],
      "text/plain": [
       "                      event_time        event_type  product_id  \\\n",
       "0        2019-12-01 00:00:00 UTC  remove_from_cart     5712790   \n",
       "1        2019-12-01 00:00:00 UTC              view     5764655   \n",
       "2        2019-12-01 00:00:02 UTC              cart        4958   \n",
       "3        2019-12-01 00:00:05 UTC              view     5848413   \n",
       "4        2019-12-01 00:00:07 UTC              view     5824148   \n",
       "...                          ...               ...         ...   \n",
       "3533281  2019-12-31 23:59:39 UTC              view     5683350   \n",
       "3533282  2019-12-31 23:59:46 UTC              view     5888097   \n",
       "3533283  2019-12-31 23:59:51 UTC              view       59975   \n",
       "3533284  2019-12-31 23:59:52 UTC              view     5775982   \n",
       "3533285  2019-12-31 23:59:57 UTC              view     5635090   \n",
       "\n",
       "                 category_id      brand   price    user_id  \\\n",
       "0        1487580005268456287      f.o.x    6.27  576802932   \n",
       "1        1487580005411062629        cnd   29.05  412120092   \n",
       "2        1487580009471148064     runail    1.19  494077766   \n",
       "3        1487580007675986893  freedecor    0.79  348405118   \n",
       "4        1487580005511725929    missing    5.56  576005683   \n",
       "...                      ...        ...     ...        ...   \n",
       "3533281  1487580005671109489     masura    2.84  536812729   \n",
       "3533282  1487580013388628160       shik  179.05  503658154   \n",
       "3533283  1487580012096782476    missing    7.14  595414541   \n",
       "3533284  1783999063314661546    missing   11.90  397780878   \n",
       "3533285  1487580005754995573    missing    4.44  420652863   \n",
       "\n",
       "                                 user_session  \n",
       "0        51d85cb0-897f-48d2-918b-ad63965c12dc  \n",
       "1        8adff31e-2051-4894-9758-224bfa8aec18  \n",
       "2        c99a50e8-2fac-4c4d-89ec-41c05f114554  \n",
       "3        722ffea5-73c0-4924-8e8f-371ff8031af4  \n",
       "4        28172809-7e4a-45ce-bab0-5efa90117cd5  \n",
       "...                                       ...  \n",
       "3533281  e4a2d47c-a956-4c46-8176-745f52ea664b  \n",
       "3533282  2dde9867-9e71-4a64-880d-aa68b66aae6d  \n",
       "3533283  4c6d80bb-5dd3-4fbb-b592-187b51db2753  \n",
       "3533284  7e8a2b85-153a-44eb-a71f-b748fde14fcc  \n",
       "3533285  546f6af3-a517-4752-a98b-80c4c5860711  \n",
       "\n",
       "[3532507 rows x 8 columns]"
      ]
     },
     "execution_count": 236,
     "metadata": {},
     "output_type": "execute_result"
    }
   ],
   "source": [
    "# IN EACH COLUMN THERE MORE THAN 90% OF DATA IS NULL.\n",
    "# user_session 0.022047% (2%)\n",
    "DATA.dropna(inplace=True)# ALL RECORDS WHICH ARE HAVING NULL VALUES\n",
    "DATA.dropna(how=\"all\")# DROP RECORDS WHERE ALL CELLS IS NA\n",
    "DATA.dropna(thresh=4)# DROP RECORD IF IT CONTAIN NULL VALUES LESS THAN 4\n"
   ]
  },
  {
   "cell_type": "code",
   "execution_count": 237,
   "id": "bdc6b7e2",
   "metadata": {},
   "outputs": [
    {
     "data": {
      "text/plain": [
       "event_time      0\n",
       "event_type      0\n",
       "product_id      0\n",
       "category_id     0\n",
       "brand           0\n",
       "price           0\n",
       "user_id         0\n",
       "user_session    0\n",
       "dtype: int64"
      ]
     },
     "execution_count": 237,
     "metadata": {},
     "output_type": "execute_result"
    }
   ],
   "source": [
    "DATA.isna().sum()"
   ]
  },
  {
   "cell_type": "code",
   "execution_count": null,
   "metadata": {},
   "outputs": [],
   "source": [
    "# storing the clean data to csv:\n",
    "# DATA.to_csv(r\"DATA\\CLEAN_DATA.csv\",index=False)"
   ]
  },
  {
   "cell_type": "code",
   "execution_count": null,
   "id": "3c3fe339",
   "metadata": {},
   "outputs": [],
   "source": []
  },
  {
   "cell_type": "code",
   "execution_count": null,
   "id": "1059242c",
   "metadata": {},
   "outputs": [],
   "source": []
  },
  {
   "cell_type": "code",
   "execution_count": null,
   "id": "830c188a",
   "metadata": {},
   "outputs": [],
   "source": []
  }
 ],
 "metadata": {
  "kernelspec": {
   "display_name": "Python 3",
   "language": "python",
   "name": "python3"
  },
  "language_info": {
   "codemirror_mode": {
    "name": "ipython",
    "version": 3
   },
   "file_extension": ".py",
   "mimetype": "text/x-python",
   "name": "python",
   "nbconvert_exporter": "python",
   "pygments_lexer": "ipython3",
   "version": "3.11.9"
  }
 },
 "nbformat": 4,
 "nbformat_minor": 5
}
