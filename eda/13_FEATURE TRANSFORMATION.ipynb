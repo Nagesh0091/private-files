{
 "cells": [
  {
   "cell_type": "markdown",
   "id": "71884a24",
   "metadata": {},
   "source": [
    "\n",
    "---\n",
    "\n",
    "# 🔄 DATA TRANSFORMATION\n",
    "\n",
    "### 💡 Why Transform Data?\n",
    "\n",
    "Data transformation is used to:\n",
    "\n",
    "* 📈 **Improve model performance**\n",
    "* 🧠 **Enhance interpretability**\n",
    "* 🔧 **Shrink the effect of outliers**\n",
    "* 🎯 **Handle skewed data effectively**\n",
    "\n",
    "---\n",
    "\n",
    "## 🔢 COMMON TRANSFORMATION TECHNIQUES\n",
    "\n",
    "---\n",
    "\n",
    "### 1️⃣ **Log Transformation**\n",
    "\n",
    "* 📉 Reduces the impact of **large values** (outliers)\n",
    "* ✅ Makes **skewed data more normal**\n",
    "* ⚠️ Works **only on positive values**\n",
    "* 🔄 Useful when data ranges are exponential\n",
    "\n",
    "---\n",
    "\n",
    "### 2️⃣ **Square Root (√) Transformation**\n",
    "\n",
    "* 🟰 Similar to log, but **less aggressive**\n",
    "* 👍 Can handle **zero values**\n",
    "* 🚀 Great for **moderately skewed data**\n",
    "\n",
    "---\n",
    "\n",
    "## 🧪 ALSO CONSIDER:\n",
    "\n",
    "* 📊 **Z-score** normalization for **standard scaling**\n",
    "* ✅ Goal: **Smooth, normalize**, and make your data **model-ready**\n",
    "\n",
    "---\n"
   ]
  },
  {
   "cell_type": "code",
   "execution_count": 15,
   "id": "66210d39",
   "metadata": {},
   "outputs": [
    {
     "data": {
      "application/vnd.microsoft.datawrangler.viewer.v0+json": {
       "columns": [
        {
         "name": "index",
         "rawType": "int64",
         "type": "integer"
        },
        {
         "name": "event_time",
         "rawType": "object",
         "type": "string"
        },
        {
         "name": "event_type",
         "rawType": "object",
         "type": "string"
        },
        {
         "name": "product_id",
         "rawType": "int64",
         "type": "integer"
        },
        {
         "name": "category_id",
         "rawType": "int64",
         "type": "integer"
        },
        {
         "name": "brand",
         "rawType": "object",
         "type": "string"
        },
        {
         "name": "price",
         "rawType": "float64",
         "type": "float"
        },
        {
         "name": "user_id",
         "rawType": "int64",
         "type": "integer"
        },
        {
         "name": "user_session",
         "rawType": "object",
         "type": "string"
        },
        {
         "name": "quantity",
         "rawType": "int64",
         "type": "integer"
        },
        {
         "name": "ANOMALY_SCORE",
         "rawType": "int64",
         "type": "integer"
        }
       ],
       "conversionMethod": "pd.DataFrame",
       "ref": "9f0551b3-7849-4171-b1e4-8fe176ce5280",
       "rows": [
        [
         "0",
         "2019-12-01 00:00:00 UTC",
         "remove_from_cart",
         "5712790",
         "1487580005268456287",
         "f.o.x",
         "6.27",
         "576802932",
         "51d85cb0-897f-48d2-918b-ad63965c12dc",
         "1",
         "1"
        ],
        [
         "1",
         "2019-12-01 00:00:00 UTC",
         "view",
         "5764655",
         "1487580005411062629",
         "cnd",
         "29.05",
         "412120092",
         "8adff31e-2051-4894-9758-224bfa8aec18",
         "1",
         "1"
        ],
        [
         "2",
         "2019-12-01 00:00:05 UTC",
         "view",
         "5848413",
         "1487580007675986893",
         "freedecor",
         "0.79",
         "348405118",
         "722ffea5-73c0-4924-8e8f-371ff8031af4",
         "1",
         "1"
        ],
        [
         "3",
         "2019-12-01 00:00:07 UTC",
         "view",
         "5824148",
         "1487580005511725929",
         "missing",
         "5.56",
         "576005683",
         "28172809-7e4a-45ce-bab0-5efa90117cd5",
         "1",
         "1"
        ],
        [
         "4",
         "2019-12-01 00:00:09 UTC",
         "view",
         "5773361",
         "1487580005134238553",
         "runail",
         "2.62",
         "560109803",
         "38cf4ba1-4a0a-4c9e-b870-46685d105f95",
         "1",
         "1"
        ],
        [
         "5",
         "2019-12-01 00:00:18 UTC",
         "cart",
         "5629988",
         "1487580009311764506",
         "missing",
         "1.19",
         "579966747",
         "1512be50-d0fd-4a92-bcd8-3ea3943f2a3b",
         "1",
         "1"
        ],
        [
         "6",
         "2019-12-01 00:00:22 UTC",
         "view",
         "5807805",
         "1487580005713052531",
         "ingarden",
         "4.44",
         "576005683",
         "28172809-7e4a-45ce-bab0-5efa90117cd5",
         "1",
         "1"
        ],
        [
         "7",
         "2019-12-01 00:00:27 UTC",
         "view",
         "5588608",
         "1487580008145748965",
         "roubloff",
         "5.4",
         "546170008",
         "676d9fcc-2a4f-4448-b49d-136f2e4208c1",
         "1",
         "1"
        ],
        [
         "8",
         "2019-12-01 00:00:40 UTC",
         "cart",
         "5755170",
         "1487580009387261981",
         "missing",
         "2.79",
         "579751441",
         "8de492d7-0937-47ae-be2c-a7615aec2b0d",
         "1",
         "1"
        ],
        [
         "9",
         "2019-12-01 00:00:44 UTC",
         "remove_from_cart",
         "5650294",
         "1487580007835370453",
         "metzger",
         "3.33",
         "576802932",
         "51d85cb0-897f-48d2-918b-ad63965c12dc",
         "1",
         "1"
        ],
        [
         "10",
         "2019-12-01 00:00:45 UTC",
         "cart",
         "5755170",
         "1487580009387261981",
         "missing",
         "2.79",
         "579751441",
         "8de492d7-0937-47ae-be2c-a7615aec2b0d",
         "1",
         "1"
        ],
        [
         "11",
         "2019-12-01 00:00:46 UTC",
         "cart",
         "5755170",
         "1487580009387261981",
         "missing",
         "2.79",
         "579751441",
         "8de492d7-0937-47ae-be2c-a7615aec2b0d",
         "1",
         "1"
        ],
        [
         "12",
         "2019-12-01 00:00:46 UTC",
         "remove_from_cart",
         "5692261",
         "1487580007835370453",
         "staleks",
         "6.35",
         "576802932",
         "51d85cb0-897f-48d2-918b-ad63965c12dc",
         "1",
         "1"
        ],
        [
         "13",
         "2019-12-01 00:00:46 UTC",
         "view",
         "5798929",
         "1783999068909863670",
         "zinger",
         "6.19",
         "579966747",
         "1512be50-d0fd-4a92-bcd8-3ea3943f2a3b",
         "1",
         "1"
        ],
        [
         "14",
         "2019-12-01 00:00:49 UTC",
         "remove_from_cart",
         "5694628",
         "1487580007835370453",
         "yoko",
         "3.65",
         "576802932",
         "51d85cb0-897f-48d2-918b-ad63965c12dc",
         "1",
         "1"
        ],
        [
         "15",
         "2019-12-01 00:00:52 UTC",
         "cart",
         "5761411",
         "1487580007432717250",
         "ingarden",
         "2.86",
         "494077766",
         "c99a50e8-2fac-4c4d-89ec-41c05f114554",
         "1",
         "1"
        ],
        [
         "16",
         "2019-12-01 00:00:58 UTC",
         "cart",
         "5761411",
         "1487580007432717250",
         "ingarden",
         "2.86",
         "494077766",
         "c99a50e8-2fac-4c4d-89ec-41c05f114554",
         "1",
         "1"
        ],
        [
         "17",
         "2019-12-01 00:00:58 UTC",
         "view",
         "5817779",
         "1487580010872045658",
         "irisk",
         "0.79",
         "576802932",
         "f7257a5b-5449-4136-aa56-e373f484ffa2",
         "1",
         "1"
        ],
        [
         "18",
         "2019-12-01 00:01:01 UTC",
         "view",
         "5832416",
         "1487580009471148064",
         "missing",
         "0.95",
         "576802932",
         "01dbbcc3-b26b-4bed-bce4-1b506725a351",
         "1",
         "1"
        ],
        [
         "19",
         "2019-12-01 00:01:02 UTC",
         "view",
         "5706778",
         "1487580005268456287",
         "beautix",
         "14.13",
         "564257889",
         "a4248817-8d0d-4dac-96e6-a586563308de",
         "1",
         "1"
        ],
        [
         "20",
         "2019-12-01 00:01:11 UTC",
         "view",
         "5849033",
         "1487580005092295511",
         "uno",
         "10.32",
         "562651624",
         "f8783526-2382-454b-b417-fa48d371030f",
         "1",
         "1"
        ],
        [
         "21",
         "2019-12-01 00:01:15 UTC",
         "cart",
         "5904369",
         "1487580007675986893",
         "missing",
         "1.59",
         "348405118",
         "722ffea5-73c0-4924-8e8f-371ff8031af4",
         "1",
         "1"
        ],
        [
         "22",
         "2019-12-01 00:01:16 UTC",
         "remove_from_cart",
         "5742926",
         "1487580006317032337",
         "yoko",
         "21.78",
         "576802932",
         "51d85cb0-897f-48d2-918b-ad63965c12dc",
         "1",
         "1"
        ],
        [
         "23",
         "2019-12-01 00:01:16 UTC",
         "view",
         "5881896",
         "1487580011903844485",
         "missing",
         "3.63",
         "537197314",
         "1fc5bdf5-a94f-4e5f-8283-215b3fed14c1",
         "1",
         "1"
        ],
        [
         "24",
         "2019-12-01 00:01:19 UTC",
         "cart",
         "5600449",
         "1487580008145748965",
         "roubloff",
         "15.38",
         "546170008",
         "676d9fcc-2a4f-4448-b49d-136f2e4208c1",
         "1",
         "1"
        ],
        [
         "25",
         "2019-12-01 00:01:19 UTC",
         "view",
         "5614842",
         "1487580005411062629",
         "cnd",
         "13.56",
         "412120092",
         "8adff31e-2051-4894-9758-224bfa8aec18",
         "1",
         "1"
        ],
        [
         "26",
         "2019-12-01 00:01:22 UTC",
         "cart",
         "5666749",
         "1487580009076883471",
         "philips",
         "3.43",
         "494077766",
         "c99a50e8-2fac-4c4d-89ec-41c05f114554",
         "1",
         "1"
        ],
        [
         "27",
         "2019-12-01 00:01:22 UTC",
         "view",
         "5847872",
         "1487580006317032337",
         "missing",
         "7.94",
         "576802932",
         "d3809963-53ce-47fd-88c0-21afda8c90ca",
         "1",
         "1"
        ],
        [
         "28",
         "2019-12-01 00:01:34 UTC",
         "remove_from_cart",
         "5847872",
         "1487580006317032337",
         "missing",
         "7.94",
         "576802932",
         "51d85cb0-897f-48d2-918b-ad63965c12dc",
         "1",
         "1"
        ],
        [
         "29",
         "2019-12-01 00:01:44 UTC",
         "cart",
         "5862564",
         "1487580008145748965",
         "roubloff",
         "1.71",
         "546170008",
         "676d9fcc-2a4f-4448-b49d-136f2e4208c1",
         "1",
         "1"
        ],
        [
         "30",
         "2019-12-01 00:01:47 UTC",
         "view",
         "5732026",
         "1487580011970953351",
         "domix",
         "4.16",
         "509445281",
         "91e9d610-759a-4831-b89a-22f2ab5fbc0f",
         "1",
         "1"
        ],
        [
         "31",
         "2019-12-01 00:01:50 UTC",
         "view",
         "5795703",
         "1487580005268456287",
         "missing",
         "10.95",
         "556579890",
         "1d94a188-7fa5-4c52-a9fc-99abf8b4838f",
         "1",
         "1"
        ],
        [
         "32",
         "2019-12-01 00:01:51 UTC",
         "view",
         "5859489",
         "1487580005671109489",
         "masura",
         "1.73",
         "521863546",
         "50040a3b-8a81-483d-b0e8-8152821701f8",
         "1",
         "1"
        ],
        [
         "33",
         "2019-12-01 00:01:52 UTC",
         "cart",
         "5700046",
         "1487580009286598681",
         "runail",
         "0.4",
         "576802932",
         "51d85cb0-897f-48d2-918b-ad63965c12dc",
         "2",
         "1"
        ],
        [
         "34",
         "2019-12-01 00:01:58 UTC",
         "view",
         "5810157",
         "1487580009445982239",
         "irisk",
         "1.43",
         "494077766",
         "c99a50e8-2fac-4c4d-89ec-41c05f114554",
         "1",
         "1"
        ],
        [
         "35",
         "2019-12-01 00:02:16 UTC",
         "cart",
         "5862313",
         "1487580007675986893",
         "freedecor",
         "0.79",
         "348405118",
         "722ffea5-73c0-4924-8e8f-371ff8031af4",
         "1",
         "1"
        ],
        [
         "36",
         "2019-12-01 00:02:16 UTC",
         "view",
         "5899850",
         "2115334439910245200",
         "missing",
         "4.46",
         "538507783",
         "177b9f5a-9ef3-4e11-b31e-6efd86a9bff2",
         "1",
         "1"
        ],
        [
         "37",
         "2019-12-01 00:02:18 UTC",
         "remove_from_cart",
         "5772301",
         "1602943681873052386",
         "grattol",
         "4.76",
         "492321842",
         "d1d89629-a5f8-4aab-b42e-e8c30756396f",
         "1",
         "1"
        ],
        [
         "38",
         "2019-12-01 00:02:19 UTC",
         "remove_from_cart",
         "5772301",
         "1602943681873052386",
         "grattol",
         "4.76",
         "492321842",
         "d1d89629-a5f8-4aab-b42e-e8c30756396f",
         "1",
         "1"
        ],
        [
         "39",
         "2019-12-01 00:02:25 UTC",
         "view",
         "5772301",
         "1602943681873052386",
         "grattol",
         "4.76",
         "492321842",
         "d1d89629-a5f8-4aab-b42e-e8c30756396f",
         "1",
         "1"
        ],
        [
         "40",
         "2019-12-01 00:02:32 UTC",
         "view",
         "5817700",
         "1487580010821714008",
         "missing",
         "0.71",
         "576802932",
         "7df52373-e255-4889-9d68-e05a7f119cca",
         "1",
         "1"
        ],
        [
         "41",
         "2019-12-01 00:02:34 UTC",
         "cart",
         "5798924",
         "1783999068867920626",
         "zinger",
         "3.97",
         "579966747",
         "1512be50-d0fd-4a92-bcd8-3ea3943f2a3b",
         "1",
         "1"
        ],
        [
         "42",
         "2019-12-01 00:02:34 UTC",
         "view",
         "5695827",
         "1487580010821714008",
         "ingarden",
         "0.79",
         "576802932",
         "3abf05f0-0368-48a2-baa7-62562aed1481",
         "1",
         "1"
        ],
        [
         "43",
         "2019-12-01 00:02:40 UTC",
         "view",
         "5800015",
         "1487580005092295511",
         "missing",
         "8.89",
         "555150103",
         "66f40972-7d43-4204-877a-32ee1b1df991",
         "1",
         "1"
        ],
        [
         "44",
         "2019-12-01 00:02:40 UTC",
         "view",
         "5849033",
         "1487580005092295511",
         "uno",
         "10.32",
         "562651624",
         "f8783526-2382-454b-b417-fa48d371030f",
         "1",
         "1"
        ],
        [
         "45",
         "2019-12-01 00:02:41 UTC",
         "cart",
         "5810157",
         "1487580009445982239",
         "irisk",
         "1.43",
         "494077766",
         "c99a50e8-2fac-4c4d-89ec-41c05f114554",
         "1",
         "1"
        ],
        [
         "46",
         "2019-12-01 00:02:41 UTC",
         "view",
         "5798929",
         "1783999068909863670",
         "zinger",
         "6.19",
         "579966747",
         "1512be50-d0fd-4a92-bcd8-3ea3943f2a3b",
         "1",
         "1"
        ],
        [
         "47",
         "2019-12-01 00:02:49 UTC",
         "cart",
         "5693501",
         "1487580009445982239",
         "missing",
         "0.6",
         "579751441",
         "8de492d7-0937-47ae-be2c-a7615aec2b0d",
         "2",
         "1"
        ],
        [
         "48",
         "2019-12-01 00:02:54 UTC",
         "remove_from_cart",
         "5695827",
         "1487580010821714008",
         "ingarden",
         "0.79",
         "576802932",
         "51d85cb0-897f-48d2-918b-ad63965c12dc",
         "1",
         "1"
        ],
        [
         "49",
         "2019-12-01 00:03:02 UTC",
         "view",
         "5808510",
         "1487580013522845895",
         "irisk",
         "0.56",
         "568755469",
         "5e4fa4e9-0b52-441e-a2a2-b444bf0e1a6c",
         "1",
         "1"
        ]
       ],
       "shape": {
        "columns": 10,
        "rows": 3013845
       }
      },
      "text/html": [
       "<div>\n",
       "<style scoped>\n",
       "    .dataframe tbody tr th:only-of-type {\n",
       "        vertical-align: middle;\n",
       "    }\n",
       "\n",
       "    .dataframe tbody tr th {\n",
       "        vertical-align: top;\n",
       "    }\n",
       "\n",
       "    .dataframe thead th {\n",
       "        text-align: right;\n",
       "    }\n",
       "</style>\n",
       "<table border=\"1\" class=\"dataframe\">\n",
       "  <thead>\n",
       "    <tr style=\"text-align: right;\">\n",
       "      <th></th>\n",
       "      <th>event_time</th>\n",
       "      <th>event_type</th>\n",
       "      <th>product_id</th>\n",
       "      <th>category_id</th>\n",
       "      <th>brand</th>\n",
       "      <th>price</th>\n",
       "      <th>user_id</th>\n",
       "      <th>user_session</th>\n",
       "      <th>quantity</th>\n",
       "      <th>ANOMALY_SCORE</th>\n",
       "    </tr>\n",
       "  </thead>\n",
       "  <tbody>\n",
       "    <tr>\n",
       "      <th>0</th>\n",
       "      <td>2019-12-01 00:00:00 UTC</td>\n",
       "      <td>remove_from_cart</td>\n",
       "      <td>5712790</td>\n",
       "      <td>1487580005268456287</td>\n",
       "      <td>f.o.x</td>\n",
       "      <td>6.27</td>\n",
       "      <td>576802932</td>\n",
       "      <td>51d85cb0-897f-48d2-918b-ad63965c12dc</td>\n",
       "      <td>1</td>\n",
       "      <td>1</td>\n",
       "    </tr>\n",
       "    <tr>\n",
       "      <th>1</th>\n",
       "      <td>2019-12-01 00:00:00 UTC</td>\n",
       "      <td>view</td>\n",
       "      <td>5764655</td>\n",
       "      <td>1487580005411062629</td>\n",
       "      <td>cnd</td>\n",
       "      <td>29.05</td>\n",
       "      <td>412120092</td>\n",
       "      <td>8adff31e-2051-4894-9758-224bfa8aec18</td>\n",
       "      <td>1</td>\n",
       "      <td>1</td>\n",
       "    </tr>\n",
       "    <tr>\n",
       "      <th>2</th>\n",
       "      <td>2019-12-01 00:00:05 UTC</td>\n",
       "      <td>view</td>\n",
       "      <td>5848413</td>\n",
       "      <td>1487580007675986893</td>\n",
       "      <td>freedecor</td>\n",
       "      <td>0.79</td>\n",
       "      <td>348405118</td>\n",
       "      <td>722ffea5-73c0-4924-8e8f-371ff8031af4</td>\n",
       "      <td>1</td>\n",
       "      <td>1</td>\n",
       "    </tr>\n",
       "    <tr>\n",
       "      <th>3</th>\n",
       "      <td>2019-12-01 00:00:07 UTC</td>\n",
       "      <td>view</td>\n",
       "      <td>5824148</td>\n",
       "      <td>1487580005511725929</td>\n",
       "      <td>missing</td>\n",
       "      <td>5.56</td>\n",
       "      <td>576005683</td>\n",
       "      <td>28172809-7e4a-45ce-bab0-5efa90117cd5</td>\n",
       "      <td>1</td>\n",
       "      <td>1</td>\n",
       "    </tr>\n",
       "    <tr>\n",
       "      <th>4</th>\n",
       "      <td>2019-12-01 00:00:09 UTC</td>\n",
       "      <td>view</td>\n",
       "      <td>5773361</td>\n",
       "      <td>1487580005134238553</td>\n",
       "      <td>runail</td>\n",
       "      <td>2.62</td>\n",
       "      <td>560109803</td>\n",
       "      <td>38cf4ba1-4a0a-4c9e-b870-46685d105f95</td>\n",
       "      <td>1</td>\n",
       "      <td>1</td>\n",
       "    </tr>\n",
       "    <tr>\n",
       "      <th>...</th>\n",
       "      <td>...</td>\n",
       "      <td>...</td>\n",
       "      <td>...</td>\n",
       "      <td>...</td>\n",
       "      <td>...</td>\n",
       "      <td>...</td>\n",
       "      <td>...</td>\n",
       "      <td>...</td>\n",
       "      <td>...</td>\n",
       "      <td>...</td>\n",
       "    </tr>\n",
       "    <tr>\n",
       "      <th>3013840</th>\n",
       "      <td>2019-12-31 23:59:35 UTC</td>\n",
       "      <td>view</td>\n",
       "      <td>5784043</td>\n",
       "      <td>1487580005754995573</td>\n",
       "      <td>missing</td>\n",
       "      <td>4.92</td>\n",
       "      <td>420652863</td>\n",
       "      <td>546f6af3-a517-4752-a98b-80c4c5860711</td>\n",
       "      <td>1</td>\n",
       "      <td>1</td>\n",
       "    </tr>\n",
       "    <tr>\n",
       "      <th>3013841</th>\n",
       "      <td>2019-12-31 23:59:37 UTC</td>\n",
       "      <td>view</td>\n",
       "      <td>5834173</td>\n",
       "      <td>2151191070908613477</td>\n",
       "      <td>runail</td>\n",
       "      <td>2.62</td>\n",
       "      <td>595411904</td>\n",
       "      <td>74ca1cd5-5381-4ffe-b00b-a258b390db77</td>\n",
       "      <td>1</td>\n",
       "      <td>1</td>\n",
       "    </tr>\n",
       "    <tr>\n",
       "      <th>3013842</th>\n",
       "      <td>2019-12-31 23:59:39 UTC</td>\n",
       "      <td>view</td>\n",
       "      <td>5683350</td>\n",
       "      <td>1487580005671109489</td>\n",
       "      <td>masura</td>\n",
       "      <td>2.84</td>\n",
       "      <td>536812729</td>\n",
       "      <td>e4a2d47c-a956-4c46-8176-745f52ea664b</td>\n",
       "      <td>1</td>\n",
       "      <td>1</td>\n",
       "    </tr>\n",
       "    <tr>\n",
       "      <th>3013843</th>\n",
       "      <td>2019-12-31 23:59:52 UTC</td>\n",
       "      <td>view</td>\n",
       "      <td>5775982</td>\n",
       "      <td>1783999063314661546</td>\n",
       "      <td>missing</td>\n",
       "      <td>11.90</td>\n",
       "      <td>397780878</td>\n",
       "      <td>7e8a2b85-153a-44eb-a71f-b748fde14fcc</td>\n",
       "      <td>1</td>\n",
       "      <td>1</td>\n",
       "    </tr>\n",
       "    <tr>\n",
       "      <th>3013844</th>\n",
       "      <td>2019-12-31 23:59:57 UTC</td>\n",
       "      <td>view</td>\n",
       "      <td>5635090</td>\n",
       "      <td>1487580005754995573</td>\n",
       "      <td>missing</td>\n",
       "      <td>4.44</td>\n",
       "      <td>420652863</td>\n",
       "      <td>546f6af3-a517-4752-a98b-80c4c5860711</td>\n",
       "      <td>1</td>\n",
       "      <td>1</td>\n",
       "    </tr>\n",
       "  </tbody>\n",
       "</table>\n",
       "<p>3013845 rows × 10 columns</p>\n",
       "</div>"
      ],
      "text/plain": [
       "                      event_time        event_type  product_id  \\\n",
       "0        2019-12-01 00:00:00 UTC  remove_from_cart     5712790   \n",
       "1        2019-12-01 00:00:00 UTC              view     5764655   \n",
       "2        2019-12-01 00:00:05 UTC              view     5848413   \n",
       "3        2019-12-01 00:00:07 UTC              view     5824148   \n",
       "4        2019-12-01 00:00:09 UTC              view     5773361   \n",
       "...                          ...               ...         ...   \n",
       "3013840  2019-12-31 23:59:35 UTC              view     5784043   \n",
       "3013841  2019-12-31 23:59:37 UTC              view     5834173   \n",
       "3013842  2019-12-31 23:59:39 UTC              view     5683350   \n",
       "3013843  2019-12-31 23:59:52 UTC              view     5775982   \n",
       "3013844  2019-12-31 23:59:57 UTC              view     5635090   \n",
       "\n",
       "                 category_id      brand  price    user_id  \\\n",
       "0        1487580005268456287      f.o.x   6.27  576802932   \n",
       "1        1487580005411062629        cnd  29.05  412120092   \n",
       "2        1487580007675986893  freedecor   0.79  348405118   \n",
       "3        1487580005511725929    missing   5.56  576005683   \n",
       "4        1487580005134238553     runail   2.62  560109803   \n",
       "...                      ...        ...    ...        ...   \n",
       "3013840  1487580005754995573    missing   4.92  420652863   \n",
       "3013841  2151191070908613477     runail   2.62  595411904   \n",
       "3013842  1487580005671109489     masura   2.84  536812729   \n",
       "3013843  1783999063314661546    missing  11.90  397780878   \n",
       "3013844  1487580005754995573    missing   4.44  420652863   \n",
       "\n",
       "                                 user_session  quantity  ANOMALY_SCORE  \n",
       "0        51d85cb0-897f-48d2-918b-ad63965c12dc         1              1  \n",
       "1        8adff31e-2051-4894-9758-224bfa8aec18         1              1  \n",
       "2        722ffea5-73c0-4924-8e8f-371ff8031af4         1              1  \n",
       "3        28172809-7e4a-45ce-bab0-5efa90117cd5         1              1  \n",
       "4        38cf4ba1-4a0a-4c9e-b870-46685d105f95         1              1  \n",
       "...                                       ...       ...            ...  \n",
       "3013840  546f6af3-a517-4752-a98b-80c4c5860711         1              1  \n",
       "3013841  74ca1cd5-5381-4ffe-b00b-a258b390db77         1              1  \n",
       "3013842  e4a2d47c-a956-4c46-8176-745f52ea664b         1              1  \n",
       "3013843  7e8a2b85-153a-44eb-a71f-b748fde14fcc         1              1  \n",
       "3013844  546f6af3-a517-4752-a98b-80c4c5860711         1              1  \n",
       "\n",
       "[3013845 rows x 10 columns]"
      ]
     },
     "execution_count": 15,
     "metadata": {},
     "output_type": "execute_result"
    }
   ],
   "source": [
    "# LOADING DATA:\n",
    "import pandas as pd\n",
    "DATA=pd.read_csv(r\"C:\\Users\\Nagesh Agrawal\\OneDrive\\Desktop\\EDA\\DATA\\OUTLIER_FREE_DATA.csv\")\n",
    "DATA"
   ]
  },
  {
   "cell_type": "code",
   "execution_count": 16,
   "id": "6fb27732",
   "metadata": {},
   "outputs": [
    {
     "data": {
      "image/png": "[encoded data removed]",
      "text/plain": [
       "<Figure size 1500x1000 with 6 Axes>"
      ]
     },
     "metadata": {},
     "output_type": "display_data"
    }
   ],
   "source": [
    "import matplotlib.pyplot as plt\n",
    "DATA.hist(bins=30,figsize=(15, 10))\n",
    "plt.tight_layout()\n",
    "plt.show()\n"
   ]
  },
  {
   "cell_type": "code",
   "execution_count": 17,
   "id": "15963cb1",
   "metadata": {},
   "outputs": [
    {
     "data": {
      "text/plain": [
       "<Axes: >"
      ]
     },
     "execution_count": 17,
     "metadata": {},
     "output_type": "execute_result"
    },
    {
     "data": {
      "image/png": "[encoded data removed]",
      "text/plain": [
       "<Figure size 640x480 with 1 Axes>"
      ]
     },
     "metadata": {},
     "output_type": "display_data"
    }
   ],
   "source": [
    "DATA.boxplot()"
   ]
  },
  {
   "cell_type": "code",
   "execution_count": 18,
   "id": "9aec7ce6",
   "metadata": {},
   "outputs": [
    {
     "data": {
      "text/plain": [
       "<Axes: >"
      ]
     },
     "execution_count": 18,
     "metadata": {},
     "output_type": "execute_result"
    },
    {
     "data": {
      "image/png": "[encoded data removed]",
      "text/plain": [
       "<Figure size 640x480 with 1 Axes>"
      ]
     },
     "metadata": {},
     "output_type": "display_data"
    }
   ],
   "source": [
    "DATA[\"category_id\"].hist(bins=30)"
   ]
  },
  {
   "cell_type": "code",
   "execution_count": 19,
   "id": "1913e800",
   "metadata": {},
   "outputs": [
    {
     "data": {
      "text/plain": [
       "<Axes: ylabel='category_id'>"
      ]
     },
     "execution_count": 19,
     "metadata": {},
     "output_type": "execute_result"
    },
    {
     "data": {
      "image/png": "[encoded data removed]",
      "text/plain": [
       "<Figure size 640x480 with 1 Axes>"
      ]
     },
     "metadata": {},
     "output_type": "display_data"
    }
   ],
   "source": [
    "import seaborn as sns\n",
    "sns.boxplot(data=DATA[\"category_id\"])"
   ]
  },
  {
   "cell_type": "code",
   "execution_count": 20,
   "id": "c5c1e510",
   "metadata": {},
   "outputs": [],
   "source": [
    "# LOG TRANSFORMATION:\n",
    "import numpy as np\n",
    "DATA[\"category_id\"]=np.log(DATA[\"category_id\"])"
   ]
  },
  {
   "cell_type": "code",
   "execution_count": 21,
   "id": "46b63260",
   "metadata": {},
   "outputs": [
    {
     "data": {
      "text/plain": [
       "<Axes: >"
      ]
     },
     "execution_count": 21,
     "metadata": {},
     "output_type": "execute_result"
    },
    {
     "data": {
      "image/png": "[encoded data removed]",
      "text/plain": [
       "<Figure size 640x480 with 1 Axes>"
      ]
     },
     "metadata": {},
     "output_type": "display_data"
    }
   ],
   "source": [
    "DATA.boxplot()"
   ]
  },
  {
   "cell_type": "code",
   "execution_count": 22,
   "id": "fbfdd1c3",
   "metadata": {},
   "outputs": [],
   "source": [
    "DATA[\"user_id\"]=np.log(DATA[\"user_id\"])"
   ]
  },
  {
   "cell_type": "code",
   "execution_count": 23,
   "id": "7f43dfa3",
   "metadata": {},
   "outputs": [
    {
     "data": {
      "text/plain": [
       "<Axes: >"
      ]
     },
     "execution_count": 23,
     "metadata": {},
     "output_type": "execute_result"
    },
    {
     "data": {
      "image/png": "[encoded data removed]",
      "text/plain": [
       "<Figure size 640x480 with 1 Axes>"
      ]
     },
     "metadata": {},
     "output_type": "display_data"
    }
   ],
   "source": [
    "DATA.boxplot()"
   ]
  },
  {
   "cell_type": "code",
   "execution_count": null,
   "id": "4d4a0add",
   "metadata": {},
   "outputs": [],
   "source": [
    "# DATA[\"category_id\"]=np.sqrt(DATA[\"category_id\"])"
   ]
  }
 ],
 "metadata": {
  "kernelspec": {
   "display_name": "Python 3",
   "language": "python",
   "name": "python3"
  },
  "language_info": {
   "codemirror_mode": {
    "name": "ipython",
    "version": 3
   },
   "file_extension": ".py",
   "mimetype": "text/x-python",
   "name": "python",
   "nbconvert_exporter": "python",
   "pygments_lexer": "ipython3",
   "version": "3.11.9"
  }
 },
 "nbformat": 4,
 "nbformat_minor": 5
}
