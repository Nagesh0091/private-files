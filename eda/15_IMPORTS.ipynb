{
 "cells": [
  {
   "cell_type": "code",
   "execution_count": 2,
   "id": "89aa715b",
   "metadata": {},
   "outputs": [],
   "source": [
    "from sklearn.preprocessing import LabelEncoder"
   ]
  },
  {
   "cell_type": "code",
   "execution_count": null,
   "id": "3fc60367",
   "metadata": {},
   "outputs": [
    {
     "data": {
      "text/plain": [
       "'CUMSUM=np.cumsum(np.round(VARIENCE_PERCENTAGE,decimals=4)*100)'"
      ]
     },
     "execution_count": 2,
     "metadata": {},
     "output_type": "execute_result"
    }
   ],
   "source": [
    "# PCA:\n",
    "#  PRINCIPAL COMPONENT ANALYSIS:\n",
    "from sklearn.decomposition import PCA\n",
    "PCA=PCA()\n",
    "'''PCA_COMPONENT=PCA.fit_transform(STANDARD_DATA)'''\n",
    "\n",
    "# PCA COMPONENT ANALYSIS :\n",
    "\n",
    "'''VARIENCE=PCA.explained_variance_\n",
    "VARIENCE_PERCENTAGE=PCA.explained_variance_ratio_'''\n",
    "\n",
    "import numpy as np\n",
    "'''CUMSUM=np.cumsum(np.round(VARIENCE_PERCENTAGE,decimals=4)*100)'''\n",
    "\n",
    "# VARIENCE PLOT FOR PCA COMPONENT:\n",
    "import matplotlib.pyplot as plt\n",
    "'''plt.plot(VARIENCE_PERCENTAGE,color=\"red\")'''\n",
    "    "
   ]
  },
  {
   "cell_type": "code",
   "execution_count": null,
   "id": "d991c04d",
   "metadata": {},
   "outputs": [],
   "source": [
    "# TSNE:\n",
    "from sklearn.manifold import TSNE\n",
    "'''TSNA_DATA=TSNE(n_components=2).fit_transform(x)\n",
    "TSNA_DATA'''\n",
    "\n"
   ]
  }
 ],
 "metadata": {
  "kernelspec": {
   "display_name": "base",
   "language": "python",
   "name": "python3"
  },
  "language_info": {
   "codemirror_mode": {
    "name": "ipython",
    "version": 3
   },
   "file_extension": ".py",
   "mimetype": "text/x-python",
   "name": "python",
   "nbconvert_exporter": "python",
   "pygments_lexer": "ipython3",
   "version": "3.12.7"
  }
 },
 "nbformat": 4,
 "nbformat_minor": 5
}
