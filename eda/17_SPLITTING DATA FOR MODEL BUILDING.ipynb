{
 "cells": [
  {
   "cell_type": "code",
   "execution_count": 25,
   "id": "e4a8ef83",
   "metadata": {},
   "outputs": [],
   "source": [
    "# LOADING DATA:\n",
    "import pandas as pd\n",
    "DATA=pd.read_csv(r\"C:\\Users\\Nagesh Agrawal\\OneDrive\\Desktop\\EDA\\DATA\\Cars.csv\")"
   ]
  },
  {
   "cell_type": "code",
   "execution_count": 26,
   "id": "cd0d982a",
   "metadata": {},
   "outputs": [
    {
     "data": {
      "text/plain": [
       "Index(['HP', 'MPG', 'VOL', 'SP', 'WT'], dtype='object')"
      ]
     },
     "execution_count": 26,
     "metadata": {},
     "output_type": "execute_result"
    }
   ],
   "source": [
    "DATA.columns"
   ]
  },
  {
   "cell_type": "markdown",
   "id": "85cd0dd9",
   "metadata": {},
   "source": [
    "# 🪓 SPLITTING DATA FOR MODEL BUILDING "
   ]
  },
  {
   "cell_type": "markdown",
   "id": "e8cff0b9",
   "metadata": {},
   "source": [
    "#### DIVIDING DATA INTO X VARIABLES AND Y VARIABLE :\n"
   ]
  },
  {
   "cell_type": "code",
   "execution_count": 27,
   "id": "cab8ecb7",
   "metadata": {},
   "outputs": [],
   "source": [
    "X=DATA[['HP', 'MPG']]\n",
    "Y=DATA[\"WT\"]"
   ]
  },
  {
   "cell_type": "code",
   "execution_count": 28,
   "id": "de52549b",
   "metadata": {},
   "outputs": [],
   "source": [
    "X=DATA.iloc[: ,:-1]\n",
    "Y=DATA.iloc[:,-1]"
   ]
  },
  {
   "cell_type": "code",
   "execution_count": 29,
   "id": "657fdeb1",
   "metadata": {},
   "outputs": [],
   "source": [
    "# USING DATATYPE:\n",
    "X=DATA.select_dtypes(\"number\").drop(columns=[\"WT\"])\n",
    "Y=DATA[\"WT\"]"
   ]
  },
  {
   "cell_type": "code",
   "execution_count": 30,
   "id": "2b345883",
   "metadata": {},
   "outputs": [],
   "source": [
    "ARRAY=DATA.values\n",
    "X=ARRAY[:,:-1]\n",
    "Y=ARRAY[:,-1]\n"
   ]
  },
  {
   "cell_type": "markdown",
   "id": "76278600",
   "metadata": {},
   "source": [
    "#### DIVIDING DATA INTO TRAING AND TESTING SETS "
   ]
  },
  {
   "cell_type": "code",
   "execution_count": 31,
   "id": "a853d2bb",
   "metadata": {},
   "outputs": [],
   "source": [
    "# TRAIN TEST SPLIT:\n",
    "from sklearn.model_selection import train_test_split\n",
    "X__TRAIN, X__TEST, Y_TRAIN, Y__TEST = train_test_split(X,Y,test_size=0.3,random_state=2)"
   ]
  },
  {
   "cell_type": "markdown",
   "id": "fc2e92bc",
   "metadata": {},
   "source": [
    "#### DIVIDING DATA INTO TRAIN VALIDATION TEST SETS"
   ]
  },
  {
   "cell_type": "code",
   "execution_count": 32,
   "id": "5df69c05",
   "metadata": {},
   "outputs": [],
   "source": [
    "# TRAINING SET :- TRAIN THE MODEL\n",
    "# VALIDATION STE :- FINE TUNE HYPERPARAMETER\n",
    "# TESTING SET :- FINAL EVALUATION\n",
    "\n",
    "X__TEMPORARY, X__TEST, Y_TEMPORARY, Y__TEST = train_test_split(X,Y,test_size=0.2,random_state=2)\n",
    "X__TRAIN, X__VALIDATION, Y_TRAIN, Y_VALIDATION = train_test_split(X__TEMPORARY,Y_TEMPORARY,test_size=0.25,random_state=2) "
   ]
  },
  {
   "cell_type": "markdown",
   "id": "c0e68ca7",
   "metadata": {},
   "source": [
    "#### STRATIFIED SPLITTING FOR IMBALANCE CLASSES"
   ]
  },
  {
   "cell_type": "code",
   "execution_count": 33,
   "id": "886a65a5",
   "metadata": {},
   "outputs": [],
   "source": [
    "# USE STRATIFIED  SPLITTING TO ENSURE CLASS PROPORTION ARE CONSISTENT ACROSS SPLITS.\n",
    "# USED FOR CLASSIFICATION.\n",
    "# X__TRAIN, X__TEST, Y__TRAIN, Y__TEST = train_test_split(X,Y,test_size=0.3,stratify=Y, random_state=2)"
   ]
  },
  {
   "cell_type": "markdown",
   "id": "fac16f4f",
   "metadata": {},
   "source": [
    "#### K-FOLD CROSS_VALIDATION:"
   ]
  },
  {
   "cell_type": "code",
   "execution_count": null,
   "id": "2db276ba",
   "metadata": {},
   "outputs": [
    {
     "data": {
      "text/plain": [
       "array([0.99815729, 0.99815712, 0.99859448, 0.99111209, 0.9987322 ])"
      ]
     },
     "execution_count": 41,
     "metadata": {},
     "output_type": "execute_result"
    }
   ],
   "source": [
    "# SPLITS THE DATA INTO EQUAL PARTS (FOLDS).\n",
    "# EACH FOLD IS USED ONCE AS A TEST SET WHILE THE REMAINING FOLDS ARE TRAINING SETS.\n",
    "\n",
    "from sklearn.model_selection import KFold, cross_val_score\n",
    "\n",
    "# Set up K-Fold Cross Validation with 5 splits\n",
    "KF = KFold(n_splits=5, shuffle=True, random_state=1)\n",
    "\n",
    "from sklearn.linear_model import LinearRegression\n",
    "LR=LinearRegression()\n",
    "\n",
    "# Evaluate model using cross_val_score\n",
    "scores = cross_val_score(LR, X , Y , cv=KF) \n",
    "scores\n",
    "# for 5 splits it give 5 accuracy ."
   ]
  },
  {
   "cell_type": "markdown",
   "id": "c6db0c78",
   "metadata": {},
   "source": [
    "📌 Why it's useful:\n",
    "- Helps avoid overfitting and underfitting.\n",
    "\n",
    "- Gives you a better idea of how well your model will work on new data.\n",
    "\n",
    "- Ensures that every data point gets a chance to be in the test set."
   ]
  },
  {
   "cell_type": "markdown",
   "id": "ebb6ad41",
   "metadata": {},
   "source": [
    "#### FOR TIME SERIES ANALYSIS"
   ]
  },
  {
   "cell_type": "code",
   "execution_count": 34,
   "id": "f362210e",
   "metadata": {},
   "outputs": [],
   "source": [
    "TRAINING_SET=DATA.head(int(len(DATA)*0.8))# 80% data\n",
    "TESTING_SET=DATA.tail(int(len(DATA)*0.2))"
   ]
  },
  {
   "cell_type": "code",
   "execution_count": 35,
   "id": "d32fea8b",
   "metadata": {},
   "outputs": [],
   "source": [
    "# TIME SERIES SPLITTING FOR SEQUENCIAL DATA\n",
    "# SPLIT DATA SEQUANTIALLY TO RESPECT TIME ORDER\n",
    "# USE LIBRARIES LIKE TIMESERIESSPLIT FOR THIS PURPOSE.\n",
    "\n",
    "from sklearn.model_selection import TimeSeriesSplit\n",
    "TSS=TimeSeriesSplit(n_splits=3)\n",
    "SPLITS=list(TSS.split(DATA))\n",
    "# Access train/test indices from the first split\n",
    "train_index_0, test_index_0 = SPLITS[0]\n",
    "\n"
   ]
  }
 ],
 "metadata": {
  "kernelspec": {
   "display_name": "base",
   "language": "python",
   "name": "python3"
  },
  "language_info": {
   "codemirror_mode": {
    "name": "ipython",
    "version": 3
   },
   "file_extension": ".py",
   "mimetype": "text/x-python",
   "name": "python",
   "nbconvert_exporter": "python",
   "pygments_lexer": "ipython3",
   "version": "3.12.7"
  }
 },
 "nbformat": 4,
 "nbformat_minor": 5
}
