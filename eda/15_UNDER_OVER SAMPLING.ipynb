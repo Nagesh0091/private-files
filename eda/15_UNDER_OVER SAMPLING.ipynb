{
 "cells": [
  {
   "cell_type": "markdown",
   "id": "f63b27ef",
   "metadata": {},
   "source": [
    "# HANDLING IMBALANCED DATA"
   ]
  },
  {
   "cell_type": "markdown",
   "id": "e8076da4",
   "metadata": {},
   "source": [
    "\n",
    "---\n",
    "\n",
    "## 🎯 **Oversampling**\n",
    "\n",
    "📌 *Used to increase the number of instances in the **minority class** to balance the class distribution.*\n",
    "\n",
    "### 🔹 Random Oversampling\n",
    "\n",
    "🎲 Randomly duplicates existing minority class samples until both classes are balanced.\n",
    "\n",
    "### 🔹 SMOTE (Synthetic Minority Over-sampling Technique)\n",
    "\n",
    "🧠 Instead of just duplicating, **SMOTE** creates **synthetic examples** by *interpolating* between existing minority class samples.\n",
    "\n",
    "> **💡 What is Interpolation?**\n",
    "> It's a **mathematical method** to estimate values between two known points.\n",
    "> 👉 Simply put, it’s used to **fill the gaps** in data.\n",
    "\n",
    "---\n",
    "\n",
    "## 🧹 **Undersampling**\n",
    "\n",
    "📌 *Used to reduce the number of instances in the **majority class** to balance the class distribution.*\n",
    "\n",
    "### 🔸 Random Undersampling\n",
    "\n",
    "🧺 Randomly removes samples from the majority class until both classes are balanced.\n",
    "\n",
    "### 🔸 Cluster Centroid\n",
    "\n",
    "🔍 Uses **clustering algorithms** to find representative samples (centroids) from the majority class and replaces the bulk data with them.\n",
    "\n",
    "---\n"
   ]
  },
  {
   "cell_type": "code",
   "execution_count": 4,
   "id": "0dfc1b01",
   "metadata": {},
   "outputs": [],
   "source": [
    "# LOADING DATA:\n",
    "from sklearn.datasets import make_classification\n",
    "x,y= make_classification(n_samples=1000, n_features=2, n_redundant=0,\n",
    "                           n_clusters_per_class=1, weights=[0.9, 0.1], flip_y=0,\n",
    "                           random_state=1)"
   ]
  },
  {
   "cell_type": "code",
   "execution_count": 8,
   "id": "ef2e09cf",
   "metadata": {},
   "outputs": [
    {
     "name": "stdout",
     "output_type": "stream",
     "text": [
      "Counter({0: 900, 1: 100})\n"
     ]
    }
   ],
   "source": [
    "# TO IDENTIFY THE CLASSES ARE IMBALANCED OR NOT ?\n",
    "from collections import Counter\n",
    "\n",
    "class_counts = Counter(y)\n",
    "print(class_counts)"
   ]
  },
  {
   "cell_type": "code",
   "execution_count": 10,
   "id": "30acc532",
   "metadata": {},
   "outputs": [
    {
     "data": {
      "text/plain": [
       "dict_items([(0, 900), (1, 100)])"
      ]
     },
     "execution_count": 10,
     "metadata": {},
     "output_type": "execute_result"
    }
   ],
   "source": [
    "class_counts.items()"
   ]
  },
  {
   "cell_type": "code",
   "execution_count": 12,
   "id": "a6cb330a",
   "metadata": {},
   "outputs": [
    {
     "data": {
      "text/plain": [
       "{0: 0.9, 1: 0.1}"
      ]
     },
     "execution_count": 12,
     "metadata": {},
     "output_type": "execute_result"
    }
   ],
   "source": [
    "# CALCULATE CLASS RATIO:\n",
    "class_ratio = {cls: count / len(y) for cls, count in class_counts.items()}\n",
    "class_ratio"
   ]
  },
  {
   "cell_type": "code",
   "execution_count": 14,
   "id": "69dac282",
   "metadata": {},
   "outputs": [
    {
     "data": {
      "image/png": "[encoded data removed]",
      "text/plain": [
       "<Figure size 600x400 with 1 Axes>"
      ]
     },
     "metadata": {},
     "output_type": "display_data"
    }
   ],
   "source": [
    "import matplotlib.pyplot as plt \n",
    "plt.figure(figsize=(6,4))\n",
    "plt.bar(class_counts.keys(), class_counts.values(), color='skyblue')\n",
    "plt.title(\"Class Distribution\")\n",
    "plt.xlabel(\"Class\")\n",
    "plt.ylabel(\"Count\")\n",
    "plt.grid(axis='y', linestyle='--', alpha=0.7)\n",
    "plt.show()"
   ]
  },
  {
   "cell_type": "markdown",
   "id": "98ee886a",
   "metadata": {},
   "source": [
    "### ⚠️🎯 Class Imbalance Detection (Threshold = 0.7) 🎯⚠️\n",
    "#### 🧪 Rule:\n",
    "✅ Balanced → No class should have more than 70% of the total samples\n",
    "\n",
    "❌ Imbalanced → If any class > 70%, it’s imbalanced"
   ]
  },
  {
   "cell_type": "markdown",
   "id": "dc101183",
   "metadata": {},
   "source": [
    "---\n",
    "# 🐍 RANDOM OVERSAMPLING"
   ]
  },
  {
   "cell_type": "code",
   "execution_count": 16,
   "id": "e5096586",
   "metadata": {},
   "outputs": [
    {
     "name": "stdout",
     "output_type": "stream",
     "text": [
      "Requirement already satisfied: imbalanced_learn in c:\\users\\nagesh agrawal\\anaconda3\\lib\\site-packages (0.12.3)\n",
      "Requirement already satisfied: numpy>=1.17.3 in c:\\users\\nagesh agrawal\\anaconda3\\lib\\site-packages (from imbalanced_learn) (1.26.4)\n",
      "Requirement already satisfied: scipy>=1.5.0 in c:\\users\\nagesh agrawal\\anaconda3\\lib\\site-packages (from imbalanced_learn) (1.13.1)\n",
      "Requirement already satisfied: scikit-learn>=1.0.2 in c:\\users\\nagesh agrawal\\anaconda3\\lib\\site-packages (from imbalanced_learn) (1.5.1)\n",
      "Requirement already satisfied: joblib>=1.1.1 in c:\\users\\nagesh agrawal\\anaconda3\\lib\\site-packages (from imbalanced_learn) (1.4.2)\n",
      "Requirement already satisfied: threadpoolctl>=2.0.0 in c:\\users\\nagesh agrawal\\anaconda3\\lib\\site-packages (from imbalanced_learn) (3.5.0)\n"
     ]
    }
   ],
   "source": [
    "! pip install imbalanced_learn"
   ]
  },
  {
   "cell_type": "code",
   "execution_count": 25,
   "id": "0358df68",
   "metadata": {},
   "outputs": [
    {
     "data": {
      "application/vnd.microsoft.datawrangler.viewer.v0+json": {
       "columns": [
        {
         "name": "index",
         "rawType": "int64",
         "type": "integer"
        },
        {
         "name": "x1",
         "rawType": "float64",
         "type": "float"
        },
        {
         "name": "x2",
         "rawType": "float64",
         "type": "float"
        },
        {
         "name": "target_Y",
         "rawType": "int32",
         "type": "integer"
        }
       ],
       "conversionMethod": "pd.DataFrame",
       "ref": "bfa74e3c-e7e2-446f-8a24-931f08a9ce18",
       "rows": [
        [
         "0",
         "-0.12289294428480302",
         "0.11047044390342275",
         "0"
        ],
        [
         "1",
         "0.3360586340919116",
         "-1.332261506206129",
         "1"
        ],
        [
         "2",
         "1.404399178450118",
         "1.4169425875394064",
         "0"
        ],
        [
         "3",
         "1.6882108276734715",
         "1.1243111018425789",
         "0"
        ],
        [
         "4",
         "1.2115334273405975",
         "1.0096602058518873",
         "0"
        ],
        [
         "5",
         "1.4069135418305667",
         "0.8123579533504134",
         "0"
        ],
        [
         "6",
         "0.4950975501838102",
         "0.7511849888185591",
         "0"
        ],
        [
         "7",
         "0.7259668203120727",
         "0.8554196534607373",
         "0"
        ],
        [
         "8",
         "-0.44624632938879416",
         "-0.18445881954402843",
         "0"
        ],
        [
         "9",
         "0.7491151207561837",
         "0.2399355881337365",
         "0"
        ],
        [
         "10",
         "-0.025168822660930346",
         "-0.29120598261830155",
         "0"
        ],
        [
         "11",
         "0.15413005103649502",
         "0.1006650960482326",
         "0"
        ],
        [
         "12",
         "1.3039352644013351",
         "1.172871338327313",
         "0"
        ],
        [
         "13",
         "0.042031325032017564",
         "0.7283209904987489",
         "0"
        ],
        [
         "14",
         "1.8939083015313463",
         "1.3751651230803146",
         "0"
        ],
        [
         "15",
         "1.8023515795919924",
         "1.4995085706988545",
         "0"
        ],
        [
         "16",
         "0.11072449925902839",
         "-0.28773464800008997",
         "0"
        ],
        [
         "17",
         "2.0485258888427245",
         "1.4520084142588783",
         "0"
        ],
        [
         "18",
         "0.6869141057369657",
         "0.23441809282626447",
         "0"
        ],
        [
         "19",
         "1.3513778084799497",
         "1.1448679332476914",
         "0"
        ],
        [
         "20",
         "0.8579255992864998",
         "1.3816030746733017",
         "0"
        ],
        [
         "21",
         "0.012149644663281167",
         "0.15485518687412014",
         "0"
        ],
        [
         "22",
         "2.4634327902141564",
         "2.214182898240987",
         "0"
        ],
        [
         "23",
         "1.2271160314110556",
         "1.5392393805817506",
         "0"
        ],
        [
         "24",
         "1.2812103416370126",
         "0.9625684006318779",
         "0"
        ],
        [
         "25",
         "0.7386863006345779",
         "1.1883301591581934",
         "0"
        ],
        [
         "26",
         "1.1365561966746096",
         "1.176525559735199",
         "0"
        ],
        [
         "27",
         "1.2288287196111327",
         "0.8508646592987927",
         "0"
        ],
        [
         "28",
         "1.4266597863653112",
         "0.8473867442604748",
         "0"
        ],
        [
         "29",
         "1.2934273013171271",
         "2.4143756599917663",
         "0"
        ],
        [
         "30",
         "1.1723085465924126",
         "0.9356277945833892",
         "0"
        ],
        [
         "31",
         "1.4491824905410775",
         "-1.0181204605346887",
         "1"
        ],
        [
         "32",
         "1.2578422741576467",
         "-0.9450797435847696",
         "1"
        ],
        [
         "33",
         "-0.4709558829883371",
         "0.45003644885184424",
         "0"
        ],
        [
         "34",
         "0.8517603617106337",
         "1.4538714247918985",
         "0"
        ],
        [
         "35",
         "0.5601355327385731",
         "0.09041126867560723",
         "0"
        ],
        [
         "36",
         "1.8787264598033464",
         "-1.2659736533330643",
         "1"
        ],
        [
         "37",
         "0.33051932276682117",
         "0.3743851059947503",
         "0"
        ],
        [
         "38",
         "1.2740756043964083",
         "0.7617645071215238",
         "0"
        ],
        [
         "39",
         "1.2452932117523239",
         "0.7916184235206138",
         "0"
        ],
        [
         "40",
         "0.7483165467771826",
         "0.8415023767003988",
         "0"
        ],
        [
         "41",
         "1.7714641294440692",
         "1.5916207156649507",
         "0"
        ],
        [
         "42",
         "0.2644558298363249",
         "0.51598770328792",
         "0"
        ],
        [
         "43",
         "-0.45418528657237256",
         "0.45842252013608675",
         "0"
        ],
        [
         "44",
         "1.191784804386955",
         "1.425888447032976",
         "0"
        ],
        [
         "45",
         "0.07978197415025579",
         "0.33182159866992433",
         "0"
        ],
        [
         "46",
         "-0.04701828748863068",
         "1.1134615621076884",
         "0"
        ],
        [
         "47",
         "1.536055745707838",
         "1.0504779695536481",
         "0"
        ],
        [
         "48",
         "0.8888653265038154",
         "0.4942875507311556",
         "0"
        ],
        [
         "49",
         "0.9500647067924424",
         "0.636991328280218",
         "0"
        ]
       ],
       "shape": {
        "columns": 3,
        "rows": 1800
       }
      },
      "text/html": [
       "<div>\n",
       "<style scoped>\n",
       "    .dataframe tbody tr th:only-of-type {\n",
       "        vertical-align: middle;\n",
       "    }\n",
       "\n",
       "    .dataframe tbody tr th {\n",
       "        vertical-align: top;\n",
       "    }\n",
       "\n",
       "    .dataframe thead th {\n",
       "        text-align: right;\n",
       "    }\n",
       "</style>\n",
       "<table border=\"1\" class=\"dataframe\">\n",
       "  <thead>\n",
       "    <tr style=\"text-align: right;\">\n",
       "      <th></th>\n",
       "      <th>x1</th>\n",
       "      <th>x2</th>\n",
       "      <th>target_Y</th>\n",
       "    </tr>\n",
       "  </thead>\n",
       "  <tbody>\n",
       "    <tr>\n",
       "      <th>0</th>\n",
       "      <td>-0.122893</td>\n",
       "      <td>0.110470</td>\n",
       "      <td>0</td>\n",
       "    </tr>\n",
       "    <tr>\n",
       "      <th>1</th>\n",
       "      <td>0.336059</td>\n",
       "      <td>-1.332262</td>\n",
       "      <td>1</td>\n",
       "    </tr>\n",
       "    <tr>\n",
       "      <th>2</th>\n",
       "      <td>1.404399</td>\n",
       "      <td>1.416943</td>\n",
       "      <td>0</td>\n",
       "    </tr>\n",
       "    <tr>\n",
       "      <th>3</th>\n",
       "      <td>1.688211</td>\n",
       "      <td>1.124311</td>\n",
       "      <td>0</td>\n",
       "    </tr>\n",
       "    <tr>\n",
       "      <th>4</th>\n",
       "      <td>1.211533</td>\n",
       "      <td>1.009660</td>\n",
       "      <td>0</td>\n",
       "    </tr>\n",
       "    <tr>\n",
       "      <th>...</th>\n",
       "      <td>...</td>\n",
       "      <td>...</td>\n",
       "      <td>...</td>\n",
       "    </tr>\n",
       "    <tr>\n",
       "      <th>1795</th>\n",
       "      <td>1.263546</td>\n",
       "      <td>-1.240741</td>\n",
       "      <td>1</td>\n",
       "    </tr>\n",
       "    <tr>\n",
       "      <th>1796</th>\n",
       "      <td>1.488163</td>\n",
       "      <td>-2.007178</td>\n",
       "      <td>1</td>\n",
       "    </tr>\n",
       "    <tr>\n",
       "      <th>1797</th>\n",
       "      <td>-0.026487</td>\n",
       "      <td>0.205879</td>\n",
       "      <td>1</td>\n",
       "    </tr>\n",
       "    <tr>\n",
       "      <th>1798</th>\n",
       "      <td>0.234824</td>\n",
       "      <td>0.153098</td>\n",
       "      <td>1</td>\n",
       "    </tr>\n",
       "    <tr>\n",
       "      <th>1799</th>\n",
       "      <td>0.150900</td>\n",
       "      <td>-0.707739</td>\n",
       "      <td>1</td>\n",
       "    </tr>\n",
       "  </tbody>\n",
       "</table>\n",
       "<p>1800 rows × 3 columns</p>\n",
       "</div>"
      ],
      "text/plain": [
       "            x1        x2  target_Y\n",
       "0    -0.122893  0.110470         0\n",
       "1     0.336059 -1.332262         1\n",
       "2     1.404399  1.416943         0\n",
       "3     1.688211  1.124311         0\n",
       "4     1.211533  1.009660         0\n",
       "...        ...       ...       ...\n",
       "1795  1.263546 -1.240741         1\n",
       "1796  1.488163 -2.007178         1\n",
       "1797 -0.026487  0.205879         1\n",
       "1798  0.234824  0.153098         1\n",
       "1799  0.150900 -0.707739         1\n",
       "\n",
       "[1800 rows x 3 columns]"
      ]
     },
     "execution_count": 25,
     "metadata": {},
     "output_type": "execute_result"
    }
   ],
   "source": [
    "from imblearn.over_sampling import RandomOverSampler\n",
    "ROS=RandomOverSampler()\n",
    "X__RESAMPLE, Y__RESAMPLE = ROS.fit_resample(x,y)\n",
    "\n",
    "import pandas as pd\n",
    "\n",
    "RESAMPLED_DATA_ROS=pd.DataFrame(X__RESAMPLE,columns=[\"x1\",\"x2\"])\n",
    "RESAMPLED_DATA_ROS[\"target_Y\"]=Y__RESAMPLE\n",
    "RESAMPLED_DATA_ROS"
   ]
  },
  {
   "cell_type": "code",
   "execution_count": 26,
   "id": "45d0fa83",
   "metadata": {},
   "outputs": [
    {
     "data": {
      "text/plain": [
       "target_Y\n",
       "0    900\n",
       "1    900\n",
       "Name: count, dtype: int64"
      ]
     },
     "execution_count": 26,
     "metadata": {},
     "output_type": "execute_result"
    }
   ],
   "source": [
    "RESAMPLED_DATA_ROS[\"target_Y\"].value_counts()"
   ]
  },
  {
   "cell_type": "markdown",
   "id": "d8bbbefe",
   "metadata": {},
   "source": [
    "# 🏋🏻‍♀️ SMOTE"
   ]
  },
  {
   "cell_type": "code",
   "execution_count": 34,
   "id": "b40339ce",
   "metadata": {},
   "outputs": [
    {
     "data": {
      "application/vnd.microsoft.datawrangler.viewer.v0+json": {
       "columns": [
        {
         "name": "index",
         "rawType": "int64",
         "type": "integer"
        },
        {
         "name": "col1",
         "rawType": "float64",
         "type": "float"
        },
        {
         "name": "col2",
         "rawType": "float64",
         "type": "float"
        },
        {
         "name": "TARGET_Y",
         "rawType": "int32",
         "type": "integer"
        }
       ],
       "conversionMethod": "pd.DataFrame",
       "ref": "f0bee263-aa54-4172-b109-b36eb1c06c43",
       "rows": [
        [
         "0",
         "-0.12289294428480302",
         "0.11047044390342275",
         "0"
        ],
        [
         "1",
         "0.3360586340919116",
         "-1.332261506206129",
         "1"
        ],
        [
         "2",
         "1.404399178450118",
         "1.4169425875394064",
         "0"
        ],
        [
         "3",
         "1.6882108276734715",
         "1.1243111018425789",
         "0"
        ],
        [
         "4",
         "1.2115334273405975",
         "1.0096602058518873",
         "0"
        ],
        [
         "5",
         "1.4069135418305667",
         "0.8123579533504134",
         "0"
        ],
        [
         "6",
         "0.4950975501838102",
         "0.7511849888185591",
         "0"
        ],
        [
         "7",
         "0.7259668203120727",
         "0.8554196534607373",
         "0"
        ],
        [
         "8",
         "-0.44624632938879416",
         "-0.18445881954402843",
         "0"
        ],
        [
         "9",
         "0.7491151207561837",
         "0.2399355881337365",
         "0"
        ],
        [
         "10",
         "-0.025168822660930346",
         "-0.29120598261830155",
         "0"
        ],
        [
         "11",
         "0.15413005103649502",
         "0.1006650960482326",
         "0"
        ],
        [
         "12",
         "1.3039352644013351",
         "1.172871338327313",
         "0"
        ],
        [
         "13",
         "0.042031325032017564",
         "0.7283209904987489",
         "0"
        ],
        [
         "14",
         "1.8939083015313463",
         "1.3751651230803146",
         "0"
        ],
        [
         "15",
         "1.8023515795919924",
         "1.4995085706988545",
         "0"
        ],
        [
         "16",
         "0.11072449925902839",
         "-0.28773464800008997",
         "0"
        ],
        [
         "17",
         "2.0485258888427245",
         "1.4520084142588783",
         "0"
        ],
        [
         "18",
         "0.6869141057369657",
         "0.23441809282626447",
         "0"
        ],
        [
         "19",
         "1.3513778084799497",
         "1.1448679332476914",
         "0"
        ],
        [
         "20",
         "0.8579255992864998",
         "1.3816030746733017",
         "0"
        ],
        [
         "21",
         "0.012149644663281167",
         "0.15485518687412014",
         "0"
        ],
        [
         "22",
         "2.4634327902141564",
         "2.214182898240987",
         "0"
        ],
        [
         "23",
         "1.2271160314110556",
         "1.5392393805817506",
         "0"
        ],
        [
         "24",
         "1.2812103416370126",
         "0.9625684006318779",
         "0"
        ],
        [
         "25",
         "0.7386863006345779",
         "1.1883301591581934",
         "0"
        ],
        [
         "26",
         "1.1365561966746096",
         "1.176525559735199",
         "0"
        ],
        [
         "27",
         "1.2288287196111327",
         "0.8508646592987927",
         "0"
        ],
        [
         "28",
         "1.4266597863653112",
         "0.8473867442604748",
         "0"
        ],
        [
         "29",
         "1.2934273013171271",
         "2.4143756599917663",
         "0"
        ],
        [
         "30",
         "1.1723085465924126",
         "0.9356277945833892",
         "0"
        ],
        [
         "31",
         "1.4491824905410775",
         "-1.0181204605346887",
         "1"
        ],
        [
         "32",
         "1.2578422741576467",
         "-0.9450797435847696",
         "1"
        ],
        [
         "33",
         "-0.4709558829883371",
         "0.45003644885184424",
         "0"
        ],
        [
         "34",
         "0.8517603617106337",
         "1.4538714247918985",
         "0"
        ],
        [
         "35",
         "0.5601355327385731",
         "0.09041126867560723",
         "0"
        ],
        [
         "36",
         "1.8787264598033464",
         "-1.2659736533330643",
         "1"
        ],
        [
         "37",
         "0.33051932276682117",
         "0.3743851059947503",
         "0"
        ],
        [
         "38",
         "1.2740756043964083",
         "0.7617645071215238",
         "0"
        ],
        [
         "39",
         "1.2452932117523239",
         "0.7916184235206138",
         "0"
        ],
        [
         "40",
         "0.7483165467771826",
         "0.8415023767003988",
         "0"
        ],
        [
         "41",
         "1.7714641294440692",
         "1.5916207156649507",
         "0"
        ],
        [
         "42",
         "0.2644558298363249",
         "0.51598770328792",
         "0"
        ],
        [
         "43",
         "-0.45418528657237256",
         "0.45842252013608675",
         "0"
        ],
        [
         "44",
         "1.191784804386955",
         "1.425888447032976",
         "0"
        ],
        [
         "45",
         "0.07978197415025579",
         "0.33182159866992433",
         "0"
        ],
        [
         "46",
         "-0.04701828748863068",
         "1.1134615621076884",
         "0"
        ],
        [
         "47",
         "1.536055745707838",
         "1.0504779695536481",
         "0"
        ],
        [
         "48",
         "0.8888653265038154",
         "0.4942875507311556",
         "0"
        ],
        [
         "49",
         "0.9500647067924424",
         "0.636991328280218",
         "0"
        ]
       ],
       "shape": {
        "columns": 3,
        "rows": 1800
       }
      },
      "text/html": [
       "<div>\n",
       "<style scoped>\n",
       "    .dataframe tbody tr th:only-of-type {\n",
       "        vertical-align: middle;\n",
       "    }\n",
       "\n",
       "    .dataframe tbody tr th {\n",
       "        vertical-align: top;\n",
       "    }\n",
       "\n",
       "    .dataframe thead th {\n",
       "        text-align: right;\n",
       "    }\n",
       "</style>\n",
       "<table border=\"1\" class=\"dataframe\">\n",
       "  <thead>\n",
       "    <tr style=\"text-align: right;\">\n",
       "      <th></th>\n",
       "      <th>col1</th>\n",
       "      <th>col2</th>\n",
       "      <th>TARGET_Y</th>\n",
       "    </tr>\n",
       "  </thead>\n",
       "  <tbody>\n",
       "    <tr>\n",
       "      <th>0</th>\n",
       "      <td>-0.122893</td>\n",
       "      <td>0.110470</td>\n",
       "      <td>0</td>\n",
       "    </tr>\n",
       "    <tr>\n",
       "      <th>1</th>\n",
       "      <td>0.336059</td>\n",
       "      <td>-1.332262</td>\n",
       "      <td>1</td>\n",
       "    </tr>\n",
       "    <tr>\n",
       "      <th>2</th>\n",
       "      <td>1.404399</td>\n",
       "      <td>1.416943</td>\n",
       "      <td>0</td>\n",
       "    </tr>\n",
       "    <tr>\n",
       "      <th>3</th>\n",
       "      <td>1.688211</td>\n",
       "      <td>1.124311</td>\n",
       "      <td>0</td>\n",
       "    </tr>\n",
       "    <tr>\n",
       "      <th>4</th>\n",
       "      <td>1.211533</td>\n",
       "      <td>1.009660</td>\n",
       "      <td>0</td>\n",
       "    </tr>\n",
       "    <tr>\n",
       "      <th>...</th>\n",
       "      <td>...</td>\n",
       "      <td>...</td>\n",
       "      <td>...</td>\n",
       "    </tr>\n",
       "    <tr>\n",
       "      <th>1795</th>\n",
       "      <td>0.450576</td>\n",
       "      <td>-0.307399</td>\n",
       "      <td>1</td>\n",
       "    </tr>\n",
       "    <tr>\n",
       "      <th>1796</th>\n",
       "      <td>1.109518</td>\n",
       "      <td>-1.931969</td>\n",
       "      <td>1</td>\n",
       "    </tr>\n",
       "    <tr>\n",
       "      <th>1797</th>\n",
       "      <td>1.125405</td>\n",
       "      <td>-0.902808</td>\n",
       "      <td>1</td>\n",
       "    </tr>\n",
       "    <tr>\n",
       "      <th>1798</th>\n",
       "      <td>-0.232447</td>\n",
       "      <td>0.161793</td>\n",
       "      <td>1</td>\n",
       "    </tr>\n",
       "    <tr>\n",
       "      <th>1799</th>\n",
       "      <td>0.336987</td>\n",
       "      <td>-0.606628</td>\n",
       "      <td>1</td>\n",
       "    </tr>\n",
       "  </tbody>\n",
       "</table>\n",
       "<p>1800 rows × 3 columns</p>\n",
       "</div>"
      ],
      "text/plain": [
       "          col1      col2  TARGET_Y\n",
       "0    -0.122893  0.110470         0\n",
       "1     0.336059 -1.332262         1\n",
       "2     1.404399  1.416943         0\n",
       "3     1.688211  1.124311         0\n",
       "4     1.211533  1.009660         0\n",
       "...        ...       ...       ...\n",
       "1795  0.450576 -0.307399         1\n",
       "1796  1.109518 -1.931969         1\n",
       "1797  1.125405 -0.902808         1\n",
       "1798 -0.232447  0.161793         1\n",
       "1799  0.336987 -0.606628         1\n",
       "\n",
       "[1800 rows x 3 columns]"
      ]
     },
     "execution_count": 34,
     "metadata": {},
     "output_type": "execute_result"
    }
   ],
   "source": [
    "from imblearn.over_sampling import SMOTE\n",
    "SMT=SMOTE()\n",
    "X__RESAMPLE, Y__RESAMPLE = SMT.fit_resample(x,y)\n",
    "RESAMPLED_DATA_SMOTE=pd.DataFrame(X__RESAMPLE,columns=[\"col1\",\"col2\"])\n",
    "RESAMPLED_DATA_SMOTE[\"TARGET_Y\"]=Y__RESAMPLE\n",
    "RESAMPLED_DATA_SMOTE"
   ]
  },
  {
   "cell_type": "code",
   "execution_count": 36,
   "id": "4132b6f8",
   "metadata": {},
   "outputs": [
    {
     "data": {
      "text/plain": [
       "TARGET_Y\n",
       "0    900\n",
       "1    900\n",
       "Name: count, dtype: int64"
      ]
     },
     "execution_count": 36,
     "metadata": {},
     "output_type": "execute_result"
    }
   ],
   "source": [
    "RESAMPLED_DATA_SMOTE[\"TARGET_Y\"].value_counts()"
   ]
  },
  {
   "cell_type": "markdown",
   "id": "ac7ef4b4",
   "metadata": {},
   "source": [
    "---\n",
    "# 🐍 RANDOM UNDERSAMPLING"
   ]
  },
  {
   "cell_type": "code",
   "execution_count": 43,
   "id": "f3e483fe",
   "metadata": {},
   "outputs": [],
   "source": [
    "from imblearn.under_sampling import RandomUnderSampler\n",
    "RUS=RandomUnderSampler()\n",
    "X__RESAMPLE, Y__RESAMPLE = RUS.fit_resample(x,y)\n",
    "RESAMPLED_DATA_RUS=pd.DataFrame(X__RESAMPLE, columns=[\"COL1\",\"COL2\"])\n",
    "RESAMPLED_DATA_RUS[\"TARGET_Y\"] = Y__RESAMPLE"
   ]
  },
  {
   "cell_type": "code",
   "execution_count": 44,
   "id": "f29ec4dd",
   "metadata": {},
   "outputs": [
    {
     "data": {
      "application/vnd.microsoft.datawrangler.viewer.v0+json": {
       "columns": [
        {
         "name": "index",
         "rawType": "int64",
         "type": "integer"
        },
        {
         "name": "COL1",
         "rawType": "float64",
         "type": "float"
        },
        {
         "name": "COL2",
         "rawType": "float64",
         "type": "float"
        },
        {
         "name": "TARGET_Y",
         "rawType": "int32",
         "type": "integer"
        }
       ],
       "conversionMethod": "pd.DataFrame",
       "ref": "d6e6e58e-e85f-44f9-ad1a-c604b6327bef",
       "rows": [
        [
         "0",
         "0.24231220387301233",
         "0.23857562895454332",
         "0"
        ],
        [
         "1",
         "0.41713770153185215",
         "0.3813016580499202",
         "0"
        ],
        [
         "2",
         "0.5358782437401362",
         "1.0834385125300379",
         "0"
        ],
        [
         "3",
         "0.9258099329537841",
         "1.2097357231071686",
         "0"
        ],
        [
         "4",
         "-0.8353558370386005",
         "-0.17002975499401995",
         "0"
        ],
        [
         "5",
         "0.6347904767028967",
         "0.7763889577342239",
         "0"
        ],
        [
         "6",
         "1.1751684657922228",
         "1.1785841589571553",
         "0"
        ],
        [
         "7",
         "1.4397435328276071",
         "1.526904774825887",
         "0"
        ],
        [
         "8",
         "-0.004114963570386987",
         "0.0022844816168795523",
         "0"
        ],
        [
         "9",
         "0.4882840039866594",
         "0.5711908030187404",
         "0"
        ],
        [
         "10",
         "0.7381321384149727",
         "0.9701250808642337",
         "0"
        ],
        [
         "11",
         "1.9117036676178993",
         "1.6406131831725994",
         "0"
        ],
        [
         "12",
         "1.5597198440441205",
         "1.577160157999675",
         "0"
        ],
        [
         "13",
         "1.2478957004852362",
         "1.3640852858004164",
         "0"
        ],
        [
         "14",
         "0.6418921522097806",
         "0.45402175589654314",
         "0"
        ],
        [
         "15",
         "1.3887987660879253",
         "0.5032898372787848",
         "0"
        ],
        [
         "16",
         "1.5989658726348543",
         "1.1829197778943974",
         "0"
        ],
        [
         "17",
         "2.4190451639558166",
         "2.356768852331082",
         "0"
        ],
        [
         "18",
         "0.33980257080281984",
         "1.0896769336265049",
         "0"
        ],
        [
         "19",
         "1.480361844460079",
         "0.7038886571712382",
         "0"
        ],
        [
         "20",
         "0.18613975690244078",
         "0.4133770751735949",
         "0"
        ],
        [
         "21",
         "1.9183233370326678",
         "1.345433660248092",
         "0"
        ],
        [
         "22",
         "0.3522888462072925",
         "1.1124794098398043",
         "0"
        ],
        [
         "23",
         "0.2644558298363249",
         "0.51598770328792",
         "0"
        ],
        [
         "24",
         "0.16347896159766273",
         "0.038742844788864694",
         "0"
        ],
        [
         "25",
         "0.0732379602832901",
         "-0.279132510975312",
         "0"
        ],
        [
         "26",
         "1.4894646451953668",
         "1.6291033217155082",
         "0"
        ],
        [
         "27",
         "0.8137716507858865",
         "1.9246825769727118",
         "0"
        ],
        [
         "28",
         "1.4049556031940775",
         "0.7426340116307699",
         "0"
        ],
        [
         "29",
         "0.5040362916137475",
         "0.3393515708621987",
         "0"
        ],
        [
         "30",
         "0.6222795568882975",
         "0.8244156476350718",
         "0"
        ],
        [
         "31",
         "1.3601339602642104",
         "0.9272672423762641",
         "0"
        ],
        [
         "32",
         "1.4845881437199704",
         "1.7432042875016611",
         "0"
        ],
        [
         "33",
         "1.56813960137015",
         "1.4589233259577346",
         "0"
        ],
        [
         "34",
         "0.44423143411399324",
         "0.5745507543174004",
         "0"
        ],
        [
         "35",
         "1.0776295384196248",
         "1.0537023333541322",
         "0"
        ],
        [
         "36",
         "0.8585957254438038",
         "0.4274336741748952",
         "0"
        ],
        [
         "37",
         "0.7425265989734082",
         "0.9223603997198677",
         "0"
        ],
        [
         "38",
         "0.05159166595233633",
         "0.21818188698064667",
         "0"
        ],
        [
         "39",
         "0.9598762236968496",
         "0.8483750807662097",
         "0"
        ],
        [
         "40",
         "0.4892133382448902",
         "0.7596480053190771",
         "0"
        ],
        [
         "41",
         "0.6238388425511767",
         "0.08242920509230856",
         "0"
        ],
        [
         "42",
         "1.1703494815756348",
         "1.5108686617182778",
         "0"
        ],
        [
         "43",
         "1.0195069646561161",
         "1.2490706291498825",
         "0"
        ],
        [
         "44",
         "0.3989595786715311",
         "0.4868475215289165",
         "0"
        ],
        [
         "45",
         "0.9984693728870131",
         "1.3547145249073682",
         "0"
        ],
        [
         "46",
         "1.3039352644013351",
         "1.172871338327313",
         "0"
        ],
        [
         "47",
         "0.3963644897227303",
         "0.7964934477851475",
         "0"
        ],
        [
         "48",
         "1.3513778084799497",
         "1.1448679332476914",
         "0"
        ],
        [
         "49",
         "0.6298969422649352",
         "0.3534004818150327",
         "0"
        ]
       ],
       "shape": {
        "columns": 3,
        "rows": 200
       }
      },
      "text/html": [
       "<div>\n",
       "<style scoped>\n",
       "    .dataframe tbody tr th:only-of-type {\n",
       "        vertical-align: middle;\n",
       "    }\n",
       "\n",
       "    .dataframe tbody tr th {\n",
       "        vertical-align: top;\n",
       "    }\n",
       "\n",
       "    .dataframe thead th {\n",
       "        text-align: right;\n",
       "    }\n",
       "</style>\n",
       "<table border=\"1\" class=\"dataframe\">\n",
       "  <thead>\n",
       "    <tr style=\"text-align: right;\">\n",
       "      <th></th>\n",
       "      <th>COL1</th>\n",
       "      <th>COL2</th>\n",
       "      <th>TARGET_Y</th>\n",
       "    </tr>\n",
       "  </thead>\n",
       "  <tbody>\n",
       "    <tr>\n",
       "      <th>0</th>\n",
       "      <td>0.242312</td>\n",
       "      <td>0.238576</td>\n",
       "      <td>0</td>\n",
       "    </tr>\n",
       "    <tr>\n",
       "      <th>1</th>\n",
       "      <td>0.417138</td>\n",
       "      <td>0.381302</td>\n",
       "      <td>0</td>\n",
       "    </tr>\n",
       "    <tr>\n",
       "      <th>2</th>\n",
       "      <td>0.535878</td>\n",
       "      <td>1.083439</td>\n",
       "      <td>0</td>\n",
       "    </tr>\n",
       "    <tr>\n",
       "      <th>3</th>\n",
       "      <td>0.925810</td>\n",
       "      <td>1.209736</td>\n",
       "      <td>0</td>\n",
       "    </tr>\n",
       "    <tr>\n",
       "      <th>4</th>\n",
       "      <td>-0.835356</td>\n",
       "      <td>-0.170030</td>\n",
       "      <td>0</td>\n",
       "    </tr>\n",
       "    <tr>\n",
       "      <th>...</th>\n",
       "      <td>...</td>\n",
       "      <td>...</td>\n",
       "      <td>...</td>\n",
       "    </tr>\n",
       "    <tr>\n",
       "      <th>195</th>\n",
       "      <td>1.115618</td>\n",
       "      <td>-0.929017</td>\n",
       "      <td>1</td>\n",
       "    </tr>\n",
       "    <tr>\n",
       "      <th>196</th>\n",
       "      <td>0.554239</td>\n",
       "      <td>-1.631069</td>\n",
       "      <td>1</td>\n",
       "    </tr>\n",
       "    <tr>\n",
       "      <th>197</th>\n",
       "      <td>0.518156</td>\n",
       "      <td>-0.365740</td>\n",
       "      <td>1</td>\n",
       "    </tr>\n",
       "    <tr>\n",
       "      <th>198</th>\n",
       "      <td>0.195086</td>\n",
       "      <td>-0.210446</td>\n",
       "      <td>1</td>\n",
       "    </tr>\n",
       "    <tr>\n",
       "      <th>199</th>\n",
       "      <td>2.092513</td>\n",
       "      <td>-2.271425</td>\n",
       "      <td>1</td>\n",
       "    </tr>\n",
       "  </tbody>\n",
       "</table>\n",
       "<p>200 rows × 3 columns</p>\n",
       "</div>"
      ],
      "text/plain": [
       "         COL1      COL2  TARGET_Y\n",
       "0    0.242312  0.238576         0\n",
       "1    0.417138  0.381302         0\n",
       "2    0.535878  1.083439         0\n",
       "3    0.925810  1.209736         0\n",
       "4   -0.835356 -0.170030         0\n",
       "..        ...       ...       ...\n",
       "195  1.115618 -0.929017         1\n",
       "196  0.554239 -1.631069         1\n",
       "197  0.518156 -0.365740         1\n",
       "198  0.195086 -0.210446         1\n",
       "199  2.092513 -2.271425         1\n",
       "\n",
       "[200 rows x 3 columns]"
      ]
     },
     "execution_count": 44,
     "metadata": {},
     "output_type": "execute_result"
    }
   ],
   "source": [
    "RESAMPLED_DATA_RUS"
   ]
  },
  {
   "cell_type": "code",
   "execution_count": 45,
   "id": "195d8165",
   "metadata": {},
   "outputs": [
    {
     "data": {
      "text/plain": [
       "TARGET_Y\n",
       "0    100\n",
       "1    100\n",
       "Name: count, dtype: int64"
      ]
     },
     "execution_count": 45,
     "metadata": {},
     "output_type": "execute_result"
    }
   ],
   "source": [
    "RESAMPLED_DATA_RUS[\"TARGET_Y\"].value_counts()"
   ]
  },
  {
   "cell_type": "markdown",
   "id": "398ae3c3",
   "metadata": {},
   "source": [
    "# ⭕ CLUSTER CENTROID METHOD"
   ]
  },
  {
   "cell_type": "code",
   "execution_count": null,
   "id": "7e2bcb8d",
   "metadata": {},
   "outputs": [],
   "source": []
  }
 ],
 "metadata": {
  "kernelspec": {
   "display_name": "Python 3",
   "language": "python",
   "name": "python3"
  },
  "language_info": {
   "codemirror_mode": {
    "name": "ipython",
    "version": 3
   },
   "file_extension": ".py",
   "mimetype": "text/x-python",
   "name": "python",
   "nbconvert_exporter": "python",
   "pygments_lexer": "ipython3",
   "version": "3.13.1"
  }
 },
 "nbformat": 4,
 "nbformat_minor": 5
}
