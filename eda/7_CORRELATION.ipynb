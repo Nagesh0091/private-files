{
 "cells": [
  {
   "cell_type": "markdown",
   "id": "07dccff8",
   "metadata": {},
   "source": [
    "---\n",
    "\n",
    "# 🎯 **CORRELATION**\n",
    "🔗 A powerful statistical tool that reveals the **strength** and **direction** of a relationship between two variables.\n",
    "\n",
    "📊 It tells us how changes in one variable are **associated** with changes in another\n",
    "\n",
    "💡 In simple terms: **When one moves, does the other move too? And how?**\n",
    "\n",
    "---\n"
   ]
  },
  {
   "cell_type": "markdown",
   "id": "0615559a",
   "metadata": {},
   "source": [
    "\n",
    "\n",
    "# 🎯 **KEY CONCEPTS: CORRELATION** 🎯\n",
    "\n",
    "---\n",
    "\n",
    "### 1️⃣ Correlation Coefficient *(r)*\n",
    "\n",
    "* 📏 **Range:** –1 ⟷ +1\n",
    "* 🔼 **+1** → Perfect **positive** correlation\n",
    "\n",
    "  > Variables move **together** in the same direction\n",
    "* 🔽 **–1** → Perfect **negative** correlation\n",
    "\n",
    "  > Variables move in **opposite** directions\n",
    "* ➖ **0** → **No** linear correlation\n",
    "\n",
    "---\n",
    "\n",
    "### 2️⃣ Types of Correlation\n",
    "\n",
    "* 🟢 **Positive Correlation**\n",
    "\n",
    "  > Both variables **rise** or **fall** together\n",
    "* 🔴 **Negative Correlation**\n",
    "\n",
    "  > One variable **rises** while the other **falls**\n",
    "* ⚪ **No Correlation**\n",
    "\n",
    "  > **No** predictable relationship\n",
    "\n",
    "---\n",
    "\n",
    "### 3️⃣ Pearson Correlation Coefficient\n",
    "\n",
    "* 📊 Measures the **strength** & **direction** of a **linear** relationship\n",
    "* 🔄 **Value Range:** –1 (perfect neg.) ↔ 0 (none) ↔ +1 (perfect pos.)\n",
    "* 🛑 **Zero** → flat slope → **no** linear link\n",
    "* 🐍 **In Python:**\n",
    "\n",
    "  ```python\n",
    "  from scipy.stats import pearsonr\n",
    "  r, p_value = pearsonr(x, y)\n",
    "  # or on a DataFrame:\n",
    "  df.corr()\n",
    "  ```\n",
    "\n",
    "---\n",
    "\n",
    "✨ **Tip:** Always visualize with a scatter‑plot first—then compute **r** to confirm what your 👀 already suspect!\n",
    "\n",
    "---\n"
   ]
  },
  {
   "cell_type": "markdown",
   "id": "8b9faab3",
   "metadata": {},
   "source": [
    "**Method 1: Using corr()**\n",
    "\n",
    "df.corr()\n",
    "\n",
    "**Method 2: Using scipy**\n",
    "\n",
    "from scipy.stats import pearsonr\n",
    "\n",
    "pearsonr(x, y)"
   ]
  },
  {
   "cell_type": "code",
   "execution_count": 15,
   "id": "4c647450",
   "metadata": {},
   "outputs": [],
   "source": [
    "# LOADING DATA:\n",
    "import pandas as pd\n",
    "DATA=pd.read_csv(r\"C:\\Users\\Nagesh Agrawal\\OneDrive\\Desktop\\EDA\\DATA\\DUPLICATES_REMOVED_DATA.csv\")"
   ]
  },
  {
   "cell_type": "code",
   "execution_count": 16,
   "id": "675b3cee",
   "metadata": {},
   "outputs": [
    {
     "data": {
      "text/plain": [
       "Index(['event_time', 'event_type', 'product_id', 'category_id', 'brand',\n",
       "       'price', 'user_id', 'user_session', 'quantity'],\n",
       "      dtype='object')"
      ]
     },
     "execution_count": 16,
     "metadata": {},
     "output_type": "execute_result"
    }
   ],
   "source": [
    "DATA.columns"
   ]
  },
  {
   "cell_type": "code",
   "execution_count": 17,
   "id": "675fbf2b",
   "metadata": {},
   "outputs": [
    {
     "data": {
      "text/plain": [
       "PearsonRResult(statistic=-0.012001680429549402, pvalue=6.47140930625064e-107)"
      ]
     },
     "execution_count": 17,
     "metadata": {},
     "output_type": "execute_result"
    }
   ],
   "source": [
    "#  it also gives p-value so\n",
    "# We use pearsonr() to:\n",
    "'''\n",
    "👉 Measure the strength and direction of the linear relationship between two numeric variables.\n",
    "👉 It returns two things:\n",
    "\n",
    "👉🏽 Correlation coefficient (r) → shows how strong the relationship is\n",
    "👉🏽 p-value → tells if the relationship is statistically significant'''\n",
    "\n",
    "from scipy.stats import pearsonr\n",
    "pearsonr(DATA[\"category_id\"],DATA[\"price\"])\n",
    "\n"
   ]
  },
  {
   "cell_type": "code",
   "execution_count": 18,
   "id": "2cb0c821",
   "metadata": {},
   "outputs": [
    {
     "data": {
      "application/vnd.microsoft.datawrangler.viewer.v0+json": {
       "columns": [
        {
         "name": "index",
         "rawType": "object",
         "type": "string"
        },
        {
         "name": "product_id",
         "rawType": "float64",
         "type": "float"
        },
        {
         "name": "category_id",
         "rawType": "float64",
         "type": "float"
        },
        {
         "name": "price",
         "rawType": "float64",
         "type": "float"
        },
        {
         "name": "user_id",
         "rawType": "float64",
         "type": "float"
        },
        {
         "name": "quantity",
         "rawType": "float64",
         "type": "float"
        }
       ],
       "conversionMethod": "pd.DataFrame",
       "ref": "2439e2a0-57e9-49fc-9f9b-b0241a8ed546",
       "rows": [
        [
         "product_id",
         "1.0",
         "0.004476986416391474",
         "-0.011251019187844212",
         "-0.019185550799527617",
         "0.008117176546550862"
        ],
        [
         "category_id",
         "0.004476986416391474",
         "1.0",
         "-0.012001680429548387",
         "-0.0021597383951369852",
         "-0.0035358769002579913"
        ],
        [
         "price",
         "-0.011251019187844212",
         "-0.012001680429548387",
         "1.0",
         "0.0380457106471909",
         "-0.04375784315177953"
        ],
        [
         "user_id",
         "-0.019185550799527617",
         "-0.0021597383951369852",
         "0.0380457106471909",
         "1.0",
         "-0.024922742517004288"
        ],
        [
         "quantity",
         "0.008117176546550862",
         "-0.0035358769002579913",
         "-0.04375784315177953",
         "-0.024922742517004288",
         "1.0"
        ]
       ],
       "shape": {
        "columns": 5,
        "rows": 5
       }
      },
      "text/html": [
       "<div>\n",
       "<style scoped>\n",
       "    .dataframe tbody tr th:only-of-type {\n",
       "        vertical-align: middle;\n",
       "    }\n",
       "\n",
       "    .dataframe tbody tr th {\n",
       "        vertical-align: top;\n",
       "    }\n",
       "\n",
       "    .dataframe thead th {\n",
       "        text-align: right;\n",
       "    }\n",
       "</style>\n",
       "<table border=\"1\" class=\"dataframe\">\n",
       "  <thead>\n",
       "    <tr style=\"text-align: right;\">\n",
       "      <th></th>\n",
       "      <th>product_id</th>\n",
       "      <th>category_id</th>\n",
       "      <th>price</th>\n",
       "      <th>user_id</th>\n",
       "      <th>quantity</th>\n",
       "    </tr>\n",
       "  </thead>\n",
       "  <tbody>\n",
       "    <tr>\n",
       "      <th>product_id</th>\n",
       "      <td>1.000000</td>\n",
       "      <td>0.004477</td>\n",
       "      <td>-0.011251</td>\n",
       "      <td>-0.019186</td>\n",
       "      <td>0.008117</td>\n",
       "    </tr>\n",
       "    <tr>\n",
       "      <th>category_id</th>\n",
       "      <td>0.004477</td>\n",
       "      <td>1.000000</td>\n",
       "      <td>-0.012002</td>\n",
       "      <td>-0.002160</td>\n",
       "      <td>-0.003536</td>\n",
       "    </tr>\n",
       "    <tr>\n",
       "      <th>price</th>\n",
       "      <td>-0.011251</td>\n",
       "      <td>-0.012002</td>\n",
       "      <td>1.000000</td>\n",
       "      <td>0.038046</td>\n",
       "      <td>-0.043758</td>\n",
       "    </tr>\n",
       "    <tr>\n",
       "      <th>user_id</th>\n",
       "      <td>-0.019186</td>\n",
       "      <td>-0.002160</td>\n",
       "      <td>0.038046</td>\n",
       "      <td>1.000000</td>\n",
       "      <td>-0.024923</td>\n",
       "    </tr>\n",
       "    <tr>\n",
       "      <th>quantity</th>\n",
       "      <td>0.008117</td>\n",
       "      <td>-0.003536</td>\n",
       "      <td>-0.043758</td>\n",
       "      <td>-0.024923</td>\n",
       "      <td>1.000000</td>\n",
       "    </tr>\n",
       "  </tbody>\n",
       "</table>\n",
       "</div>"
      ],
      "text/plain": [
       "             product_id  category_id     price   user_id  quantity\n",
       "product_id     1.000000     0.004477 -0.011251 -0.019186  0.008117\n",
       "category_id    0.004477     1.000000 -0.012002 -0.002160 -0.003536\n",
       "price         -0.011251    -0.012002  1.000000  0.038046 -0.043758\n",
       "user_id       -0.019186    -0.002160  0.038046  1.000000 -0.024923\n",
       "quantity       0.008117    -0.003536 -0.043758 -0.024923  1.000000"
      ]
     },
     "execution_count": 18,
     "metadata": {},
     "output_type": "execute_result"
    }
   ],
   "source": [
    "DATA.select_dtypes(\"number\").corr()"
   ]
  },
  {
   "cell_type": "code",
   "execution_count": 19,
   "id": "c3f24664",
   "metadata": {},
   "outputs": [
    {
     "data": {
      "text/plain": [
       "<Axes: >"
      ]
     },
     "execution_count": 19,
     "metadata": {},
     "output_type": "execute_result"
    },
    {
     "data": {
      "image/png": "[encoded data removed]",
      "text/plain": [
       "<Figure size 640x480 with 2 Axes>"
      ]
     },
     "metadata": {},
     "output_type": "display_data"
    }
   ],
   "source": [
    "import seaborn as sns\n",
    "sns.heatmap(DATA.select_dtypes(\"number\").corr(),annot=True)"
   ]
  },
  {
   "cell_type": "markdown",
   "id": "01c47763",
   "metadata": {},
   "source": [
    "\n",
    "---\n",
    "\n",
    "# 🚨 **COLLINEARITY** 🚨\n",
    "📌 When two or more **independent variables** in a model are **highly correlated** with each other.\n",
    "\n",
    "---\n",
    "\n",
    "❗ **WHY IS COLLINEARITY A PROBLEM?**\n",
    "\n",
    "🔸 **1. Unreliable Results**\n",
    "📉 Regression coefficients become **unstable** and **less trustworthy**.\n",
    "\n",
    "🔸 **2. Reduced Precision**\n",
    "🎯 Increases the **standard error**, making it hard to know the **true effect** of each predictor.\n",
    "\n",
    "🔸 **3. Interpretation Issues**\n",
    "🤔 Hard to tell **which variable** is actually influencing the **outcome**—their effects get mixed.\n",
    "\n",
    "---\n",
    "\n",
    "🧠 Tip: Use **VIF (Variance Inflation Factor)** to detect collinearity!\n",
    "\n"
   ]
  },
  {
   "cell_type": "markdown",
   "id": "31972595",
   "metadata": {},
   "source": [
    "\n",
    "\n",
    "\n",
    "\n",
    "# 🎯 **COLLINEARITY DETECTION & SOLUTION** 🎯\n",
    "\n",
    "---\n",
    "\n",
    "🔍 **HOW TO DETECT COLLINEARITY?**\n",
    "\n",
    "1️⃣ **📊 Correlation Matrix**\n",
    "\n",
    "* Check for **high correlation** (close to +1 or -1) between independent variables.\n",
    "\n",
    "2️⃣ **📈 Variance Inflation Factor (VIF)**\n",
    "\n",
    "* VIF tells how much a variable is **inflated by correlation** with other predictors.\n",
    "\n",
    "🧪 For each predictor:\n",
    "Fit a regression model where the selected predictor is the **dependent variable**, and others are **independent variables**.\n",
    "\n",
    "---\n",
    "\n",
    "📚 **VIF Interpretation**:\n",
    "\n",
    "| VIF Value   | Interpretation                            |\n",
    "| ----------- | ----------------------------------------- |\n",
    "| 1           | ✅ No collinearity                         |\n",
    "| 1 < VIF < 5 | ⚠️ Moderate collinearity                  |\n",
    "| VIF > 5     | ❗ High collinearity – may be problematic  |\n",
    "| VIF > 10    | 🚨 Very high collinearity – serious issue |\n",
    "\n",
    "---\n",
    "\n",
    "🛠️ **HOW TO ADDRESS COLLINEARITY?**\n",
    "\n",
    "🔹 **❌ Remove Variables:**\n",
    "Drop one of the highly correlated variables.\n",
    "\n",
    "🔹 **🔗 Combine Variables:**\n",
    "Create a new feature by combining them (e.g., average or total).\n",
    "\n",
    "🔹 **📦 Apply PCA (Principal Component Analysis):**\n",
    "Reduce dimensionality while retaining most information.\n",
    "\n",
    "---\n"
   ]
  },
  {
   "cell_type": "code",
   "execution_count": 20,
   "id": "043518ba",
   "metadata": {},
   "outputs": [
    {
     "name": "stdout",
     "output_type": "stream",
     "text": [
      "Requirement already satisfied: statsmodels in c:\\users\\nagesh agrawal\\anaconda3\\lib\\site-packages (0.14.2)\n",
      "Requirement already satisfied: numpy>=1.22.3 in c:\\users\\nagesh agrawal\\anaconda3\\lib\\site-packages (from statsmodels) (1.26.4)\n",
      "Requirement already satisfied: scipy!=1.9.2,>=1.8 in c:\\users\\nagesh agrawal\\anaconda3\\lib\\site-packages (from statsmodels) (1.13.1)\n",
      "Requirement already satisfied: pandas!=2.1.0,>=1.4 in c:\\users\\nagesh agrawal\\anaconda3\\lib\\site-packages (from statsmodels) (2.2.2)\n",
      "Requirement already satisfied: patsy>=0.5.6 in c:\\users\\nagesh agrawal\\anaconda3\\lib\\site-packages (from statsmodels) (0.5.6)\n",
      "Requirement already satisfied: packaging>=21.3 in c:\\users\\nagesh agrawal\\anaconda3\\lib\\site-packages (from statsmodels) (24.1)\n",
      "Requirement already satisfied: python-dateutil>=2.8.2 in c:\\users\\nagesh agrawal\\anaconda3\\lib\\site-packages (from pandas!=2.1.0,>=1.4->statsmodels) (2.9.0.post0)\n",
      "Requirement already satisfied: pytz>=2020.1 in c:\\users\\nagesh agrawal\\anaconda3\\lib\\site-packages (from pandas!=2.1.0,>=1.4->statsmodels) (2024.1)\n",
      "Requirement already satisfied: tzdata>=2022.7 in c:\\users\\nagesh agrawal\\anaconda3\\lib\\site-packages (from pandas!=2.1.0,>=1.4->statsmodels) (2023.3)\n",
      "Requirement already satisfied: six in c:\\users\\nagesh agrawal\\anaconda3\\lib\\site-packages (from patsy>=0.5.6->statsmodels) (1.16.0)\n"
     ]
    }
   ],
   "source": [
    "! pip install statsmodels\n"
   ]
  },
  {
   "cell_type": "code",
   "execution_count": 21,
   "id": "e35b280e",
   "metadata": {},
   "outputs": [
    {
     "data": {
      "application/vnd.microsoft.datawrangler.viewer.v0+json": {
       "columns": [
        {
         "name": "index",
         "rawType": "int64",
         "type": "integer"
        },
        {
         "name": "product_id",
         "rawType": "int64",
         "type": "integer"
        },
        {
         "name": "category_id",
         "rawType": "int64",
         "type": "integer"
        },
        {
         "name": "price",
         "rawType": "float64",
         "type": "float"
        },
        {
         "name": "user_id",
         "rawType": "int64",
         "type": "integer"
        },
        {
         "name": "quantity",
         "rawType": "int64",
         "type": "integer"
        }
       ],
       "conversionMethod": "pd.DataFrame",
       "ref": "ecf8b6de-e837-4b5e-8131-1c56f77fc685",
       "rows": [
        [
         "0",
         "5712790",
         "1487580005268456287",
         "6.27",
         "576802932",
         "1"
        ],
        [
         "1",
         "5764655",
         "1487580005411062629",
         "29.05",
         "412120092",
         "1"
        ],
        [
         "2",
         "4958",
         "1487580009471148064",
         "1.19",
         "494077766",
         "1"
        ],
        [
         "3",
         "5848413",
         "1487580007675986893",
         "0.79",
         "348405118",
         "1"
        ],
        [
         "4",
         "5824148",
         "1487580005511725929",
         "5.56",
         "576005683",
         "1"
        ],
        [
         "5",
         "5773361",
         "1487580005134238553",
         "2.62",
         "560109803",
         "1"
        ],
        [
         "6",
         "5629988",
         "1487580009311764506",
         "1.19",
         "579966747",
         "1"
        ],
        [
         "7",
         "5807805",
         "1487580005713052531",
         "4.44",
         "576005683",
         "1"
        ],
        [
         "8",
         "5588608",
         "1487580008145748965",
         "5.4",
         "546170008",
         "1"
        ],
        [
         "9",
         "5335",
         "1487580009605365797",
         "0.4",
         "494077766",
         "1"
        ],
        [
         "10",
         "5755170",
         "1487580009387261981",
         "2.79",
         "579751441",
         "1"
        ],
        [
         "11",
         "5650294",
         "1487580007835370453",
         "3.33",
         "576802932",
         "1"
        ],
        [
         "12",
         "5755170",
         "1487580009387261981",
         "2.79",
         "579751441",
         "1"
        ],
        [
         "13",
         "5755170",
         "1487580009387261981",
         "2.79",
         "579751441",
         "1"
        ],
        [
         "14",
         "5692261",
         "1487580007835370453",
         "6.35",
         "576802932",
         "1"
        ],
        [
         "15",
         "5798929",
         "1783999068909863670",
         "6.19",
         "579966747",
         "1"
        ],
        [
         "16",
         "5694628",
         "1487580007835370453",
         "3.65",
         "576802932",
         "1"
        ],
        [
         "17",
         "3936",
         "1487580005343953762",
         "10.95",
         "579969717",
         "1"
        ],
        [
         "18",
         "5761411",
         "1487580007432717250",
         "2.86",
         "494077766",
         "1"
        ],
        [
         "19",
         "5761411",
         "1487580007432717250",
         "2.86",
         "494077766",
         "1"
        ],
        [
         "20",
         "5817779",
         "1487580010872045658",
         "0.79",
         "576802932",
         "1"
        ],
        [
         "21",
         "5832416",
         "1487580009471148064",
         "0.95",
         "576802932",
         "1"
        ],
        [
         "22",
         "5706778",
         "1487580005268456287",
         "14.13",
         "564257889",
         "1"
        ],
        [
         "23",
         "5849033",
         "1487580005092295511",
         "10.32",
         "562651624",
         "1"
        ],
        [
         "24",
         "5904369",
         "1487580007675986893",
         "1.59",
         "348405118",
         "1"
        ],
        [
         "25",
         "5742926",
         "1487580006317032337",
         "21.78",
         "576802932",
         "1"
        ],
        [
         "26",
         "5881896",
         "1487580011903844485",
         "3.63",
         "537197314",
         "1"
        ],
        [
         "27",
         "5600449",
         "1487580008145748965",
         "15.38",
         "546170008",
         "1"
        ],
        [
         "28",
         "5614842",
         "1487580005411062629",
         "13.56",
         "412120092",
         "1"
        ],
        [
         "29",
         "5666749",
         "1487580009076883471",
         "3.43",
         "494077766",
         "1"
        ],
        [
         "30",
         "5847872",
         "1487580006317032337",
         "7.94",
         "576802932",
         "1"
        ],
        [
         "31",
         "5847872",
         "1487580006317032337",
         "7.94",
         "576802932",
         "1"
        ],
        [
         "32",
         "5862564",
         "1487580008145748965",
         "1.71",
         "546170008",
         "1"
        ],
        [
         "33",
         "5732026",
         "1487580011970953351",
         "4.16",
         "509445281",
         "1"
        ],
        [
         "34",
         "5795703",
         "1487580005268456287",
         "10.95",
         "556579890",
         "1"
        ],
        [
         "35",
         "5859489",
         "1487580005671109489",
         "1.73",
         "521863546",
         "1"
        ],
        [
         "36",
         "5700046",
         "1487580009286598681",
         "0.4",
         "576802932",
         "2"
        ],
        [
         "37",
         "5810157",
         "1487580009445982239",
         "1.43",
         "494077766",
         "1"
        ],
        [
         "38",
         "5862313",
         "1487580007675986893",
         "0.79",
         "348405118",
         "1"
        ],
        [
         "39",
         "5899850",
         "2115334439910245200",
         "4.46",
         "538507783",
         "1"
        ],
        [
         "40",
         "5772301",
         "1602943681873052386",
         "4.76",
         "492321842",
         "1"
        ],
        [
         "41",
         "5772301",
         "1602943681873052386",
         "4.76",
         "492321842",
         "1"
        ],
        [
         "42",
         "5772301",
         "1602943681873052386",
         "4.76",
         "492321842",
         "1"
        ],
        [
         "43",
         "5817700",
         "1487580010821714008",
         "0.71",
         "576802932",
         "1"
        ],
        [
         "44",
         "5798924",
         "1783999068867920626",
         "3.97",
         "579966747",
         "1"
        ],
        [
         "45",
         "5695827",
         "1487580010821714008",
         "0.79",
         "576802932",
         "1"
        ],
        [
         "46",
         "5590822",
         "1487580006300255120",
         "194.44",
         "509449396",
         "1"
        ],
        [
         "47",
         "5800015",
         "1487580005092295511",
         "8.89",
         "555150103",
         "1"
        ],
        [
         "48",
         "5849033",
         "1487580005092295511",
         "10.32",
         "562651624",
         "1"
        ],
        [
         "49",
         "5810157",
         "1487580009445982239",
         "1.43",
         "494077766",
         "1"
        ]
       ],
       "shape": {
        "columns": 5,
        "rows": 3348712
       }
      },
      "text/html": [
       "<div>\n",
       "<style scoped>\n",
       "    .dataframe tbody tr th:only-of-type {\n",
       "        vertical-align: middle;\n",
       "    }\n",
       "\n",
       "    .dataframe tbody tr th {\n",
       "        vertical-align: top;\n",
       "    }\n",
       "\n",
       "    .dataframe thead th {\n",
       "        text-align: right;\n",
       "    }\n",
       "</style>\n",
       "<table border=\"1\" class=\"dataframe\">\n",
       "  <thead>\n",
       "    <tr style=\"text-align: right;\">\n",
       "      <th></th>\n",
       "      <th>product_id</th>\n",
       "      <th>category_id</th>\n",
       "      <th>price</th>\n",
       "      <th>user_id</th>\n",
       "      <th>quantity</th>\n",
       "    </tr>\n",
       "  </thead>\n",
       "  <tbody>\n",
       "    <tr>\n",
       "      <th>0</th>\n",
       "      <td>5712790</td>\n",
       "      <td>1487580005268456287</td>\n",
       "      <td>6.27</td>\n",
       "      <td>576802932</td>\n",
       "      <td>1</td>\n",
       "    </tr>\n",
       "    <tr>\n",
       "      <th>1</th>\n",
       "      <td>5764655</td>\n",
       "      <td>1487580005411062629</td>\n",
       "      <td>29.05</td>\n",
       "      <td>412120092</td>\n",
       "      <td>1</td>\n",
       "    </tr>\n",
       "    <tr>\n",
       "      <th>2</th>\n",
       "      <td>4958</td>\n",
       "      <td>1487580009471148064</td>\n",
       "      <td>1.19</td>\n",
       "      <td>494077766</td>\n",
       "      <td>1</td>\n",
       "    </tr>\n",
       "    <tr>\n",
       "      <th>3</th>\n",
       "      <td>5848413</td>\n",
       "      <td>1487580007675986893</td>\n",
       "      <td>0.79</td>\n",
       "      <td>348405118</td>\n",
       "      <td>1</td>\n",
       "    </tr>\n",
       "    <tr>\n",
       "      <th>4</th>\n",
       "      <td>5824148</td>\n",
       "      <td>1487580005511725929</td>\n",
       "      <td>5.56</td>\n",
       "      <td>576005683</td>\n",
       "      <td>1</td>\n",
       "    </tr>\n",
       "    <tr>\n",
       "      <th>...</th>\n",
       "      <td>...</td>\n",
       "      <td>...</td>\n",
       "      <td>...</td>\n",
       "      <td>...</td>\n",
       "      <td>...</td>\n",
       "    </tr>\n",
       "    <tr>\n",
       "      <th>3348707</th>\n",
       "      <td>5683350</td>\n",
       "      <td>1487580005671109489</td>\n",
       "      <td>2.84</td>\n",
       "      <td>536812729</td>\n",
       "      <td>1</td>\n",
       "    </tr>\n",
       "    <tr>\n",
       "      <th>3348708</th>\n",
       "      <td>5888097</td>\n",
       "      <td>1487580013388628160</td>\n",
       "      <td>179.05</td>\n",
       "      <td>503658154</td>\n",
       "      <td>1</td>\n",
       "    </tr>\n",
       "    <tr>\n",
       "      <th>3348709</th>\n",
       "      <td>59975</td>\n",
       "      <td>1487580012096782476</td>\n",
       "      <td>7.14</td>\n",
       "      <td>595414541</td>\n",
       "      <td>1</td>\n",
       "    </tr>\n",
       "    <tr>\n",
       "      <th>3348710</th>\n",
       "      <td>5775982</td>\n",
       "      <td>1783999063314661546</td>\n",
       "      <td>11.90</td>\n",
       "      <td>397780878</td>\n",
       "      <td>1</td>\n",
       "    </tr>\n",
       "    <tr>\n",
       "      <th>3348711</th>\n",
       "      <td>5635090</td>\n",
       "      <td>1487580005754995573</td>\n",
       "      <td>4.44</td>\n",
       "      <td>420652863</td>\n",
       "      <td>1</td>\n",
       "    </tr>\n",
       "  </tbody>\n",
       "</table>\n",
       "<p>3348712 rows × 5 columns</p>\n",
       "</div>"
      ],
      "text/plain": [
       "         product_id          category_id   price    user_id  quantity\n",
       "0           5712790  1487580005268456287    6.27  576802932         1\n",
       "1           5764655  1487580005411062629   29.05  412120092         1\n",
       "2              4958  1487580009471148064    1.19  494077766         1\n",
       "3           5848413  1487580007675986893    0.79  348405118         1\n",
       "4           5824148  1487580005511725929    5.56  576005683         1\n",
       "...             ...                  ...     ...        ...       ...\n",
       "3348707     5683350  1487580005671109489    2.84  536812729         1\n",
       "3348708     5888097  1487580013388628160  179.05  503658154         1\n",
       "3348709       59975  1487580012096782476    7.14  595414541         1\n",
       "3348710     5775982  1783999063314661546   11.90  397780878         1\n",
       "3348711     5635090  1487580005754995573    4.44  420652863         1\n",
       "\n",
       "[3348712 rows x 5 columns]"
      ]
     },
     "execution_count": 21,
     "metadata": {},
     "output_type": "execute_result"
    }
   ],
   "source": [
    "\n",
    "independent_variables=DATA[DATA.select_dtypes(\"number\").columns]\n",
    "independent_variables"
   ]
  },
  {
   "cell_type": "code",
   "execution_count": 22,
   "id": "0f5cd3ff",
   "metadata": {},
   "outputs": [],
   "source": [
    "# 2. Add a constant column (intercept) to the model\n",
    "from statsmodels.tools.tools import add_constant\n",
    "X = add_constant(independent_variables)"
   ]
  },
  {
   "cell_type": "code",
   "execution_count": 24,
   "id": "5f0519a0",
   "metadata": {},
   "outputs": [
    {
     "data": {
      "text/plain": [
       "5"
      ]
     },
     "execution_count": 24,
     "metadata": {},
     "output_type": "execute_result"
    }
   ],
   "source": [
    "independent_variables.shape[1]"
   ]
  },
  {
   "cell_type": "code",
   "execution_count": 23,
   "id": "dc9e8bbf",
   "metadata": {},
   "outputs": [
    {
     "data": {
      "application/vnd.microsoft.datawrangler.viewer.v0+json": {
       "columns": [
        {
         "name": "index",
         "rawType": "int64",
         "type": "integer"
        },
        {
         "name": "Feature",
         "rawType": "object",
         "type": "string"
        },
        {
         "name": "VIF",
         "rawType": "float64",
         "type": "float"
        }
       ],
       "conversionMethod": "pd.DataFrame",
       "ref": "3d55b352-5456-4170-99e4-17a1eb3f4f10",
       "rows": [
        [
         "0",
         "product_id",
         "0.8768100226738027"
        ],
        [
         "1",
         "category_id",
         "0.4705617430640734"
        ],
        [
         "2",
         "price",
         "1.0007345417550744"
        ],
        [
         "3",
         "user_id",
         "0.7247071490761494"
        ],
        [
         "4",
         "quantity",
         "0.8806087392213121"
        ]
       ],
       "shape": {
        "columns": 2,
        "rows": 5
       }
      },
      "text/html": [
       "<div>\n",
       "<style scoped>\n",
       "    .dataframe tbody tr th:only-of-type {\n",
       "        vertical-align: middle;\n",
       "    }\n",
       "\n",
       "    .dataframe tbody tr th {\n",
       "        vertical-align: top;\n",
       "    }\n",
       "\n",
       "    .dataframe thead th {\n",
       "        text-align: right;\n",
       "    }\n",
       "</style>\n",
       "<table border=\"1\" class=\"dataframe\">\n",
       "  <thead>\n",
       "    <tr style=\"text-align: right;\">\n",
       "      <th></th>\n",
       "      <th>Feature</th>\n",
       "      <th>VIF</th>\n",
       "    </tr>\n",
       "  </thead>\n",
       "  <tbody>\n",
       "    <tr>\n",
       "      <th>0</th>\n",
       "      <td>product_id</td>\n",
       "      <td>0.876810</td>\n",
       "    </tr>\n",
       "    <tr>\n",
       "      <th>1</th>\n",
       "      <td>category_id</td>\n",
       "      <td>0.470562</td>\n",
       "    </tr>\n",
       "    <tr>\n",
       "      <th>2</th>\n",
       "      <td>price</td>\n",
       "      <td>1.000735</td>\n",
       "    </tr>\n",
       "    <tr>\n",
       "      <th>3</th>\n",
       "      <td>user_id</td>\n",
       "      <td>0.724707</td>\n",
       "    </tr>\n",
       "    <tr>\n",
       "      <th>4</th>\n",
       "      <td>quantity</td>\n",
       "      <td>0.880609</td>\n",
       "    </tr>\n",
       "  </tbody>\n",
       "</table>\n",
       "</div>"
      ],
      "text/plain": [
       "       Feature       VIF\n",
       "0   product_id  0.876810\n",
       "1  category_id  0.470562\n",
       "2        price  1.000735\n",
       "3      user_id  0.724707\n",
       "4     quantity  0.880609"
      ]
     },
     "execution_count": 23,
     "metadata": {},
     "output_type": "execute_result"
    }
   ],
   "source": [
    "# 3. Calculate VIF for each variable\n",
    "from statsmodels.stats.outliers_influence import variance_inflation_factor\n",
    "vif_data = pd.DataFrame()\n",
    "vif_data[\"Feature\"] = independent_variables.columns\n",
    "vif_data[\"VIF\"] = [variance_inflation_factor(independent_variables.values, i) for i in range(independent_variables.shape[1])]\n",
    "vif_data"
   ]
  }
 ],
 "metadata": {
  "kernelspec": {
   "display_name": "Python 3",
   "language": "python",
   "name": "python3"
  },
  "language_info": {
   "codemirror_mode": {
    "name": "ipython",
    "version": 3
   },
   "file_extension": ".py",
   "mimetype": "text/x-python",
   "name": "python",
   "nbconvert_exporter": "python",
   "pygments_lexer": "ipython3",
   "version": "3.11.9"
  }
 },
 "nbformat": 4,
 "nbformat_minor": 5
}
