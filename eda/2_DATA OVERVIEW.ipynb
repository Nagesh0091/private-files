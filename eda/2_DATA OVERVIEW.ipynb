{
 "cells": [
  {
   "cell_type": "code",
   "execution_count": 1,
   "id": "c4aa87f3",
   "metadata": {},
   "outputs": [],
   "source": [
    "# LOADING DATA:\n",
    "import pandas as pd\n",
    "DATA=pd.read_csv(r\"C:\\Users\\Nagesh Agrawal\\OneDrive\\Desktop\\EDA\\DATA\\archive (1)\\2019-Dec.csv\")    "
   ]
  },
  {
   "cell_type": "code",
   "execution_count": 2,
   "id": "5cf1599c",
   "metadata": {},
   "outputs": [
    {
     "data": {
      "application/vnd.microsoft.datawrangler.viewer.v0+json": {
       "columns": [
        {
         "name": "index",
         "rawType": "int64",
         "type": "integer"
        },
        {
         "name": "event_time",
         "rawType": "object",
         "type": "string"
        },
        {
         "name": "event_type",
         "rawType": "object",
         "type": "string"
        },
        {
         "name": "product_id",
         "rawType": "int64",
         "type": "integer"
        },
        {
         "name": "category_id",
         "rawType": "int64",
         "type": "integer"
        },
        {
         "name": "category_code",
         "rawType": "object",
         "type": "unknown"
        },
        {
         "name": "brand",
         "rawType": "object",
         "type": "unknown"
        },
        {
         "name": "price",
         "rawType": "float64",
         "type": "float"
        },
        {
         "name": "user_id",
         "rawType": "int64",
         "type": "integer"
        },
        {
         "name": "user_session",
         "rawType": "object",
         "type": "unknown"
        }
       ],
       "conversionMethod": "pd.DataFrame",
       "ref": "c42a4e91-cccd-4c7a-9608-dbe14566819b",
       "rows": [
        [
         "0",
         "2019-12-01 00:00:00 UTC",
         "remove_from_cart",
         "5712790",
         "1487580005268456287",
         null,
         "f.o.x",
         "6.27",
         "576802932",
         "51d85cb0-897f-48d2-918b-ad63965c12dc"
        ],
        [
         "1",
         "2019-12-01 00:00:00 UTC",
         "view",
         "5764655",
         "1487580005411062629",
         null,
         "cnd",
         "29.05",
         "412120092",
         "8adff31e-2051-4894-9758-224bfa8aec18"
        ],
        [
         "2",
         "2019-12-01 00:00:02 UTC",
         "cart",
         "4958",
         "1487580009471148064",
         null,
         "runail",
         "1.19",
         "494077766",
         "c99a50e8-2fac-4c4d-89ec-41c05f114554"
        ],
        [
         "3",
         "2019-12-01 00:00:05 UTC",
         "view",
         "5848413",
         "1487580007675986893",
         null,
         "freedecor",
         "0.79",
         "348405118",
         "722ffea5-73c0-4924-8e8f-371ff8031af4"
        ],
        [
         "4",
         "2019-12-01 00:00:07 UTC",
         "view",
         "5824148",
         "1487580005511725929",
         null,
         null,
         "5.56",
         "576005683",
         "28172809-7e4a-45ce-bab0-5efa90117cd5"
        ],
        [
         "5",
         "2019-12-01 00:00:09 UTC",
         "view",
         "5773361",
         "1487580005134238553",
         null,
         "runail",
         "2.62",
         "560109803",
         "38cf4ba1-4a0a-4c9e-b870-46685d105f95"
        ],
        [
         "6",
         "2019-12-01 00:00:18 UTC",
         "cart",
         "5629988",
         "1487580009311764506",
         null,
         null,
         "1.19",
         "579966747",
         "1512be50-d0fd-4a92-bcd8-3ea3943f2a3b"
        ],
        [
         "7",
         "2019-12-01 00:00:22 UTC",
         "view",
         "5807805",
         "1487580005713052531",
         null,
         "ingarden",
         "4.44",
         "576005683",
         "28172809-7e4a-45ce-bab0-5efa90117cd5"
        ],
        [
         "8",
         "2019-12-01 00:00:27 UTC",
         "view",
         "5588608",
         "1487580008145748965",
         null,
         "roubloff",
         "5.4",
         "546170008",
         "676d9fcc-2a4f-4448-b49d-136f2e4208c1"
        ],
        [
         "9",
         "2019-12-01 00:00:34 UTC",
         "cart",
         "5335",
         "1487580009605365797",
         null,
         "runail",
         "0.4",
         "494077766",
         "c99a50e8-2fac-4c4d-89ec-41c05f114554"
        ],
        [
         "10",
         "2019-12-01 00:00:40 UTC",
         "cart",
         "5755170",
         "1487580009387261981",
         null,
         null,
         "2.79",
         "579751441",
         "8de492d7-0937-47ae-be2c-a7615aec2b0d"
        ],
        [
         "11",
         "2019-12-01 00:00:44 UTC",
         "remove_from_cart",
         "5650294",
         "1487580007835370453",
         null,
         "metzger",
         "3.33",
         "576802932",
         "51d85cb0-897f-48d2-918b-ad63965c12dc"
        ],
        [
         "12",
         "2019-12-01 00:00:45 UTC",
         "cart",
         "5755170",
         "1487580009387261981",
         null,
         null,
         "2.79",
         "579751441",
         "8de492d7-0937-47ae-be2c-a7615aec2b0d"
        ],
        [
         "13",
         "2019-12-01 00:00:46 UTC",
         "remove_from_cart",
         "5692261",
         "1487580007835370453",
         null,
         "staleks",
         "6.35",
         "576802932",
         "51d85cb0-897f-48d2-918b-ad63965c12dc"
        ],
        [
         "14",
         "2019-12-01 00:00:46 UTC",
         "view",
         "5798929",
         "1783999068909863670",
         null,
         "zinger",
         "6.19",
         "579966747",
         "1512be50-d0fd-4a92-bcd8-3ea3943f2a3b"
        ],
        [
         "15",
         "2019-12-01 00:00:46 UTC",
         "cart",
         "5755170",
         "1487580009387261981",
         null,
         null,
         "2.79",
         "579751441",
         "8de492d7-0937-47ae-be2c-a7615aec2b0d"
        ],
        [
         "16",
         "2019-12-01 00:00:49 UTC",
         "remove_from_cart",
         "5694628",
         "1487580007835370453",
         null,
         "yoko",
         "3.65",
         "576802932",
         "51d85cb0-897f-48d2-918b-ad63965c12dc"
        ],
        [
         "17",
         "2019-12-01 00:00:50 UTC",
         "view",
         "3936",
         "1487580005343953762",
         null,
         "entity",
         "10.95",
         "579969717",
         "006dd2fb-ae1e-4461-985a-d4e70ca64543"
        ],
        [
         "18",
         "2019-12-01 00:00:52 UTC",
         "cart",
         "5761411",
         "1487580007432717250",
         null,
         "ingarden",
         "2.86",
         "494077766",
         "c99a50e8-2fac-4c4d-89ec-41c05f114554"
        ],
        [
         "19",
         "2019-12-01 00:00:58 UTC",
         "cart",
         "5761411",
         "1487580007432717250",
         null,
         "ingarden",
         "2.86",
         "494077766",
         "c99a50e8-2fac-4c4d-89ec-41c05f114554"
        ],
        [
         "20",
         "2019-12-01 00:00:58 UTC",
         "view",
         "5817779",
         "1487580010872045658",
         null,
         "irisk",
         "0.79",
         "576802932",
         "f7257a5b-5449-4136-aa56-e373f484ffa2"
        ],
        [
         "21",
         "2019-12-01 00:01:01 UTC",
         "view",
         "5832416",
         "1487580009471148064",
         null,
         null,
         "0.95",
         "576802932",
         "01dbbcc3-b26b-4bed-bce4-1b506725a351"
        ],
        [
         "22",
         "2019-12-01 00:01:02 UTC",
         "view",
         "5706778",
         "1487580005268456287",
         null,
         "beautix",
         "14.13",
         "564257889",
         "a4248817-8d0d-4dac-96e6-a586563308de"
        ],
        [
         "23",
         "2019-12-01 00:01:11 UTC",
         "view",
         "5849033",
         "1487580005092295511",
         null,
         "uno",
         "10.32",
         "562651624",
         "f8783526-2382-454b-b417-fa48d371030f"
        ],
        [
         "24",
         "2019-12-01 00:01:15 UTC",
         "cart",
         "5904369",
         "1487580007675986893",
         null,
         null,
         "1.59",
         "348405118",
         "722ffea5-73c0-4924-8e8f-371ff8031af4"
        ],
        [
         "25",
         "2019-12-01 00:01:16 UTC",
         "view",
         "5881896",
         "1487580011903844485",
         null,
         null,
         "3.63",
         "537197314",
         "1fc5bdf5-a94f-4e5f-8283-215b3fed14c1"
        ],
        [
         "26",
         "2019-12-01 00:01:16 UTC",
         "remove_from_cart",
         "5742926",
         "1487580006317032337",
         null,
         "yoko",
         "21.78",
         "576802932",
         "51d85cb0-897f-48d2-918b-ad63965c12dc"
        ],
        [
         "27",
         "2019-12-01 00:01:19 UTC",
         "cart",
         "5600449",
         "1487580008145748965",
         null,
         "roubloff",
         "15.38",
         "546170008",
         "676d9fcc-2a4f-4448-b49d-136f2e4208c1"
        ],
        [
         "28",
         "2019-12-01 00:01:19 UTC",
         "view",
         "5614842",
         "1487580005411062629",
         null,
         "cnd",
         "13.56",
         "412120092",
         "8adff31e-2051-4894-9758-224bfa8aec18"
        ],
        [
         "29",
         "2019-12-01 00:01:22 UTC",
         "cart",
         "5666749",
         "1487580009076883471",
         null,
         "philips",
         "3.43",
         "494077766",
         "c99a50e8-2fac-4c4d-89ec-41c05f114554"
        ],
        [
         "30",
         "2019-12-01 00:01:22 UTC",
         "view",
         "5847872",
         "1487580006317032337",
         null,
         null,
         "7.94",
         "576802932",
         "d3809963-53ce-47fd-88c0-21afda8c90ca"
        ],
        [
         "31",
         "2019-12-01 00:01:34 UTC",
         "remove_from_cart",
         "5847872",
         "1487580006317032337",
         null,
         null,
         "7.94",
         "576802932",
         "51d85cb0-897f-48d2-918b-ad63965c12dc"
        ],
        [
         "32",
         "2019-12-01 00:01:44 UTC",
         "cart",
         "5862564",
         "1487580008145748965",
         null,
         "roubloff",
         "1.71",
         "546170008",
         "676d9fcc-2a4f-4448-b49d-136f2e4208c1"
        ],
        [
         "33",
         "2019-12-01 00:01:47 UTC",
         "view",
         "5732026",
         "1487580011970953351",
         "furniture.bathroom.bath",
         "domix",
         "4.16",
         "509445281",
         "91e9d610-759a-4831-b89a-22f2ab5fbc0f"
        ],
        [
         "34",
         "2019-12-01 00:01:50 UTC",
         "view",
         "5795703",
         "1487580005268456287",
         null,
         null,
         "10.95",
         "556579890",
         "1d94a188-7fa5-4c52-a9fc-99abf8b4838f"
        ],
        [
         "35",
         "2019-12-01 00:01:51 UTC",
         "view",
         "5859489",
         "1487580005671109489",
         null,
         "masura",
         "1.73",
         "521863546",
         "50040a3b-8a81-483d-b0e8-8152821701f8"
        ],
        [
         "36",
         "2019-12-01 00:01:52 UTC",
         "cart",
         "5700046",
         "1487580009286598681",
         null,
         "runail",
         "0.4",
         "576802932",
         "51d85cb0-897f-48d2-918b-ad63965c12dc"
        ],
        [
         "37",
         "2019-12-01 00:01:52 UTC",
         "cart",
         "5700046",
         "1487580009286598681",
         null,
         "runail",
         "0.4",
         "576802932",
         "51d85cb0-897f-48d2-918b-ad63965c12dc"
        ],
        [
         "38",
         "2019-12-01 00:01:58 UTC",
         "view",
         "5810157",
         "1487580009445982239",
         null,
         "irisk",
         "1.43",
         "494077766",
         "c99a50e8-2fac-4c4d-89ec-41c05f114554"
        ],
        [
         "39",
         "2019-12-01 00:02:16 UTC",
         "view",
         "5899850",
         "2115334439910245200",
         null,
         null,
         "4.46",
         "538507783",
         "177b9f5a-9ef3-4e11-b31e-6efd86a9bff2"
        ],
        [
         "40",
         "2019-12-01 00:02:16 UTC",
         "cart",
         "5862313",
         "1487580007675986893",
         null,
         "freedecor",
         "0.79",
         "348405118",
         "722ffea5-73c0-4924-8e8f-371ff8031af4"
        ],
        [
         "41",
         "2019-12-01 00:02:18 UTC",
         "remove_from_cart",
         "5772301",
         "1602943681873052386",
         null,
         "grattol",
         "4.76",
         "492321842",
         "d1d89629-a5f8-4aab-b42e-e8c30756396f"
        ],
        [
         "42",
         "2019-12-01 00:02:19 UTC",
         "remove_from_cart",
         "5772301",
         "1602943681873052386",
         null,
         "grattol",
         "4.76",
         "492321842",
         "d1d89629-a5f8-4aab-b42e-e8c30756396f"
        ],
        [
         "43",
         "2019-12-01 00:02:25 UTC",
         "view",
         "5772301",
         "1602943681873052386",
         null,
         "grattol",
         "4.76",
         "492321842",
         "d1d89629-a5f8-4aab-b42e-e8c30756396f"
        ],
        [
         "44",
         "2019-12-01 00:02:32 UTC",
         "view",
         "5817700",
         "1487580010821714008",
         null,
         null,
         "0.71",
         "576802932",
         "7df52373-e255-4889-9d68-e05a7f119cca"
        ],
        [
         "45",
         "2019-12-01 00:02:34 UTC",
         "cart",
         "5798924",
         "1783999068867920626",
         null,
         "zinger",
         "3.97",
         "579966747",
         "1512be50-d0fd-4a92-bcd8-3ea3943f2a3b"
        ],
        [
         "46",
         "2019-12-01 00:02:34 UTC",
         "view",
         "5695827",
         "1487580010821714008",
         null,
         "ingarden",
         "0.79",
         "576802932",
         "3abf05f0-0368-48a2-baa7-62562aed1481"
        ],
        [
         "47",
         "2019-12-01 00:02:36 UTC",
         "view",
         "5590822",
         "1487580006300255120",
         null,
         "strong",
         "194.44",
         "509449396",
         "35baf72e-d65a-422b-8d46-d62a52985877"
        ],
        [
         "48",
         "2019-12-01 00:02:40 UTC",
         "view",
         "5800015",
         "1487580005092295511",
         null,
         null,
         "8.89",
         "555150103",
         "66f40972-7d43-4204-877a-32ee1b1df991"
        ],
        [
         "49",
         "2019-12-01 00:02:40 UTC",
         "view",
         "5849033",
         "1487580005092295511",
         null,
         "uno",
         "10.32",
         "562651624",
         "f8783526-2382-454b-b417-fa48d371030f"
        ]
       ],
       "shape": {
        "columns": 9,
        "rows": 3533286
       }
      },
      "text/html": [
       "<div>\n",
       "<style scoped>\n",
       "    .dataframe tbody tr th:only-of-type {\n",
       "        vertical-align: middle;\n",
       "    }\n",
       "\n",
       "    .dataframe tbody tr th {\n",
       "        vertical-align: top;\n",
       "    }\n",
       "\n",
       "    .dataframe thead th {\n",
       "        text-align: right;\n",
       "    }\n",
       "</style>\n",
       "<table border=\"1\" class=\"dataframe\">\n",
       "  <thead>\n",
       "    <tr style=\"text-align: right;\">\n",
       "      <th></th>\n",
       "      <th>event_time</th>\n",
       "      <th>event_type</th>\n",
       "      <th>product_id</th>\n",
       "      <th>category_id</th>\n",
       "      <th>category_code</th>\n",
       "      <th>brand</th>\n",
       "      <th>price</th>\n",
       "      <th>user_id</th>\n",
       "      <th>user_session</th>\n",
       "    </tr>\n",
       "  </thead>\n",
       "  <tbody>\n",
       "    <tr>\n",
       "      <th>0</th>\n",
       "      <td>2019-12-01 00:00:00 UTC</td>\n",
       "      <td>remove_from_cart</td>\n",
       "      <td>5712790</td>\n",
       "      <td>1487580005268456287</td>\n",
       "      <td>NaN</td>\n",
       "      <td>f.o.x</td>\n",
       "      <td>6.27</td>\n",
       "      <td>576802932</td>\n",
       "      <td>51d85cb0-897f-48d2-918b-ad63965c12dc</td>\n",
       "    </tr>\n",
       "    <tr>\n",
       "      <th>1</th>\n",
       "      <td>2019-12-01 00:00:00 UTC</td>\n",
       "      <td>view</td>\n",
       "      <td>5764655</td>\n",
       "      <td>1487580005411062629</td>\n",
       "      <td>NaN</td>\n",
       "      <td>cnd</td>\n",
       "      <td>29.05</td>\n",
       "      <td>412120092</td>\n",
       "      <td>8adff31e-2051-4894-9758-224bfa8aec18</td>\n",
       "    </tr>\n",
       "    <tr>\n",
       "      <th>2</th>\n",
       "      <td>2019-12-01 00:00:02 UTC</td>\n",
       "      <td>cart</td>\n",
       "      <td>4958</td>\n",
       "      <td>1487580009471148064</td>\n",
       "      <td>NaN</td>\n",
       "      <td>runail</td>\n",
       "      <td>1.19</td>\n",
       "      <td>494077766</td>\n",
       "      <td>c99a50e8-2fac-4c4d-89ec-41c05f114554</td>\n",
       "    </tr>\n",
       "    <tr>\n",
       "      <th>3</th>\n",
       "      <td>2019-12-01 00:00:05 UTC</td>\n",
       "      <td>view</td>\n",
       "      <td>5848413</td>\n",
       "      <td>1487580007675986893</td>\n",
       "      <td>NaN</td>\n",
       "      <td>freedecor</td>\n",
       "      <td>0.79</td>\n",
       "      <td>348405118</td>\n",
       "      <td>722ffea5-73c0-4924-8e8f-371ff8031af4</td>\n",
       "    </tr>\n",
       "    <tr>\n",
       "      <th>4</th>\n",
       "      <td>2019-12-01 00:00:07 UTC</td>\n",
       "      <td>view</td>\n",
       "      <td>5824148</td>\n",
       "      <td>1487580005511725929</td>\n",
       "      <td>NaN</td>\n",
       "      <td>NaN</td>\n",
       "      <td>5.56</td>\n",
       "      <td>576005683</td>\n",
       "      <td>28172809-7e4a-45ce-bab0-5efa90117cd5</td>\n",
       "    </tr>\n",
       "    <tr>\n",
       "      <th>...</th>\n",
       "      <td>...</td>\n",
       "      <td>...</td>\n",
       "      <td>...</td>\n",
       "      <td>...</td>\n",
       "      <td>...</td>\n",
       "      <td>...</td>\n",
       "      <td>...</td>\n",
       "      <td>...</td>\n",
       "      <td>...</td>\n",
       "    </tr>\n",
       "    <tr>\n",
       "      <th>3533281</th>\n",
       "      <td>2019-12-31 23:59:39 UTC</td>\n",
       "      <td>view</td>\n",
       "      <td>5683350</td>\n",
       "      <td>1487580005671109489</td>\n",
       "      <td>NaN</td>\n",
       "      <td>masura</td>\n",
       "      <td>2.84</td>\n",
       "      <td>536812729</td>\n",
       "      <td>e4a2d47c-a956-4c46-8176-745f52ea664b</td>\n",
       "    </tr>\n",
       "    <tr>\n",
       "      <th>3533282</th>\n",
       "      <td>2019-12-31 23:59:46 UTC</td>\n",
       "      <td>view</td>\n",
       "      <td>5888097</td>\n",
       "      <td>1487580013388628160</td>\n",
       "      <td>NaN</td>\n",
       "      <td>shik</td>\n",
       "      <td>179.05</td>\n",
       "      <td>503658154</td>\n",
       "      <td>2dde9867-9e71-4a64-880d-aa68b66aae6d</td>\n",
       "    </tr>\n",
       "    <tr>\n",
       "      <th>3533283</th>\n",
       "      <td>2019-12-31 23:59:51 UTC</td>\n",
       "      <td>view</td>\n",
       "      <td>59975</td>\n",
       "      <td>1487580012096782476</td>\n",
       "      <td>NaN</td>\n",
       "      <td>NaN</td>\n",
       "      <td>7.14</td>\n",
       "      <td>595414541</td>\n",
       "      <td>4c6d80bb-5dd3-4fbb-b592-187b51db2753</td>\n",
       "    </tr>\n",
       "    <tr>\n",
       "      <th>3533284</th>\n",
       "      <td>2019-12-31 23:59:52 UTC</td>\n",
       "      <td>view</td>\n",
       "      <td>5775982</td>\n",
       "      <td>1783999063314661546</td>\n",
       "      <td>NaN</td>\n",
       "      <td>NaN</td>\n",
       "      <td>11.90</td>\n",
       "      <td>397780878</td>\n",
       "      <td>7e8a2b85-153a-44eb-a71f-b748fde14fcc</td>\n",
       "    </tr>\n",
       "    <tr>\n",
       "      <th>3533285</th>\n",
       "      <td>2019-12-31 23:59:57 UTC</td>\n",
       "      <td>view</td>\n",
       "      <td>5635090</td>\n",
       "      <td>1487580005754995573</td>\n",
       "      <td>NaN</td>\n",
       "      <td>NaN</td>\n",
       "      <td>4.44</td>\n",
       "      <td>420652863</td>\n",
       "      <td>546f6af3-a517-4752-a98b-80c4c5860711</td>\n",
       "    </tr>\n",
       "  </tbody>\n",
       "</table>\n",
       "<p>3533286 rows × 9 columns</p>\n",
       "</div>"
      ],
      "text/plain": [
       "                      event_time        event_type  product_id  \\\n",
       "0        2019-12-01 00:00:00 UTC  remove_from_cart     5712790   \n",
       "1        2019-12-01 00:00:00 UTC              view     5764655   \n",
       "2        2019-12-01 00:00:02 UTC              cart        4958   \n",
       "3        2019-12-01 00:00:05 UTC              view     5848413   \n",
       "4        2019-12-01 00:00:07 UTC              view     5824148   \n",
       "...                          ...               ...         ...   \n",
       "3533281  2019-12-31 23:59:39 UTC              view     5683350   \n",
       "3533282  2019-12-31 23:59:46 UTC              view     5888097   \n",
       "3533283  2019-12-31 23:59:51 UTC              view       59975   \n",
       "3533284  2019-12-31 23:59:52 UTC              view     5775982   \n",
       "3533285  2019-12-31 23:59:57 UTC              view     5635090   \n",
       "\n",
       "                 category_id category_code      brand   price    user_id  \\\n",
       "0        1487580005268456287           NaN      f.o.x    6.27  576802932   \n",
       "1        1487580005411062629           NaN        cnd   29.05  412120092   \n",
       "2        1487580009471148064           NaN     runail    1.19  494077766   \n",
       "3        1487580007675986893           NaN  freedecor    0.79  348405118   \n",
       "4        1487580005511725929           NaN        NaN    5.56  576005683   \n",
       "...                      ...           ...        ...     ...        ...   \n",
       "3533281  1487580005671109489           NaN     masura    2.84  536812729   \n",
       "3533282  1487580013388628160           NaN       shik  179.05  503658154   \n",
       "3533283  1487580012096782476           NaN        NaN    7.14  595414541   \n",
       "3533284  1783999063314661546           NaN        NaN   11.90  397780878   \n",
       "3533285  1487580005754995573           NaN        NaN    4.44  420652863   \n",
       "\n",
       "                                 user_session  \n",
       "0        51d85cb0-897f-48d2-918b-ad63965c12dc  \n",
       "1        8adff31e-2051-4894-9758-224bfa8aec18  \n",
       "2        c99a50e8-2fac-4c4d-89ec-41c05f114554  \n",
       "3        722ffea5-73c0-4924-8e8f-371ff8031af4  \n",
       "4        28172809-7e4a-45ce-bab0-5efa90117cd5  \n",
       "...                                       ...  \n",
       "3533281  e4a2d47c-a956-4c46-8176-745f52ea664b  \n",
       "3533282  2dde9867-9e71-4a64-880d-aa68b66aae6d  \n",
       "3533283  4c6d80bb-5dd3-4fbb-b592-187b51db2753  \n",
       "3533284  7e8a2b85-153a-44eb-a71f-b748fde14fcc  \n",
       "3533285  546f6af3-a517-4752-a98b-80c4c5860711  \n",
       "\n",
       "[3533286 rows x 9 columns]"
      ]
     },
     "execution_count": 2,
     "metadata": {},
     "output_type": "execute_result"
    }
   ],
   "source": [
    "DATA"
   ]
  },
  {
   "cell_type": "markdown",
   "id": "bc61b83a",
   "metadata": {},
   "source": [
    "# **👨‍💻DATA OVERVIEW**"
   ]
  },
  {
   "cell_type": "code",
   "execution_count": 3,
   "id": "7a6f72ab",
   "metadata": {},
   "outputs": [
    {
     "data": {
      "text/plain": [
       "(3533286, 9)"
      ]
     },
     "execution_count": 3,
     "metadata": {},
     "output_type": "execute_result"
    }
   ],
   "source": [
    "DATA.shape"
   ]
  },
  {
   "cell_type": "code",
   "execution_count": 4,
   "id": "0e099a24",
   "metadata": {},
   "outputs": [
    {
     "name": "stdout",
     "output_type": "stream",
     "text": [
      "<class 'pandas.core.frame.DataFrame'>\n",
      "RangeIndex: 3533286 entries, 0 to 3533285\n",
      "Data columns (total 9 columns):\n",
      " #   Column         Dtype  \n",
      "---  ------         -----  \n",
      " 0   event_time     object \n",
      " 1   event_type     object \n",
      " 2   product_id     int64  \n",
      " 3   category_id    int64  \n",
      " 4   category_code  object \n",
      " 5   brand          object \n",
      " 6   price          float64\n",
      " 7   user_id        int64  \n",
      " 8   user_session   object \n",
      "dtypes: float64(1), int64(3), object(5)\n",
      "memory usage: 242.6+ MB\n"
     ]
    }
   ],
   "source": [
    "DATA.info()"
   ]
  },
  {
   "cell_type": "code",
   "execution_count": 5,
   "id": "a5743136",
   "metadata": {},
   "outputs": [
    {
     "data": {
      "application/vnd.microsoft.datawrangler.viewer.v0+json": {
       "columns": [
        {
         "name": "index",
         "rawType": "object",
         "type": "string"
        },
        {
         "name": "product_id",
         "rawType": "float64",
         "type": "float"
        },
        {
         "name": "category_id",
         "rawType": "float64",
         "type": "float"
        },
        {
         "name": "price",
         "rawType": "float64",
         "type": "float"
        },
        {
         "name": "user_id",
         "rawType": "float64",
         "type": "float"
        }
       ],
       "conversionMethod": "pd.DataFrame",
       "ref": "9c364d48-c1bd-4bb7-a0de-bb9d7e0ed0a1",
       "rows": [
        [
         "count",
         "3533286.0",
         "3533286.0",
         "3533286.0",
         "3533286.0"
        ],
        [
         "mean",
         "5473053.80178225",
         "1.5550230129456801e+18",
         "8.871856090902343",
         "522331835.06706196"
        ],
        [
         "std",
         "1331331.3862962585",
         "1.6892618707069315e+17",
         "19.864742428612132",
         "84948189.60278809"
        ],
        [
         "min",
         "3752.0",
         "1.4875800048070828e+18",
         "-79.37",
         "1180452.0"
        ],
        [
         "25%",
         "5726191.0",
         "1.4875800063002552e+18",
         "2.06",
         "486682994.0"
        ],
        [
         "50%",
         "5811429.0",
         "1.487580008447739e+18",
         "4.21",
         "556649586.0"
        ],
        [
         "75%",
         "5859462.0",
         "1.4875800135815662e+18",
         "7.14",
         "582801855.0"
        ],
        [
         "max",
         "5917178.0",
         "2.2355244996362243e+18",
         "327.78",
         "595414541.0"
        ]
       ],
       "shape": {
        "columns": 4,
        "rows": 8
       }
      },
      "text/html": [
       "<div>\n",
       "<style scoped>\n",
       "    .dataframe tbody tr th:only-of-type {\n",
       "        vertical-align: middle;\n",
       "    }\n",
       "\n",
       "    .dataframe tbody tr th {\n",
       "        vertical-align: top;\n",
       "    }\n",
       "\n",
       "    .dataframe thead th {\n",
       "        text-align: right;\n",
       "    }\n",
       "</style>\n",
       "<table border=\"1\" class=\"dataframe\">\n",
       "  <thead>\n",
       "    <tr style=\"text-align: right;\">\n",
       "      <th></th>\n",
       "      <th>product_id</th>\n",
       "      <th>category_id</th>\n",
       "      <th>price</th>\n",
       "      <th>user_id</th>\n",
       "    </tr>\n",
       "  </thead>\n",
       "  <tbody>\n",
       "    <tr>\n",
       "      <th>count</th>\n",
       "      <td>3.533286e+06</td>\n",
       "      <td>3.533286e+06</td>\n",
       "      <td>3.533286e+06</td>\n",
       "      <td>3.533286e+06</td>\n",
       "    </tr>\n",
       "    <tr>\n",
       "      <th>mean</th>\n",
       "      <td>5.473054e+06</td>\n",
       "      <td>1.555023e+18</td>\n",
       "      <td>8.871856e+00</td>\n",
       "      <td>5.223318e+08</td>\n",
       "    </tr>\n",
       "    <tr>\n",
       "      <th>std</th>\n",
       "      <td>1.331331e+06</td>\n",
       "      <td>1.689262e+17</td>\n",
       "      <td>1.986474e+01</td>\n",
       "      <td>8.494819e+07</td>\n",
       "    </tr>\n",
       "    <tr>\n",
       "      <th>min</th>\n",
       "      <td>3.752000e+03</td>\n",
       "      <td>1.487580e+18</td>\n",
       "      <td>-7.937000e+01</td>\n",
       "      <td>1.180452e+06</td>\n",
       "    </tr>\n",
       "    <tr>\n",
       "      <th>25%</th>\n",
       "      <td>5.726191e+06</td>\n",
       "      <td>1.487580e+18</td>\n",
       "      <td>2.060000e+00</td>\n",
       "      <td>4.866830e+08</td>\n",
       "    </tr>\n",
       "    <tr>\n",
       "      <th>50%</th>\n",
       "      <td>5.811429e+06</td>\n",
       "      <td>1.487580e+18</td>\n",
       "      <td>4.210000e+00</td>\n",
       "      <td>5.566496e+08</td>\n",
       "    </tr>\n",
       "    <tr>\n",
       "      <th>75%</th>\n",
       "      <td>5.859462e+06</td>\n",
       "      <td>1.487580e+18</td>\n",
       "      <td>7.140000e+00</td>\n",
       "      <td>5.828019e+08</td>\n",
       "    </tr>\n",
       "    <tr>\n",
       "      <th>max</th>\n",
       "      <td>5.917178e+06</td>\n",
       "      <td>2.235524e+18</td>\n",
       "      <td>3.277800e+02</td>\n",
       "      <td>5.954145e+08</td>\n",
       "    </tr>\n",
       "  </tbody>\n",
       "</table>\n",
       "</div>"
      ],
      "text/plain": [
       "         product_id   category_id         price       user_id\n",
       "count  3.533286e+06  3.533286e+06  3.533286e+06  3.533286e+06\n",
       "mean   5.473054e+06  1.555023e+18  8.871856e+00  5.223318e+08\n",
       "std    1.331331e+06  1.689262e+17  1.986474e+01  8.494819e+07\n",
       "min    3.752000e+03  1.487580e+18 -7.937000e+01  1.180452e+06\n",
       "25%    5.726191e+06  1.487580e+18  2.060000e+00  4.866830e+08\n",
       "50%    5.811429e+06  1.487580e+18  4.210000e+00  5.566496e+08\n",
       "75%    5.859462e+06  1.487580e+18  7.140000e+00  5.828019e+08\n",
       "max    5.917178e+06  2.235524e+18  3.277800e+02  5.954145e+08"
      ]
     },
     "execution_count": 5,
     "metadata": {},
     "output_type": "execute_result"
    }
   ],
   "source": [
    "DATA.describe()"
   ]
  },
  {
   "cell_type": "code",
   "execution_count": 6,
   "id": "d26f24cc",
   "metadata": {},
   "outputs": [
    {
     "data": {
      "application/vnd.microsoft.datawrangler.viewer.v0+json": {
       "columns": [
        {
         "name": "index",
         "rawType": "object",
         "type": "string"
        },
        {
         "name": "event_time",
         "rawType": "object",
         "type": "unknown"
        },
        {
         "name": "event_type",
         "rawType": "object",
         "type": "unknown"
        },
        {
         "name": "category_code",
         "rawType": "object",
         "type": "unknown"
        },
        {
         "name": "brand",
         "rawType": "object",
         "type": "unknown"
        },
        {
         "name": "user_session",
         "rawType": "object",
         "type": "unknown"
        }
       ],
       "conversionMethod": "pd.DataFrame",
       "ref": "48b2ac9c-f2c2-4fb3-aa9a-b9bc2dec38dc",
       "rows": [
        [
         "count",
         "3533286",
         "3533286",
         "58465",
         "2022997",
         "3532507"
        ],
        [
         "unique",
         "1654771",
         "4",
         "10",
         "252",
         "839812"
        ],
        [
         "top",
         "2019-12-02 14:12:08 UTC",
         "view",
         "appliances.environment.vacuum",
         "runail",
         "d53d1c2e-9195-6051-cf7b-7332dfeae818"
        ],
        [
         "freq",
         "260",
         "1728331",
         "25818",
         "256217",
         "1393"
        ]
       ],
       "shape": {
        "columns": 5,
        "rows": 4
       }
      },
      "text/html": [
       "<div>\n",
       "<style scoped>\n",
       "    .dataframe tbody tr th:only-of-type {\n",
       "        vertical-align: middle;\n",
       "    }\n",
       "\n",
       "    .dataframe tbody tr th {\n",
       "        vertical-align: top;\n",
       "    }\n",
       "\n",
       "    .dataframe thead th {\n",
       "        text-align: right;\n",
       "    }\n",
       "</style>\n",
       "<table border=\"1\" class=\"dataframe\">\n",
       "  <thead>\n",
       "    <tr style=\"text-align: right;\">\n",
       "      <th></th>\n",
       "      <th>event_time</th>\n",
       "      <th>event_type</th>\n",
       "      <th>category_code</th>\n",
       "      <th>brand</th>\n",
       "      <th>user_session</th>\n",
       "    </tr>\n",
       "  </thead>\n",
       "  <tbody>\n",
       "    <tr>\n",
       "      <th>count</th>\n",
       "      <td>3533286</td>\n",
       "      <td>3533286</td>\n",
       "      <td>58465</td>\n",
       "      <td>2022997</td>\n",
       "      <td>3532507</td>\n",
       "    </tr>\n",
       "    <tr>\n",
       "      <th>unique</th>\n",
       "      <td>1654771</td>\n",
       "      <td>4</td>\n",
       "      <td>10</td>\n",
       "      <td>252</td>\n",
       "      <td>839812</td>\n",
       "    </tr>\n",
       "    <tr>\n",
       "      <th>top</th>\n",
       "      <td>2019-12-02 14:12:08 UTC</td>\n",
       "      <td>view</td>\n",
       "      <td>appliances.environment.vacuum</td>\n",
       "      <td>runail</td>\n",
       "      <td>d53d1c2e-9195-6051-cf7b-7332dfeae818</td>\n",
       "    </tr>\n",
       "    <tr>\n",
       "      <th>freq</th>\n",
       "      <td>260</td>\n",
       "      <td>1728331</td>\n",
       "      <td>25818</td>\n",
       "      <td>256217</td>\n",
       "      <td>1393</td>\n",
       "    </tr>\n",
       "  </tbody>\n",
       "</table>\n",
       "</div>"
      ],
      "text/plain": [
       "                     event_time event_type                  category_code  \\\n",
       "count                   3533286    3533286                          58465   \n",
       "unique                  1654771          4                             10   \n",
       "top     2019-12-02 14:12:08 UTC       view  appliances.environment.vacuum   \n",
       "freq                        260    1728331                          25818   \n",
       "\n",
       "          brand                          user_session  \n",
       "count   2022997                               3532507  \n",
       "unique      252                                839812  \n",
       "top      runail  d53d1c2e-9195-6051-cf7b-7332dfeae818  \n",
       "freq     256217                                  1393  "
      ]
     },
     "execution_count": 6,
     "metadata": {},
     "output_type": "execute_result"
    }
   ],
   "source": [
    "DATA.describe(include=\"object\")"
   ]
  },
  {
   "cell_type": "code",
   "execution_count": 7,
   "id": "40d951a3",
   "metadata": {},
   "outputs": [
    {
     "data": {
      "text/plain": [
       "event_time               event_type        product_id  category_id          category_code                  brand      price  user_id    user_session                        \n",
       "2019-12-17 08:31:25 UTC  remove_from_cart  5856191     1487580006350586771  appliances.environment.vacuum  runail     24.44  483964876  1e808131-80bd-483f-bcac-28be20b4e438    6\n",
       "2019-12-10 11:33:37 UTC  cart              82959       1487580013053083824  stationery.cartrige            depilflax  3.02   583641086  a8893522-774a-40b2-984f-88825f6538ef    6\n",
       "2019-12-18 20:11:55 UTC  remove_from_cart  5856191     1487580006350586771  appliances.environment.vacuum  runail     24.44  578122209  d24db97f-b105-4492-9883-a920ec7fc8f3    5\n",
       "2019-12-17 19:14:14 UTC  cart              5749198     1487580013053083824  stationery.cartrige            italwax    1.98   494786964  44438d7a-060e-488e-8f6b-52ce37b5b86c    4\n",
       "2019-12-06 08:24:46 UTC  cart              5749198     1487580013053083824  stationery.cartrige            italwax    1.98   406685397  d7746afd-ef10-4b0b-8166-0dc69e180cf3    4\n",
       "                                                                                                                                                                               ..\n",
       "2019-12-09 18:41:39 UTC  view              5743974     1487580013053083824  stationery.cartrige            italwax    1.98   478146049  3f1c751c-c5b8-4b1c-a29e-376e85c5412c    1\n",
       "2019-12-09 18:42:05 UTC  view              5743974     1487580013053083824  stationery.cartrige            italwax    1.98   584454166  8608b833-cb16-423d-bd17-a518b42c1216    1\n",
       "2019-12-09 18:51:32 UTC  view              5830789     1487580010695884882  accessories.bag                vosev      62.70  573204911  96f5b7c0-5409-4391-9f21-8bf64a0832a6    1\n",
       "2019-12-09 18:51:42 UTC  view              5861764     1487580006350586771  appliances.environment.vacuum  emil       1.43   553612042  271312c5-3b50-489f-a392-5dfb2d87cd18    1\n",
       "2019-12-31 23:54:50 UTC  view              5854573     1487580006350586771  appliances.environment.vacuum  jessnail   46.83  584900297  191a4251-e99c-4dc9-87ee-295107387d58    1\n",
       "Name: count, Length: 41855, dtype: int64"
      ]
     },
     "execution_count": 7,
     "metadata": {},
     "output_type": "execute_result"
    }
   ],
   "source": [
    "DATA.value_counts()"
   ]
  },
  {
   "cell_type": "code",
   "execution_count": null,
   "id": "23fba3a0",
   "metadata": {},
   "outputs": [],
   "source": []
  },
  {
   "cell_type": "code",
   "execution_count": null,
   "id": "d252ccff",
   "metadata": {},
   "outputs": [],
   "source": []
  },
  {
   "cell_type": "code",
   "execution_count": null,
   "id": "d8bb196f",
   "metadata": {},
   "outputs": [],
   "source": []
  },
  {
   "cell_type": "code",
   "execution_count": null,
   "metadata": {},
   "outputs": [],
   "source": []
  },
  {
   "cell_type": "code",
   "execution_count": null,
   "id": "a1248148",
   "metadata": {},
   "outputs": [],
   "source": []
  },
  {
   "cell_type": "code",
   "execution_count": null,
   "id": "bdb969cd",
   "metadata": {},
   "outputs": [],
   "source": []
  }
 ],
 "metadata": {
  "kernelspec": {
   "display_name": "Python 3",
   "language": "python",
   "name": "python3"
  },
  "language_info": {
   "codemirror_mode": {
    "name": "ipython",
    "version": 3
   },
   "file_extension": ".py",
   "mimetype": "text/x-python",
   "name": "python",
   "nbconvert_exporter": "python",
   "pygments_lexer": "ipython3",
   "version": "3.11.9"
  }
 },
 "nbformat": 4,
 "nbformat_minor": 5
}
