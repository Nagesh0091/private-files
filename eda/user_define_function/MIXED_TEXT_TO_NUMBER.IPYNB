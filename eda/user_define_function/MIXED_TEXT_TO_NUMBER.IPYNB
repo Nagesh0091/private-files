{
 "cells": [
  {
   "cell_type": "code",
   "execution_count": 1,
   "id": "379f1866",
   "metadata": {},
   "outputs": [],
   "source": [
    "# Replace non-numeric text with word-to-number conversion\n",
    "def MIXEDTEXT_TO_NUMBER(x):\n",
    "    from word2number import w2n\n",
    "    import re\n",
    "    try:\n",
    "        return round(float(x), 2)  # also works for strings like '450.00'\n",
    "    except:\n",
    "        try:\n",
    "            # Extract word part and digit part from the string\n",
    "            x_str = str(x).lower()\n",
    "            word_part = re.sub(r'[^a-z]', '', x_str)\n",
    "            digit_part = re.sub(r'[^0-9.]', '', x_str)\n",
    "\n",
    "            word_num = w2n.word_to_num(word_part) if word_part else 0\n",
    "            digit_num = float(digit_part) if digit_part else 0\n",
    "\n",
    "            return round(word_num * (10 ** len(digit_part)) + digit_num, 2) if word_part else round(digit_num, 2)\n",
    "        except:\n",
    "            return x  # or np.nan if using numpy\n"
   ]
  }
 ],
 "metadata": {
  "kernelspec": {
   "display_name": "Python 3",
   "language": "python",
   "name": "python3"
  },
  "language_info": {
   "codemirror_mode": {
    "name": "ipython",
    "version": 3
   },
   "file_extension": ".py",
   "mimetype": "text/x-python",
   "name": "python",
   "nbconvert_exporter": "python",
   "pygments_lexer": "ipython3",
   "version": "3.11.9"
  }
 },
 "nbformat": 4,
 "nbformat_minor": 5
}
