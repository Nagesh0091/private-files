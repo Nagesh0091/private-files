{
 "cells": [
  {
   "cell_type": "code",
   "execution_count": 1,
   "id": "af67e040",
   "metadata": {},
   "outputs": [
    {
     "name": "stdout",
     "output_type": "stream",
     "text": [
      "Collecting word2number"
     ]
    },
    {
     "name": "stderr",
     "output_type": "stream",
     "text": [
      "WARNING: You are using pip version 22.0.4; however, version 25.1.1 is available.\n",
      "You should consider upgrading via the 'C:\\Users\\Nagesh Agrawal\\AppData\\Local\\Programs\\Python\\Python39\\python.exe -m pip install --upgrade pip' command.\n"
     ]
    },
    {
     "name": "stdout",
     "output_type": "stream",
     "text": [
      "\n",
      "  Downloading word2number-1.1.zip (9.7 kB)\n",
      "  Preparing metadata (setup.py): started\n",
      "  Preparing metadata (setup.py): finished with status 'done'\n",
      "Using legacy 'setup.py install' for word2number, since package 'wheel' is not installed.\n",
      "Installing collected packages: word2number\n",
      "  Running setup.py install for word2number: started\n",
      "  Running setup.py install for word2number: finished with status 'done'\n",
      "Successfully installed word2number-1.1\n"
     ]
    }
   ],
   "source": [
    "! pip install word2number"
   ]
  },
  {
   "cell_type": "code",
   "execution_count": null,
   "id": "50089a07",
   "metadata": {},
   "outputs": [],
   "source": [
    "# Replace non-numeric text with word-to-number conversion\n",
    "def convert_text_to_number(x):\n",
    "    from word2number import w2n\n",
    "    try:\n",
    "        return round(int(x),0)\n",
    "    except:\n",
    "        try:\n",
    "            return w2n.word_to_num(str(x).lower())\n",
    "        except:\n",
    "            return x  # or np.nan if using numpy"
   ]
  }
 ],
 "metadata": {
  "kernelspec": {
   "display_name": "Python 3",
   "language": "python",
   "name": "python3"
  },
  "language_info": {
   "codemirror_mode": {
    "name": "ipython",
    "version": 3
   },
   "file_extension": ".py",
   "mimetype": "text/x-python",
   "name": "python",
   "nbconvert_exporter": "python",
   "pygments_lexer": "ipython3",
   "version": "3.11.9"
  }
 },
 "nbformat": 4,
 "nbformat_minor": 5
}
