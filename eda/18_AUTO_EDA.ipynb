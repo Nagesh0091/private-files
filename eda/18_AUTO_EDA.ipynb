{
 "cells": [
  {
   "cell_type": "markdown",
   "id": "276bd942",
   "metadata": {},
   "source": [
    "# 🍬🍫🍩🍨 SWEETVIZ 🍠🍦🍰🍪🎂"
   ]
  },
  {
   "cell_type": "code",
   "execution_count": 1,
   "id": "2ba868aa",
   "metadata": {},
   "outputs": [
    {
     "name": "stdout",
     "output_type": "stream",
     "text": [
      "Collecting sweetviz\n",
      "  Downloading sweetviz-2.3.1-py3-none-any.whl.metadata (24 kB)\n",
      "Requirement already satisfied: pandas!=1.0.0,!=1.0.1,!=1.0.2,>=0.25.3 in c:\\users\\nagesh agrawal\\anaconda3\\lib\\site-packages (from sweetviz) (2.2.2)\n",
      "Requirement already satisfied: numpy>=1.16.0 in c:\\users\\nagesh agrawal\\anaconda3\\lib\\site-packages (from sweetviz) (1.26.4)\n",
      "Requirement already satisfied: matplotlib>=3.1.3 in c:\\users\\nagesh agrawal\\anaconda3\\lib\\site-packages (from sweetviz) (3.10.0)\n",
      "Requirement already satisfied: tqdm>=4.43.0 in c:\\users\\nagesh agrawal\\anaconda3\\lib\\site-packages (from sweetviz) (4.66.5)\n",
      "Requirement already satisfied: scipy>=1.3.2 in c:\\users\\nagesh agrawal\\anaconda3\\lib\\site-packages (from sweetviz) (1.13.1)\n",
      "Requirement already satisfied: jinja2>=2.11.1 in c:\\users\\nagesh agrawal\\anaconda3\\lib\\site-packages (from sweetviz) (3.1.4)\n",
      "Collecting importlib-resources>=1.2.0 (from sweetviz)\n",
      "  Downloading importlib_resources-6.5.2-py3-none-any.whl.metadata (3.9 kB)\n",
      "Requirement already satisfied: MarkupSafe>=2.0 in c:\\users\\nagesh agrawal\\anaconda3\\lib\\site-packages (from jinja2>=2.11.1->sweetviz) (2.1.3)\n",
      "Requirement already satisfied: contourpy>=1.0.1 in c:\\users\\nagesh agrawal\\anaconda3\\lib\\site-packages (from matplotlib>=3.1.3->sweetviz) (1.2.0)\n",
      "Requirement already satisfied: cycler>=0.10 in c:\\users\\nagesh agrawal\\anaconda3\\lib\\site-packages (from matplotlib>=3.1.3->sweetviz) (0.11.0)\n",
      "Requirement already satisfied: fonttools>=4.22.0 in c:\\users\\nagesh agrawal\\anaconda3\\lib\\site-packages (from matplotlib>=3.1.3->sweetviz) (4.51.0)\n",
      "Requirement already satisfied: kiwisolver>=1.3.1 in c:\\users\\nagesh agrawal\\anaconda3\\lib\\site-packages (from matplotlib>=3.1.3->sweetviz) (1.4.4)\n",
      "Requirement already satisfied: packaging>=20.0 in c:\\users\\nagesh agrawal\\anaconda3\\lib\\site-packages (from matplotlib>=3.1.3->sweetviz) (24.1)\n",
      "Requirement already satisfied: pillow>=8 in c:\\users\\nagesh agrawal\\anaconda3\\lib\\site-packages (from matplotlib>=3.1.3->sweetviz) (10.4.0)\n",
      "Requirement already satisfied: pyparsing>=2.3.1 in c:\\users\\nagesh agrawal\\anaconda3\\lib\\site-packages (from matplotlib>=3.1.3->sweetviz) (3.1.2)\n",
      "Requirement already satisfied: python-dateutil>=2.7 in c:\\users\\nagesh agrawal\\anaconda3\\lib\\site-packages (from matplotlib>=3.1.3->sweetviz) (2.9.0.post0)\n",
      "Requirement already satisfied: pytz>=2020.1 in c:\\users\\nagesh agrawal\\anaconda3\\lib\\site-packages (from pandas!=1.0.0,!=1.0.1,!=1.0.2,>=0.25.3->sweetviz) (2024.1)\n",
      "Requirement already satisfied: tzdata>=2022.7 in c:\\users\\nagesh agrawal\\anaconda3\\lib\\site-packages (from pandas!=1.0.0,!=1.0.1,!=1.0.2,>=0.25.3->sweetviz) (2023.3)\n",
      "Requirement already satisfied: colorama in c:\\users\\nagesh agrawal\\anaconda3\\lib\\site-packages (from tqdm>=4.43.0->sweetviz) (0.4.6)\n",
      "Requirement already satisfied: six>=1.5 in c:\\users\\nagesh agrawal\\anaconda3\\lib\\site-packages (from python-dateutil>=2.7->matplotlib>=3.1.3->sweetviz) (1.16.0)\n",
      "Downloading sweetviz-2.3.1-py3-none-any.whl (15.1 MB)\n",
      "   ---------------------------------------- 0.0/15.1 MB ? eta -:--:--\n",
      "    --------------------------------------- 0.3/15.1 MB ? eta -:--:--\n",
      "   -- ------------------------------------- 0.8/15.1 MB 2.2 MB/s eta 0:00:07\n",
      "   --- ------------------------------------ 1.3/15.1 MB 2.5 MB/s eta 0:00:06\n",
      "   ---- ----------------------------------- 1.8/15.1 MB 2.6 MB/s eta 0:00:06\n",
      "   ------ --------------------------------- 2.4/15.1 MB 2.6 MB/s eta 0:00:05\n",
      "   -------- ------------------------------- 3.1/15.1 MB 2.7 MB/s eta 0:00:05\n",
      "   ---------- ----------------------------- 3.9/15.1 MB 2.9 MB/s eta 0:00:04\n",
      "   ----------- ---------------------------- 4.5/15.1 MB 2.9 MB/s eta 0:00:04\n",
      "   ------------- -------------------------- 5.2/15.1 MB 3.0 MB/s eta 0:00:04\n",
      "   --------------- ------------------------ 6.0/15.1 MB 3.0 MB/s eta 0:00:04\n",
      "   ----------------- ---------------------- 6.6/15.1 MB 3.1 MB/s eta 0:00:03\n",
      "   -------------------- ------------------- 7.6/15.1 MB 3.2 MB/s eta 0:00:03\n",
      "   ---------------------- ----------------- 8.4/15.1 MB 3.2 MB/s eta 0:00:03\n",
      "   ------------------------ --------------- 9.2/15.1 MB 3.3 MB/s eta 0:00:02\n",
      "   -------------------------- ------------- 10.0/15.1 MB 3.3 MB/s eta 0:00:02\n",
      "   ---------------------------- ----------- 10.7/15.1 MB 3.3 MB/s eta 0:00:02\n",
      "   ----------------------------- ---------- 11.3/15.1 MB 3.3 MB/s eta 0:00:02\n",
      "   ------------------------------- -------- 11.8/15.1 MB 3.3 MB/s eta 0:00:02\n",
      "   --------------------------------- ------ 12.6/15.1 MB 3.3 MB/s eta 0:00:01\n",
      "   ----------------------------------- ---- 13.4/15.1 MB 3.3 MB/s eta 0:00:01\n",
      "   ------------------------------------- -- 14.2/15.1 MB 3.3 MB/s eta 0:00:01\n",
      "   ---------------------------------------  14.9/15.1 MB 3.3 MB/s eta 0:00:01\n",
      "   ---------------------------------------- 15.1/15.1 MB 3.3 MB/s eta 0:00:00\n",
      "Downloading importlib_resources-6.5.2-py3-none-any.whl (37 kB)\n",
      "Installing collected packages: importlib-resources, sweetviz\n",
      "Successfully installed importlib-resources-6.5.2 sweetviz-2.3.1\n"
     ]
    }
   ],
   "source": [
    "! pip install sweetviz"
   ]
  },
  {
   "cell_type": "code",
   "execution_count": 7,
   "id": "0b9e31a6",
   "metadata": {},
   "outputs": [],
   "source": [
    "# LOADING DATA:\n",
    "import pandas as pd\n",
    "DATA=pd.read_csv(r\"C:\\Users\\Nagesh Agrawal\\OneDrive\\Desktop\\EDA\\DATA\\Cars.csv\")"
   ]
  },
  {
   "cell_type": "code",
   "execution_count": 5,
   "id": "dfd466db",
   "metadata": {},
   "outputs": [],
   "source": [
    "import sweetviz as SV\n"
   ]
  },
  {
   "cell_type": "code",
   "execution_count": 9,
   "id": "9f1788d0",
   "metadata": {},
   "outputs": [
    {
     "data": {
      "application/vnd.jupyter.widget-view+json": {
       "model_id": "3afd0a02e50546e283ae40cc0f16bafa",
       "version_major": 2,
       "version_minor": 0
      },
      "text/plain": [
       "                                             |          | [  0%]   00:00 -> (? left)"
      ]
     },
     "metadata": {},
     "output_type": "display_data"
    }
   ],
   "source": [
    "# ANALYSE DATA:\n",
    "REPORT = SV.analyze(DATA)"
   ]
  },
  {
   "cell_type": "code",
   "execution_count": 15,
   "id": "51ffbd7c",
   "metadata": {},
   "outputs": [
    {
     "data": {
      "application/vnd.jupyter.widget-view+json": {
       "model_id": "cf7d29dc6c10446ab48989d5bee4d4b0",
       "version_major": 2,
       "version_minor": 0
      },
      "text/plain": [
       "                                             |          | [  0%]   00:00 -> (? left)"
      ]
     },
     "metadata": {},
     "output_type": "display_data"
    }
   ],
   "source": [
    "# COMPARE TWO DATASET:\n",
    "X = DATA.iloc[:, :-1]  # All rows, all columns except the last\n",
    "Y = DATA.iloc[:, -1]   # All rows, last column\n",
    "\n",
    "\n",
    "from sklearn.model_selection import train_test_split\n",
    "X__TRAIN, X__TEST, Y__TRAIN, Y__TEST = train_test_split(X,Y)\n",
    "REPORT = SV.compare([X__TRAIN,\"X_TRAIN\"],[X__TEST,\"X_TEST\"])"
   ]
  },
  {
   "cell_type": "code",
   "execution_count": 16,
   "id": "ea74d81c",
   "metadata": {},
   "outputs": [
    {
     "name": "stdout",
     "output_type": "stream",
     "text": [
      "^C\n"
     ]
    }
   ],
   "source": [
    "! pip install autoviz"
   ]
  },
  {
   "cell_type": "code",
   "execution_count": null,
   "id": "b286f6d1",
   "metadata": {},
   "outputs": [],
   "source": [
    "# AUTOVIZ :\n",
    "from autoviz.AutoViz_Class import AutoViz_Class\n",
    "AV=AutoViz_Class()\n",
    "AV.AutoViz(DATA)"
   ]
  }
 ],
 "metadata": {
  "kernelspec": {
   "display_name": "base",
   "language": "python",
   "name": "python3"
  },
  "language_info": {
   "codemirror_mode": {
    "name": "ipython",
    "version": 3
   },
   "file_extension": ".py",
   "mimetype": "text/x-python",
   "name": "python",
   "nbconvert_exporter": "python",
   "pygments_lexer": "ipython3",
   "version": "3.12.7"
  }
 },
 "nbformat": 4,
 "nbformat_minor": 5
}
