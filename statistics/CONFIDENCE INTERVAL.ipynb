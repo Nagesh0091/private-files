{
 "cells": [
  {
   "cell_type": "markdown",
   "id": "3b146743",
   "metadata": {},
   "source": [
    "\n",
    "\n",
    "---\n",
    "\n",
    "# 📚 New Real-life Example:\n",
    "\n",
    "A factory produces metal rods.  \n",
    "You collect a **sample of 50 rods** and measure their **weights** (in kilograms).\n",
    "\n",
    "You find:\n",
    "\n",
    "- Sample mean weight = **5.2 kg**\n",
    "- Known **population σ = 0.3 kg**\n",
    "- Sample standard deviation (from sample) = **0.32 kg**\n",
    "- Sample size = **50 rods**\n",
    "- Confidence level = **95%**\n",
    "\n",
    "---\n",
    "\n",
    "# 🔵 CASE 1: **σ is Known** (Use Normal Distribution)\n",
    "\n",
    "Use `stats.norm.interval()`\n",
    "\n",
    "---"
   ]
  },
  {
   "cell_type": "code",
   "execution_count": 1,
   "id": "17de2e45",
   "metadata": {},
   "outputs": [
    {
     "name": "stdout",
     "output_type": "stream",
     "text": [
      "[Known σ] 95% Confidence Interval: 5.117 kg to 5.283 kg\n"
     ]
    }
   ],
   "source": [
    "from scipy import stats\n",
    "import numpy as np\n",
    "\n",
    "# Given\n",
    "mean_weight = 5.2\n",
    "sigma = 0.3  # known population std dev\n",
    "n = 50\n",
    "confidence = 0.95\n",
    "\n",
    "# Standard error\n",
    "standard_error = sigma / np.sqrt(n)\n",
    "\n",
    "# Confidence interval using normal distribution\n",
    "ci_norm = stats.norm.interval(confidence,mean_weight,standard_error)\n",
    "\n",
    "print(f\"[Known σ] 95% Confidence Interval: {ci_norm[0]:.3f} kg to {ci_norm[1]:.3f} kg\")"
   ]
  },
  {
   "cell_type": "code",
   "execution_count": 2,
   "id": "067befae",
   "metadata": {},
   "outputs": [
    {
     "data": {
      "text/plain": [
       "(5.11684577053902, 5.283154229460981)"
      ]
     },
     "execution_count": 2,
     "metadata": {},
     "output_type": "execute_result"
    }
   ],
   "source": [
    "ci_norm"
   ]
  },
  {
   "cell_type": "markdown",
   "id": "1042f87c",
   "metadata": {},
   "source": [
    "# 🟢 CASE 2: **σ is Unknown** (Use Student's T-distribution)\n",
    "\n",
    "Use `stats.t.interval()`\n"
   ]
  },
  {
   "cell_type": "code",
   "execution_count": 3,
   "id": "6fea12b4",
   "metadata": {},
   "outputs": [
    {
     "name": "stdout",
     "output_type": "stream",
     "text": [
      "[Unknown σ] 95% Confidence Interval: 5.109 kg to 5.291 kg\n"
     ]
    }
   ],
   "source": [
    "# Sample standard deviation\n",
    "sample_std = 0.32  # from sample\n",
    "\n",
    "# Standard error\n",
    "standard_error_sample = sample_std / np.sqrt(n)\n",
    "\n",
    "# Degrees of freedom\n",
    "df = n - 1\n",
    "\n",
    "# Confidence interval using t-distribution\n",
    "ci_t = stats.t.interval(confidence, df=df, loc=mean_weight, scale=standard_error_sample)\n",
    "\n",
    "print(f\"[Unknown σ] 95% Confidence Interval: {ci_t[0]:.3f} kg to {ci_t[1]:.3f} kg\")\n"
   ]
  },
  {
   "cell_type": "markdown",
   "id": "57ab5f50",
   "metadata": {},
   "source": [
    "---\n",
    "\n",
    "# 🔥 Example Output:\n",
    "\n",
    "```\n",
    "[Known σ] 95% Confidence Interval: 5.117 kg to 5.283 kg\n",
    "[Unknown σ] 95% Confidence Interval: 5.109 kg to 5.291 kg\n",
    "```\n",
    "\n",
    "✅ Notice:\n",
    "- The **T-interval** is slightly **wider** than the **Normal interval** because the sample adds uncertainty.\n",
    "- The **difference becomes smaller** when **n is large** (like 50), but is huge if **n is small**.\n",
    "\n",
    "---\n",
    "\n",
    "# 📋 Recap:\n",
    "\n",
    "| Situation                        | Function               | Interval Example |\n",
    "|:----------------------------------|:----------------------:|:-----------------:|\n",
    "| σ known, use Z (Normal)           | `stats.norm.interval()` | 5.117 kg to 5.283 kg    |\n",
    "| σ unknown, use T (Student's t)    | `stats.t.interval()`    | 5.109 kg to 5.291 kg    |\n",
    "\n",
    "---\n",
    "\n"
   ]
  }
 ],
 "metadata": {
  "kernelspec": {
   "display_name": "Python 3",
   "language": "python",
   "name": "python3"
  },
  "language_info": {
   "codemirror_mode": {
    "name": "ipython",
    "version": 3
   },
   "file_extension": ".py",
   "mimetype": "text/x-python",
   "name": "python",
   "nbconvert_exporter": "python",
   "pygments_lexer": "ipython3",
   "version": "3.11.9"
  }
 },
 "nbformat": 4,
 "nbformat_minor": 5
}
