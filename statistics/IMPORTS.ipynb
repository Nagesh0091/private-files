{
 "cells": [
  {
   "cell_type": "markdown",
   "id": "2d88ed37",
   "metadata": {},
   "source": [
    "# **PROBABILITY CALCULATION**"
   ]
  },
  {
   "cell_type": "code",
   "execution_count": 4,
   "id": "7bd53d4b",
   "metadata": {},
   "outputs": [],
   "source": [
    "\n",
    "from scipy import stats\n",
    "# probability = stats.norm.cdf(x, mean, std_dev)# population parameters\n",
    "\n",
    "# Find the delivery time that corresponds to the 10th percentile\n",
    "# percentile = 0.15\n",
    "# delivery_time = stats.norm.ppf(percentile, mean, std_dev)\n"
   ]
  },
  {
   "cell_type": "markdown",
   "id": "ebfd209a",
   "metadata": {},
   "source": [
    "# **CONFIDENCE INTERVAL**"
   ]
  },
  {
   "cell_type": "code",
   "execution_count": null,
   "id": "ab69e370",
   "metadata": {},
   "outputs": [],
   "source": [
    "# SIGMA IS KNOWN :\n",
    "# Confidence interval using normal distribution\n",
    "# ci_norm = stats.norm.interval(confidence,mean_weight,standard_error)"
   ]
  },
  {
   "cell_type": "code",
   "execution_count": 6,
   "id": "682c004f",
   "metadata": {},
   "outputs": [],
   "source": [
    "# SIGMA IS UNKNOWN:\n",
    "# Confidence interval using t-distribution\n",
    "# ci_t = stats.t.interval(confidence, df=df, loc=mean_weight, scale=standard_error_sample)"
   ]
  },
  {
   "cell_type": "markdown",
   "id": "b3c041b4",
   "metadata": {},
   "source": [
    "# **HYPOTHESIS TESTING**"
   ]
  },
  {
   "cell_type": "code",
   "execution_count": 5,
   "id": "d8ffa1c8",
   "metadata": {},
   "outputs": [
    {
     "ename": "NameError",
     "evalue": "name 'visitors' is not defined",
     "output_type": "error",
     "traceback": [
      "\u001b[1;31m---------------------------------------------------------------------------\u001b[0m",
      "\u001b[1;31mNameError\u001b[0m                                 Traceback (most recent call last)",
      "Cell \u001b[1;32mIn[5], line 19\u001b[0m\n\u001b[0;32m     15\u001b[0m \u001b[38;5;66;03m# t_stat, p_two_tailed = stats.ttest_ind(company_a, company_b, equal_var=True)\u001b[39;00m\n\u001b[0;32m     16\u001b[0m \n\u001b[0;32m     17\u001b[0m \u001b[38;5;66;03m# Perform one-sample t-test :\u001b[39;00m\n\u001b[0;32m     18\u001b[0m \u001b[38;5;28;01mfrom\u001b[39;00m\u001b[38;5;250m \u001b[39m\u001b[38;5;21;01mscipy\u001b[39;00m\u001b[38;5;250m \u001b[39m\u001b[38;5;28;01mimport\u001b[39;00m stats\n\u001b[1;32m---> 19\u001b[0m t_stat, p_value \u001b[38;5;241m=\u001b[39m stats\u001b[38;5;241m.\u001b[39mttest_1samp(\u001b[43mvisitors\u001b[49m,population_mean)\n\u001b[0;32m     21\u001b[0m \u001b[38;5;66;03m# perform TWO SAMPLE TWO TAILED TEST:\u001b[39;00m\n\u001b[0;32m     22\u001b[0m t_stat,p_value\u001b[38;5;241m=\u001b[39mstats\u001b[38;5;241m.\u001b[39mttest_ind(school_a,school_b,equal_var\u001b[38;5;241m=\u001b[39m\u001b[38;5;28;01mTrue\u001b[39;00m)\n",
      "\u001b[1;31mNameError\u001b[0m: name 'visitors' is not defined"
     ]
    }
   ],
   "source": [
    "# Perform one-sample t-test\n",
    "from scipy import stats\n",
    "# t_statistic, p_value = stats.ttest_1samp(marks, population_mean)\n",
    "\n",
    "# TWO SAMPLE T-TEST\n",
    "from scipy import stats\n",
    "# t_statistic, p_value = stats.ttest_ind(MALE_FOOTS, FEMALE_FOOTS, equal_var=False)  # assume equal variances\n",
    "\n",
    "# Perform one-sample TWO TAILED t-test... \n",
    "from scipy import stats\n",
    "# t_stat, p_value_two_tailed = stats.ttest_1samp(temperatures, population_mean)\n",
    "\n",
    "# Perform two-sample one tailed t-test...\n",
    "from scipy import stats\n",
    "# t_stat, p_two_tailed = stats.ttest_ind(company_a, company_b, equal_var=True)\n",
    "\n",
    "# Perform one-sample t-test :\n",
    "from scipy import stats\n",
    "t_stat, p_value = stats.ttest_1samp(visitors,population_mean)\n",
    "\n",
    "# perform TWO SAMPLE TWO TAILED TEST:\n",
    "t_stat,p_value=stats.ttest_ind(school_a,school_b,equal_var=True)\n",
    "\n",
    "# Perform two-proportion Z-test\n",
    "from statsmodels.stats.proportion import proportions_ztest\n",
    "z_stat, p_value = proportions_ztest(success, Tnos)\n",
    "\n",
    "# Perform one-way ANOVA\n",
    "from scipy import stats\n",
    "f_stat, p_value = stats.f_oneway(program_A, program_B, program_C)\n",
    "\n",
    "# Tukey HSD test\n",
    "from statsmodels.stats.multicomp import pairwise_tukeyhsd\n",
    "tukey_result = pairwise_tukeyhsd(endog=df['score'], groups=df['group'], alpha=0.05)\n",
    "print(tukey_result)\n",
    "\n",
    "# Perform Chi-Square Goodness of Fit Test\n",
    "from scipy.stats import chisquare\n",
    "#chi2_stat, p_val = chisquare(f_obs=observed, f_exp=expected)\n",
    "\n",
    "# Perform Chi-Square Test of Independence\n",
    "from scipy.stats import chi2_contingency\n",
    "# chi2_stat, p_val, dof, expected = chi2_contingency(data)# double dimension numpy array\n",
    "\n"
   ]
  },
  {
   "cell_type": "code",
   "execution_count": null,
   "id": "8011a916",
   "metadata": {},
   "outputs": [],
   "source": []
  },
  {
   "cell_type": "code",
   "execution_count": null,
   "id": "2133bc1c",
   "metadata": {},
   "outputs": [],
   "source": []
  }
 ],
 "metadata": {
  "kernelspec": {
   "display_name": "Python 3",
   "language": "python",
   "name": "python3"
  },
  "language_info": {
   "codemirror_mode": {
    "name": "ipython",
    "version": 3
   },
   "file_extension": ".py",
   "mimetype": "text/x-python",
   "name": "python",
   "nbconvert_exporter": "python",
   "pygments_lexer": "ipython3",
   "version": "3.11.9"
  }
 },
 "nbformat": 4,
 "nbformat_minor": 5
}
