{
 "cells": [
  {
   "cell_type": "markdown",
   "id": "f030a37f",
   "metadata": {},
   "source": [
    "\n",
    "---\n",
    "\n",
    "# 📊 **Quick Statistical Tests Guide for Interviews** 📊\n",
    "\n",
    "---\n",
    "\n",
    "| **Test Type** 🧠                           | **Purpose** 💡                                                                 | **Null Hypothesis (H₀)** 🎯                                          | **Alternative Hypothesis (H₁)** 💥                                    |\n",
    "|:----------------------------------------:|:--------------------------------------------------------------------------------:|:--------------------------------------------------------------------:|:---------------------------------------------------------------------:|\n",
    "| **One-Sample t-Test** ✨                 | Compare the sample mean to a **known population mean** 📏.                         | \\(\\mu = \\mu_0\\) (Sample mean = population mean)                      | \\(\\mu \\neq \\mu_0\\) (Sample mean ≠ population mean)                     |\n",
    "| **Two-Sample t-Test** 🤝                | Compare the means of **two independent samples** to see if they differ 🧐.         | \\(\\mu_1 = \\mu_2\\) (Means of both groups = each other)                | \\(\\mu_1 \\neq \\mu_2\\) (Means are different)                            |\n",
    "| **One-Tailed t-Test (Right-Tailed)** 🔝  | Tests if the sample mean is **greater** than the population mean ➡️.              | \\(\\mu \\leq \\mu_0\\) (Mean ≤ population mean)                          | \\(\\mu > \\mu_0\\) (Mean > population mean)                               |\n",
    "| **One-Tailed t-Test (Left-Tailed)** ⬇️   | Tests if the sample mean is **less** than the population mean 🔽.                 | \\(\\mu \\geq \\mu_0\\) (Mean ≥ population mean)                          | \\(\\mu < \\mu_0\\) (Mean < population mean)                               |\n",
    "| **Two-Tailed t-Test** ⚖️                | Tests if the sample mean is **different** from the population mean in **both directions** 🔄.  | \\(\\mu = \\mu_0\\) (Mean = population mean)                              | \\(\\mu \\neq \\mu_0\\) (Mean ≠ population mean)                           |\n",
    "| **One-Sample One-Tailed t-Test** ⏳      | Compare sample mean to a population mean, testing in **one direction** (greater or lesser) ⬆️. | \\(\\mu \\leq \\mu_0\\) (Mean ≤ threshold)                                | \\(\\mu > \\mu_0\\) (Mean > threshold) / \\(\\mu < \\mu_0\\) (Mean < threshold) |\n",
    "| **Two-Sample One-Tailed t-Test** 🔸      | Compare the means of **two independent samples** in **one direction** (greater or lesser) 🔝. | \\(\\mu_1 \\leq \\mu_2\\) (Mean of group 1 ≤ group 2)                    | \\(\\mu_1 > \\mu_2\\) (Mean of group 1 > group 2) / \\(\\mu_1 < \\mu_2\\) (Mean of group 1 < group 2) |\n",
    "| **Two-Sample Two-Tailed t-Test** ⚡      | Compare the means of **two independent samples** to see if they differ **in both directions** 🔀. | \\(\\mu_1 = \\mu_2\\) (Means of both groups = each other)                | \\(\\mu_1 \\neq \\mu_2\\) (Means are different)                            |\n",
    "| **Two-Proportion t-Test** 💬            | Compare the **proportions** of two independent groups ⚖️.                           | \\(p_1 = p_2\\) (Proportions are equal)                                | \\(p_1 \\neq p_2\\) (Proportions are different)                          |\n",
    "| **ANOVA Test** 🎯                       | Compare the means of **three or more groups** to find if there's a significant difference 💥. | \\(\\mu_1 = \\mu_2 = \\mu_3\\) (Means of all groups = each other)         | At least one \\(\\mu\\) is different (At least one group mean is different) |\n",
    "| **Chi-Square Test** 🔍                  | Tests the **association** between **categorical variables** or compares **observed vs. expected frequencies** 🔢. | The variables are **independent** (no association)                   | The variables are **dependent** (there is an association)              |\n",
    "\n",
    "---\n",
    "\n",
    "### **Key Notes** 📝:\n",
    "- **One-Sample t-Test**: Tests if **one sample** mean equals a **known population mean**.\n",
    "- **Two-Sample t-Test**: Compares **two independent sample means**.\n",
    "- **One-Tailed t-Test**: Tests **in one direction** only (greater or lesser).\n",
    "- **Two-Tailed t-Test**: Tests if the **sample mean is different** from the population mean (in **both directions**).\n",
    "- **Two-Proportion t-Test**: Compares **proportions** between two groups.\n",
    "- **ANOVA**: Compares means across **three or more groups**.\n",
    "- **Chi-Square**: Tests for the **relationship** between categorical variables or compares frequencies.\n",
    "\n",
    "---\n",
    "\n"
   ]
  }
 ],
 "metadata": {
  "kernelspec": {
   "display_name": "Python 3",
   "language": "python",
   "name": "python3"
  },
  "language_info": {
   "name": "python",
   "version": "3.11.9"
  }
 },
 "nbformat": 4,
 "nbformat_minor": 5
}
