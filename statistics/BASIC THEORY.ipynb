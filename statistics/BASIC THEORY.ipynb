{
 "cells": [
  {
   "cell_type": "markdown",
   "id": "98e2841c",
   "metadata": {},
   "source": [
    "# **➕INFERENTIAL STATISTICS➕**\n",
    "\n",
    "##### INFERENTIAL STATISTICS use sample data to make predictions about larger population often involving probability and hypothesis testing.\n",
    "\n",
    "**⭐IMPORTANT TERMINOLOGY TO REMEMBER-->**\n",
    "\n",
    "### **🔮 WHAT IS SAMPLE SPACE 🔮**\n",
    "\n",
    "SAMPLE SPACE is the set of all possible outcome of an experiment.\n",
    "\n",
    "e.g.:- coin toss ={HEAD , TAIL}"
   ]
  },
  {
   "cell_type": "markdown",
   "id": "b55b5002",
   "metadata": {},
   "source": [
    "### **🔮 WHAT IS AN EVENT 🔮**\n",
    "\n",
    "EVENT is a subset of sample space.\n",
    "\n",
    "e.g.:- in coin toss getting of HEAD is an event."
   ]
  },
  {
   "cell_type": "markdown",
   "id": "09dc6386",
   "metadata": {},
   "source": [
    "\n",
    "### **🔮 What Is Random Variable ? Example 🔮**\n",
    "\n",
    "---\n",
    "\n",
    "**Socho** tum ek **coin flip** kar rahe ho! Tumhare paas 2 possible outcomes hain:  \n",
    "✨ **Heads (Mukh)**  \n",
    "✨ **Tails (Peechhe)**\n",
    "\n",
    "---\n",
    "\n",
    "**Yahan par** jo outcome tumhare coin flip ka hai, wahi **random variable** hai!  \n",
    "Yeh **\"Heads\"** ya **\"Tails\"** mein se koi bhi ho sakta hai. \n",
    "\n",
    "---\n",
    "\n",
    "**Ab, samjho** agar hum **Heads** ko **1** aur **Tails** ko **0** assign kar dein,  \n",
    "toh tumhara **random variable** ab **1 (Heads)** ya **0 (Tails)** ho sakta hai. \n",
    "\n",
    "---\n",
    "\n",
    "**Matlab**, random variable tumhare **uncertain event** ko **numbers** mein badal deta hai,  \n",
    "taaki hum uska **analysis** kar sakein!\n",
    "\n",
    "--- \n",
    "\n"
   ]
  },
  {
   "cell_type": "markdown",
   "id": "b8a34dff",
   "metadata": {},
   "source": [
    "**Random variable ek numerical value hai jo uncertain future event ka possible outcome ko dikhata hai, aur probability batata hai ki woh outcome hone ka chance kitna hai.**"
   ]
  },
  {
   "cell_type": "markdown",
   "id": "5c13adca",
   "metadata": {},
   "source": [
    "### **🔮 WHAT IS PROBABILITY DISTRIBUTION ? 🔮**\n",
    "\n",
    "**Probability Distribution ek mathematical function hota hai jo ek random variable ke different possible outcomes ki probabilities ko describe karta hai.**\n",
    "\n",
    "E.G.:-TOSSING COIN WILL HAVE 2 OUTCOMES={HEAD , TAIL}\n",
    "PROBABILITY DISTRIBUTION WILL DESCRIBES THE PROBABILTY OF OUTCOME OR EVENT 1/2 FOR HEAD AND 1/2 FOR TAIL 50% FOR EACH...\n",
    "\n",
    "**TOTAL PROBABILITY IS ALWAYS 1**"
   ]
  },
  {
   "cell_type": "markdown",
   "id": "a35e68de",
   "metadata": {},
   "source": []
  }
 ],
 "metadata": {
  "language_info": {
   "name": "python"
  }
 },
 "nbformat": 4,
 "nbformat_minor": 5
}
