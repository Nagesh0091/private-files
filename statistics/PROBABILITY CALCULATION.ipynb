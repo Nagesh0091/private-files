{
 "cells": [
  {
   "cell_type": "markdown",
   "id": "71c9a68e",
   "metadata": {},
   "source": [
    "\n",
    "---\n",
    "\n",
    "### 🚚 **1. Delivery Time (Logistics)** 🚚\n",
    "\n",
    "You're managing a **logistics company**, and the **average delivery time** for packages is **3 days** with a **standard deviation** of **0.5 days**. You want to know the **probability** that a package will be delivered in **less than 2.5 days**. 📦⏳\n",
    "\n",
    "\n",
    "---\n"
   ]
  },
  {
   "cell_type": "code",
   "execution_count": null,
   "id": "8318cae6",
   "metadata": {},
   "outputs": [
    {
     "name": "stdout",
     "output_type": "stream",
     "text": [
      "Probability of delivery in less than 2.5 days: 0.1587\n"
     ]
    }
   ],
   "source": [
    "#### Python Code:\n",
    "mean = 3             # Average delivery time\n",
    "std_dev = 0.5        # Standard deviation OF TIME\n",
    "x = 2.5              # Time to check probability for\n",
    "\n",
    "# less than 2.5\n",
    "# this function always calculate probability on left side so \n",
    "# if it was more than 2.5 then we need to give x=-2.5\n",
    "from scipy import stats\n",
    "probability = stats.norm.cdf(x, mean, std_dev)# population parameters\n",
    "\n",
    "print(f\"Probability of delivery in less than 2.5 days: {probability:.4f}\")"
   ]
  },
  {
   "cell_type": "markdown",
   "id": "23cb0d8e",
   "metadata": {},
   "source": [
    "\n",
    "#### **Interpretation:**\n",
    "\n",
    "This shows you the **15 % (0.1587) of chance** that a package will arrive **in less than 2.5 days**. 📦🎉\n",
    "\n"
   ]
  },
  {
   "cell_type": "markdown",
   "id": "ccb9e8a8",
   "metadata": {},
   "source": [
    "\n",
    "\n",
    "Now, you asked about **`ppf`**:  \n",
    "> 🔹 **`ppf`** is the **Percent Point Function** (also called the *inverse* of the CDF).  \n",
    "> 🔹 It tells you: for a given probability, what is the corresponding delivery time?\n",
    "\n",
    "**Example:**  \n",
    "Suppose you want to know:  \n",
    "_\"How fast must a delivery happen to be faster than 10% of all deliveries?\"_\n",
    "\n",
    "You would use `ppf(0.1, mean, std_dev)`.\n",
    "\n",
    "\n",
    "\n",
    "\n",
    "✅ This finds the delivery time where **only 10%** of deliveries are **faster** than that time.\n",
    "\n"
   ]
  },
  {
   "cell_type": "code",
   "execution_count": 4,
   "id": "c905f79f",
   "metadata": {},
   "outputs": [
    {
     "name": "stdout",
     "output_type": "stream",
     "text": [
      "Delivery time at the 10th percentile: 2.48 days\n"
     ]
    }
   ],
   "source": [
    "\n",
    "# Find the delivery time that corresponds to the 10th percentile\n",
    "percentile = 0.15\n",
    "delivery_time = stats.norm.ppf(percentile, mean, std_dev)\n",
    "\n",
    "print(f\"Delivery time at the 10th percentile: {delivery_time:.2f} days\")\n"
   ]
  }
 ],
 "metadata": {
  "kernelspec": {
   "display_name": "Python 3",
   "language": "python",
   "name": "python3"
  },
  "language_info": {
   "codemirror_mode": {
    "name": "ipython",
    "version": 3
   },
   "file_extension": ".py",
   "mimetype": "text/x-python",
   "name": "python",
   "nbconvert_exporter": "python",
   "pygments_lexer": "ipython3",
   "version": "3.11.9"
  }
 },
 "nbformat": 4,
 "nbformat_minor": 5
}
