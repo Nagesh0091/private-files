{
 "cells": [
  {
   "cell_type": "markdown",
   "id": "3087306e",
   "metadata": {},
   "source": [
    "\n",
    "# 📘✨ Python List Mastery Practice Notebook ✨📘\n",
    "\n",
    "Welcome to your **Ultimate Python List Practice** notebook!  \n",
    "This notebook covers all essential and advanced list functions — designed to **test and grow your real understanding**.\n",
    "\n",
    "🧠 **Tip:** No function names are given in questions so you can figure out the best solution yourself!\n",
    "\n",
    "✍️ Write your answers in the provided code cells.  \n",
    "🔍 Need a hint or solution key? Just ask!\n",
    "\n",
    "---\n"
   ]
  },
  {
   "cell_type": "markdown",
   "id": "e64bbafa",
   "metadata": {},
   "source": [
    "### ❓ Question 1\n",
    "> Create an empty list and add five integers to it one by one."
   ]
  },
  {
   "cell_type": "code",
   "execution_count": 1,
   "id": "c61281fd",
   "metadata": {},
   "outputs": [
    {
     "name": "stdout",
     "output_type": "stream",
     "text": [
      "[1, 2, 3, 4, 5]\n"
     ]
    }
   ],
   "source": [
    "# ✍️ Your answer here:\n",
    "L = []\n",
    "for a in [1,2,3,4,5]:\n",
    "    L.append(a)\n",
    "    \n",
    "print(L)    "
   ]
  },
  {
   "cell_type": "markdown",
   "id": "a00d1f33",
   "metadata": {},
   "source": [
    "### ❓ Question 2\n",
    "> Add multiple elements `[10, 20, 30]` to an existing list in a single operation."
   ]
  },
  {
   "cell_type": "code",
   "execution_count": 2,
   "id": "f666efeb",
   "metadata": {},
   "outputs": [
    {
     "name": "stdout",
     "output_type": "stream",
     "text": [
      "[1, 2, 3, 4, 5, 10, 20, 30]\n"
     ]
    }
   ],
   "source": [
    "# ✍️ Your answer here:\n",
    "L.extend([10,20,30])\n",
    "print(L)"
   ]
  },
  {
   "cell_type": "markdown",
   "id": "783ea8a8",
   "metadata": {},
   "source": [
    "### ❓ Question 3\n",
    "> Insert the string `'Python'` at index 2 of the list `['Java', 'C++', 'Go', 'Rust']`."
   ]
  },
  {
   "cell_type": "code",
   "execution_count": 3,
   "id": "e3776765",
   "metadata": {},
   "outputs": [
    {
     "name": "stdout",
     "output_type": "stream",
     "text": [
      "['Java', 'C++', 'Python', 'Go', 'Rust']\n"
     ]
    }
   ],
   "source": [
    "# ✍️ Your answer here:\n",
    "L = ['Java', 'C++', 'Go', 'Rust']\n",
    "L.insert(2,\"Python\")\n",
    "print(L)"
   ]
  },
  {
   "cell_type": "markdown",
   "id": "93a558c7",
   "metadata": {},
   "source": [
    "### ❓ Question 4\n",
    "> From `[5, 3, 9, 3, 7]`, delete the first `3` that appears."
   ]
  },
  {
   "cell_type": "code",
   "execution_count": 4,
   "id": "439561fa",
   "metadata": {},
   "outputs": [
    {
     "name": "stdout",
     "output_type": "stream",
     "text": [
      "[5, 9, 3, 7]\n"
     ]
    }
   ],
   "source": [
    "# ✍️ Your answer here:\n",
    "l = [5,3,9,3,7]\n",
    "l.remove(3)\n",
    "print(l)"
   ]
  },
  {
   "cell_type": "markdown",
   "id": "409c788b",
   "metadata": {},
   "source": [
    "### ❓ Question 5\n",
    "> Remove and return the last item from a list of your choice."
   ]
  },
  {
   "cell_type": "code",
   "execution_count": 5,
   "id": "3c10ce44",
   "metadata": {},
   "outputs": [
    {
     "data": {
      "text/plain": [
       "7"
      ]
     },
     "execution_count": 5,
     "metadata": {},
     "output_type": "execute_result"
    }
   ],
   "source": [
    "# ✍️ Your answer here:\n",
    "l.pop()"
   ]
  },
  {
   "cell_type": "markdown",
   "id": "774bca4f",
   "metadata": {},
   "source": [
    "### ❓ Question 6\n",
    "> Remove the value at index 2 from `[10, 20, 30, 40, 50]`."
   ]
  },
  {
   "cell_type": "code",
   "execution_count": 6,
   "id": "fe84ebdb",
   "metadata": {},
   "outputs": [
    {
     "name": "stdout",
     "output_type": "stream",
     "text": [
      "[10, 20, 40, 50]\n"
     ]
    }
   ],
   "source": [
    "# ✍️ Your answer here:\n",
    "l = [10,20,30,40,50]\n",
    "l.pop(2) # or del l[2]\n",
    "print(l)"
   ]
  },
  {
   "cell_type": "markdown",
   "id": "b72f0085",
   "metadata": {},
   "source": [
    "### ❓ Question 7\n",
    "> Delete all items from a list, making it completely empty."
   ]
  },
  {
   "cell_type": "code",
   "execution_count": 7,
   "id": "a080a3c8",
   "metadata": {},
   "outputs": [],
   "source": [
    "# ✍️ Your answer here:\n",
    "l.clear()"
   ]
  },
  {
   "cell_type": "markdown",
   "id": "b6b3461b",
   "metadata": {},
   "source": [
    "### ❓ Question 8\n",
    "> Create a list of 10 elements and find the number of elements in it."
   ]
  },
  {
   "cell_type": "code",
   "execution_count": 8,
   "id": "ddf8e326",
   "metadata": {},
   "outputs": [
    {
     "data": {
      "text/plain": [
       "10"
      ]
     },
     "execution_count": 8,
     "metadata": {},
     "output_type": "execute_result"
    }
   ],
   "source": [
    "# ✍️ Your answer here:\n",
    "l = [1,2,3,4,5,6,7,8,9,10]\n",
    "len(l)"
   ]
  },
  {
   "cell_type": "markdown",
   "id": "3c13f688",
   "metadata": {},
   "source": [
    "### ❓ Question 9\n",
    "> In the list `[4, 6, 7, 4, 3, 4]`, find how many times `4` occurs."
   ]
  },
  {
   "cell_type": "code",
   "execution_count": 9,
   "id": "1a8910a7",
   "metadata": {},
   "outputs": [
    {
     "data": {
      "text/plain": [
       "3"
      ]
     },
     "execution_count": 9,
     "metadata": {},
     "output_type": "execute_result"
    }
   ],
   "source": [
    "# ✍️ Your answer here:\n",
    "l = [4,6,7,4,3,4]\n",
    "l.count(4)"
   ]
  },
  {
   "cell_type": "markdown",
   "id": "77102872",
   "metadata": {},
   "source": [
    "### ❓ Question 10\n",
    "> Find the position of `'apple'` in `['banana', 'apple', 'cherry', 'apple']`."
   ]
  },
  {
   "cell_type": "code",
   "execution_count": 10,
   "id": "db2bf57b",
   "metadata": {},
   "outputs": [
    {
     "data": {
      "text/plain": [
       "3"
      ]
     },
     "execution_count": 10,
     "metadata": {},
     "output_type": "execute_result"
    }
   ],
   "source": [
    "# ✍️ Your answer here:\n",
    "fruits = [\"banana\",\"apple\",\"cherry\",\"apple\"]\n",
    "fruits.index(\"apple\",2)"
   ]
  },
  {
   "cell_type": "markdown",
   "id": "9838107c",
   "metadata": {},
   "source": [
    "### ❓ Question 11\n",
    "> Check if `'mango'` is present in `['apple', 'orange', 'grape']`."
   ]
  },
  {
   "cell_type": "code",
   "execution_count": 11,
   "id": "4e8ae83d",
   "metadata": {},
   "outputs": [
    {
     "data": {
      "text/plain": [
       "False"
      ]
     },
     "execution_count": 11,
     "metadata": {},
     "output_type": "execute_result"
    }
   ],
   "source": [
    "# ✍️ Your answer here:\n",
    "\"mango\" in [\"apple\",\"orange\",\"grape\"]"
   ]
  },
  {
   "cell_type": "markdown",
   "id": "617034f3",
   "metadata": {},
   "source": [
    "### ❓ Question 12\n",
    "> Sort a list of numbers in ascending order."
   ]
  },
  {
   "cell_type": "code",
   "execution_count": 12,
   "id": "5cf5bf23",
   "metadata": {},
   "outputs": [
    {
     "data": {
      "text/plain": [
       "[3, 4, 4, 4, 6, 7]"
      ]
     },
     "execution_count": 12,
     "metadata": {},
     "output_type": "execute_result"
    }
   ],
   "source": [
    "# ✍️ Your answer here:\n",
    "l.sort()\n",
    "l"
   ]
  },
  {
   "cell_type": "markdown",
   "id": "4e3c1a2d",
   "metadata": {},
   "source": [
    "### ❓ Question 13\n",
    "> Sort the same list in descending order."
   ]
  },
  {
   "cell_type": "code",
   "execution_count": 13,
   "id": "2441e253",
   "metadata": {},
   "outputs": [
    {
     "data": {
      "text/plain": [
       "[7, 6, 4, 4, 4, 3]"
      ]
     },
     "execution_count": 13,
     "metadata": {},
     "output_type": "execute_result"
    }
   ],
   "source": [
    "# ✍️ Your answer here:\n",
    "l.sort(reverse=True)\n",
    "l"
   ]
  },
  {
   "cell_type": "markdown",
   "id": "66f90035",
   "metadata": {},
   "source": [
    "### ❓ Question 14\n",
    "> Sort `[11, 3, 24, 6]` without changing the original list."
   ]
  },
  {
   "cell_type": "code",
   "execution_count": 14,
   "id": "c8f71639",
   "metadata": {},
   "outputs": [],
   "source": [
    "# ✍️ Your answer here:\n",
    "l = [11,3,24,6]\n",
    "l2 = sorted(l)"
   ]
  },
  {
   "cell_type": "markdown",
   "id": "bd77a984",
   "metadata": {},
   "source": [
    "### ❓ Question 15\n",
    "> Reverse the list `[1, 2, 3, 4, 5]`."
   ]
  },
  {
   "cell_type": "code",
   "execution_count": 15,
   "id": "2acd60e6",
   "metadata": {},
   "outputs": [
    {
     "data": {
      "text/plain": [
       "[5, 4, 3, 2, 1]"
      ]
     },
     "execution_count": 15,
     "metadata": {},
     "output_type": "execute_result"
    }
   ],
   "source": [
    "# ✍️ Your answer here:\n",
    "l = [1,2,3,4,5]\n",
    "l.reverse()\n",
    "l"
   ]
  },
  {
   "cell_type": "markdown",
   "id": "17b44d79",
   "metadata": {},
   "source": [
    "### ❓ Question 16\n",
    "> Find the smallest and largest values in `[12, 33, 4, 55, 21]`."
   ]
  },
  {
   "cell_type": "code",
   "execution_count": 16,
   "id": "9c49eda8",
   "metadata": {},
   "outputs": [
    {
     "name": "stdout",
     "output_type": "stream",
     "text": [
      "1\n",
      "5\n"
     ]
    }
   ],
   "source": [
    "# ✍️ Your answer here:\n",
    "print(min(l))\n",
    "print(max(l))"
   ]
  },
  {
   "cell_type": "markdown",
   "id": "0f292e4e",
   "metadata": {},
   "source": [
    "### ❓ Question 17\n",
    "> Compute the average of `[5, 10, 15, 20]`."
   ]
  },
  {
   "cell_type": "code",
   "execution_count": 17,
   "id": "de88aef9",
   "metadata": {},
   "outputs": [
    {
     "data": {
      "text/plain": [
       "12.5"
      ]
     },
     "execution_count": 17,
     "metadata": {},
     "output_type": "execute_result"
    }
   ],
   "source": [
    "# ✍️ Your answer here:\n",
    "l = [5,10,15,20]\n",
    "import numpy as np\n",
    "np.mean(l)"
   ]
  },
  {
   "cell_type": "markdown",
   "id": "22cbb435",
   "metadata": {},
   "source": [
    "### ❓ Question 18\n",
    "> Find the middle value of `[2, 4, 6, 8, 10]`."
   ]
  },
  {
   "cell_type": "code",
   "execution_count": 18,
   "id": "b3b0410b",
   "metadata": {},
   "outputs": [
    {
     "data": {
      "text/plain": [
       "12.5"
      ]
     },
     "execution_count": 18,
     "metadata": {},
     "output_type": "execute_result"
    }
   ],
   "source": [
    "# ✍️ Your answer here:\n",
    "np.median(l)"
   ]
  },
  {
   "cell_type": "markdown",
   "id": "59ba0eda",
   "metadata": {},
   "source": [
    "### ❓ Question 19\n",
    "> Find the most frequent value in `[1, 2, 3, 2, 4, 2, 5]`."
   ]
  },
  {
   "cell_type": "code",
   "execution_count": 19,
   "id": "3765b49c",
   "metadata": {},
   "outputs": [
    {
     "name": "stdout",
     "output_type": "stream",
     "text": [
      "75.1.0\n"
     ]
    }
   ],
   "source": [
    "import setuptools\n",
    "print(setuptools.__version__)"
   ]
  },
  {
   "cell_type": "code",
   "execution_count": 23,
   "id": "65a09f10",
   "metadata": {},
   "outputs": [
    {
     "name": "stdout",
     "output_type": "stream",
     "text": [
      "Collecting collection\n",
      "  Downloading collection-0.1.6.tar.gz (5.0 kB)\n",
      "  Preparing metadata (setup.py): started\n",
      "  Preparing metadata (setup.py): finished with status 'done'\n",
      "Building wheels for collected packages: collection\n",
      "  Building wheel for collection (setup.py): started\n",
      "  Building wheel for collection (setup.py): finished with status 'done'\n",
      "  Created wheel for collection: filename=collection-0.1.6-py3-none-any.whl size=5111 sha256=872ebabedd98c166ccafec288fa4611db5c7260508b0eeb53218d7820e6693ba\n",
      "  Stored in directory: c:\\users\\nagesh agrawal\\appdata\\local\\pip\\cache\\wheels\\12\\bb\\2e\\e430efbb8e7a845a40292527c78c51d201db424b763ae2ccdb\n",
      "Successfully built collection\n",
      "Installing collected packages: collection\n",
      "Successfully installed collection-0.1.6\n"
     ]
    }
   ],
   "source": [
    "! pip install collection"
   ]
  },
  {
   "cell_type": "code",
   "execution_count": 26,
   "id": "cc315c3f",
   "metadata": {},
   "outputs": [
    {
     "name": "stdout",
     "output_type": "stream",
     "text": [
      "2\n",
      "Counter({2: 3, 1: 1, 3: 1, 4: 1, 5: 1})\n"
     ]
    }
   ],
   "source": [
    "# ✍️ Your answer here:\n",
    "l = [1,2,3,2,4,2,5]\n",
    "import statistics \n",
    "print(statistics.mode(l))\n",
    "\n",
    "from collections import Counter\n",
    "\n",
    "print(Counter(l))\n"
   ]
  },
  {
   "cell_type": "markdown",
   "id": "ba99ab22",
   "metadata": {},
   "source": [
    "### ❓ Question 20\n",
    "> Find the standard deviation of `[5, 10, 15, 20, 25]`."
   ]
  },
  {
   "cell_type": "code",
   "execution_count": 27,
   "id": "1edbafe4",
   "metadata": {},
   "outputs": [
    {
     "data": {
      "text/plain": [
       "7.0710678118654755"
      ]
     },
     "execution_count": 27,
     "metadata": {},
     "output_type": "execute_result"
    }
   ],
   "source": [
    "# ✍️ Your answer here:\n",
    "np.std([5,10,15,20,25])"
   ]
  },
  {
   "cell_type": "markdown",
   "id": "a0cba3ad",
   "metadata": {},
   "source": [
    "### ❓ Question 21\n",
    "> Copy a list and prove that changing the new list doesn't affect the original."
   ]
  },
  {
   "cell_type": "code",
   "execution_count": null,
   "id": "9cc3c824",
   "metadata": {},
   "outputs": [],
   "source": [
    "# ✍️ Your answer here:\n"
   ]
  },
  {
   "cell_type": "markdown",
   "id": "7880f08f",
   "metadata": {},
   "source": [
    "### ❓ Question 22\n",
    "> Create a 2D list and access the middle element."
   ]
  },
  {
   "cell_type": "code",
   "execution_count": null,
   "id": "1f73f047",
   "metadata": {},
   "outputs": [],
   "source": [
    "# ✍️ Your answer here:\n"
   ]
  },
  {
   "cell_type": "markdown",
   "id": "b2537e41",
   "metadata": {},
   "source": [
    "### ❓ Question 23\n",
    "> Convert `['apple', 'banana', 'mango']` to uppercase."
   ]
  },
  {
   "cell_type": "code",
   "execution_count": null,
   "id": "a88e61df",
   "metadata": {},
   "outputs": [],
   "source": [
    "# ✍️ Your answer here:\n"
   ]
  },
  {
   "cell_type": "markdown",
   "id": "6866444e",
   "metadata": {},
   "source": [
    "### ❓ Question 24\n",
    "> Create a new list of only even numbers from `[1, 2, 3, 4, 5, 6]`."
   ]
  },
  {
   "cell_type": "code",
   "execution_count": null,
   "id": "76328ec7",
   "metadata": {},
   "outputs": [],
   "source": [
    "# ✍️ Your answer here:\n"
   ]
  },
  {
   "cell_type": "markdown",
   "id": "38080867",
   "metadata": {},
   "source": [
    "### ❓ Question 25\n",
    "> Double every number in `[1, 2, 3, 4]` using a single-line expression."
   ]
  },
  {
   "cell_type": "code",
   "execution_count": null,
   "id": "a456329f",
   "metadata": {},
   "outputs": [],
   "source": [
    "# ✍️ Your answer here:\n"
   ]
  },
  {
   "cell_type": "markdown",
   "id": "60274b75",
   "metadata": {},
   "source": [
    "### ❓ Question 26\n",
    "> Extract the last 3 elements from `[10, 20, 30, 40, 50, 60]`."
   ]
  },
  {
   "cell_type": "code",
   "execution_count": null,
   "id": "1f51d386",
   "metadata": {},
   "outputs": [],
   "source": [
    "# ✍️ Your answer here:\n"
   ]
  },
  {
   "cell_type": "markdown",
   "id": "fefd753f",
   "metadata": {},
   "source": [
    "### ❓ Question 27\n",
    "> Get every second element from `[10, 20, 30, 40, 50, 60]`."
   ]
  },
  {
   "cell_type": "code",
   "execution_count": null,
   "id": "576b11df",
   "metadata": {},
   "outputs": [],
   "source": [
    "# ✍️ Your answer here:\n"
   ]
  },
  {
   "cell_type": "markdown",
   "id": "4ab614df",
   "metadata": {},
   "source": [
    "### ❓ Question 28\n",
    "> Reverse `[10, 20, 30, 40, 50, 60]` using slicing."
   ]
  },
  {
   "cell_type": "code",
   "execution_count": null,
   "id": "3d8b2def",
   "metadata": {},
   "outputs": [],
   "source": [
    "# ✍️ Your answer here:\n"
   ]
  },
  {
   "cell_type": "markdown",
   "id": "a563a9c1",
   "metadata": {},
   "source": [
    "### ❓ Question 29\n",
    "> Combine `['a', 'b', 'c']` and `[1, 2, 3]` into a list of pairs."
   ]
  },
  {
   "cell_type": "code",
   "execution_count": null,
   "id": "284989cd",
   "metadata": {},
   "outputs": [],
   "source": [
    "# ✍️ Your answer here:\n"
   ]
  },
  {
   "cell_type": "markdown",
   "id": "7bc2247a",
   "metadata": {},
   "source": [
    "### ❓ Question 30\n",
    "> Print index with value from `['x', 'y', 'z']`."
   ]
  },
  {
   "cell_type": "code",
   "execution_count": null,
   "id": "d13b696b",
   "metadata": {},
   "outputs": [],
   "source": [
    "# ✍️ Your answer here:\n"
   ]
  },
  {
   "cell_type": "markdown",
   "id": "806bb4b6",
   "metadata": {},
   "source": [
    "### ❓ Question 31\n",
    "> Increase every value in `[2, 4, 6]` by 10 using a built-in function."
   ]
  },
  {
   "cell_type": "code",
   "execution_count": null,
   "id": "c568fb5d",
   "metadata": {},
   "outputs": [],
   "source": [
    "# ✍️ Your answer here:\n"
   ]
  },
  {
   "cell_type": "markdown",
   "id": "50ccb76b",
   "metadata": {},
   "source": [
    "### ❓ Question 32\n",
    "> Convert the string `'Learn Python Fast'` into a list of words."
   ]
  },
  {
   "cell_type": "code",
   "execution_count": null,
   "id": "979538d4",
   "metadata": {},
   "outputs": [],
   "source": [
    "# ✍️ Your answer here:\n"
   ]
  },
  {
   "cell_type": "markdown",
   "id": "642df93d",
   "metadata": {},
   "source": [
    "### ❓ Question 33\n",
    "> Turn `['Data', 'Science', 'is', 'fun']` into a single sentence."
   ]
  },
  {
   "cell_type": "code",
   "execution_count": null,
   "id": "eacb4f25",
   "metadata": {},
   "outputs": [],
   "source": [
    "# ✍️ Your answer here:\n"
   ]
  },
  {
   "cell_type": "markdown",
   "id": "aa0dee4f",
   "metadata": {},
   "source": [
    "### ❓ Question 34\n",
    "> Remove duplicates from `[1, 2, 2, 3, 3, 3, 4]` without using `set()`."
   ]
  },
  {
   "cell_type": "code",
   "execution_count": null,
   "id": "037fb5df",
   "metadata": {},
   "outputs": [],
   "source": [
    "# ✍️ Your answer here:\n"
   ]
  },
  {
   "cell_type": "markdown",
   "id": "22bbe9cd",
   "metadata": {},
   "source": [
    "### ❓ Question 35\n",
    "> Flatten `[[1, 2], [3, 4], [5, 6]]` into a 1D list."
   ]
  },
  {
   "cell_type": "code",
   "execution_count": null,
   "id": "0f5cc4b8",
   "metadata": {},
   "outputs": [],
   "source": [
    "# ✍️ Your answer here:\n"
   ]
  },
  {
   "cell_type": "markdown",
   "id": "a71210ad",
   "metadata": {},
   "source": [
    "### ❓ Question 36\n",
    "> Rotate `[1, 2, 3, 4, 5]` three positions to the right."
   ]
  },
  {
   "cell_type": "code",
   "execution_count": null,
   "id": "d252e769",
   "metadata": {},
   "outputs": [],
   "source": [
    "# ✍️ Your answer here:\n"
   ]
  },
  {
   "cell_type": "markdown",
   "id": "c059d45c",
   "metadata": {},
   "source": [
    "### ❓ Question 37\n",
    "> Generate a new list with squares of values > 15 from `[10, 20, 30, 40]`."
   ]
  },
  {
   "cell_type": "code",
   "execution_count": null,
   "id": "e1f137bf",
   "metadata": {},
   "outputs": [],
   "source": [
    "# ✍️ Your answer here:\n"
   ]
  },
  {
   "cell_type": "markdown",
   "id": "26242b97",
   "metadata": {},
   "source": [
    "### ❓ Question 38\n",
    "> Make a list of tuples from two lists where elements have the same index and are even."
   ]
  },
  {
   "cell_type": "code",
   "execution_count": null,
   "id": "29087534",
   "metadata": {},
   "outputs": [],
   "source": [
    "# ✍️ Your answer here:\n"
   ]
  },
  {
   "cell_type": "markdown",
   "id": "8ab7bc9a",
   "metadata": {},
   "source": [
    "### ❓ Question 39\n",
    "> Return True if all elements in a list are positive."
   ]
  },
  {
   "cell_type": "code",
   "execution_count": null,
   "id": "020168d9",
   "metadata": {},
   "outputs": [],
   "source": [
    "# ✍️ Your answer here:\n"
   ]
  },
  {
   "cell_type": "markdown",
   "id": "083c0c95",
   "metadata": {},
   "source": [
    "### ❓ Question 40\n",
    "> Return True if at least one number in the list is a multiple of 5."
   ]
  },
  {
   "cell_type": "code",
   "execution_count": null,
   "id": "458d1027",
   "metadata": {},
   "outputs": [],
   "source": [
    "# ✍️ Your answer here:\n"
   ]
  }
 ],
 "metadata": {
  "kernelspec": {
   "display_name": "base",
   "language": "python",
   "name": "python3"
  },
  "language_info": {
   "codemirror_mode": {
    "name": "ipython",
    "version": 3
   },
   "file_extension": ".py",
   "mimetype": "text/x-python",
   "name": "python",
   "nbconvert_exporter": "python",
   "pygments_lexer": "ipython3",
   "version": "3.12.7"
  }
 },
 "nbformat": 4,
 "nbformat_minor": 5
}
