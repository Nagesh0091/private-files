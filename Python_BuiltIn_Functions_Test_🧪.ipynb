{
 "cells": [
  {
   "cell_type": "markdown",
   "id": "6210fd27",
   "metadata": {},
   "source": [
    "\n",
    "# 🧪✨ Python Built-in Functions Test Notebook ✨🧪\n",
    "\n",
    "Welcome to your **Python Built-in Functions Test**!  \n",
    "This notebook is designed to assess your understanding of various built-in Python functions.  \n",
    "Each section contains a question or task — your job is to write the correct solution.\n",
    "\n",
    "❗ No function names are mentioned, and no answers are provided.  \n",
    "✅ Focus on logic and recall of correct Python functions.\n",
    "\n",
    "✍️ Write your answers in the provided code cells. Good luck! 💡\n",
    "---\n"
   ]
  },
  {
   "cell_type": "markdown",
   "id": "f110ef6c",
   "metadata": {},
   "source": [
    "# **❤️PYTHON CODE AND BUILT IN FUNCTIONS❤️**"
   ]
  },
  {
   "cell_type": "code",
   "execution_count": null,
   "id": "537ad7c1",
   "metadata": {},
   "outputs": [],
   "source": [
    "# ✍️ Your answer here:\n"
   ]
  },
  {
   "cell_type": "markdown",
   "id": "bcfcb43f",
   "metadata": {},
   "source": [
    "# BASIC CODE\n"
   ]
  },
  {
   "cell_type": "code",
   "execution_count": null,
   "id": "9634e981",
   "metadata": {},
   "outputs": [],
   "source": [
    "# ✍️ Your answer here:\n"
   ]
  },
  {
   "cell_type": "markdown",
   "id": "210f691f",
   "metadata": {},
   "source": [
    "# PRINT FUNCTION"
   ]
  },
  {
   "cell_type": "code",
   "execution_count": null,
   "id": "f87b4cfe",
   "metadata": {},
   "outputs": [],
   "source": [
    "# ✍️ Your answer here:\n"
   ]
  },
  {
   "cell_type": "markdown",
   "id": "002b91f5",
   "metadata": {},
   "source": [
    "# CREATING VARIABLE"
   ]
  },
  {
   "cell_type": "code",
   "execution_count": null,
   "id": "fe749784",
   "metadata": {},
   "outputs": [],
   "source": [
    "# ✍️ Your answer here:\n"
   ]
  },
  {
   "cell_type": "markdown",
   "id": "6fd3f4b9",
   "metadata": {},
   "source": [
    "# TYPE FUNCTION"
   ]
  },
  {
   "cell_type": "code",
   "execution_count": null,
   "id": "7f25c3ce",
   "metadata": {},
   "outputs": [],
   "source": [
    "# ✍️ Your answer here:\n"
   ]
  },
  {
   "cell_type": "markdown",
   "id": "1796ac16",
   "metadata": {},
   "source": [
    "# **❤️ BUILT IN STRING METHODS❤️**"
   ]
  },
  {
   "cell_type": "code",
   "execution_count": null,
   "id": "245143e0",
   "metadata": {},
   "outputs": [],
   "source": [
    "# ✍️ Your answer here:\n"
   ]
  },
  {
   "cell_type": "markdown",
   "id": "1499803b",
   "metadata": {},
   "source": [
    "# CAPITALIZE FUNCTION"
   ]
  },
  {
   "cell_type": "code",
   "execution_count": null,
   "id": "ee176b2a",
   "metadata": {},
   "outputs": [],
   "source": [
    "# ✍️ Your answer here:\n"
   ]
  },
  {
   "cell_type": "markdown",
   "id": "01fed3be",
   "metadata": {},
   "source": [
    "# UPPER FUNCTION"
   ]
  },
  {
   "cell_type": "code",
   "execution_count": null,
   "id": "b1fdc336",
   "metadata": {},
   "outputs": [],
   "source": [
    "# ✍️ Your answer here:\n"
   ]
  },
  {
   "cell_type": "markdown",
   "id": "db694f40",
   "metadata": {},
   "source": [
    "# LOWER FUNCTION"
   ]
  },
  {
   "cell_type": "code",
   "execution_count": null,
   "id": "88d9fe0b",
   "metadata": {},
   "outputs": [],
   "source": [
    "# ✍️ Your answer here:\n"
   ]
  },
  {
   "cell_type": "markdown",
   "id": "ebd439ea",
   "metadata": {},
   "source": [
    "# TITTLE FUNCTION"
   ]
  },
  {
   "cell_type": "code",
   "execution_count": null,
   "id": "738edde1",
   "metadata": {},
   "outputs": [],
   "source": [
    "# ✍️ Your answer here:\n"
   ]
  },
  {
   "cell_type": "markdown",
   "id": "e2e05007",
   "metadata": {},
   "source": [
    "# SWAPCASE FUNCTION"
   ]
  },
  {
   "cell_type": "code",
   "execution_count": null,
   "id": "74f9ca05",
   "metadata": {},
   "outputs": [],
   "source": [
    "# ✍️ Your answer here:\n"
   ]
  },
  {
   "cell_type": "markdown",
   "id": "704054f3",
   "metadata": {},
   "source": [
    "# SPLIT FUNCTION"
   ]
  },
  {
   "cell_type": "code",
   "execution_count": null,
   "id": "f658df28",
   "metadata": {},
   "outputs": [],
   "source": [
    "# ✍️ Your answer here:\n"
   ]
  },
  {
   "cell_type": "markdown",
   "id": "a48827f4",
   "metadata": {},
   "source": [
    "# STRIP FUNCTION"
   ]
  },
  {
   "cell_type": "code",
   "execution_count": null,
   "id": "0c6edbc3",
   "metadata": {},
   "outputs": [],
   "source": [
    "# ✍️ Your answer here:\n"
   ]
  },
  {
   "cell_type": "markdown",
   "id": "f07f8a17",
   "metadata": {},
   "source": [
    "# LSTRIP FUNCTION\n"
   ]
  },
  {
   "cell_type": "code",
   "execution_count": null,
   "id": "9c875aa5",
   "metadata": {},
   "outputs": [],
   "source": [
    "# ✍️ Your answer here:\n"
   ]
  },
  {
   "cell_type": "markdown",
   "id": "c6770b3f",
   "metadata": {},
   "source": [
    "# CENTER FUNCTION"
   ]
  },
  {
   "cell_type": "code",
   "execution_count": null,
   "id": "c1adc832",
   "metadata": {},
   "outputs": [],
   "source": [
    "# ✍️ Your answer here:\n"
   ]
  },
  {
   "cell_type": "markdown",
   "id": "3dd53f05",
   "metadata": {},
   "source": [
    "# COUNT METHOD"
   ]
  },
  {
   "cell_type": "code",
   "execution_count": null,
   "id": "785f3723",
   "metadata": {},
   "outputs": [],
   "source": [
    "# ✍️ Your answer here:\n"
   ]
  },
  {
   "cell_type": "markdown",
   "id": "a2273b95",
   "metadata": {},
   "source": [
    "# FIND FUNCTION"
   ]
  },
  {
   "cell_type": "code",
   "execution_count": null,
   "id": "ad1d8903",
   "metadata": {},
   "outputs": [],
   "source": [
    "# ✍️ Your answer here:\n"
   ]
  },
  {
   "cell_type": "markdown",
   "id": "f5085304",
   "metadata": {},
   "source": [
    "# ENDSWITH FUNCTION"
   ]
  },
  {
   "cell_type": "code",
   "execution_count": null,
   "id": "17e7c17d",
   "metadata": {},
   "outputs": [],
   "source": [
    "# ✍️ Your answer here:\n"
   ]
  },
  {
   "cell_type": "markdown",
   "id": "01cebd99",
   "metadata": {},
   "source": [
    "# EXPANDTABS FUNCTION"
   ]
  },
  {
   "cell_type": "code",
   "execution_count": null,
   "id": "9d0b6b94",
   "metadata": {},
   "outputs": [],
   "source": [
    "# ✍️ Your answer here:\n"
   ]
  },
  {
   "cell_type": "markdown",
   "id": "d89c21e0",
   "metadata": {},
   "source": [
    "# INDEX FUNCTION"
   ]
  },
  {
   "cell_type": "code",
   "execution_count": null,
   "id": "b04a0f58",
   "metadata": {},
   "outputs": [],
   "source": [
    "# ✍️ Your answer here:\n"
   ]
  },
  {
   "cell_type": "markdown",
   "id": "db7b8e6f",
   "metadata": {},
   "source": [
    "# ISALNUM FUNCTION"
   ]
  },
  {
   "cell_type": "code",
   "execution_count": null,
   "id": "88b0020b",
   "metadata": {},
   "outputs": [],
   "source": [
    "# ✍️ Your answer here:\n"
   ]
  },
  {
   "cell_type": "markdown",
   "id": "a417132b",
   "metadata": {},
   "source": [
    "# ISALPHA FUNCTION"
   ]
  },
  {
   "cell_type": "code",
   "execution_count": null,
   "id": "243ebb64",
   "metadata": {},
   "outputs": [],
   "source": [
    "# ✍️ Your answer here:\n"
   ]
  },
  {
   "cell_type": "markdown",
   "id": "262f3057",
   "metadata": {},
   "source": [
    "# ISLOWER FUNCTION"
   ]
  },
  {
   "cell_type": "code",
   "execution_count": null,
   "id": "312aea54",
   "metadata": {},
   "outputs": [],
   "source": [
    "# ✍️ Your answer here:\n"
   ]
  },
  {
   "cell_type": "markdown",
   "id": "6a5f4f8a",
   "metadata": {},
   "source": [
    "# JOIN FUNCTION"
   ]
  },
  {
   "cell_type": "code",
   "execution_count": null,
   "id": "77c91329",
   "metadata": {},
   "outputs": [],
   "source": [
    "# ✍️ Your answer here:\n"
   ]
  },
  {
   "cell_type": "markdown",
   "id": "3b5862c2",
   "metadata": {},
   "source": [
    "# REPLACE FUNCTION"
   ]
  },
  {
   "cell_type": "code",
   "execution_count": null,
   "id": "478260b0",
   "metadata": {},
   "outputs": [],
   "source": [
    "# ✍️ Your answer here:\n"
   ]
  },
  {
   "cell_type": "markdown",
   "id": "1ce5c2db",
   "metadata": {},
   "source": [
    "# RFIND FUNCTION"
   ]
  },
  {
   "cell_type": "code",
   "execution_count": null,
   "id": "2697722c",
   "metadata": {},
   "outputs": [],
   "source": [
    "# ✍️ Your answer here:\n"
   ]
  },
  {
   "cell_type": "markdown",
   "id": "fb1e8163",
   "metadata": {},
   "source": [
    "# ISDECIAMAL FUNCTION"
   ]
  },
  {
   "cell_type": "code",
   "execution_count": null,
   "id": "b495c990",
   "metadata": {},
   "outputs": [],
   "source": [
    "# ✍️ Your answer here:\n"
   ]
  },
  {
   "cell_type": "markdown",
   "id": "b81aa0f1",
   "metadata": {},
   "source": [
    "# ABS FUNCTION"
   ]
  },
  {
   "cell_type": "code",
   "execution_count": null,
   "id": "06a08a9c",
   "metadata": {},
   "outputs": [],
   "source": [
    "# ✍️ Your answer here:\n"
   ]
  },
  {
   "cell_type": "markdown",
   "id": "b1d06fab",
   "metadata": {},
   "source": [
    "# ALL FUNCTION"
   ]
  },
  {
   "cell_type": "code",
   "execution_count": null,
   "id": "0d80f1ff",
   "metadata": {},
   "outputs": [],
   "source": [
    "# ✍️ Your answer here:\n"
   ]
  },
  {
   "cell_type": "markdown",
   "id": "86eba356",
   "metadata": {},
   "source": [
    "# ANY FUNCTION"
   ]
  },
  {
   "cell_type": "code",
   "execution_count": null,
   "id": "f66816e9",
   "metadata": {},
   "outputs": [],
   "source": [
    "# ✍️ Your answer here:\n"
   ]
  },
  {
   "cell_type": "markdown",
   "id": "a9e481fc",
   "metadata": {},
   "source": [
    "# BOOL FUNCTION"
   ]
  },
  {
   "cell_type": "code",
   "execution_count": null,
   "id": "fc747b12",
   "metadata": {},
   "outputs": [],
   "source": [
    "# ✍️ Your answer here:\n"
   ]
  },
  {
   "cell_type": "markdown",
   "id": "2ff5e566",
   "metadata": {},
   "source": [
    "# DIVMOD FUNCTION\n"
   ]
  },
  {
   "cell_type": "code",
   "execution_count": null,
   "id": "27b049ac",
   "metadata": {},
   "outputs": [],
   "source": [
    "# ✍️ Your answer here:\n"
   ]
  },
  {
   "cell_type": "markdown",
   "id": "085b413a",
   "metadata": {},
   "source": [
    "# FLOAT FUNCTION"
   ]
  },
  {
   "cell_type": "code",
   "execution_count": null,
   "id": "1d41b5b4",
   "metadata": {},
   "outputs": [],
   "source": [
    "# ✍️ Your answer here:\n"
   ]
  },
  {
   "cell_type": "markdown",
   "id": "b4927559",
   "metadata": {},
   "source": [
    "# INT FUNCTION"
   ]
  },
  {
   "cell_type": "code",
   "execution_count": null,
   "id": "7c6336b4",
   "metadata": {},
   "outputs": [],
   "source": [
    "# ✍️ Your answer here:\n"
   ]
  },
  {
   "cell_type": "markdown",
   "id": "84f1c20e",
   "metadata": {},
   "source": [
    "# STR FUNCTION"
   ]
  },
  {
   "cell_type": "code",
   "execution_count": null,
   "id": "80e3639c",
   "metadata": {},
   "outputs": [],
   "source": [
    "# ✍️ Your answer here:\n"
   ]
  },
  {
   "cell_type": "markdown",
   "id": "9f2bf743",
   "metadata": {},
   "source": [
    "# POW FUNCTION"
   ]
  },
  {
   "cell_type": "code",
   "execution_count": null,
   "id": "4cae24e3",
   "metadata": {},
   "outputs": [],
   "source": [
    "# ✍️ Your answer here:\n"
   ]
  },
  {
   "cell_type": "markdown",
   "id": "1aa9447a",
   "metadata": {},
   "source": [
    "# ROUND FUNCTION"
   ]
  },
  {
   "cell_type": "code",
   "execution_count": null,
   "id": "5a21671e",
   "metadata": {},
   "outputs": [],
   "source": [
    "# ✍️ Your answer here:\n"
   ]
  },
  {
   "cell_type": "markdown",
   "id": "eda5ec7d",
   "metadata": {},
   "source": [
    "# SUM FUNCTION"
   ]
  },
  {
   "cell_type": "code",
   "execution_count": null,
   "id": "9fff941d",
   "metadata": {},
   "outputs": [],
   "source": [
    "# ✍️ Your answer here:\n"
   ]
  },
  {
   "cell_type": "markdown",
   "id": "998e6322",
   "metadata": {},
   "source": [
    "# LIST FUNCTION\n"
   ]
  },
  {
   "cell_type": "code",
   "execution_count": null,
   "id": "3e535e16",
   "metadata": {},
   "outputs": [],
   "source": [
    "# ✍️ Your answer here:\n"
   ]
  },
  {
   "cell_type": "markdown",
   "id": "9933bdc3",
   "metadata": {},
   "source": [
    "# TUPLE FUNCTION"
   ]
  },
  {
   "cell_type": "code",
   "execution_count": null,
   "id": "1328667d",
   "metadata": {},
   "outputs": [],
   "source": [
    "# ✍️ Your answer here:\n"
   ]
  },
  {
   "cell_type": "markdown",
   "id": "faeb608d",
   "metadata": {},
   "source": [
    "# DICT FUNCTION"
   ]
  },
  {
   "cell_type": "code",
   "execution_count": null,
   "id": "c211deaa",
   "metadata": {},
   "outputs": [],
   "source": [
    "# ✍️ Your answer here:\n"
   ]
  },
  {
   "cell_type": "markdown",
   "id": "595a512c",
   "metadata": {},
   "source": [
    "# COLLABLE FUNCTION"
   ]
  },
  {
   "cell_type": "code",
   "execution_count": null,
   "id": "5c858703",
   "metadata": {},
   "outputs": [],
   "source": [
    "# ✍️ Your answer here:\n"
   ]
  },
  {
   "cell_type": "markdown",
   "id": "b5ffa567",
   "metadata": {},
   "source": [
    "# STR , REPR , ASCII FUNCTION"
   ]
  },
  {
   "cell_type": "code",
   "execution_count": null,
   "id": "9cc9ef47",
   "metadata": {},
   "outputs": [],
   "source": [
    "# ✍️ Your answer here:\n"
   ]
  },
  {
   "cell_type": "markdown",
   "id": "25f138e5",
   "metadata": {},
   "source": [
    "| Function | Purpose             | Handles Non-ASCII     | Output Style           |\n",
    "|----------|---------------------|------------------------|-------------------------|\n",
    "| str()    | Human-readable      | Keeps original chars   | Friendly                |\n",
    "| repr()   | Developer-friendly  | Keeps original chars   | Detailed / debug view  |\n",
    "| ascii()  | ASCII-only safe view| Escapes non-ASCII      | Uses \\uXXXX or \\xXX     |\n"
   ]
  },
  {
   "cell_type": "code",
   "execution_count": null,
   "id": "9d9c2caf",
   "metadata": {},
   "outputs": [],
   "source": [
    "# ✍️ Your answer here:\n"
   ]
  }
 ],
 "metadata": {
  "kernelspec": {
   "display_name": "Python 3",
   "language": "python",
   "name": "python3"
  },
  "language_info": {
   "name": "python",
   "version": "3.11.9"
  }
 },
 "nbformat": 4,
 "nbformat_minor": 5
}
