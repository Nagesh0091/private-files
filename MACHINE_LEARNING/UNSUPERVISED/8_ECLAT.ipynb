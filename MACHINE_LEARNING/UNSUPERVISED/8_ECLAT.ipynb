{
 "cells": [
  {
   "cell_type": "markdown",
   "id": "68944283",
   "metadata": {},
   "source": [
    "# 🌟 **ECLAT Algorithm – Simple Definition**\n",
    "\n",
    "**ECLAT (Equivalence Class Clustering and bottom-up Lattice Traversal)** is an algorithm used to find **frequent itemsets** in a dataset by using **vertical data format** (item ⟶ transaction IDs).\n",
    "It’s used in **association rule mining**.\n",
    "\n",
    "---\n",
    "\n",
    "## 📌 **Key Concepts You Should Know**\n",
    "\n",
    "### 🧱 **1. Vertical Data Format**\n",
    "\n",
    "* Unlike Apriori (which uses horizontal format: transaction ⟶ items),\n",
    "  ECLAT stores data as:\n",
    "\n",
    "  ```\n",
    "  Item → [TID1, TID2, TID3, ...]\n",
    "  ```\n",
    "\n",
    "  (TID = Transaction ID)\n",
    "\n",
    "### 🔍 **2. Intersection for Support**\n",
    "\n",
    "* ECLAT finds frequent itemsets by **intersecting TID lists**.\n",
    "  This tells how many transactions contain all items.\n",
    "\n",
    "### 📈 **3. Support Threshold**\n",
    "\n",
    "* Only those itemsets whose support (frequency) ≥ min\\_support are kept.\n",
    "\n",
    "### 🧠 **4. Depth-First Search (DFS)**\n",
    "\n",
    "* ECLAT uses **DFS** to explore itemset combinations quickly.\n",
    "\n",
    "\n",
    "## ✅ **Advantages**\n",
    "\n",
    "* 🚀 Faster than Apriori on dense datasets\n",
    "* 💾 Memory-efficient for small TID lists\n",
    "* 🔗 Easy to find all frequent itemsets\n",
    "\n",
    "\n",
    "## ⚠️ **Disadvantages**\n",
    "\n",
    "* ❌ May use too much memory if dataset is huge\n",
    "* ⚙️ Needs vertical transformation before starting\n",
    "\n",
    "\n",
    "\n",
    "## 📊 **Example (Vertical Format)**\n",
    "\n",
    "| Item | TID List                |\n",
    "| ---- | ----------------------- |\n",
    "| A    | \\[1, 2, 3]              |\n",
    "| B    | \\[1, 2]                 |\n",
    "| A,B  | \\[1, 2] → support = 2 ✅ |\n",
    "\n",
    "---"
   ]
  },
  {
   "cell_type": "code",
   "execution_count": null,
   "id": "4c139fc4",
   "metadata": {},
   "outputs": [],
   "source": []
  }
 ],
 "metadata": {
  "kernelspec": {
   "display_name": "Python 3",
   "language": "python",
   "name": "python3"
  },
  "language_info": {
   "name": "python",
   "version": "3.11.9"
  }
 },
 "nbformat": 4,
 "nbformat_minor": 5
}
