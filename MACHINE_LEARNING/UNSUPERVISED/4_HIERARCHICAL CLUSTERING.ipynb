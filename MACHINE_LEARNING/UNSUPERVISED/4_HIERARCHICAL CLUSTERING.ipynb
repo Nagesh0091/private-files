{
 "cells": [
  {
   "cell_type": "markdown",
   "id": "7ed8861d",
   "metadata": {},
   "source": [
    "\n",
    "\n",
    "# 🌟 **Hierarchical Clustering Algorithm 🌲**\n",
    "\n",
    "\n",
    "\n",
    "## ✅ **Simple Definition:**\n",
    "\n",
    "**Hierarchical Clustering** is a method that **builds a tree of clusters** by **either merging** or **splitting** them step-by-step.\n",
    "You can see this process in a **dendrogram** (tree diagram) 📉🌿\n",
    "\n",
    "---\n",
    "\n",
    "## 📌 **Types of Hierarchical Clustering:**\n",
    "\n",
    "1. 🔼 **Agglomerative (Bottom-Up)** –\n",
    "   Start with **each point as a cluster**, then **merge the closest ones** until only one cluster remains.\n",
    "\n",
    "2. 🔽 **Divisive (Top-Down)** –\n",
    "   Start with **all points in one cluster**, then **split them** until each point is its own cluster.\n",
    "\n",
    "\n",
    "\n",
    "## 📊 **How It Works (Agglomerative Example):**\n",
    "\n",
    "1. Treat each data point as its **own cluster** 🔹\n",
    "2. Calculate distances between all clusters 📏\n",
    "3. Merge the **closest pair** of clusters 🧲\n",
    "4. Repeat until all points are in a single cluster 🌐\n",
    "5. Show the result in a **dendrogram** 🌳\n",
    "\n",
    "\n",
    "\n",
    "## 🎨 **What is a Dendrogram?**\n",
    "\n",
    "A **dendrogram** is a tree-like diagram that shows how clusters were merged.\n",
    "You can **cut the tree horizontally** to choose the number of clusters ✂️🌳\n",
    "\n",
    "\n",
    "\n",
    "## 🧠 **Distance Metrics & Linkage Methods:**\n",
    "\n",
    "* **Distance Metrics:** Euclidean, Manhattan, etc.\n",
    "* **Linkage Methods:**\n",
    "\n",
    "  * 🔗 **Single Linkage**: closest point\n",
    "  * 🔗 **Complete Linkage**: farthest point\n",
    "  * 🔗 **Average Linkage**: average distance\n",
    "  * 🔗 **Ward’s Method**: minimizes variance\n",
    "\n",
    "\n",
    "\n",
    "## ✅ **Best For:**\n",
    "\n",
    "* Small datasets 📦\n",
    "* When you want a **hierarchical structure** 🌿\n",
    "* Doesn’t require you to choose **K** at the start 🎯\n",
    "\n",
    "\n",
    "\n",
    "## ⚠️ **Limitations:**\n",
    "\n",
    "* **Computationally expensive** for large datasets 🐢\n",
    "* **Once merged**, clusters **can’t be undone** ❌\n",
    "* Sensitive to **noisy data** and **outliers** ⚠️\n",
    "\n",
    "\n",
    "\n",
    "## 🐍 **Python Example (With Dendrogram)**\n",
    "\n",
    "```python\n",
    "from scipy.cluster.hierarchy import dendrogram, linkage\n",
    "import matplotlib.pyplot as plt\n",
    "\n",
    "Z = linkage(data, method='ward')  # 'data' is your dataset\n",
    "dendrogram(Z)\n",
    "plt.title(\"Dendrogram 🌳\")\n",
    "plt.xlabel(\"Data Points\")\n",
    "plt.ylabel(\"Distance\")\n",
    "plt.show()\n",
    "```\n",
    "\n",
    "\n"
   ]
  },
  {
   "cell_type": "code",
   "execution_count": 5,
   "id": "659857da",
   "metadata": {},
   "outputs": [],
   "source": [
    "# LOADING DATA:\n",
    "import pandas as pd\n",
    "DATA=pd.read_csv(r\"C:\\Users\\Nagesh Agrawal\\OneDrive\\Desktop\\MACHINE LEARNING\\1_DATASETS\\CLUSTERING-1.csv\")"
   ]
  },
  {
   "cell_type": "code",
   "execution_count": 8,
   "id": "6a008656",
   "metadata": {},
   "outputs": [
    {
     "data": {
      "image/png": "[encoded data removed]",
      "text/plain": [
       "<Figure size 640x480 with 1 Axes>"
      ]
     },
     "metadata": {},
     "output_type": "display_data"
    }
   ],
   "source": [
    "from scipy.cluster.hierarchy import dendrogram,linkage\n",
    "\n",
    "# DENDROGRAM :\n",
    "DENDROGRAM = dendrogram(linkage(DATA,method=\"ward\"))# method=\"ward\",\"single\"\n",
    "\n",
    "\n"
   ]
  },
  {
   "cell_type": "markdown",
   "id": "fbafd1f2",
   "metadata": {},
   "source": [
    "##### SUPPOSE MY CLIENT TELL ME THAT HE WANT 4 CLUSTERS "
   ]
  },
  {
   "cell_type": "code",
   "execution_count": 11,
   "id": "ba5d972d",
   "metadata": {},
   "outputs": [
    {
     "data": {
      "text/plain": [
       "array([2, 2, 1, 0, 1, 0, 0, 0, 3, 3, 0, 2, 2, 2, 0, 0, 2, 1, 3, 0],\n",
       "      dtype=int64)"
      ]
     },
     "execution_count": 11,
     "metadata": {},
     "output_type": "execute_result"
    }
   ],
   "source": [
    "from sklearn.cluster import AgglomerativeClustering\n",
    "HC=AgglomerativeClustering(n_clusters=4,metric=\"euclidean\",linkage=\"single\")\n",
    "CLUSTERS = HC.fit_predict(DATA)\n",
    "CLUSTERS"
   ]
  },
  {
   "cell_type": "code",
   "execution_count": 12,
   "id": "826cf853",
   "metadata": {},
   "outputs": [],
   "source": [
    "DATA[\"HIERARCHICAL_CLUSTERS\"]=CLUSTERS"
   ]
  },
  {
   "cell_type": "code",
   "execution_count": 13,
   "id": "a3e3a5e9",
   "metadata": {},
   "outputs": [
    {
     "data": {
      "application/vnd.microsoft.datawrangler.viewer.v0+json": {
       "columns": [
        {
         "name": "index",
         "rawType": "int64",
         "type": "integer"
        },
        {
         "name": "CustomerID",
         "rawType": "int64",
         "type": "integer"
        },
        {
         "name": "Age",
         "rawType": "int64",
         "type": "integer"
        },
        {
         "name": "AnnualIncome(k$)",
         "rawType": "int64",
         "type": "integer"
        },
        {
         "name": "HIERARCHICAL_CLUSTERS",
         "rawType": "int64",
         "type": "integer"
        }
       ],
       "conversionMethod": "pd.DataFrame",
       "ref": "11c48cd2-4cb5-4379-9764-091809f237d8",
       "rows": [
        [
         "0",
         "1",
         "22",
         "15",
         "2"
        ],
        [
         "1",
         "2",
         "25",
         "16",
         "2"
        ],
        [
         "2",
         "3",
         "47",
         "85",
         "1"
        ],
        [
         "3",
         "4",
         "52",
         "70",
         "0"
        ],
        [
         "4",
         "5",
         "46",
         "88",
         "1"
        ],
        [
         "5",
         "6",
         "56",
         "60",
         "0"
        ],
        [
         "6",
         "7",
         "55",
         "62",
         "0"
        ],
        [
         "7",
         "8",
         "60",
         "75",
         "0"
        ],
        [
         "8",
         "9",
         "34",
         "40",
         "3"
        ],
        [
         "9",
         "10",
         "32",
         "42",
         "3"
        ],
        [
         "10",
         "11",
         "40",
         "65",
         "0"
        ],
        [
         "11",
         "12",
         "28",
         "18",
         "2"
        ],
        [
         "12",
         "13",
         "27",
         "19",
         "2"
        ],
        [
         "13",
         "14",
         "30",
         "20",
         "2"
        ],
        [
         "14",
         "15",
         "58",
         "80",
         "0"
        ],
        [
         "15",
         "16",
         "53",
         "78",
         "0"
        ],
        [
         "16",
         "17",
         "29",
         "21",
         "2"
        ],
        [
         "17",
         "18",
         "45",
         "90",
         "1"
        ],
        [
         "18",
         "19",
         "33",
         "38",
         "3"
        ],
        [
         "19",
         "20",
         "50",
         "67",
         "0"
        ]
       ],
       "shape": {
        "columns": 4,
        "rows": 20
       }
      },
      "text/html": [
       "<div>\n",
       "<style scoped>\n",
       "    .dataframe tbody tr th:only-of-type {\n",
       "        vertical-align: middle;\n",
       "    }\n",
       "\n",
       "    .dataframe tbody tr th {\n",
       "        vertical-align: top;\n",
       "    }\n",
       "\n",
       "    .dataframe thead th {\n",
       "        text-align: right;\n",
       "    }\n",
       "</style>\n",
       "<table border=\"1\" class=\"dataframe\">\n",
       "  <thead>\n",
       "    <tr style=\"text-align: right;\">\n",
       "      <th></th>\n",
       "      <th>CustomerID</th>\n",
       "      <th>Age</th>\n",
       "      <th>AnnualIncome(k$)</th>\n",
       "      <th>HIERARCHICAL_CLUSTERS</th>\n",
       "    </tr>\n",
       "  </thead>\n",
       "  <tbody>\n",
       "    <tr>\n",
       "      <th>0</th>\n",
       "      <td>1</td>\n",
       "      <td>22</td>\n",
       "      <td>15</td>\n",
       "      <td>2</td>\n",
       "    </tr>\n",
       "    <tr>\n",
       "      <th>1</th>\n",
       "      <td>2</td>\n",
       "      <td>25</td>\n",
       "      <td>16</td>\n",
       "      <td>2</td>\n",
       "    </tr>\n",
       "    <tr>\n",
       "      <th>2</th>\n",
       "      <td>3</td>\n",
       "      <td>47</td>\n",
       "      <td>85</td>\n",
       "      <td>1</td>\n",
       "    </tr>\n",
       "    <tr>\n",
       "      <th>3</th>\n",
       "      <td>4</td>\n",
       "      <td>52</td>\n",
       "      <td>70</td>\n",
       "      <td>0</td>\n",
       "    </tr>\n",
       "    <tr>\n",
       "      <th>4</th>\n",
       "      <td>5</td>\n",
       "      <td>46</td>\n",
       "      <td>88</td>\n",
       "      <td>1</td>\n",
       "    </tr>\n",
       "    <tr>\n",
       "      <th>5</th>\n",
       "      <td>6</td>\n",
       "      <td>56</td>\n",
       "      <td>60</td>\n",
       "      <td>0</td>\n",
       "    </tr>\n",
       "    <tr>\n",
       "      <th>6</th>\n",
       "      <td>7</td>\n",
       "      <td>55</td>\n",
       "      <td>62</td>\n",
       "      <td>0</td>\n",
       "    </tr>\n",
       "    <tr>\n",
       "      <th>7</th>\n",
       "      <td>8</td>\n",
       "      <td>60</td>\n",
       "      <td>75</td>\n",
       "      <td>0</td>\n",
       "    </tr>\n",
       "    <tr>\n",
       "      <th>8</th>\n",
       "      <td>9</td>\n",
       "      <td>34</td>\n",
       "      <td>40</td>\n",
       "      <td>3</td>\n",
       "    </tr>\n",
       "    <tr>\n",
       "      <th>9</th>\n",
       "      <td>10</td>\n",
       "      <td>32</td>\n",
       "      <td>42</td>\n",
       "      <td>3</td>\n",
       "    </tr>\n",
       "    <tr>\n",
       "      <th>10</th>\n",
       "      <td>11</td>\n",
       "      <td>40</td>\n",
       "      <td>65</td>\n",
       "      <td>0</td>\n",
       "    </tr>\n",
       "    <tr>\n",
       "      <th>11</th>\n",
       "      <td>12</td>\n",
       "      <td>28</td>\n",
       "      <td>18</td>\n",
       "      <td>2</td>\n",
       "    </tr>\n",
       "    <tr>\n",
       "      <th>12</th>\n",
       "      <td>13</td>\n",
       "      <td>27</td>\n",
       "      <td>19</td>\n",
       "      <td>2</td>\n",
       "    </tr>\n",
       "    <tr>\n",
       "      <th>13</th>\n",
       "      <td>14</td>\n",
       "      <td>30</td>\n",
       "      <td>20</td>\n",
       "      <td>2</td>\n",
       "    </tr>\n",
       "    <tr>\n",
       "      <th>14</th>\n",
       "      <td>15</td>\n",
       "      <td>58</td>\n",
       "      <td>80</td>\n",
       "      <td>0</td>\n",
       "    </tr>\n",
       "    <tr>\n",
       "      <th>15</th>\n",
       "      <td>16</td>\n",
       "      <td>53</td>\n",
       "      <td>78</td>\n",
       "      <td>0</td>\n",
       "    </tr>\n",
       "    <tr>\n",
       "      <th>16</th>\n",
       "      <td>17</td>\n",
       "      <td>29</td>\n",
       "      <td>21</td>\n",
       "      <td>2</td>\n",
       "    </tr>\n",
       "    <tr>\n",
       "      <th>17</th>\n",
       "      <td>18</td>\n",
       "      <td>45</td>\n",
       "      <td>90</td>\n",
       "      <td>1</td>\n",
       "    </tr>\n",
       "    <tr>\n",
       "      <th>18</th>\n",
       "      <td>19</td>\n",
       "      <td>33</td>\n",
       "      <td>38</td>\n",
       "      <td>3</td>\n",
       "    </tr>\n",
       "    <tr>\n",
       "      <th>19</th>\n",
       "      <td>20</td>\n",
       "      <td>50</td>\n",
       "      <td>67</td>\n",
       "      <td>0</td>\n",
       "    </tr>\n",
       "  </tbody>\n",
       "</table>\n",
       "</div>"
      ],
      "text/plain": [
       "    CustomerID  Age  AnnualIncome(k$)  HIERARCHICAL_CLUSTERS\n",
       "0            1   22                15                      2\n",
       "1            2   25                16                      2\n",
       "2            3   47                85                      1\n",
       "3            4   52                70                      0\n",
       "4            5   46                88                      1\n",
       "5            6   56                60                      0\n",
       "6            7   55                62                      0\n",
       "7            8   60                75                      0\n",
       "8            9   34                40                      3\n",
       "9           10   32                42                      3\n",
       "10          11   40                65                      0\n",
       "11          12   28                18                      2\n",
       "12          13   27                19                      2\n",
       "13          14   30                20                      2\n",
       "14          15   58                80                      0\n",
       "15          16   53                78                      0\n",
       "16          17   29                21                      2\n",
       "17          18   45                90                      1\n",
       "18          19   33                38                      3\n",
       "19          20   50                67                      0"
      ]
     },
     "execution_count": 13,
     "metadata": {},
     "output_type": "execute_result"
    }
   ],
   "source": [
    "DATA"
   ]
  }
 ],
 "metadata": {
  "kernelspec": {
   "display_name": "Python 3",
   "language": "python",
   "name": "python3"
  },
  "language_info": {
   "codemirror_mode": {
    "name": "ipython",
    "version": 3
   },
   "file_extension": ".py",
   "mimetype": "text/x-python",
   "name": "python",
   "nbconvert_exporter": "python",
   "pygments_lexer": "ipython3",
   "version": "3.11.9"
  }
 },
 "nbformat": 4,
 "nbformat_minor": 5
}
