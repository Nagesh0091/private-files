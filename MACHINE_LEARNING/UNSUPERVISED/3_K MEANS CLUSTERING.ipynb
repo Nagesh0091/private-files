{
 "cells": [
  {
   "cell_type": "markdown",
   "id": "a04663ea",
   "metadata": {},
   "source": [
    "\n",
    "\n",
    "\n",
    "# 🌟 **K-Means Clustering Algorithm 💠**\n",
    "\n",
    "\n",
    "\n",
    "## ✅ **Simple Definition:**\n",
    "\n",
    "**K-Means** is a clustering algorithm that groups data into **K clusters** by placing similar data points together.\n",
    "Each cluster has a **center point called a centroid** 🎯.\n",
    "\n",
    "\n",
    "\n",
    "## 📌 **How It Works (Step-by-Step):**\n",
    "\n",
    "1. **Choose K** = number of clusters 📦\n",
    "2. **Randomly place K centroids** 🌀\n",
    "3. **Assign each point** to the **nearest centroid** 📏\n",
    "4. **Recalculate centroids** as the mean of the points in each cluster ➕➗\n",
    "5. **Repeat steps 3–4** until centroids don’t move much 🔁\n",
    "\n",
    "\n",
    "\n",
    "## 🎨 **Example (3 Clusters)**\n",
    "\n",
    "Imagine points are customers. K-Means will group them like:\n",
    "\n",
    "* Group 1: Budget buyers 💸\n",
    "* Group 2: Average spenders 💳\n",
    "* Group 3: Premium customers 💼\n",
    "\n",
    "\n",
    "## 📊 **Key Term:**\n",
    "\n",
    "* **Centroid** 🎯: Center of a cluster\n",
    "* **WCSS** 📉: Within-cluster sum of squares (used in Elbow method)\n",
    "* **Inertia\\_**: A measure of WCSS (used in sklearn)\n",
    "\n",
    "\n",
    "\n",
    "## 📈 **When to Use K-Means:**\n",
    "\n",
    "* You know how many groups you want (K) 🧮\n",
    "* Data is numeric and **spherical** in shape 🔵\n",
    "* You want **fast and simple** clustering ⚡\n",
    "\n",
    "\n",
    "\n",
    "## ⚠️ **Limitations:**\n",
    "\n",
    "* You must specify K beforehand ❓\n",
    "* Doesn't handle outliers or non-spherical clusters well 🚫\n",
    "* Sensitive to initial placement of centroids 🎯\n",
    "\n",
    "\n",
    "\n",
    "## 🐍 **Bonus: Python Code Example**\n",
    "\n",
    "```python\n",
    "from sklearn.cluster import KMeans\n",
    "kmeans = KMeans(n_clusters=3, random_state=42)\n",
    "kmeans.fit(data)  # data = your dataset\n",
    "labels = kmeans.labels_  # cluster labels for each point\n",
    "```\n",
    "## GOOD MODEL IS ONE WITH LOW INERTIA AND LOW NO. OF CLUSTERS.\n",
    "\n"
   ]
  },
  {
   "cell_type": "code",
   "execution_count": 11,
   "id": "5b18369d",
   "metadata": {},
   "outputs": [],
   "source": [
    "# LOAD DATASET :\n",
    "import pandas as pd\n",
    "DATA=pd.read_csv(r\"C:\\Users\\Nagesh Agrawal\\OneDrive\\Desktop\\MACHINE LEARNING\\1_DATASETS\\CLUSTERING-1.csv\")"
   ]
  },
  {
   "cell_type": "code",
   "execution_count": 12,
   "id": "5f06168b",
   "metadata": {},
   "outputs": [
    {
     "name": "stderr",
     "output_type": "stream",
     "text": [
      "c:\\Users\\Nagesh Agrawal\\AppData\\Local\\Programs\\Python\\Python311\\Lib\\site-packages\\sklearn\\cluster\\_kmeans.py:1412: FutureWarning: The default value of `n_init` will change from 10 to 'auto' in 1.4. Set the value of `n_init` explicitly to suppress the warning\n",
      "  super()._check_params_vs_input(X, default_n_init=10)\n",
      "c:\\Users\\Nagesh Agrawal\\AppData\\Local\\Programs\\Python\\Python311\\Lib\\site-packages\\sklearn\\cluster\\_kmeans.py:1412: FutureWarning: The default value of `n_init` will change from 10 to 'auto' in 1.4. Set the value of `n_init` explicitly to suppress the warning\n",
      "  super()._check_params_vs_input(X, default_n_init=10)\n",
      "c:\\Users\\Nagesh Agrawal\\AppData\\Local\\Programs\\Python\\Python311\\Lib\\site-packages\\sklearn\\cluster\\_kmeans.py:1412: FutureWarning: The default value of `n_init` will change from 10 to 'auto' in 1.4. Set the value of `n_init` explicitly to suppress the warning\n",
      "  super()._check_params_vs_input(X, default_n_init=10)\n",
      "c:\\Users\\Nagesh Agrawal\\AppData\\Local\\Programs\\Python\\Python311\\Lib\\site-packages\\sklearn\\cluster\\_kmeans.py:1412: FutureWarning: The default value of `n_init` will change from 10 to 'auto' in 1.4. Set the value of `n_init` explicitly to suppress the warning\n",
      "  super()._check_params_vs_input(X, default_n_init=10)\n",
      "c:\\Users\\Nagesh Agrawal\\AppData\\Local\\Programs\\Python\\Python311\\Lib\\site-packages\\sklearn\\cluster\\_kmeans.py:1412: FutureWarning: The default value of `n_init` will change from 10 to 'auto' in 1.4. Set the value of `n_init` explicitly to suppress the warning\n",
      "  super()._check_params_vs_input(X, default_n_init=10)\n",
      "c:\\Users\\Nagesh Agrawal\\AppData\\Local\\Programs\\Python\\Python311\\Lib\\site-packages\\sklearn\\cluster\\_kmeans.py:1412: FutureWarning: The default value of `n_init` will change from 10 to 'auto' in 1.4. Set the value of `n_init` explicitly to suppress the warning\n",
      "  super()._check_params_vs_input(X, default_n_init=10)\n",
      "c:\\Users\\Nagesh Agrawal\\AppData\\Local\\Programs\\Python\\Python311\\Lib\\site-packages\\sklearn\\cluster\\_kmeans.py:1412: FutureWarning: The default value of `n_init` will change from 10 to 'auto' in 1.4. Set the value of `n_init` explicitly to suppress the warning\n",
      "  super()._check_params_vs_input(X, default_n_init=10)\n",
      "c:\\Users\\Nagesh Agrawal\\AppData\\Local\\Programs\\Python\\Python311\\Lib\\site-packages\\sklearn\\cluster\\_kmeans.py:1412: FutureWarning: The default value of `n_init` will change from 10 to 'auto' in 1.4. Set the value of `n_init` explicitly to suppress the warning\n",
      "  super()._check_params_vs_input(X, default_n_init=10)\n",
      "c:\\Users\\Nagesh Agrawal\\AppData\\Local\\Programs\\Python\\Python311\\Lib\\site-packages\\sklearn\\cluster\\_kmeans.py:1412: FutureWarning: The default value of `n_init` will change from 10 to 'auto' in 1.4. Set the value of `n_init` explicitly to suppress the warning\n",
      "  super()._check_params_vs_input(X, default_n_init=10)\n",
      "c:\\Users\\Nagesh Agrawal\\AppData\\Local\\Programs\\Python\\Python311\\Lib\\site-packages\\sklearn\\cluster\\_kmeans.py:1412: FutureWarning: The default value of `n_init` will change from 10 to 'auto' in 1.4. Set the value of `n_init` explicitly to suppress the warning\n",
      "  super()._check_params_vs_input(X, default_n_init=10)\n"
     ]
    }
   ],
   "source": [
    "# FINDING THE BEST CLUSTER NUMBER :\n",
    "# CALCULATE INERTIA OR WCSS ( WITHIN CLUSTER SUM OF SQUARE ):\n",
    "from sklearn.cluster import KMeans\n",
    "INERTIA=[]\n",
    "for a in range(1,11):\n",
    "    K_MEANS=KMeans(n_clusters=a,random_state=2)\n",
    "    K_MEANS.fit(DATA)\n",
    "    INERTIA.append(K_MEANS.inertia_)\n",
    "# 10 MODELS 10 INERTIA VALUES....    "
   ]
  },
  {
   "cell_type": "code",
   "execution_count": 13,
   "id": "2c1df920",
   "metadata": {},
   "outputs": [
    {
     "data": {
      "image/png": "[encoded data removed]",
      "text/plain": [
       "<Figure size 640x480 with 1 Axes>"
      ]
     },
     "metadata": {},
     "output_type": "display_data"
    }
   ],
   "source": [
    "# PLOTTING ELBOW:\n",
    "import matplotlib.pyplot as plt\n",
    "plt.plot(range(1,11),INERTIA)\n",
    "plt.title(\"ELBOW PLOT\")\n",
    "plt.xlabel(\"NUMBER OF CLUSTERS\")\n",
    "plt.ylabel(\"INERTIA VALUE\")\n",
    "plt.show()"
   ]
  },
  {
   "cell_type": "code",
   "execution_count": 18,
   "id": "be7310fe",
   "metadata": {},
   "outputs": [
    {
     "name": "stderr",
     "output_type": "stream",
     "text": [
      "c:\\Users\\Nagesh Agrawal\\AppData\\Local\\Programs\\Python\\Python311\\Lib\\site-packages\\sklearn\\cluster\\_kmeans.py:1412: FutureWarning: The default value of `n_init` will change from 10 to 'auto' in 1.4. Set the value of `n_init` explicitly to suppress the warning\n",
      "  super()._check_params_vs_input(X, default_n_init=10)\n"
     ]
    },
    {
     "data": {
      "text/plain": [
       "array([1, 1, 0, 0, 0, 0, 0, 0, 1, 1, 0, 1, 1, 1, 0, 0, 1, 0, 1, 0])"
      ]
     },
     "execution_count": 18,
     "metadata": {},
     "output_type": "execute_result"
    }
   ],
   "source": [
    "# K_MEANS CLUSTERING WITH K=2:\n",
    "from sklearn.cluster import KMeans\n",
    "K_MEANS = KMeans(n_clusters=2,random_state=2)\n",
    "K_MEANS.fit(DATA)\n",
    "CLUSTERS = K_MEANS.predict(DATA)\n",
    "CLUSTERS# 2 CLUSTERS "
   ]
  },
  {
   "cell_type": "code",
   "execution_count": 19,
   "id": "f9851116",
   "metadata": {},
   "outputs": [],
   "source": [
    "DATA[\"K_MEANS_clusters\"]=CLUSTERS"
   ]
  },
  {
   "cell_type": "code",
   "execution_count": 20,
   "id": "466c0a1d",
   "metadata": {},
   "outputs": [
    {
     "data": {
      "application/vnd.microsoft.datawrangler.viewer.v0+json": {
       "columns": [
        {
         "name": "index",
         "rawType": "int64",
         "type": "integer"
        },
        {
         "name": "CustomerID",
         "rawType": "int64",
         "type": "integer"
        },
        {
         "name": "Age",
         "rawType": "int64",
         "type": "integer"
        },
        {
         "name": "AnnualIncome(k$)",
         "rawType": "int64",
         "type": "integer"
        },
        {
         "name": "K_MEANS_clusters",
         "rawType": "int32",
         "type": "integer"
        }
       ],
       "conversionMethod": "pd.DataFrame",
       "ref": "77fad195-9ba6-4e9b-8385-69ceabbf4d5b",
       "rows": [
        [
         "0",
         "1",
         "22",
         "15",
         "1"
        ],
        [
         "1",
         "2",
         "25",
         "16",
         "1"
        ],
        [
         "2",
         "3",
         "47",
         "85",
         "0"
        ],
        [
         "3",
         "4",
         "52",
         "70",
         "0"
        ],
        [
         "4",
         "5",
         "46",
         "88",
         "0"
        ],
        [
         "5",
         "6",
         "56",
         "60",
         "0"
        ],
        [
         "6",
         "7",
         "55",
         "62",
         "0"
        ],
        [
         "7",
         "8",
         "60",
         "75",
         "0"
        ],
        [
         "8",
         "9",
         "34",
         "40",
         "1"
        ],
        [
         "9",
         "10",
         "32",
         "42",
         "1"
        ],
        [
         "10",
         "11",
         "40",
         "65",
         "0"
        ],
        [
         "11",
         "12",
         "28",
         "18",
         "1"
        ],
        [
         "12",
         "13",
         "27",
         "19",
         "1"
        ],
        [
         "13",
         "14",
         "30",
         "20",
         "1"
        ],
        [
         "14",
         "15",
         "58",
         "80",
         "0"
        ],
        [
         "15",
         "16",
         "53",
         "78",
         "0"
        ],
        [
         "16",
         "17",
         "29",
         "21",
         "1"
        ],
        [
         "17",
         "18",
         "45",
         "90",
         "0"
        ],
        [
         "18",
         "19",
         "33",
         "38",
         "1"
        ],
        [
         "19",
         "20",
         "50",
         "67",
         "0"
        ]
       ],
       "shape": {
        "columns": 4,
        "rows": 20
       }
      },
      "text/html": [
       "<div>\n",
       "<style scoped>\n",
       "    .dataframe tbody tr th:only-of-type {\n",
       "        vertical-align: middle;\n",
       "    }\n",
       "\n",
       "    .dataframe tbody tr th {\n",
       "        vertical-align: top;\n",
       "    }\n",
       "\n",
       "    .dataframe thead th {\n",
       "        text-align: right;\n",
       "    }\n",
       "</style>\n",
       "<table border=\"1\" class=\"dataframe\">\n",
       "  <thead>\n",
       "    <tr style=\"text-align: right;\">\n",
       "      <th></th>\n",
       "      <th>CustomerID</th>\n",
       "      <th>Age</th>\n",
       "      <th>AnnualIncome(k$)</th>\n",
       "      <th>K_MEANS_clusters</th>\n",
       "    </tr>\n",
       "  </thead>\n",
       "  <tbody>\n",
       "    <tr>\n",
       "      <th>0</th>\n",
       "      <td>1</td>\n",
       "      <td>22</td>\n",
       "      <td>15</td>\n",
       "      <td>1</td>\n",
       "    </tr>\n",
       "    <tr>\n",
       "      <th>1</th>\n",
       "      <td>2</td>\n",
       "      <td>25</td>\n",
       "      <td>16</td>\n",
       "      <td>1</td>\n",
       "    </tr>\n",
       "    <tr>\n",
       "      <th>2</th>\n",
       "      <td>3</td>\n",
       "      <td>47</td>\n",
       "      <td>85</td>\n",
       "      <td>0</td>\n",
       "    </tr>\n",
       "    <tr>\n",
       "      <th>3</th>\n",
       "      <td>4</td>\n",
       "      <td>52</td>\n",
       "      <td>70</td>\n",
       "      <td>0</td>\n",
       "    </tr>\n",
       "    <tr>\n",
       "      <th>4</th>\n",
       "      <td>5</td>\n",
       "      <td>46</td>\n",
       "      <td>88</td>\n",
       "      <td>0</td>\n",
       "    </tr>\n",
       "    <tr>\n",
       "      <th>5</th>\n",
       "      <td>6</td>\n",
       "      <td>56</td>\n",
       "      <td>60</td>\n",
       "      <td>0</td>\n",
       "    </tr>\n",
       "    <tr>\n",
       "      <th>6</th>\n",
       "      <td>7</td>\n",
       "      <td>55</td>\n",
       "      <td>62</td>\n",
       "      <td>0</td>\n",
       "    </tr>\n",
       "    <tr>\n",
       "      <th>7</th>\n",
       "      <td>8</td>\n",
       "      <td>60</td>\n",
       "      <td>75</td>\n",
       "      <td>0</td>\n",
       "    </tr>\n",
       "    <tr>\n",
       "      <th>8</th>\n",
       "      <td>9</td>\n",
       "      <td>34</td>\n",
       "      <td>40</td>\n",
       "      <td>1</td>\n",
       "    </tr>\n",
       "    <tr>\n",
       "      <th>9</th>\n",
       "      <td>10</td>\n",
       "      <td>32</td>\n",
       "      <td>42</td>\n",
       "      <td>1</td>\n",
       "    </tr>\n",
       "    <tr>\n",
       "      <th>10</th>\n",
       "      <td>11</td>\n",
       "      <td>40</td>\n",
       "      <td>65</td>\n",
       "      <td>0</td>\n",
       "    </tr>\n",
       "    <tr>\n",
       "      <th>11</th>\n",
       "      <td>12</td>\n",
       "      <td>28</td>\n",
       "      <td>18</td>\n",
       "      <td>1</td>\n",
       "    </tr>\n",
       "    <tr>\n",
       "      <th>12</th>\n",
       "      <td>13</td>\n",
       "      <td>27</td>\n",
       "      <td>19</td>\n",
       "      <td>1</td>\n",
       "    </tr>\n",
       "    <tr>\n",
       "      <th>13</th>\n",
       "      <td>14</td>\n",
       "      <td>30</td>\n",
       "      <td>20</td>\n",
       "      <td>1</td>\n",
       "    </tr>\n",
       "    <tr>\n",
       "      <th>14</th>\n",
       "      <td>15</td>\n",
       "      <td>58</td>\n",
       "      <td>80</td>\n",
       "      <td>0</td>\n",
       "    </tr>\n",
       "    <tr>\n",
       "      <th>15</th>\n",
       "      <td>16</td>\n",
       "      <td>53</td>\n",
       "      <td>78</td>\n",
       "      <td>0</td>\n",
       "    </tr>\n",
       "    <tr>\n",
       "      <th>16</th>\n",
       "      <td>17</td>\n",
       "      <td>29</td>\n",
       "      <td>21</td>\n",
       "      <td>1</td>\n",
       "    </tr>\n",
       "    <tr>\n",
       "      <th>17</th>\n",
       "      <td>18</td>\n",
       "      <td>45</td>\n",
       "      <td>90</td>\n",
       "      <td>0</td>\n",
       "    </tr>\n",
       "    <tr>\n",
       "      <th>18</th>\n",
       "      <td>19</td>\n",
       "      <td>33</td>\n",
       "      <td>38</td>\n",
       "      <td>1</td>\n",
       "    </tr>\n",
       "    <tr>\n",
       "      <th>19</th>\n",
       "      <td>20</td>\n",
       "      <td>50</td>\n",
       "      <td>67</td>\n",
       "      <td>0</td>\n",
       "    </tr>\n",
       "  </tbody>\n",
       "</table>\n",
       "</div>"
      ],
      "text/plain": [
       "    CustomerID  Age  AnnualIncome(k$)  K_MEANS_clusters\n",
       "0            1   22                15                 1\n",
       "1            2   25                16                 1\n",
       "2            3   47                85                 0\n",
       "3            4   52                70                 0\n",
       "4            5   46                88                 0\n",
       "5            6   56                60                 0\n",
       "6            7   55                62                 0\n",
       "7            8   60                75                 0\n",
       "8            9   34                40                 1\n",
       "9           10   32                42                 1\n",
       "10          11   40                65                 0\n",
       "11          12   28                18                 1\n",
       "12          13   27                19                 1\n",
       "13          14   30                20                 1\n",
       "14          15   58                80                 0\n",
       "15          16   53                78                 0\n",
       "16          17   29                21                 1\n",
       "17          18   45                90                 0\n",
       "18          19   33                38                 1\n",
       "19          20   50                67                 0"
      ]
     },
     "execution_count": 20,
     "metadata": {},
     "output_type": "execute_result"
    }
   ],
   "source": [
    "DATA"
   ]
  },
  {
   "cell_type": "code",
   "execution_count": null,
   "id": "bd7c9a12",
   "metadata": {},
   "outputs": [],
   "source": [
    "# DATA.to_csv(r\"C:\\Users\\Nagesh Agrawal\\OneDrive\\Desktop\\MACHINE LEARNING\\1_DATASETS\\K_MEANS_CLUSTERED_DATA.CSV\",index=False)"
   ]
  }
 ],
 "metadata": {
  "kernelspec": {
   "display_name": "Python 3",
   "language": "python",
   "name": "python3"
  },
  "language_info": {
   "codemirror_mode": {
    "name": "ipython",
    "version": 3
   },
   "file_extension": ".py",
   "mimetype": "text/x-python",
   "name": "python",
   "nbconvert_exporter": "python",
   "pygments_lexer": "ipython3",
   "version": "3.11.9"
  }
 },
 "nbformat": 4,
 "nbformat_minor": 5
}
