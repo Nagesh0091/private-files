{
 "cells": [
  {
   "cell_type": "markdown",
   "id": "364debaf",
   "metadata": {},
   "source": [
    "# 🌟 **DBSCAN (Density-Based Spatial Clustering of Applications with Noise)**\n",
    "\n",
    "\n",
    "\n",
    "## ✅ Simple Definition:\n",
    "\n",
    "DBSCAN\\*\\* is a clustering algorithm that **groups data points based on how close and dense they are**.\n",
    "It can **find clusters of any shape** and **detect outliers (noise)** ❌.\n",
    "\n",
    "---\n",
    "\n",
    "## 📌 **Key Concepts:**\n",
    "\n",
    "* **Core Point 🔵**: Has enough nearby points (neighbors).\n",
    "* **Border Point 🟡**: Close to a core point but not dense enough itself.\n",
    "* **Noise Point ❌**: Doesn’t belong to any cluster.\n",
    "\n",
    "\n",
    "\n",
    "## 📊 **Parameters:**\n",
    "\n",
    "| Parameter           | Meaning                                                  |\n",
    "| ------------------- | -------------------------------------------------------- |\n",
    "| **eps** 📏          | Max distance between points to be considered neighbors   |\n",
    "| **min\\_samples** 🔢 | Minimum number of neighbors for a point to be a **core** |\n",
    "\n",
    "\n",
    "\n",
    "## 🧠 **How DBSCAN Works:**\n",
    "\n",
    "1. Pick a point that hasn’t been visited 🔍\n",
    "2. If it has **min\\_samples** within **eps** → it's a **core point**\n",
    "3. Form a cluster with all reachable points\n",
    "4. Repeat for all unvisited points\n",
    "5. Points that don’t fit → marked as **noise** ❌\n",
    "\n",
    "\n",
    "\n",
    "## ✅ **Advantages:**\n",
    "\n",
    "* Can find **irregular-shaped clusters** 🌈\n",
    "* No need to pre-specify number of clusters ❌K\n",
    "* Handles **outliers** well 🛡️\n",
    "\n",
    "\n",
    "\n",
    "## ⚠️ **Limitations:**\n",
    "\n",
    "* Choosing good **eps** and **min\\_samples** can be tricky 🤯\n",
    "* Doesn’t work well with clusters of **varying densities** ⚖️\n",
    "\n",
    "\n",
    "\n",
    "## 🐍 **Python Example:**\n",
    "\n",
    "```python\n",
    "from sklearn.cluster import DBSCAN\n",
    "from sklearn.datasets import make_moons\n",
    "import matplotlib.pyplot as plt\n",
    "\n",
    "# Sample data\n",
    "X, _ = make_moons(n_samples=300, noise=0.05, random_state=42)\n",
    "\n",
    "# Apply DBSCAN\n",
    "db = DBSCAN(eps=0.2, min_samples=5)\n",
    "labels = db.fit_predict(X)\n",
    "\n",
    "# Plot\n",
    "plt.scatter(X[:, 0], X[:, 1], c=labels, cmap='viridis')\n",
    "plt.title(\"DBSCAN Clustering 🔍\")\n",
    "plt.show()\n",
    "```\n",
    "\n",
    "\n",
    "\n",
    "## 🧪 **Best Use Cases:**\n",
    "\n",
    "* Clustering **spatial/geographic data** 🗺️\n",
    "* Detecting **fraud or anomalies** 🕵️‍♀️\n",
    "* Data with **noise or weird shapes** 🔀\n",
    "\n",
    "\n"
   ]
  },
  {
   "cell_type": "code",
   "execution_count": 25,
   "id": "97c6a6bb",
   "metadata": {},
   "outputs": [
    {
     "data": {
      "application/vnd.microsoft.datawrangler.viewer.v0+json": {
       "columns": [
        {
         "name": "index",
         "rawType": "int64",
         "type": "integer"
        },
        {
         "name": "CustomerID",
         "rawType": "int64",
         "type": "integer"
        },
        {
         "name": "Age",
         "rawType": "int64",
         "type": "integer"
        },
        {
         "name": "AnnualIncome(k$)",
         "rawType": "int64",
         "type": "integer"
        }
       ],
       "conversionMethod": "pd.DataFrame",
       "ref": "b122a8f4-416d-4692-b82a-d9b0350fa4c4",
       "rows": [
        [
         "0",
         "1",
         "22",
         "15"
        ],
        [
         "1",
         "2",
         "25",
         "16"
        ],
        [
         "2",
         "3",
         "47",
         "85"
        ],
        [
         "3",
         "4",
         "52",
         "70"
        ],
        [
         "4",
         "5",
         "46",
         "88"
        ],
        [
         "5",
         "6",
         "56",
         "60"
        ],
        [
         "6",
         "7",
         "55",
         "62"
        ],
        [
         "7",
         "8",
         "60",
         "75"
        ],
        [
         "8",
         "9",
         "34",
         "40"
        ],
        [
         "9",
         "10",
         "32",
         "42"
        ],
        [
         "10",
         "11",
         "40",
         "65"
        ],
        [
         "11",
         "12",
         "28",
         "18"
        ],
        [
         "12",
         "13",
         "27",
         "19"
        ],
        [
         "13",
         "14",
         "30",
         "20"
        ],
        [
         "14",
         "15",
         "58",
         "80"
        ],
        [
         "15",
         "16",
         "53",
         "78"
        ],
        [
         "16",
         "17",
         "29",
         "21"
        ],
        [
         "17",
         "18",
         "45",
         "90"
        ],
        [
         "18",
         "19",
         "33",
         "38"
        ],
        [
         "19",
         "20",
         "50",
         "67"
        ]
       ],
       "shape": {
        "columns": 3,
        "rows": 20
       }
      },
      "text/html": [
       "<div>\n",
       "<style scoped>\n",
       "    .dataframe tbody tr th:only-of-type {\n",
       "        vertical-align: middle;\n",
       "    }\n",
       "\n",
       "    .dataframe tbody tr th {\n",
       "        vertical-align: top;\n",
       "    }\n",
       "\n",
       "    .dataframe thead th {\n",
       "        text-align: right;\n",
       "    }\n",
       "</style>\n",
       "<table border=\"1\" class=\"dataframe\">\n",
       "  <thead>\n",
       "    <tr style=\"text-align: right;\">\n",
       "      <th></th>\n",
       "      <th>CustomerID</th>\n",
       "      <th>Age</th>\n",
       "      <th>AnnualIncome(k$)</th>\n",
       "    </tr>\n",
       "  </thead>\n",
       "  <tbody>\n",
       "    <tr>\n",
       "      <th>0</th>\n",
       "      <td>1</td>\n",
       "      <td>22</td>\n",
       "      <td>15</td>\n",
       "    </tr>\n",
       "    <tr>\n",
       "      <th>1</th>\n",
       "      <td>2</td>\n",
       "      <td>25</td>\n",
       "      <td>16</td>\n",
       "    </tr>\n",
       "    <tr>\n",
       "      <th>2</th>\n",
       "      <td>3</td>\n",
       "      <td>47</td>\n",
       "      <td>85</td>\n",
       "    </tr>\n",
       "    <tr>\n",
       "      <th>3</th>\n",
       "      <td>4</td>\n",
       "      <td>52</td>\n",
       "      <td>70</td>\n",
       "    </tr>\n",
       "    <tr>\n",
       "      <th>4</th>\n",
       "      <td>5</td>\n",
       "      <td>46</td>\n",
       "      <td>88</td>\n",
       "    </tr>\n",
       "    <tr>\n",
       "      <th>5</th>\n",
       "      <td>6</td>\n",
       "      <td>56</td>\n",
       "      <td>60</td>\n",
       "    </tr>\n",
       "    <tr>\n",
       "      <th>6</th>\n",
       "      <td>7</td>\n",
       "      <td>55</td>\n",
       "      <td>62</td>\n",
       "    </tr>\n",
       "    <tr>\n",
       "      <th>7</th>\n",
       "      <td>8</td>\n",
       "      <td>60</td>\n",
       "      <td>75</td>\n",
       "    </tr>\n",
       "    <tr>\n",
       "      <th>8</th>\n",
       "      <td>9</td>\n",
       "      <td>34</td>\n",
       "      <td>40</td>\n",
       "    </tr>\n",
       "    <tr>\n",
       "      <th>9</th>\n",
       "      <td>10</td>\n",
       "      <td>32</td>\n",
       "      <td>42</td>\n",
       "    </tr>\n",
       "    <tr>\n",
       "      <th>10</th>\n",
       "      <td>11</td>\n",
       "      <td>40</td>\n",
       "      <td>65</td>\n",
       "    </tr>\n",
       "    <tr>\n",
       "      <th>11</th>\n",
       "      <td>12</td>\n",
       "      <td>28</td>\n",
       "      <td>18</td>\n",
       "    </tr>\n",
       "    <tr>\n",
       "      <th>12</th>\n",
       "      <td>13</td>\n",
       "      <td>27</td>\n",
       "      <td>19</td>\n",
       "    </tr>\n",
       "    <tr>\n",
       "      <th>13</th>\n",
       "      <td>14</td>\n",
       "      <td>30</td>\n",
       "      <td>20</td>\n",
       "    </tr>\n",
       "    <tr>\n",
       "      <th>14</th>\n",
       "      <td>15</td>\n",
       "      <td>58</td>\n",
       "      <td>80</td>\n",
       "    </tr>\n",
       "    <tr>\n",
       "      <th>15</th>\n",
       "      <td>16</td>\n",
       "      <td>53</td>\n",
       "      <td>78</td>\n",
       "    </tr>\n",
       "    <tr>\n",
       "      <th>16</th>\n",
       "      <td>17</td>\n",
       "      <td>29</td>\n",
       "      <td>21</td>\n",
       "    </tr>\n",
       "    <tr>\n",
       "      <th>17</th>\n",
       "      <td>18</td>\n",
       "      <td>45</td>\n",
       "      <td>90</td>\n",
       "    </tr>\n",
       "    <tr>\n",
       "      <th>18</th>\n",
       "      <td>19</td>\n",
       "      <td>33</td>\n",
       "      <td>38</td>\n",
       "    </tr>\n",
       "    <tr>\n",
       "      <th>19</th>\n",
       "      <td>20</td>\n",
       "      <td>50</td>\n",
       "      <td>67</td>\n",
       "    </tr>\n",
       "  </tbody>\n",
       "</table>\n",
       "</div>"
      ],
      "text/plain": [
       "    CustomerID  Age  AnnualIncome(k$)\n",
       "0            1   22                15\n",
       "1            2   25                16\n",
       "2            3   47                85\n",
       "3            4   52                70\n",
       "4            5   46                88\n",
       "5            6   56                60\n",
       "6            7   55                62\n",
       "7            8   60                75\n",
       "8            9   34                40\n",
       "9           10   32                42\n",
       "10          11   40                65\n",
       "11          12   28                18\n",
       "12          13   27                19\n",
       "13          14   30                20\n",
       "14          15   58                80\n",
       "15          16   53                78\n",
       "16          17   29                21\n",
       "17          18   45                90\n",
       "18          19   33                38\n",
       "19          20   50                67"
      ]
     },
     "execution_count": 25,
     "metadata": {},
     "output_type": "execute_result"
    }
   ],
   "source": [
    "# LOADING DATA:\n",
    "import pandas as pd\n",
    "DATA=pd.read_csv(r\"C:\\Users\\Nagesh Agrawal\\OneDrive\\Desktop\\MACHINE LEARNING\\1_DATASETS\\CLUSTERING-1.csv\")\n",
    "DATA"
   ]
  },
  {
   "cell_type": "code",
   "execution_count": 26,
   "id": "7254cc0f",
   "metadata": {},
   "outputs": [
    {
     "data": {
      "text/plain": [
       "array([-1, -1, -1, -1, -1, -1, -1, -1, -1, -1, -1, -1, -1, -1, -1, -1, -1,\n",
       "       -1, -1, -1], dtype=int64)"
      ]
     },
     "execution_count": 26,
     "metadata": {},
     "output_type": "execute_result"
    }
   ],
   "source": [
    "from sklearn.cluster import DBSCAN\n",
    "DBS=DBSCAN(eps=0.5,min_samples=3)\n",
    "CLUSTERS = DBS.fit_predict(DATA)\n",
    "CLUSTERS"
   ]
  },
  {
   "cell_type": "code",
   "execution_count": 27,
   "id": "949befa9",
   "metadata": {},
   "outputs": [
    {
     "data": {
      "text/plain": [
       "'# CALCULATE SILHOUETE SCORE:\\nfrom sklearn.metrics import silhouette_score\\nsilhouette_score(DATA.iloc[:,:2],CLUSTERS)'"
      ]
     },
     "execution_count": 27,
     "metadata": {},
     "output_type": "execute_result"
    }
   ],
   "source": [
    "'''# CALCULATE SILHOUETE SCORE:\n",
    "from sklearn.metrics import silhouette_score\n",
    "silhouette_score(DATA.iloc[:,:2],CLUSTERS)'''"
   ]
  },
  {
   "cell_type": "code",
   "execution_count": 28,
   "id": "de4aedfb",
   "metadata": {},
   "outputs": [],
   "source": [
    "DATA[\"DBS_CLUSTERS\"]=CLUSTERS"
   ]
  },
  {
   "cell_type": "code",
   "execution_count": 29,
   "id": "dd42cc67",
   "metadata": {},
   "outputs": [
    {
     "data": {
      "application/vnd.microsoft.datawrangler.viewer.v0+json": {
       "columns": [
        {
         "name": "index",
         "rawType": "int64",
         "type": "integer"
        },
        {
         "name": "CustomerID",
         "rawType": "int64",
         "type": "integer"
        },
        {
         "name": "Age",
         "rawType": "int64",
         "type": "integer"
        },
        {
         "name": "AnnualIncome(k$)",
         "rawType": "int64",
         "type": "integer"
        },
        {
         "name": "DBS_CLUSTERS",
         "rawType": "int64",
         "type": "integer"
        }
       ],
       "conversionMethod": "pd.DataFrame",
       "ref": "e61fa757-00c0-4145-88f7-077ce2b30d6f",
       "rows": [
        [
         "0",
         "1",
         "22",
         "15",
         "-1"
        ],
        [
         "1",
         "2",
         "25",
         "16",
         "-1"
        ],
        [
         "2",
         "3",
         "47",
         "85",
         "-1"
        ],
        [
         "3",
         "4",
         "52",
         "70",
         "-1"
        ],
        [
         "4",
         "5",
         "46",
         "88",
         "-1"
        ],
        [
         "5",
         "6",
         "56",
         "60",
         "-1"
        ],
        [
         "6",
         "7",
         "55",
         "62",
         "-1"
        ],
        [
         "7",
         "8",
         "60",
         "75",
         "-1"
        ],
        [
         "8",
         "9",
         "34",
         "40",
         "-1"
        ],
        [
         "9",
         "10",
         "32",
         "42",
         "-1"
        ],
        [
         "10",
         "11",
         "40",
         "65",
         "-1"
        ],
        [
         "11",
         "12",
         "28",
         "18",
         "-1"
        ],
        [
         "12",
         "13",
         "27",
         "19",
         "-1"
        ],
        [
         "13",
         "14",
         "30",
         "20",
         "-1"
        ],
        [
         "14",
         "15",
         "58",
         "80",
         "-1"
        ],
        [
         "15",
         "16",
         "53",
         "78",
         "-1"
        ],
        [
         "16",
         "17",
         "29",
         "21",
         "-1"
        ],
        [
         "17",
         "18",
         "45",
         "90",
         "-1"
        ],
        [
         "18",
         "19",
         "33",
         "38",
         "-1"
        ],
        [
         "19",
         "20",
         "50",
         "67",
         "-1"
        ]
       ],
       "shape": {
        "columns": 4,
        "rows": 20
       }
      },
      "text/html": [
       "<div>\n",
       "<style scoped>\n",
       "    .dataframe tbody tr th:only-of-type {\n",
       "        vertical-align: middle;\n",
       "    }\n",
       "\n",
       "    .dataframe tbody tr th {\n",
       "        vertical-align: top;\n",
       "    }\n",
       "\n",
       "    .dataframe thead th {\n",
       "        text-align: right;\n",
       "    }\n",
       "</style>\n",
       "<table border=\"1\" class=\"dataframe\">\n",
       "  <thead>\n",
       "    <tr style=\"text-align: right;\">\n",
       "      <th></th>\n",
       "      <th>CustomerID</th>\n",
       "      <th>Age</th>\n",
       "      <th>AnnualIncome(k$)</th>\n",
       "      <th>DBS_CLUSTERS</th>\n",
       "    </tr>\n",
       "  </thead>\n",
       "  <tbody>\n",
       "    <tr>\n",
       "      <th>0</th>\n",
       "      <td>1</td>\n",
       "      <td>22</td>\n",
       "      <td>15</td>\n",
       "      <td>-1</td>\n",
       "    </tr>\n",
       "    <tr>\n",
       "      <th>1</th>\n",
       "      <td>2</td>\n",
       "      <td>25</td>\n",
       "      <td>16</td>\n",
       "      <td>-1</td>\n",
       "    </tr>\n",
       "    <tr>\n",
       "      <th>2</th>\n",
       "      <td>3</td>\n",
       "      <td>47</td>\n",
       "      <td>85</td>\n",
       "      <td>-1</td>\n",
       "    </tr>\n",
       "    <tr>\n",
       "      <th>3</th>\n",
       "      <td>4</td>\n",
       "      <td>52</td>\n",
       "      <td>70</td>\n",
       "      <td>-1</td>\n",
       "    </tr>\n",
       "    <tr>\n",
       "      <th>4</th>\n",
       "      <td>5</td>\n",
       "      <td>46</td>\n",
       "      <td>88</td>\n",
       "      <td>-1</td>\n",
       "    </tr>\n",
       "    <tr>\n",
       "      <th>5</th>\n",
       "      <td>6</td>\n",
       "      <td>56</td>\n",
       "      <td>60</td>\n",
       "      <td>-1</td>\n",
       "    </tr>\n",
       "    <tr>\n",
       "      <th>6</th>\n",
       "      <td>7</td>\n",
       "      <td>55</td>\n",
       "      <td>62</td>\n",
       "      <td>-1</td>\n",
       "    </tr>\n",
       "    <tr>\n",
       "      <th>7</th>\n",
       "      <td>8</td>\n",
       "      <td>60</td>\n",
       "      <td>75</td>\n",
       "      <td>-1</td>\n",
       "    </tr>\n",
       "    <tr>\n",
       "      <th>8</th>\n",
       "      <td>9</td>\n",
       "      <td>34</td>\n",
       "      <td>40</td>\n",
       "      <td>-1</td>\n",
       "    </tr>\n",
       "    <tr>\n",
       "      <th>9</th>\n",
       "      <td>10</td>\n",
       "      <td>32</td>\n",
       "      <td>42</td>\n",
       "      <td>-1</td>\n",
       "    </tr>\n",
       "    <tr>\n",
       "      <th>10</th>\n",
       "      <td>11</td>\n",
       "      <td>40</td>\n",
       "      <td>65</td>\n",
       "      <td>-1</td>\n",
       "    </tr>\n",
       "    <tr>\n",
       "      <th>11</th>\n",
       "      <td>12</td>\n",
       "      <td>28</td>\n",
       "      <td>18</td>\n",
       "      <td>-1</td>\n",
       "    </tr>\n",
       "    <tr>\n",
       "      <th>12</th>\n",
       "      <td>13</td>\n",
       "      <td>27</td>\n",
       "      <td>19</td>\n",
       "      <td>-1</td>\n",
       "    </tr>\n",
       "    <tr>\n",
       "      <th>13</th>\n",
       "      <td>14</td>\n",
       "      <td>30</td>\n",
       "      <td>20</td>\n",
       "      <td>-1</td>\n",
       "    </tr>\n",
       "    <tr>\n",
       "      <th>14</th>\n",
       "      <td>15</td>\n",
       "      <td>58</td>\n",
       "      <td>80</td>\n",
       "      <td>-1</td>\n",
       "    </tr>\n",
       "    <tr>\n",
       "      <th>15</th>\n",
       "      <td>16</td>\n",
       "      <td>53</td>\n",
       "      <td>78</td>\n",
       "      <td>-1</td>\n",
       "    </tr>\n",
       "    <tr>\n",
       "      <th>16</th>\n",
       "      <td>17</td>\n",
       "      <td>29</td>\n",
       "      <td>21</td>\n",
       "      <td>-1</td>\n",
       "    </tr>\n",
       "    <tr>\n",
       "      <th>17</th>\n",
       "      <td>18</td>\n",
       "      <td>45</td>\n",
       "      <td>90</td>\n",
       "      <td>-1</td>\n",
       "    </tr>\n",
       "    <tr>\n",
       "      <th>18</th>\n",
       "      <td>19</td>\n",
       "      <td>33</td>\n",
       "      <td>38</td>\n",
       "      <td>-1</td>\n",
       "    </tr>\n",
       "    <tr>\n",
       "      <th>19</th>\n",
       "      <td>20</td>\n",
       "      <td>50</td>\n",
       "      <td>67</td>\n",
       "      <td>-1</td>\n",
       "    </tr>\n",
       "  </tbody>\n",
       "</table>\n",
       "</div>"
      ],
      "text/plain": [
       "    CustomerID  Age  AnnualIncome(k$)  DBS_CLUSTERS\n",
       "0            1   22                15            -1\n",
       "1            2   25                16            -1\n",
       "2            3   47                85            -1\n",
       "3            4   52                70            -1\n",
       "4            5   46                88            -1\n",
       "5            6   56                60            -1\n",
       "6            7   55                62            -1\n",
       "7            8   60                75            -1\n",
       "8            9   34                40            -1\n",
       "9           10   32                42            -1\n",
       "10          11   40                65            -1\n",
       "11          12   28                18            -1\n",
       "12          13   27                19            -1\n",
       "13          14   30                20            -1\n",
       "14          15   58                80            -1\n",
       "15          16   53                78            -1\n",
       "16          17   29                21            -1\n",
       "17          18   45                90            -1\n",
       "18          19   33                38            -1\n",
       "19          20   50                67            -1"
      ]
     },
     "execution_count": 29,
     "metadata": {},
     "output_type": "execute_result"
    }
   ],
   "source": [
    "DATA # -1 =OUTLIERS AS WE HAVE LESS DATA SO THERE IS LESS DENSITY REGIONS"
   ]
  },
  {
   "cell_type": "code",
   "execution_count": 30,
   "id": "7dc30726",
   "metadata": {},
   "outputs": [
    {
     "data": {
      "image/png": "[encoded data removed]",
      "text/plain": [
       "<Figure size 640x480 with 1 Axes>"
      ]
     },
     "metadata": {},
     "output_type": "display_data"
    }
   ],
   "source": [
    "import seaborn as sns\n",
    "import matplotlib.pyplot as plt\n",
    "\n",
    "# Example: plotting feature 0 vs. feature 1\n",
    "sns.scatterplot(x=DATA.iloc[:, 0], y=DATA.iloc[:, 1], hue=CLUSTERS, palette=\"rainbow\")\n",
    "plt.xlabel(\"Feature 0\")\n",
    "plt.ylabel(\"Feature 1\")\n",
    "plt.title(\"Clustered Scatter Plot\")\n",
    "plt.show()\n"
   ]
  }
 ],
 "metadata": {
  "kernelspec": {
   "display_name": "Python 3",
   "language": "python",
   "name": "python3"
  },
  "language_info": {
   "codemirror_mode": {
    "name": "ipython",
    "version": 3
   },
   "file_extension": ".py",
   "mimetype": "text/x-python",
   "name": "python",
   "nbconvert_exporter": "python",
   "pygments_lexer": "ipython3",
   "version": "3.11.9"
  }
 },
 "nbformat": 4,
 "nbformat_minor": 5
}
