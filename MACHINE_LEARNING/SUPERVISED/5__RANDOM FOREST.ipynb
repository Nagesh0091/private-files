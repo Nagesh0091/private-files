{
 "cells": [
  {
   "cell_type": "markdown",
   "id": "754189ad",
   "metadata": {},
   "source": [
    "\n",
    "\n",
    "# 🌳 **Random Forest 🌲🌲🌲🌲🌲**\n",
    "\n",
    "**Random Forest** is an **ensemble learning** algorithm that builds **many decision trees** 🌲 and combines their results to make a final prediction.\n",
    "It works like a team of experts voting to make a better decision! 🗳️✅\n",
    "\n",
    "---\n",
    "\n",
    "## 📌 **Key Details to Know**\n",
    "\n",
    "### 🔍 How it Works:\n",
    "\n",
    "* Creates **multiple decision trees** from different parts of the data 📊.\n",
    "* Each tree gives a prediction, and the forest combines them:\n",
    "\n",
    "  * 🧮 **Majority vote** for classification 🧑‍⚖️.\n",
    "  * 📈 **Average** for regression 📉.\n",
    "\n",
    "### 📦 Features:\n",
    "\n",
    "* ✅ Handles large datasets with high accuracy.\n",
    "* ✅ Reduces **overfitting** compared to a single decision tree.\n",
    "* ✅ Works well with both numerical and categorical data.\n",
    "\n",
    "### ⚙️ Parameters to Know:\n",
    "\n",
    "* `n_estimators` 🌲 – Number of trees in the forest.\n",
    "* `max_depth` 📏 – Maximum depth of each tree.\n",
    "* `max_features` 🧠 – Number of features to consider when looking for the best split.\n",
    "\n",
    "### 🧠 Pros:\n",
    "\n",
    "* 🎯 High accuracy.\n",
    "* 🛡️ Resistant to overfitting.\n",
    "* 🔄 Can handle missing data well.\n",
    "\n",
    "### ⚠️ Cons:\n",
    "\n",
    "* 🐢 Can be slower for large datasets.\n",
    "* 📦 Model size can be large.\n",
    "\n",
    "\n"
   ]
  },
  {
   "cell_type": "code",
   "execution_count": null,
   "id": "720884e9",
   "metadata": {},
   "outputs": [
    {
     "name": "stdout",
     "output_type": "stream",
     "text": [
      "Accuracy: 0.9777777777777777\n"
     ]
    }
   ],
   "source": [
    "# DATA LOADING :\n",
    "import pandas as pd\n",
    "DATA = pd.read_csv(r\"C:\\Users\\Nagesh Agrawal\\OneDrive\\Desktop\\MACHINE LEARNING\\1_DATASETS\\DECISION TREE DATA.csv\")\n",
    "\n",
    "# Label Encoding\n",
    "from sklearn.preprocessing import LabelEncoder\n",
    "LE = LabelEncoder()\n",
    "DATA[\"Species\"] = LE.fit_transform(DATA[\"Species\"])\n",
    "\n",
    "# Selecting Features and Target\n",
    "X = DATA.iloc[:, 1:5]   # Features\n",
    "Y = DATA[\"Species\"]     # Target\n",
    "\n",
    "# Splitting the data\n",
    "from sklearn.model_selection import train_test_split\n",
    "X_TRAIN, X_TEST, Y_TRAIN, Y_TEST = train_test_split(X, Y, test_size=0.3, random_state=2)\n",
    "\n",
    "# 🌲 Create Random Forest model\n",
    "from sklearn.ensemble import RandomForestClassifier\n",
    "RFC = RandomForestClassifier(n_estimators=100, random_state=42)# max_depth , max_feature\n",
    "\n",
    "# 🏋️ Train the model\n",
    "RFC.fit(X_TRAIN, Y_TRAIN)\n",
    "\n",
    "# 🔍 Make predictions\n",
    "Y_PRED = RFC.predict(X_TEST)\n",
    "\n",
    "# 📊 Check accuracy\n",
    "from sklearn.metrics import accuracy_score\n",
    "accuracy = accuracy_score(Y_TEST, Y_PRED)\n",
    "print(\"Accuracy:\", accuracy)"
   ]
  }
 ],
 "metadata": {
  "kernelspec": {
   "display_name": "Python 3",
   "language": "python",
   "name": "python3"
  },
  "language_info": {
   "codemirror_mode": {
    "name": "ipython",
    "version": 3
   },
   "file_extension": ".py",
   "mimetype": "text/x-python",
   "name": "python",
   "nbconvert_exporter": "python",
   "pygments_lexer": "ipython3",
   "version": "3.11.9"
  }
 },
 "nbformat": 4,
 "nbformat_minor": 5
}
