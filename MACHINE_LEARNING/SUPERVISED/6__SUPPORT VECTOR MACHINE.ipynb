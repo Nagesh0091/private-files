{
 "cells": [
  {
   "cell_type": "markdown",
   "id": "08cde578",
   "metadata": {},
   "source": [
    "\n",
    "\n",
    "##  **🔍 SVM (Support Vector Machine)**\n",
    "\n",
    "**SVM** is a **supervised learning algorithm** that finds the **best line or boundary** (called a **hyperplane**) to **separate different classes** in the data.\n",
    "\n",
    "📊 It works well for **classification** and sometimes for **regression** tasks.\n",
    "\n",
    "---\n",
    "\n",
    "### 📘 **Key Points to Know about SVM**\n",
    "\n",
    "✅ **Goal**:\n",
    "Find the **maximum margin** between classes using a decision boundary.\n",
    "\n",
    "✅ **Hyperplane**:\n",
    "A line (in 2D) or plane (in higher dimensions) that separates classes.\n",
    "\n",
    "✅ **Support Vectors**:\n",
    "The **closest data points** to the hyperplane. They \"support\" the decision boundary.\n",
    "\n",
    "✅ **Linear vs Non-linear**:\n",
    "\n",
    "* SVM can handle **linearly separable** data easily.\n",
    "* For complex data, it uses the **kernel trick** to make it work in higher dimensions. 💡\n",
    "\n",
    "✅ **Kernels (🧠)**:\n",
    "Used to handle **non-linear** data:\n",
    "\n",
    "* **Linear Kernel**\n",
    "* **Polynomial Kernel**\n",
    "* **RBF (Radial Basis Function)** – most popular 🌟\n",
    "\n",
    "✅ **Hard Margin vs Soft Margin**:\n",
    "\n",
    "* **Hard Margin**: No errors allowed — only if data is perfectly separable.\n",
    "* **Soft Margin**: Allows some misclassification — more flexible and realistic.\n",
    "\n",
    "✅ **Works well when**:\n",
    "\n",
    "* The data has **clear margins** between classes.\n",
    "* You have **smaller datasets** with **high dimensionality**.\n",
    "\n"
   ]
  },
  {
   "cell_type": "code",
   "execution_count": 3,
   "id": "4d6454bd",
   "metadata": {},
   "outputs": [
    {
     "name": "stdout",
     "output_type": "stream",
     "text": [
      "Accuracy: 0.9777777777777777\n"
     ]
    }
   ],
   "source": [
    "# DATA LOADING :\n",
    "import pandas as pd\n",
    "DATA = pd.read_csv(r\"C:\\Users\\Nagesh Agrawal\\OneDrive\\Desktop\\MACHINE LEARNING\\1_DATASETS\\DECISION TREE DATA.csv\")\n",
    "\n",
    "# Label Encoding\n",
    "from sklearn.preprocessing import LabelEncoder\n",
    "LE = LabelEncoder()\n",
    "DATA[\"Species\"] = LE.fit_transform(DATA[\"Species\"])\n",
    "\n",
    "# Selecting Features and Target\n",
    "X = DATA.iloc[:, 1:5]   # Features\n",
    "Y = DATA[\"Species\"]     # Target\n",
    "\n",
    "# Splitting the data\n",
    "from sklearn.model_selection import train_test_split\n",
    "X_TRAIN, X_TEST, Y_TRAIN, Y_TEST = train_test_split(X, Y, test_size=0.3, random_state=2)\n",
    "\n",
    "#  Create SVC model\n",
    "from sklearn.svm import SVC\n",
    "SVM = SVC(kernel=\"rbf\")# kernel=[\"linear\",\"poly\",\"rbf\"]  ______ c=[0.1,0.001,0.01] _____ gamma=[0.1,0.00.1,1,2]\n",
    "#rbf best..\n",
    "# 🏋️ Train the model\n",
    "SVM.fit(X_TRAIN, Y_TRAIN)\n",
    "\n",
    "# 🔍 Make predictions\n",
    "Y_PRED = SVM.predict(X_TEST)\n",
    "\n",
    "# 📊 Check accuracy\n",
    "from sklearn.metrics import accuracy_score\n",
    "accuracy = accuracy_score(Y_TEST, Y_PRED)\n",
    "print(\"Accuracy:\", accuracy)"
   ]
  }
 ],
 "metadata": {
  "kernelspec": {
   "display_name": "Python 3",
   "language": "python",
   "name": "python3"
  },
  "language_info": {
   "codemirror_mode": {
    "name": "ipython",
    "version": 3
   },
   "file_extension": ".py",
   "mimetype": "text/x-python",
   "name": "python",
   "nbconvert_exporter": "python",
   "pygments_lexer": "ipython3",
   "version": "3.11.9"
  }
 },
 "nbformat": 4,
 "nbformat_minor": 5
}
