{
 "cells": [
  {
   "cell_type": "markdown",
   "id": "8369bb7e",
   "metadata": {},
   "source": [
    "# 📌 **RNN (Recurrent Neural Network) – Short Definition**\n",
    "\n",
    "🔁 **RNN** is a type of neural network that is used for **sequence data** (like time series, text, or speech).\n",
    "It remembers the **previous inputs** using loops to help make better predictions.\n",
    "\n",
    "---\n",
    "\n",
    "# 🧠✨ **Key Concepts of RNN**\n",
    "\n",
    "## 🧩 1. **Sequential Data Handling**\n",
    "\n",
    "* RNNs are designed for **data with order** (e.g., words in a sentence, stock prices over time).\n",
    "\n",
    "## 🔄 2. **Memory of Previous Steps**\n",
    "\n",
    "* It keeps **memory** of earlier steps using a **hidden state**.\n",
    "* Output at time step *t* depends on the input at *t* and hidden state from *t-1*.\n",
    "\n",
    "## 📉 3. **Vanishing Gradient Problem**\n",
    "\n",
    "* When training long sequences, RNNs may struggle to **remember long-term dependencies** due to **vanishing gradients**.\n",
    "\n",
    "## 🧱 4. **Structure**\n",
    "\n",
    "* Repeats the **same network cell** for each time step.\n",
    "* Each cell passes its info to the next.\n",
    "\n",
    "## 📚 5. **Applications**\n",
    "\n",
    "* 🗣️ Speech Recognition\n",
    "* 📝 Text Generation\n",
    "* 🕰️ Time Series Prediction\n",
    "* 🎶 Music Composition\n",
    "\n",
    "\n",
    "\n",
    "## 🔧 **Variations of RNN**\n",
    "\n",
    "* ⏳ **LSTM (Long Short-Term Memory)** – solves memory problems\n",
    "* 🚪 **GRU (Gated Recurrent Unit)** – simpler version of LSTM\n",
    "\n",
    "\n",
    "\n",
    "## 🛠️ **Tools & Libraries**\n",
    "\n",
    "* 🐍 Python\n",
    "* 🔧 TensorFlow / PyTorch / Keras\n",
    "\n",
    "\n"
   ]
  },
  {
   "cell_type": "code",
   "execution_count": 43,
   "id": "a7ef77c7",
   "metadata": {},
   "outputs": [
    {
     "data": {
      "text/plain": [
       "Index(['date', 'meantemp', 'humidity', 'wind_speed', 'meanpressure'], dtype='object')"
      ]
     },
     "execution_count": 43,
     "metadata": {},
     "output_type": "execute_result"
    }
   ],
   "source": [
    "# LOADING DATA:\n",
    "import pandas as pd\n",
    "DATA_TRAIN=pd.read_csv(r\"C:\\Users\\Nagesh Agrawal\\OneDrive\\Desktop\\6_MACHINE LEARNING\\1_DATASETS\\ANN_DATA\\RNN_TRAIN.csv\")\n",
    "DATA_TEST=pd.read_csv(r\"C:\\Users\\Nagesh Agrawal\\OneDrive\\Desktop\\6_MACHINE LEARNING\\1_DATASETS\\ANN_DATA\\RNN_TEST.csv\")\n",
    "DATA_TRAIN.columns"
   ]
  },
  {
   "cell_type": "code",
   "execution_count": 29,
   "id": "fdb1158e",
   "metadata": {},
   "outputs": [],
   "source": [
    "DATA_TRAIN[\"date\"]=pd.to_datetime(DATA_TRAIN[\"date\"])"
   ]
  },
  {
   "cell_type": "code",
   "execution_count": 30,
   "id": "951c85f3",
   "metadata": {},
   "outputs": [
    {
     "name": "stdout",
     "output_type": "stream",
     "text": [
      "<class 'pandas.core.frame.DataFrame'>\n",
      "RangeIndex: 1462 entries, 0 to 1461\n",
      "Data columns (total 5 columns):\n",
      " #   Column        Non-Null Count  Dtype         \n",
      "---  ------        --------------  -----         \n",
      " 0   date          1462 non-null   datetime64[ns]\n",
      " 1   meantemp      1462 non-null   float64       \n",
      " 2   humidity      1462 non-null   float64       \n",
      " 3   wind_speed    1462 non-null   float64       \n",
      " 4   meanpressure  1462 non-null   float64       \n",
      "dtypes: datetime64[ns](1), float64(4)\n",
      "memory usage: 57.2 KB\n"
     ]
    }
   ],
   "source": [
    "DATA_TRAIN.info()"
   ]
  },
  {
   "cell_type": "code",
   "execution_count": 31,
   "id": "78820076",
   "metadata": {},
   "outputs": [],
   "source": [
    "# 🎯 Features and Target\n",
    "features = ['meantemp', 'humidity', 'wind_speed', 'meanpressure']\n",
    "target = 'meantemp'"
   ]
  },
  {
   "cell_type": "code",
   "execution_count": 32,
   "id": "836652a2",
   "metadata": {},
   "outputs": [],
   "source": [
    "# 🔄 Normalize features\n",
    "from sklearn.preprocessing import MinMaxScaler\n",
    "scaler = MinMaxScaler()\n",
    "scaled_data = scaler.fit_transform(DATA_TRAIN[features])"
   ]
  },
  {
   "cell_type": "markdown",
   "id": "36fcc3d1",
   "metadata": {},
   "source": [
    "\n",
    "---\n",
    "\n",
    "## 🔁 **What is \"Create Sequence\" in RNN?**\n",
    "\n",
    "🧠 **RNNs** learn from **sequences** of data — like learning patterns from **past values** to predict the **next value**.\n",
    "\n",
    "\n",
    "\n",
    "## 📦 Imagine this Temperature Data:\n",
    "\n",
    "| Day | Temp |\n",
    "| --- | ---- |\n",
    "| 1   | 21   |\n",
    "| 2   | 22   |\n",
    "| 3   | 23   |\n",
    "| 4   | 24   |\n",
    "| 5   | 25   |\n",
    "| 6   | 26   |\n",
    "\n",
    "\n",
    "\n",
    "## 🧩 **Creating Sequences (sequence length = 3)**\n",
    "\n",
    "We break the data like this:\n",
    "\n",
    "| Input (X)     | Output (y) |\n",
    "| ------------- | ---------- |\n",
    "| \\[21, 22, 23] | 24         |\n",
    "| \\[22, 23, 24] | 25         |\n",
    "| \\[23, 24, 25] | 26         |\n",
    "\n",
    "🔁 This means:\n",
    "\n",
    "> Use 3 past days to **predict** the next day's temperature.\n",
    "\n",
    "\n",
    "\n",
    "## 🧠 RNN Learns:\n",
    "\n",
    "* That when the pattern is `[21, 22, 23]` → the next is likely `24`.\n",
    "* So, it's learning the **trend or pattern over time**.\n",
    "\n",
    "\n",
    "\n",
    "## 💡In Code:\n",
    "\n",
    "```python\n",
    "for i in range(len(data) - sequence_length):\n",
    "    X.append(data[i:i+sequence_length])\n",
    "    y.append(data[i+sequence_length])\n",
    "```\n",
    "\n",
    "This loop:\n",
    "\n",
    "* Takes chunks of length `sequence_length` from the data ➡️ X\n",
    "* Takes the next value after that ➡️ y\n",
    "\n",
    "\n"
   ]
  },
  {
   "cell_type": "code",
   "execution_count": 33,
   "id": "621422b4",
   "metadata": {},
   "outputs": [],
   "source": [
    "# ⏱️ Create sequences\n",
    "import numpy as np\n",
    "X = []\n",
    "y = []\n",
    "sequence_length = 5\n",
    "\n",
    "for i in range(len(scaled_data) - sequence_length):\n",
    "    X.append(scaled_data[i:i+sequence_length])\n",
    "    y.append(scaled_data[i+sequence_length][0])  # Predicting 'meantemp'\n",
    "\n",
    "X = np.array(X)\n",
    "y = np.array(y)"
   ]
  },
  {
   "cell_type": "code",
   "execution_count": 34,
   "id": "ea4d91ea",
   "metadata": {},
   "outputs": [
    {
     "name": "stderr",
     "output_type": "stream",
     "text": [
      "c:\\Users\\Nagesh Agrawal\\anaconda3\\Lib\\site-packages\\keras\\src\\layers\\rnn\\rnn.py:200: UserWarning: Do not pass an `input_shape`/`input_dim` argument to a layer. When using Sequential models, prefer using an `Input(shape)` object as the first layer in the model instead.\n",
      "  super().__init__(**kwargs)\n"
     ]
    },
    {
     "name": "stdout",
     "output_type": "stream",
     "text": [
      "\u001b[1m46/46\u001b[0m \u001b[32m━━━━━━━━━━━━━━━━━━━━\u001b[0m\u001b[37m\u001b[0m \u001b[1m1s\u001b[0m 12ms/step\n"
     ]
    }
   ],
   "source": [
    "# 🧠 Build RNN Model\n",
    "\n",
    "from tensorflow.keras.models import Sequential\n",
    "from tensorflow.keras.layers import SimpleRNN, Dense\n",
    "\n",
    "\n",
    "model = Sequential()\n",
    "model.add(SimpleRNN(64, activation='relu', input_shape=(sequence_length, len(features))))\n",
    "model.add(Dense(1))\n",
    "model.compile(optimizer='adam', loss='mse')\n",
    "\n",
    "# 🏋️ Train the model\n",
    "model.fit(X, y, epochs=100, verbose=0)\n",
    "\n",
    "# 🔮 Predict\n",
    "predicted = model.predict(X)"
   ]
  },
  {
   "cell_type": "code",
   "execution_count": 35,
   "id": "11e5ae82",
   "metadata": {},
   "outputs": [],
   "source": [
    "# 🧮 Convert predictions back to real temperature\n",
    "# Only inverse transform meantemp (column 0)\n",
    "meantemp_scaler = MinMaxScaler()\n",
    "meantemp_scaler.min_, meantemp_scaler.scale_ = scaler.min_[0], scaler.scale_[0]\n",
    "predicted_actual = meantemp_scaler.inverse_transform(predicted.reshape(-1, 1))\n",
    "y_actual = meantemp_scaler.inverse_transform(y.reshape(-1, 1))"
   ]
  },
  {
   "cell_type": "code",
   "execution_count": 44,
   "id": "21d31c5c",
   "metadata": {},
   "outputs": [
    {
     "name": "stdout",
     "output_type": "stream",
     "text": [
      "📊 Model Evaluation Metrics:\n",
      "Mean Squared Error (MSE): 2.0291\n",
      "Mean Absolute Error (MAE): 1.0860\n",
      "Root Mean Squared Error (RMSE): 1.4245\n",
      "R² Score: 0.9618\n"
     ]
    }
   ],
   "source": [
    "from sklearn.metrics import mean_squared_error, mean_absolute_error, r2_score\n",
    "import numpy as np\n",
    "\n",
    "# y_actual and predicted_actual are your true and predicted temps (in original scale)\n",
    "\n",
    "mse = mean_squared_error(y_actual, predicted_actual)\n",
    "mae = mean_absolute_error(y_actual, predicted_actual)\n",
    "rmse = np.sqrt(mse)\n",
    "r2 = r2_score(y_actual, predicted_actual)\n",
    "\n",
    "print(f\"📊 Model Evaluation Metrics:\")\n",
    "print(f\"Mean Squared Error (MSE): {mse:.4f}\")\n",
    "print(f\"Mean Absolute Error (MAE): {mae:.4f}\")\n",
    "print(f\"Root Mean Squared Error (RMSE): {rmse:.4f}\")\n",
    "print(f\"R² Score: {r2:.4f}\")\n"
   ]
  },
  {
   "cell_type": "code",
   "execution_count": 36,
   "id": "dd860397",
   "metadata": {},
   "outputs": [
    {
     "name": "stderr",
     "output_type": "stream",
     "text": [
      "c:\\Users\\Nagesh Agrawal\\anaconda3\\Lib\\site-packages\\IPython\\core\\pylabtools.py:170: UserWarning: Glyph 127777 (\\N{THERMOMETER}) missing from font(s) DejaVu Sans.\n",
      "  fig.canvas.print_figure(bytes_io, **kw)\n"
     ]
    },
    {
     "data": {
      "image/png": "[encoded data removed]",
      "text/plain": [
       "<Figure size 640x480 with 1 Axes>"
      ]
     },
     "metadata": {},
     "output_type": "display_data"
    }
   ],
   "source": [
    "# 📊 Plot results\n",
    "import matplotlib.pyplot as plt\n",
    "plt.plot(y_actual, label='Actual Temp')\n",
    "plt.plot(predicted_actual, label='Predicted Temp')\n",
    "plt.title('🌡️ Daily Temperature Prediction with Multivariate RNN')\n",
    "plt.xlabel('Days')\n",
    "plt.ylabel('Temperature (°C)')\n",
    "plt.legend()\n",
    "plt.show()"
   ]
  },
  {
   "cell_type": "code",
   "execution_count": 37,
   "id": "df855cf4",
   "metadata": {},
   "outputs": [],
   "source": [
    "new_data = [[25.0, 60, 2.5, 1010]]  # [meantemp, humidity, wind_speed, meanpressure]\n"
   ]
  },
  {
   "cell_type": "code",
   "execution_count": 38,
   "id": "fa47c2e4",
   "metadata": {},
   "outputs": [],
   "source": [
    "new_sequence = [\n",
    "    [24.5, 65, 2.2, 1012],\n",
    "    [24.8, 63, 2.3, 1011],\n",
    "    [25.0, 60, 2.5, 1010],\n",
    "    [25.2, 59, 2.6, 1010],\n",
    "    [25.4, 58, 2.8, 1009]\n",
    "]  # Last 5 days of data\n"
   ]
  },
  {
   "cell_type": "code",
   "execution_count": 45,
   "id": "8ac7a680",
   "metadata": {},
   "outputs": [
    {
     "name": "stderr",
     "output_type": "stream",
     "text": [
      "c:\\Users\\Nagesh Agrawal\\anaconda3\\Lib\\site-packages\\sklearn\\base.py:493: UserWarning: X does not have valid feature names, but MinMaxScaler was fitted with feature names\n",
      "  warnings.warn(\n"
     ]
    },
    {
     "data": {
      "text/plain": [
       "array([[0.56550218, 0.59570957, 0.05210801, 0.13212602],\n",
       "       [0.57467249, 0.57260726, 0.05447655, 0.13199586],\n",
       "       [0.58078603, 0.5379538 , 0.05921364, 0.13186569],\n",
       "       [0.58689956, 0.52640264, 0.06158219, 0.13186569],\n",
       "       [0.5930131 , 0.51485149, 0.06631928, 0.13173552]])"
      ]
     },
     "execution_count": 45,
     "metadata": {},
     "output_type": "execute_result"
    }
   ],
   "source": [
    "scaled_sequence = scaler.transform(new_sequence)\n",
    "scaled_sequence"
   ]
  },
  {
   "cell_type": "code",
   "execution_count": 46,
   "id": "bf9ff236",
   "metadata": {},
   "outputs": [
    {
     "data": {
      "text/plain": [
       "array([[[0.56550218, 0.59570957, 0.05210801, 0.13212602],\n",
       "        [0.57467249, 0.57260726, 0.05447655, 0.13199586],\n",
       "        [0.58078603, 0.5379538 , 0.05921364, 0.13186569],\n",
       "        [0.58689956, 0.52640264, 0.06158219, 0.13186569],\n",
       "        [0.5930131 , 0.51485149, 0.06631928, 0.13173552]]])"
      ]
     },
     "execution_count": 46,
     "metadata": {},
     "output_type": "execute_result"
    }
   ],
   "source": [
    "X_new = np.array(scaled_sequence).reshape(1, 5, 4)\n",
    "X_new"
   ]
  },
  {
   "cell_type": "code",
   "execution_count": 47,
   "id": "a36bcfd5",
   "metadata": {},
   "outputs": [
    {
     "name": "stdout",
     "output_type": "stream",
     "text": [
      "\u001b[1m1/1\u001b[0m \u001b[32m━━━━━━━━━━━━━━━━━━━━\u001b[0m\u001b[37m\u001b[0m \u001b[1m0s\u001b[0m 126ms/step\n"
     ]
    },
    {
     "data": {
      "text/plain": [
       "array([[0.5799523]], dtype=float32)"
      ]
     },
     "execution_count": 47,
     "metadata": {},
     "output_type": "execute_result"
    }
   ],
   "source": [
    "predicted_scaled = model.predict(X_new)\n",
    "predicted_scaled"
   ]
  },
  {
   "cell_type": "code",
   "execution_count": 42,
   "id": "ef058abb",
   "metadata": {},
   "outputs": [
    {
     "name": "stdout",
     "output_type": "stream",
     "text": [
      "🌡️ Predicted Next Day Temperature: 24.972725 °C\n"
     ]
    }
   ],
   "source": [
    "predicted_temp = meantemp_scaler.inverse_transform(predicted_scaled)\n",
    "print(\"🌡️ Predicted Next Day Temperature:\", predicted_temp[0][0], \"°C\")\n"
   ]
  },
  {
   "cell_type": "markdown",
   "id": "c6ca2638",
   "metadata": {},
   "source": [
    "\n",
    "### 🧠 Summary:\n",
    "\n",
    "| Step | Action                       |\n",
    "| ---- | ---------------------------- |\n",
    "| 📦   | Prepare last 5 days of input |\n",
    "| 🔄   | Scale it with same scaler    |\n",
    "| 📐   | Reshape to 3D                |\n",
    "| 🔮   | Predict using `.predict()`   |\n",
    "| 🔁   | Inverse transform to get °C  |\n",
    "\n"
   ]
  },
  {
   "cell_type": "markdown",
   "id": "4308368b",
   "metadata": {},
   "source": [
    "# **🚀 Predicting the next 7 days with an RNN involves a process called recursive forecasting**"
   ]
  },
  {
   "cell_type": "code",
   "execution_count": 50,
   "id": "7c46a558",
   "metadata": {},
   "outputs": [
    {
     "name": "stdout",
     "output_type": "stream",
     "text": [
      "\u001b[1m1/1\u001b[0m \u001b[32m━━━━━━━━━━━━━━━━━━━━\u001b[0m\u001b[37m\u001b[0m \u001b[1m0s\u001b[0m 45ms/step"
     ]
    },
    {
     "name": "stderr",
     "output_type": "stream",
     "text": [
      "c:\\Users\\Nagesh Agrawal\\anaconda3\\Lib\\site-packages\\sklearn\\base.py:493: UserWarning: X does not have valid feature names, but MinMaxScaler was fitted with feature names\n",
      "  warnings.warn(\n"
     ]
    },
    {
     "name": "stdout",
     "output_type": "stream",
     "text": [
      "\u001b[1m1/1\u001b[0m \u001b[32m━━━━━━━━━━━━━━━━━━━━\u001b[0m\u001b[37m\u001b[0m \u001b[1m0s\u001b[0m 196ms/step\n",
      "\u001b[1m1/1\u001b[0m \u001b[32m━━━━━━━━━━━━━━━━━━━━\u001b[0m\u001b[37m\u001b[0m \u001b[1m0s\u001b[0m 89ms/step\n"
     ]
    },
    {
     "name": "stderr",
     "output_type": "stream",
     "text": [
      "C:\\Users\\Nagesh Agrawal\\AppData\\Local\\Temp\\ipykernel_15444\\1968886917.py:34: DeprecationWarning: Conversion of an array with ndim > 0 to a scalar is deprecated, and will error in future. Ensure you extract a single element from your array before performing this operation. (Deprecated NumPy 1.25.)\n",
      "  new_day[0] = pred_scaled  # replace meantemp with predicted scaled value\n",
      "C:\\Users\\Nagesh Agrawal\\AppData\\Local\\Temp\\ipykernel_15444\\1968886917.py:34: DeprecationWarning: Conversion of an array with ndim > 0 to a scalar is deprecated, and will error in future. Ensure you extract a single element from your array before performing this operation. (Deprecated NumPy 1.25.)\n",
      "  new_day[0] = pred_scaled  # replace meantemp with predicted scaled value\n"
     ]
    },
    {
     "name": "stdout",
     "output_type": "stream",
     "text": [
      "\u001b[1m1/1\u001b[0m \u001b[32m━━━━━━━━━━━━━━━━━━━━\u001b[0m\u001b[37m\u001b[0m \u001b[1m0s\u001b[0m 84ms/step\n",
      "\u001b[1m1/1\u001b[0m \u001b[32m━━━━━━━━━━━━━━━━━━━━\u001b[0m\u001b[37m\u001b[0m \u001b[1m0s\u001b[0m 93ms/step\n"
     ]
    },
    {
     "name": "stderr",
     "output_type": "stream",
     "text": [
      "C:\\Users\\Nagesh Agrawal\\AppData\\Local\\Temp\\ipykernel_15444\\1968886917.py:34: DeprecationWarning: Conversion of an array with ndim > 0 to a scalar is deprecated, and will error in future. Ensure you extract a single element from your array before performing this operation. (Deprecated NumPy 1.25.)\n",
      "  new_day[0] = pred_scaled  # replace meantemp with predicted scaled value\n",
      "C:\\Users\\Nagesh Agrawal\\AppData\\Local\\Temp\\ipykernel_15444\\1968886917.py:34: DeprecationWarning: Conversion of an array with ndim > 0 to a scalar is deprecated, and will error in future. Ensure you extract a single element from your array before performing this operation. (Deprecated NumPy 1.25.)\n",
      "  new_day[0] = pred_scaled  # replace meantemp with predicted scaled value\n"
     ]
    },
    {
     "name": "stdout",
     "output_type": "stream",
     "text": [
      "\u001b[1m1/1\u001b[0m \u001b[32m━━━━━━━━━━━━━━━━━━━━\u001b[0m\u001b[37m\u001b[0m \u001b[1m0s\u001b[0m 95ms/step\n",
      "\u001b[1m1/1\u001b[0m \u001b[32m━━━━━━━━━━━━━━━━━━━━\u001b[0m\u001b[37m\u001b[0m \u001b[1m0s\u001b[0m 49ms/step"
     ]
    },
    {
     "name": "stderr",
     "output_type": "stream",
     "text": [
      "C:\\Users\\Nagesh Agrawal\\AppData\\Local\\Temp\\ipykernel_15444\\1968886917.py:34: DeprecationWarning: Conversion of an array with ndim > 0 to a scalar is deprecated, and will error in future. Ensure you extract a single element from your array before performing this operation. (Deprecated NumPy 1.25.)\n",
      "  new_day[0] = pred_scaled  # replace meantemp with predicted scaled value\n"
     ]
    },
    {
     "name": "stdout",
     "output_type": "stream",
     "text": [
      "\u001b[1m1/1\u001b[0m \u001b[32m━━━━━━━━━━━━━━━━━━━━\u001b[0m\u001b[37m\u001b[0m \u001b[1m0s\u001b[0m 114ms/step\n",
      "\u001b[1m1/1\u001b[0m \u001b[32m━━━━━━━━━━━━━━━━━━━━\u001b[0m\u001b[37m\u001b[0m \u001b[1m0s\u001b[0m 43ms/step"
     ]
    },
    {
     "name": "stderr",
     "output_type": "stream",
     "text": [
      "C:\\Users\\Nagesh Agrawal\\AppData\\Local\\Temp\\ipykernel_15444\\1968886917.py:34: DeprecationWarning: Conversion of an array with ndim > 0 to a scalar is deprecated, and will error in future. Ensure you extract a single element from your array before performing this operation. (Deprecated NumPy 1.25.)\n",
      "  new_day[0] = pred_scaled  # replace meantemp with predicted scaled value\n"
     ]
    },
    {
     "name": "stdout",
     "output_type": "stream",
     "text": [
      "\u001b[1m1/1\u001b[0m \u001b[32m━━━━━━━━━━━━━━━━━━━━\u001b[0m\u001b[37m\u001b[0m \u001b[1m0s\u001b[0m 96ms/step\n",
      "Day +1 predicted temperature: 25.52 °C\n",
      "Day +2 predicted temperature: 25.24 °C\n",
      "Day +3 predicted temperature: 25.00 °C\n",
      "Day +4 predicted temperature: 24.90 °C\n",
      "Day +5 predicted temperature: 24.71 °C\n",
      "Day +6 predicted temperature: 24.50 °C\n",
      "Day +7 predicted temperature: 24.27 °C\n"
     ]
    },
    {
     "name": "stderr",
     "output_type": "stream",
     "text": [
      "C:\\Users\\Nagesh Agrawal\\AppData\\Local\\Temp\\ipykernel_15444\\1968886917.py:34: DeprecationWarning: Conversion of an array with ndim > 0 to a scalar is deprecated, and will error in future. Ensure you extract a single element from your array before performing this operation. (Deprecated NumPy 1.25.)\n",
      "  new_day[0] = pred_scaled  # replace meantemp with predicted scaled value\n"
     ]
    }
   ],
   "source": [
    "import numpy as np\n",
    "\n",
    "# Assume you have the last 5 days of real data as 'last_sequence'\n",
    "last_sequence = [\n",
    "    [25.4, 58, 2.8, 1009],\n",
    "    [25.6, 57, 2.7, 1008],\n",
    "    [25.7, 56, 2.9, 1007],\n",
    "    [25.8, 55, 3.0, 1007],\n",
    "    [26.0, 54, 3.1, 1006]\n",
    "]\n",
    "\n",
    "# Scale last_sequence\n",
    "scaled_seq = scaler.transform(last_sequence)\n",
    "\n",
    "predicted_days = []\n",
    "\n",
    "\n",
    "for _ in range(7):  # predict next 7 days\n",
    "    X_input = scaled_seq.reshape(1, 5, 4)\n",
    "    pred_scaled = model.predict(X_input)\n",
    "    \n",
    "    # Inverse scale to get temperature only\n",
    "    pred_temp = meantemp_scaler.inverse_transform(pred_scaled)[0][0]\n",
    "    predicted_days.append(pred_temp)\n",
    "    \n",
    "    # Create new input sequence for next prediction:\n",
    "    # Remove the first day, append the predicted day with other features\n",
    "    # Here, we only predicted 'meantemp', so for other features you can:\n",
    "    # Option 1: Assume they stay the same as last day (simple approach)\n",
    "    # Option 2: Use some domain knowledge or separate models to predict them\n",
    "    \n",
    "    # Simple approach:\n",
    "    new_day = scaled_seq[-1].copy()  # last day features scaled\n",
    "    new_day[0] = pred_scaled  # replace meantemp with predicted scaled value\n",
    "    \n",
    "    # Update the sequence\n",
    "    scaled_seq = np.vstack([scaled_seq[1:], new_day])\n",
    "\n",
    "# Print predicted temperatures for next 7 days\n",
    "for i, temp in enumerate(predicted_days, 1):\n",
    "    print(f\"Day +{i} predicted temperature: {temp:.2f} °C\")"
   ]
  }
 ],
 "metadata": {
  "kernelspec": {
   "display_name": "base",
   "language": "python",
   "name": "python3"
  },
  "language_info": {
   "codemirror_mode": {
    "name": "ipython",
    "version": 3
   },
   "file_extension": ".py",
   "mimetype": "text/x-python",
   "name": "python",
   "nbconvert_exporter": "python",
   "pygments_lexer": "ipython3",
   "version": "3.12.7"
  }
 },
 "nbformat": 4,
 "nbformat_minor": 5
}
