{
 "cells": [
  {
   "cell_type": "markdown",
   "id": "9aeb36d7",
   "metadata": {},
   "source": [
    "\n",
    "# **🎯 Linear Regression  🎯**\n",
    "\n",
    "### 📌 **Definition:**\n",
    "Linear Regression predicts a continuous target variable based on one or more input features by fitting a straight line.\n",
    "\n",
    "### 📈 **Equation:**\n",
    "**Y = β₀ + β₁X₁ + β₂X₂ + ... + βₙXₙ + ε**\n",
    "\n",
    "→ Y = Target\n",
    "\n",
    "→ X = Features\n",
    "\n",
    "→ β = Coefficients\n",
    "\n",
    "→ ε = Error term\n",
    "\n",
    "\n",
    "\n",
    "### 🧠 **Key Assumptions (VERY IMPORTANT!)**\n",
    "\n",
    "✅ Linearity – Relationship between X and Y is linear\n",
    "\n",
    "✅ Independence – Observations are independent\n",
    "\n",
    "✅ Homoscedasticity – Constant variance of errors\n",
    "\n",
    "✅ Normality – Errors are normally distributed\n",
    "\n",
    "✅ No multicollinearity – Features shouldn't be highly correlated\n",
    "\n",
    "\n",
    "\n",
    "### 🧮 **Types:**\n",
    "\n",
    "* **Simple Linear Regression** → 1 INDEPENDENT VARIABLE ( PREDICTOR ) AND OTHER DEPENDENT VARIABLE (RESPONSE)\n",
    "\n",
    "* **Multiple Linear Regression** → 2 INDEPENDENT VARIABLE( PREDICTORS )\n",
    "\n",
    "\n",
    "\n",
    "### 📊 **Evaluation Metrics:**\n",
    "\n",
    "* **R² (R-squared)** – Goodness of fit\n",
    "\n",
    "* **Adjusted R²** – Penalizes extra features\n",
    "\n",
    "* **MSE / RMSE / MAE** – Error metrics\n",
    "\n"
   ]
  },
  {
   "cell_type": "markdown",
   "id": "b53ea4c4",
   "metadata": {},
   "source": [
    "# **🎯 OLS Method – Ordinary Least Squares 🎯**\n",
    "\n",
    "### 📌 **Definition:**\n",
    "\n",
    "- OLS is the most common method used to estimate the coefficients (**β**) in **linear regression** by **minimizing the sum of squared errors** between actual and predicted values.\n",
    "\n",
    "- OLS finds the **best-fitting line** by choosing **β₀, β₁, ..., βₙ** that minimize SSR.\n",
    "---\n",
    "\n",
    "### 🧮 **Objective Function:**\n",
    "\n",
    "👉 Minimize: **Σ (Yᵢ − Ŷᵢ)²**\n",
    "\n",
    "➡️ Yᵢ = Actual value\n",
    "\n",
    "➡️ Ŷᵢ = Predicted value\n",
    "\n",
    "➡️ This is the **Sum of Squared Residuals (SSR)**\n",
    "\n",
    "✅The LinearRegression class in scikit-learn uses OLS (Ordinary Least Squares) internally.\n"
   ]
  },
  {
   "cell_type": "markdown",
   "id": "63775b6c",
   "metadata": {},
   "source": []
  },
  {
   "cell_type": "code",
   "execution_count": 7,
   "id": "ca67ae3e",
   "metadata": {},
   "outputs": [
    {
     "data": {
      "text/html": [
       "<style>#sk-container-id-1 {color: black;}#sk-container-id-1 pre{padding: 0;}#sk-container-id-1 div.sk-toggleable {background-color: white;}#sk-container-id-1 label.sk-toggleable__label {cursor: pointer;display: block;width: 100%;margin-bottom: 0;padding: 0.3em;box-sizing: border-box;text-align: center;}#sk-container-id-1 label.sk-toggleable__label-arrow:before {content: \"▸\";float: left;margin-right: 0.25em;color: #696969;}#sk-container-id-1 label.sk-toggleable__label-arrow:hover:before {color: black;}#sk-container-id-1 div.sk-estimator:hover label.sk-toggleable__label-arrow:before {color: black;}#sk-container-id-1 div.sk-toggleable__content {max-height: 0;max-width: 0;overflow: hidden;text-align: left;background-color: #f0f8ff;}#sk-container-id-1 div.sk-toggleable__content pre {margin: 0.2em;color: black;border-radius: 0.25em;background-color: #f0f8ff;}#sk-container-id-1 input.sk-toggleable__control:checked~div.sk-toggleable__content {max-height: 200px;max-width: 100%;overflow: auto;}#sk-container-id-1 input.sk-toggleable__control:checked~label.sk-toggleable__label-arrow:before {content: \"▾\";}#sk-container-id-1 div.sk-estimator input.sk-toggleable__control:checked~label.sk-toggleable__label {background-color: #d4ebff;}#sk-container-id-1 div.sk-label input.sk-toggleable__control:checked~label.sk-toggleable__label {background-color: #d4ebff;}#sk-container-id-1 input.sk-hidden--visually {border: 0;clip: rect(1px 1px 1px 1px);clip: rect(1px, 1px, 1px, 1px);height: 1px;margin: -1px;overflow: hidden;padding: 0;position: absolute;width: 1px;}#sk-container-id-1 div.sk-estimator {font-family: monospace;background-color: #f0f8ff;border: 1px dotted black;border-radius: 0.25em;box-sizing: border-box;margin-bottom: 0.5em;}#sk-container-id-1 div.sk-estimator:hover {background-color: #d4ebff;}#sk-container-id-1 div.sk-parallel-item::after {content: \"\";width: 100%;border-bottom: 1px solid gray;flex-grow: 1;}#sk-container-id-1 div.sk-label:hover label.sk-toggleable__label {background-color: #d4ebff;}#sk-container-id-1 div.sk-serial::before {content: \"\";position: absolute;border-left: 1px solid gray;box-sizing: border-box;top: 0;bottom: 0;left: 50%;z-index: 0;}#sk-container-id-1 div.sk-serial {display: flex;flex-direction: column;align-items: center;background-color: white;padding-right: 0.2em;padding-left: 0.2em;position: relative;}#sk-container-id-1 div.sk-item {position: relative;z-index: 1;}#sk-container-id-1 div.sk-parallel {display: flex;align-items: stretch;justify-content: center;background-color: white;position: relative;}#sk-container-id-1 div.sk-item::before, #sk-container-id-1 div.sk-parallel-item::before {content: \"\";position: absolute;border-left: 1px solid gray;box-sizing: border-box;top: 0;bottom: 0;left: 50%;z-index: -1;}#sk-container-id-1 div.sk-parallel-item {display: flex;flex-direction: column;z-index: 1;position: relative;background-color: white;}#sk-container-id-1 div.sk-parallel-item:first-child::after {align-self: flex-end;width: 50%;}#sk-container-id-1 div.sk-parallel-item:last-child::after {align-self: flex-start;width: 50%;}#sk-container-id-1 div.sk-parallel-item:only-child::after {width: 0;}#sk-container-id-1 div.sk-dashed-wrapped {border: 1px dashed gray;margin: 0 0.4em 0.5em 0.4em;box-sizing: border-box;padding-bottom: 0.4em;background-color: white;}#sk-container-id-1 div.sk-label label {font-family: monospace;font-weight: bold;display: inline-block;line-height: 1.2em;}#sk-container-id-1 div.sk-label-container {text-align: center;}#sk-container-id-1 div.sk-container {/* jupyter's `normalize.less` sets `[hidden] { display: none; }` but bootstrap.min.css set `[hidden] { display: none !important; }` so we also need the `!important` here to be able to override the default hidden behavior on the sphinx rendered scikit-learn.org. See: https://github.com/scikit-learn/scikit-learn/issues/21755 */display: inline-block !important;position: relative;}#sk-container-id-1 div.sk-text-repr-fallback {display: none;}</style><div id=\"sk-container-id-1\" class=\"sk-top-container\"><div class=\"sk-text-repr-fallback\"><pre>LinearRegression()</pre><b>In a Jupyter environment, please rerun this cell to show the HTML representation or trust the notebook. <br />On GitHub, the HTML representation is unable to render, please try loading this page with nbviewer.org.</b></div><div class=\"sk-container\" hidden><div class=\"sk-item\"><div class=\"sk-estimator sk-toggleable\"><input class=\"sk-toggleable__control sk-hidden--visually\" id=\"sk-estimator-id-1\" type=\"checkbox\" checked><label for=\"sk-estimator-id-1\" class=\"sk-toggleable__label sk-toggleable__label-arrow\">LinearRegression</label><div class=\"sk-toggleable__content\"><pre>LinearRegression()</pre></div></div></div></div></div>"
      ],
      "text/plain": [
       "LinearRegression()"
      ]
     },
     "execution_count": 7,
     "metadata": {},
     "output_type": "execute_result"
    }
   ],
   "source": [
    "# SIMPLE LINEAR REGRESSION:\n",
    "\n",
    "DATA={\"salary\":[200000,400000,500000,300000,800000],\"experience\":[1,2,4,2,10]}\n",
    "import pandas as pd\n",
    "DATA=pd.DataFrame(DATA)\n",
    "x = DATA[['experience']]  # Independent variable (2D)\n",
    "y = DATA['salary']        # Dependent variable\n",
    "\n",
    "from sklearn.linear_model import LinearRegression\n",
    "\n",
    "LR=LinearRegression()\n",
    "LR.fit(x,y)\n"
   ]
  },
  {
   "cell_type": "code",
   "execution_count": 10,
   "id": "e7bc16f7",
   "metadata": {},
   "outputs": [
    {
     "data": {
      "text/plain": [
       "array([268181.81818182, 329545.45454545, 452272.72727273, 329545.45454545,\n",
       "       820454.54545455])"
      ]
     },
     "execution_count": 10,
     "metadata": {},
     "output_type": "execute_result"
    }
   ],
   "source": [
    "y_pred=LR.predict(x)\n",
    "y_pred"
   ]
  },
  {
   "cell_type": "code",
   "execution_count": 18,
   "id": "4966d19b",
   "metadata": {},
   "outputs": [
    {
     "name": "stdout",
     "output_type": "stream",
     "text": [
      "R² Score: 0.9378216123499142\n",
      "Intercept (β₀): 206818.18181818182\n",
      "Slope (β₁): 61363.63636363637\n",
      "Adjusted R²: 0.917095483133219\n",
      "MSE (Mean Squared Error): 2636363636.363635\n",
      "RMSE (Root Mean Squared Error): 51345.53180524704\n",
      "MAE (Mean Absolute Error): 47272.72727272726\n"
     ]
    }
   ],
   "source": [
    "# 1. **R² Score** 📊\n",
    "r_squared=LR.score(x, y)\n",
    "print(\"R² Score:\", r_squared)  # R²\n",
    "\n",
    "# 2. **Intercept (β₀)** and **Slope (β₁)** of the Model\n",
    "print(\"Intercept (β₀):\", LR.intercept_)  # Intercept\n",
    "print(\"Slope (β₁):\", LR.coef_[0])  # Slope\n",
    "\n",
    "# 3. **Adjusted R²** 🔧\n",
    "n = len(y)  # Number of data points\n",
    "p = x.shape[1]  # Number of features\n",
    "adjusted_r_squared = 1 - (1 - r_squared) * (n - 1) / (n - p - 1)\n",
    "print(\"Adjusted R²:\", adjusted_r_squared)\n",
    "\n",
    "from sklearn.metrics import mean_squared_error\n",
    "\n",
    "# 4. **Mean Squared Error (MSE)** 🧮\n",
    "mse = mean_squared_error(y, y_pred)\n",
    "print(\"MSE (Mean Squared Error):\", mse)\n",
    "\n",
    "import numpy as np\n",
    "# 5. **Root Mean Squared Error (RMSE)** √\n",
    "rmse = np.sqrt(mse)\n",
    "print(\"RMSE (Root Mean Squared Error):\", rmse)\n",
    "\n",
    "from sklearn.metrics import mean_absolute_error\n",
    "# 6. **Mean Absolute Error (MAE)** 📏\n",
    "mae = mean_absolute_error(y, y_pred)\n",
    "print(\"MAE (Mean Absolute Error):\", mae)\n"
   ]
  },
  {
   "cell_type": "markdown",
   "id": "b53a8f4a",
   "metadata": {},
   "source": [
    "| **Metric**                           | **Definition**                                                                | **Code**                                                           | **Interpretation**                                                                                                               |\n",
    "| ------------------------------------ | ----------------------------------------------------------------------------- | ------------------------------------------------------------------ | -------------------------------------------------------------------------------------------------------------------------------- |\n",
    "| **R² Score** 📊                      | Measures how well the model explains the variance in the data.                | `model.score(X, y)`                                                | - **R² = 1**: Perfect model 🎯<br> - **R² = 0**: No better than the mean 📉<br> - **Negative R²**: Poor model ❌                  |\n",
    "| **Adjusted R²** 🔧                   | Adjusts R² by penalizing models with too many features.                       | `adjusted_r_squared = 1 - (1 - r_squared) * (n - 1) / (n - p - 1)` | - **Higher Adjusted R²**: Good model with balanced features 🌟<br> - **Low Adjusted R²**: Potential overfitting ⚠️               |\n",
    "| **MSE (Mean Squared Error)** 🧮      | Measures the average squared difference between actual and predicted values.  | `mean_squared_error(y, y_pred)`                                    | - **Low MSE**: Better fit 🔧<br> - **High MSE**: Poor model 🛑<br> - **MSE = 0**: Perfect model (rare) 🎯                        |\n",
    "| **RMSE (Root Mean Squared Error)** √ | The square root of MSE, showing error in original units.                      | `sqrt(mse)`                                                        | - **Low RMSE**: Small errors, good model 👍<br> - **High RMSE**: Large errors, needs improvement 🔴                              |\n",
    "| **MAE (Mean Absolute Error)** 📏     | Measures the average absolute difference between actual and predicted values. | `mean_absolute_error(y, y_pred)`                                   | - **Low MAE**: More accurate predictions 📈<br> - **High MAE**: Large error margin 🛑<br> - **MAE = 0**: Perfect model (rare) 🌟 |\n"
   ]
  },
  {
   "cell_type": "code",
   "execution_count": 21,
   "id": "f6e9fc3a",
   "metadata": {},
   "outputs": [
    {
     "name": "stdout",
     "output_type": "stream",
     "text": [
      "Intercept (β₀): 16444.790046656304\n",
      "Coefficients (β₁, β₂): [982.50388802 474.33903577]\n",
      "R² Score: 0.9986888847387978\n",
      "MSE: 118328.1523235004\n",
      "Predicted Salaries: [51375.97200622 31691.29082426]\n"
     ]
    }
   ],
   "source": [
    "# MULTI LINEAR REGRESSION:\n",
    "# Example dataset: Experience (in years) and Age (in years)\n",
    "data = {\n",
    "    'Experience': [1, 2, 3, 4, 5, 6, 7, 8, 9, 10],\n",
    "    'Age': [25, 28, 30, 35, 38, 40, 45, 50, 55, 60],\n",
    "    'Salary': [30000, 32000, 34000, 36000, 38000, 42000, 45000, 48000, 51000, 55000]\n",
    "}\n",
    "# Creating a DataFrame\n",
    "df = pd.DataFrame(data)\n",
    "\n",
    "# Features (X) - Experience and Age\n",
    "X = df[['Experience', 'Age']]\n",
    "\n",
    "# Target variable (y) - Salary\n",
    "y = df['Salary']\n",
    "\n",
    "# Splitting data into training and testing sets\n",
    "from sklearn.model_selection import train_test_split\n",
    "X_train, X_test, y_train, y_test = train_test_split(X, y, test_size=0.2, random_state=42)\n",
    "\n",
    "# Initializing the Linear Regression model\n",
    "from sklearn.linear_model import LinearRegression\n",
    "model = LinearRegression()\n",
    "\n",
    "# Fitting the model to the training data\n",
    "model.fit(X_train, y_train)\n",
    "\n",
    "# Making predictions\n",
    "y_pred = model.predict(X_test)\n",
    "\n",
    "# Model Evaluation\n",
    "print(f\"Intercept (β₀): {model.intercept_}\")\n",
    "print(f\"Coefficients (β₁, β₂): {model.coef_}\")\n",
    "\n",
    "# R² Score\n",
    "from sklearn.metrics import r2_score \n",
    "print(f\"R² Score: {r2_score(y_test, y_pred)}\")\n",
    "\n",
    "# Mean Squared Error (MSE)\n",
    "from sklearn.metrics import mean_squared_error\n",
    "print(f\"MSE: {mean_squared_error(y_test, y_pred)}\")\n",
    "\n",
    "# Output the predictions\n",
    "print(f\"Predicted Salaries: {y_pred}\")\n",
    "\n"
   ]
  },
  {
   "cell_type": "markdown",
   "id": "22b47925",
   "metadata": {},
   "source": [
    "\n",
    "\n",
    "## 🎯 **Types of Linear Regression** 🎯\n",
    "\n",
    "\n",
    "---\n",
    "\n",
    "### 1️⃣ **Simple Linear Regression**\n",
    "\n",
    "📌 1 independent variable\n",
    "\n",
    "🧮 Y = β₀ + β₁X + ε\n",
    "\n",
    "📊 Example: Predict salary using experience\n",
    "\n",
    "\n",
    "\n",
    "### 2️⃣ **Multiple Linear Regression**\n",
    "\n",
    "📌 2 or more independent variables\n",
    "\n",
    "🧮 Y = β₀ + β₁X₁ + β₂X₂ + ... + βₙXₙ + ε\n",
    "\n",
    "📊 Example: Predict house price using area, rooms, and location\n",
    "\n",
    "\n",
    "\n",
    "### 3️⃣ **Ridge Regression** (L2)\n",
    "\n",
    "🔧 Adds penalty to reduce overfitting\n",
    "\n",
    "➕ Minimizes: MSE + λΣβ²\n",
    "\n",
    "✅ Use when features are correlated\n",
    "\n",
    "\n",
    "\n",
    "### 4️⃣ **Lasso Regression** (L1)\n",
    "\n",
    "✂️ Shrinks some coefficients to 0\n",
    "\n",
    "➕ Minimizes: MSE + λΣ|β|\n",
    "\n",
    "✅ Good for feature selection\n",
    "\n",
    "\n",
    "\n",
    "### 5️⃣ **Elastic Net**\n",
    "\n",
    "⚖️ Combo of Ridge + Lasso\n",
    "\n",
    "➕ Minimizes: MSE + λ₁Σ|β| + λ₂Σβ²\n",
    "\n",
    "✅ Works well with many correlated features\n",
    "\n",
    "\n",
    "\n",
    "\n",
    "### 🧠 **Remember:**\n",
    "\n",
    "* Use **Simple/Multiple** for basic problems\n",
    "\n",
    "* Use **Ridge/Lasso/Elastic Net** to handle **overfitting** or **multicollinearity**\n",
    "\n"
   ]
  }
 ],
 "metadata": {
  "kernelspec": {
   "display_name": "Python 3",
   "language": "python",
   "name": "python3"
  },
  "language_info": {
   "codemirror_mode": {
    "name": "ipython",
    "version": 3
   },
   "file_extension": ".py",
   "mimetype": "text/x-python",
   "name": "python",
   "nbconvert_exporter": "python",
   "pygments_lexer": "ipython3",
   "version": "3.11.9"
  }
 },
 "nbformat": 4,
 "nbformat_minor": 5
}
