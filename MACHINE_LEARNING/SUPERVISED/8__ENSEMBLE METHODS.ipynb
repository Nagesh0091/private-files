{
 "cells": [
  {
   "cell_type": "markdown",
   "id": "e9c94ed7",
   "metadata": {},
   "source": [
    "# Ensemble Methods \n",
    "\n",
    "**Ensemble Algorithms** are techniques that combine multiple models to improve accuracy and performance.\n",
    "\n",
    " Instead of relying on a single model, they use a group of models to make better predictions. 🚀\n",
    "\n",
    "### Key Details to Know 🧠:\n",
    "\n",
    "## How it Works :\n",
    "\n",
    "   * Combines predictions from multiple models (like decision trees, linear regression, etc.) to make a final decision.\n",
    "   * The idea is that combining models will cancel out errors and give better results. 🤝\n",
    "\n",
    "## Types of Ensemble Methods:\n",
    "\n",
    "   * **Bagging (Bootstrap Aggregating)**:\n",
    "\n",
    "     * **Example**: Random Forest\n",
    "     * Trains multiple models on different random subsets of the data and combines their predictions (like voting for classification or averaging for regression). 🍃\n",
    "   * **Boosting**:\n",
    "\n",
    "     * **Example**: AdaBoost, XGBoost\n",
    "     * Trains models sequentially, where each new model corrects the errors made by the previous one. 🔥\n",
    "   * **Stacking**:\n",
    "\n",
    "     * Combines different models by training a meta-model to make the final prediction based on the outputs of the individual models. 📚\n",
    "\n",
    "\n"
   ]
  },
  {
   "cell_type": "markdown",
   "id": "733f5c89",
   "metadata": {},
   "source": [
    "| **Method**      | **Description**                                                                    | **Common Models**                                                                                                                                                  |                                                |\n",
    "| --------------- | ---------------------------------------------------------------------------------- | ------------------------------------------------------------------------------------------------------------------------------------------------------------------ | ---------------------------------------------- |\n",
    "| 🌳 **Bagging**  | Trains multiple models **in parallel** on different random subsets of the data     | - `RandomForestClassifier` / `RandomForestRegressor`<br>- `ExtraTreesClassifier` / `ExtraTreesRegressor`                                                           |                                                |\n",
    "| ⚡ **Boosting**  | Trains models **sequentially**, each one trying to fix the errors of the previous  | - `AdaBoostClassifier` / `Regressor`<br>- `GradientBoostingClassifier` / `Regressor`<br>- `XGBClassifier` / `XGBRegressor`<br>- `LGBMClassifier` / `LGBMRegressor` |                                                |\n",
    "| 🧠 **Stacking** | Combines different models using a **meta-model** to learn how to best combine them | - `StackingClassifier` / `StackingRegressor`<br>\\*(Base models: `SVC`, `KNN`, `DecisionTree`, etc.                                                                 | Meta-model: `LogisticRegression` or similar)\\* |\n",
    "| 🤖 **Voting**   | Combines predictions from multiple models using **majority vote** or **averaging** | - `VotingClassifier` / `VotingRegressor`<br>*(Typically includes `LogisticRegression`, `SVC`, `DecisionTree`, etc.)*                                               |                                                |\n"
   ]
  },
  {
   "cell_type": "code",
   "execution_count": 1,
   "id": "293d7a22",
   "metadata": {},
   "outputs": [],
   "source": [
    "from sklearn.ensemble import (\n",
    "    RandomForestClassifier,      # 🌳 Bagging\n",
    "    RandomForestRegressor,\n",
    "    ExtraTreesClassifier,\n",
    "    ExtraTreesRegressor,\n",
    "\n",
    "    AdaBoostClassifier,          # ⚡ Boosting\n",
    "    AdaBoostRegressor,\n",
    "    GradientBoostingClassifier,\n",
    "    GradientBoostingRegressor,\n",
    "\n",
    "    StackingClassifier,          # 🧠 Stacking\n",
    "    StackingRegressor,\n",
    "\n",
    "    VotingClassifier,            # 🤖 Voting\n",
    "    VotingRegressor\n",
    ")\n"
   ]
  },
  {
   "cell_type": "markdown",
   "id": "0e2714b8",
   "metadata": {},
   "source": [
    "| **Aspect**                 | **What You Need to Know**                                                                                  |\n",
    "| -------------------------- | ---------------------------------------------------------------------------------------------------------- |\n",
    "| 🔧 **Hyperparameters**     | Each model has different tuning parameters. For example:<br>• `n_estimators`, `max_depth`, `learning_rate` |\n",
    "| 🧠 **Model Structure**     | Some models need **base estimators** (like `Stacking`, `Voting`, `AdaBoost`)                               |\n",
    "| 🗳️ **Combining Strategy** | • Voting: `voting='hard'` (majority) or `'soft'` (probability average)<br>• Stacking uses meta-model       |\n",
    "| 📊 **Output Format**       | Classifiers output labels, regressors output numbers. Choose based on problem type.                        |\n",
    "| ⚙️ **Training Flow**       | All follow `.fit(X_train, y_train)` and `.predict(X_test)`                                                 |\n",
    "| 📉 **Performance**         | Use metrics like `accuracy_score`, `mean_squared_error`, `r2_score` depending on classification/regression |\n",
    "| 🔌 **External Models**     | For `XGBClassifier` or `LGBMClassifier`, install external libraries: `xgboost`, `lightgbm`                 |\n"
   ]
  },
  {
   "cell_type": "code",
   "execution_count": null,
   "id": "2e3954a8",
   "metadata": {},
   "outputs": [],
   "source": []
  },
  {
   "cell_type": "code",
   "execution_count": null,
   "id": "f9bb840f",
   "metadata": {},
   "outputs": [],
   "source": []
  }
 ],
 "metadata": {
  "kernelspec": {
   "display_name": "Python 3",
   "language": "python",
   "name": "python3"
  },
  "language_info": {
   "codemirror_mode": {
    "name": "ipython",
    "version": 3
   },
   "file_extension": ".py",
   "mimetype": "text/x-python",
   "name": "python",
   "nbconvert_exporter": "python",
   "pygments_lexer": "ipython3",
   "version": "3.11.9"
  }
 },
 "nbformat": 4,
 "nbformat_minor": 5
}
