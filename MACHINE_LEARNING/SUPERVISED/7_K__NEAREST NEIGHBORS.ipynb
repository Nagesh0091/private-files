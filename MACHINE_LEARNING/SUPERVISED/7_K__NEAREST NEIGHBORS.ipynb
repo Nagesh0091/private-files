{
 "cells": [
  {
   "cell_type": "markdown",
   "id": "bc67a9bf",
   "metadata": {},
   "source": [
    "# 📌 **KNN Algorithm**\n",
    "\n",
    "**KNN (K-Nearest Neighbors)** is a **supervised learning algorithm** that **predicts the label of a data point by finding the 'K' most similar neighbors** and making the prediction based on those neighbors. 🧑‍🤝‍🧑🔍\n",
    "\n",
    "---\n",
    "\n",
    "## 📚 **Key Things to Know About KNN**\n",
    "\n",
    "🔢 **1. K-value (Number of Neighbors):**\n",
    "\n",
    "* You choose how many neighbors (K) to look at.\n",
    "* Example: If **K = 3**, the algorithm checks the **3 nearest points**.\n",
    "* 🧠 Tip: K should be an **odd number** to avoid ties in classification.\n",
    "\n",
    "**K in KNN:**\n",
    "\n",
    "* **Low K (e.g., 1-3):** More sensitive, can overfit 🐉.\n",
    "* **High K (e.g., 15+):** Less sensitive, can underfit 🦖.\n",
    "\n",
    "**Key:** Small K = complex, large K = generalized. 🎯\n",
    "\n",
    "\n",
    "📏 **2. Distance Metric:**\n",
    "KNN finds the **closest points** using distance formulas:\n",
    "\n",
    "* **Euclidean Distance (most common)** 📐\n",
    "* Manhattan Distance 🛣️\n",
    "* Minkowski Distance 🧮\n",
    "\n",
    "🔄 **3. Lazy Learner:**\n",
    "\n",
    "* KNN **doesn’t learn during training**.\n",
    "* It **stores all data** and **predicts only when needed** (called **lazy learning**) 🐢💤\n",
    "\n",
    "🧠 **4. Works for:**\n",
    "\n",
    "* **Classification** (e.g., spam or not spam 📧🚫)\n",
    "* **Regression** (e.g., predicting price 💵)\n",
    "\n",
    "⚖️ **5. Sensitive to:**\n",
    "\n",
    "* **Outliers** 😬\n",
    "* **Irrelevant features** 🤷\n",
    "* **Feature scaling** (must **normalize** or **standardize** the data!) 📊\n",
    "\n",
    "📝 **6. How It Works:**\n",
    "KNN **finds the 'K' most similar neighbors** to the input data point, then **makes predictions based on those neighbors' labels**. Think of it like asking your closest neighbors what they think! 🏘️💬\n",
    "\n",
    "🐢 **7. Slow for large datasets:**\n",
    "\n",
    "* Because it **calculates distance for each test point**, it can be **slow** for large data 📉\n",
    "\n",
    "\n"
   ]
  },
  {
   "cell_type": "markdown",
   "id": "6e6045fa",
   "metadata": {},
   "source": [
    "\n",
    "---\n",
    "\n",
    "## 📏 **Euclidean Distance**\n",
    "\n",
    "- **Euclidean Distance** is the **straight-line distance** between two points in space.\n",
    "- It’s like measuring the shortest path between two locations on a map 🗺️.\n",
    "- In the case of **KNN**, Euclidean distance is used to find how \"close\" or \"similar\" a data point is to others.\n"
   ]
  },
  {
   "cell_type": "code",
   "execution_count": 4,
   "id": "57fae1db",
   "metadata": {},
   "outputs": [
    {
     "name": "stdout",
     "output_type": "stream",
     "text": [
      "Accuracy: 0.9777777777777777\n"
     ]
    }
   ],
   "source": [
    "# DATA LOADING :\n",
    "import pandas as pd\n",
    "DATA = pd.read_csv(r\"C:\\Users\\Nagesh Agrawal\\OneDrive\\Desktop\\MACHINE LEARNING\\1_DATASETS\\DECISION TREE DATA.csv\")\n",
    "\n",
    "# Label Encoding\n",
    "from sklearn.preprocessing import LabelEncoder\n",
    "LE = LabelEncoder()\n",
    "DATA[\"Species\"] = LE.fit_transform(DATA[\"Species\"])\n",
    "\n",
    "# Selecting Features and Target\n",
    "X = DATA.iloc[:, 1:5]   # Features\n",
    "Y = DATA[\"Species\"]     # Target\n",
    "\n",
    "# Splitting the data\n",
    "from sklearn.model_selection import train_test_split\n",
    "X_TRAIN, X_TEST, Y_TRAIN, Y_TEST = train_test_split(X, Y, test_size=0.3, random_state=2)\n",
    "\n",
    "#  Create SVC model\n",
    "from sklearn.neighbors import KNeighborsClassifier\n",
    "KNN = KNeighborsClassifier(n_neighbors=10)# TRY 4,5\n",
    "\n",
    "# 🏋️ Train the model\n",
    "KNN.fit(X_TRAIN, Y_TRAIN)\n",
    "\n",
    "# 🔍 Make predictions\n",
    "Y_PRED = KNN.predict(X_TEST)\n",
    "\n",
    "# 📊 Check accuracy\n",
    "from sklearn.metrics import accuracy_score\n",
    "accuracy = accuracy_score(Y_TEST, Y_PRED)\n",
    "print(\"Accuracy:\", accuracy)"
   ]
  }
 ],
 "metadata": {
  "kernelspec": {
   "display_name": "Python 3",
   "language": "python",
   "name": "python3"
  },
  "language_info": {
   "codemirror_mode": {
    "name": "ipython",
    "version": 3
   },
   "file_extension": ".py",
   "mimetype": "text/x-python",
   "name": "python",
   "nbconvert_exporter": "python",
   "pygments_lexer": "ipython3",
   "version": "3.11.9"
  }
 },
 "nbformat": 4,
 "nbformat_minor": 5
}
