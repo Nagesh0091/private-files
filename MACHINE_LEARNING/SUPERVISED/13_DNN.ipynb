{
 "cells": [
  {
   "cell_type": "markdown",
   "id": "e9f6af3c",
   "metadata": {},
   "source": [
    "# 🌟 **DNN Algorithm (Deep Neural Network)** 🤖🧠\n",
    "\n",
    "## 📌 **Short Definition (Simple Words)**\n",
    "\n",
    "A **Deep Neural Network (DNN)** is a type of **artificial intelligence** 🤖 that mimics how the human brain 🧠 works. It’s made of **layers of neurons** that help computers **learn patterns from data**, like recognizing faces, predicting stock prices, or recommending movies 🎬.\n",
    "\n",
    "---\n",
    "\n",
    "\n",
    "## 🧱 **Structure of a DNN**\n",
    "\n",
    "DNNs are made up of **layers**:\n",
    "\n",
    "1. 🔹 **Input Layer** – Takes raw data (like numbers, images, or text).\n",
    "2. 🔸 **Hidden Layers** – Multiple layers that process the data step by step.\n",
    "3. 🔹 **Output Layer** – Gives the final result (like \"spam\" or \"not spam\").\n",
    "\n",
    "> Each layer is made of tiny units called **neurons**, and they are connected just like brain cells 🧠🔗.\n",
    "\n",
    "\n",
    "\n",
    "## 🧠 **How It Works (Simplified)**\n",
    "\n",
    "1. 📥 Input data goes into the network.\n",
    "2. ➕ Each neuron calculates a **weighted sum** + a **bias**.\n",
    "3. 🌀 It passes through an **activation function** (like ReLU, Sigmoid) to decide what to pass forward.\n",
    "4. 🔁 This continues through all hidden layers.\n",
    "5. 📤 Final layer gives the output.\n",
    "\n",
    "\n",
    "\n",
    "## 📚 **Key Concepts to Know**\n",
    "\n",
    "| 🏷️ Concept                | 🔍 Description                                          |\n",
    "| -------------------------- | ------------------------------------------------------- |\n",
    "| 🎯 **Epoch**               | One full pass of the entire dataset through the DNN.    |\n",
    "| 🧮 **Weights & Bias**      | Parameters the model learns to make better predictions. |\n",
    "| 🧪 **Activation Function** | Adds non-linearity (e.g., ReLU, Sigmoid, Tanh).         |\n",
    "| 🧠 **Backpropagation**     | Method to update weights using the error.               |\n",
    "| 🎓 **Training**            | Process of learning patterns from data.                 |\n",
    "| 📊 **Loss Function**       | Tells how far the prediction is from the actual result. |\n",
    "| 🛠️ **Optimizer**          | Algorithm (like SGD, Adam) that adjusts weights.        |\n",
    "\n",
    "\n",
    "\n",
    "## 🚀 **Where DNNs Are Used**\n",
    "\n",
    "🔍 Image recognition\n",
    "\n",
    "💬 Natural language processing (NLP)\n",
    "\n",
    "🎮 Game AI\n",
    "\n",
    "🧬 Healthcare diagnosis\n",
    "\n",
    "🛍️ Recommendation systems\n",
    "\n",
    "📈 Stock market predictions\n",
    "\n",
    "\n",
    "\n",
    "## ✅ **Pros**\n",
    "\n",
    "✔️ Learns complex patterns\n",
    "\n",
    "✔️ Works well on big data\n",
    "\n",
    "✔️ Highly flexible and powerful\n",
    "\n",
    "## ❌ **Cons**\n",
    "\n",
    "❗ Needs a lot of data\n",
    "\n",
    "❗ Computationally expensive\n",
    "\n",
    "❗ Takes time to train\n",
    "\n",
    "\n",
    "\n",
    "## 📘 **Extra Tips for Beginners**\n",
    "\n",
    "* Start with **basic neural networks** before going deep.\n",
    "* Use tools like **TensorFlow** or **Keras** for building DNNs.\n",
    "* Practice with datasets from **Kaggle** or **UCI ML Repository**.\n",
    "\n",
    "\n"
   ]
  },
  {
   "cell_type": "markdown",
   "id": "d23fb879",
   "metadata": {},
   "source": [
    "\n",
    "---\n",
    "\n",
    "Great question! 😊 Yes, a **DNN (Deep Neural Network)** is **very similar to an FNN (Feedforward Neural Network)** — in fact, you can think of a **DNN as just a \"deeper\" version of an FNN**. Let’s break it down for you in a stylish way! 🌈✨\n",
    "\n",
    "\n",
    "\n",
    "# 🤖 **DNN vs FNN – What’s the Difference?** 🧠⚡\n",
    "\n",
    "| 🔍 Feature                  | 🧱 FNN (Feedforward Neural Network)            | 🧠 DNN (Deep Neural Network)             |\n",
    "| --------------------------- | ---------------------------------------------- | ---------------------------------------- |\n",
    "| 💡 **Basic Idea**           | A neural network where data flows only forward | A deeper FNN with **many hidden layers** |\n",
    "| 🔄 **Flow of Data**         | One direction only →                           | Same: forward only →                     |\n",
    "| 🧱 **No. of Hidden Layers** | Usually **1 or 2 layers**                      | **More than 2** (can be 10s or 100s!)    |\n",
    "| 🧠 **Complexity**           | Simpler, used for basic tasks                  | More complex, handles **advanced tasks** |\n",
    "| 🧪 **Use Case Examples**    | Basic classification or regression             | Image recognition, NLP, speech, etc.     |\n",
    "\n",
    "\n",
    "\n",
    "## 🧠 In Simple Words:\n",
    "\n",
    "👉 **Every DNN is an FNN**, but not every FNN is deep enough to be called a DNN.\n",
    "\n",
    "\n",
    "- If a neural network has **many hidden layers**, it’s called a **Deep Neural Network (DNN)**.\n",
    "- If it has **just a few (1-2) hidden layers**, it’s usually just called an **FNN**.\n",
    "\n",
    "\n",
    "\n",
    "## 🌟 Analogy Time:\n",
    "\n",
    "Think of it like a **cake** 🎂:\n",
    "\n",
    "* 🍰 **FNN** = a small cake with 2 layers\n",
    "* 🎂 **DNN** = a tall cake with 10+ layers\n",
    "  Both are cakes (neural networks), but DNN is just **\"taller\" and more powerful**.\n"
   ]
  },
  {
   "cell_type": "code",
   "execution_count": 1,
   "id": "5293a486",
   "metadata": {},
   "outputs": [],
   "source": [
    "# ! pip install tensorflow"
   ]
  },
  {
   "cell_type": "code",
   "execution_count": 2,
   "id": "65c921b8",
   "metadata": {},
   "outputs": [],
   "source": [
    "import tensorflow as tf\n",
    "from tensorflow.keras.models import Sequential\n",
    "from tensorflow.keras.layers import Dense, Flatten\n",
    "from tensorflow.keras.datasets import mnist\n",
    "from tensorflow.keras.utils import to_categorical"
   ]
  },
  {
   "cell_type": "markdown",
   "id": "eed16f33",
   "metadata": {},
   "source": [
    "\n",
    "\n",
    "### 🧩 `import tensorflow as tf`\n",
    "\n",
    "🔹 **TensorFlow** is a powerful library for building and training machine learning models.\n",
    "\n",
    "🔹 We call it `tf` to keep it short in code.\n",
    "\n",
    "\n",
    "\n",
    "### 🧠 `from tensorflow.keras.models import Sequential`\n",
    "\n",
    "🔹 **Sequential** is a way to build a model **step-by-step, layer-by-layer**.\n",
    "\n",
    "🔹 Use it when your model goes straight from input → hidden → output (no branches or loops).\n",
    "\n",
    "\n",
    "\n",
    "### 🧱 `from tensorflow.keras.layers import Dense, Flatten`\n",
    "\n",
    "🔹 **Dense**: Fully connected layer – each neuron connects to **every neuron** in the next layer.\n",
    "\n",
    "🔹 **Flatten**: Turns 2D input (like an image) into 1D – prepares data for the Dense layers.\n",
    "\n",
    "\n",
    "### 🗃️ `from tensorflow.keras.datasets import mnist`\n",
    "\n",
    "🔹 Loads the **MNIST dataset** – 70,000 images of handwritten digits (0–9).\n",
    "\n",
    "🔹 Already split into **training and testing** sets.\n",
    "\n",
    "\n",
    "\n",
    "### 🎯 `from tensorflow.keras.utils import to_categorical`\n",
    "\n",
    "🔹 Converts labels like `5` into a **one-hot encoded vector** like `[0 0 0 0 0 1 0 0 0 0]`.\n",
    "\n",
    "🔹 Needed for classification problems where you have multiple classes.\n",
    "\n"
   ]
  },
  {
   "cell_type": "code",
   "execution_count": 3,
   "id": "868ff4b7",
   "metadata": {},
   "outputs": [
    {
     "name": "stdout",
     "output_type": "stream",
     "text": [
      "Downloading data from https://storage.googleapis.com/tensorflow/tf-keras-datasets/mnist.npz\n",
      "\u001b[1m11490434/11490434\u001b[0m \u001b[32m━━━━━━━━━━━━━━━━━━━━\u001b[0m\u001b[37m\u001b[0m \u001b[1m7s\u001b[0m 1us/step\n"
     ]
    }
   ],
   "source": [
    "# Load MNIST data (images of digits 0–9)\n",
    "(x_train, y_train), (x_test, y_test) = mnist.load_data()"
   ]
  },
  {
   "cell_type": "code",
   "execution_count": 4,
   "id": "55963a39",
   "metadata": {},
   "outputs": [],
   "source": [
    "# Normalize and One-hot encode\n",
    "x_train, x_test = x_train / 255.0, x_test / 255.0\n",
    "y_train = to_categorical(y_train)\n",
    "y_test = to_categorical(y_test)"
   ]
  },
  {
   "cell_type": "markdown",
   "id": "a2d803b3",
   "metadata": {},
   "source": [
    "### 🧱  Feedforward Neural Network (FNN) – Shallow"
   ]
  },
  {
   "cell_type": "code",
   "execution_count": null,
   "id": "2aef3204",
   "metadata": {},
   "outputs": [],
   "source": [
    "'''# FNN with 1 hidden layer\n",
    "fnn_model = Sequential([\n",
    "    Flatten(input_shape=(28, 28)),     # Input Layer\n",
    "    Dense(64, activation='relu'),      # Hidden Layer (shallow)\n",
    "    Dense(10, activation='softmax')    # Output Layer (10 classes)\n",
    "])\n",
    "\n",
    "fnn_model.compile(optimizer='adam', loss='categorical_crossentropy', metrics=['accuracy'])\n",
    "fnn_model.summary()  # Print model summary\n",
    "fnn_model.fit(x_train, y_train, epochs=5, validation_data=(x_test, y_test))'''"
   ]
  },
  {
   "cell_type": "markdown",
   "id": "0bd79224",
   "metadata": {},
   "source": [
    "### 🧠  Deep Neural Network (DNN) – Deeper"
   ]
  },
  {
   "cell_type": "code",
   "execution_count": 5,
   "id": "1abd117f",
   "metadata": {},
   "outputs": [
    {
     "name": "stderr",
     "output_type": "stream",
     "text": [
      "c:\\Users\\Nagesh Agrawal\\anaconda3\\Lib\\site-packages\\keras\\src\\layers\\reshaping\\flatten.py:37: UserWarning: Do not pass an `input_shape`/`input_dim` argument to a layer. When using Sequential models, prefer using an `Input(shape)` object as the first layer in the model instead.\n",
      "  super().__init__(**kwargs)\n"
     ]
    },
    {
     "data": {
      "text/html": [
       "<pre style=\"white-space:pre;overflow-x:auto;line-height:normal;font-family:Menlo,'DejaVu Sans Mono',consolas,'Courier New',monospace\"><span style=\"font-weight: bold\">Model: \"sequential\"</span>\n",
       "</pre>\n"
      ],
      "text/plain": [
       "\u001b[1mModel: \"sequential\"\u001b[0m\n"
      ]
     },
     "metadata": {},
     "output_type": "display_data"
    },
    {
     "data": {
      "text/html": [
       "<pre style=\"white-space:pre;overflow-x:auto;line-height:normal;font-family:Menlo,'DejaVu Sans Mono',consolas,'Courier New',monospace\">┏━━━━━━━━━━━━━━━━━━━━━━━━━━━━━━━━━┳━━━━━━━━━━━━━━━━━━━━━━━━┳━━━━━━━━━━━━━━━┓\n",
       "┃<span style=\"font-weight: bold\"> Layer (type)                    </span>┃<span style=\"font-weight: bold\"> Output Shape           </span>┃<span style=\"font-weight: bold\">       Param # </span>┃\n",
       "┡━━━━━━━━━━━━━━━━━━━━━━━━━━━━━━━━━╇━━━━━━━━━━━━━━━━━━━━━━━━╇━━━━━━━━━━━━━━━┩\n",
       "│ flatten (<span style=\"color: #0087ff; text-decoration-color: #0087ff\">Flatten</span>)               │ (<span style=\"color: #00d7ff; text-decoration-color: #00d7ff\">None</span>, <span style=\"color: #00af00; text-decoration-color: #00af00\">784</span>)            │             <span style=\"color: #00af00; text-decoration-color: #00af00\">0</span> │\n",
       "├─────────────────────────────────┼────────────────────────┼───────────────┤\n",
       "│ dense (<span style=\"color: #0087ff; text-decoration-color: #0087ff\">Dense</span>)                   │ (<span style=\"color: #00d7ff; text-decoration-color: #00d7ff\">None</span>, <span style=\"color: #00af00; text-decoration-color: #00af00\">128</span>)            │       <span style=\"color: #00af00; text-decoration-color: #00af00\">100,480</span> │\n",
       "├─────────────────────────────────┼────────────────────────┼───────────────┤\n",
       "│ dense_1 (<span style=\"color: #0087ff; text-decoration-color: #0087ff\">Dense</span>)                 │ (<span style=\"color: #00d7ff; text-decoration-color: #00d7ff\">None</span>, <span style=\"color: #00af00; text-decoration-color: #00af00\">64</span>)             │         <span style=\"color: #00af00; text-decoration-color: #00af00\">8,256</span> │\n",
       "├─────────────────────────────────┼────────────────────────┼───────────────┤\n",
       "│ dense_2 (<span style=\"color: #0087ff; text-decoration-color: #0087ff\">Dense</span>)                 │ (<span style=\"color: #00d7ff; text-decoration-color: #00d7ff\">None</span>, <span style=\"color: #00af00; text-decoration-color: #00af00\">32</span>)             │         <span style=\"color: #00af00; text-decoration-color: #00af00\">2,080</span> │\n",
       "├─────────────────────────────────┼────────────────────────┼───────────────┤\n",
       "│ dense_3 (<span style=\"color: #0087ff; text-decoration-color: #0087ff\">Dense</span>)                 │ (<span style=\"color: #00d7ff; text-decoration-color: #00d7ff\">None</span>, <span style=\"color: #00af00; text-decoration-color: #00af00\">10</span>)             │           <span style=\"color: #00af00; text-decoration-color: #00af00\">330</span> │\n",
       "└─────────────────────────────────┴────────────────────────┴───────────────┘\n",
       "</pre>\n"
      ],
      "text/plain": [
       "┏━━━━━━━━━━━━━━━━━━━━━━━━━━━━━━━━━┳━━━━━━━━━━━━━━━━━━━━━━━━┳━━━━━━━━━━━━━━━┓\n",
       "┃\u001b[1m \u001b[0m\u001b[1mLayer (type)                   \u001b[0m\u001b[1m \u001b[0m┃\u001b[1m \u001b[0m\u001b[1mOutput Shape          \u001b[0m\u001b[1m \u001b[0m┃\u001b[1m \u001b[0m\u001b[1m      Param #\u001b[0m\u001b[1m \u001b[0m┃\n",
       "┡━━━━━━━━━━━━━━━━━━━━━━━━━━━━━━━━━╇━━━━━━━━━━━━━━━━━━━━━━━━╇━━━━━━━━━━━━━━━┩\n",
       "│ flatten (\u001b[38;5;33mFlatten\u001b[0m)               │ (\u001b[38;5;45mNone\u001b[0m, \u001b[38;5;34m784\u001b[0m)            │             \u001b[38;5;34m0\u001b[0m │\n",
       "├─────────────────────────────────┼────────────────────────┼───────────────┤\n",
       "│ dense (\u001b[38;5;33mDense\u001b[0m)                   │ (\u001b[38;5;45mNone\u001b[0m, \u001b[38;5;34m128\u001b[0m)            │       \u001b[38;5;34m100,480\u001b[0m │\n",
       "├─────────────────────────────────┼────────────────────────┼───────────────┤\n",
       "│ dense_1 (\u001b[38;5;33mDense\u001b[0m)                 │ (\u001b[38;5;45mNone\u001b[0m, \u001b[38;5;34m64\u001b[0m)             │         \u001b[38;5;34m8,256\u001b[0m │\n",
       "├─────────────────────────────────┼────────────────────────┼───────────────┤\n",
       "│ dense_2 (\u001b[38;5;33mDense\u001b[0m)                 │ (\u001b[38;5;45mNone\u001b[0m, \u001b[38;5;34m32\u001b[0m)             │         \u001b[38;5;34m2,080\u001b[0m │\n",
       "├─────────────────────────────────┼────────────────────────┼───────────────┤\n",
       "│ dense_3 (\u001b[38;5;33mDense\u001b[0m)                 │ (\u001b[38;5;45mNone\u001b[0m, \u001b[38;5;34m10\u001b[0m)             │           \u001b[38;5;34m330\u001b[0m │\n",
       "└─────────────────────────────────┴────────────────────────┴───────────────┘\n"
      ]
     },
     "metadata": {},
     "output_type": "display_data"
    },
    {
     "data": {
      "text/html": [
       "<pre style=\"white-space:pre;overflow-x:auto;line-height:normal;font-family:Menlo,'DejaVu Sans Mono',consolas,'Courier New',monospace\"><span style=\"font-weight: bold\"> Total params: </span><span style=\"color: #00af00; text-decoration-color: #00af00\">111,146</span> (434.16 KB)\n",
       "</pre>\n"
      ],
      "text/plain": [
       "\u001b[1m Total params: \u001b[0m\u001b[38;5;34m111,146\u001b[0m (434.16 KB)\n"
      ]
     },
     "metadata": {},
     "output_type": "display_data"
    },
    {
     "data": {
      "text/html": [
       "<pre style=\"white-space:pre;overflow-x:auto;line-height:normal;font-family:Menlo,'DejaVu Sans Mono',consolas,'Courier New',monospace\"><span style=\"font-weight: bold\"> Trainable params: </span><span style=\"color: #00af00; text-decoration-color: #00af00\">111,146</span> (434.16 KB)\n",
       "</pre>\n"
      ],
      "text/plain": [
       "\u001b[1m Trainable params: \u001b[0m\u001b[38;5;34m111,146\u001b[0m (434.16 KB)\n"
      ]
     },
     "metadata": {},
     "output_type": "display_data"
    },
    {
     "data": {
      "text/html": [
       "<pre style=\"white-space:pre;overflow-x:auto;line-height:normal;font-family:Menlo,'DejaVu Sans Mono',consolas,'Courier New',monospace\"><span style=\"font-weight: bold\"> Non-trainable params: </span><span style=\"color: #00af00; text-decoration-color: #00af00\">0</span> (0.00 B)\n",
       "</pre>\n"
      ],
      "text/plain": [
       "\u001b[1m Non-trainable params: \u001b[0m\u001b[38;5;34m0\u001b[0m (0.00 B)\n"
      ]
     },
     "metadata": {},
     "output_type": "display_data"
    },
    {
     "name": "stdout",
     "output_type": "stream",
     "text": [
      "Epoch 1/5\n",
      "\u001b[1m1875/1875\u001b[0m \u001b[32m━━━━━━━━━━━━━━━━━━━━\u001b[0m\u001b[37m\u001b[0m \u001b[1m12s\u001b[0m 5ms/step - accuracy: 0.8581 - loss: 0.4667 - val_accuracy: 0.9637 - val_loss: 0.1195\n",
      "Epoch 2/5\n",
      "\u001b[1m1875/1875\u001b[0m \u001b[32m━━━━━━━━━━━━━━━━━━━━\u001b[0m\u001b[37m\u001b[0m \u001b[1m10s\u001b[0m 6ms/step - accuracy: 0.9661 - loss: 0.1120 - val_accuracy: 0.9688 - val_loss: 0.0972\n",
      "Epoch 3/5\n",
      "\u001b[1m1875/1875\u001b[0m \u001b[32m━━━━━━━━━━━━━━━━━━━━\u001b[0m\u001b[37m\u001b[0m \u001b[1m13s\u001b[0m 7ms/step - accuracy: 0.9773 - loss: 0.0750 - val_accuracy: 0.9701 - val_loss: 0.0928\n",
      "Epoch 4/5\n",
      "\u001b[1m1875/1875\u001b[0m \u001b[32m━━━━━━━━━━━━━━━━━━━━\u001b[0m\u001b[37m\u001b[0m \u001b[1m19s\u001b[0m 6ms/step - accuracy: 0.9816 - loss: 0.0582 - val_accuracy: 0.9724 - val_loss: 0.0887\n",
      "Epoch 5/5\n",
      "\u001b[1m1875/1875\u001b[0m \u001b[32m━━━━━━━━━━━━━━━━━━━━\u001b[0m\u001b[37m\u001b[0m \u001b[1m12s\u001b[0m 6ms/step - accuracy: 0.9857 - loss: 0.0447 - val_accuracy: 0.9758 - val_loss: 0.0809\n"
     ]
    },
    {
     "data": {
      "text/plain": [
       "<keras.src.callbacks.history.History at 0x22424bbe960>"
      ]
     },
     "execution_count": 5,
     "metadata": {},
     "output_type": "execute_result"
    }
   ],
   "source": [
    "# DNN with multiple hidden layers\n",
    "dnn_model = Sequential([\n",
    "    Flatten(input_shape=(28, 28)),       # Input Layer\n",
    "    Dense(128, activation='relu'),       # Hidden Layer 1\n",
    "    Dense(64, activation='relu'),        # Hidden Layer 2\n",
    "    Dense(32, activation='relu'),        # Hidden Layer 3\n",
    "    Dense(10, activation='softmax')      # Output Layer\n",
    "])\n",
    "\n",
    "dnn_model.compile(optimizer='adam', loss='categorical_crossentropy', metrics=['accuracy'])\n",
    "dnn_model.summary()  # Print model summary\n",
    "dnn_model.fit(x_train, y_train, epochs=5, validation_data=(x_test, y_test))\n"
   ]
  },
  {
   "cell_type": "markdown",
   "id": "08c13248",
   "metadata": {},
   "source": [
    "## 📊 **Summary**\n",
    "\n",
    "| Model | Hidden Layers | Training Time | Performance |\n",
    "| ----- | ------------- | ------------- | ----------- |\n",
    "| FNN   | 1             | Fast ⏱️       | Good 👍     |\n",
    "| DNN   | 3+            | Slower 🐢     | Better 💪   |\n",
    "\n"
   ]
  },
  {
   "cell_type": "markdown",
   "id": "e877a7d8",
   "metadata": {},
   "source": []
  },
  {
   "cell_type": "code",
   "execution_count": null,
   "id": "059322a0",
   "metadata": {},
   "outputs": [],
   "source": []
  }
 ],
 "metadata": {
  "kernelspec": {
   "display_name": "base",
   "language": "python",
   "name": "python3"
  },
  "language_info": {
   "codemirror_mode": {
    "name": "ipython",
    "version": 3
   },
   "file_extension": ".py",
   "mimetype": "text/x-python",
   "name": "python",
   "nbconvert_exporter": "python",
   "pygments_lexer": "ipython3",
   "version": "3.12.7"
  }
 },
 "nbformat": 4,
 "nbformat_minor": 5
}
