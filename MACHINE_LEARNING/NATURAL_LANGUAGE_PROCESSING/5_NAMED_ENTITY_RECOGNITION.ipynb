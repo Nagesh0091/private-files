{
 "cells": [
  {
   "cell_type": "markdown",
   "id": "1d4c10b1",
   "metadata": {},
   "source": [
    "\n",
    "# 🧠 **Named Entity Recognition (NER) 🔍**\n",
    "\n",
    "> 📘 **Definition**\n",
    "> NER is a **Natural Language Processing (NLP)** technique used to **identify and classify named entities** (like people, places, organizations, dates, etc.) in text into predefined categories.\n",
    "\n",
    "---\n",
    "\n",
    "## ⚙️ **How NER Works**\n",
    "\n",
    "NER generally works in 3 main steps:\n",
    "\n",
    "1. 🧹 **Preprocessing**\n",
    "\n",
    "   * Tokenization ✂️ (splitting text into words/tokens)\n",
    "   * POS tagging 🏷️ (Part-of-Speech tagging)\n",
    "   * Lemmatization/Normalization ✨\n",
    "\n",
    "2. 🧠 **Entity Detection**\n",
    "\n",
    "   * The algorithm detects chunks of text that could be entities (e.g., \"Barack Obama\").\n",
    "\n",
    "3. 🏷️ **Entity Classification**\n",
    "\n",
    "   * Each detected entity is classified into categories like:\n",
    "\n",
    "     * 👤 Person\n",
    "     * 🌍 Location\n",
    "     * 🏢 Organization\n",
    "     * 📅 Date\n",
    "     * 💰 Money\n",
    "     * 🧪 Miscellaneous\n",
    "\n",
    "\n",
    "\n",
    "## 🛠️ **Popular Tools & Libraries for NER**\n",
    "\n",
    "| Library                      | Language | Highlights 🌟                                |\n",
    "| ---------------------------- | -------- | -------------------------------------------- |\n",
    "| **spaCy**                    | Python   | ⚡ Fast, accurate, easy to use                |\n",
    "| **NLTK**                     | Python   | 📚 Educational, customizable                 |\n",
    "| **Stanza**                   | Python   | 🧠 Deep learning-based (from Stanford)       |\n",
    "| **Flair**                    | Python   | 🌈 Supports multilingual & contextual models |\n",
    "| **HuggingFace Transformers** | Python   | 🤖 Pretrained models like BERT for NER       |\n",
    "\n",
    "\n",
    "\n",
    "## 🔍 **NER Example in Action (Using spaCy)**\n",
    "\n",
    "```python\n",
    "import spacy\n",
    "\n",
    "nlp = spacy.load(\"en_core_web_sm\")\n",
    "text = \"Elon Musk founded SpaceX in California in 2002.\"\n",
    "\n",
    "doc = nlp(text)\n",
    "\n",
    "for ent in doc.ents:\n",
    "    print(ent.text, ent.label_)\n",
    "```\n",
    "en_core_web_trf there are different models\n",
    "📤 **Output:**\n",
    "\n",
    "```\n",
    "Elon Musk     PERSON\n",
    "SpaceX        ORG\n",
    "California    GPE\n",
    "2002          DATE\n",
    "```\n",
    "\n",
    "\n",
    "\n",
    "## 🎯 **Use Cases of NER**\n",
    "\n",
    "| Use Case                   | Description 💬                                        |\n",
    "| -------------------------- | ----------------------------------------------------- |\n",
    "| 📰 **News Categorization** | Identify people, places, and events in news articles  |\n",
    "| 💼 **Resume Screening**    | Extract skills, organizations, and roles from resumes |\n",
    "| 🛍️ **E-commerce**         | Recognize product names and brands                    |\n",
    "| 📊 **Market Analysis**     | Identify companies, industries, and trends in reports |\n",
    "| 🔍 **Search Engines**      | Improve query understanding and result relevance      |\n",
    "| ⚖️ **Legal & Compliance**  | Extract dates, case numbers, organizations, etc.      |\n",
    "\n",
    "\n",
    "\n",
    "## 🤔 **Types of NER Models**\n",
    "\n",
    "* 🏷️ **Rule-Based**: Manually written patterns and dictionaries\n",
    "* 🤖 **Machine Learning-Based**: Uses statistical models like CRF\n",
    "* 🧠 **Deep Learning-Based**: Uses BiLSTM, CNN, BERT, etc., for context-aware detection\n",
    "\n",
    "\n",
    "## 🔐 **Challenges in NER**\n",
    "\n",
    "* 🔄 Ambiguity (e.g., \"Apple\" 🍎 vs. \"Apple Inc.\")\n",
    "* 🌍 Multilingual Texts\n",
    "* 👩‍💻 Domain Adaptation (e.g., legal vs. medical entities)\n",
    "* 🆕 Emerging Entities (e.g., new tech brands, slang)\n",
    "\n",
    "\n",
    "\n",
    "## 📚 **Learning Resources**\n",
    "\n",
    "* 📘 [spaCy Official Docs](https://spacy.io/usage)\n",
    "* 🎓 [Coursera NLP Specialization](https://www.coursera.org/specializations/natural-language-processing)\n",
    "* 📙 *Natural Language Processing with Python* – O’Reilly\n",
    "\n"
   ]
  },
  {
   "cell_type": "code",
   "execution_count": null,
   "id": "28f54495",
   "metadata": {},
   "outputs": [
    {
     "data": {
      "application/vnd.microsoft.datawrangler.viewer.v0+json": {
       "columns": [
        {
         "name": "index",
         "rawType": "int64",
         "type": "integer"
        },
        {
         "name": "Headline",
         "rawType": "object",
         "type": "string"
        },
        {
         "name": "Content",
         "rawType": "object",
         "type": "string"
        },
        {
         "name": "News Categories",
         "rawType": "object",
         "type": "string"
        },
        {
         "name": "Date",
         "rawType": "object",
         "type": "string"
        }
       ],
       "ref": "9210ffd6-583e-4294-9abb-5b4df197bb5d",
       "rows": [
        [
         "0",
         "Congress leader Baljinder Singh shot dead at home in Punjab's Moga",
         "Congress leader Baljinder Singh was shot dead at his house in Punjab's Moga on Monday, a video of which has also surfaced online. According to a report by the Free Press Journal, Singh received a call from someone regarding the signing of documents. In the video, the accused can be seen shooting at Singh while he is walking towards him. ",
         "['national']",
         "19-09-2023"
        ],
        [
         "1",
         "17-year-old girl preparing for NEET dies by suicide in Rajasthan's Kota",
         "Another NEET aspirant died by suicide in Rajasthan's Kota on Monday, taking the number of student suicides this year to around 26. The girl was reportedly a native of UP's Mau and had been staying at a hostel in the city's Vigyan Nagar area. She was rushed to a hospital after she reportedly started vomiting, and passed away later.",
         "['national']",
         "19-09-2023"
        ],
        [
         "2",
         "Hampers to welcome MPs in new Parliament tomorrow, pics surface",
         "In order to mark the first-ever working day of the new Parliament building, Members of Parliament will receive a copy of the Constitution of India, books related to the Parliament, a commemorative coin and a stamp on Tuesday. A giftbag will contain these presents for the MPs. The special Parliament session will resume in the new Parliament building on Tuesday.",
         "['national']",
         "19-09-2023"
        ],
        [
         "3",
         "Only 10% women lawmakers in RS, while only 14% in LS: INC's Kharge",
         "Congress President Mallikarjun Kharge, while speaking in the Rajya Sabha, said, \"Women Reservation Bill should come. We all tried. This issue, if you (Chair) raise, then they will.\" Highlighting the number of women lawmakers in Parliament, Kharge said they constituted only 10% of the lawmakers in the Rajya Sabha, while the percentage of women lawmakers in Lok Sabha is 14%. ",
         "['national']",
         "19-09-2023"
        ],
        [
         "4",
         "Ganesh temple decorated with notes, coins worth ₹2.5 crore in Bengaluru",
         "The Sri Sathya Ganapathi Temple in Bengaluru adorned its premises and idols with Indian currency notes and coins worth ₹2.5 crore on the occasion of Ganesh Chathurthi. The decorations include ₹500, ₹200, ₹100, ₹50, ₹20 and ₹10 notes along with coins. It took a dedicated team of 150 individuals a month to execute the elaborate decoration.",
         "['national']",
         "19-09-2023"
        ],
        [
         "5",
         "Bee attack during funeral in K'taka leaves 1 dead, 14 hospitalised",
         "One person died and at least 14 others were injured after bees attacked them during the funeral of a woman in Karnataka. The swarm of forest bees attacked the people gathered for the funeral as soon as the funeral pyre was lit. The injured were shifted to a hospital while one of the injured remains critical. ",
         "['national']",
         "19-09-2023"
        ],
        [
         "6",
         "Manipur govt forms inquiry commission to probe killing of soldier",
         "A 'one man inquiry commission' has been formed by Manipur government to ascertain facts and circumstances leading to the abduction and killing of Sepoy Serto Thangthang Kom. The commission will submit a report to the government within a month, an order said. Kom was abducted from his house by unidentified men on September 16 while he was on medical leave. ",
         "['national']",
         "19-09-2023"
        ],
        [
         "7",
         "Cabinet approves Bill giving 33% reservation to women in LS, state Assemblies: Reports",
         "The Union Cabinet has approved the Constitution (One Hundred and Eighth Amendment) Bill, 2008 that grants 33% reservation to women in Lok Sabha and state Assemblies, reports said on Monday. This came after Opposition leaders including Congress MP Mallikarjun Kharge and JD(U) MP Ram Nath Thakur demanded that the government bring the Bill in the ongoing special Parliament session.",
         "['national']",
         "19-09-2023"
        ],
        [
         "8",
         "Won't accept his remains: Wife of Army soldier abducted & shot dead in Manipur",
         "The wife of Indian Army soldier Sepoy Serto Thangthang Kom, who was abducted from his home and shot dead in Manipur, has said she would not accept his mortal remains until the reason behind his killing was established. Serto was home on 15 days' leave and was scheduled to report back to duty at the Leimakhong Military Garrison on Monday.",
         "['national']",
         "19-09-2023"
        ],
        [
         "9",
         "Heavy to very heavy rainfall warning issued for several states for Tuesday, list released",
         "The India Meteorological Department (IMD) has issued heavy to very heavy rainfall warning for several states for Tuesday. Heavy to very heavy rainfall is very likely over Gujarat. Meanwhile, heavy rainfall is very likely over Rajasthan, Odisha, Assam, Meghalaya, Nagaland, Manipur, Mizoram and Tripura.",
         "['national']",
         "19-09-2023"
        ],
        [
         "10",
         "We need to get over the 'West is the bad guy' syndrome: S Jaishankar",
         "In an apparent dig at China, External Affairs Minister S Jaishankar said it's not the West that's \"flooding Asia and Africa with goods on a massive scale\". Stating that he 'wasn't batting for the West', Jaishankar added, \"We need to get over the syndrome of the past that...West is the bad guy and on the other side are...developing countries.\"",
         "['national']",
         "19-09-2023"
        ],
        [
         "11",
         "₹360-cr insurance cover bought by mandal that installed 'India's richest Ganpati'",
         "The GSB Seva Mandal, which installed a 'Mahaganpati' ahead of Ganesh Chaturthi in Maharashtra's Mumbai, has taken a ₹360.40-crore insurance cover this year. The idol is believed to be 'India's richest Ganpati' and is adorned with over 66 kg gold and over 300 kg silver. The idol has been installed in the King's Circle area in the city.",
         "['national']",
         "19-09-2023"
        ],
        [
         "12",
         "14-year-old girl dies, several others hospitalised after eating shawarma in TN",
         "A 14-year-old schoolgirl died after eating chicken shawarma bought from a hotel in Tamil Nadu. Thirteen medical college students were also reportedly hospitalised on the same night after eating shawarma from the same hotel. Namakkal Collector S Uma ordered the destruction of all food items and issued a notice to the hotel, which was then sealed.",
         "['national']",
         "19-09-2023"
        ],
        [
         "13",
         "K'taka's Hoysala temples added to UNESCO's World Heritage site list",
         "Sacred Ensembles of the Hoysalas, the group of Hoysala temples in Karnataka, have made it to the list of UNESCO's World Heritage List. Hoysala architecture was a building style of the Hoysala empire in the 12th and 13th centuries. Temples built during this era include the Channakeshava Temple at Belur and the Hoysaleshwara Temple at Halebidu. ",
         "['national']",
         "19-09-2023"
        ],
        [
         "14",
         "Zareen Khan's lawyer issues statement on arrest warrant, says 'she was victim of fraud'",
         "After a Kolkata court issued an arrest warrant against actress Zareen Khan in connection to a 2018 cheating case, her lawyer issued a press statement, saying, \"She has been a victim of fraud.\" The note added that the event organisers (who complained against Zareen) deceived the actress and pressured her to attend the event in Kolkata \"totally unescorted\".",
         "['entertainment', 'national']",
         "19-09-2023"
        ],
        [
         "15",
         "What is Women's Reservation Bill, demanded by parties at Parliament today?",
         "At an all-party meeting convened by the government at the Parliament special session on Monday, several political parties demanded a discussion and passing of the Women's Reservation Bill. The bill seeks to reserve 33% of seats in the Lok Sabha and state legislative assemblies for women. One-third of total seats reserved for SCs and STs will be reserved for women.",
         "['politics', 'national']",
         "19-09-2023"
        ],
        [
         "16",
         "Wilfully denying sex to spouse amounts to cruelty: Delhi High Court",
         "The Delhi High Court has upheld the divorce granted to a couple whose marriage failed due to non-consummation after 35 days. It noted that \"wilful denial of sexual relationship by a spouse amounts to cruelty, especially when the parties are newly married\". It added, \"There is nothing (more) fatal to marriage than disappointment in sexual relationship.\"",
         "['national']",
         "19-09-2023"
        ],
        [
         "17",
         "No Chinese ambassador in India for nearly a year, longest gap since 1976",
         "By October, the Chinese embassy in India will have been without an envoy for a year. It's the longest such gap in ambassadorial postings since 1976, Hindustan Times reported. The Chinese side is yet to request a formal agreement for posting a new ambassador in the embassy. The last Chinese ambassador, Sun Weidong, completed his term on October 26, 2022.",
         "['world', 'national']",
         "19-09-2023"
        ],
        [
         "18",
         "Section 144 imposed in Noida, Gr Noida due to MotoGP, trade show from Sept 16-25",
         "Section 144 has been imposed in Noida and Greater Noida from September 16-25 in view of MotoGP, UP International Trade Show and Ganesh Chaturthi celebrations. The UP International Trade Show is slated to take place from September 21-25 and the MotoGP Bharat at Buddh International Circuit, Greater Noida from September 22-24. Schools in Noida will remain closed on September 22. ",
         "['national']",
         "19-09-2023"
        ],
        [
         "19",
         "What do the statues guarding 6 gates of new Parliament building symbolise?",
         "The six gates of new Parliament building are named after real and mythological creatures. The ceremonial entrances have guardian statues of Gaja symbolising wisdom and intellect, Ashva representing courage and Garuda symbolising progress. At the public gates, statues Makara symbolises unity and diversity, Shardula represents balance of strength and beauty and Hamsa symbolises self-realisation.",
         "['national']",
         "19-09-2023"
        ],
        [
         "20",
         "Raj teacher assaulted, face blackened for molesting girl student",
         "A government school teacher accused of molesting a 16-year-old girl student was assaulted and his face blackened by the minor's family members in Rajasthan, police said. Karanpur Circle Officer Sudha Palawat said the girl's family members, after learning about the alleged incident, reached the school and assaulted the teacher, a video of which surfaced online. ",
         "['national']",
         "19-09-2023"
        ],
        [
         "21",
         "What will happen to the old Parliament building?",
         "The old Parliament building, which will no longer see Lok Sabha and Rajya Sabha sessions, will not be demolished due to its historic and archeological significance, reports said. Union Minister Hardeep Singh Puri had announced in 2021 that the old building would have to be repaired and made available for alternative use. It'll reportedly provide space for parliamentary events.",
         "['national']",
         "19-09-2023"
        ],
        [
         "22",
         "What is this: Supreme Court as it rejects 'one constitutional religion' plea",
         "The Supreme Court on Monday dismissed a plea seeking a single \"constitutional religion\" in the country. The bench asked the petitioner, \"You say there should be one constitutional religion. Can you prevent people from following their own religions? What is this?\" The bench asked the petitioner from where he got the thought of filing such a petition.",
         "['national']",
         "19-09-2023"
        ],
        [
         "23",
         "Video shows newly inaugurated Dwarka Sector 25 metro station",
         "PM Narendra Modi on Sunday inaugurated the extension of Delhi Metro's Airport Line which now terminates at YashoBhoomi Dwarka Sector 25 station. With the addition of this section, the total length of the Airport Express Line from New Delhi to Yashobhoomi Dwarka Sector 25 is now 24.9 km. The metro operation on this section started at 3 pm on Sunday.\n",
         "['national']",
         "19-09-2023"
        ],
        [
         "24",
         "Sentiments hurt: Maratha group on Shivaji Maharaj's seal on Ganesha idol's feet",
         "Sakal Maratha Samaj objected to the placement of Chhatrapati Shivaji Maharaj's royal seal on Mumbai's Lalbaugcha Raja's idol feet. The group that is behind the ongoing Maratha reservation agitation wrote to Mumbai Police asking the officials to file a case against the organisers. Sentiments of the Maratha community were hurt by the move, the Maratha group said.",
         "['national']",
         "19-09-2023"
        ],
        [
         "25",
         "He was abducted at gunpoint, our 10-yr-old son saw it: Wife of soldier killed in Manipur",
         "The wife of an Indian Army soldier, who was abducted and murdered by unidentified men in Manipur, said, \"My husband was abducted at gunpoint. Our [10-year-old] son witnessed the abduction.\" \"When he saw the gun pointed at my husband, he hurriedly informed me,\" Somiwon Kom added. She said the accused had escaped by the time she arrived on the scene.",
         "['national']",
         "19-09-2023"
        ],
        [
         "26",
         "Woman & her sons thrash policeman after he tells them to 'drive carefully' in Delhi",
         "A woman and her two sons allegedly attacked a policeman with bricks and iron rod as he told them to drive carefully after their car hit the front side of his car in Delhi. The accused men allegedly blocked the policeman's car, shouted at him and threw bricks at his windshield. He said he lost consciousness after being beaten.",
         "['national']",
         "19-09-2023"
        ],
        [
         "27",
         "Car hits cow, drags it for 200 metres in Ghaziabad; video surfaces",
         "A cow was reportedly dragged for around 200 metres under a car after being hit by it in Uttar Pradesh's Ghaziabad. A video of the incident shows the car running over the cow sitting in front of the vehicle. A Hindu activist has filed a complaint over the matter, claiming that the cow is in serious condition, according to reports.",
         "['national']",
         "19-09-2023"
        ],
        [
         "28",
         "Who is engineer Chandrani Murmu, the youngest-ever MP mentioned in PM's speech?",
         "PM Narendra Modi mentioned Biju Janata Dal's Chandrani Murmu in his address during the Special Session of Parliament in Lok Sabha today. She became the youngest Lok Sabha MP in history at age 25 after winning from Odisha's Keonjhar constituency in 2019. Murmu holds BTech in mechanical engineering. PM Modi mentioned Murmu while talking about the strength of India's democracy.",
         "['national']",
         "19-09-2023"
        ],
        [
         "29",
         "IIT Kanpur Director Abhay Karandikar appointed as Centre's Science & Tech Secretary",
         "IIT Kanpur's Director Abhay Karandikar has been appointed Secretary of the Department of Science and Technology (DST), the Centre said on Sunday. The 58-year-old has been one of the brains behind the introduction of 5G technology in India. The electrical engineer's team worked on creating \"frugal 5G\" for connecting rural India with the 5G network.",
         "['national', 'technology']",
         "19-09-2023"
        ],
        [
         "30",
         "How is the new Parliament building different from the old one?",
         "The new Parliament building is designed to comfortably accommodate 888 Members of Parliament in the Lok Sabha, compared to 543 seats in the old Lok Sabha. The new building won't feature a central hall like the older one. Each seat of the Members of Parliament will now be equipped with a multimedia display in the new building.",
         "['national']",
         "19-09-2023"
        ],
        [
         "31",
         "Time stops for you: Mahindra as he praises PM Modi's pace of work",
         "Mahindra Group Chairman Anand Mahindra took to X to wish Prime Minister Narendra Modi on his birthday on Sunday. The billionaire posted, \"The relentless pace of your work is such that time stops for you. So, I'm not sure whether birthdays, which symbolise the passing of time, mean anything to you.\" \"Nevertheless...I wish you a very happy birthday,\" he added. ",
         "['business', 'national']",
         "19-09-2023"
        ],
        [
         "32",
         "Never thought kid living on platform would reach Parliament: PM",
         "While addressing the Lok Sabha during the special session of the Parliament, PM Narendra Modi recalled the first time he entered the Parliament premises. \"It was because of the strength of democracy in India and the commitment and admiration of the citizens that the son of a poor family who lived on the railway platform reached Parliament,\" he said. ",
         "['national']",
         "19-09-2023"
        ],
        [
         "33",
         "New French Envoy arrives in India, says 'Proud to be in India'",
         "France's newly appointed Ambassador to India, Thierry Mathou, arrived in New Delhi on Monday to assume his new role and said he's \"happy and proud\" to be in India. He said, \"I'm taking office at an exceptional time.\" \"I look forward to working with Indian authorities and civil society to translate the vision of our leaders into action,\" he added.",
         "['world', 'national']",
         "19-09-2023"
        ],
        [
         "34",
         "BJP MP Satish Dubey injured after car rams into vehicle in Bihar",
         "BJP MP Satish Chandra Dubey and at least four others were injured after the car they were travelling in rammed into a vehicle ahead of it in Bihar's Patna. Dubey is undergoing treatment, however,  his condition is said to be out of danger, according to the police. The driver, who is grievously injured, and a bodyguard are also undergoing treatment.",
         "['politics', 'national']",
         "19-09-2023"
        ],
        [
         "35",
         "SC refuses to entertain J'khand CM's plea against ED summons",
         "The SC on Monday refused to entertain Jharkhand CM Hemant Soren's plea against ED summons in a case of alleged money laundering and asked him to approach the HC in the matter. In a petition filed in the SC, Soren alleged the case was a clear \"abuse of law\" by Centre and an attempt to destabilise his democratically elected government.",
         "['national']",
         "19-09-2023"
        ],
        [
         "36",
         "Video shows YouTuber Vasan crashing on highway while performing bike stunt, case filed",
         "YouTuber TTF Vasan was injured after crashing on a highway in Tamil Nadu while attempting a bike stunt, with the accident caught on a CCTV camera. The accident took place on the Chennai-Coimbatore route and police have reportedly filed a case for rash driving against Vasan. He was hospitalised after he lost control of his bike while attempting a wheelie.",
         "['national']",
         "19-09-2023"
        ],
        [
         "37",
         "Punjab ex-minister & his family drugged by domestic help, house ransacked & robbed",
         "Former Akali Dal minister Jagdish Singh Garcha, his two family members and a domestic help were found unconscious and their house was found ransacked in Punjab on Monday. Police suspect a male domestic help, who is missing, sedated the family after serving food laced with intoxicants and escaped with cash, ornaments and valuables. The four victims were rushed to hospital.",
         "['national']",
         "19-09-2023"
        ],
        [
         "38",
         "Rate card for hiring police officer, police dog, entire station in Kerala released",
         "A rate card displaying costs of hiring a civil police officer, police dog and police station in Kerala has been released, Times of India reported citing a government order. Hiring a circle inspector rank officer will cost ₹3,035-3,340 per day, whereas a police dog can be hired for ₹7,280 a day. Hiring the entire police station costs ₹12,000 a day.",
         "['national']",
         "19-09-2023"
        ],
        [
         "39",
         "Who is Bimal Patel, the architect behind the new Parliament building?",
         "Architect Bimal Hasmukh Patel played a crucial role in designing the new Parliament building as part of the Central Vista project. He also contributed in designing the Kashi Vishwanath Dham in Varanasi, Sabarmati Riverfront Development in Ahmedabad, revamp of Jagannath Temple in Puri, etc. Patel, who won the Padma Shri in 2019, is currently the President of Ahmedabad's CEPT University.",
         "['national']",
         "19-09-2023"
        ],
        [
         "40",
         "5 trapped as river water enters fields in Guj; video shows rescue",
         "At least five people were rescued after they got trapped when the water from a river entered the fields in Gujarat's Anand district, according to officials. A video of the people being rescued in a boat has surfaced online. This comes as over 9,600 people were shifted to safety across the state amid flooding following heavy rainfall.",
         "['national']",
         "19-09-2023"
        ],
        [
         "41",
         "Astrologer must have told PM to hold special session: RJD MP",
         "RJD MP Manoj Jha said that PM Narendra Modi must have called the special session of Parliament on the recommendation of some astrologer. \"The PM believes in all that…Don't say that you have no agenda. The agenda is very clear. We would like to see what the other agendas are. But there is nothing special about it,\" he told ANI.",
         "['national']",
         "19-09-2023"
        ],
        [
         "42",
         "Bill to appoint CEC, ECs dropped from Parliament agenda",
         "The bill to form a panel for the appointment of Chief Election Commissioner (CEC) and other Election Commissioners (ECs) has been dropped from the list of legislative business of special Parliament session. Earlier, the Opposition had resisted the bill. In the bill, Centre had proposed to replace the Chief Justice of India from the appointment panel with a cabinet minister. ",
         "['national']",
         "19-09-2023"
        ],
        [
         "43",
         "MPs laugh as PM praises reporters, says 'even shared inside scoops'",
         "A video showing MPs laughing after PM Narendra Modi said that journalists shared news about what happened inside the Parliament and even \"inside scoops\" has surfaced online. PM Modi made the remark while he was praising journalists who \"spent their lives\" reporting about the Parliament. \"People might not know their names, but no one can forget their work,\" he added.",
         "['national']",
         "19-09-2023"
        ],
        [
         "44",
         "Women MPs share memories from old Parliament in handwritten notes",
         "As the Parliament proceedings will move into new building on Tuesday, a few women MPs penned down their experiences and memories of the old Parliament. \"Proud to be a part of the old Parliament's journey,\" Shiv Sena (UBT) MP Priyanka Chaturvedi said. Meanwhile, TMC MP Mahua Moitra said the old Parliament building will have a \"special place in my heart\".",
         "['politics', 'national']",
         "19-09-2023"
        ],
        [
         "45",
         "Old Parliament building will always have India's soul in it: PM Modi",
         "At the special session of Parliament in the old Parliament building, Prime Minister Narendra Modi said that leaving the place would be an emotional moment for everyone. \"This place, even after years, will sustain the soul of India and democracy,\" he said. \"Many bitter-sweet memories have been associated with it,\" he further said.",
         "['national']",
         "19-09-2023"
        ],
        [
         "46",
         "Many suspect India, said G20 Declaration won't occur but it did: PM",
         "PM Narendra Modi during his address in the old Parliament building's Lok Sabha said that many people have a tendency to be suspicious of India and this has been going on since Independence. Adding that during the G20 Summit, people were \"confident\" that a declaration won't happen, he further said that however, it is India's \"strength\" that this also happened.",
         "['politics', 'national']",
         "19-09-2023"
        ],
        [
         "47",
         "Pandit Nehru gave 'stroke of midnight' speech here: PM on leaving old Parliament building",
         "Speaking about the old Parliament building, PM Narendra Modi recalled how it was here that Jawaharlal Nehru, the first Prime Minister of the country, gave his 'stroke of midnight' speech which laid the foundation for India as an independent country. \"The echoes of Pandit Nehru's 'At the stroke of the midnight...' in this House will keep inspiring us,\" he stated.",
         "['national']",
         "19-09-2023"
        ],
        [
         "48",
         "Couple yells, argues with IndiGo staff after arriving late at Mumbai airport",
         "A video of a couple arguing with an IndiGo staff after allegedly arriving late for boarding at Mumbai airport has gone viral online. In the video, a man accompanied by a woman and a child is seen shouting at the airline's staff. Meanwhile, the ground staff member is seen trying to reason with the passengers and speaking on the phone.",
         "['national']",
         "19-09-2023"
        ],
        [
         "49",
         "Special session may be small in duration but big on occasion: PM",
         "During his address ahead of the Special Parliament Session, PM Narendra Modi praised the Chandrayaan-3 mission and mentioned the success of the G20 Summit in Delhi along with the inauguration of the 'YashoBhoomi' centre. Adding that there's an \"atmosphere of festivity\" in the country, he further said, \"This Parliament session may be small in duration but is big on occasion.\"",
         "['politics', 'national']",
         "19-09-2023"
        ]
       ],
       "shape": {
        "columns": 4,
        "rows": 307696
       }
      },
      "text/html": [
       "<div>\n",
       "<style scoped>\n",
       "    .dataframe tbody tr th:only-of-type {\n",
       "        vertical-align: middle;\n",
       "    }\n",
       "\n",
       "    .dataframe tbody tr th {\n",
       "        vertical-align: top;\n",
       "    }\n",
       "\n",
       "    .dataframe thead th {\n",
       "        text-align: right;\n",
       "    }\n",
       "</style>\n",
       "<table border=\"1\" class=\"dataframe\">\n",
       "  <thead>\n",
       "    <tr style=\"text-align: right;\">\n",
       "      <th></th>\n",
       "      <th>Headline</th>\n",
       "      <th>Content</th>\n",
       "      <th>News Categories</th>\n",
       "      <th>Date</th>\n",
       "    </tr>\n",
       "  </thead>\n",
       "  <tbody>\n",
       "    <tr>\n",
       "      <th>0</th>\n",
       "      <td>Congress leader Baljinder Singh shot dead at h...</td>\n",
       "      <td>Congress leader Baljinder Singh was shot dead ...</td>\n",
       "      <td>['national']</td>\n",
       "      <td>19-09-2023</td>\n",
       "    </tr>\n",
       "    <tr>\n",
       "      <th>1</th>\n",
       "      <td>17-year-old girl preparing for NEET dies by su...</td>\n",
       "      <td>Another NEET aspirant died by suicide in Rajas...</td>\n",
       "      <td>['national']</td>\n",
       "      <td>19-09-2023</td>\n",
       "    </tr>\n",
       "    <tr>\n",
       "      <th>2</th>\n",
       "      <td>Hampers to welcome MPs in new Parliament tomor...</td>\n",
       "      <td>In order to mark the first-ever working day of...</td>\n",
       "      <td>['national']</td>\n",
       "      <td>19-09-2023</td>\n",
       "    </tr>\n",
       "    <tr>\n",
       "      <th>3</th>\n",
       "      <td>Only 10% women lawmakers in RS, while only 14%...</td>\n",
       "      <td>Congress President Mallikarjun Kharge, while s...</td>\n",
       "      <td>['national']</td>\n",
       "      <td>19-09-2023</td>\n",
       "    </tr>\n",
       "    <tr>\n",
       "      <th>4</th>\n",
       "      <td>Ganesh temple decorated with notes, coins wort...</td>\n",
       "      <td>The Sri Sathya Ganapathi Temple in Bengaluru a...</td>\n",
       "      <td>['national']</td>\n",
       "      <td>19-09-2023</td>\n",
       "    </tr>\n",
       "    <tr>\n",
       "      <th>...</th>\n",
       "      <td>...</td>\n",
       "      <td>...</td>\n",
       "      <td>...</td>\n",
       "      <td>...</td>\n",
       "    </tr>\n",
       "    <tr>\n",
       "      <th>307691</th>\n",
       "      <td>Tamil Nadu to open 10,000 'CM's pharmacy store...</td>\n",
       "      <td>Tamil Nadu CM MK Stalin has announced that 'Ch...</td>\n",
       "      <td>['national', 'Health___Fitness']</td>\n",
       "      <td>2024-08-26</td>\n",
       "    </tr>\n",
       "    <tr>\n",
       "      <th>307692</th>\n",
       "      <td>NMC study finds mental health issues prevalent...</td>\n",
       "      <td>One in four MBBS students has a mental disorde...</td>\n",
       "      <td>['education', 'Health___Fitness', 'national']</td>\n",
       "      <td>2024-08-26</td>\n",
       "    </tr>\n",
       "    <tr>\n",
       "      <th>307693</th>\n",
       "      <td>Telangana CM says World Bank will help retire ...</td>\n",
       "      <td>Telangana CM Revanth Reddy said the World Bank...</td>\n",
       "      <td>['politics', 'Health___Fitness', 'national']</td>\n",
       "      <td>2024-08-26</td>\n",
       "    </tr>\n",
       "    <tr>\n",
       "      <th>307694</th>\n",
       "      <td>Dr Gagandeep Kang explores role of AI in vacci...</td>\n",
       "      <td>Dr Gagandeep Kang, a microbiologist and virolo...</td>\n",
       "      <td>['Health___Fitness', 'national']</td>\n",
       "      <td>2024-08-26</td>\n",
       "    </tr>\n",
       "    <tr>\n",
       "      <th>307695</th>\n",
       "      <td>Rise in dengue, malaria, gastro, H1N1 patients...</td>\n",
       "      <td>Mumbai has recorded more monsoon-related disea...</td>\n",
       "      <td>['national', 'Health___Fitness']</td>\n",
       "      <td>2024-08-26</td>\n",
       "    </tr>\n",
       "  </tbody>\n",
       "</table>\n",
       "<p>307696 rows × 4 columns</p>\n",
       "</div>"
      ],
      "text/plain": [
       "                                                 Headline  \\\n",
       "0       Congress leader Baljinder Singh shot dead at h...   \n",
       "1       17-year-old girl preparing for NEET dies by su...   \n",
       "2       Hampers to welcome MPs in new Parliament tomor...   \n",
       "3       Only 10% women lawmakers in RS, while only 14%...   \n",
       "4       Ganesh temple decorated with notes, coins wort...   \n",
       "...                                                   ...   \n",
       "307691  Tamil Nadu to open 10,000 'CM's pharmacy store...   \n",
       "307692  NMC study finds mental health issues prevalent...   \n",
       "307693  Telangana CM says World Bank will help retire ...   \n",
       "307694  Dr Gagandeep Kang explores role of AI in vacci...   \n",
       "307695  Rise in dengue, malaria, gastro, H1N1 patients...   \n",
       "\n",
       "                                                  Content  \\\n",
       "0       Congress leader Baljinder Singh was shot dead ...   \n",
       "1       Another NEET aspirant died by suicide in Rajas...   \n",
       "2       In order to mark the first-ever working day of...   \n",
       "3       Congress President Mallikarjun Kharge, while s...   \n",
       "4       The Sri Sathya Ganapathi Temple in Bengaluru a...   \n",
       "...                                                   ...   \n",
       "307691  Tamil Nadu CM MK Stalin has announced that 'Ch...   \n",
       "307692  One in four MBBS students has a mental disorde...   \n",
       "307693  Telangana CM Revanth Reddy said the World Bank...   \n",
       "307694  Dr Gagandeep Kang, a microbiologist and virolo...   \n",
       "307695  Mumbai has recorded more monsoon-related disea...   \n",
       "\n",
       "                                      News Categories        Date  \n",
       "0                                        ['national']  19-09-2023  \n",
       "1                                        ['national']  19-09-2023  \n",
       "2                                        ['national']  19-09-2023  \n",
       "3                                        ['national']  19-09-2023  \n",
       "4                                        ['national']  19-09-2023  \n",
       "...                                               ...         ...  \n",
       "307691               ['national', 'Health___Fitness']  2024-08-26  \n",
       "307692  ['education', 'Health___Fitness', 'national']  2024-08-26  \n",
       "307693   ['politics', 'Health___Fitness', 'national']  2024-08-26  \n",
       "307694               ['Health___Fitness', 'national']  2024-08-26  \n",
       "307695               ['national', 'Health___Fitness']  2024-08-26  \n",
       "\n",
       "[307696 rows x 4 columns]"
      ]
     },
     "execution_count": 3,
     "metadata": {},
     "output_type": "execute_result"
    }
   ],
   "source": [
    "# LOADING DATASET:\n",
    "# use enveNER virtual environment\n",
    "import pandas as pd\n",
    "DATA = pd.read_csv(r\"C:\\Users\\Nagesh Agrawal\\OneDrive\\Desktop\\6_MACHINE LEARNING\\3__NATURAL LANGUAGE PROCESSING\\NLP_DATASETS\\NAMED ENTITY RECOGNITION DATA.csv\")\n",
    "DATA"
   ]
  },
  {
   "cell_type": "code",
   "execution_count": 4,
   "id": "03d2276a",
   "metadata": {},
   "outputs": [
    {
     "name": "stdout",
     "output_type": "stream",
     "text": [
      "<class 'pandas.core.frame.DataFrame'>\n",
      "RangeIndex: 307696 entries, 0 to 307695\n",
      "Data columns (total 4 columns):\n",
      " #   Column           Non-Null Count   Dtype \n",
      "---  ------           --------------   ----- \n",
      " 0   Headline         307696 non-null  object\n",
      " 1   Content          307696 non-null  object\n",
      " 2   News Categories  307696 non-null  object\n",
      " 3   Date             307696 non-null  object\n",
      "dtypes: object(4)\n",
      "memory usage: 9.4+ MB\n"
     ]
    }
   ],
   "source": [
    "DATA.info()"
   ]
  },
  {
   "cell_type": "code",
   "execution_count": 5,
   "id": "c4640c6d",
   "metadata": {},
   "outputs": [
    {
     "data": {
      "text/plain": [
       "array(['19-09-2023', '20-09-2023', '21-09-2023', '22-09-2023',\n",
       "       '23-09-2023', '24-09-2023', '25-09-2023', '26-09-2023',\n",
       "       '27-09-2023', '28-09-2023', '29-09-2023', '30-09-2023',\n",
       "       '01-10-2023', '02-10-2023', '03-10-2023', '04-10-2023',\n",
       "       '05-10-2023', '06-10-2023', '07-10-2023', '08-10-2023',\n",
       "       '09-10-2023', '10-10-2023', '11-10-2023', '12-10-2023',\n",
       "       '2023-10-13', '2023-10-14', '2023-10-15', '2023-10-16',\n",
       "       '2023-10-17', '2023-10-18', '2023-10-19', '2023-10-20',\n",
       "       '2023-10-22', '2023-10-23', '2023-10-24', '2023-10-25',\n",
       "       '2023-10-28', '2023-10-30', '2023-10-31', '2023-11-01',\n",
       "       '2023-11-03', '2023-11-04', '2023-11-05', '2023-11-06',\n",
       "       '2023-11-07', '2023-11-08', '2023-11-09', '2023-11-10',\n",
       "       '2023-11-11', '2023-11-12', '2023-11-14', '2023-11-16',\n",
       "       '2023-11-18', '2023-11-25', '2023-11-26', '2023-12-02',\n",
       "       '2023-12-03', '2023-12-05', '2023-12-06', '2023-12-07',\n",
       "       '2023-12-08', '2023-12-09', '2023-12-10', '2023-12-11',\n",
       "       '2023-12-12', '2023-12-13', '2023-12-15', '2023-12-16',\n",
       "       '2023-12-17', '2023-12-20', '2023-12-21', '2023-12-22',\n",
       "       '2023-12-23', '2023-12-25', '2023-12-26', '2023-12-27',\n",
       "       '2023-12-28', '2023-12-29', '2023-12-30', '2023-12-31',\n",
       "       '2024-01-01', '2024-01-03', '2024-01-04', '2024-01-06',\n",
       "       '2024-01-07', '2024-01-08', '2024-01-09', '2024-01-10',\n",
       "       '2024-01-16', '2024-01-17', '2024-01-18', '2024-01-20',\n",
       "       '2024-02-06', '2024-02-08', '2024-03-06', '2024-03-08',\n",
       "       '2024-03-12', '2024-03-28', '2024-04-02', '2024-04-03',\n",
       "       '2024-04-04', '2024-04-06', '2024-04-08', '2024-04-11',\n",
       "       '2024-04-13', '2024-04-15', '2024-04-16', '2024-04-22',\n",
       "       '2024-04-23', '2024-04-24', '2024-04-26', '2024-04-28',\n",
       "       '2024-04-30', '2024-05-04', '2024-05-08', '2024-05-09',\n",
       "       '2024-05-12', '2024-05-16', '2024-05-20', '2024-05-22',\n",
       "       '2024-05-23', '2024-05-27', '2024-05-28', '2024-05-29',\n",
       "       '2024-05-30', '2024-06-01', '2024-06-03', '2024-06-05',\n",
       "       '2024-06-21', '2024-06-24', '2024-06-25', '2024-07-01',\n",
       "       '2024-07-02', '2024-07-03', '2024-07-07', '2024-07-22',\n",
       "       '2024-07-26', '2024-07-29', '2024-07-30', '2024-07-31',\n",
       "       '2024-08-09', '2024-08-23', '2024-08-26'], dtype=object)"
      ]
     },
     "execution_count": 5,
     "metadata": {},
     "output_type": "execute_result"
    }
   ],
   "source": [
    "DATA[\"Date\"].unique()"
   ]
  },
  {
   "cell_type": "code",
   "execution_count": 6,
   "id": "0e3fa37b",
   "metadata": {},
   "outputs": [],
   "source": [
    "def FIX_DATE(date_str):\n",
    "    from datetime import datetime\n",
    "    try:\n",
    "        # If format is 'yyyy-mm-dd', convert to 'dd-mm-yyyy'\n",
    "        d1 = datetime.strptime(date_str, '%Y-%m-%d')\n",
    "        return d1.strftime('%d-%m-%Y')\n",
    "    except:\n",
    "        try:\n",
    "            # If already 'dd-mm-yyyy', keep it\n",
    "            datetime.strptime(date_str, '%d-%m-%Y')\n",
    "            return date_str\n",
    "        except:\n",
    "            return 'Invalid'"
   ]
  },
  {
   "cell_type": "code",
   "execution_count": 7,
   "id": "00a99658",
   "metadata": {},
   "outputs": [],
   "source": [
    "DATA[\"Date\"] = DATA[\"Date\"].apply(FIX_DATE)"
   ]
  },
  {
   "cell_type": "code",
   "execution_count": 8,
   "id": "bafc7494",
   "metadata": {},
   "outputs": [
    {
     "data": {
      "text/plain": [
       "<bound method Series.unique of 0         19-09-2023\n",
       "1         19-09-2023\n",
       "2         19-09-2023\n",
       "3         19-09-2023\n",
       "4         19-09-2023\n",
       "             ...    \n",
       "307691    26-08-2024\n",
       "307692    26-08-2024\n",
       "307693    26-08-2024\n",
       "307694    26-08-2024\n",
       "307695    26-08-2024\n",
       "Name: Date, Length: 307696, dtype: object>"
      ]
     },
     "execution_count": 8,
     "metadata": {},
     "output_type": "execute_result"
    }
   ],
   "source": [
    "DATA[\"Date\"].unique"
   ]
  },
  {
   "cell_type": "code",
   "execution_count": 9,
   "id": "69afc3fc",
   "metadata": {},
   "outputs": [],
   "source": [
    "DATA[\"Date\"] = pd.to_datetime(DATA[\"Date\"], format=\"%d-%m-%Y\")"
   ]
  },
  {
   "cell_type": "code",
   "execution_count": 10,
   "id": "71ebdc55",
   "metadata": {},
   "outputs": [
    {
     "name": "stdout",
     "output_type": "stream",
     "text": [
      "<class 'pandas.core.frame.DataFrame'>\n",
      "RangeIndex: 307696 entries, 0 to 307695\n",
      "Data columns (total 4 columns):\n",
      " #   Column           Non-Null Count   Dtype         \n",
      "---  ------           --------------   -----         \n",
      " 0   Headline         307696 non-null  object        \n",
      " 1   Content          307696 non-null  object        \n",
      " 2   News Categories  307696 non-null  object        \n",
      " 3   Date             307696 non-null  datetime64[ns]\n",
      "dtypes: datetime64[ns](1), object(3)\n",
      "memory usage: 9.4+ MB\n"
     ]
    }
   ],
   "source": [
    "DATA.info()"
   ]
  },
  {
   "cell_type": "code",
   "execution_count": 11,
   "id": "154caf72",
   "metadata": {},
   "outputs": [
    {
     "data": {
      "text/plain": [
       "np.int64(52047)"
      ]
     },
     "execution_count": 11,
     "metadata": {},
     "output_type": "execute_result"
    }
   ],
   "source": [
    "DATA.duplicated().sum()"
   ]
  },
  {
   "cell_type": "code",
   "execution_count": 12,
   "id": "59ecefa5",
   "metadata": {},
   "outputs": [
    {
     "data": {
      "application/vnd.microsoft.datawrangler.viewer.v0+json": {
       "columns": [
        {
         "name": "index",
         "rawType": "int64",
         "type": "integer"
        },
        {
         "name": "Headline",
         "rawType": "object",
         "type": "string"
        },
        {
         "name": "Content",
         "rawType": "object",
         "type": "string"
        },
        {
         "name": "News Categories",
         "rawType": "object",
         "type": "string"
        },
        {
         "name": "Date",
         "rawType": "datetime64[ns]",
         "type": "datetime"
        }
       ],
       "ref": "1830303e-8337-4825-9806-cd6b07982a17",
       "rows": [
        [
         "0",
         "Congress leader Baljinder Singh shot dead at home in Punjab's Moga",
         "Congress leader Baljinder Singh was shot dead at his house in Punjab's Moga on Monday, a video of which has also surfaced online. According to a report by the Free Press Journal, Singh received a call from someone regarding the signing of documents. In the video, the accused can be seen shooting at Singh while he is walking towards him. ",
         "['national']",
         "2023-09-19 00:00:00"
        ],
        [
         "1",
         "17-year-old girl preparing for NEET dies by suicide in Rajasthan's Kota",
         "Another NEET aspirant died by suicide in Rajasthan's Kota on Monday, taking the number of student suicides this year to around 26. The girl was reportedly a native of UP's Mau and had been staying at a hostel in the city's Vigyan Nagar area. She was rushed to a hospital after she reportedly started vomiting, and passed away later.",
         "['national']",
         "2023-09-19 00:00:00"
        ],
        [
         "3",
         "Only 10% women lawmakers in RS, while only 14% in LS: INC's Kharge",
         "Congress President Mallikarjun Kharge, while speaking in the Rajya Sabha, said, \"Women Reservation Bill should come. We all tried. This issue, if you (Chair) raise, then they will.\" Highlighting the number of women lawmakers in Parliament, Kharge said they constituted only 10% of the lawmakers in the Rajya Sabha, while the percentage of women lawmakers in Lok Sabha is 14%. ",
         "['national']",
         "2023-09-19 00:00:00"
        ],
        [
         "4",
         "Ganesh temple decorated with notes, coins worth ₹2.5 crore in Bengaluru",
         "The Sri Sathya Ganapathi Temple in Bengaluru adorned its premises and idols with Indian currency notes and coins worth ₹2.5 crore on the occasion of Ganesh Chathurthi. The decorations include ₹500, ₹200, ₹100, ₹50, ₹20 and ₹10 notes along with coins. It took a dedicated team of 150 individuals a month to execute the elaborate decoration.",
         "['national']",
         "2023-09-19 00:00:00"
        ],
        [
         "5",
         "Bee attack during funeral in K'taka leaves 1 dead, 14 hospitalised",
         "One person died and at least 14 others were injured after bees attacked them during the funeral of a woman in Karnataka. The swarm of forest bees attacked the people gathered for the funeral as soon as the funeral pyre was lit. The injured were shifted to a hospital while one of the injured remains critical. ",
         "['national']",
         "2023-09-19 00:00:00"
        ],
        [
         "6",
         "Manipur govt forms inquiry commission to probe killing of soldier",
         "A 'one man inquiry commission' has been formed by Manipur government to ascertain facts and circumstances leading to the abduction and killing of Sepoy Serto Thangthang Kom. The commission will submit a report to the government within a month, an order said. Kom was abducted from his house by unidentified men on September 16 while he was on medical leave. ",
         "['national']",
         "2023-09-19 00:00:00"
        ],
        [
         "7",
         "Cabinet approves Bill giving 33% reservation to women in LS, state Assemblies: Reports",
         "The Union Cabinet has approved the Constitution (One Hundred and Eighth Amendment) Bill, 2008 that grants 33% reservation to women in Lok Sabha and state Assemblies, reports said on Monday. This came after Opposition leaders including Congress MP Mallikarjun Kharge and JD(U) MP Ram Nath Thakur demanded that the government bring the Bill in the ongoing special Parliament session.",
         "['national']",
         "2023-09-19 00:00:00"
        ],
        [
         "8",
         "Won't accept his remains: Wife of Army soldier abducted & shot dead in Manipur",
         "The wife of Indian Army soldier Sepoy Serto Thangthang Kom, who was abducted from his home and shot dead in Manipur, has said she would not accept his mortal remains until the reason behind his killing was established. Serto was home on 15 days' leave and was scheduled to report back to duty at the Leimakhong Military Garrison on Monday.",
         "['national']",
         "2023-09-19 00:00:00"
        ],
        [
         "9",
         "Heavy to very heavy rainfall warning issued for several states for Tuesday, list released",
         "The India Meteorological Department (IMD) has issued heavy to very heavy rainfall warning for several states for Tuesday. Heavy to very heavy rainfall is very likely over Gujarat. Meanwhile, heavy rainfall is very likely over Rajasthan, Odisha, Assam, Meghalaya, Nagaland, Manipur, Mizoram and Tripura.",
         "['national']",
         "2023-09-19 00:00:00"
        ],
        [
         "10",
         "We need to get over the 'West is the bad guy' syndrome: S Jaishankar",
         "In an apparent dig at China, External Affairs Minister S Jaishankar said it's not the West that's \"flooding Asia and Africa with goods on a massive scale\". Stating that he 'wasn't batting for the West', Jaishankar added, \"We need to get over the syndrome of the past that...West is the bad guy and on the other side are...developing countries.\"",
         "['national']",
         "2023-09-19 00:00:00"
        ],
        [
         "11",
         "₹360-cr insurance cover bought by mandal that installed 'India's richest Ganpati'",
         "The GSB Seva Mandal, which installed a 'Mahaganpati' ahead of Ganesh Chaturthi in Maharashtra's Mumbai, has taken a ₹360.40-crore insurance cover this year. The idol is believed to be 'India's richest Ganpati' and is adorned with over 66 kg gold and over 300 kg silver. The idol has been installed in the King's Circle area in the city.",
         "['national']",
         "2023-09-19 00:00:00"
        ],
        [
         "12",
         "14-year-old girl dies, several others hospitalised after eating shawarma in TN",
         "A 14-year-old schoolgirl died after eating chicken shawarma bought from a hotel in Tamil Nadu. Thirteen medical college students were also reportedly hospitalised on the same night after eating shawarma from the same hotel. Namakkal Collector S Uma ordered the destruction of all food items and issued a notice to the hotel, which was then sealed.",
         "['national']",
         "2023-09-19 00:00:00"
        ],
        [
         "13",
         "K'taka's Hoysala temples added to UNESCO's World Heritage site list",
         "Sacred Ensembles of the Hoysalas, the group of Hoysala temples in Karnataka, have made it to the list of UNESCO's World Heritage List. Hoysala architecture was a building style of the Hoysala empire in the 12th and 13th centuries. Temples built during this era include the Channakeshava Temple at Belur and the Hoysaleshwara Temple at Halebidu. ",
         "['national']",
         "2023-09-19 00:00:00"
        ],
        [
         "14",
         "Zareen Khan's lawyer issues statement on arrest warrant, says 'she was victim of fraud'",
         "After a Kolkata court issued an arrest warrant against actress Zareen Khan in connection to a 2018 cheating case, her lawyer issued a press statement, saying, \"She has been a victim of fraud.\" The note added that the event organisers (who complained against Zareen) deceived the actress and pressured her to attend the event in Kolkata \"totally unescorted\".",
         "['entertainment', 'national']",
         "2023-09-19 00:00:00"
        ],
        [
         "15",
         "What is Women's Reservation Bill, demanded by parties at Parliament today?",
         "At an all-party meeting convened by the government at the Parliament special session on Monday, several political parties demanded a discussion and passing of the Women's Reservation Bill. The bill seeks to reserve 33% of seats in the Lok Sabha and state legislative assemblies for women. One-third of total seats reserved for SCs and STs will be reserved for women.",
         "['politics', 'national']",
         "2023-09-19 00:00:00"
        ],
        [
         "16",
         "Wilfully denying sex to spouse amounts to cruelty: Delhi High Court",
         "The Delhi High Court has upheld the divorce granted to a couple whose marriage failed due to non-consummation after 35 days. It noted that \"wilful denial of sexual relationship by a spouse amounts to cruelty, especially when the parties are newly married\". It added, \"There is nothing (more) fatal to marriage than disappointment in sexual relationship.\"",
         "['national']",
         "2023-09-19 00:00:00"
        ],
        [
         "17",
         "No Chinese ambassador in India for nearly a year, longest gap since 1976",
         "By October, the Chinese embassy in India will have been without an envoy for a year. It's the longest such gap in ambassadorial postings since 1976, Hindustan Times reported. The Chinese side is yet to request a formal agreement for posting a new ambassador in the embassy. The last Chinese ambassador, Sun Weidong, completed his term on October 26, 2022.",
         "['world', 'national']",
         "2023-09-19 00:00:00"
        ],
        [
         "18",
         "Section 144 imposed in Noida, Gr Noida due to MotoGP, trade show from Sept 16-25",
         "Section 144 has been imposed in Noida and Greater Noida from September 16-25 in view of MotoGP, UP International Trade Show and Ganesh Chaturthi celebrations. The UP International Trade Show is slated to take place from September 21-25 and the MotoGP Bharat at Buddh International Circuit, Greater Noida from September 22-24. Schools in Noida will remain closed on September 22. ",
         "['national']",
         "2023-09-19 00:00:00"
        ],
        [
         "19",
         "What do the statues guarding 6 gates of new Parliament building symbolise?",
         "The six gates of new Parliament building are named after real and mythological creatures. The ceremonial entrances have guardian statues of Gaja symbolising wisdom and intellect, Ashva representing courage and Garuda symbolising progress. At the public gates, statues Makara symbolises unity and diversity, Shardula represents balance of strength and beauty and Hamsa symbolises self-realisation.",
         "['national']",
         "2023-09-19 00:00:00"
        ],
        [
         "20",
         "Raj teacher assaulted, face blackened for molesting girl student",
         "A government school teacher accused of molesting a 16-year-old girl student was assaulted and his face blackened by the minor's family members in Rajasthan, police said. Karanpur Circle Officer Sudha Palawat said the girl's family members, after learning about the alleged incident, reached the school and assaulted the teacher, a video of which surfaced online. ",
         "['national']",
         "2023-09-19 00:00:00"
        ],
        [
         "21",
         "What will happen to the old Parliament building?",
         "The old Parliament building, which will no longer see Lok Sabha and Rajya Sabha sessions, will not be demolished due to its historic and archeological significance, reports said. Union Minister Hardeep Singh Puri had announced in 2021 that the old building would have to be repaired and made available for alternative use. It'll reportedly provide space for parliamentary events.",
         "['national']",
         "2023-09-19 00:00:00"
        ],
        [
         "22",
         "What is this: Supreme Court as it rejects 'one constitutional religion' plea",
         "The Supreme Court on Monday dismissed a plea seeking a single \"constitutional religion\" in the country. The bench asked the petitioner, \"You say there should be one constitutional religion. Can you prevent people from following their own religions? What is this?\" The bench asked the petitioner from where he got the thought of filing such a petition.",
         "['national']",
         "2023-09-19 00:00:00"
        ],
        [
         "23",
         "Video shows newly inaugurated Dwarka Sector 25 metro station",
         "PM Narendra Modi on Sunday inaugurated the extension of Delhi Metro's Airport Line which now terminates at YashoBhoomi Dwarka Sector 25 station. With the addition of this section, the total length of the Airport Express Line from New Delhi to Yashobhoomi Dwarka Sector 25 is now 24.9 km. The metro operation on this section started at 3 pm on Sunday.\n",
         "['national']",
         "2023-09-19 00:00:00"
        ],
        [
         "24",
         "Sentiments hurt: Maratha group on Shivaji Maharaj's seal on Ganesha idol's feet",
         "Sakal Maratha Samaj objected to the placement of Chhatrapati Shivaji Maharaj's royal seal on Mumbai's Lalbaugcha Raja's idol feet. The group that is behind the ongoing Maratha reservation agitation wrote to Mumbai Police asking the officials to file a case against the organisers. Sentiments of the Maratha community were hurt by the move, the Maratha group said.",
         "['national']",
         "2023-09-19 00:00:00"
        ],
        [
         "25",
         "He was abducted at gunpoint, our 10-yr-old son saw it: Wife of soldier killed in Manipur",
         "The wife of an Indian Army soldier, who was abducted and murdered by unidentified men in Manipur, said, \"My husband was abducted at gunpoint. Our [10-year-old] son witnessed the abduction.\" \"When he saw the gun pointed at my husband, he hurriedly informed me,\" Somiwon Kom added. She said the accused had escaped by the time she arrived on the scene.",
         "['national']",
         "2023-09-19 00:00:00"
        ],
        [
         "26",
         "Woman & her sons thrash policeman after he tells them to 'drive carefully' in Delhi",
         "A woman and her two sons allegedly attacked a policeman with bricks and iron rod as he told them to drive carefully after their car hit the front side of his car in Delhi. The accused men allegedly blocked the policeman's car, shouted at him and threw bricks at his windshield. He said he lost consciousness after being beaten.",
         "['national']",
         "2023-09-19 00:00:00"
        ],
        [
         "27",
         "Car hits cow, drags it for 200 metres in Ghaziabad; video surfaces",
         "A cow was reportedly dragged for around 200 metres under a car after being hit by it in Uttar Pradesh's Ghaziabad. A video of the incident shows the car running over the cow sitting in front of the vehicle. A Hindu activist has filed a complaint over the matter, claiming that the cow is in serious condition, according to reports.",
         "['national']",
         "2023-09-19 00:00:00"
        ],
        [
         "28",
         "Who is engineer Chandrani Murmu, the youngest-ever MP mentioned in PM's speech?",
         "PM Narendra Modi mentioned Biju Janata Dal's Chandrani Murmu in his address during the Special Session of Parliament in Lok Sabha today. She became the youngest Lok Sabha MP in history at age 25 after winning from Odisha's Keonjhar constituency in 2019. Murmu holds BTech in mechanical engineering. PM Modi mentioned Murmu while talking about the strength of India's democracy.",
         "['national']",
         "2023-09-19 00:00:00"
        ],
        [
         "29",
         "IIT Kanpur Director Abhay Karandikar appointed as Centre's Science & Tech Secretary",
         "IIT Kanpur's Director Abhay Karandikar has been appointed Secretary of the Department of Science and Technology (DST), the Centre said on Sunday. The 58-year-old has been one of the brains behind the introduction of 5G technology in India. The electrical engineer's team worked on creating \"frugal 5G\" for connecting rural India with the 5G network.",
         "['national', 'technology']",
         "2023-09-19 00:00:00"
        ],
        [
         "30",
         "How is the new Parliament building different from the old one?",
         "The new Parliament building is designed to comfortably accommodate 888 Members of Parliament in the Lok Sabha, compared to 543 seats in the old Lok Sabha. The new building won't feature a central hall like the older one. Each seat of the Members of Parliament will now be equipped with a multimedia display in the new building.",
         "['national']",
         "2023-09-19 00:00:00"
        ],
        [
         "31",
         "Time stops for you: Mahindra as he praises PM Modi's pace of work",
         "Mahindra Group Chairman Anand Mahindra took to X to wish Prime Minister Narendra Modi on his birthday on Sunday. The billionaire posted, \"The relentless pace of your work is such that time stops for you. So, I'm not sure whether birthdays, which symbolise the passing of time, mean anything to you.\" \"Nevertheless...I wish you a very happy birthday,\" he added. ",
         "['business', 'national']",
         "2023-09-19 00:00:00"
        ],
        [
         "32",
         "Never thought kid living on platform would reach Parliament: PM",
         "While addressing the Lok Sabha during the special session of the Parliament, PM Narendra Modi recalled the first time he entered the Parliament premises. \"It was because of the strength of democracy in India and the commitment and admiration of the citizens that the son of a poor family who lived on the railway platform reached Parliament,\" he said. ",
         "['national']",
         "2023-09-19 00:00:00"
        ],
        [
         "33",
         "New French Envoy arrives in India, says 'Proud to be in India'",
         "France's newly appointed Ambassador to India, Thierry Mathou, arrived in New Delhi on Monday to assume his new role and said he's \"happy and proud\" to be in India. He said, \"I'm taking office at an exceptional time.\" \"I look forward to working with Indian authorities and civil society to translate the vision of our leaders into action,\" he added.",
         "['world', 'national']",
         "2023-09-19 00:00:00"
        ],
        [
         "34",
         "BJP MP Satish Dubey injured after car rams into vehicle in Bihar",
         "BJP MP Satish Chandra Dubey and at least four others were injured after the car they were travelling in rammed into a vehicle ahead of it in Bihar's Patna. Dubey is undergoing treatment, however,  his condition is said to be out of danger, according to the police. The driver, who is grievously injured, and a bodyguard are also undergoing treatment.",
         "['politics', 'national']",
         "2023-09-19 00:00:00"
        ],
        [
         "35",
         "SC refuses to entertain J'khand CM's plea against ED summons",
         "The SC on Monday refused to entertain Jharkhand CM Hemant Soren's plea against ED summons in a case of alleged money laundering and asked him to approach the HC in the matter. In a petition filed in the SC, Soren alleged the case was a clear \"abuse of law\" by Centre and an attempt to destabilise his democratically elected government.",
         "['national']",
         "2023-09-19 00:00:00"
        ],
        [
         "36",
         "Video shows YouTuber Vasan crashing on highway while performing bike stunt, case filed",
         "YouTuber TTF Vasan was injured after crashing on a highway in Tamil Nadu while attempting a bike stunt, with the accident caught on a CCTV camera. The accident took place on the Chennai-Coimbatore route and police have reportedly filed a case for rash driving against Vasan. He was hospitalised after he lost control of his bike while attempting a wheelie.",
         "['national']",
         "2023-09-19 00:00:00"
        ],
        [
         "37",
         "Punjab ex-minister & his family drugged by domestic help, house ransacked & robbed",
         "Former Akali Dal minister Jagdish Singh Garcha, his two family members and a domestic help were found unconscious and their house was found ransacked in Punjab on Monday. Police suspect a male domestic help, who is missing, sedated the family after serving food laced with intoxicants and escaped with cash, ornaments and valuables. The four victims were rushed to hospital.",
         "['national']",
         "2023-09-19 00:00:00"
        ],
        [
         "38",
         "Rate card for hiring police officer, police dog, entire station in Kerala released",
         "A rate card displaying costs of hiring a civil police officer, police dog and police station in Kerala has been released, Times of India reported citing a government order. Hiring a circle inspector rank officer will cost ₹3,035-3,340 per day, whereas a police dog can be hired for ₹7,280 a day. Hiring the entire police station costs ₹12,000 a day.",
         "['national']",
         "2023-09-19 00:00:00"
        ],
        [
         "39",
         "Who is Bimal Patel, the architect behind the new Parliament building?",
         "Architect Bimal Hasmukh Patel played a crucial role in designing the new Parliament building as part of the Central Vista project. He also contributed in designing the Kashi Vishwanath Dham in Varanasi, Sabarmati Riverfront Development in Ahmedabad, revamp of Jagannath Temple in Puri, etc. Patel, who won the Padma Shri in 2019, is currently the President of Ahmedabad's CEPT University.",
         "['national']",
         "2023-09-19 00:00:00"
        ],
        [
         "40",
         "5 trapped as river water enters fields in Guj; video shows rescue",
         "At least five people were rescued after they got trapped when the water from a river entered the fields in Gujarat's Anand district, according to officials. A video of the people being rescued in a boat has surfaced online. This comes as over 9,600 people were shifted to safety across the state amid flooding following heavy rainfall.",
         "['national']",
         "2023-09-19 00:00:00"
        ],
        [
         "41",
         "Astrologer must have told PM to hold special session: RJD MP",
         "RJD MP Manoj Jha said that PM Narendra Modi must have called the special session of Parliament on the recommendation of some astrologer. \"The PM believes in all that…Don't say that you have no agenda. The agenda is very clear. We would like to see what the other agendas are. But there is nothing special about it,\" he told ANI.",
         "['national']",
         "2023-09-19 00:00:00"
        ],
        [
         "42",
         "Bill to appoint CEC, ECs dropped from Parliament agenda",
         "The bill to form a panel for the appointment of Chief Election Commissioner (CEC) and other Election Commissioners (ECs) has been dropped from the list of legislative business of special Parliament session. Earlier, the Opposition had resisted the bill. In the bill, Centre had proposed to replace the Chief Justice of India from the appointment panel with a cabinet minister. ",
         "['national']",
         "2023-09-19 00:00:00"
        ],
        [
         "43",
         "MPs laugh as PM praises reporters, says 'even shared inside scoops'",
         "A video showing MPs laughing after PM Narendra Modi said that journalists shared news about what happened inside the Parliament and even \"inside scoops\" has surfaced online. PM Modi made the remark while he was praising journalists who \"spent their lives\" reporting about the Parliament. \"People might not know their names, but no one can forget their work,\" he added.",
         "['national']",
         "2023-09-19 00:00:00"
        ],
        [
         "44",
         "Women MPs share memories from old Parliament in handwritten notes",
         "As the Parliament proceedings will move into new building on Tuesday, a few women MPs penned down their experiences and memories of the old Parliament. \"Proud to be a part of the old Parliament's journey,\" Shiv Sena (UBT) MP Priyanka Chaturvedi said. Meanwhile, TMC MP Mahua Moitra said the old Parliament building will have a \"special place in my heart\".",
         "['politics', 'national']",
         "2023-09-19 00:00:00"
        ],
        [
         "45",
         "Old Parliament building will always have India's soul in it: PM Modi",
         "At the special session of Parliament in the old Parliament building, Prime Minister Narendra Modi said that leaving the place would be an emotional moment for everyone. \"This place, even after years, will sustain the soul of India and democracy,\" he said. \"Many bitter-sweet memories have been associated with it,\" he further said.",
         "['national']",
         "2023-09-19 00:00:00"
        ],
        [
         "46",
         "Many suspect India, said G20 Declaration won't occur but it did: PM",
         "PM Narendra Modi during his address in the old Parliament building's Lok Sabha said that many people have a tendency to be suspicious of India and this has been going on since Independence. Adding that during the G20 Summit, people were \"confident\" that a declaration won't happen, he further said that however, it is India's \"strength\" that this also happened.",
         "['politics', 'national']",
         "2023-09-19 00:00:00"
        ],
        [
         "47",
         "Pandit Nehru gave 'stroke of midnight' speech here: PM on leaving old Parliament building",
         "Speaking about the old Parliament building, PM Narendra Modi recalled how it was here that Jawaharlal Nehru, the first Prime Minister of the country, gave his 'stroke of midnight' speech which laid the foundation for India as an independent country. \"The echoes of Pandit Nehru's 'At the stroke of the midnight...' in this House will keep inspiring us,\" he stated.",
         "['national']",
         "2023-09-19 00:00:00"
        ],
        [
         "48",
         "Couple yells, argues with IndiGo staff after arriving late at Mumbai airport",
         "A video of a couple arguing with an IndiGo staff after allegedly arriving late for boarding at Mumbai airport has gone viral online. In the video, a man accompanied by a woman and a child is seen shouting at the airline's staff. Meanwhile, the ground staff member is seen trying to reason with the passengers and speaking on the phone.",
         "['national']",
         "2023-09-19 00:00:00"
        ],
        [
         "49",
         "Special session may be small in duration but big on occasion: PM",
         "During his address ahead of the Special Parliament Session, PM Narendra Modi praised the Chandrayaan-3 mission and mentioned the success of the G20 Summit in Delhi along with the inauguration of the 'YashoBhoomi' centre. Adding that there's an \"atmosphere of festivity\" in the country, he further said, \"This Parliament session may be small in duration but is big on occasion.\"",
         "['politics', 'national']",
         "2023-09-19 00:00:00"
        ],
        [
         "50",
         "Special session of Parliament begins, PM Modi to address Lok Sabha",
         "The special session of the Parliament has begun and the first day will mark the 75 years of the parliamentary journey. While the first day will be held in the old Parliament, the rest of the session, which will end on September 22, will take place in the new Parliament. PM Narendra Modi will address the Lok Sabha.",
         "['national']",
         "2023-09-19 00:00:00"
        ]
       ],
       "shape": {
        "columns": 4,
        "rows": 280754
       }
      },
      "text/html": [
       "<div>\n",
       "<style scoped>\n",
       "    .dataframe tbody tr th:only-of-type {\n",
       "        vertical-align: middle;\n",
       "    }\n",
       "\n",
       "    .dataframe tbody tr th {\n",
       "        vertical-align: top;\n",
       "    }\n",
       "\n",
       "    .dataframe thead th {\n",
       "        text-align: right;\n",
       "    }\n",
       "</style>\n",
       "<table border=\"1\" class=\"dataframe\">\n",
       "  <thead>\n",
       "    <tr style=\"text-align: right;\">\n",
       "      <th></th>\n",
       "      <th>Headline</th>\n",
       "      <th>Content</th>\n",
       "      <th>News Categories</th>\n",
       "      <th>Date</th>\n",
       "    </tr>\n",
       "  </thead>\n",
       "  <tbody>\n",
       "    <tr>\n",
       "      <th>0</th>\n",
       "      <td>Congress leader Baljinder Singh shot dead at h...</td>\n",
       "      <td>Congress leader Baljinder Singh was shot dead ...</td>\n",
       "      <td>['national']</td>\n",
       "      <td>2023-09-19</td>\n",
       "    </tr>\n",
       "    <tr>\n",
       "      <th>1</th>\n",
       "      <td>17-year-old girl preparing for NEET dies by su...</td>\n",
       "      <td>Another NEET aspirant died by suicide in Rajas...</td>\n",
       "      <td>['national']</td>\n",
       "      <td>2023-09-19</td>\n",
       "    </tr>\n",
       "    <tr>\n",
       "      <th>3</th>\n",
       "      <td>Only 10% women lawmakers in RS, while only 14%...</td>\n",
       "      <td>Congress President Mallikarjun Kharge, while s...</td>\n",
       "      <td>['national']</td>\n",
       "      <td>2023-09-19</td>\n",
       "    </tr>\n",
       "    <tr>\n",
       "      <th>4</th>\n",
       "      <td>Ganesh temple decorated with notes, coins wort...</td>\n",
       "      <td>The Sri Sathya Ganapathi Temple in Bengaluru a...</td>\n",
       "      <td>['national']</td>\n",
       "      <td>2023-09-19</td>\n",
       "    </tr>\n",
       "    <tr>\n",
       "      <th>5</th>\n",
       "      <td>Bee attack during funeral in K'taka leaves 1 d...</td>\n",
       "      <td>One person died and at least 14 others were in...</td>\n",
       "      <td>['national']</td>\n",
       "      <td>2023-09-19</td>\n",
       "    </tr>\n",
       "    <tr>\n",
       "      <th>...</th>\n",
       "      <td>...</td>\n",
       "      <td>...</td>\n",
       "      <td>...</td>\n",
       "      <td>...</td>\n",
       "    </tr>\n",
       "    <tr>\n",
       "      <th>307691</th>\n",
       "      <td>Tamil Nadu to open 10,000 'CM's pharmacy store...</td>\n",
       "      <td>Tamil Nadu CM MK Stalin has announced that 'Ch...</td>\n",
       "      <td>['national', 'Health___Fitness']</td>\n",
       "      <td>2024-08-26</td>\n",
       "    </tr>\n",
       "    <tr>\n",
       "      <th>307692</th>\n",
       "      <td>NMC study finds mental health issues prevalent...</td>\n",
       "      <td>One in four MBBS students has a mental disorde...</td>\n",
       "      <td>['education', 'Health___Fitness', 'national']</td>\n",
       "      <td>2024-08-26</td>\n",
       "    </tr>\n",
       "    <tr>\n",
       "      <th>307693</th>\n",
       "      <td>Telangana CM says World Bank will help retire ...</td>\n",
       "      <td>Telangana CM Revanth Reddy said the World Bank...</td>\n",
       "      <td>['politics', 'Health___Fitness', 'national']</td>\n",
       "      <td>2024-08-26</td>\n",
       "    </tr>\n",
       "    <tr>\n",
       "      <th>307694</th>\n",
       "      <td>Dr Gagandeep Kang explores role of AI in vacci...</td>\n",
       "      <td>Dr Gagandeep Kang, a microbiologist and virolo...</td>\n",
       "      <td>['Health___Fitness', 'national']</td>\n",
       "      <td>2024-08-26</td>\n",
       "    </tr>\n",
       "    <tr>\n",
       "      <th>307695</th>\n",
       "      <td>Rise in dengue, malaria, gastro, H1N1 patients...</td>\n",
       "      <td>Mumbai has recorded more monsoon-related disea...</td>\n",
       "      <td>['national', 'Health___Fitness']</td>\n",
       "      <td>2024-08-26</td>\n",
       "    </tr>\n",
       "  </tbody>\n",
       "</table>\n",
       "<p>280754 rows × 4 columns</p>\n",
       "</div>"
      ],
      "text/plain": [
       "                                                 Headline  \\\n",
       "0       Congress leader Baljinder Singh shot dead at h...   \n",
       "1       17-year-old girl preparing for NEET dies by su...   \n",
       "3       Only 10% women lawmakers in RS, while only 14%...   \n",
       "4       Ganesh temple decorated with notes, coins wort...   \n",
       "5       Bee attack during funeral in K'taka leaves 1 d...   \n",
       "...                                                   ...   \n",
       "307691  Tamil Nadu to open 10,000 'CM's pharmacy store...   \n",
       "307692  NMC study finds mental health issues prevalent...   \n",
       "307693  Telangana CM says World Bank will help retire ...   \n",
       "307694  Dr Gagandeep Kang explores role of AI in vacci...   \n",
       "307695  Rise in dengue, malaria, gastro, H1N1 patients...   \n",
       "\n",
       "                                                  Content  \\\n",
       "0       Congress leader Baljinder Singh was shot dead ...   \n",
       "1       Another NEET aspirant died by suicide in Rajas...   \n",
       "3       Congress President Mallikarjun Kharge, while s...   \n",
       "4       The Sri Sathya Ganapathi Temple in Bengaluru a...   \n",
       "5       One person died and at least 14 others were in...   \n",
       "...                                                   ...   \n",
       "307691  Tamil Nadu CM MK Stalin has announced that 'Ch...   \n",
       "307692  One in four MBBS students has a mental disorde...   \n",
       "307693  Telangana CM Revanth Reddy said the World Bank...   \n",
       "307694  Dr Gagandeep Kang, a microbiologist and virolo...   \n",
       "307695  Mumbai has recorded more monsoon-related disea...   \n",
       "\n",
       "                                      News Categories       Date  \n",
       "0                                        ['national'] 2023-09-19  \n",
       "1                                        ['national'] 2023-09-19  \n",
       "3                                        ['national'] 2023-09-19  \n",
       "4                                        ['national'] 2023-09-19  \n",
       "5                                        ['national'] 2023-09-19  \n",
       "...                                               ...        ...  \n",
       "307691               ['national', 'Health___Fitness'] 2024-08-26  \n",
       "307692  ['education', 'Health___Fitness', 'national'] 2024-08-26  \n",
       "307693   ['politics', 'Health___Fitness', 'national'] 2024-08-26  \n",
       "307694               ['Health___Fitness', 'national'] 2024-08-26  \n",
       "307695               ['national', 'Health___Fitness'] 2024-08-26  \n",
       "\n",
       "[280754 rows x 4 columns]"
      ]
     },
     "execution_count": 12,
     "metadata": {},
     "output_type": "execute_result"
    }
   ],
   "source": [
    "DATA[DATA[\"Headline\"].duplicated(keep=False)]"
   ]
  },
  {
   "cell_type": "code",
   "execution_count": 13,
   "id": "ad56f5dd",
   "metadata": {},
   "outputs": [
    {
     "data": {
      "application/vnd.microsoft.datawrangler.viewer.v0+json": {
       "columns": [
        {
         "name": "index",
         "rawType": "int64",
         "type": "integer"
        },
        {
         "name": "Headline",
         "rawType": "object",
         "type": "string"
        },
        {
         "name": "Content",
         "rawType": "object",
         "type": "string"
        },
        {
         "name": "News Categories",
         "rawType": "object",
         "type": "string"
        },
        {
         "name": "Date",
         "rawType": "datetime64[ns]",
         "type": "datetime"
        }
       ],
       "ref": "995c3cef-e56d-40e7-a458-839b81fed3a9",
       "rows": [
        [
         "3",
         "Only 10% women lawmakers in RS, while only 14% in LS: INC's Kharge",
         "Congress President Mallikarjun Kharge, while speaking in the Rajya Sabha, said, \"Women Reservation Bill should come. We all tried. This issue, if you (Chair) raise, then they will.\" Highlighting the number of women lawmakers in Parliament, Kharge said they constituted only 10% of the lawmakers in the Rajya Sabha, while the percentage of women lawmakers in Lok Sabha is 14%. ",
         "['national']",
         "2023-09-19 00:00:00"
        ],
        [
         "2169",
         "Only 10% women lawmakers in RS, while only 14% in LS: INC's Kharge",
         "Congress President Mallikarjun Kharge, while speaking in the Rajya Sabha, said, \"Women Reservation Bill should come. We all tried. This issue, if you (Chair) raise, then they will.\" Highlighting the number of women lawmakers in Parliament, Kharge said they constituted only 10% of the lawmakers in the Rajya Sabha, while the percentage of women lawmakers in Lok Sabha is 14%. ",
         "['national']",
         "2023-09-20 00:00:00"
        ]
       ],
       "shape": {
        "columns": 4,
        "rows": 2
       }
      },
      "text/html": [
       "<div>\n",
       "<style scoped>\n",
       "    .dataframe tbody tr th:only-of-type {\n",
       "        vertical-align: middle;\n",
       "    }\n",
       "\n",
       "    .dataframe tbody tr th {\n",
       "        vertical-align: top;\n",
       "    }\n",
       "\n",
       "    .dataframe thead th {\n",
       "        text-align: right;\n",
       "    }\n",
       "</style>\n",
       "<table border=\"1\" class=\"dataframe\">\n",
       "  <thead>\n",
       "    <tr style=\"text-align: right;\">\n",
       "      <th></th>\n",
       "      <th>Headline</th>\n",
       "      <th>Content</th>\n",
       "      <th>News Categories</th>\n",
       "      <th>Date</th>\n",
       "    </tr>\n",
       "  </thead>\n",
       "  <tbody>\n",
       "    <tr>\n",
       "      <th>3</th>\n",
       "      <td>Only 10% women lawmakers in RS, while only 14%...</td>\n",
       "      <td>Congress President Mallikarjun Kharge, while s...</td>\n",
       "      <td>['national']</td>\n",
       "      <td>2023-09-19</td>\n",
       "    </tr>\n",
       "    <tr>\n",
       "      <th>2169</th>\n",
       "      <td>Only 10% women lawmakers in RS, while only 14%...</td>\n",
       "      <td>Congress President Mallikarjun Kharge, while s...</td>\n",
       "      <td>['national']</td>\n",
       "      <td>2023-09-20</td>\n",
       "    </tr>\n",
       "  </tbody>\n",
       "</table>\n",
       "</div>"
      ],
      "text/plain": [
       "                                               Headline  \\\n",
       "3     Only 10% women lawmakers in RS, while only 14%...   \n",
       "2169  Only 10% women lawmakers in RS, while only 14%...   \n",
       "\n",
       "                                                Content News Categories  \\\n",
       "3     Congress President Mallikarjun Kharge, while s...    ['national']   \n",
       "2169  Congress President Mallikarjun Kharge, while s...    ['national']   \n",
       "\n",
       "           Date  \n",
       "3    2023-09-19  \n",
       "2169 2023-09-20  "
      ]
     },
     "execution_count": 13,
     "metadata": {},
     "output_type": "execute_result"
    }
   ],
   "source": [
    "DATA[DATA['Headline']==\"Only 10% women lawmakers in RS, while only 14% in LS: INC's Kharge\"]"
   ]
  },
  {
   "cell_type": "code",
   "execution_count": 14,
   "id": "eac2d075",
   "metadata": {},
   "outputs": [],
   "source": [
    "DATA.drop_duplicates(keep='first', inplace=True)"
   ]
  },
  {
   "cell_type": "code",
   "execution_count": 15,
   "id": "e3d91f0e",
   "metadata": {},
   "outputs": [
    {
     "data": {
      "application/vnd.microsoft.datawrangler.viewer.v0+json": {
       "columns": [
        {
         "name": "News Categories",
         "rawType": "object",
         "type": "string"
        },
        {
         "name": "count",
         "rawType": "int64",
         "type": "integer"
        }
       ],
       "ref": "dc9dc3ff-de13-4ccf-b044-dc2713b8f90a",
       "rows": [
        [
         "['entertainment']",
         "15232"
        ],
        [
         "['miscellaneous']",
         "12500"
        ],
        [
         "['science']",
         "11359"
        ],
        [
         "['sports']",
         "10453"
        ],
        [
         "['business']",
         "9852"
        ],
        [
         "['national']",
         "9732"
        ],
        [
         "['automobile', 'business']",
         "9248"
        ],
        [
         "['entertainment', 'fashion']",
         "8355"
        ],
        [
         "['politics', 'national']",
         "8306"
        ],
        [
         "['world']",
         "7941"
        ],
        [
         "['politics']",
         "7687"
        ],
        [
         "['startup']",
         "7573"
        ],
        [
         "['education']",
         "7498"
        ],
        [
         "['travel']",
         "7405"
        ],
        [
         "['technology']",
         "7343"
        ],
        [
         "['education', 'national']",
         "7293"
        ],
        [
         "['Health___Fitness']",
         "7155"
        ],
        [
         "['national', 'travel']",
         "4564"
        ],
        [
         "['fashion']",
         "4452"
        ],
        [
         "['business', 'startup']",
         "4115"
        ],
        [
         "['business', 'technology']",
         "3358"
        ],
        [
         "['science', 'Health___Fitness']",
         "2940"
        ],
        [
         "['business', 'startup', 'technology']",
         "2925"
        ],
        [
         "['world', 'national']",
         "2601"
        ],
        [
         "['national', 'Health___Fitness']",
         "2573"
        ],
        [
         "['sports', 'ODI_World_Cup_2023']",
         "2511"
        ],
        [
         "['world', 'Israel-Hamas_War']",
         "2296"
        ],
        [
         "['automobile', 'technology']",
         "2280"
        ],
        [
         "['automobile']",
         "2194"
        ],
        [
         "['startup', 'technology']",
         "1861"
        ],
        [
         "['world', 'science']",
         "1622"
        ],
        [
         "['world', 'travel']",
         "1464"
        ],
        [
         "['world', 'Health___Fitness']",
         "1446"
        ],
        [
         "['business', 'national']",
         "1374"
        ],
        [
         "['sports', 'Asian_Games_2022']",
         "1204"
        ],
        [
         "['automobile', 'business', 'technology']",
         "1099"
        ],
        [
         "['science', 'national']",
         "1082"
        ],
        [
         "['ODI_World_Cup_2023', 'sports']",
         "988"
        ],
        [
         "['politics', 'LOK_SABHA_ELECTIONS', 'national']",
         "959"
        ],
        [
         "['miscellaneous', 'national']",
         "953"
        ],
        [
         "['entertainment', 'Lifestyle', 'fashion']",
         "945"
        ],
        [
         "['science', 'technology']",
         "913"
        ],
        [
         "['entertainment', 'national']",
         "897"
        ],
        [
         "['automobile', 'national']",
         "859"
        ],
        [
         "['national', 'technology']",
         "842"
        ],
        [
         "['Lifestyle', 'fashion']",
         "815"
        ],
        [
         "['world', 'technology']",
         "811"
        ],
        [
         "['business', 'travel']",
         "809"
        ],
        [
         "['automobile', 'business', 'startup']",
         "808"
        ],
        [
         "['Health___Fitness', 'national']",
         "765"
        ]
       ],
       "shape": {
        "columns": 1,
        "rows": 1335
       }
      },
      "text/plain": [
       "News Categories\n",
       "['entertainment']                                                15232\n",
       "['miscellaneous']                                                12500\n",
       "['science']                                                      11359\n",
       "['sports']                                                       10453\n",
       "['business']                                                      9852\n",
       "                                                                 ...  \n",
       "['hatke', 'world', 'entertainment', 'national', 'technology']        1\n",
       "['politics', 'business', 'FINANCE']                                  1\n",
       "['automobile', 'business', 'FINANCE']                                1\n",
       "['sports', 'experiment', 'PARIS_2024_PARALYMPICS']                   1\n",
       "['world', 'Health___Fitness', 'Israel-Hamas_War']                    1\n",
       "Name: count, Length: 1335, dtype: int64"
      ]
     },
     "execution_count": 15,
     "metadata": {},
     "output_type": "execute_result"
    }
   ],
   "source": [
    "DATA['News Categories'].value_counts()# 1,335  categories"
   ]
  },
  {
   "cell_type": "code",
   "execution_count": 16,
   "id": "2886d26c",
   "metadata": {},
   "outputs": [
    {
     "data": {
      "application/vnd.microsoft.datawrangler.viewer.v0+json": {
       "columns": [
        {
         "name": "index",
         "rawType": "int64",
         "type": "integer"
        },
        {
         "name": "Headline",
         "rawType": "object",
         "type": "string"
        },
        {
         "name": "Content",
         "rawType": "object",
         "type": "string"
        },
        {
         "name": "News Categories",
         "rawType": "object",
         "type": "string"
        },
        {
         "name": "Date",
         "rawType": "datetime64[ns]",
         "type": "datetime"
        }
       ],
       "ref": "851175ca-2382-490e-9289-3dd51f7750b7",
       "rows": [
        [
         "0",
         "Congress leader Baljinder Singh shot dead at home in Punjab's Moga",
         "Congress leader Baljinder Singh was shot dead at his house in Punjab's Moga on Monday, a video of which has also surfaced online. According to a report by the Free Press Journal, Singh received a call from someone regarding the signing of documents. In the video, the accused can be seen shooting at Singh while he is walking towards him. ",
         "['national']",
         "2023-09-19 00:00:00"
        ],
        [
         "1",
         "17-year-old girl preparing for NEET dies by suicide in Rajasthan's Kota",
         "Another NEET aspirant died by suicide in Rajasthan's Kota on Monday, taking the number of student suicides this year to around 26. The girl was reportedly a native of UP's Mau and had been staying at a hostel in the city's Vigyan Nagar area. She was rushed to a hospital after she reportedly started vomiting, and passed away later.",
         "['national']",
         "2023-09-19 00:00:00"
        ],
        [
         "2",
         "Hampers to welcome MPs in new Parliament tomorrow, pics surface",
         "In order to mark the first-ever working day of the new Parliament building, Members of Parliament will receive a copy of the Constitution of India, books related to the Parliament, a commemorative coin and a stamp on Tuesday. A giftbag will contain these presents for the MPs. The special Parliament session will resume in the new Parliament building on Tuesday.",
         "['national']",
         "2023-09-19 00:00:00"
        ],
        [
         "3",
         "Only 10% women lawmakers in RS, while only 14% in LS: INC's Kharge",
         "Congress President Mallikarjun Kharge, while speaking in the Rajya Sabha, said, \"Women Reservation Bill should come. We all tried. This issue, if you (Chair) raise, then they will.\" Highlighting the number of women lawmakers in Parliament, Kharge said they constituted only 10% of the lawmakers in the Rajya Sabha, while the percentage of women lawmakers in Lok Sabha is 14%. ",
         "['national']",
         "2023-09-19 00:00:00"
        ],
        [
         "4",
         "Ganesh temple decorated with notes, coins worth ₹2.5 crore in Bengaluru",
         "The Sri Sathya Ganapathi Temple in Bengaluru adorned its premises and idols with Indian currency notes and coins worth ₹2.5 crore on the occasion of Ganesh Chathurthi. The decorations include ₹500, ₹200, ₹100, ₹50, ₹20 and ₹10 notes along with coins. It took a dedicated team of 150 individuals a month to execute the elaborate decoration.",
         "['national']",
         "2023-09-19 00:00:00"
        ],
        [
         "5",
         "Bee attack during funeral in K'taka leaves 1 dead, 14 hospitalised",
         "One person died and at least 14 others were injured after bees attacked them during the funeral of a woman in Karnataka. The swarm of forest bees attacked the people gathered for the funeral as soon as the funeral pyre was lit. The injured were shifted to a hospital while one of the injured remains critical. ",
         "['national']",
         "2023-09-19 00:00:00"
        ],
        [
         "6",
         "Manipur govt forms inquiry commission to probe killing of soldier",
         "A 'one man inquiry commission' has been formed by Manipur government to ascertain facts and circumstances leading to the abduction and killing of Sepoy Serto Thangthang Kom. The commission will submit a report to the government within a month, an order said. Kom was abducted from his house by unidentified men on September 16 while he was on medical leave. ",
         "['national']",
         "2023-09-19 00:00:00"
        ],
        [
         "7",
         "Cabinet approves Bill giving 33% reservation to women in LS, state Assemblies: Reports",
         "The Union Cabinet has approved the Constitution (One Hundred and Eighth Amendment) Bill, 2008 that grants 33% reservation to women in Lok Sabha and state Assemblies, reports said on Monday. This came after Opposition leaders including Congress MP Mallikarjun Kharge and JD(U) MP Ram Nath Thakur demanded that the government bring the Bill in the ongoing special Parliament session.",
         "['national']",
         "2023-09-19 00:00:00"
        ],
        [
         "8",
         "Won't accept his remains: Wife of Army soldier abducted & shot dead in Manipur",
         "The wife of Indian Army soldier Sepoy Serto Thangthang Kom, who was abducted from his home and shot dead in Manipur, has said she would not accept his mortal remains until the reason behind his killing was established. Serto was home on 15 days' leave and was scheduled to report back to duty at the Leimakhong Military Garrison on Monday.",
         "['national']",
         "2023-09-19 00:00:00"
        ],
        [
         "9",
         "Heavy to very heavy rainfall warning issued for several states for Tuesday, list released",
         "The India Meteorological Department (IMD) has issued heavy to very heavy rainfall warning for several states for Tuesday. Heavy to very heavy rainfall is very likely over Gujarat. Meanwhile, heavy rainfall is very likely over Rajasthan, Odisha, Assam, Meghalaya, Nagaland, Manipur, Mizoram and Tripura.",
         "['national']",
         "2023-09-19 00:00:00"
        ],
        [
         "10",
         "We need to get over the 'West is the bad guy' syndrome: S Jaishankar",
         "In an apparent dig at China, External Affairs Minister S Jaishankar said it's not the West that's \"flooding Asia and Africa with goods on a massive scale\". Stating that he 'wasn't batting for the West', Jaishankar added, \"We need to get over the syndrome of the past that...West is the bad guy and on the other side are...developing countries.\"",
         "['national']",
         "2023-09-19 00:00:00"
        ],
        [
         "11",
         "₹360-cr insurance cover bought by mandal that installed 'India's richest Ganpati'",
         "The GSB Seva Mandal, which installed a 'Mahaganpati' ahead of Ganesh Chaturthi in Maharashtra's Mumbai, has taken a ₹360.40-crore insurance cover this year. The idol is believed to be 'India's richest Ganpati' and is adorned with over 66 kg gold and over 300 kg silver. The idol has been installed in the King's Circle area in the city.",
         "['national']",
         "2023-09-19 00:00:00"
        ],
        [
         "12",
         "14-year-old girl dies, several others hospitalised after eating shawarma in TN",
         "A 14-year-old schoolgirl died after eating chicken shawarma bought from a hotel in Tamil Nadu. Thirteen medical college students were also reportedly hospitalised on the same night after eating shawarma from the same hotel. Namakkal Collector S Uma ordered the destruction of all food items and issued a notice to the hotel, which was then sealed.",
         "['national']",
         "2023-09-19 00:00:00"
        ],
        [
         "13",
         "K'taka's Hoysala temples added to UNESCO's World Heritage site list",
         "Sacred Ensembles of the Hoysalas, the group of Hoysala temples in Karnataka, have made it to the list of UNESCO's World Heritage List. Hoysala architecture was a building style of the Hoysala empire in the 12th and 13th centuries. Temples built during this era include the Channakeshava Temple at Belur and the Hoysaleshwara Temple at Halebidu. ",
         "['national']",
         "2023-09-19 00:00:00"
        ],
        [
         "14",
         "Zareen Khan's lawyer issues statement on arrest warrant, says 'she was victim of fraud'",
         "After a Kolkata court issued an arrest warrant against actress Zareen Khan in connection to a 2018 cheating case, her lawyer issued a press statement, saying, \"She has been a victim of fraud.\" The note added that the event organisers (who complained against Zareen) deceived the actress and pressured her to attend the event in Kolkata \"totally unescorted\".",
         "['entertainment', 'national']",
         "2023-09-19 00:00:00"
        ],
        [
         "15",
         "What is Women's Reservation Bill, demanded by parties at Parliament today?",
         "At an all-party meeting convened by the government at the Parliament special session on Monday, several political parties demanded a discussion and passing of the Women's Reservation Bill. The bill seeks to reserve 33% of seats in the Lok Sabha and state legislative assemblies for women. One-third of total seats reserved for SCs and STs will be reserved for women.",
         "['politics', 'national']",
         "2023-09-19 00:00:00"
        ],
        [
         "16",
         "Wilfully denying sex to spouse amounts to cruelty: Delhi High Court",
         "The Delhi High Court has upheld the divorce granted to a couple whose marriage failed due to non-consummation after 35 days. It noted that \"wilful denial of sexual relationship by a spouse amounts to cruelty, especially when the parties are newly married\". It added, \"There is nothing (more) fatal to marriage than disappointment in sexual relationship.\"",
         "['national']",
         "2023-09-19 00:00:00"
        ],
        [
         "17",
         "No Chinese ambassador in India for nearly a year, longest gap since 1976",
         "By October, the Chinese embassy in India will have been without an envoy for a year. It's the longest such gap in ambassadorial postings since 1976, Hindustan Times reported. The Chinese side is yet to request a formal agreement for posting a new ambassador in the embassy. The last Chinese ambassador, Sun Weidong, completed his term on October 26, 2022.",
         "['world', 'national']",
         "2023-09-19 00:00:00"
        ],
        [
         "18",
         "Section 144 imposed in Noida, Gr Noida due to MotoGP, trade show from Sept 16-25",
         "Section 144 has been imposed in Noida and Greater Noida from September 16-25 in view of MotoGP, UP International Trade Show and Ganesh Chaturthi celebrations. The UP International Trade Show is slated to take place from September 21-25 and the MotoGP Bharat at Buddh International Circuit, Greater Noida from September 22-24. Schools in Noida will remain closed on September 22. ",
         "['national']",
         "2023-09-19 00:00:00"
        ],
        [
         "19",
         "What do the statues guarding 6 gates of new Parliament building symbolise?",
         "The six gates of new Parliament building are named after real and mythological creatures. The ceremonial entrances have guardian statues of Gaja symbolising wisdom and intellect, Ashva representing courage and Garuda symbolising progress. At the public gates, statues Makara symbolises unity and diversity, Shardula represents balance of strength and beauty and Hamsa symbolises self-realisation.",
         "['national']",
         "2023-09-19 00:00:00"
        ],
        [
         "20",
         "Raj teacher assaulted, face blackened for molesting girl student",
         "A government school teacher accused of molesting a 16-year-old girl student was assaulted and his face blackened by the minor's family members in Rajasthan, police said. Karanpur Circle Officer Sudha Palawat said the girl's family members, after learning about the alleged incident, reached the school and assaulted the teacher, a video of which surfaced online. ",
         "['national']",
         "2023-09-19 00:00:00"
        ],
        [
         "21",
         "What will happen to the old Parliament building?",
         "The old Parliament building, which will no longer see Lok Sabha and Rajya Sabha sessions, will not be demolished due to its historic and archeological significance, reports said. Union Minister Hardeep Singh Puri had announced in 2021 that the old building would have to be repaired and made available for alternative use. It'll reportedly provide space for parliamentary events.",
         "['national']",
         "2023-09-19 00:00:00"
        ],
        [
         "22",
         "What is this: Supreme Court as it rejects 'one constitutional religion' plea",
         "The Supreme Court on Monday dismissed a plea seeking a single \"constitutional religion\" in the country. The bench asked the petitioner, \"You say there should be one constitutional religion. Can you prevent people from following their own religions? What is this?\" The bench asked the petitioner from where he got the thought of filing such a petition.",
         "['national']",
         "2023-09-19 00:00:00"
        ],
        [
         "23",
         "Video shows newly inaugurated Dwarka Sector 25 metro station",
         "PM Narendra Modi on Sunday inaugurated the extension of Delhi Metro's Airport Line which now terminates at YashoBhoomi Dwarka Sector 25 station. With the addition of this section, the total length of the Airport Express Line from New Delhi to Yashobhoomi Dwarka Sector 25 is now 24.9 km. The metro operation on this section started at 3 pm on Sunday.\n",
         "['national']",
         "2023-09-19 00:00:00"
        ],
        [
         "24",
         "Sentiments hurt: Maratha group on Shivaji Maharaj's seal on Ganesha idol's feet",
         "Sakal Maratha Samaj objected to the placement of Chhatrapati Shivaji Maharaj's royal seal on Mumbai's Lalbaugcha Raja's idol feet. The group that is behind the ongoing Maratha reservation agitation wrote to Mumbai Police asking the officials to file a case against the organisers. Sentiments of the Maratha community were hurt by the move, the Maratha group said.",
         "['national']",
         "2023-09-19 00:00:00"
        ],
        [
         "25",
         "He was abducted at gunpoint, our 10-yr-old son saw it: Wife of soldier killed in Manipur",
         "The wife of an Indian Army soldier, who was abducted and murdered by unidentified men in Manipur, said, \"My husband was abducted at gunpoint. Our [10-year-old] son witnessed the abduction.\" \"When he saw the gun pointed at my husband, he hurriedly informed me,\" Somiwon Kom added. She said the accused had escaped by the time she arrived on the scene.",
         "['national']",
         "2023-09-19 00:00:00"
        ],
        [
         "26",
         "Woman & her sons thrash policeman after he tells them to 'drive carefully' in Delhi",
         "A woman and her two sons allegedly attacked a policeman with bricks and iron rod as he told them to drive carefully after their car hit the front side of his car in Delhi. The accused men allegedly blocked the policeman's car, shouted at him and threw bricks at his windshield. He said he lost consciousness after being beaten.",
         "['national']",
         "2023-09-19 00:00:00"
        ],
        [
         "27",
         "Car hits cow, drags it for 200 metres in Ghaziabad; video surfaces",
         "A cow was reportedly dragged for around 200 metres under a car after being hit by it in Uttar Pradesh's Ghaziabad. A video of the incident shows the car running over the cow sitting in front of the vehicle. A Hindu activist has filed a complaint over the matter, claiming that the cow is in serious condition, according to reports.",
         "['national']",
         "2023-09-19 00:00:00"
        ],
        [
         "28",
         "Who is engineer Chandrani Murmu, the youngest-ever MP mentioned in PM's speech?",
         "PM Narendra Modi mentioned Biju Janata Dal's Chandrani Murmu in his address during the Special Session of Parliament in Lok Sabha today. She became the youngest Lok Sabha MP in history at age 25 after winning from Odisha's Keonjhar constituency in 2019. Murmu holds BTech in mechanical engineering. PM Modi mentioned Murmu while talking about the strength of India's democracy.",
         "['national']",
         "2023-09-19 00:00:00"
        ],
        [
         "29",
         "IIT Kanpur Director Abhay Karandikar appointed as Centre's Science & Tech Secretary",
         "IIT Kanpur's Director Abhay Karandikar has been appointed Secretary of the Department of Science and Technology (DST), the Centre said on Sunday. The 58-year-old has been one of the brains behind the introduction of 5G technology in India. The electrical engineer's team worked on creating \"frugal 5G\" for connecting rural India with the 5G network.",
         "['national', 'technology']",
         "2023-09-19 00:00:00"
        ],
        [
         "30",
         "How is the new Parliament building different from the old one?",
         "The new Parliament building is designed to comfortably accommodate 888 Members of Parliament in the Lok Sabha, compared to 543 seats in the old Lok Sabha. The new building won't feature a central hall like the older one. Each seat of the Members of Parliament will now be equipped with a multimedia display in the new building.",
         "['national']",
         "2023-09-19 00:00:00"
        ],
        [
         "31",
         "Time stops for you: Mahindra as he praises PM Modi's pace of work",
         "Mahindra Group Chairman Anand Mahindra took to X to wish Prime Minister Narendra Modi on his birthday on Sunday. The billionaire posted, \"The relentless pace of your work is such that time stops for you. So, I'm not sure whether birthdays, which symbolise the passing of time, mean anything to you.\" \"Nevertheless...I wish you a very happy birthday,\" he added. ",
         "['business', 'national']",
         "2023-09-19 00:00:00"
        ],
        [
         "32",
         "Never thought kid living on platform would reach Parliament: PM",
         "While addressing the Lok Sabha during the special session of the Parliament, PM Narendra Modi recalled the first time he entered the Parliament premises. \"It was because of the strength of democracy in India and the commitment and admiration of the citizens that the son of a poor family who lived on the railway platform reached Parliament,\" he said. ",
         "['national']",
         "2023-09-19 00:00:00"
        ],
        [
         "33",
         "New French Envoy arrives in India, says 'Proud to be in India'",
         "France's newly appointed Ambassador to India, Thierry Mathou, arrived in New Delhi on Monday to assume his new role and said he's \"happy and proud\" to be in India. He said, \"I'm taking office at an exceptional time.\" \"I look forward to working with Indian authorities and civil society to translate the vision of our leaders into action,\" he added.",
         "['world', 'national']",
         "2023-09-19 00:00:00"
        ],
        [
         "34",
         "BJP MP Satish Dubey injured after car rams into vehicle in Bihar",
         "BJP MP Satish Chandra Dubey and at least four others were injured after the car they were travelling in rammed into a vehicle ahead of it in Bihar's Patna. Dubey is undergoing treatment, however,  his condition is said to be out of danger, according to the police. The driver, who is grievously injured, and a bodyguard are also undergoing treatment.",
         "['politics', 'national']",
         "2023-09-19 00:00:00"
        ],
        [
         "35",
         "SC refuses to entertain J'khand CM's plea against ED summons",
         "The SC on Monday refused to entertain Jharkhand CM Hemant Soren's plea against ED summons in a case of alleged money laundering and asked him to approach the HC in the matter. In a petition filed in the SC, Soren alleged the case was a clear \"abuse of law\" by Centre and an attempt to destabilise his democratically elected government.",
         "['national']",
         "2023-09-19 00:00:00"
        ],
        [
         "36",
         "Video shows YouTuber Vasan crashing on highway while performing bike stunt, case filed",
         "YouTuber TTF Vasan was injured after crashing on a highway in Tamil Nadu while attempting a bike stunt, with the accident caught on a CCTV camera. The accident took place on the Chennai-Coimbatore route and police have reportedly filed a case for rash driving against Vasan. He was hospitalised after he lost control of his bike while attempting a wheelie.",
         "['national']",
         "2023-09-19 00:00:00"
        ],
        [
         "37",
         "Punjab ex-minister & his family drugged by domestic help, house ransacked & robbed",
         "Former Akali Dal minister Jagdish Singh Garcha, his two family members and a domestic help were found unconscious and their house was found ransacked in Punjab on Monday. Police suspect a male domestic help, who is missing, sedated the family after serving food laced with intoxicants and escaped with cash, ornaments and valuables. The four victims were rushed to hospital.",
         "['national']",
         "2023-09-19 00:00:00"
        ],
        [
         "38",
         "Rate card for hiring police officer, police dog, entire station in Kerala released",
         "A rate card displaying costs of hiring a civil police officer, police dog and police station in Kerala has been released, Times of India reported citing a government order. Hiring a circle inspector rank officer will cost ₹3,035-3,340 per day, whereas a police dog can be hired for ₹7,280 a day. Hiring the entire police station costs ₹12,000 a day.",
         "['national']",
         "2023-09-19 00:00:00"
        ],
        [
         "39",
         "Who is Bimal Patel, the architect behind the new Parliament building?",
         "Architect Bimal Hasmukh Patel played a crucial role in designing the new Parliament building as part of the Central Vista project. He also contributed in designing the Kashi Vishwanath Dham in Varanasi, Sabarmati Riverfront Development in Ahmedabad, revamp of Jagannath Temple in Puri, etc. Patel, who won the Padma Shri in 2019, is currently the President of Ahmedabad's CEPT University.",
         "['national']",
         "2023-09-19 00:00:00"
        ],
        [
         "40",
         "5 trapped as river water enters fields in Guj; video shows rescue",
         "At least five people were rescued after they got trapped when the water from a river entered the fields in Gujarat's Anand district, according to officials. A video of the people being rescued in a boat has surfaced online. This comes as over 9,600 people were shifted to safety across the state amid flooding following heavy rainfall.",
         "['national']",
         "2023-09-19 00:00:00"
        ],
        [
         "41",
         "Astrologer must have told PM to hold special session: RJD MP",
         "RJD MP Manoj Jha said that PM Narendra Modi must have called the special session of Parliament on the recommendation of some astrologer. \"The PM believes in all that…Don't say that you have no agenda. The agenda is very clear. We would like to see what the other agendas are. But there is nothing special about it,\" he told ANI.",
         "['national']",
         "2023-09-19 00:00:00"
        ],
        [
         "42",
         "Bill to appoint CEC, ECs dropped from Parliament agenda",
         "The bill to form a panel for the appointment of Chief Election Commissioner (CEC) and other Election Commissioners (ECs) has been dropped from the list of legislative business of special Parliament session. Earlier, the Opposition had resisted the bill. In the bill, Centre had proposed to replace the Chief Justice of India from the appointment panel with a cabinet minister. ",
         "['national']",
         "2023-09-19 00:00:00"
        ],
        [
         "43",
         "MPs laugh as PM praises reporters, says 'even shared inside scoops'",
         "A video showing MPs laughing after PM Narendra Modi said that journalists shared news about what happened inside the Parliament and even \"inside scoops\" has surfaced online. PM Modi made the remark while he was praising journalists who \"spent their lives\" reporting about the Parliament. \"People might not know their names, but no one can forget their work,\" he added.",
         "['national']",
         "2023-09-19 00:00:00"
        ],
        [
         "44",
         "Women MPs share memories from old Parliament in handwritten notes",
         "As the Parliament proceedings will move into new building on Tuesday, a few women MPs penned down their experiences and memories of the old Parliament. \"Proud to be a part of the old Parliament's journey,\" Shiv Sena (UBT) MP Priyanka Chaturvedi said. Meanwhile, TMC MP Mahua Moitra said the old Parliament building will have a \"special place in my heart\".",
         "['politics', 'national']",
         "2023-09-19 00:00:00"
        ],
        [
         "45",
         "Old Parliament building will always have India's soul in it: PM Modi",
         "At the special session of Parliament in the old Parliament building, Prime Minister Narendra Modi said that leaving the place would be an emotional moment for everyone. \"This place, even after years, will sustain the soul of India and democracy,\" he said. \"Many bitter-sweet memories have been associated with it,\" he further said.",
         "['national']",
         "2023-09-19 00:00:00"
        ],
        [
         "46",
         "Many suspect India, said G20 Declaration won't occur but it did: PM",
         "PM Narendra Modi during his address in the old Parliament building's Lok Sabha said that many people have a tendency to be suspicious of India and this has been going on since Independence. Adding that during the G20 Summit, people were \"confident\" that a declaration won't happen, he further said that however, it is India's \"strength\" that this also happened.",
         "['politics', 'national']",
         "2023-09-19 00:00:00"
        ],
        [
         "47",
         "Pandit Nehru gave 'stroke of midnight' speech here: PM on leaving old Parliament building",
         "Speaking about the old Parliament building, PM Narendra Modi recalled how it was here that Jawaharlal Nehru, the first Prime Minister of the country, gave his 'stroke of midnight' speech which laid the foundation for India as an independent country. \"The echoes of Pandit Nehru's 'At the stroke of the midnight...' in this House will keep inspiring us,\" he stated.",
         "['national']",
         "2023-09-19 00:00:00"
        ],
        [
         "48",
         "Couple yells, argues with IndiGo staff after arriving late at Mumbai airport",
         "A video of a couple arguing with an IndiGo staff after allegedly arriving late for boarding at Mumbai airport has gone viral online. In the video, a man accompanied by a woman and a child is seen shouting at the airline's staff. Meanwhile, the ground staff member is seen trying to reason with the passengers and speaking on the phone.",
         "['national']",
         "2023-09-19 00:00:00"
        ],
        [
         "49",
         "Special session may be small in duration but big on occasion: PM",
         "During his address ahead of the Special Parliament Session, PM Narendra Modi praised the Chandrayaan-3 mission and mentioned the success of the G20 Summit in Delhi along with the inauguration of the 'YashoBhoomi' centre. Adding that there's an \"atmosphere of festivity\" in the country, he further said, \"This Parliament session may be small in duration but is big on occasion.\"",
         "['politics', 'national']",
         "2023-09-19 00:00:00"
        ]
       ],
       "shape": {
        "columns": 4,
        "rows": 255649
       }
      },
      "text/html": [
       "<div>\n",
       "<style scoped>\n",
       "    .dataframe tbody tr th:only-of-type {\n",
       "        vertical-align: middle;\n",
       "    }\n",
       "\n",
       "    .dataframe tbody tr th {\n",
       "        vertical-align: top;\n",
       "    }\n",
       "\n",
       "    .dataframe thead th {\n",
       "        text-align: right;\n",
       "    }\n",
       "</style>\n",
       "<table border=\"1\" class=\"dataframe\">\n",
       "  <thead>\n",
       "    <tr style=\"text-align: right;\">\n",
       "      <th></th>\n",
       "      <th>Headline</th>\n",
       "      <th>Content</th>\n",
       "      <th>News Categories</th>\n",
       "      <th>Date</th>\n",
       "    </tr>\n",
       "  </thead>\n",
       "  <tbody>\n",
       "    <tr>\n",
       "      <th>0</th>\n",
       "      <td>Congress leader Baljinder Singh shot dead at h...</td>\n",
       "      <td>Congress leader Baljinder Singh was shot dead ...</td>\n",
       "      <td>['national']</td>\n",
       "      <td>2023-09-19</td>\n",
       "    </tr>\n",
       "    <tr>\n",
       "      <th>1</th>\n",
       "      <td>17-year-old girl preparing for NEET dies by su...</td>\n",
       "      <td>Another NEET aspirant died by suicide in Rajas...</td>\n",
       "      <td>['national']</td>\n",
       "      <td>2023-09-19</td>\n",
       "    </tr>\n",
       "    <tr>\n",
       "      <th>2</th>\n",
       "      <td>Hampers to welcome MPs in new Parliament tomor...</td>\n",
       "      <td>In order to mark the first-ever working day of...</td>\n",
       "      <td>['national']</td>\n",
       "      <td>2023-09-19</td>\n",
       "    </tr>\n",
       "    <tr>\n",
       "      <th>3</th>\n",
       "      <td>Only 10% women lawmakers in RS, while only 14%...</td>\n",
       "      <td>Congress President Mallikarjun Kharge, while s...</td>\n",
       "      <td>['national']</td>\n",
       "      <td>2023-09-19</td>\n",
       "    </tr>\n",
       "    <tr>\n",
       "      <th>4</th>\n",
       "      <td>Ganesh temple decorated with notes, coins wort...</td>\n",
       "      <td>The Sri Sathya Ganapathi Temple in Bengaluru a...</td>\n",
       "      <td>['national']</td>\n",
       "      <td>2023-09-19</td>\n",
       "    </tr>\n",
       "    <tr>\n",
       "      <th>...</th>\n",
       "      <td>...</td>\n",
       "      <td>...</td>\n",
       "      <td>...</td>\n",
       "      <td>...</td>\n",
       "    </tr>\n",
       "    <tr>\n",
       "      <th>307690</th>\n",
       "      <td>Why is fruit-only diet not recommended?</td>\n",
       "      <td>As per Cleveland Clinic, fruit-only diet can b...</td>\n",
       "      <td>['EXPLAINERS', 'Health___Fitness']</td>\n",
       "      <td>2024-08-26</td>\n",
       "    </tr>\n",
       "    <tr>\n",
       "      <th>307691</th>\n",
       "      <td>Tamil Nadu to open 10,000 'CM's pharmacy store...</td>\n",
       "      <td>Tamil Nadu CM MK Stalin has announced that 'Ch...</td>\n",
       "      <td>['national', 'Health___Fitness']</td>\n",
       "      <td>2024-08-26</td>\n",
       "    </tr>\n",
       "    <tr>\n",
       "      <th>307693</th>\n",
       "      <td>Telangana CM says World Bank will help retire ...</td>\n",
       "      <td>Telangana CM Revanth Reddy said the World Bank...</td>\n",
       "      <td>['politics', 'Health___Fitness', 'national']</td>\n",
       "      <td>2024-08-26</td>\n",
       "    </tr>\n",
       "    <tr>\n",
       "      <th>307694</th>\n",
       "      <td>Dr Gagandeep Kang explores role of AI in vacci...</td>\n",
       "      <td>Dr Gagandeep Kang, a microbiologist and virolo...</td>\n",
       "      <td>['Health___Fitness', 'national']</td>\n",
       "      <td>2024-08-26</td>\n",
       "    </tr>\n",
       "    <tr>\n",
       "      <th>307695</th>\n",
       "      <td>Rise in dengue, malaria, gastro, H1N1 patients...</td>\n",
       "      <td>Mumbai has recorded more monsoon-related disea...</td>\n",
       "      <td>['national', 'Health___Fitness']</td>\n",
       "      <td>2024-08-26</td>\n",
       "    </tr>\n",
       "  </tbody>\n",
       "</table>\n",
       "<p>255649 rows × 4 columns</p>\n",
       "</div>"
      ],
      "text/plain": [
       "                                                 Headline  \\\n",
       "0       Congress leader Baljinder Singh shot dead at h...   \n",
       "1       17-year-old girl preparing for NEET dies by su...   \n",
       "2       Hampers to welcome MPs in new Parliament tomor...   \n",
       "3       Only 10% women lawmakers in RS, while only 14%...   \n",
       "4       Ganesh temple decorated with notes, coins wort...   \n",
       "...                                                   ...   \n",
       "307690            Why is fruit-only diet not recommended?   \n",
       "307691  Tamil Nadu to open 10,000 'CM's pharmacy store...   \n",
       "307693  Telangana CM says World Bank will help retire ...   \n",
       "307694  Dr Gagandeep Kang explores role of AI in vacci...   \n",
       "307695  Rise in dengue, malaria, gastro, H1N1 patients...   \n",
       "\n",
       "                                                  Content  \\\n",
       "0       Congress leader Baljinder Singh was shot dead ...   \n",
       "1       Another NEET aspirant died by suicide in Rajas...   \n",
       "2       In order to mark the first-ever working day of...   \n",
       "3       Congress President Mallikarjun Kharge, while s...   \n",
       "4       The Sri Sathya Ganapathi Temple in Bengaluru a...   \n",
       "...                                                   ...   \n",
       "307690  As per Cleveland Clinic, fruit-only diet can b...   \n",
       "307691  Tamil Nadu CM MK Stalin has announced that 'Ch...   \n",
       "307693  Telangana CM Revanth Reddy said the World Bank...   \n",
       "307694  Dr Gagandeep Kang, a microbiologist and virolo...   \n",
       "307695  Mumbai has recorded more monsoon-related disea...   \n",
       "\n",
       "                                     News Categories       Date  \n",
       "0                                       ['national'] 2023-09-19  \n",
       "1                                       ['national'] 2023-09-19  \n",
       "2                                       ['national'] 2023-09-19  \n",
       "3                                       ['national'] 2023-09-19  \n",
       "4                                       ['national'] 2023-09-19  \n",
       "...                                              ...        ...  \n",
       "307690            ['EXPLAINERS', 'Health___Fitness'] 2024-08-26  \n",
       "307691              ['national', 'Health___Fitness'] 2024-08-26  \n",
       "307693  ['politics', 'Health___Fitness', 'national'] 2024-08-26  \n",
       "307694              ['Health___Fitness', 'national'] 2024-08-26  \n",
       "307695              ['national', 'Health___Fitness'] 2024-08-26  \n",
       "\n",
       "[255649 rows x 4 columns]"
      ]
     },
     "execution_count": 16,
     "metadata": {},
     "output_type": "execute_result"
    }
   ],
   "source": [
    "DATA"
   ]
  },
  {
   "cell_type": "markdown",
   "id": "21b1dd7d",
   "metadata": {},
   "source": [
    "### 🕵🏻LET'S PERFORM NAMED ENTITY RECOGNITION ON Content"
   ]
  },
  {
   "cell_type": "code",
   "execution_count": null,
   "id": "8eb8d171",
   "metadata": {},
   "outputs": [],
   "source": [
    "python -m spacy download en_core_web_trf\n"
   ]
  },
  {
   "cell_type": "code",
   "execution_count": 19,
   "id": "855c3a74",
   "metadata": {},
   "outputs": [
    {
     "ename": "OSError",
     "evalue": "[E050] Can't find model 'en_core_web_trf'. It doesn't seem to be a Python package or a valid path to a data directory.",
     "output_type": "error",
     "traceback": [
      "\u001b[31m---------------------------------------------------------------------------\u001b[39m",
      "\u001b[31mOSError\u001b[39m                                   Traceback (most recent call last)",
      "\u001b[36mCell\u001b[39m\u001b[36m \u001b[39m\u001b[32mIn[19]\u001b[39m\u001b[32m, line 2\u001b[39m\n\u001b[32m      1\u001b[39m \u001b[38;5;28;01mimport\u001b[39;00m\u001b[38;5;250m \u001b[39m\u001b[34;01mspacy\u001b[39;00m\n\u001b[32m----> \u001b[39m\u001b[32m2\u001b[39m NER = \u001b[43mspacy\u001b[49m\u001b[43m.\u001b[49m\u001b[43mload\u001b[49m\u001b[43m(\u001b[49m\u001b[33;43m\"\u001b[39;49m\u001b[33;43men_core_web_trf\u001b[39;49m\u001b[33;43m\"\u001b[39;49m\u001b[43m)\u001b[49m\n",
      "\u001b[36mFile \u001b[39m\u001b[32mc:\\Users\\Nagesh Agrawal\\anaconda3\\envs\\enveNER\\Lib\\site-packages\\spacy\\__init__.py:52\u001b[39m, in \u001b[36mload\u001b[39m\u001b[34m(name, vocab, disable, enable, exclude, config)\u001b[39m\n\u001b[32m     28\u001b[39m \u001b[38;5;28;01mdef\u001b[39;00m\u001b[38;5;250m \u001b[39m\u001b[34mload\u001b[39m(\n\u001b[32m     29\u001b[39m     name: Union[\u001b[38;5;28mstr\u001b[39m, Path],\n\u001b[32m     30\u001b[39m     *,\n\u001b[32m   (...)\u001b[39m\u001b[32m     35\u001b[39m     config: Union[Dict[\u001b[38;5;28mstr\u001b[39m, Any], Config] = util.SimpleFrozenDict(),\n\u001b[32m     36\u001b[39m ) -> Language:\n\u001b[32m     37\u001b[39m \u001b[38;5;250m    \u001b[39m\u001b[33;03m\"\"\"Load a spaCy model from an installed package or a local path.\u001b[39;00m\n\u001b[32m     38\u001b[39m \n\u001b[32m     39\u001b[39m \u001b[33;03m    name (str): Package name or model path.\u001b[39;00m\n\u001b[32m   (...)\u001b[39m\u001b[32m     50\u001b[39m \u001b[33;03m    RETURNS (Language): The loaded nlp object.\u001b[39;00m\n\u001b[32m     51\u001b[39m \u001b[33;03m    \"\"\"\u001b[39;00m\n\u001b[32m---> \u001b[39m\u001b[32m52\u001b[39m     \u001b[38;5;28;01mreturn\u001b[39;00m \u001b[43mutil\u001b[49m\u001b[43m.\u001b[49m\u001b[43mload_model\u001b[49m\u001b[43m(\u001b[49m\n\u001b[32m     53\u001b[39m \u001b[43m        \u001b[49m\u001b[43mname\u001b[49m\u001b[43m,\u001b[49m\n\u001b[32m     54\u001b[39m \u001b[43m        \u001b[49m\u001b[43mvocab\u001b[49m\u001b[43m=\u001b[49m\u001b[43mvocab\u001b[49m\u001b[43m,\u001b[49m\n\u001b[32m     55\u001b[39m \u001b[43m        \u001b[49m\u001b[43mdisable\u001b[49m\u001b[43m=\u001b[49m\u001b[43mdisable\u001b[49m\u001b[43m,\u001b[49m\n\u001b[32m     56\u001b[39m \u001b[43m        \u001b[49m\u001b[43menable\u001b[49m\u001b[43m=\u001b[49m\u001b[43menable\u001b[49m\u001b[43m,\u001b[49m\n\u001b[32m     57\u001b[39m \u001b[43m        \u001b[49m\u001b[43mexclude\u001b[49m\u001b[43m=\u001b[49m\u001b[43mexclude\u001b[49m\u001b[43m,\u001b[49m\n\u001b[32m     58\u001b[39m \u001b[43m        \u001b[49m\u001b[43mconfig\u001b[49m\u001b[43m=\u001b[49m\u001b[43mconfig\u001b[49m\u001b[43m,\u001b[49m\n\u001b[32m     59\u001b[39m \u001b[43m    \u001b[49m\u001b[43m)\u001b[49m\n",
      "\u001b[36mFile \u001b[39m\u001b[32mc:\\Users\\Nagesh Agrawal\\anaconda3\\envs\\enveNER\\Lib\\site-packages\\spacy\\util.py:484\u001b[39m, in \u001b[36mload_model\u001b[39m\u001b[34m(name, vocab, disable, enable, exclude, config)\u001b[39m\n\u001b[32m    482\u001b[39m \u001b[38;5;28;01mif\u001b[39;00m name \u001b[38;5;129;01min\u001b[39;00m OLD_MODEL_SHORTCUTS:\n\u001b[32m    483\u001b[39m     \u001b[38;5;28;01mraise\u001b[39;00m \u001b[38;5;167;01mIOError\u001b[39;00m(Errors.E941.format(name=name, full=OLD_MODEL_SHORTCUTS[name]))  \u001b[38;5;66;03m# type: ignore[index]\u001b[39;00m\n\u001b[32m--> \u001b[39m\u001b[32m484\u001b[39m \u001b[38;5;28;01mraise\u001b[39;00m \u001b[38;5;167;01mIOError\u001b[39;00m(Errors.E050.format(name=name))\n",
      "\u001b[31mOSError\u001b[39m: [E050] Can't find model 'en_core_web_trf'. It doesn't seem to be a Python package or a valid path to a data directory."
     ]
    }
   ],
   "source": [
    "import spacy\n",
    "NER = spacy.load(\"en_core_web_trf\")"
   ]
  },
  {
   "cell_type": "code",
   "execution_count": null,
   "id": "d4f8aa21",
   "metadata": {},
   "outputs": [],
   "source": []
  }
 ],
 "metadata": {
  "kernelspec": {
   "display_name": "enveNER",
   "language": "python",
   "name": "python3"
  },
  "language_info": {
   "codemirror_mode": {
    "name": "ipython",
    "version": 3
   },
   "file_extension": ".py",
   "mimetype": "text/x-python",
   "name": "python",
   "nbconvert_exporter": "python",
   "pygments_lexer": "ipython3",
   "version": "3.11.9"
  }
 },
 "nbformat": 4,
 "nbformat_minor": 5
}
