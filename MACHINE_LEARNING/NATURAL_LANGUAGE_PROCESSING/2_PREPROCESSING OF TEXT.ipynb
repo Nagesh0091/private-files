{
 "cells": [
  {
   "cell_type": "markdown",
   "id": "5a6dee2e",
   "metadata": {},
   "source": [
    "| Tool             | Best For             | Level    | Speed   | Accuracy                   |\n",
    "| ---------------- | -------------------- | -------- | ------- | -------------------------- |\n",
    "| **NLTK**         | Learning NLP basics  | Beginner | 🐢 Slow | 🎯 Medium                  |\n",
    "| **TextBlob**     | Quick NLP tasks      | Beginner | 🐢      | 🎯 Medium                  |\n",
    "| **spaCy**        | Fast real-world NLP  | Pro      | ⚡       | ✅ High                     |\n",
    "| **Transformers** | Deep Learning models | Advanced | ⚡       | 🎯 SOTA (State of the Art) |\n"
   ]
  },
  {
   "cell_type": "code",
   "execution_count": 1,
   "id": "2691fcb9",
   "metadata": {},
   "outputs": [
    {
     "name": "stdout",
     "output_type": "stream",
     "text": [
      "Requirement already satisfied: nltk in c:\\users\\nagesh agrawal\\anaconda3\\lib\\site-packages (3.9.1)\n",
      "Requirement already satisfied: click in c:\\users\\nagesh agrawal\\anaconda3\\lib\\site-packages (from nltk) (8.1.7)\n",
      "Requirement already satisfied: joblib in c:\\users\\nagesh agrawal\\anaconda3\\lib\\site-packages (from nltk) (1.4.2)\n",
      "Requirement already satisfied: regex>=2021.8.3 in c:\\users\\nagesh agrawal\\anaconda3\\lib\\site-packages (from nltk) (2024.9.11)\n",
      "Requirement already satisfied: tqdm in c:\\users\\nagesh agrawal\\anaconda3\\lib\\site-packages (from nltk) (4.66.5)\n",
      "Requirement already satisfied: colorama in c:\\users\\nagesh agrawal\\anaconda3\\lib\\site-packages (from click->nltk) (0.4.6)\n"
     ]
    }
   ],
   "source": [
    "! pip install nltk\n"
   ]
  },
  {
   "cell_type": "code",
   "execution_count": 5,
   "id": "fe584d39",
   "metadata": {},
   "outputs": [
    {
     "name": "stderr",
     "output_type": "stream",
     "text": [
      "[nltk_data] Downloading package punkt to C:\\Users\\Nagesh\n",
      "[nltk_data]     Agrawal\\AppData\\Roaming\\nltk_data...\n",
      "[nltk_data]   Package punkt is already up-to-date!\n",
      "[nltk_data] Downloading package stopwords to C:\\Users\\Nagesh\n",
      "[nltk_data]     Agrawal\\AppData\\Roaming\\nltk_data...\n",
      "[nltk_data]   Package stopwords is already up-to-date!\n",
      "[nltk_data] Downloading package wordnet to C:\\Users\\Nagesh\n",
      "[nltk_data]     Agrawal\\AppData\\Roaming\\nltk_data...\n",
      "[nltk_data]   Package wordnet is already up-to-date!\n"
     ]
    },
    {
     "data": {
      "text/plain": [
       "['ujwal', 'year', 'old', ':', 'enraged_face', ':']"
      ]
     },
     "execution_count": 5,
     "metadata": {},
     "output_type": "execute_result"
    }
   ],
   "source": [
    "text=\"i am Ujwal  21 year old!?.. 😡\"\n",
    "text=text.lower()\n",
    "import re\n",
    "text= re.sub(r\"\\s+\",\" \",text).strip()\n",
    "text=re.sub(r\"\\d+\",\" \",text)\n",
    "import string\n",
    "text= text.translate(str.maketrans(\"\",\"\",string.punctuation))\n",
    "import emoji\n",
    "text=emoji.demojize(text)\n",
    "\n",
    "import nltk\n",
    "from nltk.tokenize import word_tokenize\n",
    "nltk.download(\"punkt\")\n",
    "tokens=word_tokenize(text)\n",
    "tokens\n",
    "\n",
    "from nltk.corpus import stopwords\n",
    "stop_words=stopwords.words(\"english\")\n",
    "nltk.download(\"stopwords\")\n",
    "filtered_tokens=[word for word in tokens if word not in stop_words]\n",
    "filtered_tokens\n",
    "\n",
    "from nltk.stem import WordNetLemmatizer\n",
    "nltk.download(\"wordnet\")\n",
    "words=WordNetLemmatizer()\n",
    "lemmatized_tokens=[words.lemmatize(word) for word in filtered_tokens]\n",
    "lemmatized_tokens"
   ]
  },
  {
   "cell_type": "code",
   "execution_count": 3,
   "id": "8563ad67",
   "metadata": {},
   "outputs": [],
   "source": [
    "from sklearn.feature_extraction.text import CountVectorizer, TfidfVectorizer\n"
   ]
  }
 ],
 "metadata": {
  "kernelspec": {
   "display_name": "base",
   "language": "python",
   "name": "python3"
  },
  "language_info": {
   "codemirror_mode": {
    "name": "ipython",
    "version": 3
   },
   "file_extension": ".py",
   "mimetype": "text/x-python",
   "name": "python",
   "nbconvert_exporter": "python",
   "pygments_lexer": "ipython3",
   "version": "3.12.7"
  }
 },
 "nbformat": 4,
 "nbformat_minor": 5
}
