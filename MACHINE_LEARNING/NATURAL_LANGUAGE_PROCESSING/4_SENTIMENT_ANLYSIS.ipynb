{
 "cells": [
  {
   "cell_type": "markdown",
   "id": "017d0029",
   "metadata": {},
   "source": [
    "# 📘 **Sentiment Analysis Algorithm**\n",
    "\n",
    "**Definition:**\n",
    "Sentiment Analysis is a method that uses **NLP (Natural Language Processing)** and **machine learning** to figure out whether a piece of text expresses a **positive 😊, negative 😠, or neutral 😐** feeling.\n",
    "\n",
    "---\n",
    "\n",
    "\n",
    "\n",
    "## 🔍 **What it Does**\n",
    "\n",
    "* Detects emotions or opinions in text\n",
    "* Used on reviews, tweets, comments, feedback, etc.\n",
    "\n",
    "\n",
    "\n",
    "## 🧠 **How it Works**\n",
    "\n",
    "## 🧹 **1. Text Preprocessing**\n",
    "\n",
    "* Remove punctuation, stopwords, emojis\n",
    "* Tokenize ➗ words\n",
    "* Lemmatize or stem them\n",
    "\n",
    "\n",
    "\n",
    "## 🧾 **2. Feature Extraction**\n",
    "\n",
    "Turn words into numbers using:\n",
    "\n",
    "* **Bag of Words** 👜\n",
    "* **TF-IDF** 📊\n",
    "* **Word Embeddings** 🌐 (e.g., Word2Vec, GloVe)\n",
    "\n",
    "\n",
    "\n",
    "## 🤖 **3. Algorithms**\n",
    "\n",
    "Used to classify the sentiment:\n",
    "\n",
    "* **Logistic Regression** 📈\n",
    "* **Naive Bayes** 🤓\n",
    "* **SVM (Support Vector Machine)** 💻\n",
    "* **Deep Learning models**: LSTM, GRU, BERT 🧠\n",
    "\n",
    "\n",
    "\n",
    "## 🧰 **Popular Tools & Libraries** (💯 Easy & Effective)\n",
    "\n",
    "## 🧸 **TextBlob**\n",
    "\n",
    "* Built on NLTK\n",
    "* Gives:\n",
    "\n",
    "  * **Polarity**: from −1 (negative) to +1 (positive)\n",
    "  * **Subjectivity**: 0 to 1 (objective to subjective)\n",
    "* Very beginner-friendly\n",
    "\n",
    "## 🚀 **VADER (Valence Aware Dictionary and sEntiment Reasoner)**\n",
    "\n",
    "* Designed for **social media text** (slang, emojis, all caps)\n",
    "* Returns:\n",
    "\n",
    "  * **Positive**, **Negative**, **Neutral**, and **Compound Score**\n",
    "* Comes with **NLTK**\n",
    "\n",
    "\n",
    "\n",
    "## 🛠️ **Applications**\n",
    "\n",
    "* 📱 Social Media Monitoring\n",
    "* 🛍️ Product Review Analysis\n",
    "* 📰 Public Opinion Tracking\n",
    "* 📞 Customer Support Feedback\n",
    "* 💬 Chatbot Emotion Detection\n",
    "\n"
   ]
  },
  {
   "cell_type": "markdown",
   "id": "67e0bb5a",
   "metadata": {},
   "source": [
    "\n",
    "---\n",
    "\n",
    "# 📘 What is Sentiment Recognition?\n",
    "\n",
    "**Sentiment Recognition** is the process where a computer system **detects and understands the emotion or sentiment** behind a piece of text. It tells us if the text is:\n",
    "\n",
    "* Positive 😊\n",
    "* Negative 😠\n",
    "* Neutral 😐\n",
    "* Or even more specific feelings like happy, sad, angry, surprised, etc.\n",
    "\n",
    "\n",
    "\n",
    "## 🔍 How Sentiment Recognition Works\n",
    "\n",
    "1. **Text Cleaning** 🧹\n",
    "   Remove noise like punctuation, emojis (sometimes), and stopwords.\n",
    "\n",
    "2. **Feature Extraction** 🧾\n",
    "   Convert text into numbers using methods like Bag of Words, TF-IDF, or word embeddings.\n",
    "\n",
    "3. **Modeling** 🤖\n",
    "   Use algorithms or pretrained models to classify the sentiment.\n",
    "\n",
    "\n",
    "\n",
    "## 🧰 Tools & Libraries for Sentiment Recognition\n",
    "\n",
    "* **VADER** 🚀\n",
    "  Great for social media text, quick and easy to use, no training needed.\n",
    "\n",
    "* **TextBlob** 🧸\n",
    "  Simple polarity and subjectivity scores, beginner-friendly.\n",
    "\n",
    "* **Pretrained Deep Learning Models** 🧠\n",
    "  Models like BERT can recognize complex emotions with better accuracy.\n",
    "\n",
    "\n",
    "\n",
    "## ✅ When to Use Sentiment Recognition\n",
    "\n",
    "* Social media monitoring 📱\n",
    "* Customer feedback analysis 🛍️\n",
    "* Chatbot emotion understanding 🤖\n",
    "* Market research and brand reputation 📊\n",
    "\n",
    "\n",
    "\n",
    "## ⚠️ Important Tips\n",
    "\n",
    "* Prebuilt tools (VADER, TextBlob) are fast and easy but work best on general text.\n",
    "* For **domain-specific** or **fine-grained emotions**, training your own model or fine-tuning pretrained models is better.\n",
    "\n",
    "\n"
   ]
  },
  {
   "cell_type": "markdown",
   "id": "7da68bb0",
   "metadata": {},
   "source": [
    "\n",
    "---\n",
    "\n",
    "# 📝 Notes on Sentiment Recognition without Labeled Data\n",
    "\n",
    "---\n",
    "\n",
    "# 1️⃣ When You Have No Labeled Sentiment Data\n",
    "\n",
    "You **cannot directly train** a supervised sentiment model without labeled classes (positive/negative/neutral). Here are ways to handle this:\n",
    "\n",
    "## 🔹 Manual Labeling / Annotation 📝\n",
    "\n",
    "* Label a **subset** of your data manually.\n",
    "* Use this subset for training your model.\n",
    "* Time-consuming but gives **high-quality data**.\n",
    "\n",
    "\n",
    "\n",
    "## 🔹 Unsupervised or Semi-Supervised Methods 🔍\n",
    "\n",
    "**a) Unsupervised Learning**\n",
    "\n",
    "* Use clustering algorithms like K-Means to group similar texts.\n",
    "* Interpret clusters as sentiment groups (no explicit labels needed).\n",
    "\n",
    "**b) Semi-Supervised Learning**\n",
    "\n",
    "* Start with a small labeled set (from manual labeling or weak labeling).\n",
    "* Train a model, predict on unlabeled data, and iteratively improve.\n",
    "\n",
    "\n",
    "\n",
    "## 🔹 Weak Supervision / Distant Supervision 🤖\n",
    "\n",
    "* Use **rules, heuristics, or lexicons** to assign automatic (noisy) sentiment labels.\n",
    "* Labels may be imperfect but enough to train a simple model.\n",
    "\n",
    "\n",
    "\n",
    "## 🔹 Transfer Learning with Pretrained Models 🧠\n",
    "\n",
    "* Use models like BERT, trained on large text corpora.\n",
    "* Fine-tune on small labeled data (which you may label yourself).\n",
    "* Reduces the need for large labeled datasets.\n",
    "\n",
    "\n",
    "\n",
    "# 2️⃣ Rule-Based Sentiment Labeling (Lexicon Approach) 📚\n",
    "\n",
    "## How it works:\n",
    "\n",
    "* Use a **sentiment lexicon**: a dictionary of words with sentiment scores.\n",
    "* Scan text for these words, sum their scores.\n",
    "* Assign sentiment based on total score (positive, negative, neutral).\n",
    "\n",
    "\n",
    "\n",
    "## Example Lexicon\n",
    "\n",
    "| Word     | Sentiment Score |\n",
    "| -------- | --------------- |\n",
    "| happy    | +1              |\n",
    "| good     | +1              |\n",
    "| bad      | -1              |\n",
    "| terrible | -2              |\n",
    "\n",
    "\n",
    "\n",
    "## Pros 👍\n",
    "\n",
    "* No need for labeled data!\n",
    "* Simple and interpretable.\n",
    "* Useful when you know the domain vocabulary.\n",
    "\n",
    "## Cons 👎\n",
    "\n",
    "* Doesn’t capture context, sarcasm, or complex sentiments.\n",
    "* Less accurate than ML models.\n",
    "* Misses sentiment if words not in lexicon.\n",
    "\n",
    "\n",
    "\n",
    "## Simple Python Example:\n",
    "\n",
    "```python\n",
    "# Sentiment lexicon dictionary\n",
    "sentiment_lexicon = {\n",
    "    \"happy\": 1,\n",
    "    \"good\": 1,\n",
    "    \"bad\": -1,\n",
    "    \"terrible\": -2,\n",
    "    # Add more words as needed\n",
    "}\n",
    "\n",
    "def assign_sentiment(text):\n",
    "    words = text.lower().split()\n",
    "    score = sum(sentiment_lexicon.get(word, 0) for word in words)\n",
    "    if score > 0:\n",
    "        return \"Positive 😊\"\n",
    "    elif score < 0:\n",
    "        return \"Negative 😠\"\n",
    "    else:\n",
    "        return \"Neutral 😐\"\n",
    "\n",
    "# Example Usage\n",
    "print(assign_sentiment(\"I am happy and good today\"))      # Positive 😊\n",
    "print(assign_sentiment(\"This is a terrible and bad day\")) # Negative 😠\n",
    "```\n",
    "\n",
    "\n",
    "\n",
    "# 3️⃣ Summary Table for No-Label Scenarios\n",
    "\n",
    "| Situation                              | Recommended Approach                     |\n",
    "| -------------------------------------- | ---------------------------------------- |\n",
    "| No labeled data, want sentiment        | Manual labeling or weak supervision      |\n",
    "| Want to find patterns without labels   | Unsupervised clustering                  |\n",
    "| Small labeled set available            | Semi-supervised learning + fine-tuning   |\n",
    "| Want high accuracy with minimal labels | Transfer learning with pretrained models |\n",
    "\n",
    "\n"
   ]
  },
  {
   "cell_type": "markdown",
   "id": "41da89b0",
   "metadata": {},
   "source": [
    "\n",
    "---\n",
    "\n",
    "# Rule-Based Sentiment Assignment Using Word Lists\n",
    "\n",
    "## Concept:\n",
    "\n",
    "* Prepare **3 lists**: `positive_words`, `negative_words`, `neutral_words`\n",
    "* For each review (sentence/text), count how many words from each list appear.\n",
    "* Assign sentiment based on the highest count category.\n",
    "\n",
    "\n",
    "\n",
    "## Example Python code:\n",
    "\n",
    "```python\n",
    "# Define word lists\n",
    "positive_words = [\"good\", \"happy\", \"excellent\", \"love\", \"great\", \"awesome\"]\n",
    "negative_words = [\"bad\", \"terrible\", \"hate\", \"poor\", \"awful\", \"worst\"]\n",
    "neutral_words = [\"okay\", \"fine\", \"average\", \"normal\", \"mediocre\"]\n",
    "\n",
    "def assign_sentiment(review):\n",
    "    words = review.lower().split()\n",
    "    \n",
    "    # Count matches for each sentiment list\n",
    "    pos_count = sum(word in positive_words for word in words)\n",
    "    neg_count = sum(word in negative_words for word in words)\n",
    "    neu_count = sum(word in neutral_words for word in words)\n",
    "    \n",
    "    # Determine the sentiment based on max count\n",
    "    if pos_count > neg_count and pos_count > neu_count:\n",
    "        return \"Positive 😊\"\n",
    "    elif neg_count > pos_count and neg_count > neu_count:\n",
    "        return \"Negative 😠\"\n",
    "    elif neu_count > pos_count and neu_count > neg_count:\n",
    "        return \"Neutral 😐\"\n",
    "    else:\n",
    "        return \"Mixed / Uncertain 🤔\"\n",
    "\n",
    "```\n",
    "\n",
    "\n",
    "## Explanation:\n",
    "\n",
    "* You scan each review’s words against your three lists.\n",
    "* Whichever list has the highest word count \"wins\" and sets the sentiment.\n",
    "* If there's a tie or no clear majority, you assign **Mixed / Uncertain**.\n",
    "\n",
    "\n",
    "\n",
    "## Advantages\n",
    "\n",
    "* Easy to customize word lists for your specific domain (e.g., Amazon reviews).\n",
    "* No training data needed.\n",
    "* Transparent and explainable.\n",
    "\n",
    "\n",
    "## Limitations\n",
    "\n",
    "* Context or negation (e.g., \"not good\") isn’t handled.\n",
    "* May miss nuances or sarcasm.\n",
    "* Limited vocabulary coverage unless your lists are big and well-curated.\n",
    "\n"
   ]
  },
  {
   "cell_type": "code",
   "execution_count": 34,
   "id": "41291af6",
   "metadata": {},
   "outputs": [
    {
     "data": {
      "application/vnd.microsoft.datawrangler.viewer.v0+json": {
       "columns": [
        {
         "name": "index",
         "rawType": "int64",
         "type": "integer"
        },
        {
         "name": "label",
         "rawType": "object",
         "type": "string"
        },
        {
         "name": "text",
         "rawType": "object",
         "type": "string"
        }
       ],
       "ref": "1cf0171b-8f63-4a50-93e8-1bb01101b5e2",
       "rows": [
        [
         "0",
         "__label__2",
         "Stuning even for the non-gamer: This sound track was beautiful! It paints the senery in your mind so well I would recomend it even to people who hate vid. game music! I have played the game Chrono Cross but out of all of the games I have ever played it has the best music! It backs away from crude keyboarding and takes a fresher step with grate guitars and soulful orchestras. It would impress anyone who cares to listen! ^_^"
        ],
        [
         "1",
         "__label__2",
         "The best soundtrack ever to anything.: I'm reading a lot of reviews saying that this is the best 'game soundtrack' and I figured that I'd write a review to disagree a bit. This in my opinino is Yasunori Mitsuda's ultimate masterpiece. The music is timeless and I'm been listening to it for years now and its beauty simply refuses to fade.The price tag on this is pretty staggering I must say, but if you are going to buy any cd for this much money, this is the only one that I feel would be worth every penny."
        ],
        [
         "2",
         "__label__2",
         "Amazing!: This soundtrack is my favorite music of all time, hands down. The intense sadness of \"Prisoners of Fate\" (which means all the more if you've played the game) and the hope in \"A Distant Promise\" and \"Girl who Stole the Star\" have been an important inspiration to me personally throughout my teen years. The higher energy tracks like \"Chrono Cross ~ Time's Scar~\", \"Time of the Dreamwatch\", and \"Chronomantique\" (indefinably remeniscent of Chrono Trigger) are all absolutely superb as well.This soundtrack is amazing music, probably the best of this composer's work (I haven't heard the Xenogears soundtrack, so I can't say for sure), and even if you've never played the game, it would be worth twice the price to buy it.I wish I could give it 6 stars."
        ],
        [
         "3",
         "__label__2",
         "Excellent Soundtrack: I truly like this soundtrack and I enjoy video game music. I have played this game and most of the music on here I enjoy and it's truly relaxing and peaceful.On disk one. my favorites are Scars Of Time, Between Life and Death, Forest Of Illusion, Fortress of Ancient Dragons, Lost Fragment, and Drowned Valley.Disk Two: The Draggons, Galdorb - Home, Chronomantique, Prisoners of Fate, Gale, and my girlfriend likes ZelbessDisk Three: The best of the three. Garden Of God, Chronopolis, Fates, Jellyfish sea, Burning Orphange, Dragon's Prayer, Tower Of Stars, Dragon God, and Radical Dreamers - Unstealable Jewel.Overall, this is a excellent soundtrack and should be brought by those that like video game music.Xander Cross"
        ],
        [
         "4",
         "__label__2",
         "Remember, Pull Your Jaw Off The Floor After Hearing it: If you've played the game, you know how divine the music is! Every single song tells a story of the game, it's that good! The greatest songs are without a doubt, Chrono Cross: Time's Scar, Magical Dreamers: The Wind, The Stars, and the Sea and Radical Dreamers: Unstolen Jewel. (Translation varies) This music is perfect if you ask me, the best it can be. Yasunori Mitsuda just poured his heart on and wrote it down on paper."
        ],
        [
         "5",
         "__label__2",
         "an absolute masterpiece: I am quite sure any of you actually taking the time to read this have played the game at least once, and heard at least a few of the tracks here. And whether you were aware of it or not, Mitsuda's music contributed greatly to the mood of every single minute of the whole game.Composed of 3 CDs and quite a few songs (I haven't an exact count), all of which are heart-rendering and impressively remarkable, this soundtrack is one I assure you you will not forget. It has everything for every listener -- from fast-paced and energetic (Dancing the Tokage or Termina Home), to slower and more haunting (Dragon God), to purely beautifully composed (Time's Scar), to even some fantastic vocals (Radical Dreamers).This is one of the best videogame soundtracks out there, and surely Mitsuda's best ever. ^_^"
        ],
        [
         "6",
         "__label__1",
         "Buyer beware: This is a self-published book, and if you want to know why--read a few paragraphs! Those 5 star reviews must have been written by Ms. Haddon's family and friends--or perhaps, by herself! I can't imagine anyone reading the whole thing--I spent an evening with the book and a friend and we were in hysterics reading bits and pieces of it to one another. It is most definitely bad enough to be entered into some kind of a \"worst book\" contest. I can't believe Amazon even sells this kind of thing. Maybe I can offer them my 8th grade term paper on \"To Kill a Mockingbird\"--a book I am quite sure Ms. Haddon never heard of. Anyway, unless you are in a mood to send a book to someone as a joke---stay far, far away from this one!"
        ],
        [
         "7",
         "__label__2",
         "Glorious story: I loved Whisper of the wicked saints. The story was amazing and I was pleasantly surprised at the changes in the book. I am not normaly someone who is into romance novels, but the world was raving about this book and so I bought it. I loved it !! This is a brilliant story because it is so true. This book was so wonderful that I have told all of my friends to read it. It is not a typical romance, it is so much more. Not reading this book is a crime, becuase you are missing out on a heart warming story."
        ],
        [
         "8",
         "__label__2",
         "A FIVE STAR BOOK: I just finished reading Whisper of the Wicked saints. I fell in love with the caracters. I expected an average romance read, but instead I found one of my favorite books of all time. Just when I thought I could predict the outcome I was shocked ! The writting was so descriptive that my heart broke when Julia's did and I felt as if I was there with them instead of just a distant reader. If you are a lover of romance novels then this is a must read. Don't let the cover fool you this book is spectacular!"
        ],
        [
         "9",
         "__label__2",
         "Whispers of the Wicked Saints: This was a easy to read book that made me want to keep reading on and on, not easy to put down.It left me wanting to read the follow on, which I hope is coming soon. I used to read a lot but have gotten away from it. This book made me want to read again. Very enjoyable."
        ],
        [
         "10",
         "__label__1",
         "The Worst!: A complete waste of time. Typographical errors, poor grammar, and a totally pathetic plot add up to absolutely nothing. I'm embarrassed for this author and very disappointed I actually paid for this book."
        ],
        [
         "11",
         "__label__2",
         "Great book: This was a great book,I just could not put it down,and could not read it fast enough. Boy what a book the twist and turns in this just keeps you guessing and wanting to know what is going to happen next. This book makes you fall in love and can heat you up,it can also make you so angery. this book can make you go throu several of your emotions. This is a quick read romance. It is something that you will want to end your day off with if you read at night."
        ],
        [
         "12",
         "__label__2",
         "Great Read: I thought this book was brilliant, but yet realistic. It showed me that to error is human. I loved the fact that this writer showed the loving side of God and not the revengeful side of him. I loved how it twisted and turned and I could not put it down. I also loved The glass castle."
        ],
        [
         "13",
         "__label__1",
         "Oh please: I guess you have to be a romance novel lover for this one, and not a very discerning one. All others beware! It is absolute drivel. I figured I was in trouble when a typo is prominently featured on the back cover, but the first page of the book removed all doubt. Wait - maybe I'm missing the point. A quick re-read of the beginning now makes it clear. This has to be an intentional churning of over-heated prose for satiric purposes. Phew, so glad I didn't waste $10.95 after all."
        ],
        [
         "14",
         "__label__1",
         "Awful beyond belief!: I feel I have to write to keep others from wasting their money. This book seems to have been written by a 7th grader with poor grammatical skills for her age! As another reviewer points out, there is a misspelling on the cover, and I believe there is at least one per chapter. For example, it was mentioned twice that she had a \"lean\" on her house. I was so distracted by the poor writing and weak plot, that I decided to read with a pencil in hand to mark all of the horrible grammar and spelling. Please don't waste your money. I too, believe that the good reviews must have been written by the author's relatives. I will not put much faith in the reviews from now on!"
        ],
        [
         "15",
         "__label__1",
         "Don't try to fool us with fake reviews.: It's glaringly obvious that all of the glowing reviews have been written by the same person, perhaps the author herself. They all have the same misspellings and poor sentence structure that is featured in the book. Who made Veronica Haddon think she is an author?"
        ],
        [
         "16",
         "__label__2",
         "A romantic zen baseball comedy: When you hear folks say that they don't make 'em like that anymore, they might be talking about \"BY THE SEA\". This is a very cool story about a young Cuban girl searching for idenity who stumbles into a coastal resort kitchen gig with a zen motorcycle maintenance man, three hysterical Italian chefs and a Latino fireballing right handed pitcher who plays on the team sponsored by the resort's owner. As is often the case she 'finds' herself through honest, often comical but always emotional, interaction with this sizzling roster of players. With the perfect mix of special effects, that salsa sound and flashbacks, BY THE SEA, gets 4 BIG stars from me!"
        ],
        [
         "17",
         "__label__2",
         "Fashionable Compression Stockings!: After I had a DVT my doctor required me to wear compression stockings. I wore ugly white TED hose and yucky thick brown stockings. Then I found Jobst UltraSheer. They gave me the compression I needed (15-20,) but looked like regular pantyhose. Even though my blood clot has been gone for 4 years, I still buy these to wear as support stockings because they make my legs feel so nice.**Note, I have problems with the rubberized tops rolling down my thigh. I tried the Jobst adhesive, but I hated having my skin pulled all day. I bought an inexpensive garter belt and it works fine and helps keep the stockings from rolling."
        ],
        [
         "18",
         "__label__2",
         "Jobst UltraSheer Thigh High: Excellent product. However, they are very difficult to get on for older people. I feel like I've had a full day workout after getting them on. Also, as the day wears on, they begin to roll down from the top and create a very deep ridge in the skin. I have to wear them, so if those two difficulties could be addressed it would be such a help."
        ],
        [
         "19",
         "__label__1",
         "sizes recomended in the size chart are not real: sizes are much smaller than what is recomended in the chart. I tried to put it and sheer it!. I guess you should not buy this item in the internet..it is better to go to the store and check it"
        ],
        [
         "20",
         "__label__1",
         "mens ultrasheer: This model may be ok for sedentary types, but I'm active and get around alot in my job - consistently found these stockings rolled up down by my ankles! Not Good!! Solution: go with the standard compression stocking, 20-30, stock #114622. Excellent support, stays up and gives me what I need. Both pair of these also tore as I struggled to pull them up all the time. Good riddance/bad investment!"
        ],
        [
         "21",
         "__label__2",
         "Delicious cookie mix: I thought it was funny that I bought this product without knowing it was a mix. I read the header very quickly and just thought it was packaged cookies. But no, it is cookie MIX and I guess I should have noticed that since it is right in the title.This is the first time I have ever tried baking with a cookie mix. If you are used to the convenience of the cookie dough that you buy wrapped up in plastic logs then you might be in for a bit of a surprise. Mixing up the dough can get VERY messy (it is extremely sticky). However, with a cookie mix like this you have a lot of flexibility in the ratio of ingredients (I like to add some extra butter to make the baked cookies more chewy). Also, this mix has really large chocolate chips in it--I love that.I removed a star for the addition of 'natural flavors' in the mix."
        ],
        [
         "22",
         "__label__1",
         "Another Abysmal Digital Copy: Rather than scratches and insect droppings, this one has random pixelations combined with muddy light and vague image resolution. Probably the cue should have been the packaging is straight out of your street corner bootleg dealer.If you've ever seen a reasonably good condition film copy, you know the defining visuals of his film are the crystal clear lighting contrasts in black and white. The surrounding countryside and 'old home' scenes are set with early morning ground mists or the haze of memory while the events on the bridge and in the water are bright, clear, and immediate.Here everything is dull, dark, and clouded. Or, if you remember the timbre and enunciation of Captain's commands, so are the visuals.After that, it is hard to believe this award winning, critically acclaimed film's best presentation is on YOUTUBE. Somewhere \"out there\" is a DVD that comes up to the standard of a 16mm public library reel.Just none of them appear to be on Amazon."
        ],
        [
         "23",
         "__label__2",
         "A fascinating insight into the life of modern Japanese teens: I thoroughly enjoyed Rising Sons and Daughters. I don't know of any other book that looks at Japanese society from the point of view of its young people poised as they are between their parents' age-old Japanese culture of restraint and obedience to the will of the community, and their peers' adulation of Western culture. True to form, the \"New Young\" of Japan seem to be creating an \"international\" blend, as the Ando family demonstrates in this beautifully written book of vignettes of the private lives of members of this family. Steven Wardell is clearly a talented young author, adopted for some of his schooling into this family of four teens, and thus able to view family life in Japan from the inside out. A great read!"
        ],
        [
         "24",
         "__label__2",
         "i liked this album more then i thought i would: I heard a song or two and thought same o same o,but when i listened to songs like \"blue angel\",\"lanna\" and 'mama\" the hair just rose off my neck.Roy is trully an amazing singer with a talent you don't find much now days."
        ],
        [
         "25",
         "__label__1",
         "Problem with charging smaller AAAs: I have had the charger for more than two years. It charges AA batteries just fine, but has a huge problem securing smaller AAA batteries. To charge the smaller batteries you need to flip down the little button at the positive end. In the beginning one of the four AAA batteries would pop up, and now three out of the four won't hold. The problem is the flip mechanism became loose, and any horizontal pressure would push the buttons back up. What I have to do now is using duct tape and a segment of crayon, apply the crayon on the buttons, and wrap the tape around. You know how painful that is."
        ],
        [
         "26",
         "__label__1",
         "Works, but not as advertised: I bought one of these chargers..the instructions say the lights stay on while the battery charges...true. The instructions doNT say the lights turn off when its done. Which is also true. 24 hours of charging and the lights stay on. I returned it thinking I had a bad unit.The new one did the same thing. I just kept it since it does charge...but the lights are useless since they seem to always stay on. It's a \"backup\" charger for when I manage to drain all my AAs but I wouldn't want this as my only charger."
        ],
        [
         "27",
         "__label__1",
         "Disappointed: I read the reviews,made my purchase and was very disappointed. The charger is convenient by charging all four batteries at once but the charge only lasts a very short time. I now have to go and find batteries that will give me longer life than the kodak NiMH AA batteries."
        ],
        [
         "28",
         "__label__1",
         "Oh dear: I was excited to find a book ostensibly about Muslim feminism, but this volume did not live up to the expectations.One essay, among other things, describes the veil as potentially liberating. It doesn't begin to explain how or why.Another, on Muslim women in Cape Town, claims that Muslim women there are separate but \"more than equal.\" Gee whiz, what a disappointment.I had expected and hoped for at least one Muslim feminist condemnation of gender apartheid. But there is not a single one in the book.I'm surprised it didn't have an essay extolling the virtues of female genital mutilation.--Alyssa A. Lappen"
        ],
        [
         "29",
         "__label__2",
         "Based on the reviews here I bought one and I'm glad I did!: This VCR/DVD was an early Christmas present to myself after deciding to join the rest of the world in DVD-land but not wanting to let go of my VHS movies quite yet. Based on the reviews and price, and because I own a JVC TV, this was my choice. I agree with the easy set-up. It's a bit awkward to work the whole TV/VHS/DVD selection options but I think I've gotten the hang of it.Two comments: it's not intuitive and actually is pretty complicated (too many buttons on the remote but that might please others who are more technically-minded than me) so I've had to rely heavily on the how-to manual. And setting the VCR timer is awkward -- you can't enter the start and end time but have to scroll (unless I'm missing something)...but those are my only complaints. This is a good product for your $$$."
        ],
        [
         "30",
         "__label__1",
         "Incorrect disc!: I am a big JVC fan, but I do not like this model, I was suspiscious when I saw several units in the return section of the store. I bought one anyway (new) and must say I am not happy. The unit sends out clicks to the receiver once in a while, the transition between scenes is not always smooth,(like a little pause) and while it is still fairly new I can't get any DVD,CD or even a DVD headcleaner to work. All I get is a \"incorrect disc\" message."
        ],
        [
         "31",
         "__label__2",
         "happy with it...but: I'm a JVC nut...I have 3 JVC televisions, one VCR, one bookshelf audio system and car audio system. So when it came time to move the VCR player to the boys room and get another one for the old man I knew what make it was going to be. I decided on the combo player because I don't think VHS is going to be around much longer. I like my combo player except for 2 things:(1)no cable box compatability on the remote control (2)no seperate audio video inputs only input for coax cable from my cable box so all of the cable programming is in mono...wife can't tell the difference in the sound so if she's happy then I'll just live with it. VCR and DVD look and sound GREAT!!!!!!!"
        ],
        [
         "32",
         "__label__1",
         "should be titled \"Hollywood Debacle\": The plot is so ridiculous, I have to wonder if they even read the script before making this film. The mountain lion breaks out of his trailer - and the cars behind don't notice? The mountain lion is captured - and put in a jail cell? Get real! Utterly, completely stupid."
        ],
        [
         "33",
         "__label__2",
         "Is this great TV??? You bet it is: Hotel Babylon is not just good TV...it's great TV!!!! The show features some incredible acting from Tamzin Outhwaite (formerly of EastEnders, a BBC soap) and Max Beesley (from the ill-fated movie \"Glitter\" starring Mariah Carey). The show could make for a great drama series, but I felt that it is a mix of a drama, comedy, and soap opera all mixed into a great BBC show. The show aired on BBC America for a while but didn't get around to seeing it. I can now say that I got the DVD set and all the episodes are great. The season finale was an interesting to watch.The show reminds me of Hotel which aired on ABC from 1983 to 1988. The reason...Hotel was set at a fictional San Francisco hotel as Hotel Babylon was set at a luxury five-star hotel in England.I recommend this DVD to anyone who is willing to watch a great show from the BBC."
        ],
        [
         "34",
         "__label__1",
         "Nothing you don't already know: If you have even casually looked into applying to law school, have already read everything there is in this book, do not waste your money, seriously!!"
        ],
        [
         "35",
         "__label__1",
         "Unfortunately it wasn't entertaining in the least bit.: When I first ordered the CD, I figured it was going to be a hip, cool daddy vibe CD. However much to my dismay it sounds like a fourth grade music class. The main jist of the CD is that there is a xylaphone playing over peoples voices trying to replicate happening party. I believe if I played this CD at a party anywhere in my neighborhood I would get laughed off the beach. Growing up a surfer in San Diego, I would not recommend this CD to any of my Southern California brothers. Honestly, when I played it I kinda of felt I was in a bad B movie. The absolutle epitimy of the CD is the last \"vibe\" Surf Cha Cha. Surfers don't CHA."
        ],
        [
         "36",
         "__label__2",
         "Rochelle explains It All for You: Wondering what the hell has happened to the moral aspect of modern American culture ? This book is a lucid, well argued explanation of the simple fact that we have become so totally focused on our individual RIGHTS that we have completely ignored, and even mocked, our personal and public responsibilities. The final response and indictment of Robert Ringer's best seller, LOOKING OUT FOR #1. This is a great time for anyone who is disgusted with the boorish state of American media, politics and discourse in general, to clear their heads for the substantial challenges that lie before us not only as Americans, but as human beings. A great book"
        ],
        [
         "37",
         "__label__2",
         "More great playing: Larry's work for the Muse label in the late 80s and early 90s found him exploring the rich catalog of jazz standards that he probably grew up playing. Surrounding himself with the best musicians around, Larry sounds relaxed, focused, and totally in control. Listen to Larry's take on \"My Funny Valentine\" and tell me it doesn't stand right up there with Chet Baker's or Miles'. A very fine album that you'll enjoy again and again."
        ],
        [
         "38",
         "__label__1",
         "Doesn't work on a Mac: It clearly says on line this will work on a Mac OS system. The disk comes and it does not, only Windows . Do Not order this if you have a Mac!!!!!!!"
        ],
        [
         "39",
         "__label__1",
         "Very Frustrating: My three year old son was very excited to get this but after two attempts at playing it hasn't been touched since. You are not able to use the mouse through any of the games except for the \"power-up segments\" instead you are using the up-down arrows on the keyboard - too hard for him and not much fun. Very disapointed with this game and wish I could return it."
        ],
        [
         "40",
         "__label__1",
         "Mind numbing: This game makes you do the same things over and over, it never holds my son's attention long enough to get to the next level. There is no choice of games you have to do every thing in order. We have another Rescue Heroes game and both my boys 3 and 6 love it, but this one is a dog!"
        ],
        [
         "41",
         "__label__1",
         "Cannot recommend: As a former Alaskan, I didn't want to have to do this. But after repeatedly attempting Allman's recipes and having to throw out 8-10 cups of flour and miscellaneous ingredients nearly every time--and then comparing to Ed Wood's recipes which work flawlessly, and Lisa Rayner's very excellent Wild Bread: Hand-baked sourdough artisan breads in your own kitchen, I can't help but notice that their recipes work, where Allman's fail.I'm not a novice baker. The only thing that worked reliably was the pancakes recipe, but that can be found other places as well.If you are looking for reliable recipes and concise information about starting a sourdough and maintaining it, I recommend any of Ed Wood's books, even his very old ones. Lisa Rayner has written a fabulous tome in Wild Bread. But pass on this book.While some of the historical vignettes were interesting--not enough so to warrant the cost of the book. Check it out at your library if you must."
        ],
        [
         "42",
         "__label__2",
         "Alaska sourdough: REad most of the book while visiting my brother in Alaska. Loved it. I am going to be making my sourdough starter soon. Book is full of great stories and recipes."
        ],
        [
         "43",
         "__label__2",
         "Old and good: This book is worth to keep in your collection as it does not only advise what to do with sourdough but Ruth also told you what the picture of past 100 years ago in Alaska where no stand mixer nor any civilized stuffs in kitchen, just a pot of sourdough."
        ],
        [
         "44",
         "__label__2",
         "autumn: got this for my daughter in NC, she is now making prefect bread. Wish she lived closer to make me some"
        ],
        [
         "45",
         "__label__2",
         "Fast mp3 download of music waxed decades ago: One of these 26 songs played as background music on a YouTube video of some kind of gymnastic or dance feat out of Russia. I hunted down the melody, read the English lyrics, then decided to see what else was in the album. Downloaded the full album for $15 via Amazon mp3 downloader, and now happily listen to the melodies (interspersed) on my iPod."
        ],
        [
         "46",
         "__label__1",
         "Maybe I got a bad one.: My experience: I got this from FM, not Amazon. The DVD player rattled pretty loudly sometimes (but not always) when I put in a DVD. I tried several. The picture quality wasn't all that great and the screen got a horizontal line thru the middle after a short time that would not go away. Plus one of the other reviewers was dead on about the remote - the layout makes no sense at all! Very poor human engineering, IMO. I brought it back to the store for a refund. I saw the same model under the Emerson name for <$400 at WM but was hesitant to buy it."
        ],
        [
         "47",
         "__label__2",
         "Sylvania 6620LDG 20\" Flat Panel LCD TV with Built in DVD player: Light weight, space saving very attractive design. Sharp Picture, Good sound quality and quick response time. DVD playback also excellent. Only negative is its remote control. It is hard to read the functions of the keys due to color choices. The placement of the keys are almost illogical and you have to look at it carefully before each use. It almost seems like it was designed by an imbecil. The quality, the features and the price still makes this TV an excellent buy."
        ],
        [
         "48",
         "__label__1",
         "TERRIBLE!! DO NOT BUY THIS: I bought this for my wife for her birthday,and had toreturn it because the DVD palyer would not work. I returned it and got a repalcement, which once again the DVD player failed to work! It is a piece of junk."
        ],
        [
         "49",
         "__label__1",
         "*** BEWARE ***: This TV is set so that it is not capable of a \"recall\" function. If you want to flash back between channels, this TV is not going to give it to you. The remote control that comes with the TV has no recall function, so I bought a Sony universal, which is a much better remote, that had the recall button on it. However, I soon learned that the TV is set at the factory to not have the capability to flash-back. It may not be a big deal to some, but this user found it very annoying."
        ]
       ],
       "shape": {
        "columns": 2,
        "rows": 500
       }
      },
      "text/html": [
       "<div>\n",
       "<style scoped>\n",
       "    .dataframe tbody tr th:only-of-type {\n",
       "        vertical-align: middle;\n",
       "    }\n",
       "\n",
       "    .dataframe tbody tr th {\n",
       "        vertical-align: top;\n",
       "    }\n",
       "\n",
       "    .dataframe thead th {\n",
       "        text-align: right;\n",
       "    }\n",
       "</style>\n",
       "<table border=\"1\" class=\"dataframe\">\n",
       "  <thead>\n",
       "    <tr style=\"text-align: right;\">\n",
       "      <th></th>\n",
       "      <th>label</th>\n",
       "      <th>text</th>\n",
       "    </tr>\n",
       "  </thead>\n",
       "  <tbody>\n",
       "    <tr>\n",
       "      <th>0</th>\n",
       "      <td>__label__2</td>\n",
       "      <td>Stuning even for the non-gamer: This sound tra...</td>\n",
       "    </tr>\n",
       "    <tr>\n",
       "      <th>1</th>\n",
       "      <td>__label__2</td>\n",
       "      <td>The best soundtrack ever to anything.: I'm rea...</td>\n",
       "    </tr>\n",
       "    <tr>\n",
       "      <th>2</th>\n",
       "      <td>__label__2</td>\n",
       "      <td>Amazing!: This soundtrack is my favorite music...</td>\n",
       "    </tr>\n",
       "    <tr>\n",
       "      <th>3</th>\n",
       "      <td>__label__2</td>\n",
       "      <td>Excellent Soundtrack: I truly like this soundt...</td>\n",
       "    </tr>\n",
       "    <tr>\n",
       "      <th>4</th>\n",
       "      <td>__label__2</td>\n",
       "      <td>Remember, Pull Your Jaw Off The Floor After He...</td>\n",
       "    </tr>\n",
       "    <tr>\n",
       "      <th>...</th>\n",
       "      <td>...</td>\n",
       "      <td>...</td>\n",
       "    </tr>\n",
       "    <tr>\n",
       "      <th>495</th>\n",
       "      <td>__label__2</td>\n",
       "      <td>If you don't have this, get it!: This book is ...</td>\n",
       "    </tr>\n",
       "    <tr>\n",
       "      <th>496</th>\n",
       "      <td>__label__2</td>\n",
       "      <td>Read the angry anti-Hazlitt reviews for a real...</td>\n",
       "    </tr>\n",
       "    <tr>\n",
       "      <th>497</th>\n",
       "      <td>__label__2</td>\n",
       "      <td>Give this book to a your children.: Economics ...</td>\n",
       "    </tr>\n",
       "    <tr>\n",
       "      <th>498</th>\n",
       "      <td>__label__2</td>\n",
       "      <td>ECONOMICS IN ONE LESSON: Economics in One Less...</td>\n",
       "    </tr>\n",
       "    <tr>\n",
       "      <th>499</th>\n",
       "      <td>__label__2</td>\n",
       "      <td>Never more needed than today: Sure, a few of t...</td>\n",
       "    </tr>\n",
       "  </tbody>\n",
       "</table>\n",
       "<p>500 rows × 2 columns</p>\n",
       "</div>"
      ],
      "text/plain": [
       "          label                                               text\n",
       "0    __label__2  Stuning even for the non-gamer: This sound tra...\n",
       "1    __label__2  The best soundtrack ever to anything.: I'm rea...\n",
       "2    __label__2  Amazing!: This soundtrack is my favorite music...\n",
       "3    __label__2  Excellent Soundtrack: I truly like this soundt...\n",
       "4    __label__2  Remember, Pull Your Jaw Off The Floor After He...\n",
       "..          ...                                                ...\n",
       "495  __label__2  If you don't have this, get it!: This book is ...\n",
       "496  __label__2  Read the angry anti-Hazlitt reviews for a real...\n",
       "497  __label__2  Give this book to a your children.: Economics ...\n",
       "498  __label__2  ECONOMICS IN ONE LESSON: Economics in One Less...\n",
       "499  __label__2  Never more needed than today: Sure, a few of t...\n",
       "\n",
       "[500 rows x 2 columns]"
      ]
     },
     "execution_count": 34,
     "metadata": {},
     "output_type": "execute_result"
    }
   ],
   "source": [
    "import pandas as pd\n",
    "\n",
    "data = []\n",
    "with open(r\"C:\\Users\\Nagesh Agrawal\\OneDrive\\Desktop\\6_MACHINE LEARNING\\3__NATURAL LANGUAGE PROCESSING\\NLP_DATASETS\\SENTIMENT ANALYSIS DATA\\train.ft.txt\\train.ft.txt\", \"r\", encoding=\"utf-8\") as file:\n",
    "    for line in file:\n",
    "        label, text = line.split(' ', 1)\n",
    "        data.append([label, text.strip()])\n",
    "\n",
    "# Convert to DataFrame\n",
    "DATA = pd.DataFrame(data, columns=[\"label\", \"text\"])\n",
    "\n",
    "# Select first 500 rows\n",
    "DATA = DATA[:500]\n",
    "\n",
    "DATA\n"
   ]
  },
  {
   "cell_type": "code",
   "execution_count": 35,
   "id": "700bd9d4",
   "metadata": {},
   "outputs": [
    {
     "data": {
      "application/vnd.microsoft.datawrangler.viewer.v0+json": {
       "columns": [
        {
         "name": "label",
         "rawType": "object",
         "type": "string"
        },
        {
         "name": "count",
         "rawType": "int64",
         "type": "integer"
        }
       ],
       "ref": "820c53a6-ad3e-4219-ad9d-01cf2bf33b39",
       "rows": [
        [
         "__label__2",
         "253"
        ],
        [
         "__label__1",
         "247"
        ]
       ],
       "shape": {
        "columns": 1,
        "rows": 2
       }
      },
      "text/plain": [
       "label\n",
       "__label__2    253\n",
       "__label__1    247\n",
       "Name: count, dtype: int64"
      ]
     },
     "execution_count": 35,
     "metadata": {},
     "output_type": "execute_result"
    }
   ],
   "source": [
    "DATA[\"label\"].value_counts()"
   ]
  },
  {
   "cell_type": "code",
   "execution_count": 36,
   "id": "aabf9b88",
   "metadata": {},
   "outputs": [
    {
     "data": {
      "text/plain": [
       "'Stuning even for the non-gamer: This sound track was beautiful! It paints the senery in your mind so well I would recomend it even to people who hate vid. game music! I have played the game Chrono Cross but out of all of the games I have ever played it has the best music! It backs away from crude keyboarding and takes a fresher step with grate guitars and soulful orchestras. It would impress anyone who cares to listen! ^_^'"
      ]
     },
     "execution_count": 36,
     "metadata": {},
     "output_type": "execute_result"
    }
   ],
   "source": [
    "STRING=DATA[\"text\"][0]\n",
    "STRING"
   ]
  },
  {
   "cell_type": "markdown",
   "id": "35c60cf4",
   "metadata": {},
   "source": [
    "## TEXT PREPROCESSING 🧑‍🏫"
   ]
  },
  {
   "cell_type": "code",
   "execution_count": 37,
   "id": "43575c96",
   "metadata": {},
   "outputs": [
    {
     "data": {
      "application/vnd.microsoft.datawrangler.viewer.v0+json": {
       "columns": [
        {
         "name": "index",
         "rawType": "int64",
         "type": "integer"
        },
        {
         "name": "label",
         "rawType": "object",
         "type": "string"
        },
        {
         "name": "text",
         "rawType": "object",
         "type": "string"
        }
       ],
       "ref": "8fa38367-3ca2-4a81-9794-30c93c2b7704",
       "rows": [
        [
         "0",
         "__label__2",
         "Stuning even for the non-gamer: This sound track was beautiful! It paints the senery in your mind so well I would recomend it even to people who hate vid. game music! I have played the game Chrono Cross but out of all of the games I have ever played it has the best music! It backs away from crude keyboarding and takes a fresher step with grate guitars and soulful orchestras. It would impress anyone who cares to listen! ^_^"
        ],
        [
         "1",
         "__label__2",
         "The best soundtrack ever to anything.: I'm reading a lot of reviews saying that this is the best 'game soundtrack' and I figured that I'd write a review to disagree a bit. This in my opinino is Yasunori Mitsuda's ultimate masterpiece. The music is timeless and I'm been listening to it for years now and its beauty simply refuses to fade.The price tag on this is pretty staggering I must say, but if you are going to buy any cd for this much money, this is the only one that I feel would be worth every penny."
        ],
        [
         "2",
         "__label__2",
         "Amazing!: This soundtrack is my favorite music of all time, hands down. The intense sadness of \"Prisoners of Fate\" (which means all the more if you've played the game) and the hope in \"A Distant Promise\" and \"Girl who Stole the Star\" have been an important inspiration to me personally throughout my teen years. The higher energy tracks like \"Chrono Cross ~ Time's Scar~\", \"Time of the Dreamwatch\", and \"Chronomantique\" (indefinably remeniscent of Chrono Trigger) are all absolutely superb as well.This soundtrack is amazing music, probably the best of this composer's work (I haven't heard the Xenogears soundtrack, so I can't say for sure), and even if you've never played the game, it would be worth twice the price to buy it.I wish I could give it 6 stars."
        ],
        [
         "3",
         "__label__2",
         "Excellent Soundtrack: I truly like this soundtrack and I enjoy video game music. I have played this game and most of the music on here I enjoy and it's truly relaxing and peaceful.On disk one. my favorites are Scars Of Time, Between Life and Death, Forest Of Illusion, Fortress of Ancient Dragons, Lost Fragment, and Drowned Valley.Disk Two: The Draggons, Galdorb - Home, Chronomantique, Prisoners of Fate, Gale, and my girlfriend likes ZelbessDisk Three: The best of the three. Garden Of God, Chronopolis, Fates, Jellyfish sea, Burning Orphange, Dragon's Prayer, Tower Of Stars, Dragon God, and Radical Dreamers - Unstealable Jewel.Overall, this is a excellent soundtrack and should be brought by those that like video game music.Xander Cross"
        ],
        [
         "4",
         "__label__2",
         "Remember, Pull Your Jaw Off The Floor After Hearing it: If you've played the game, you know how divine the music is! Every single song tells a story of the game, it's that good! The greatest songs are without a doubt, Chrono Cross: Time's Scar, Magical Dreamers: The Wind, The Stars, and the Sea and Radical Dreamers: Unstolen Jewel. (Translation varies) This music is perfect if you ask me, the best it can be. Yasunori Mitsuda just poured his heart on and wrote it down on paper."
        ],
        [
         "5",
         "__label__2",
         "an absolute masterpiece: I am quite sure any of you actually taking the time to read this have played the game at least once, and heard at least a few of the tracks here. And whether you were aware of it or not, Mitsuda's music contributed greatly to the mood of every single minute of the whole game.Composed of 3 CDs and quite a few songs (I haven't an exact count), all of which are heart-rendering and impressively remarkable, this soundtrack is one I assure you you will not forget. It has everything for every listener -- from fast-paced and energetic (Dancing the Tokage or Termina Home), to slower and more haunting (Dragon God), to purely beautifully composed (Time's Scar), to even some fantastic vocals (Radical Dreamers).This is one of the best videogame soundtracks out there, and surely Mitsuda's best ever. ^_^"
        ],
        [
         "6",
         "__label__1",
         "Buyer beware: This is a self-published book, and if you want to know why--read a few paragraphs! Those 5 star reviews must have been written by Ms. Haddon's family and friends--or perhaps, by herself! I can't imagine anyone reading the whole thing--I spent an evening with the book and a friend and we were in hysterics reading bits and pieces of it to one another. It is most definitely bad enough to be entered into some kind of a \"worst book\" contest. I can't believe Amazon even sells this kind of thing. Maybe I can offer them my 8th grade term paper on \"To Kill a Mockingbird\"--a book I am quite sure Ms. Haddon never heard of. Anyway, unless you are in a mood to send a book to someone as a joke---stay far, far away from this one!"
        ],
        [
         "7",
         "__label__2",
         "Glorious story: I loved Whisper of the wicked saints. The story was amazing and I was pleasantly surprised at the changes in the book. I am not normaly someone who is into romance novels, but the world was raving about this book and so I bought it. I loved it !! This is a brilliant story because it is so true. This book was so wonderful that I have told all of my friends to read it. It is not a typical romance, it is so much more. Not reading this book is a crime, becuase you are missing out on a heart warming story."
        ],
        [
         "8",
         "__label__2",
         "A FIVE STAR BOOK: I just finished reading Whisper of the Wicked saints. I fell in love with the caracters. I expected an average romance read, but instead I found one of my favorite books of all time. Just when I thought I could predict the outcome I was shocked ! The writting was so descriptive that my heart broke when Julia's did and I felt as if I was there with them instead of just a distant reader. If you are a lover of romance novels then this is a must read. Don't let the cover fool you this book is spectacular!"
        ],
        [
         "9",
         "__label__2",
         "Whispers of the Wicked Saints: This was a easy to read book that made me want to keep reading on and on, not easy to put down.It left me wanting to read the follow on, which I hope is coming soon. I used to read a lot but have gotten away from it. This book made me want to read again. Very enjoyable."
        ],
        [
         "10",
         "__label__1",
         "The Worst!: A complete waste of time. Typographical errors, poor grammar, and a totally pathetic plot add up to absolutely nothing. I'm embarrassed for this author and very disappointed I actually paid for this book."
        ],
        [
         "11",
         "__label__2",
         "Great book: This was a great book,I just could not put it down,and could not read it fast enough. Boy what a book the twist and turns in this just keeps you guessing and wanting to know what is going to happen next. This book makes you fall in love and can heat you up,it can also make you so angery. this book can make you go throu several of your emotions. This is a quick read romance. It is something that you will want to end your day off with if you read at night."
        ],
        [
         "12",
         "__label__2",
         "Great Read: I thought this book was brilliant, but yet realistic. It showed me that to error is human. I loved the fact that this writer showed the loving side of God and not the revengeful side of him. I loved how it twisted and turned and I could not put it down. I also loved The glass castle."
        ],
        [
         "13",
         "__label__1",
         "Oh please: I guess you have to be a romance novel lover for this one, and not a very discerning one. All others beware! It is absolute drivel. I figured I was in trouble when a typo is prominently featured on the back cover, but the first page of the book removed all doubt. Wait - maybe I'm missing the point. A quick re-read of the beginning now makes it clear. This has to be an intentional churning of over-heated prose for satiric purposes. Phew, so glad I didn't waste $10.95 after all."
        ],
        [
         "14",
         "__label__1",
         "Awful beyond belief!: I feel I have to write to keep others from wasting their money. This book seems to have been written by a 7th grader with poor grammatical skills for her age! As another reviewer points out, there is a misspelling on the cover, and I believe there is at least one per chapter. For example, it was mentioned twice that she had a \"lean\" on her house. I was so distracted by the poor writing and weak plot, that I decided to read with a pencil in hand to mark all of the horrible grammar and spelling. Please don't waste your money. I too, believe that the good reviews must have been written by the author's relatives. I will not put much faith in the reviews from now on!"
        ],
        [
         "15",
         "__label__1",
         "Don't try to fool us with fake reviews.: It's glaringly obvious that all of the glowing reviews have been written by the same person, perhaps the author herself. They all have the same misspellings and poor sentence structure that is featured in the book. Who made Veronica Haddon think she is an author?"
        ],
        [
         "16",
         "__label__2",
         "A romantic zen baseball comedy: When you hear folks say that they don't make 'em like that anymore, they might be talking about \"BY THE SEA\". This is a very cool story about a young Cuban girl searching for idenity who stumbles into a coastal resort kitchen gig with a zen motorcycle maintenance man, three hysterical Italian chefs and a Latino fireballing right handed pitcher who plays on the team sponsored by the resort's owner. As is often the case she 'finds' herself through honest, often comical but always emotional, interaction with this sizzling roster of players. With the perfect mix of special effects, that salsa sound and flashbacks, BY THE SEA, gets 4 BIG stars from me!"
        ],
        [
         "17",
         "__label__2",
         "Fashionable Compression Stockings!: After I had a DVT my doctor required me to wear compression stockings. I wore ugly white TED hose and yucky thick brown stockings. Then I found Jobst UltraSheer. They gave me the compression I needed (15-20,) but looked like regular pantyhose. Even though my blood clot has been gone for 4 years, I still buy these to wear as support stockings because they make my legs feel so nice.**Note, I have problems with the rubberized tops rolling down my thigh. I tried the Jobst adhesive, but I hated having my skin pulled all day. I bought an inexpensive garter belt and it works fine and helps keep the stockings from rolling."
        ],
        [
         "18",
         "__label__2",
         "Jobst UltraSheer Thigh High: Excellent product. However, they are very difficult to get on for older people. I feel like I've had a full day workout after getting them on. Also, as the day wears on, they begin to roll down from the top and create a very deep ridge in the skin. I have to wear them, so if those two difficulties could be addressed it would be such a help."
        ],
        [
         "19",
         "__label__1",
         "sizes recomended in the size chart are not real: sizes are much smaller than what is recomended in the chart. I tried to put it and sheer it!. I guess you should not buy this item in the internet..it is better to go to the store and check it"
        ],
        [
         "20",
         "__label__1",
         "mens ultrasheer: This model may be ok for sedentary types, but I'm active and get around alot in my job - consistently found these stockings rolled up down by my ankles! Not Good!! Solution: go with the standard compression stocking, 20-30, stock #114622. Excellent support, stays up and gives me what I need. Both pair of these also tore as I struggled to pull them up all the time. Good riddance/bad investment!"
        ],
        [
         "21",
         "__label__2",
         "Delicious cookie mix: I thought it was funny that I bought this product without knowing it was a mix. I read the header very quickly and just thought it was packaged cookies. But no, it is cookie MIX and I guess I should have noticed that since it is right in the title.This is the first time I have ever tried baking with a cookie mix. If you are used to the convenience of the cookie dough that you buy wrapped up in plastic logs then you might be in for a bit of a surprise. Mixing up the dough can get VERY messy (it is extremely sticky). However, with a cookie mix like this you have a lot of flexibility in the ratio of ingredients (I like to add some extra butter to make the baked cookies more chewy). Also, this mix has really large chocolate chips in it--I love that.I removed a star for the addition of 'natural flavors' in the mix."
        ],
        [
         "22",
         "__label__1",
         "Another Abysmal Digital Copy: Rather than scratches and insect droppings, this one has random pixelations combined with muddy light and vague image resolution. Probably the cue should have been the packaging is straight out of your street corner bootleg dealer.If you've ever seen a reasonably good condition film copy, you know the defining visuals of his film are the crystal clear lighting contrasts in black and white. The surrounding countryside and 'old home' scenes are set with early morning ground mists or the haze of memory while the events on the bridge and in the water are bright, clear, and immediate.Here everything is dull, dark, and clouded. Or, if you remember the timbre and enunciation of Captain's commands, so are the visuals.After that, it is hard to believe this award winning, critically acclaimed film's best presentation is on YOUTUBE. Somewhere \"out there\" is a DVD that comes up to the standard of a 16mm public library reel.Just none of them appear to be on Amazon."
        ],
        [
         "23",
         "__label__2",
         "A fascinating insight into the life of modern Japanese teens: I thoroughly enjoyed Rising Sons and Daughters. I don't know of any other book that looks at Japanese society from the point of view of its young people poised as they are between their parents' age-old Japanese culture of restraint and obedience to the will of the community, and their peers' adulation of Western culture. True to form, the \"New Young\" of Japan seem to be creating an \"international\" blend, as the Ando family demonstrates in this beautifully written book of vignettes of the private lives of members of this family. Steven Wardell is clearly a talented young author, adopted for some of his schooling into this family of four teens, and thus able to view family life in Japan from the inside out. A great read!"
        ],
        [
         "24",
         "__label__2",
         "i liked this album more then i thought i would: I heard a song or two and thought same o same o,but when i listened to songs like \"blue angel\",\"lanna\" and 'mama\" the hair just rose off my neck.Roy is trully an amazing singer with a talent you don't find much now days."
        ],
        [
         "25",
         "__label__1",
         "Problem with charging smaller AAAs: I have had the charger for more than two years. It charges AA batteries just fine, but has a huge problem securing smaller AAA batteries. To charge the smaller batteries you need to flip down the little button at the positive end. In the beginning one of the four AAA batteries would pop up, and now three out of the four won't hold. The problem is the flip mechanism became loose, and any horizontal pressure would push the buttons back up. What I have to do now is using duct tape and a segment of crayon, apply the crayon on the buttons, and wrap the tape around. You know how painful that is."
        ],
        [
         "26",
         "__label__1",
         "Works, but not as advertised: I bought one of these chargers..the instructions say the lights stay on while the battery charges...true. The instructions doNT say the lights turn off when its done. Which is also true. 24 hours of charging and the lights stay on. I returned it thinking I had a bad unit.The new one did the same thing. I just kept it since it does charge...but the lights are useless since they seem to always stay on. It's a \"backup\" charger for when I manage to drain all my AAs but I wouldn't want this as my only charger."
        ],
        [
         "27",
         "__label__1",
         "Disappointed: I read the reviews,made my purchase and was very disappointed. The charger is convenient by charging all four batteries at once but the charge only lasts a very short time. I now have to go and find batteries that will give me longer life than the kodak NiMH AA batteries."
        ],
        [
         "28",
         "__label__1",
         "Oh dear: I was excited to find a book ostensibly about Muslim feminism, but this volume did not live up to the expectations.One essay, among other things, describes the veil as potentially liberating. It doesn't begin to explain how or why.Another, on Muslim women in Cape Town, claims that Muslim women there are separate but \"more than equal.\" Gee whiz, what a disappointment.I had expected and hoped for at least one Muslim feminist condemnation of gender apartheid. But there is not a single one in the book.I'm surprised it didn't have an essay extolling the virtues of female genital mutilation.--Alyssa A. Lappen"
        ],
        [
         "29",
         "__label__2",
         "Based on the reviews here I bought one and I'm glad I did!: This VCR/DVD was an early Christmas present to myself after deciding to join the rest of the world in DVD-land but not wanting to let go of my VHS movies quite yet. Based on the reviews and price, and because I own a JVC TV, this was my choice. I agree with the easy set-up. It's a bit awkward to work the whole TV/VHS/DVD selection options but I think I've gotten the hang of it.Two comments: it's not intuitive and actually is pretty complicated (too many buttons on the remote but that might please others who are more technically-minded than me) so I've had to rely heavily on the how-to manual. And setting the VCR timer is awkward -- you can't enter the start and end time but have to scroll (unless I'm missing something)...but those are my only complaints. This is a good product for your $$$."
        ],
        [
         "30",
         "__label__1",
         "Incorrect disc!: I am a big JVC fan, but I do not like this model, I was suspiscious when I saw several units in the return section of the store. I bought one anyway (new) and must say I am not happy. The unit sends out clicks to the receiver once in a while, the transition between scenes is not always smooth,(like a little pause) and while it is still fairly new I can't get any DVD,CD or even a DVD headcleaner to work. All I get is a \"incorrect disc\" message."
        ],
        [
         "31",
         "__label__2",
         "happy with it...but: I'm a JVC nut...I have 3 JVC televisions, one VCR, one bookshelf audio system and car audio system. So when it came time to move the VCR player to the boys room and get another one for the old man I knew what make it was going to be. I decided on the combo player because I don't think VHS is going to be around much longer. I like my combo player except for 2 things:(1)no cable box compatability on the remote control (2)no seperate audio video inputs only input for coax cable from my cable box so all of the cable programming is in mono...wife can't tell the difference in the sound so if she's happy then I'll just live with it. VCR and DVD look and sound GREAT!!!!!!!"
        ],
        [
         "32",
         "__label__1",
         "should be titled \"Hollywood Debacle\": The plot is so ridiculous, I have to wonder if they even read the script before making this film. The mountain lion breaks out of his trailer - and the cars behind don't notice? The mountain lion is captured - and put in a jail cell? Get real! Utterly, completely stupid."
        ],
        [
         "33",
         "__label__2",
         "Is this great TV??? You bet it is: Hotel Babylon is not just good TV...it's great TV!!!! The show features some incredible acting from Tamzin Outhwaite (formerly of EastEnders, a BBC soap) and Max Beesley (from the ill-fated movie \"Glitter\" starring Mariah Carey). The show could make for a great drama series, but I felt that it is a mix of a drama, comedy, and soap opera all mixed into a great BBC show. The show aired on BBC America for a while but didn't get around to seeing it. I can now say that I got the DVD set and all the episodes are great. The season finale was an interesting to watch.The show reminds me of Hotel which aired on ABC from 1983 to 1988. The reason...Hotel was set at a fictional San Francisco hotel as Hotel Babylon was set at a luxury five-star hotel in England.I recommend this DVD to anyone who is willing to watch a great show from the BBC."
        ],
        [
         "34",
         "__label__1",
         "Nothing you don't already know: If you have even casually looked into applying to law school, have already read everything there is in this book, do not waste your money, seriously!!"
        ],
        [
         "35",
         "__label__1",
         "Unfortunately it wasn't entertaining in the least bit.: When I first ordered the CD, I figured it was going to be a hip, cool daddy vibe CD. However much to my dismay it sounds like a fourth grade music class. The main jist of the CD is that there is a xylaphone playing over peoples voices trying to replicate happening party. I believe if I played this CD at a party anywhere in my neighborhood I would get laughed off the beach. Growing up a surfer in San Diego, I would not recommend this CD to any of my Southern California brothers. Honestly, when I played it I kinda of felt I was in a bad B movie. The absolutle epitimy of the CD is the last \"vibe\" Surf Cha Cha. Surfers don't CHA."
        ],
        [
         "36",
         "__label__2",
         "Rochelle explains It All for You: Wondering what the hell has happened to the moral aspect of modern American culture ? This book is a lucid, well argued explanation of the simple fact that we have become so totally focused on our individual RIGHTS that we have completely ignored, and even mocked, our personal and public responsibilities. The final response and indictment of Robert Ringer's best seller, LOOKING OUT FOR #1. This is a great time for anyone who is disgusted with the boorish state of American media, politics and discourse in general, to clear their heads for the substantial challenges that lie before us not only as Americans, but as human beings. A great book"
        ],
        [
         "37",
         "__label__2",
         "More great playing: Larry's work for the Muse label in the late 80s and early 90s found him exploring the rich catalog of jazz standards that he probably grew up playing. Surrounding himself with the best musicians around, Larry sounds relaxed, focused, and totally in control. Listen to Larry's take on \"My Funny Valentine\" and tell me it doesn't stand right up there with Chet Baker's or Miles'. A very fine album that you'll enjoy again and again."
        ],
        [
         "38",
         "__label__1",
         "Doesn't work on a Mac: It clearly says on line this will work on a Mac OS system. The disk comes and it does not, only Windows . Do Not order this if you have a Mac!!!!!!!"
        ],
        [
         "39",
         "__label__1",
         "Very Frustrating: My three year old son was very excited to get this but after two attempts at playing it hasn't been touched since. You are not able to use the mouse through any of the games except for the \"power-up segments\" instead you are using the up-down arrows on the keyboard - too hard for him and not much fun. Very disapointed with this game and wish I could return it."
        ],
        [
         "40",
         "__label__1",
         "Mind numbing: This game makes you do the same things over and over, it never holds my son's attention long enough to get to the next level. There is no choice of games you have to do every thing in order. We have another Rescue Heroes game and both my boys 3 and 6 love it, but this one is a dog!"
        ],
        [
         "41",
         "__label__1",
         "Cannot recommend: As a former Alaskan, I didn't want to have to do this. But after repeatedly attempting Allman's recipes and having to throw out 8-10 cups of flour and miscellaneous ingredients nearly every time--and then comparing to Ed Wood's recipes which work flawlessly, and Lisa Rayner's very excellent Wild Bread: Hand-baked sourdough artisan breads in your own kitchen, I can't help but notice that their recipes work, where Allman's fail.I'm not a novice baker. The only thing that worked reliably was the pancakes recipe, but that can be found other places as well.If you are looking for reliable recipes and concise information about starting a sourdough and maintaining it, I recommend any of Ed Wood's books, even his very old ones. Lisa Rayner has written a fabulous tome in Wild Bread. But pass on this book.While some of the historical vignettes were interesting--not enough so to warrant the cost of the book. Check it out at your library if you must."
        ],
        [
         "42",
         "__label__2",
         "Alaska sourdough: REad most of the book while visiting my brother in Alaska. Loved it. I am going to be making my sourdough starter soon. Book is full of great stories and recipes."
        ],
        [
         "43",
         "__label__2",
         "Old and good: This book is worth to keep in your collection as it does not only advise what to do with sourdough but Ruth also told you what the picture of past 100 years ago in Alaska where no stand mixer nor any civilized stuffs in kitchen, just a pot of sourdough."
        ],
        [
         "44",
         "__label__2",
         "autumn: got this for my daughter in NC, she is now making prefect bread. Wish she lived closer to make me some"
        ],
        [
         "45",
         "__label__2",
         "Fast mp3 download of music waxed decades ago: One of these 26 songs played as background music on a YouTube video of some kind of gymnastic or dance feat out of Russia. I hunted down the melody, read the English lyrics, then decided to see what else was in the album. Downloaded the full album for $15 via Amazon mp3 downloader, and now happily listen to the melodies (interspersed) on my iPod."
        ],
        [
         "46",
         "__label__1",
         "Maybe I got a bad one.: My experience: I got this from FM, not Amazon. The DVD player rattled pretty loudly sometimes (but not always) when I put in a DVD. I tried several. The picture quality wasn't all that great and the screen got a horizontal line thru the middle after a short time that would not go away. Plus one of the other reviewers was dead on about the remote - the layout makes no sense at all! Very poor human engineering, IMO. I brought it back to the store for a refund. I saw the same model under the Emerson name for <$400 at WM but was hesitant to buy it."
        ],
        [
         "47",
         "__label__2",
         "Sylvania 6620LDG 20\" Flat Panel LCD TV with Built in DVD player: Light weight, space saving very attractive design. Sharp Picture, Good sound quality and quick response time. DVD playback also excellent. Only negative is its remote control. It is hard to read the functions of the keys due to color choices. The placement of the keys are almost illogical and you have to look at it carefully before each use. It almost seems like it was designed by an imbecil. The quality, the features and the price still makes this TV an excellent buy."
        ],
        [
         "48",
         "__label__1",
         "TERRIBLE!! DO NOT BUY THIS: I bought this for my wife for her birthday,and had toreturn it because the DVD palyer would not work. I returned it and got a repalcement, which once again the DVD player failed to work! It is a piece of junk."
        ],
        [
         "49",
         "__label__1",
         "*** BEWARE ***: This TV is set so that it is not capable of a \"recall\" function. If you want to flash back between channels, this TV is not going to give it to you. The remote control that comes with the TV has no recall function, so I bought a Sony universal, which is a much better remote, that had the recall button on it. However, I soon learned that the TV is set at the factory to not have the capability to flash-back. It may not be a big deal to some, but this user found it very annoying."
        ]
       ],
       "shape": {
        "columns": 2,
        "rows": 500
       }
      },
      "text/html": [
       "<div>\n",
       "<style scoped>\n",
       "    .dataframe tbody tr th:only-of-type {\n",
       "        vertical-align: middle;\n",
       "    }\n",
       "\n",
       "    .dataframe tbody tr th {\n",
       "        vertical-align: top;\n",
       "    }\n",
       "\n",
       "    .dataframe thead th {\n",
       "        text-align: right;\n",
       "    }\n",
       "</style>\n",
       "<table border=\"1\" class=\"dataframe\">\n",
       "  <thead>\n",
       "    <tr style=\"text-align: right;\">\n",
       "      <th></th>\n",
       "      <th>label</th>\n",
       "      <th>text</th>\n",
       "    </tr>\n",
       "  </thead>\n",
       "  <tbody>\n",
       "    <tr>\n",
       "      <th>0</th>\n",
       "      <td>__label__2</td>\n",
       "      <td>Stuning even for the non-gamer: This sound tra...</td>\n",
       "    </tr>\n",
       "    <tr>\n",
       "      <th>1</th>\n",
       "      <td>__label__2</td>\n",
       "      <td>The best soundtrack ever to anything.: I'm rea...</td>\n",
       "    </tr>\n",
       "    <tr>\n",
       "      <th>2</th>\n",
       "      <td>__label__2</td>\n",
       "      <td>Amazing!: This soundtrack is my favorite music...</td>\n",
       "    </tr>\n",
       "    <tr>\n",
       "      <th>3</th>\n",
       "      <td>__label__2</td>\n",
       "      <td>Excellent Soundtrack: I truly like this soundt...</td>\n",
       "    </tr>\n",
       "    <tr>\n",
       "      <th>4</th>\n",
       "      <td>__label__2</td>\n",
       "      <td>Remember, Pull Your Jaw Off The Floor After He...</td>\n",
       "    </tr>\n",
       "    <tr>\n",
       "      <th>...</th>\n",
       "      <td>...</td>\n",
       "      <td>...</td>\n",
       "    </tr>\n",
       "    <tr>\n",
       "      <th>495</th>\n",
       "      <td>__label__2</td>\n",
       "      <td>If you don't have this, get it!: This book is ...</td>\n",
       "    </tr>\n",
       "    <tr>\n",
       "      <th>496</th>\n",
       "      <td>__label__2</td>\n",
       "      <td>Read the angry anti-Hazlitt reviews for a real...</td>\n",
       "    </tr>\n",
       "    <tr>\n",
       "      <th>497</th>\n",
       "      <td>__label__2</td>\n",
       "      <td>Give this book to a your children.: Economics ...</td>\n",
       "    </tr>\n",
       "    <tr>\n",
       "      <th>498</th>\n",
       "      <td>__label__2</td>\n",
       "      <td>ECONOMICS IN ONE LESSON: Economics in One Less...</td>\n",
       "    </tr>\n",
       "    <tr>\n",
       "      <th>499</th>\n",
       "      <td>__label__2</td>\n",
       "      <td>Never more needed than today: Sure, a few of t...</td>\n",
       "    </tr>\n",
       "  </tbody>\n",
       "</table>\n",
       "<p>500 rows × 2 columns</p>\n",
       "</div>"
      ],
      "text/plain": [
       "          label                                               text\n",
       "0    __label__2  Stuning even for the non-gamer: This sound tra...\n",
       "1    __label__2  The best soundtrack ever to anything.: I'm rea...\n",
       "2    __label__2  Amazing!: This soundtrack is my favorite music...\n",
       "3    __label__2  Excellent Soundtrack: I truly like this soundt...\n",
       "4    __label__2  Remember, Pull Your Jaw Off The Floor After He...\n",
       "..          ...                                                ...\n",
       "495  __label__2  If you don't have this, get it!: This book is ...\n",
       "496  __label__2  Read the angry anti-Hazlitt reviews for a real...\n",
       "497  __label__2  Give this book to a your children.: Economics ...\n",
       "498  __label__2  ECONOMICS IN ONE LESSON: Economics in One Less...\n",
       "499  __label__2  Never more needed than today: Sure, a few of t...\n",
       "\n",
       "[500 rows x 2 columns]"
      ]
     },
     "execution_count": 37,
     "metadata": {},
     "output_type": "execute_result"
    }
   ],
   "source": [
    "DATA"
   ]
  },
  {
   "cell_type": "markdown",
   "id": "c6edab21",
   "metadata": {},
   "source": [
    "### LOWER CASE CONVERSION"
   ]
  },
  {
   "cell_type": "code",
   "execution_count": 38,
   "id": "209f3da0",
   "metadata": {},
   "outputs": [
    {
     "data": {
      "text/plain": [
       "'stuning even for the non-gamer: this sound track was beautiful! it paints the senery in your mind so well i would recomend it even to people who hate vid. game music! i have played the game chrono cross but out of all of the games i have ever played it has the best music! it backs away from crude keyboarding and takes a fresher step with grate guitars and soulful orchestras. it would impress anyone who cares to listen! ^_^'"
      ]
     },
     "execution_count": 38,
     "metadata": {},
     "output_type": "execute_result"
    }
   ],
   "source": [
    "DATA[\"text\"] = DATA[\"text\"].str.lower()\n",
    "\n",
    "'''OR'''\n",
    "\n",
    "STRING = STRING.lower()\n",
    "STRING"
   ]
  },
  {
   "cell_type": "markdown",
   "id": "b133028d",
   "metadata": {},
   "source": [
    "### TRIMMING EXTRA SPACES"
   ]
  },
  {
   "cell_type": "code",
   "execution_count": 39,
   "id": "95bba616",
   "metadata": {},
   "outputs": [
    {
     "data": {
      "text/plain": [
       "'stuning even for the non-gamer: this sound track was beautiful! it paints the senery in your mind so well i would recomend it even to people who hate vid. game music! i have played the game chrono cross but out of all of the games i have ever played it has the best music! it backs away from crude keyboarding and takes a fresher step with grate guitars and soulful orchestras. it would impress anyone who cares to listen! ^_^'"
      ]
     },
     "execution_count": 39,
     "metadata": {},
     "output_type": "execute_result"
    }
   ],
   "source": [
    "DATA[\"text\"] = DATA[\"text\"].str.strip()     # removes leading/trailing spaces[[removes spaces at the start and end of each string.]]\n",
    "DATA[\"text\"] = DATA[\"text\"].str.replace(r'\\s+', ' ', regex=True)  # replaces multiple spaces with a single space\n",
    "\n",
    "'''OR'''\n",
    "\n",
    "\n",
    "import re\n",
    "\n",
    "STRING = STRING.strip()                     # lowercase + remove leading/trailing spaces\n",
    "STRING = re.sub(r'\\s+', ' ', STRING)                # replace multiple spaces with one\n",
    "STRING"
   ]
  },
  {
   "cell_type": "markdown",
   "id": "142f4738",
   "metadata": {},
   "source": [
    "### REMOVE PUNCTUATION MARKS"
   ]
  },
  {
   "cell_type": "code",
   "execution_count": 40,
   "id": "e02c91d1",
   "metadata": {},
   "outputs": [
    {
     "data": {
      "text/plain": [
       "'stuning even for the nongamer this sound track was beautiful it paints the senery in your mind so well i would recomend it even to people who hate vid game music i have played the game chrono cross but out of all of the games i have ever played it has the best music it backs away from crude keyboarding and takes a fresher step with grate guitars and soulful orchestras it would impress anyone who cares to listen '"
      ]
     },
     "execution_count": 40,
     "metadata": {},
     "output_type": "execute_result"
    }
   ],
   "source": [
    "import string\n",
    "\n",
    "DATA[\"text\"] = DATA[\"text\"].str.replace(f\"[{string.punctuation}]\", \"\", regex=True)\n",
    "\n",
    "'''OR'''\n",
    "\n",
    "STRING = STRING.translate(str.maketrans(\"\",\"\",string.punctuation))\n",
    "STRING"
   ]
  },
  {
   "cell_type": "code",
   "execution_count": 41,
   "id": "0f2fdc09",
   "metadata": {},
   "outputs": [
    {
     "data": {
      "text/plain": [
       "'!\"#$%&\\'()*+,-./:;<=>?@[\\\\]^_`{|}~'"
      ]
     },
     "execution_count": 41,
     "metadata": {},
     "output_type": "execute_result"
    }
   ],
   "source": [
    "string.punctuation"
   ]
  },
  {
   "cell_type": "markdown",
   "id": "d028390e",
   "metadata": {},
   "source": [
    "**`str.maketrans()`** ek mapping banata hai — jisme batate ho kaunsa character kis se replace hoga, ya hataoge.\n",
    "\n",
    "```python\n",
    "str.maketrans('', '', string.punctuation)\n",
    "```\n",
    "\n",
    "* `''` → kuch replace nahi karna\n",
    "* `''` → kis se replace nahi karna\n",
    "* `string.punctuation` → ye sab hata do (`!\"#$%&'()*+,-./:;<=>?@[\\]^_{|}~`)\n",
    "\n",
    "✅ **Short:**\n",
    "`maketrans` + `translate` milke kaam karte hain — **jo character mapping banao, uske hisaab se replace ya remove karo**.\n",
    "\n",
    "Punctuation hataane ke liye use hota hai:\n",
    "\n",
    "```python\n",
    "text.translate(str.maketrans('', '', string.punctuation))\n",
    "```\n",
    "| Function      | Use                                        |\n",
    "| ------------- | ------------------------------------------ |\n",
    "| `maketrans()` | Banta hai **kya replace/remove karna hai** |\n",
    "| `translate()` | Wo mapping **apply karta hai string par**  |\n",
    "\n"
   ]
  },
  {
   "cell_type": "markdown",
   "id": "ede451b8",
   "metadata": {},
   "source": [
    "### REMOVE DIGITS (NUMBERS)"
   ]
  },
  {
   "cell_type": "code",
   "execution_count": 42,
   "id": "fd5740d1",
   "metadata": {},
   "outputs": [
    {
     "data": {
      "text/plain": [
       "'stuning even for the nongamer this sound track was beautiful it paints the senery in your mind so well i would recomend it even to people who hate vid game music i have played the game chrono cross but out of all of the games i have ever played it has the best music it backs away from crude keyboarding and takes a fresher step with grate guitars and soulful orchestras it would impress anyone who cares to listen '"
      ]
     },
     "execution_count": 42,
     "metadata": {},
     "output_type": "execute_result"
    }
   ],
   "source": [
    "DATA[\"text\"] = DATA[\"text\"].str.replace(r'\\d+', '', regex=True)\n",
    "\n",
    "'''OR'''\n",
    "import re\n",
    "STRING = re.sub(r'\\d+', '', STRING)\n",
    "STRING"
   ]
  },
  {
   "cell_type": "markdown",
   "id": "3e6fa5d6",
   "metadata": {},
   "source": [
    "### ✅ `re.sub()` — Easy Explanation\n",
    "\n",
    "`re.sub()` is used to **find and replace** using a **pattern** (regex).\n",
    "\n",
    "\n",
    "### 📌 Syntax:\n",
    "\n",
    "```python\n",
    "re.sub(pattern, replacement, string)\n",
    "```\n",
    "\n",
    "* `pattern` → kya dhundhna hai (like digits, spaces, etc.)\n",
    "* `replacement` → uski jagah kya rakhna hai\n",
    "* `string` → kis string mein kaam karna hai\n",
    "\n",
    "---"
   ]
  },
  {
   "cell_type": "markdown",
   "id": "f61d8685",
   "metadata": {},
   "source": [
    "### REMOVE EMOJIS"
   ]
  },
  {
   "cell_type": "code",
   "execution_count": 43,
   "id": "e72d838d",
   "metadata": {},
   "outputs": [
    {
     "data": {
      "text/plain": [
       "'stuning even for the nongamer this sound track was beautiful it paints the senery in your mind so well i would recomend it even to people who hate vid game music i have played the game chrono cross but out of all of the games i have ever played it has the best music it backs away from crude keyboarding and takes a fresher step with grate guitars and soulful orchestras it would impress anyone who cares to listen '"
      ]
     },
     "execution_count": 43,
     "metadata": {},
     "output_type": "execute_result"
    }
   ],
   "source": [
    "import emoji\n",
    "\n",
    "DATA[\"text\"] = DATA[\"text\"].apply(emoji.demojize)\n",
    "\n",
    "'''OR'''\n",
    "\n",
    "STRING = emoji.demojize(STRING)\n",
    "STRING"
   ]
  },
  {
   "cell_type": "markdown",
   "id": "e596b4a5",
   "metadata": {},
   "source": [
    "### REMOVE EMAILS OR EXTRACT EMAIL"
   ]
  },
  {
   "cell_type": "code",
   "execution_count": 44,
   "id": "868abb65",
   "metadata": {},
   "outputs": [],
   "source": [
    "EMAILS = DATA[\"text\"].str.findall(r'\\b[\\w.-]+?@\\w+?\\.\\w+?\\b')\n",
    "EMAILS\n",
    "\n",
    "'''OR'''\n",
    "\n",
    "emails = re.findall(r'\\b[\\w.-]+?@\\w+?\\.\\w+?\\b', STRING)"
   ]
  },
  {
   "cell_type": "code",
   "execution_count": 45,
   "id": "794d41ae",
   "metadata": {},
   "outputs": [],
   "source": [
    "DATA[\"text\"] = DATA[\"text\"].str.replace(r'\\b[\\w.-]+?@\\w+?\\.w+?\\b', '', regex=True)\n",
    "\n",
    "'''OR'''\n",
    "import re\n",
    "\n",
    "STRING = re.sub(r'\\b[\\w.-]+?@\\w+?\\.\\w+?\\b', '', STRING)"
   ]
  },
  {
   "cell_type": "markdown",
   "id": "bb38a856",
   "metadata": {},
   "source": [
    "## ✅ Regex Pattern:\n",
    "\n",
    "```\n",
    "r'\\b[\\w.-]+?@\\w+?\\.\\w+?\\b'\n",
    "```\n",
    "\n",
    "---\n",
    "\n",
    "## 🔍 Toota Phoota Breakdown:\n",
    "\n",
    "| हिस्सा     | मतलब                                                                                                  |\n",
    "| ---------- | ----------------------------------------------------------------------------------------------------- |\n",
    "| `r'...'`   | Raw string hai Python mein, jismein `\\` ko special tarike se treat kiya jata hai                      |\n",
    "| `\\b`       | Word boundary – matlab email ke aage/peeche koi aur word chipka na ho                                 |\n",
    "| `[\\w.-]+?` | Email ka username part: letters (`a-z`, `A-Z`), numbers (`0-9`), underscore `_`, dot `.`, ya dash `-` |\n",
    "| `@`        | Email ka central part – `@` hona hi chahiye                                                           |\n",
    "| `\\w+?`     | Domain ka naam – jaise `gmail`, `yahoo`, `company`                                                    |\n",
    "| `\\.`       | Dot – jaise `.com`, `.org`                                                                            |\n",
    "| `\\w+?`     | Domain ka extension – jaise `com`, `org`, `in`                                                        |\n",
    "| `\\b`       | Dubara word boundary – email ke baad kuch aur na chipka ho                                            |\n"
   ]
  },
  {
   "cell_type": "markdown",
   "id": "4dad036a",
   "metadata": {},
   "source": [
    "\n",
    "---\n",
    "\n",
    "## ✅ `\\w` ka Matlab Kya Hai?\n",
    "\n",
    "### `\\w` ka full form hai:\n",
    "\n",
    "**\"word character\"** – aur ye match karta hai:\n",
    "\n",
    "```\n",
    "[a-zA-Z0-9_]\n",
    "```\n",
    "\n",
    "### Matlab:\n",
    "\n",
    "* **a to z**\n",
    "* **A to Z**\n",
    "* **0 to 9**\n",
    "* **underscore `_`**\n",
    "\n",
    "> Bas ye 4 types of characters ko pakadta hai.\n",
    "\n",
    "\n",
    "\n",
    "## 🔍 Toh `[\\w.-]` ka kya matlab hua?\n",
    "\n",
    "Ye ek **character set** hai. Iska matlab:\n",
    "\n",
    "> Match **koi bhi character jo ho `\\w`, `.` ya `-`**\n",
    "> Yaane:\n",
    "\n",
    "```\n",
    "[a-zA-Z0-9_.-]\n",
    "```\n",
    "\n",
    "### 🧠 Example:\n",
    "\n",
    "```python\n",
    "re.findall(r'[\\w.-]+', \"hello.user-123\")\n",
    "```\n",
    "\n",
    "Ye match karega:\n",
    "\n",
    "```\n",
    "'hello.user-123'\n",
    "```\n",
    "\n",
    "\n",
    "\n",
    "## ✅ Fir Ye `+?` Kya Hai?\n",
    "\n",
    "* `+` matlab: **ek ya usse zyada baar repeat ho sakta hai**\n",
    "* `?` matlab: **non-greedy** (matlab kam se kam lena, zyada nahi)\n",
    "\n",
    "Toh:\n",
    "\n",
    "```python\n",
    "[\\w.-]+?\n",
    "```\n",
    "\n",
    "\\= kam se kam characters le, par **jitne zarurat ho utne hi** (email ke part ke liye)\n",
    "\n",
    "---\n"
   ]
  },
  {
   "cell_type": "markdown",
   "id": "e03f401a",
   "metadata": {},
   "source": [
    "### REMOVE URL & HTML TAGS"
   ]
  },
  {
   "cell_type": "code",
   "execution_count": 46,
   "id": "8f3114b1",
   "metadata": {},
   "outputs": [],
   "source": [
    "DATA[\"text\"] = DATA[\"text\"].str.replace(r'https?://\\S+|www\\.\\S+', '', regex=True)\n",
    "DATA[\"text\"] = DATA[\"text\"].str.replace(r'<.*?>', '', regex=True)\n",
    "\n",
    "'''OR'''\n",
    "\n",
    "import re\n",
    "\n",
    "STRING = re.sub(r'hhtps?://\\S+/www\\.\\S+', '', STRING)\n",
    "STRING = re.sub(r'<.*?>', '', STRING)"
   ]
  },
  {
   "cell_type": "markdown",
   "id": "a497f027",
   "metadata": {},
   "source": [
    "| Part        | Kya karta hai?                                                                      |                      |\n",
    "| ----------- | ----------------------------------------------------------------------------------- | -------------------- |\n",
    "| `https?://` | **http ya https** se shuru hone wale link dhundta hai (`s?` matlab *s ho ya na ho*) |                      |\n",
    "| `\\S+`       | **Jitne bhi non-space characters hain** us link ke aage tak sab le leta hai         |                      |\n",
    "| \\`          | \\`                                                                                  | Matlab **ya** (`or`) |\n",
    "| `www\\.\\S+`  | Jo link **[www](http://www).** se start hota hai usko bhi pakadta hai               |                      |\n"
   ]
  },
  {
   "cell_type": "markdown",
   "id": "98107a01",
   "metadata": {},
   "source": [
    "| Part  | Matlab kya hai?                                                                       |\n",
    "| ----- | ------------------------------------------------------------------------------------- |\n",
    "| `<`   | Tag ki **shuruaat** dhoondta hai                                                      |\n",
    "| `.*?` | **Kuch bhi ho sakta hai**, lekin **shortest possible match** le raha hai (non-greedy) |\n",
    "| `>`   | Tag ki **ending** dhoondta hai                                                        |\n"
   ]
  },
  {
   "cell_type": "markdown",
   "id": "75caec68",
   "metadata": {},
   "source": [
    "### EXPAND CONTRACTION"
   ]
  },
  {
   "cell_type": "code",
   "execution_count": 47,
   "id": "e62944bd",
   "metadata": {},
   "outputs": [
    {
     "name": "stdout",
     "output_type": "stream",
     "text": [
      "Requirement already satisfied: contractions in c:\\users\\nagesh agrawal\\anaconda3\\lib\\site-packages (0.1.73)\n",
      "Requirement already satisfied: textsearch>=0.0.21 in c:\\users\\nagesh agrawal\\anaconda3\\lib\\site-packages (from contractions) (0.0.24)\n",
      "Requirement already satisfied: anyascii in c:\\users\\nagesh agrawal\\anaconda3\\lib\\site-packages (from textsearch>=0.0.21->contractions) (0.3.2)\n",
      "Requirement already satisfied: pyahocorasick in c:\\users\\nagesh agrawal\\anaconda3\\lib\\site-packages (from textsearch>=0.0.21->contractions) (2.1.0)\n"
     ]
    }
   ],
   "source": [
    "! pip install contractions"
   ]
  },
  {
   "cell_type": "code",
   "execution_count": 48,
   "id": "a7142234",
   "metadata": {},
   "outputs": [
    {
     "data": {
      "text/plain": [
       "'stuning even for the nongamer this sound track was beautiful it paints the senery in your mind so well i would recomend it even to people who hate vid game music i have played the game chrono cross but out of all of the games i have ever played it has the best music it backs away from crude keyboarding and takes a fresher step with grate guitars and soulful orchestras it would impress anyone who cares to listen '"
      ]
     },
     "execution_count": 48,
     "metadata": {},
     "output_type": "execute_result"
    }
   ],
   "source": [
    "import contractions # (e.g., don't -> do not)\n",
    "\n",
    "DATA[\"text\"] = DATA[\"text\"].apply(lambda x: contractions.fix(x))\n",
    "\n",
    "'''OR'''\n",
    "\n",
    "STRING = contractions.fix(STRING)\n",
    "STRING"
   ]
  },
  {
   "cell_type": "markdown",
   "id": "9a8ae12f",
   "metadata": {},
   "source": [
    "### TEXT IS CLEANED NOW WE MOVED TO FURTHER TEXT PROCESSING \n"
   ]
  },
  {
   "cell_type": "markdown",
   "id": "8e4a3883",
   "metadata": {},
   "source": [
    "# 🔍 **What is NLTK?**\n",
    "\n",
    "**NLTK (Natural Language Toolkit)** ek Python library hai jo hum natural language (human language) ko process karne ke liye use karte hain.\n",
    "\n",
    "---\n",
    "\n",
    "## 🧠 Use Case Examples:\n",
    "\n",
    "| Task                                      | NLTK Feature        |\n",
    "| ----------------------------------------- | ------------------- |\n",
    "| Sentence ya word mein todna               | `tokenize`          |\n",
    "| Grammar ke parts jaanna (noun, verb etc.) | `pos_tag`           |\n",
    "| Word ka root nikaalna                     | `stem`, `lemmatize` |\n",
    "| Meaning aur synonyms dekhna               | `wordnet`           |\n",
    "| Stopwords (e.g., is, the, a) nikaalna     | `stopwords`         |\n",
    "| Sentiment Analysis                        | (Basic)             |\n",
    "| Text Classification                       | (Naive Bayes, etc.) |\n",
    "\n",
    "\n",
    "\n",
    "# 📦 Installations & Download Essentials\n",
    "\n",
    "```bash\n",
    "pip install nltk\n",
    "```\n",
    "\n",
    "```python\n",
    "import nltk\n",
    "nltk.download('punkt')        # For tokenization\n",
    "nltk.download('stopwords')    # For removing common words\n",
    "nltk.download('wordnet')      # For lemmatization\n",
    "nltk.download('averaged_perceptron_tagger')  # For POS tagging\n",
    "nltk.download('omw-1.4')      # For wordnet lemmatizer\n",
    "```\n",
    "\n",
    "## 📌 Summary Table\n",
    "\n",
    "| Task                   | Function            |\n",
    "| ---------------------- | ------------------- |\n",
    "| Tokenize words         | `word_tokenize()`   |\n",
    "| Tokenize sentences     | `sent_tokenize()`   |\n",
    "| Stem                   | `PorterStemmer`     |\n",
    "| Lemmatize              | `WordNetLemmatizer` |\n",
    "| Remove stopwords       | `stopwords.words()` |\n",
    "| POS Tagging            | `pos_tag()`         |\n",
    "| Synonyms/Word meanings | `wordnet.synsets()` |\n",
    "\n",
    "\n",
    "\n",
    "## 🏁 Conclusion:\n",
    "\n",
    "NLTK is 🔥 powerful:\n",
    "\n",
    "* Best for **educational, lightweight** NLP\n",
    "* Easy for **text cleaning, processing, and tokenization**\n",
    "* Great tool before jumping into spaCy or Transformers\n",
    "\n"
   ]
  },
  {
   "cell_type": "markdown",
   "id": "9cd16baf",
   "metadata": {},
   "source": [
    "\n",
    "\n",
    "### ✅ **Text Preprocessing Flow**\n",
    "\n",
    "```markdown\n",
    "📌 **TEXT PREPROCESSING PIPELINE FOR SENTIMENT ANALYSIS**\n",
    "\n",
    "📝 RAW TEXT  \n",
    "   ↓  \n",
    "✂️ TOKENIZATION  \n",
    "   → Break sentence into words  \n",
    "   [\"I\", \"am\", \"loving\", \"this\", \"movie\"]\n",
    "\n",
    "   ↓  \n",
    "🗑️ STOPWORD REMOVAL  \n",
    "   → Remove common words (e.g., \"I\", \"am\", \"this\")  \n",
    "   [\"loving\", \"movie\"]\n",
    "\n",
    "   ↓  \n",
    "🪄 LEMMATIZATION / STEMMING  \n",
    "   → Reduce words to base/root form  \n",
    "   [\"love\", \"movie\"]\n",
    "\n",
    "   ↓  \n",
    "🔗 REJOIN TOKENS  \n",
    "   → Join cleaned words back to sentence  \n",
    "   \"love movie\"\n",
    "\n",
    "   ↓  \n",
    "✅ CLEANED TEXT READY FOR MODEL\n",
    "```\n",
    "\n",
    "---\n",
    "\n"
   ]
  },
  {
   "cell_type": "markdown",
   "id": "5d2f53a3",
   "metadata": {},
   "source": [
    "### TOKENIZATION"
   ]
  },
  {
   "cell_type": "markdown",
   "id": "57b448a0",
   "metadata": {},
   "source": [
    "## 📥 **Why do we need `nltk.download()`?**\n",
    "\n",
    "🧠 **NLTK ke kuch tools chalane ke liye extra data chahiye hota hai**, jaise:\n",
    "\n",
    "* 📚 Word lists (stopwords)\n",
    "* 🧩 Tokenizer models (punkt)\n",
    "* 📖 Dictionaries (wordnet)\n",
    "* 🏷️ Grammar taggers (pos tagger)\n",
    "\n",
    "\n",
    "\n",
    "💡 **Ye data NLTK package mein built-in nahi hota**, isliye **hume alag se download karna padta hai** — ek baar sirf!\n",
    "\n",
    "\n",
    "\n",
    "⚠️ Agar ye download nahi karoge, to functions jaise:\n",
    "`word_tokenize()`, `stopwords.words()`, `WordNetLemmatizer()`, `pos_tag()`\n",
    "**kaam nahi karenge, aur error aa jayega!**\n"
   ]
  },
  {
   "cell_type": "code",
   "execution_count": 49,
   "id": "1a403942",
   "metadata": {},
   "outputs": [
    {
     "name": "stderr",
     "output_type": "stream",
     "text": [
      "[nltk_data] Downloading package punkt to C:\\Users\\Nagesh\n",
      "[nltk_data]     Agrawal\\AppData\\Roaming\\nltk_data...\n",
      "[nltk_data]   Package punkt is already up-to-date!\n"
     ]
    },
    {
     "data": {
      "text/plain": [
       "True"
      ]
     },
     "execution_count": 49,
     "metadata": {},
     "output_type": "execute_result"
    }
   ],
   "source": [
    "import nltk\n",
    "nltk.download('punkt')"
   ]
  },
  {
   "cell_type": "code",
   "execution_count": 50,
   "id": "37721d63",
   "metadata": {},
   "outputs": [
    {
     "data": {
      "text/plain": [
       "['stuning',\n",
       " 'even',\n",
       " 'for',\n",
       " 'the',\n",
       " 'nongamer',\n",
       " 'this',\n",
       " 'sound',\n",
       " 'track',\n",
       " 'was',\n",
       " 'beautiful',\n",
       " 'it',\n",
       " 'paints',\n",
       " 'the',\n",
       " 'senery',\n",
       " 'in',\n",
       " 'your',\n",
       " 'mind',\n",
       " 'so',\n",
       " 'well',\n",
       " 'i',\n",
       " 'would',\n",
       " 'recomend',\n",
       " 'it',\n",
       " 'even',\n",
       " 'to',\n",
       " 'people',\n",
       " 'who',\n",
       " 'hate',\n",
       " 'vid',\n",
       " 'game',\n",
       " 'music',\n",
       " 'i',\n",
       " 'have',\n",
       " 'played',\n",
       " 'the',\n",
       " 'game',\n",
       " 'chrono',\n",
       " 'cross',\n",
       " 'but',\n",
       " 'out',\n",
       " 'of',\n",
       " 'all',\n",
       " 'of',\n",
       " 'the',\n",
       " 'games',\n",
       " 'i',\n",
       " 'have',\n",
       " 'ever',\n",
       " 'played',\n",
       " 'it',\n",
       " 'has',\n",
       " 'the',\n",
       " 'best',\n",
       " 'music',\n",
       " 'it',\n",
       " 'backs',\n",
       " 'away',\n",
       " 'from',\n",
       " 'crude',\n",
       " 'keyboarding',\n",
       " 'and',\n",
       " 'takes',\n",
       " 'a',\n",
       " 'fresher',\n",
       " 'step',\n",
       " 'with',\n",
       " 'grate',\n",
       " 'guitars',\n",
       " 'and',\n",
       " 'soulful',\n",
       " 'orchestras',\n",
       " 'it',\n",
       " 'would',\n",
       " 'impress',\n",
       " 'anyone',\n",
       " 'who',\n",
       " 'cares',\n",
       " 'to',\n",
       " 'listen']"
      ]
     },
     "execution_count": 50,
     "metadata": {},
     "output_type": "execute_result"
    }
   ],
   "source": [
    "from nltk.tokenize import word_tokenize, sent_tokenize\n",
    "\n",
    "DATA[\"TOKENS\"] = DATA[\"text\"].apply(word_tokenize)\n",
    "\n",
    "'''OR'''\n",
    "\n",
    "STRING_TOKENS = word_tokenize(STRING)\n",
    "STRING_TOKENS"
   ]
  },
  {
   "cell_type": "markdown",
   "id": "b6b1759e",
   "metadata": {},
   "source": [
    "### STOPWORD REMOVAL"
   ]
  },
  {
   "cell_type": "code",
   "execution_count": 51,
   "id": "e04e5747",
   "metadata": {},
   "outputs": [
    {
     "name": "stderr",
     "output_type": "stream",
     "text": [
      "[nltk_data] Downloading package stopwords to C:\\Users\\Nagesh\n",
      "[nltk_data]     Agrawal\\AppData\\Roaming\\nltk_data...\n",
      "[nltk_data]   Package stopwords is already up-to-date!\n"
     ]
    },
    {
     "data": {
      "text/plain": [
       "True"
      ]
     },
     "execution_count": 51,
     "metadata": {},
     "output_type": "execute_result"
    }
   ],
   "source": [
    "import nltk\n",
    "nltk.download('stopwords')"
   ]
  },
  {
   "cell_type": "code",
   "execution_count": 52,
   "id": "364bc524",
   "metadata": {},
   "outputs": [
    {
     "data": {
      "text/plain": [
       "['stuning',\n",
       " 'even',\n",
       " 'nongamer',\n",
       " 'sound',\n",
       " 'track',\n",
       " 'beautiful',\n",
       " 'paints',\n",
       " 'senery',\n",
       " 'mind',\n",
       " 'well',\n",
       " 'would',\n",
       " 'recomend',\n",
       " 'even',\n",
       " 'people',\n",
       " 'hate',\n",
       " 'vid',\n",
       " 'game',\n",
       " 'music',\n",
       " 'played',\n",
       " 'game',\n",
       " 'chrono',\n",
       " 'cross',\n",
       " 'games',\n",
       " 'ever',\n",
       " 'played',\n",
       " 'best',\n",
       " 'music',\n",
       " 'backs',\n",
       " 'away',\n",
       " 'crude',\n",
       " 'keyboarding',\n",
       " 'takes',\n",
       " 'fresher',\n",
       " 'step',\n",
       " 'grate',\n",
       " 'guitars',\n",
       " 'soulful',\n",
       " 'orchestras',\n",
       " 'would',\n",
       " 'impress',\n",
       " 'anyone',\n",
       " 'cares',\n",
       " 'listen']"
      ]
     },
     "execution_count": 52,
     "metadata": {},
     "output_type": "execute_result"
    }
   ],
   "source": [
    "from nltk.corpus import stopwords\n",
    "\n",
    "stop_words = set(stopwords.words('english'))\n",
    "\n",
    "DATA[\"TOKEN\"] = DATA[\"TOKENS\"].apply(lambda x: [word for word in x if word not in stop_words])\n",
    "\n",
    "\n",
    "'''OR'''\n",
    "\n",
    "\n",
    "STRING_FILTERED_TOKENS  = [word for word in STRING_TOKENS if word not in stop_words]\n",
    "STRING_FILTERED_TOKENS"
   ]
  },
  {
   "cell_type": "markdown",
   "id": "627b672f",
   "metadata": {},
   "source": [
    "### LEMMATIZATION / STEMMING"
   ]
  },
  {
   "cell_type": "code",
   "execution_count": 53,
   "id": "451aa928",
   "metadata": {},
   "outputs": [
    {
     "name": "stderr",
     "output_type": "stream",
     "text": [
      "[nltk_data] Downloading package omw-1.4 to C:\\Users\\Nagesh\n",
      "[nltk_data]     Agrawal\\AppData\\Roaming\\nltk_data...\n",
      "[nltk_data]   Package omw-1.4 is already up-to-date!\n",
      "[nltk_data] Downloading package wordnet to C:\\Users\\Nagesh\n",
      "[nltk_data]     Agrawal\\AppData\\Roaming\\nltk_data...\n",
      "[nltk_data]   Package wordnet is already up-to-date!\n"
     ]
    },
    {
     "data": {
      "text/plain": [
       "True"
      ]
     },
     "execution_count": 53,
     "metadata": {},
     "output_type": "execute_result"
    }
   ],
   "source": [
    "import nltk\n",
    "nltk.download('omw-1.4')\n",
    "nltk.download('wordnet')"
   ]
  },
  {
   "cell_type": "code",
   "execution_count": 54,
   "id": "5aebea84",
   "metadata": {},
   "outputs": [
    {
     "data": {
      "text/plain": [
       "['stuning',\n",
       " 'even',\n",
       " 'nongamer',\n",
       " 'sound',\n",
       " 'track',\n",
       " 'beautiful',\n",
       " 'paint',\n",
       " 'senery',\n",
       " 'mind',\n",
       " 'well',\n",
       " 'would',\n",
       " 'recomend',\n",
       " 'even',\n",
       " 'people',\n",
       " 'hate',\n",
       " 'vid',\n",
       " 'game',\n",
       " 'music',\n",
       " 'played',\n",
       " 'game',\n",
       " 'chrono',\n",
       " 'cross',\n",
       " 'game',\n",
       " 'ever',\n",
       " 'played',\n",
       " 'best',\n",
       " 'music',\n",
       " 'back',\n",
       " 'away',\n",
       " 'crude',\n",
       " 'keyboarding',\n",
       " 'take',\n",
       " 'fresher',\n",
       " 'step',\n",
       " 'grate',\n",
       " 'guitar',\n",
       " 'soulful',\n",
       " 'orchestra',\n",
       " 'would',\n",
       " 'impress',\n",
       " 'anyone',\n",
       " 'care',\n",
       " 'listen']"
      ]
     },
     "execution_count": 54,
     "metadata": {},
     "output_type": "execute_result"
    }
   ],
   "source": [
    "from nltk.stem import WordNetLemmatizer\n",
    "\n",
    "LEMMATIZER = WordNetLemmatizer()\n",
    "\n",
    "DATA[\"LEMMATIZED\"] = DATA[\"TOKEN\"].apply(lambda x: [LEMMATIZER.lemmatize(word) for word in x])\n",
    "\n",
    "'''OR'''\n",
    "\n",
    "STRING_LEMMATIZED_TOKENS = [LEMMATIZER.lemmatize(word) for word in STRING_FILTERED_TOKENS]\n",
    "STRING_LEMMATIZED_TOKENS"
   ]
  },
  {
   "cell_type": "code",
   "execution_count": 55,
   "id": "48141cdb",
   "metadata": {},
   "outputs": [],
   "source": [
    "from nltk.stem import PorterStemmer\n",
    "stemmer = PorterStemmer()\n",
    "DATA[\"STEMMED\"] = DATA[\"TOKEN\"].apply(lambda x: [stemmer.stem(word) for word in x])\n",
    "\n",
    "'''OR'''\n",
    "\n",
    "STRING_STEMMED_TOKENS = [stemmer.stem(word) for word in STRING_FILTERED_TOKENS]"
   ]
  },
  {
   "cell_type": "code",
   "execution_count": 56,
   "id": "cfdf294e",
   "metadata": {},
   "outputs": [],
   "source": [
    "from nltk.stem import SnowballStemmer\n",
    "stemmer = SnowballStemmer(\"english\")\n",
    "stemmer.stem(\"fairies\")  # ➡️ \"fairi\"\n",
    "\n",
    "DATA[\"S_STEMMED\"] = DATA[\"TOKEN\"].apply(lambda x: [stemmer.stem(word) for word in x])\n",
    "\n",
    "'''OR'''\n",
    "\n",
    "\n",
    "STRING_STEMMED_TOKENS = [stemmer.stem(word) for word in STRING_FILTERED_TOKENS]"
   ]
  },
  {
   "cell_type": "markdown",
   "id": "421410a3",
   "metadata": {},
   "source": [
    "### DETOKENIZATION (REJOIN TOKEN TO TEXT)\n"
   ]
  },
  {
   "cell_type": "code",
   "execution_count": 57,
   "id": "208cec06",
   "metadata": {},
   "outputs": [],
   "source": [
    "from nltk.tokenize.treebank import TreebankWordDetokenizer\n",
    "detokenizer = TreebankWordDetokenizer()\n",
    "\n",
    "DATA['detokenized_text'] = DATA['LEMMATIZED'].apply(detokenizer.detokenize)\n",
    "\n",
    "\n",
    "'''OR'''\n",
    "\n",
    "\n",
    "STRING = detokenizer.detokenize(STRING_LEMMATIZED_TOKENS)\n",
    "\n"
   ]
  },
  {
   "cell_type": "code",
   "execution_count": 58,
   "id": "b0484aa5",
   "metadata": {},
   "outputs": [],
   "source": [
    "DATA['JOIN_TEXT'] = DATA['LEMMATIZED'].apply(lambda tokens: ' '.join(tokens) + '.')\n",
    "\n",
    "\n",
    "'''OR'''\n",
    "\n",
    "STRING = ' '.join(STRING_LEMMATIZED_TOKENS)"
   ]
  },
  {
   "cell_type": "code",
   "execution_count": 59,
   "id": "10b2d663",
   "metadata": {},
   "outputs": [
    {
     "data": {
      "application/vnd.microsoft.datawrangler.viewer.v0+json": {
       "columns": [
        {
         "name": "index",
         "rawType": "int64",
         "type": "integer"
        },
        {
         "name": "label",
         "rawType": "object",
         "type": "string"
        },
        {
         "name": "text",
         "rawType": "object",
         "type": "string"
        },
        {
         "name": "TOKENS",
         "rawType": "object",
         "type": "unknown"
        },
        {
         "name": "TOKEN",
         "rawType": "object",
         "type": "unknown"
        },
        {
         "name": "LEMMATIZED",
         "rawType": "object",
         "type": "unknown"
        },
        {
         "name": "STEMMED",
         "rawType": "object",
         "type": "unknown"
        },
        {
         "name": "S_STEMMED",
         "rawType": "object",
         "type": "unknown"
        },
        {
         "name": "detokenized_text",
         "rawType": "object",
         "type": "string"
        },
        {
         "name": "JOIN_TEXT",
         "rawType": "object",
         "type": "string"
        }
       ],
       "ref": "27e7d00e-7173-4038-95b1-5139190b47d4",
       "rows": [
        [
         "0",
         "__label__2",
         "stuning even for the nongamer this sound track was beautiful it paints the senery in your mind so well i would recomend it even to people who hate vid game music i have played the game chrono cross but out of all of the games i have ever played it has the best music it backs away from crude keyboarding and takes a fresher step with grate guitars and soulful orchestras it would impress anyone who cares to listen ",
         "['stuning', 'even', 'for', 'the', 'nongamer', 'this', 'sound', 'track', 'was', 'beautiful', 'it', 'paints', 'the', 'senery', 'in', 'your', 'mind', 'so', 'well', 'i', 'would', 'recomend', 'it', 'even', 'to', 'people', 'who', 'hate', 'vid', 'game', 'music', 'i', 'have', 'played', 'the', 'game', 'chrono', 'cross', 'but', 'out', 'of', 'all', 'of', 'the', 'games', 'i', 'have', 'ever', 'played', 'it', 'has', 'the', 'best', 'music', 'it', 'backs', 'away', 'from', 'crude', 'keyboarding', 'and', 'takes', 'a', 'fresher', 'step', 'with', 'grate', 'guitars', 'and', 'soulful', 'orchestras', 'it', 'would', 'impress', 'anyone', 'who', 'cares', 'to', 'listen']",
         "['stuning', 'even', 'nongamer', 'sound', 'track', 'beautiful', 'paints', 'senery', 'mind', 'well', 'would', 'recomend', 'even', 'people', 'hate', 'vid', 'game', 'music', 'played', 'game', 'chrono', 'cross', 'games', 'ever', 'played', 'best', 'music', 'backs', 'away', 'crude', 'keyboarding', 'takes', 'fresher', 'step', 'grate', 'guitars', 'soulful', 'orchestras', 'would', 'impress', 'anyone', 'cares', 'listen']",
         "['stuning', 'even', 'nongamer', 'sound', 'track', 'beautiful', 'paint', 'senery', 'mind', 'well', 'would', 'recomend', 'even', 'people', 'hate', 'vid', 'game', 'music', 'played', 'game', 'chrono', 'cross', 'game', 'ever', 'played', 'best', 'music', 'back', 'away', 'crude', 'keyboarding', 'take', 'fresher', 'step', 'grate', 'guitar', 'soulful', 'orchestra', 'would', 'impress', 'anyone', 'care', 'listen']",
         "['stune', 'even', 'nongam', 'sound', 'track', 'beauti', 'paint', 'seneri', 'mind', 'well', 'would', 'recomend', 'even', 'peopl', 'hate', 'vid', 'game', 'music', 'play', 'game', 'chrono', 'cross', 'game', 'ever', 'play', 'best', 'music', 'back', 'away', 'crude', 'keyboard', 'take', 'fresher', 'step', 'grate', 'guitar', 'soul', 'orchestra', 'would', 'impress', 'anyon', 'care', 'listen']",
         "['stune', 'even', 'nongam', 'sound', 'track', 'beauti', 'paint', 'seneri', 'mind', 'well', 'would', 'recomend', 'even', 'peopl', 'hate', 'vid', 'game', 'music', 'play', 'game', 'chrono', 'cross', 'game', 'ever', 'play', 'best', 'music', 'back', 'away', 'crude', 'keyboard', 'take', 'fresher', 'step', 'grate', 'guitar', 'soul', 'orchestra', 'would', 'impress', 'anyon', 'care', 'listen']",
         "stuning even nongamer sound track beautiful paint senery mind well would recomend even people hate vid game music played game chrono cross game ever played best music back away crude keyboarding take fresher step grate guitar soulful orchestra would impress anyone care listen",
         "stuning even nongamer sound track beautiful paint senery mind well would recomend even people hate vid game music played game chrono cross game ever played best music back away crude keyboarding take fresher step grate guitar soulful orchestra would impress anyone care listen."
        ],
        [
         "1",
         "__label__2",
         "the best soundtrack ever to anything i am reading a lot of reviews saying that this is the best game soundtrack and i figured that id write a review to disagree a bit this in my opinino is yasunori mitsudas ultimate masterpiece the music is timeless and i am been listening to it for years now and its beauty simply refuses to fadethe price tag on this is pretty staggering i must say but if you are going to buy any cd for this much money this is the only one that i feel would be worth every penny",
         "['the', 'best', 'soundtrack', 'ever', 'to', 'anything', 'i', 'am', 'reading', 'a', 'lot', 'of', 'reviews', 'saying', 'that', 'this', 'is', 'the', 'best', 'game', 'soundtrack', 'and', 'i', 'figured', 'that', 'id', 'write', 'a', 'review', 'to', 'disagree', 'a', 'bit', 'this', 'in', 'my', 'opinino', 'is', 'yasunori', 'mitsudas', 'ultimate', 'masterpiece', 'the', 'music', 'is', 'timeless', 'and', 'i', 'am', 'been', 'listening', 'to', 'it', 'for', 'years', 'now', 'and', 'its', 'beauty', 'simply', 'refuses', 'to', 'fadethe', 'price', 'tag', 'on', 'this', 'is', 'pretty', 'staggering', 'i', 'must', 'say', 'but', 'if', 'you', 'are', 'going', 'to', 'buy', 'any', 'cd', 'for', 'this', 'much', 'money', 'this', 'is', 'the', 'only', 'one', 'that', 'i', 'feel', 'would', 'be', 'worth', 'every', 'penny']",
         "['best', 'soundtrack', 'ever', 'anything', 'reading', 'lot', 'reviews', 'saying', 'best', 'game', 'soundtrack', 'figured', 'id', 'write', 'review', 'disagree', 'bit', 'opinino', 'yasunori', 'mitsudas', 'ultimate', 'masterpiece', 'music', 'timeless', 'listening', 'years', 'beauty', 'simply', 'refuses', 'fadethe', 'price', 'tag', 'pretty', 'staggering', 'must', 'say', 'going', 'buy', 'cd', 'much', 'money', 'one', 'feel', 'would', 'worth', 'every', 'penny']",
         "['best', 'soundtrack', 'ever', 'anything', 'reading', 'lot', 'review', 'saying', 'best', 'game', 'soundtrack', 'figured', 'id', 'write', 'review', 'disagree', 'bit', 'opinino', 'yasunori', 'mitsudas', 'ultimate', 'masterpiece', 'music', 'timeless', 'listening', 'year', 'beauty', 'simply', 'refuse', 'fadethe', 'price', 'tag', 'pretty', 'staggering', 'must', 'say', 'going', 'buy', 'cd', 'much', 'money', 'one', 'feel', 'would', 'worth', 'every', 'penny']",
         "['best', 'soundtrack', 'ever', 'anyth', 'read', 'lot', 'review', 'say', 'best', 'game', 'soundtrack', 'figur', 'id', 'write', 'review', 'disagre', 'bit', 'opinino', 'yasunori', 'mitsuda', 'ultim', 'masterpiec', 'music', 'timeless', 'listen', 'year', 'beauti', 'simpli', 'refus', 'fadeth', 'price', 'tag', 'pretti', 'stagger', 'must', 'say', 'go', 'buy', 'cd', 'much', 'money', 'one', 'feel', 'would', 'worth', 'everi', 'penni']",
         "['best', 'soundtrack', 'ever', 'anyth', 'read', 'lot', 'review', 'say', 'best', 'game', 'soundtrack', 'figur', 'id', 'write', 'review', 'disagre', 'bit', 'opinino', 'yasunori', 'mitsuda', 'ultim', 'masterpiec', 'music', 'timeless', 'listen', 'year', 'beauti', 'simpli', 'refus', 'fadeth', 'price', 'tag', 'pretti', 'stagger', 'must', 'say', 'go', 'buy', 'cd', 'much', 'money', 'one', 'feel', 'would', 'worth', 'everi', 'penni']",
         "best soundtrack ever anything reading lot review saying best game soundtrack figured id write review disagree bit opinino yasunori mitsudas ultimate masterpiece music timeless listening year beauty simply refuse fadethe price tag pretty staggering must say going buy cd much money one feel would worth every penny",
         "best soundtrack ever anything reading lot review saying best game soundtrack figured id write review disagree bit opinino yasunori mitsudas ultimate masterpiece music timeless listening year beauty simply refuse fadethe price tag pretty staggering must say going buy cd much money one feel would worth every penny."
        ],
        [
         "2",
         "__label__2",
         "amazing this soundtrack is my favorite music of all time hands down the intense sadness of prisoners of fate which means all the more if you have played the game and the hope in a distant promise and girl who stole the star have been an important inspiration to me personally throughout my teen years the higher energy tracks like chrono cross  times scar time of the dreamwatch and chronomantique indefinably remeniscent of chrono trigger are all absolutely superb as wellthis soundtrack is amazing music probably the best of this composers work i have not heard the xenogears soundtrack so i cannot say for sure and even if you have never played the game it would be worth twice the price to buy iti wish i could give it  stars",
         "['amazing', 'this', 'soundtrack', 'is', 'my', 'favorite', 'music', 'of', 'all', 'time', 'hands', 'down', 'the', 'intense', 'sadness', 'of', 'prisoners', 'of', 'fate', 'which', 'means', 'all', 'the', 'more', 'if', 'you', 'have', 'played', 'the', 'game', 'and', 'the', 'hope', 'in', 'a', 'distant', 'promise', 'and', 'girl', 'who', 'stole', 'the', 'star', 'have', 'been', 'an', 'important', 'inspiration', 'to', 'me', 'personally', 'throughout', 'my', 'teen', 'years', 'the', 'higher', 'energy', 'tracks', 'like', 'chrono', 'cross', 'times', 'scar', 'time', 'of', 'the', 'dreamwatch', 'and', 'chronomantique', 'indefinably', 'remeniscent', 'of', 'chrono', 'trigger', 'are', 'all', 'absolutely', 'superb', 'as', 'wellthis', 'soundtrack', 'is', 'amazing', 'music', 'probably', 'the', 'best', 'of', 'this', 'composers', 'work', 'i', 'have', 'not', 'heard', 'the', 'xenogears', 'soundtrack', 'so', 'i', 'can', 'not', 'say', 'for', 'sure', 'and', 'even', 'if', 'you', 'have', 'never', 'played', 'the', 'game', 'it', 'would', 'be', 'worth', 'twice', 'the', 'price', 'to', 'buy', 'iti', 'wish', 'i', 'could', 'give', 'it', 'stars']",
         "['amazing', 'soundtrack', 'favorite', 'music', 'time', 'hands', 'intense', 'sadness', 'prisoners', 'fate', 'means', 'played', 'game', 'hope', 'distant', 'promise', 'girl', 'stole', 'star', 'important', 'inspiration', 'personally', 'throughout', 'teen', 'years', 'higher', 'energy', 'tracks', 'like', 'chrono', 'cross', 'times', 'scar', 'time', 'dreamwatch', 'chronomantique', 'indefinably', 'remeniscent', 'chrono', 'trigger', 'absolutely', 'superb', 'wellthis', 'soundtrack', 'amazing', 'music', 'probably', 'best', 'composers', 'work', 'heard', 'xenogears', 'soundtrack', 'say', 'sure', 'even', 'never', 'played', 'game', 'would', 'worth', 'twice', 'price', 'buy', 'iti', 'wish', 'could', 'give', 'stars']",
         "['amazing', 'soundtrack', 'favorite', 'music', 'time', 'hand', 'intense', 'sadness', 'prisoner', 'fate', 'mean', 'played', 'game', 'hope', 'distant', 'promise', 'girl', 'stole', 'star', 'important', 'inspiration', 'personally', 'throughout', 'teen', 'year', 'higher', 'energy', 'track', 'like', 'chrono', 'cross', 'time', 'scar', 'time', 'dreamwatch', 'chronomantique', 'indefinably', 'remeniscent', 'chrono', 'trigger', 'absolutely', 'superb', 'wellthis', 'soundtrack', 'amazing', 'music', 'probably', 'best', 'composer', 'work', 'heard', 'xenogears', 'soundtrack', 'say', 'sure', 'even', 'never', 'played', 'game', 'would', 'worth', 'twice', 'price', 'buy', 'iti', 'wish', 'could', 'give', 'star']",
         "['amaz', 'soundtrack', 'favorit', 'music', 'time', 'hand', 'intens', 'sad', 'prison', 'fate', 'mean', 'play', 'game', 'hope', 'distant', 'promis', 'girl', 'stole', 'star', 'import', 'inspir', 'person', 'throughout', 'teen', 'year', 'higher', 'energi', 'track', 'like', 'chrono', 'cross', 'time', 'scar', 'time', 'dreamwatch', 'chronomantiqu', 'indefin', 'remenisc', 'chrono', 'trigger', 'absolut', 'superb', 'wellthi', 'soundtrack', 'amaz', 'music', 'probabl', 'best', 'compos', 'work', 'heard', 'xenogear', 'soundtrack', 'say', 'sure', 'even', 'never', 'play', 'game', 'would', 'worth', 'twice', 'price', 'buy', 'iti', 'wish', 'could', 'give', 'star']",
         "['amaz', 'soundtrack', 'favorit', 'music', 'time', 'hand', 'intens', 'sad', 'prison', 'fate', 'mean', 'play', 'game', 'hope', 'distant', 'promis', 'girl', 'stole', 'star', 'import', 'inspir', 'person', 'throughout', 'teen', 'year', 'higher', 'energi', 'track', 'like', 'chrono', 'cross', 'time', 'scar', 'time', 'dreamwatch', 'chronomantiqu', 'indefin', 'remenisc', 'chrono', 'trigger', 'absolut', 'superb', 'wellthi', 'soundtrack', 'amaz', 'music', 'probabl', 'best', 'compos', 'work', 'heard', 'xenogear', 'soundtrack', 'say', 'sure', 'even', 'never', 'play', 'game', 'would', 'worth', 'twice', 'price', 'buy', 'iti', 'wish', 'could', 'give', 'star']",
         "amazing soundtrack favorite music time hand intense sadness prisoner fate mean played game hope distant promise girl stole star important inspiration personally throughout teen year higher energy track like chrono cross time scar time dreamwatch chronomantique indefinably remeniscent chrono trigger absolutely superb wellthis soundtrack amazing music probably best composer work heard xenogears soundtrack say sure even never played game would worth twice price buy iti wish could give star",
         "amazing soundtrack favorite music time hand intense sadness prisoner fate mean played game hope distant promise girl stole star important inspiration personally throughout teen year higher energy track like chrono cross time scar time dreamwatch chronomantique indefinably remeniscent chrono trigger absolutely superb wellthis soundtrack amazing music probably best composer work heard xenogears soundtrack say sure even never played game would worth twice price buy iti wish could give star."
        ],
        [
         "3",
         "__label__2",
         "excellent soundtrack i truly like this soundtrack and i enjoy video game music i have played this game and most of the music on here i enjoy and its truly relaxing and peacefulon disk one my favorites are scars of time between life and death forest of illusion fortress of ancient dragons lost fragment and drowned valleydisk two the draggons galdorb  home chronomantique prisoners of fate gale and my girlfriend likes zelbessdisk three the best of the three garden of god chronopolis fates jellyfish sea burning orphange dragons prayer tower of stars dragon god and radical dreamers  unstealable jeweloverall this is a excellent soundtrack and should be brought by those that like video game musicxander cross",
         "['excellent', 'soundtrack', 'i', 'truly', 'like', 'this', 'soundtrack', 'and', 'i', 'enjoy', 'video', 'game', 'music', 'i', 'have', 'played', 'this', 'game', 'and', 'most', 'of', 'the', 'music', 'on', 'here', 'i', 'enjoy', 'and', 'its', 'truly', 'relaxing', 'and', 'peacefulon', 'disk', 'one', 'my', 'favorites', 'are', 'scars', 'of', 'time', 'between', 'life', 'and', 'death', 'forest', 'of', 'illusion', 'fortress', 'of', 'ancient', 'dragons', 'lost', 'fragment', 'and', 'drowned', 'valleydisk', 'two', 'the', 'draggons', 'galdorb', 'home', 'chronomantique', 'prisoners', 'of', 'fate', 'gale', 'and', 'my', 'girlfriend', 'likes', 'zelbessdisk', 'three', 'the', 'best', 'of', 'the', 'three', 'garden', 'of', 'god', 'chronopolis', 'fates', 'jellyfish', 'sea', 'burning', 'orphange', 'dragons', 'prayer', 'tower', 'of', 'stars', 'dragon', 'god', 'and', 'radical', 'dreamers', 'unstealable', 'jeweloverall', 'this', 'is', 'a', 'excellent', 'soundtrack', 'and', 'should', 'be', 'brought', 'by', 'those', 'that', 'like', 'video', 'game', 'musicxander', 'cross']",
         "['excellent', 'soundtrack', 'truly', 'like', 'soundtrack', 'enjoy', 'video', 'game', 'music', 'played', 'game', 'music', 'enjoy', 'truly', 'relaxing', 'peacefulon', 'disk', 'one', 'favorites', 'scars', 'time', 'life', 'death', 'forest', 'illusion', 'fortress', 'ancient', 'dragons', 'lost', 'fragment', 'drowned', 'valleydisk', 'two', 'draggons', 'galdorb', 'home', 'chronomantique', 'prisoners', 'fate', 'gale', 'girlfriend', 'likes', 'zelbessdisk', 'three', 'best', 'three', 'garden', 'god', 'chronopolis', 'fates', 'jellyfish', 'sea', 'burning', 'orphange', 'dragons', 'prayer', 'tower', 'stars', 'dragon', 'god', 'radical', 'dreamers', 'unstealable', 'jeweloverall', 'excellent', 'soundtrack', 'brought', 'like', 'video', 'game', 'musicxander', 'cross']",
         "['excellent', 'soundtrack', 'truly', 'like', 'soundtrack', 'enjoy', 'video', 'game', 'music', 'played', 'game', 'music', 'enjoy', 'truly', 'relaxing', 'peacefulon', 'disk', 'one', 'favorite', 'scar', 'time', 'life', 'death', 'forest', 'illusion', 'fortress', 'ancient', 'dragon', 'lost', 'fragment', 'drowned', 'valleydisk', 'two', 'draggons', 'galdorb', 'home', 'chronomantique', 'prisoner', 'fate', 'gale', 'girlfriend', 'like', 'zelbessdisk', 'three', 'best', 'three', 'garden', 'god', 'chronopolis', 'fate', 'jellyfish', 'sea', 'burning', 'orphange', 'dragon', 'prayer', 'tower', 'star', 'dragon', 'god', 'radical', 'dreamer', 'unstealable', 'jeweloverall', 'excellent', 'soundtrack', 'brought', 'like', 'video', 'game', 'musicxander', 'cross']",
         "['excel', 'soundtrack', 'truli', 'like', 'soundtrack', 'enjoy', 'video', 'game', 'music', 'play', 'game', 'music', 'enjoy', 'truli', 'relax', 'peacefulon', 'disk', 'one', 'favorit', 'scar', 'time', 'life', 'death', 'forest', 'illus', 'fortress', 'ancient', 'dragon', 'lost', 'fragment', 'drown', 'valleydisk', 'two', 'draggon', 'galdorb', 'home', 'chronomantiqu', 'prison', 'fate', 'gale', 'girlfriend', 'like', 'zelbessdisk', 'three', 'best', 'three', 'garden', 'god', 'chronopoli', 'fate', 'jellyfish', 'sea', 'burn', 'orphang', 'dragon', 'prayer', 'tower', 'star', 'dragon', 'god', 'radic', 'dreamer', 'unsteal', 'jeweloveral', 'excel', 'soundtrack', 'brought', 'like', 'video', 'game', 'musicxand', 'cross']",
         "['excel', 'soundtrack', 'truli', 'like', 'soundtrack', 'enjoy', 'video', 'game', 'music', 'play', 'game', 'music', 'enjoy', 'truli', 'relax', 'peacefulon', 'disk', 'one', 'favorit', 'scar', 'time', 'life', 'death', 'forest', 'illus', 'fortress', 'ancient', 'dragon', 'lost', 'fragment', 'drown', 'valleydisk', 'two', 'draggon', 'galdorb', 'home', 'chronomantiqu', 'prison', 'fate', 'gale', 'girlfriend', 'like', 'zelbessdisk', 'three', 'best', 'three', 'garden', 'god', 'chronopoli', 'fate', 'jellyfish', 'sea', 'burn', 'orphang', 'dragon', 'prayer', 'tower', 'star', 'dragon', 'god', 'radic', 'dreamer', 'unsteal', 'jeweloveral', 'excel', 'soundtrack', 'brought', 'like', 'video', 'game', 'musicxand', 'cross']",
         "excellent soundtrack truly like soundtrack enjoy video game music played game music enjoy truly relaxing peacefulon disk one favorite scar time life death forest illusion fortress ancient dragon lost fragment drowned valleydisk two draggons galdorb home chronomantique prisoner fate gale girlfriend like zelbessdisk three best three garden god chronopolis fate jellyfish sea burning orphange dragon prayer tower star dragon god radical dreamer unstealable jeweloverall excellent soundtrack brought like video game musicxander cross",
         "excellent soundtrack truly like soundtrack enjoy video game music played game music enjoy truly relaxing peacefulon disk one favorite scar time life death forest illusion fortress ancient dragon lost fragment drowned valleydisk two draggons galdorb home chronomantique prisoner fate gale girlfriend like zelbessdisk three best three garden god chronopolis fate jellyfish sea burning orphange dragon prayer tower star dragon god radical dreamer unstealable jeweloverall excellent soundtrack brought like video game musicxander cross."
        ],
        [
         "4",
         "__label__2",
         "remember pull your jaw off the floor after hearing it if you have played the game you know how divine the music is every single song tells a story of the game its that good the greatest songs are without a doubt chrono cross times scar magical dreamers the wind the stars and the sea and radical dreamers unstolen jewel translation varies this music is perfect if you ask me the best it can be yasunori mitsuda just poured his heart on and wrote it down on paper",
         "['remember', 'pull', 'your', 'jaw', 'off', 'the', 'floor', 'after', 'hearing', 'it', 'if', 'you', 'have', 'played', 'the', 'game', 'you', 'know', 'how', 'divine', 'the', 'music', 'is', 'every', 'single', 'song', 'tells', 'a', 'story', 'of', 'the', 'game', 'its', 'that', 'good', 'the', 'greatest', 'songs', 'are', 'without', 'a', 'doubt', 'chrono', 'cross', 'times', 'scar', 'magical', 'dreamers', 'the', 'wind', 'the', 'stars', 'and', 'the', 'sea', 'and', 'radical', 'dreamers', 'unstolen', 'jewel', 'translation', 'varies', 'this', 'music', 'is', 'perfect', 'if', 'you', 'ask', 'me', 'the', 'best', 'it', 'can', 'be', 'yasunori', 'mitsuda', 'just', 'poured', 'his', 'heart', 'on', 'and', 'wrote', 'it', 'down', 'on', 'paper']",
         "['remember', 'pull', 'jaw', 'floor', 'hearing', 'played', 'game', 'know', 'divine', 'music', 'every', 'single', 'song', 'tells', 'story', 'game', 'good', 'greatest', 'songs', 'without', 'doubt', 'chrono', 'cross', 'times', 'scar', 'magical', 'dreamers', 'wind', 'stars', 'sea', 'radical', 'dreamers', 'unstolen', 'jewel', 'translation', 'varies', 'music', 'perfect', 'ask', 'best', 'yasunori', 'mitsuda', 'poured', 'heart', 'wrote', 'paper']",
         "['remember', 'pull', 'jaw', 'floor', 'hearing', 'played', 'game', 'know', 'divine', 'music', 'every', 'single', 'song', 'tell', 'story', 'game', 'good', 'greatest', 'song', 'without', 'doubt', 'chrono', 'cross', 'time', 'scar', 'magical', 'dreamer', 'wind', 'star', 'sea', 'radical', 'dreamer', 'unstolen', 'jewel', 'translation', 'varies', 'music', 'perfect', 'ask', 'best', 'yasunori', 'mitsuda', 'poured', 'heart', 'wrote', 'paper']",
         "['rememb', 'pull', 'jaw', 'floor', 'hear', 'play', 'game', 'know', 'divin', 'music', 'everi', 'singl', 'song', 'tell', 'stori', 'game', 'good', 'greatest', 'song', 'without', 'doubt', 'chrono', 'cross', 'time', 'scar', 'magic', 'dreamer', 'wind', 'star', 'sea', 'radic', 'dreamer', 'unstolen', 'jewel', 'translat', 'vari', 'music', 'perfect', 'ask', 'best', 'yasunori', 'mitsuda', 'pour', 'heart', 'wrote', 'paper']",
         "['rememb', 'pull', 'jaw', 'floor', 'hear', 'play', 'game', 'know', 'divin', 'music', 'everi', 'singl', 'song', 'tell', 'stori', 'game', 'good', 'greatest', 'song', 'without', 'doubt', 'chrono', 'cross', 'time', 'scar', 'magic', 'dreamer', 'wind', 'star', 'sea', 'radic', 'dreamer', 'unstolen', 'jewel', 'translat', 'vari', 'music', 'perfect', 'ask', 'best', 'yasunori', 'mitsuda', 'pour', 'heart', 'wrote', 'paper']",
         "remember pull jaw floor hearing played game know divine music every single song tell story game good greatest song without doubt chrono cross time scar magical dreamer wind star sea radical dreamer unstolen jewel translation varies music perfect ask best yasunori mitsuda poured heart wrote paper",
         "remember pull jaw floor hearing played game know divine music every single song tell story game good greatest song without doubt chrono cross time scar magical dreamer wind star sea radical dreamer unstolen jewel translation varies music perfect ask best yasunori mitsuda poured heart wrote paper."
        ],
        [
         "5",
         "__label__2",
         "an absolute masterpiece i am quite sure any of you actually taking the time to read this have played the game at least once and heard at least a few of the tracks here and whether you were aware of it or not mitsudas music contributed greatly to the mood of every single minute of the whole gamecomposed of  cds and quite a few songs i have not an exact count all of which are heartrendering and impressively remarkable this soundtrack is one i assure you you will not forget it has everything for every listener  from fastpaced and energetic dancing the tokage or termina home to slower and more haunting dragon god to purely beautifully composed times scar to even some fantastic vocals radical dreamersthis is one of the best videogame soundtracks out there and surely mitsudas best ever ",
         "['an', 'absolute', 'masterpiece', 'i', 'am', 'quite', 'sure', 'any', 'of', 'you', 'actually', 'taking', 'the', 'time', 'to', 'read', 'this', 'have', 'played', 'the', 'game', 'at', 'least', 'once', 'and', 'heard', 'at', 'least', 'a', 'few', 'of', 'the', 'tracks', 'here', 'and', 'whether', 'you', 'were', 'aware', 'of', 'it', 'or', 'not', 'mitsudas', 'music', 'contributed', 'greatly', 'to', 'the', 'mood', 'of', 'every', 'single', 'minute', 'of', 'the', 'whole', 'gamecomposed', 'of', 'cds', 'and', 'quite', 'a', 'few', 'songs', 'i', 'have', 'not', 'an', 'exact', 'count', 'all', 'of', 'which', 'are', 'heartrendering', 'and', 'impressively', 'remarkable', 'this', 'soundtrack', 'is', 'one', 'i', 'assure', 'you', 'you', 'will', 'not', 'forget', 'it', 'has', 'everything', 'for', 'every', 'listener', 'from', 'fastpaced', 'and', 'energetic', 'dancing', 'the', 'tokage', 'or', 'termina', 'home', 'to', 'slower', 'and', 'more', 'haunting', 'dragon', 'god', 'to', 'purely', 'beautifully', 'composed', 'times', 'scar', 'to', 'even', 'some', 'fantastic', 'vocals', 'radical', 'dreamersthis', 'is', 'one', 'of', 'the', 'best', 'videogame', 'soundtracks', 'out', 'there', 'and', 'surely', 'mitsudas', 'best', 'ever']",
         "['absolute', 'masterpiece', 'quite', 'sure', 'actually', 'taking', 'time', 'read', 'played', 'game', 'least', 'heard', 'least', 'tracks', 'whether', 'aware', 'mitsudas', 'music', 'contributed', 'greatly', 'mood', 'every', 'single', 'minute', 'whole', 'gamecomposed', 'cds', 'quite', 'songs', 'exact', 'count', 'heartrendering', 'impressively', 'remarkable', 'soundtrack', 'one', 'assure', 'forget', 'everything', 'every', 'listener', 'fastpaced', 'energetic', 'dancing', 'tokage', 'termina', 'home', 'slower', 'haunting', 'dragon', 'god', 'purely', 'beautifully', 'composed', 'times', 'scar', 'even', 'fantastic', 'vocals', 'radical', 'dreamersthis', 'one', 'best', 'videogame', 'soundtracks', 'surely', 'mitsudas', 'best', 'ever']",
         "['absolute', 'masterpiece', 'quite', 'sure', 'actually', 'taking', 'time', 'read', 'played', 'game', 'least', 'heard', 'least', 'track', 'whether', 'aware', 'mitsudas', 'music', 'contributed', 'greatly', 'mood', 'every', 'single', 'minute', 'whole', 'gamecomposed', 'cd', 'quite', 'song', 'exact', 'count', 'heartrendering', 'impressively', 'remarkable', 'soundtrack', 'one', 'assure', 'forget', 'everything', 'every', 'listener', 'fastpaced', 'energetic', 'dancing', 'tokage', 'termina', 'home', 'slower', 'haunting', 'dragon', 'god', 'purely', 'beautifully', 'composed', 'time', 'scar', 'even', 'fantastic', 'vocal', 'radical', 'dreamersthis', 'one', 'best', 'videogame', 'soundtrack', 'surely', 'mitsudas', 'best', 'ever']",
         "['absolut', 'masterpiec', 'quit', 'sure', 'actual', 'take', 'time', 'read', 'play', 'game', 'least', 'heard', 'least', 'track', 'whether', 'awar', 'mitsuda', 'music', 'contribut', 'greatli', 'mood', 'everi', 'singl', 'minut', 'whole', 'gamecompos', 'cd', 'quit', 'song', 'exact', 'count', 'heartrend', 'impress', 'remark', 'soundtrack', 'one', 'assur', 'forget', 'everyth', 'everi', 'listen', 'fastpac', 'energet', 'danc', 'tokag', 'termina', 'home', 'slower', 'haunt', 'dragon', 'god', 'pure', 'beauti', 'compos', 'time', 'scar', 'even', 'fantast', 'vocal', 'radic', 'dreamersthi', 'one', 'best', 'videogam', 'soundtrack', 'sure', 'mitsuda', 'best', 'ever']",
         "['absolut', 'masterpiec', 'quit', 'sure', 'actual', 'take', 'time', 'read', 'play', 'game', 'least', 'heard', 'least', 'track', 'whether', 'awar', 'mitsuda', 'music', 'contribut', 'great', 'mood', 'everi', 'singl', 'minut', 'whole', 'gamecompos', 'cds', 'quit', 'song', 'exact', 'count', 'heartrend', 'impress', 'remark', 'soundtrack', 'one', 'assur', 'forget', 'everyth', 'everi', 'listen', 'fastpac', 'energet', 'danc', 'tokag', 'termina', 'home', 'slower', 'haunt', 'dragon', 'god', 'pure', 'beauti', 'compos', 'time', 'scar', 'even', 'fantast', 'vocal', 'radic', 'dreamersthi', 'one', 'best', 'videogam', 'soundtrack', 'sure', 'mitsuda', 'best', 'ever']",
         "absolute masterpiece quite sure actually taking time read played game least heard least track whether aware mitsudas music contributed greatly mood every single minute whole gamecomposed cd quite song exact count heartrendering impressively remarkable soundtrack one assure forget everything every listener fastpaced energetic dancing tokage termina home slower haunting dragon god purely beautifully composed time scar even fantastic vocal radical dreamersthis one best videogame soundtrack surely mitsudas best ever",
         "absolute masterpiece quite sure actually taking time read played game least heard least track whether aware mitsudas music contributed greatly mood every single minute whole gamecomposed cd quite song exact count heartrendering impressively remarkable soundtrack one assure forget everything every listener fastpaced energetic dancing tokage termina home slower haunting dragon god purely beautifully composed time scar even fantastic vocal radical dreamersthis one best videogame soundtrack surely mitsudas best ever."
        ],
        [
         "6",
         "__label__1",
         "buyer beware this is a selfpublished book and if you want to know whyread a few paragraphs those  star reviews must have been written by ms haddons family and friendsor perhaps by herself i cannot imagine anyone reading the whole thingi spent an evening with the book and a friend and we were in hysterics reading bits and pieces of it to one another it is most definitely bad enough to be entered into some kind of a worst book contest i cannot believe amazon even sells this kind of thing maybe i can offer them my th grade term paper on to kill a mockingbirda book i am quite sure ms haddon never heard of anyway unless you are in a mood to send a book to someone as a jokestay far far away from this one",
         "['buyer', 'beware', 'this', 'is', 'a', 'selfpublished', 'book', 'and', 'if', 'you', 'want', 'to', 'know', 'whyread', 'a', 'few', 'paragraphs', 'those', 'star', 'reviews', 'must', 'have', 'been', 'written', 'by', 'ms', 'haddons', 'family', 'and', 'friendsor', 'perhaps', 'by', 'herself', 'i', 'can', 'not', 'imagine', 'anyone', 'reading', 'the', 'whole', 'thingi', 'spent', 'an', 'evening', 'with', 'the', 'book', 'and', 'a', 'friend', 'and', 'we', 'were', 'in', 'hysterics', 'reading', 'bits', 'and', 'pieces', 'of', 'it', 'to', 'one', 'another', 'it', 'is', 'most', 'definitely', 'bad', 'enough', 'to', 'be', 'entered', 'into', 'some', 'kind', 'of', 'a', 'worst', 'book', 'contest', 'i', 'can', 'not', 'believe', 'amazon', 'even', 'sells', 'this', 'kind', 'of', 'thing', 'maybe', 'i', 'can', 'offer', 'them', 'my', 'th', 'grade', 'term', 'paper', 'on', 'to', 'kill', 'a', 'mockingbirda', 'book', 'i', 'am', 'quite', 'sure', 'ms', 'haddon', 'never', 'heard', 'of', 'anyway', 'unless', 'you', 'are', 'in', 'a', 'mood', 'to', 'send', 'a', 'book', 'to', 'someone', 'as', 'a', 'jokestay', 'far', 'far', 'away', 'from', 'this', 'one']",
         "['buyer', 'beware', 'selfpublished', 'book', 'want', 'know', 'whyread', 'paragraphs', 'star', 'reviews', 'must', 'written', 'ms', 'haddons', 'family', 'friendsor', 'perhaps', 'imagine', 'anyone', 'reading', 'whole', 'thingi', 'spent', 'evening', 'book', 'friend', 'hysterics', 'reading', 'bits', 'pieces', 'one', 'another', 'definitely', 'bad', 'enough', 'entered', 'kind', 'worst', 'book', 'contest', 'believe', 'amazon', 'even', 'sells', 'kind', 'thing', 'maybe', 'offer', 'th', 'grade', 'term', 'paper', 'kill', 'mockingbirda', 'book', 'quite', 'sure', 'ms', 'haddon', 'never', 'heard', 'anyway', 'unless', 'mood', 'send', 'book', 'someone', 'jokestay', 'far', 'far', 'away', 'one']",
         "['buyer', 'beware', 'selfpublished', 'book', 'want', 'know', 'whyread', 'paragraph', 'star', 'review', 'must', 'written', 'm', 'haddons', 'family', 'friendsor', 'perhaps', 'imagine', 'anyone', 'reading', 'whole', 'thingi', 'spent', 'evening', 'book', 'friend', 'hysteric', 'reading', 'bit', 'piece', 'one', 'another', 'definitely', 'bad', 'enough', 'entered', 'kind', 'worst', 'book', 'contest', 'believe', 'amazon', 'even', 'sell', 'kind', 'thing', 'maybe', 'offer', 'th', 'grade', 'term', 'paper', 'kill', 'mockingbirda', 'book', 'quite', 'sure', 'm', 'haddon', 'never', 'heard', 'anyway', 'unless', 'mood', 'send', 'book', 'someone', 'jokestay', 'far', 'far', 'away', 'one']",
         "['buyer', 'bewar', 'selfpublish', 'book', 'want', 'know', 'whyread', 'paragraph', 'star', 'review', 'must', 'written', 'ms', 'haddon', 'famili', 'friendsor', 'perhap', 'imagin', 'anyon', 'read', 'whole', 'thingi', 'spent', 'even', 'book', 'friend', 'hyster', 'read', 'bit', 'piec', 'one', 'anoth', 'definit', 'bad', 'enough', 'enter', 'kind', 'worst', 'book', 'contest', 'believ', 'amazon', 'even', 'sell', 'kind', 'thing', 'mayb', 'offer', 'th', 'grade', 'term', 'paper', 'kill', 'mockingbirda', 'book', 'quit', 'sure', 'ms', 'haddon', 'never', 'heard', 'anyway', 'unless', 'mood', 'send', 'book', 'someon', 'jokestay', 'far', 'far', 'away', 'one']",
         "['buyer', 'bewar', 'selfpublish', 'book', 'want', 'know', 'whyread', 'paragraph', 'star', 'review', 'must', 'written', 'ms', 'haddon', 'famili', 'friendsor', 'perhap', 'imagin', 'anyon', 'read', 'whole', 'thingi', 'spent', 'even', 'book', 'friend', 'hyster', 'read', 'bit', 'piec', 'one', 'anoth', 'definit', 'bad', 'enough', 'enter', 'kind', 'worst', 'book', 'contest', 'believ', 'amazon', 'even', 'sell', 'kind', 'thing', 'mayb', 'offer', 'th', 'grade', 'term', 'paper', 'kill', 'mockingbirda', 'book', 'quit', 'sure', 'ms', 'haddon', 'never', 'heard', 'anyway', 'unless', 'mood', 'send', 'book', 'someon', 'jokestay', 'far', 'far', 'away', 'one']",
         "buyer beware selfpublished book want know whyread paragraph star review must written m haddons family friendsor perhaps imagine anyone reading whole thingi spent evening book friend hysteric reading bit piece one another definitely bad enough entered kind worst book contest believe amazon even sell kind thing maybe offer th grade term paper kill mockingbirda book quite sure m haddon never heard anyway unless mood send book someone jokestay far far away one",
         "buyer beware selfpublished book want know whyread paragraph star review must written m haddons family friendsor perhaps imagine anyone reading whole thingi spent evening book friend hysteric reading bit piece one another definitely bad enough entered kind worst book contest believe amazon even sell kind thing maybe offer th grade term paper kill mockingbirda book quite sure m haddon never heard anyway unless mood send book someone jokestay far far away one."
        ],
        [
         "7",
         "__label__2",
         "glorious story i loved whisper of the wicked saints the story was amazing and i was pleasantly surprised at the changes in the book i am not normaly someone who is into romance novels but the world was raving about this book and so i bought it i loved it  this is a brilliant story because it is so true this book was so wonderful that i have told all of my friends to read it it is not a typical romance it is so much more not reading this book is a crime becuase you are missing out on a heart warming story",
         "['glorious', 'story', 'i', 'loved', 'whisper', 'of', 'the', 'wicked', 'saints', 'the', 'story', 'was', 'amazing', 'and', 'i', 'was', 'pleasantly', 'surprised', 'at', 'the', 'changes', 'in', 'the', 'book', 'i', 'am', 'not', 'normaly', 'someone', 'who', 'is', 'into', 'romance', 'novels', 'but', 'the', 'world', 'was', 'raving', 'about', 'this', 'book', 'and', 'so', 'i', 'bought', 'it', 'i', 'loved', 'it', 'this', 'is', 'a', 'brilliant', 'story', 'because', 'it', 'is', 'so', 'true', 'this', 'book', 'was', 'so', 'wonderful', 'that', 'i', 'have', 'told', 'all', 'of', 'my', 'friends', 'to', 'read', 'it', 'it', 'is', 'not', 'a', 'typical', 'romance', 'it', 'is', 'so', 'much', 'more', 'not', 'reading', 'this', 'book', 'is', 'a', 'crime', 'becuase', 'you', 'are', 'missing', 'out', 'on', 'a', 'heart', 'warming', 'story']",
         "['glorious', 'story', 'loved', 'whisper', 'wicked', 'saints', 'story', 'amazing', 'pleasantly', 'surprised', 'changes', 'book', 'normaly', 'someone', 'romance', 'novels', 'world', 'raving', 'book', 'bought', 'loved', 'brilliant', 'story', 'true', 'book', 'wonderful', 'told', 'friends', 'read', 'typical', 'romance', 'much', 'reading', 'book', 'crime', 'becuase', 'missing', 'heart', 'warming', 'story']",
         "['glorious', 'story', 'loved', 'whisper', 'wicked', 'saint', 'story', 'amazing', 'pleasantly', 'surprised', 'change', 'book', 'normaly', 'someone', 'romance', 'novel', 'world', 'raving', 'book', 'bought', 'loved', 'brilliant', 'story', 'true', 'book', 'wonderful', 'told', 'friend', 'read', 'typical', 'romance', 'much', 'reading', 'book', 'crime', 'becuase', 'missing', 'heart', 'warming', 'story']",
         "['gloriou', 'stori', 'love', 'whisper', 'wick', 'saint', 'stori', 'amaz', 'pleasantli', 'surpris', 'chang', 'book', 'normali', 'someon', 'romanc', 'novel', 'world', 'rave', 'book', 'bought', 'love', 'brilliant', 'stori', 'true', 'book', 'wonder', 'told', 'friend', 'read', 'typic', 'romanc', 'much', 'read', 'book', 'crime', 'becuas', 'miss', 'heart', 'warm', 'stori']",
         "['glorious', 'stori', 'love', 'whisper', 'wick', 'saint', 'stori', 'amaz', 'pleasant', 'surpris', 'chang', 'book', 'normali', 'someon', 'romanc', 'novel', 'world', 'rave', 'book', 'bought', 'love', 'brilliant', 'stori', 'true', 'book', 'wonder', 'told', 'friend', 'read', 'typic', 'romanc', 'much', 'read', 'book', 'crime', 'becuas', 'miss', 'heart', 'warm', 'stori']",
         "glorious story loved whisper wicked saint story amazing pleasantly surprised change book normaly someone romance novel world raving book bought loved brilliant story true book wonderful told friend read typical romance much reading book crime becuase missing heart warming story",
         "glorious story loved whisper wicked saint story amazing pleasantly surprised change book normaly someone romance novel world raving book bought loved brilliant story true book wonderful told friend read typical romance much reading book crime becuase missing heart warming story."
        ],
        [
         "8",
         "__label__2",
         "a five star book i just finished reading whisper of the wicked saints i fell in love with the caracters i expected an average romance read but instead i found one of my favorite books of all time just when i thought i could predict the outcome i was shocked  the writting was so descriptive that my heart broke when julias did and i felt as if i was there with them instead of just a distant reader if you are a lover of romance novels then this is a must read do not let the cover fool you this book is spectacular",
         "['a', 'five', 'star', 'book', 'i', 'just', 'finished', 'reading', 'whisper', 'of', 'the', 'wicked', 'saints', 'i', 'fell', 'in', 'love', 'with', 'the', 'caracters', 'i', 'expected', 'an', 'average', 'romance', 'read', 'but', 'instead', 'i', 'found', 'one', 'of', 'my', 'favorite', 'books', 'of', 'all', 'time', 'just', 'when', 'i', 'thought', 'i', 'could', 'predict', 'the', 'outcome', 'i', 'was', 'shocked', 'the', 'writting', 'was', 'so', 'descriptive', 'that', 'my', 'heart', 'broke', 'when', 'julias', 'did', 'and', 'i', 'felt', 'as', 'if', 'i', 'was', 'there', 'with', 'them', 'instead', 'of', 'just', 'a', 'distant', 'reader', 'if', 'you', 'are', 'a', 'lover', 'of', 'romance', 'novels', 'then', 'this', 'is', 'a', 'must', 'read', 'do', 'not', 'let', 'the', 'cover', 'fool', 'you', 'this', 'book', 'is', 'spectacular']",
         "['five', 'star', 'book', 'finished', 'reading', 'whisper', 'wicked', 'saints', 'fell', 'love', 'caracters', 'expected', 'average', 'romance', 'read', 'instead', 'found', 'one', 'favorite', 'books', 'time', 'thought', 'could', 'predict', 'outcome', 'shocked', 'writting', 'descriptive', 'heart', 'broke', 'julias', 'felt', 'instead', 'distant', 'reader', 'lover', 'romance', 'novels', 'must', 'read', 'let', 'cover', 'fool', 'book', 'spectacular']",
         "['five', 'star', 'book', 'finished', 'reading', 'whisper', 'wicked', 'saint', 'fell', 'love', 'caracters', 'expected', 'average', 'romance', 'read', 'instead', 'found', 'one', 'favorite', 'book', 'time', 'thought', 'could', 'predict', 'outcome', 'shocked', 'writting', 'descriptive', 'heart', 'broke', 'julias', 'felt', 'instead', 'distant', 'reader', 'lover', 'romance', 'novel', 'must', 'read', 'let', 'cover', 'fool', 'book', 'spectacular']",
         "['five', 'star', 'book', 'finish', 'read', 'whisper', 'wick', 'saint', 'fell', 'love', 'caract', 'expect', 'averag', 'romanc', 'read', 'instead', 'found', 'one', 'favorit', 'book', 'time', 'thought', 'could', 'predict', 'outcom', 'shock', 'writ', 'descript', 'heart', 'broke', 'julia', 'felt', 'instead', 'distant', 'reader', 'lover', 'romanc', 'novel', 'must', 'read', 'let', 'cover', 'fool', 'book', 'spectacular']",
         "['five', 'star', 'book', 'finish', 'read', 'whisper', 'wick', 'saint', 'fell', 'love', 'caract', 'expect', 'averag', 'romanc', 'read', 'instead', 'found', 'one', 'favorit', 'book', 'time', 'thought', 'could', 'predict', 'outcom', 'shock', 'writ', 'descript', 'heart', 'broke', 'julia', 'felt', 'instead', 'distant', 'reader', 'lover', 'romanc', 'novel', 'must', 'read', 'let', 'cover', 'fool', 'book', 'spectacular']",
         "five star book finished reading whisper wicked saint fell love caracters expected average romance read instead found one favorite book time thought could predict outcome shocked writting descriptive heart broke julias felt instead distant reader lover romance novel must read let cover fool book spectacular",
         "five star book finished reading whisper wicked saint fell love caracters expected average romance read instead found one favorite book time thought could predict outcome shocked writting descriptive heart broke julias felt instead distant reader lover romance novel must read let cover fool book spectacular."
        ],
        [
         "9",
         "__label__2",
         "whispers of the wicked saints this was a easy to read book that made me want to keep reading on and on not easy to put downit left me wanting to read the follow on which i hope is coming soon i used to read a lot but have gotten away from it this book made me want to read again very enjoyable",
         "['whispers', 'of', 'the', 'wicked', 'saints', 'this', 'was', 'a', 'easy', 'to', 'read', 'book', 'that', 'made', 'me', 'want', 'to', 'keep', 'reading', 'on', 'and', 'on', 'not', 'easy', 'to', 'put', 'downit', 'left', 'me', 'wanting', 'to', 'read', 'the', 'follow', 'on', 'which', 'i', 'hope', 'is', 'coming', 'soon', 'i', 'used', 'to', 'read', 'a', 'lot', 'but', 'have', 'gotten', 'away', 'from', 'it', 'this', 'book', 'made', 'me', 'want', 'to', 'read', 'again', 'very', 'enjoyable']",
         "['whispers', 'wicked', 'saints', 'easy', 'read', 'book', 'made', 'want', 'keep', 'reading', 'easy', 'put', 'downit', 'left', 'wanting', 'read', 'follow', 'hope', 'coming', 'soon', 'used', 'read', 'lot', 'gotten', 'away', 'book', 'made', 'want', 'read', 'enjoyable']",
         "['whisper', 'wicked', 'saint', 'easy', 'read', 'book', 'made', 'want', 'keep', 'reading', 'easy', 'put', 'downit', 'left', 'wanting', 'read', 'follow', 'hope', 'coming', 'soon', 'used', 'read', 'lot', 'gotten', 'away', 'book', 'made', 'want', 'read', 'enjoyable']",
         "['whisper', 'wick', 'saint', 'easi', 'read', 'book', 'made', 'want', 'keep', 'read', 'easi', 'put', 'downit', 'left', 'want', 'read', 'follow', 'hope', 'come', 'soon', 'use', 'read', 'lot', 'gotten', 'away', 'book', 'made', 'want', 'read', 'enjoy']",
         "['whisper', 'wick', 'saint', 'easi', 'read', 'book', 'made', 'want', 'keep', 'read', 'easi', 'put', 'downit', 'left', 'want', 'read', 'follow', 'hope', 'come', 'soon', 'use', 'read', 'lot', 'gotten', 'away', 'book', 'made', 'want', 'read', 'enjoy']",
         "whisper wicked saint easy read book made want keep reading easy put downit left wanting read follow hope coming soon used read lot gotten away book made want read enjoyable",
         "whisper wicked saint easy read book made want keep reading easy put downit left wanting read follow hope coming soon used read lot gotten away book made want read enjoyable."
        ],
        [
         "10",
         "__label__1",
         "the worst a complete waste of time typographical errors poor grammar and a totally pathetic plot add up to absolutely nothing i am embarrassed for this author and very disappointed i actually paid for this book",
         "['the', 'worst', 'a', 'complete', 'waste', 'of', 'time', 'typographical', 'errors', 'poor', 'grammar', 'and', 'a', 'totally', 'pathetic', 'plot', 'add', 'up', 'to', 'absolutely', 'nothing', 'i', 'am', 'embarrassed', 'for', 'this', 'author', 'and', 'very', 'disappointed', 'i', 'actually', 'paid', 'for', 'this', 'book']",
         "['worst', 'complete', 'waste', 'time', 'typographical', 'errors', 'poor', 'grammar', 'totally', 'pathetic', 'plot', 'add', 'absolutely', 'nothing', 'embarrassed', 'author', 'disappointed', 'actually', 'paid', 'book']",
         "['worst', 'complete', 'waste', 'time', 'typographical', 'error', 'poor', 'grammar', 'totally', 'pathetic', 'plot', 'add', 'absolutely', 'nothing', 'embarrassed', 'author', 'disappointed', 'actually', 'paid', 'book']",
         "['worst', 'complet', 'wast', 'time', 'typograph', 'error', 'poor', 'grammar', 'total', 'pathet', 'plot', 'add', 'absolut', 'noth', 'embarrass', 'author', 'disappoint', 'actual', 'paid', 'book']",
         "['worst', 'complet', 'wast', 'time', 'typograph', 'error', 'poor', 'grammar', 'total', 'pathet', 'plot', 'add', 'absolut', 'noth', 'embarrass', 'author', 'disappoint', 'actual', 'paid', 'book']",
         "worst complete waste time typographical error poor grammar totally pathetic plot add absolutely nothing embarrassed author disappointed actually paid book",
         "worst complete waste time typographical error poor grammar totally pathetic plot add absolutely nothing embarrassed author disappointed actually paid book."
        ],
        [
         "11",
         "__label__2",
         "great book this was a great booki just could not put it downand could not read it fast enough boy what a book the twist and turns in this just keeps you guessing and wanting to know what is going to happen next this book makes you fall in love and can heat you upit can also make you so angery this book can make you go throu several of your emotions this is a quick read romance it is something that you will want to end your day off with if you read at night",
         "['great', 'book', 'this', 'was', 'a', 'great', 'booki', 'just', 'could', 'not', 'put', 'it', 'downand', 'could', 'not', 'read', 'it', 'fast', 'enough', 'boy', 'what', 'a', 'book', 'the', 'twist', 'and', 'turns', 'in', 'this', 'just', 'keeps', 'you', 'guessing', 'and', 'wanting', 'to', 'know', 'what', 'is', 'going', 'to', 'happen', 'next', 'this', 'book', 'makes', 'you', 'fall', 'in', 'love', 'and', 'can', 'heat', 'you', 'upit', 'can', 'also', 'make', 'you', 'so', 'angery', 'this', 'book', 'can', 'make', 'you', 'go', 'throu', 'several', 'of', 'your', 'emotions', 'this', 'is', 'a', 'quick', 'read', 'romance', 'it', 'is', 'something', 'that', 'you', 'will', 'want', 'to', 'end', 'your', 'day', 'off', 'with', 'if', 'you', 'read', 'at', 'night']",
         "['great', 'book', 'great', 'booki', 'could', 'put', 'downand', 'could', 'read', 'fast', 'enough', 'boy', 'book', 'twist', 'turns', 'keeps', 'guessing', 'wanting', 'know', 'going', 'happen', 'next', 'book', 'makes', 'fall', 'love', 'heat', 'upit', 'also', 'make', 'angery', 'book', 'make', 'go', 'throu', 'several', 'emotions', 'quick', 'read', 'romance', 'something', 'want', 'end', 'day', 'read', 'night']",
         "['great', 'book', 'great', 'booki', 'could', 'put', 'downand', 'could', 'read', 'fast', 'enough', 'boy', 'book', 'twist', 'turn', 'keep', 'guessing', 'wanting', 'know', 'going', 'happen', 'next', 'book', 'make', 'fall', 'love', 'heat', 'upit', 'also', 'make', 'angery', 'book', 'make', 'go', 'throu', 'several', 'emotion', 'quick', 'read', 'romance', 'something', 'want', 'end', 'day', 'read', 'night']",
         "['great', 'book', 'great', 'booki', 'could', 'put', 'downand', 'could', 'read', 'fast', 'enough', 'boy', 'book', 'twist', 'turn', 'keep', 'guess', 'want', 'know', 'go', 'happen', 'next', 'book', 'make', 'fall', 'love', 'heat', 'upit', 'also', 'make', 'angeri', 'book', 'make', 'go', 'throu', 'sever', 'emot', 'quick', 'read', 'romanc', 'someth', 'want', 'end', 'day', 'read', 'night']",
         "['great', 'book', 'great', 'booki', 'could', 'put', 'downand', 'could', 'read', 'fast', 'enough', 'boy', 'book', 'twist', 'turn', 'keep', 'guess', 'want', 'know', 'go', 'happen', 'next', 'book', 'make', 'fall', 'love', 'heat', 'upit', 'also', 'make', 'angeri', 'book', 'make', 'go', 'throu', 'sever', 'emot', 'quick', 'read', 'romanc', 'someth', 'want', 'end', 'day', 'read', 'night']",
         "great book great booki could put downand could read fast enough boy book twist turn keep guessing wanting know going happen next book make fall love heat upit also make angery book make go throu several emotion quick read romance something want end day read night",
         "great book great booki could put downand could read fast enough boy book twist turn keep guessing wanting know going happen next book make fall love heat upit also make angery book make go throu several emotion quick read romance something want end day read night."
        ],
        [
         "12",
         "__label__2",
         "great read i thought this book was brilliant but yet realistic it showed me that to error is human i loved the fact that this writer showed the loving side of god and not the revengeful side of him i loved how it twisted and turned and i could not put it down i also loved the glass castle",
         "['great', 'read', 'i', 'thought', 'this', 'book', 'was', 'brilliant', 'but', 'yet', 'realistic', 'it', 'showed', 'me', 'that', 'to', 'error', 'is', 'human', 'i', 'loved', 'the', 'fact', 'that', 'this', 'writer', 'showed', 'the', 'loving', 'side', 'of', 'god', 'and', 'not', 'the', 'revengeful', 'side', 'of', 'him', 'i', 'loved', 'how', 'it', 'twisted', 'and', 'turned', 'and', 'i', 'could', 'not', 'put', 'it', 'down', 'i', 'also', 'loved', 'the', 'glass', 'castle']",
         "['great', 'read', 'thought', 'book', 'brilliant', 'yet', 'realistic', 'showed', 'error', 'human', 'loved', 'fact', 'writer', 'showed', 'loving', 'side', 'god', 'revengeful', 'side', 'loved', 'twisted', 'turned', 'could', 'put', 'also', 'loved', 'glass', 'castle']",
         "['great', 'read', 'thought', 'book', 'brilliant', 'yet', 'realistic', 'showed', 'error', 'human', 'loved', 'fact', 'writer', 'showed', 'loving', 'side', 'god', 'revengeful', 'side', 'loved', 'twisted', 'turned', 'could', 'put', 'also', 'loved', 'glass', 'castle']",
         "['great', 'read', 'thought', 'book', 'brilliant', 'yet', 'realist', 'show', 'error', 'human', 'love', 'fact', 'writer', 'show', 'love', 'side', 'god', 'reveng', 'side', 'love', 'twist', 'turn', 'could', 'put', 'also', 'love', 'glass', 'castl']",
         "['great', 'read', 'thought', 'book', 'brilliant', 'yet', 'realist', 'show', 'error', 'human', 'love', 'fact', 'writer', 'show', 'love', 'side', 'god', 'reveng', 'side', 'love', 'twist', 'turn', 'could', 'put', 'also', 'love', 'glass', 'castl']",
         "great read thought book brilliant yet realistic showed error human loved fact writer showed loving side god revengeful side loved twisted turned could put also loved glass castle",
         "great read thought book brilliant yet realistic showed error human loved fact writer showed loving side god revengeful side loved twisted turned could put also loved glass castle."
        ],
        [
         "13",
         "__label__1",
         "oh please i guess you have to be a romance novel lover for this one and not a very discerning one all others beware it is absolute drivel i figured i was in trouble when a typo is prominently featured on the back cover but the first page of the book removed all doubt wait  maybe i am missing the point a quick reread of the beginning now makes it clear this has to be an intentional churning of overheated prose for satiric purposes phew so glad i did not waste  after all",
         "['oh', 'please', 'i', 'guess', 'you', 'have', 'to', 'be', 'a', 'romance', 'novel', 'lover', 'for', 'this', 'one', 'and', 'not', 'a', 'very', 'discerning', 'one', 'all', 'others', 'beware', 'it', 'is', 'absolute', 'drivel', 'i', 'figured', 'i', 'was', 'in', 'trouble', 'when', 'a', 'typo', 'is', 'prominently', 'featured', 'on', 'the', 'back', 'cover', 'but', 'the', 'first', 'page', 'of', 'the', 'book', 'removed', 'all', 'doubt', 'wait', 'maybe', 'i', 'am', 'missing', 'the', 'point', 'a', 'quick', 'reread', 'of', 'the', 'beginning', 'now', 'makes', 'it', 'clear', 'this', 'has', 'to', 'be', 'an', 'intentional', 'churning', 'of', 'overheated', 'prose', 'for', 'satiric', 'purposes', 'phew', 'so', 'glad', 'i', 'did', 'not', 'waste', 'after', 'all']",
         "['oh', 'please', 'guess', 'romance', 'novel', 'lover', 'one', 'discerning', 'one', 'others', 'beware', 'absolute', 'drivel', 'figured', 'trouble', 'typo', 'prominently', 'featured', 'back', 'cover', 'first', 'page', 'book', 'removed', 'doubt', 'wait', 'maybe', 'missing', 'point', 'quick', 'reread', 'beginning', 'makes', 'clear', 'intentional', 'churning', 'overheated', 'prose', 'satiric', 'purposes', 'phew', 'glad', 'waste']",
         "['oh', 'please', 'guess', 'romance', 'novel', 'lover', 'one', 'discerning', 'one', 'others', 'beware', 'absolute', 'drivel', 'figured', 'trouble', 'typo', 'prominently', 'featured', 'back', 'cover', 'first', 'page', 'book', 'removed', 'doubt', 'wait', 'maybe', 'missing', 'point', 'quick', 'reread', 'beginning', 'make', 'clear', 'intentional', 'churning', 'overheated', 'prose', 'satiric', 'purpose', 'phew', 'glad', 'waste']",
         "['oh', 'pleas', 'guess', 'romanc', 'novel', 'lover', 'one', 'discern', 'one', 'other', 'bewar', 'absolut', 'drivel', 'figur', 'troubl', 'typo', 'promin', 'featur', 'back', 'cover', 'first', 'page', 'book', 'remov', 'doubt', 'wait', 'mayb', 'miss', 'point', 'quick', 'reread', 'begin', 'make', 'clear', 'intent', 'churn', 'overh', 'prose', 'satir', 'purpos', 'phew', 'glad', 'wast']",
         "['oh', 'pleas', 'guess', 'romanc', 'novel', 'lover', 'one', 'discern', 'one', 'other', 'bewar', 'absolut', 'drivel', 'figur', 'troubl', 'typo', 'promin', 'featur', 'back', 'cover', 'first', 'page', 'book', 'remov', 'doubt', 'wait', 'mayb', 'miss', 'point', 'quick', 'reread', 'begin', 'make', 'clear', 'intent', 'churn', 'overh', 'prose', 'satir', 'purpos', 'phew', 'glad', 'wast']",
         "oh please guess romance novel lover one discerning one others beware absolute drivel figured trouble typo prominently featured back cover first page book removed doubt wait maybe missing point quick reread beginning make clear intentional churning overheated prose satiric purpose phew glad waste",
         "oh please guess romance novel lover one discerning one others beware absolute drivel figured trouble typo prominently featured back cover first page book removed doubt wait maybe missing point quick reread beginning make clear intentional churning overheated prose satiric purpose phew glad waste."
        ],
        [
         "14",
         "__label__1",
         "awful beyond belief i feel i have to write to keep others from wasting their money this book seems to have been written by a th grader with poor grammatical skills for her age as another reviewer points out there is a misspelling on the cover and i believe there is at least one per chapter for example it was mentioned twice that she had a lean on her house i was so distracted by the poor writing and weak plot that i decided to read with a pencil in hand to mark all of the horrible grammar and spelling please do not waste your money i too believe that the good reviews must have been written by the authors relatives i will not put much faith in the reviews from now on",
         "['awful', 'beyond', 'belief', 'i', 'feel', 'i', 'have', 'to', 'write', 'to', 'keep', 'others', 'from', 'wasting', 'their', 'money', 'this', 'book', 'seems', 'to', 'have', 'been', 'written', 'by', 'a', 'th', 'grader', 'with', 'poor', 'grammatical', 'skills', 'for', 'her', 'age', 'as', 'another', 'reviewer', 'points', 'out', 'there', 'is', 'a', 'misspelling', 'on', 'the', 'cover', 'and', 'i', 'believe', 'there', 'is', 'at', 'least', 'one', 'per', 'chapter', 'for', 'example', 'it', 'was', 'mentioned', 'twice', 'that', 'she', 'had', 'a', 'lean', 'on', 'her', 'house', 'i', 'was', 'so', 'distracted', 'by', 'the', 'poor', 'writing', 'and', 'weak', 'plot', 'that', 'i', 'decided', 'to', 'read', 'with', 'a', 'pencil', 'in', 'hand', 'to', 'mark', 'all', 'of', 'the', 'horrible', 'grammar', 'and', 'spelling', 'please', 'do', 'not', 'waste', 'your', 'money', 'i', 'too', 'believe', 'that', 'the', 'good', 'reviews', 'must', 'have', 'been', 'written', 'by', 'the', 'authors', 'relatives', 'i', 'will', 'not', 'put', 'much', 'faith', 'in', 'the', 'reviews', 'from', 'now', 'on']",
         "['awful', 'beyond', 'belief', 'feel', 'write', 'keep', 'others', 'wasting', 'money', 'book', 'seems', 'written', 'th', 'grader', 'poor', 'grammatical', 'skills', 'age', 'another', 'reviewer', 'points', 'misspelling', 'cover', 'believe', 'least', 'one', 'per', 'chapter', 'example', 'mentioned', 'twice', 'lean', 'house', 'distracted', 'poor', 'writing', 'weak', 'plot', 'decided', 'read', 'pencil', 'hand', 'mark', 'horrible', 'grammar', 'spelling', 'please', 'waste', 'money', 'believe', 'good', 'reviews', 'must', 'written', 'authors', 'relatives', 'put', 'much', 'faith', 'reviews']",
         "['awful', 'beyond', 'belief', 'feel', 'write', 'keep', 'others', 'wasting', 'money', 'book', 'seems', 'written', 'th', 'grader', 'poor', 'grammatical', 'skill', 'age', 'another', 'reviewer', 'point', 'misspelling', 'cover', 'believe', 'least', 'one', 'per', 'chapter', 'example', 'mentioned', 'twice', 'lean', 'house', 'distracted', 'poor', 'writing', 'weak', 'plot', 'decided', 'read', 'pencil', 'hand', 'mark', 'horrible', 'grammar', 'spelling', 'please', 'waste', 'money', 'believe', 'good', 'review', 'must', 'written', 'author', 'relative', 'put', 'much', 'faith', 'review']",
         "['aw', 'beyond', 'belief', 'feel', 'write', 'keep', 'other', 'wast', 'money', 'book', 'seem', 'written', 'th', 'grader', 'poor', 'grammat', 'skill', 'age', 'anoth', 'review', 'point', 'misspel', 'cover', 'believ', 'least', 'one', 'per', 'chapter', 'exampl', 'mention', 'twice', 'lean', 'hous', 'distract', 'poor', 'write', 'weak', 'plot', 'decid', 'read', 'pencil', 'hand', 'mark', 'horribl', 'grammar', 'spell', 'pleas', 'wast', 'money', 'believ', 'good', 'review', 'must', 'written', 'author', 'rel', 'put', 'much', 'faith', 'review']",
         "['aw', 'beyond', 'belief', 'feel', 'write', 'keep', 'other', 'wast', 'money', 'book', 'seem', 'written', 'th', 'grader', 'poor', 'grammat', 'skill', 'age', 'anoth', 'review', 'point', 'misspel', 'cover', 'believ', 'least', 'one', 'per', 'chapter', 'exampl', 'mention', 'twice', 'lean', 'hous', 'distract', 'poor', 'write', 'weak', 'plot', 'decid', 'read', 'pencil', 'hand', 'mark', 'horribl', 'grammar', 'spell', 'pleas', 'wast', 'money', 'believ', 'good', 'review', 'must', 'written', 'author', 'relat', 'put', 'much', 'faith', 'review']",
         "awful beyond belief feel write keep others wasting money book seems written th grader poor grammatical skill age another reviewer point misspelling cover believe least one per chapter example mentioned twice lean house distracted poor writing weak plot decided read pencil hand mark horrible grammar spelling please waste money believe good review must written author relative put much faith review",
         "awful beyond belief feel write keep others wasting money book seems written th grader poor grammatical skill age another reviewer point misspelling cover believe least one per chapter example mentioned twice lean house distracted poor writing weak plot decided read pencil hand mark horrible grammar spelling please waste money believe good review must written author relative put much faith review."
        ],
        [
         "15",
         "__label__1",
         "do not try to fool us with fake reviews its glaringly obvious that all of the glowing reviews have been written by the same person perhaps the author herself they all have the same misspellings and poor sentence structure that is featured in the book who made veronica haddon think she is an author",
         "['do', 'not', 'try', 'to', 'fool', 'us', 'with', 'fake', 'reviews', 'its', 'glaringly', 'obvious', 'that', 'all', 'of', 'the', 'glowing', 'reviews', 'have', 'been', 'written', 'by', 'the', 'same', 'person', 'perhaps', 'the', 'author', 'herself', 'they', 'all', 'have', 'the', 'same', 'misspellings', 'and', 'poor', 'sentence', 'structure', 'that', 'is', 'featured', 'in', 'the', 'book', 'who', 'made', 'veronica', 'haddon', 'think', 'she', 'is', 'an', 'author']",
         "['try', 'fool', 'us', 'fake', 'reviews', 'glaringly', 'obvious', 'glowing', 'reviews', 'written', 'person', 'perhaps', 'author', 'misspellings', 'poor', 'sentence', 'structure', 'featured', 'book', 'made', 'veronica', 'haddon', 'think', 'author']",
         "['try', 'fool', 'u', 'fake', 'review', 'glaringly', 'obvious', 'glowing', 'review', 'written', 'person', 'perhaps', 'author', 'misspelling', 'poor', 'sentence', 'structure', 'featured', 'book', 'made', 'veronica', 'haddon', 'think', 'author']",
         "['tri', 'fool', 'us', 'fake', 'review', 'glaringli', 'obviou', 'glow', 'review', 'written', 'person', 'perhap', 'author', 'misspel', 'poor', 'sentenc', 'structur', 'featur', 'book', 'made', 'veronica', 'haddon', 'think', 'author']",
         "['tri', 'fool', 'us', 'fake', 'review', 'glare', 'obvious', 'glow', 'review', 'written', 'person', 'perhap', 'author', 'misspel', 'poor', 'sentenc', 'structur', 'featur', 'book', 'made', 'veronica', 'haddon', 'think', 'author']",
         "try fool u fake review glaringly obvious glowing review written person perhaps author misspelling poor sentence structure featured book made veronica haddon think author",
         "try fool u fake review glaringly obvious glowing review written person perhaps author misspelling poor sentence structure featured book made veronica haddon think author."
        ],
        [
         "16",
         "__label__2",
         "a romantic zen baseball comedy when you hear folks say that they do not make them like that anymore they might be talking about by the sea this is a very cool story about a young cuban girl searching for idenity who stumbles into a coastal resort kitchen gig with a zen motorcycle maintenance man three hysterical italian chefs and a latino fireballing right handed pitcher who plays on the team sponsored by the resorts owner as is often the case she finds herself through honest often comical but always emotional interaction with this sizzling roster of players with the perfect mix of special effects that salsa sound and flashbacks by the sea gets  big stars from me",
         "['a', 'romantic', 'zen', 'baseball', 'comedy', 'when', 'you', 'hear', 'folks', 'say', 'that', 'they', 'do', 'not', 'make', 'them', 'like', 'that', 'anymore', 'they', 'might', 'be', 'talking', 'about', 'by', 'the', 'sea', 'this', 'is', 'a', 'very', 'cool', 'story', 'about', 'a', 'young', 'cuban', 'girl', 'searching', 'for', 'idenity', 'who', 'stumbles', 'into', 'a', 'coastal', 'resort', 'kitchen', 'gig', 'with', 'a', 'zen', 'motorcycle', 'maintenance', 'man', 'three', 'hysterical', 'italian', 'chefs', 'and', 'a', 'latino', 'fireballing', 'right', 'handed', 'pitcher', 'who', 'plays', 'on', 'the', 'team', 'sponsored', 'by', 'the', 'resorts', 'owner', 'as', 'is', 'often', 'the', 'case', 'she', 'finds', 'herself', 'through', 'honest', 'often', 'comical', 'but', 'always', 'emotional', 'interaction', 'with', 'this', 'sizzling', 'roster', 'of', 'players', 'with', 'the', 'perfect', 'mix', 'of', 'special', 'effects', 'that', 'salsa', 'sound', 'and', 'flashbacks', 'by', 'the', 'sea', 'gets', 'big', 'stars', 'from', 'me']",
         "['romantic', 'zen', 'baseball', 'comedy', 'hear', 'folks', 'say', 'make', 'like', 'anymore', 'might', 'talking', 'sea', 'cool', 'story', 'young', 'cuban', 'girl', 'searching', 'idenity', 'stumbles', 'coastal', 'resort', 'kitchen', 'gig', 'zen', 'motorcycle', 'maintenance', 'man', 'three', 'hysterical', 'italian', 'chefs', 'latino', 'fireballing', 'right', 'handed', 'pitcher', 'plays', 'team', 'sponsored', 'resorts', 'owner', 'often', 'case', 'finds', 'honest', 'often', 'comical', 'always', 'emotional', 'interaction', 'sizzling', 'roster', 'players', 'perfect', 'mix', 'special', 'effects', 'salsa', 'sound', 'flashbacks', 'sea', 'gets', 'big', 'stars']",
         "['romantic', 'zen', 'baseball', 'comedy', 'hear', 'folk', 'say', 'make', 'like', 'anymore', 'might', 'talking', 'sea', 'cool', 'story', 'young', 'cuban', 'girl', 'searching', 'idenity', 'stumble', 'coastal', 'resort', 'kitchen', 'gig', 'zen', 'motorcycle', 'maintenance', 'man', 'three', 'hysterical', 'italian', 'chef', 'latino', 'fireballing', 'right', 'handed', 'pitcher', 'play', 'team', 'sponsored', 'resort', 'owner', 'often', 'case', 'find', 'honest', 'often', 'comical', 'always', 'emotional', 'interaction', 'sizzling', 'roster', 'player', 'perfect', 'mix', 'special', 'effect', 'salsa', 'sound', 'flashback', 'sea', 'get', 'big', 'star']",
         "['romant', 'zen', 'basebal', 'comedi', 'hear', 'folk', 'say', 'make', 'like', 'anymor', 'might', 'talk', 'sea', 'cool', 'stori', 'young', 'cuban', 'girl', 'search', 'iden', 'stumbl', 'coastal', 'resort', 'kitchen', 'gig', 'zen', 'motorcycl', 'mainten', 'man', 'three', 'hyster', 'italian', 'chef', 'latino', 'firebal', 'right', 'hand', 'pitcher', 'play', 'team', 'sponsor', 'resort', 'owner', 'often', 'case', 'find', 'honest', 'often', 'comic', 'alway', 'emot', 'interact', 'sizzl', 'roster', 'player', 'perfect', 'mix', 'special', 'effect', 'salsa', 'sound', 'flashback', 'sea', 'get', 'big', 'star']",
         "['romant', 'zen', 'basebal', 'comedi', 'hear', 'folk', 'say', 'make', 'like', 'anymor', 'might', 'talk', 'sea', 'cool', 'stori', 'young', 'cuban', 'girl', 'search', 'iden', 'stumbl', 'coastal', 'resort', 'kitchen', 'gig', 'zen', 'motorcycl', 'mainten', 'man', 'three', 'hyster', 'italian', 'chef', 'latino', 'firebal', 'right', 'hand', 'pitcher', 'play', 'team', 'sponsor', 'resort', 'owner', 'often', 'case', 'find', 'honest', 'often', 'comic', 'alway', 'emot', 'interact', 'sizzl', 'roster', 'player', 'perfect', 'mix', 'special', 'effect', 'salsa', 'sound', 'flashback', 'sea', 'get', 'big', 'star']",
         "romantic zen baseball comedy hear folk say make like anymore might talking sea cool story young cuban girl searching idenity stumble coastal resort kitchen gig zen motorcycle maintenance man three hysterical italian chef latino fireballing right handed pitcher play team sponsored resort owner often case find honest often comical always emotional interaction sizzling roster player perfect mix special effect salsa sound flashback sea get big star",
         "romantic zen baseball comedy hear folk say make like anymore might talking sea cool story young cuban girl searching idenity stumble coastal resort kitchen gig zen motorcycle maintenance man three hysterical italian chef latino fireballing right handed pitcher play team sponsored resort owner often case find honest often comical always emotional interaction sizzling roster player perfect mix special effect salsa sound flashback sea get big star."
        ],
        [
         "17",
         "__label__2",
         "fashionable compression stockings after i had a dvt my doctor required me to wear compression stockings i wore ugly white ted hose and yucky thick brown stockings then i found jobst ultrasheer they gave me the compression i needed  but looked like regular pantyhose even though my blood clot has been gone for  years i still buy these to wear as support stockings because they make my legs feel so nicenote i have problems with the rubberized tops rolling down my thigh i tried the jobst adhesive but i hated having my skin pulled all day i bought an inexpensive garter belt and it works fine and helps keep the stockings from rolling",
         "['fashionable', 'compression', 'stockings', 'after', 'i', 'had', 'a', 'dvt', 'my', 'doctor', 'required', 'me', 'to', 'wear', 'compression', 'stockings', 'i', 'wore', 'ugly', 'white', 'ted', 'hose', 'and', 'yucky', 'thick', 'brown', 'stockings', 'then', 'i', 'found', 'jobst', 'ultrasheer', 'they', 'gave', 'me', 'the', 'compression', 'i', 'needed', 'but', 'looked', 'like', 'regular', 'pantyhose', 'even', 'though', 'my', 'blood', 'clot', 'has', 'been', 'gone', 'for', 'years', 'i', 'still', 'buy', 'these', 'to', 'wear', 'as', 'support', 'stockings', 'because', 'they', 'make', 'my', 'legs', 'feel', 'so', 'nicenote', 'i', 'have', 'problems', 'with', 'the', 'rubberized', 'tops', 'rolling', 'down', 'my', 'thigh', 'i', 'tried', 'the', 'jobst', 'adhesive', 'but', 'i', 'hated', 'having', 'my', 'skin', 'pulled', 'all', 'day', 'i', 'bought', 'an', 'inexpensive', 'garter', 'belt', 'and', 'it', 'works', 'fine', 'and', 'helps', 'keep', 'the', 'stockings', 'from', 'rolling']",
         "['fashionable', 'compression', 'stockings', 'dvt', 'doctor', 'required', 'wear', 'compression', 'stockings', 'wore', 'ugly', 'white', 'ted', 'hose', 'yucky', 'thick', 'brown', 'stockings', 'found', 'jobst', 'ultrasheer', 'gave', 'compression', 'needed', 'looked', 'like', 'regular', 'pantyhose', 'even', 'though', 'blood', 'clot', 'gone', 'years', 'still', 'buy', 'wear', 'support', 'stockings', 'make', 'legs', 'feel', 'nicenote', 'problems', 'rubberized', 'tops', 'rolling', 'thigh', 'tried', 'jobst', 'adhesive', 'hated', 'skin', 'pulled', 'day', 'bought', 'inexpensive', 'garter', 'belt', 'works', 'fine', 'helps', 'keep', 'stockings', 'rolling']",
         "['fashionable', 'compression', 'stocking', 'dvt', 'doctor', 'required', 'wear', 'compression', 'stocking', 'wore', 'ugly', 'white', 'ted', 'hose', 'yucky', 'thick', 'brown', 'stocking', 'found', 'jobst', 'ultrasheer', 'gave', 'compression', 'needed', 'looked', 'like', 'regular', 'pantyhose', 'even', 'though', 'blood', 'clot', 'gone', 'year', 'still', 'buy', 'wear', 'support', 'stocking', 'make', 'leg', 'feel', 'nicenote', 'problem', 'rubberized', 'top', 'rolling', 'thigh', 'tried', 'jobst', 'adhesive', 'hated', 'skin', 'pulled', 'day', 'bought', 'inexpensive', 'garter', 'belt', 'work', 'fine', 'help', 'keep', 'stocking', 'rolling']",
         "['fashion', 'compress', 'stock', 'dvt', 'doctor', 'requir', 'wear', 'compress', 'stock', 'wore', 'ugli', 'white', 'ted', 'hose', 'yucki', 'thick', 'brown', 'stock', 'found', 'jobst', 'ultrash', 'gave', 'compress', 'need', 'look', 'like', 'regular', 'pantyhos', 'even', 'though', 'blood', 'clot', 'gone', 'year', 'still', 'buy', 'wear', 'support', 'stock', 'make', 'leg', 'feel', 'nicenot', 'problem', 'rubber', 'top', 'roll', 'thigh', 'tri', 'jobst', 'adhes', 'hate', 'skin', 'pull', 'day', 'bought', 'inexpens', 'garter', 'belt', 'work', 'fine', 'help', 'keep', 'stock', 'roll']",
         "['fashion', 'compress', 'stock', 'dvt', 'doctor', 'requir', 'wear', 'compress', 'stock', 'wore', 'ugli', 'white', 'ted', 'hose', 'yucki', 'thick', 'brown', 'stock', 'found', 'jobst', 'ultrash', 'gave', 'compress', 'need', 'look', 'like', 'regular', 'pantyhos', 'even', 'though', 'blood', 'clot', 'gone', 'year', 'still', 'buy', 'wear', 'support', 'stock', 'make', 'leg', 'feel', 'nicenot', 'problem', 'rubber', 'top', 'roll', 'thigh', 'tri', 'jobst', 'adhes', 'hate', 'skin', 'pull', 'day', 'bought', 'inexpens', 'garter', 'belt', 'work', 'fine', 'help', 'keep', 'stock', 'roll']",
         "fashionable compression stocking dvt doctor required wear compression stocking wore ugly white ted hose yucky thick brown stocking found jobst ultrasheer gave compression needed looked like regular pantyhose even though blood clot gone year still buy wear support stocking make leg feel nicenote problem rubberized top rolling thigh tried jobst adhesive hated skin pulled day bought inexpensive garter belt work fine help keep stocking rolling",
         "fashionable compression stocking dvt doctor required wear compression stocking wore ugly white ted hose yucky thick brown stocking found jobst ultrasheer gave compression needed looked like regular pantyhose even though blood clot gone year still buy wear support stocking make leg feel nicenote problem rubberized top rolling thigh tried jobst adhesive hated skin pulled day bought inexpensive garter belt work fine help keep stocking rolling."
        ],
        [
         "18",
         "__label__2",
         "jobst ultrasheer thigh high excellent product however they are very difficult to get on for older people i feel like i have had a full day workout after getting them on also as the day wears on they begin to roll down from the top and create a very deep ridge in the skin i have to wear them so if those two difficulties could be addressed it would be such a help",
         "['jobst', 'ultrasheer', 'thigh', 'high', 'excellent', 'product', 'however', 'they', 'are', 'very', 'difficult', 'to', 'get', 'on', 'for', 'older', 'people', 'i', 'feel', 'like', 'i', 'have', 'had', 'a', 'full', 'day', 'workout', 'after', 'getting', 'them', 'on', 'also', 'as', 'the', 'day', 'wears', 'on', 'they', 'begin', 'to', 'roll', 'down', 'from', 'the', 'top', 'and', 'create', 'a', 'very', 'deep', 'ridge', 'in', 'the', 'skin', 'i', 'have', 'to', 'wear', 'them', 'so', 'if', 'those', 'two', 'difficulties', 'could', 'be', 'addressed', 'it', 'would', 'be', 'such', 'a', 'help']",
         "['jobst', 'ultrasheer', 'thigh', 'high', 'excellent', 'product', 'however', 'difficult', 'get', 'older', 'people', 'feel', 'like', 'full', 'day', 'workout', 'getting', 'also', 'day', 'wears', 'begin', 'roll', 'top', 'create', 'deep', 'ridge', 'skin', 'wear', 'two', 'difficulties', 'could', 'addressed', 'would', 'help']",
         "['jobst', 'ultrasheer', 'thigh', 'high', 'excellent', 'product', 'however', 'difficult', 'get', 'older', 'people', 'feel', 'like', 'full', 'day', 'workout', 'getting', 'also', 'day', 'wear', 'begin', 'roll', 'top', 'create', 'deep', 'ridge', 'skin', 'wear', 'two', 'difficulty', 'could', 'addressed', 'would', 'help']",
         "['jobst', 'ultrash', 'thigh', 'high', 'excel', 'product', 'howev', 'difficult', 'get', 'older', 'peopl', 'feel', 'like', 'full', 'day', 'workout', 'get', 'also', 'day', 'wear', 'begin', 'roll', 'top', 'creat', 'deep', 'ridg', 'skin', 'wear', 'two', 'difficulti', 'could', 'address', 'would', 'help']",
         "['jobst', 'ultrash', 'thigh', 'high', 'excel', 'product', 'howev', 'difficult', 'get', 'older', 'peopl', 'feel', 'like', 'full', 'day', 'workout', 'get', 'also', 'day', 'wear', 'begin', 'roll', 'top', 'creat', 'deep', 'ridg', 'skin', 'wear', 'two', 'difficulti', 'could', 'address', 'would', 'help']",
         "jobst ultrasheer thigh high excellent product however difficult get older people feel like full day workout getting also day wear begin roll top create deep ridge skin wear two difficulty could addressed would help",
         "jobst ultrasheer thigh high excellent product however difficult get older people feel like full day workout getting also day wear begin roll top create deep ridge skin wear two difficulty could addressed would help."
        ],
        [
         "19",
         "__label__1",
         "sizes recomended in the size chart are not real sizes are much smaller than what is recomended in the chart i tried to put it and sheer it i guess you should not buy this item in the internetit is better to go to the store and check it",
         "['sizes', 'recomended', 'in', 'the', 'size', 'chart', 'are', 'not', 'real', 'sizes', 'are', 'much', 'smaller', 'than', 'what', 'is', 'recomended', 'in', 'the', 'chart', 'i', 'tried', 'to', 'put', 'it', 'and', 'sheer', 'it', 'i', 'guess', 'you', 'should', 'not', 'buy', 'this', 'item', 'in', 'the', 'internetit', 'is', 'better', 'to', 'go', 'to', 'the', 'store', 'and', 'check', 'it']",
         "['sizes', 'recomended', 'size', 'chart', 'real', 'sizes', 'much', 'smaller', 'recomended', 'chart', 'tried', 'put', 'sheer', 'guess', 'buy', 'item', 'internetit', 'better', 'go', 'store', 'check']",
         "['size', 'recomended', 'size', 'chart', 'real', 'size', 'much', 'smaller', 'recomended', 'chart', 'tried', 'put', 'sheer', 'guess', 'buy', 'item', 'internetit', 'better', 'go', 'store', 'check']",
         "['size', 'recomend', 'size', 'chart', 'real', 'size', 'much', 'smaller', 'recomend', 'chart', 'tri', 'put', 'sheer', 'guess', 'buy', 'item', 'internetit', 'better', 'go', 'store', 'check']",
         "['size', 'recomend', 'size', 'chart', 'real', 'size', 'much', 'smaller', 'recomend', 'chart', 'tri', 'put', 'sheer', 'guess', 'buy', 'item', 'internetit', 'better', 'go', 'store', 'check']",
         "size recomended size chart real size much smaller recomended chart tried put sheer guess buy item internetit better go store check",
         "size recomended size chart real size much smaller recomended chart tried put sheer guess buy item internetit better go store check."
        ],
        [
         "20",
         "__label__1",
         "mens ultrasheer this model may be ok for sedentary types but i am active and get around alot in my job  consistently found these stockings rolled up down by my ankles not good solution go with the standard compression stocking  stock  excellent support stays up and gives me what i need both pair of these also tore as i struggled to pull them up all the time good riddancebad investment",
         "['mens', 'ultrasheer', 'this', 'model', 'may', 'be', 'ok', 'for', 'sedentary', 'types', 'but', 'i', 'am', 'active', 'and', 'get', 'around', 'alot', 'in', 'my', 'job', 'consistently', 'found', 'these', 'stockings', 'rolled', 'up', 'down', 'by', 'my', 'ankles', 'not', 'good', 'solution', 'go', 'with', 'the', 'standard', 'compression', 'stocking', 'stock', 'excellent', 'support', 'stays', 'up', 'and', 'gives', 'me', 'what', 'i', 'need', 'both', 'pair', 'of', 'these', 'also', 'tore', 'as', 'i', 'struggled', 'to', 'pull', 'them', 'up', 'all', 'the', 'time', 'good', 'riddancebad', 'investment']",
         "['mens', 'ultrasheer', 'model', 'may', 'ok', 'sedentary', 'types', 'active', 'get', 'around', 'alot', 'job', 'consistently', 'found', 'stockings', 'rolled', 'ankles', 'good', 'solution', 'go', 'standard', 'compression', 'stocking', 'stock', 'excellent', 'support', 'stays', 'gives', 'need', 'pair', 'also', 'tore', 'struggled', 'pull', 'time', 'good', 'riddancebad', 'investment']",
         "['men', 'ultrasheer', 'model', 'may', 'ok', 'sedentary', 'type', 'active', 'get', 'around', 'alot', 'job', 'consistently', 'found', 'stocking', 'rolled', 'ankle', 'good', 'solution', 'go', 'standard', 'compression', 'stocking', 'stock', 'excellent', 'support', 'stay', 'give', 'need', 'pair', 'also', 'tore', 'struggled', 'pull', 'time', 'good', 'riddancebad', 'investment']",
         "['men', 'ultrash', 'model', 'may', 'ok', 'sedentari', 'type', 'activ', 'get', 'around', 'alot', 'job', 'consist', 'found', 'stock', 'roll', 'ankl', 'good', 'solut', 'go', 'standard', 'compress', 'stock', 'stock', 'excel', 'support', 'stay', 'give', 'need', 'pair', 'also', 'tore', 'struggl', 'pull', 'time', 'good', 'riddancebad', 'invest']",
         "['men', 'ultrash', 'model', 'may', 'ok', 'sedentari', 'type', 'activ', 'get', 'around', 'alot', 'job', 'consist', 'found', 'stock', 'roll', 'ankl', 'good', 'solut', 'go', 'standard', 'compress', 'stock', 'stock', 'excel', 'support', 'stay', 'give', 'need', 'pair', 'also', 'tore', 'struggl', 'pull', 'time', 'good', 'riddancebad', 'invest']",
         "men ultrasheer model may ok sedentary type active get around alot job consistently found stocking rolled ankle good solution go standard compression stocking stock excellent support stay give need pair also tore struggled pull time good riddancebad investment",
         "men ultrasheer model may ok sedentary type active get around alot job consistently found stocking rolled ankle good solution go standard compression stocking stock excellent support stay give need pair also tore struggled pull time good riddancebad investment."
        ],
        [
         "21",
         "__label__2",
         "delicious cookie mix i thought it was funny that i bought this product without knowing it was a mix i read the header very quickly and just thought it was packaged cookies but no it is cookie mix and i guess i should have noticed that since it is right in the titlethis is the first time i have ever tried baking with a cookie mix if you are used to the convenience of the cookie dough that you buy wrapped up in plastic logs then you might be in for a bit of a surprise mixing up the dough can get very messy it is extremely sticky however with a cookie mix like this you have a lot of flexibility in the ratio of ingredients i like to add some extra butter to make the baked cookies more chewy also this mix has really large chocolate chips in iti love thati removed a star for the addition of natural flavors in the mix",
         "['delicious', 'cookie', 'mix', 'i', 'thought', 'it', 'was', 'funny', 'that', 'i', 'bought', 'this', 'product', 'without', 'knowing', 'it', 'was', 'a', 'mix', 'i', 'read', 'the', 'header', 'very', 'quickly', 'and', 'just', 'thought', 'it', 'was', 'packaged', 'cookies', 'but', 'no', 'it', 'is', 'cookie', 'mix', 'and', 'i', 'guess', 'i', 'should', 'have', 'noticed', 'that', 'since', 'it', 'is', 'right', 'in', 'the', 'titlethis', 'is', 'the', 'first', 'time', 'i', 'have', 'ever', 'tried', 'baking', 'with', 'a', 'cookie', 'mix', 'if', 'you', 'are', 'used', 'to', 'the', 'convenience', 'of', 'the', 'cookie', 'dough', 'that', 'you', 'buy', 'wrapped', 'up', 'in', 'plastic', 'logs', 'then', 'you', 'might', 'be', 'in', 'for', 'a', 'bit', 'of', 'a', 'surprise', 'mixing', 'up', 'the', 'dough', 'can', 'get', 'very', 'messy', 'it', 'is', 'extremely', 'sticky', 'however', 'with', 'a', 'cookie', 'mix', 'like', 'this', 'you', 'have', 'a', 'lot', 'of', 'flexibility', 'in', 'the', 'ratio', 'of', 'ingredients', 'i', 'like', 'to', 'add', 'some', 'extra', 'butter', 'to', 'make', 'the', 'baked', 'cookies', 'more', 'chewy', 'also', 'this', 'mix', 'has', 'really', 'large', 'chocolate', 'chips', 'in', 'iti', 'love', 'thati', 'removed', 'a', 'star', 'for', 'the', 'addition', 'of', 'natural', 'flavors', 'in', 'the', 'mix']",
         "['delicious', 'cookie', 'mix', 'thought', 'funny', 'bought', 'product', 'without', 'knowing', 'mix', 'read', 'header', 'quickly', 'thought', 'packaged', 'cookies', 'cookie', 'mix', 'guess', 'noticed', 'since', 'right', 'titlethis', 'first', 'time', 'ever', 'tried', 'baking', 'cookie', 'mix', 'used', 'convenience', 'cookie', 'dough', 'buy', 'wrapped', 'plastic', 'logs', 'might', 'bit', 'surprise', 'mixing', 'dough', 'get', 'messy', 'extremely', 'sticky', 'however', 'cookie', 'mix', 'like', 'lot', 'flexibility', 'ratio', 'ingredients', 'like', 'add', 'extra', 'butter', 'make', 'baked', 'cookies', 'chewy', 'also', 'mix', 'really', 'large', 'chocolate', 'chips', 'iti', 'love', 'thati', 'removed', 'star', 'addition', 'natural', 'flavors', 'mix']",
         "['delicious', 'cookie', 'mix', 'thought', 'funny', 'bought', 'product', 'without', 'knowing', 'mix', 'read', 'header', 'quickly', 'thought', 'packaged', 'cooky', 'cookie', 'mix', 'guess', 'noticed', 'since', 'right', 'titlethis', 'first', 'time', 'ever', 'tried', 'baking', 'cookie', 'mix', 'used', 'convenience', 'cookie', 'dough', 'buy', 'wrapped', 'plastic', 'log', 'might', 'bit', 'surprise', 'mixing', 'dough', 'get', 'messy', 'extremely', 'sticky', 'however', 'cookie', 'mix', 'like', 'lot', 'flexibility', 'ratio', 'ingredient', 'like', 'add', 'extra', 'butter', 'make', 'baked', 'cooky', 'chewy', 'also', 'mix', 'really', 'large', 'chocolate', 'chip', 'iti', 'love', 'thati', 'removed', 'star', 'addition', 'natural', 'flavor', 'mix']",
         "['delici', 'cooki', 'mix', 'thought', 'funni', 'bought', 'product', 'without', 'know', 'mix', 'read', 'header', 'quickli', 'thought', 'packag', 'cooki', 'cooki', 'mix', 'guess', 'notic', 'sinc', 'right', 'titlethi', 'first', 'time', 'ever', 'tri', 'bake', 'cooki', 'mix', 'use', 'conveni', 'cooki', 'dough', 'buy', 'wrap', 'plastic', 'log', 'might', 'bit', 'surpris', 'mix', 'dough', 'get', 'messi', 'extrem', 'sticki', 'howev', 'cooki', 'mix', 'like', 'lot', 'flexibl', 'ratio', 'ingredi', 'like', 'add', 'extra', 'butter', 'make', 'bake', 'cooki', 'chewi', 'also', 'mix', 'realli', 'larg', 'chocol', 'chip', 'iti', 'love', 'thati', 'remov', 'star', 'addit', 'natur', 'flavor', 'mix']",
         "['delici', 'cooki', 'mix', 'thought', 'funni', 'bought', 'product', 'without', 'know', 'mix', 'read', 'header', 'quick', 'thought', 'packag', 'cooki', 'cooki', 'mix', 'guess', 'notic', 'sinc', 'right', 'titlethi', 'first', 'time', 'ever', 'tri', 'bake', 'cooki', 'mix', 'use', 'conveni', 'cooki', 'dough', 'buy', 'wrap', 'plastic', 'log', 'might', 'bit', 'surpris', 'mix', 'dough', 'get', 'messi', 'extrem', 'sticki', 'howev', 'cooki', 'mix', 'like', 'lot', 'flexibl', 'ratio', 'ingredi', 'like', 'add', 'extra', 'butter', 'make', 'bake', 'cooki', 'chewi', 'also', 'mix', 'realli', 'larg', 'chocol', 'chip', 'iti', 'love', 'thati', 'remov', 'star', 'addit', 'natur', 'flavor', 'mix']",
         "delicious cookie mix thought funny bought product without knowing mix read header quickly thought packaged cooky cookie mix guess noticed since right titlethis first time ever tried baking cookie mix used convenience cookie dough buy wrapped plastic log might bit surprise mixing dough get messy extremely sticky however cookie mix like lot flexibility ratio ingredient like add extra butter make baked cooky chewy also mix really large chocolate chip iti love thati removed star addition natural flavor mix",
         "delicious cookie mix thought funny bought product without knowing mix read header quickly thought packaged cooky cookie mix guess noticed since right titlethis first time ever tried baking cookie mix used convenience cookie dough buy wrapped plastic log might bit surprise mixing dough get messy extremely sticky however cookie mix like lot flexibility ratio ingredient like add extra butter make baked cooky chewy also mix really large chocolate chip iti love thati removed star addition natural flavor mix."
        ],
        [
         "22",
         "__label__1",
         "another abysmal digital copy rather than scratches and insect droppings this one has random pixelations combined with muddy light and vague image resolution probably the cue should have been the packaging is straight out of your street corner bootleg dealerif you have ever seen a reasonably good condition film copy you know the defining visuals of his film are the crystal clear lighting contrasts in black and white the surrounding countryside and old home scenes are set with early morning ground mists or the haze of memory while the events on the bridge and in the water are bright clear and immediatehere everything is dull dark and clouded or if you remember the timbre and enunciation of captains commands so are the visualsafter that it is hard to believe this award winning critically acclaimed films best presentation is on youtube somewhere out there is a dvd that comes up to the standard of a mm public library reeljust none of them appear to be on amazon",
         "['another', 'abysmal', 'digital', 'copy', 'rather', 'than', 'scratches', 'and', 'insect', 'droppings', 'this', 'one', 'has', 'random', 'pixelations', 'combined', 'with', 'muddy', 'light', 'and', 'vague', 'image', 'resolution', 'probably', 'the', 'cue', 'should', 'have', 'been', 'the', 'packaging', 'is', 'straight', 'out', 'of', 'your', 'street', 'corner', 'bootleg', 'dealerif', 'you', 'have', 'ever', 'seen', 'a', 'reasonably', 'good', 'condition', 'film', 'copy', 'you', 'know', 'the', 'defining', 'visuals', 'of', 'his', 'film', 'are', 'the', 'crystal', 'clear', 'lighting', 'contrasts', 'in', 'black', 'and', 'white', 'the', 'surrounding', 'countryside', 'and', 'old', 'home', 'scenes', 'are', 'set', 'with', 'early', 'morning', 'ground', 'mists', 'or', 'the', 'haze', 'of', 'memory', 'while', 'the', 'events', 'on', 'the', 'bridge', 'and', 'in', 'the', 'water', 'are', 'bright', 'clear', 'and', 'immediatehere', 'everything', 'is', 'dull', 'dark', 'and', 'clouded', 'or', 'if', 'you', 'remember', 'the', 'timbre', 'and', 'enunciation', 'of', 'captains', 'commands', 'so', 'are', 'the', 'visualsafter', 'that', 'it', 'is', 'hard', 'to', 'believe', 'this', 'award', 'winning', 'critically', 'acclaimed', 'films', 'best', 'presentation', 'is', 'on', 'youtube', 'somewhere', 'out', 'there', 'is', 'a', 'dvd', 'that', 'comes', 'up', 'to', 'the', 'standard', 'of', 'a', 'mm', 'public', 'library', 'reeljust', 'none', 'of', 'them', 'appear', 'to', 'be', 'on', 'amazon']",
         "['another', 'abysmal', 'digital', 'copy', 'rather', 'scratches', 'insect', 'droppings', 'one', 'random', 'pixelations', 'combined', 'muddy', 'light', 'vague', 'image', 'resolution', 'probably', 'cue', 'packaging', 'straight', 'street', 'corner', 'bootleg', 'dealerif', 'ever', 'seen', 'reasonably', 'good', 'condition', 'film', 'copy', 'know', 'defining', 'visuals', 'film', 'crystal', 'clear', 'lighting', 'contrasts', 'black', 'white', 'surrounding', 'countryside', 'old', 'home', 'scenes', 'set', 'early', 'morning', 'ground', 'mists', 'haze', 'memory', 'events', 'bridge', 'water', 'bright', 'clear', 'immediatehere', 'everything', 'dull', 'dark', 'clouded', 'remember', 'timbre', 'enunciation', 'captains', 'commands', 'visualsafter', 'hard', 'believe', 'award', 'winning', 'critically', 'acclaimed', 'films', 'best', 'presentation', 'youtube', 'somewhere', 'dvd', 'comes', 'standard', 'mm', 'public', 'library', 'reeljust', 'none', 'appear', 'amazon']",
         "['another', 'abysmal', 'digital', 'copy', 'rather', 'scratch', 'insect', 'droppings', 'one', 'random', 'pixelations', 'combined', 'muddy', 'light', 'vague', 'image', 'resolution', 'probably', 'cue', 'packaging', 'straight', 'street', 'corner', 'bootleg', 'dealerif', 'ever', 'seen', 'reasonably', 'good', 'condition', 'film', 'copy', 'know', 'defining', 'visuals', 'film', 'crystal', 'clear', 'lighting', 'contrast', 'black', 'white', 'surrounding', 'countryside', 'old', 'home', 'scene', 'set', 'early', 'morning', 'ground', 'mist', 'haze', 'memory', 'event', 'bridge', 'water', 'bright', 'clear', 'immediatehere', 'everything', 'dull', 'dark', 'clouded', 'remember', 'timbre', 'enunciation', 'captain', 'command', 'visualsafter', 'hard', 'believe', 'award', 'winning', 'critically', 'acclaimed', 'film', 'best', 'presentation', 'youtube', 'somewhere', 'dvd', 'come', 'standard', 'mm', 'public', 'library', 'reeljust', 'none', 'appear', 'amazon']",
         "['anoth', 'abysm', 'digit', 'copi', 'rather', 'scratch', 'insect', 'drop', 'one', 'random', 'pixel', 'combin', 'muddi', 'light', 'vagu', 'imag', 'resolut', 'probabl', 'cue', 'packag', 'straight', 'street', 'corner', 'bootleg', 'dealerif', 'ever', 'seen', 'reason', 'good', 'condit', 'film', 'copi', 'know', 'defin', 'visual', 'film', 'crystal', 'clear', 'light', 'contrast', 'black', 'white', 'surround', 'countrysid', 'old', 'home', 'scene', 'set', 'earli', 'morn', 'ground', 'mist', 'haze', 'memori', 'event', 'bridg', 'water', 'bright', 'clear', 'immediateher', 'everyth', 'dull', 'dark', 'cloud', 'rememb', 'timbr', 'enunci', 'captain', 'command', 'visualsaft', 'hard', 'believ', 'award', 'win', 'critic', 'acclaim', 'film', 'best', 'present', 'youtub', 'somewher', 'dvd', 'come', 'standard', 'mm', 'public', 'librari', 'reeljust', 'none', 'appear', 'amazon']",
         "['anoth', 'abysm', 'digit', 'copi', 'rather', 'scratch', 'insect', 'drop', 'one', 'random', 'pixel', 'combin', 'muddi', 'light', 'vagu', 'imag', 'resolut', 'probabl', 'cue', 'packag', 'straight', 'street', 'corner', 'bootleg', 'dealerif', 'ever', 'seen', 'reason', 'good', 'condit', 'film', 'copi', 'know', 'defin', 'visual', 'film', 'crystal', 'clear', 'light', 'contrast', 'black', 'white', 'surround', 'countrysid', 'old', 'home', 'scene', 'set', 'earli', 'morn', 'ground', 'mist', 'haze', 'memori', 'event', 'bridg', 'water', 'bright', 'clear', 'immediateher', 'everyth', 'dull', 'dark', 'cloud', 'rememb', 'timbr', 'enunci', 'captain', 'command', 'visualsaft', 'hard', 'believ', 'award', 'win', 'critic', 'acclaim', 'film', 'best', 'present', 'youtub', 'somewher', 'dvd', 'come', 'standard', 'mm', 'public', 'librari', 'reeljust', 'none', 'appear', 'amazon']",
         "another abysmal digital copy rather scratch insect droppings one random pixelations combined muddy light vague image resolution probably cue packaging straight street corner bootleg dealerif ever seen reasonably good condition film copy know defining visuals film crystal clear lighting contrast black white surrounding countryside old home scene set early morning ground mist haze memory event bridge water bright clear immediatehere everything dull dark clouded remember timbre enunciation captain command visualsafter hard believe award winning critically acclaimed film best presentation youtube somewhere dvd come standard mm public library reeljust none appear amazon",
         "another abysmal digital copy rather scratch insect droppings one random pixelations combined muddy light vague image resolution probably cue packaging straight street corner bootleg dealerif ever seen reasonably good condition film copy know defining visuals film crystal clear lighting contrast black white surrounding countryside old home scene set early morning ground mist haze memory event bridge water bright clear immediatehere everything dull dark clouded remember timbre enunciation captain command visualsafter hard believe award winning critically acclaimed film best presentation youtube somewhere dvd come standard mm public library reeljust none appear amazon."
        ],
        [
         "23",
         "__label__2",
         "a fascinating insight into the life of modern japanese teens i thoroughly enjoyed rising sons and daughters i do not know of any other book that looks at japanese society from the point of view of its young people poised as they are between their parents ageold japanese culture of restraint and obedience to the will of the community and their peers adulation of western culture true to form the new young of japan seem to be creating an international blend as the ando family demonstrates in this beautifully written book of vignettes of the private lives of members of this family steven wardell is clearly a talented young author adopted for some of his schooling into this family of four teens and thus able to view family life in japan from the inside out a great read",
         "['a', 'fascinating', 'insight', 'into', 'the', 'life', 'of', 'modern', 'japanese', 'teens', 'i', 'thoroughly', 'enjoyed', 'rising', 'sons', 'and', 'daughters', 'i', 'do', 'not', 'know', 'of', 'any', 'other', 'book', 'that', 'looks', 'at', 'japanese', 'society', 'from', 'the', 'point', 'of', 'view', 'of', 'its', 'young', 'people', 'poised', 'as', 'they', 'are', 'between', 'their', 'parents', 'ageold', 'japanese', 'culture', 'of', 'restraint', 'and', 'obedience', 'to', 'the', 'will', 'of', 'the', 'community', 'and', 'their', 'peers', 'adulation', 'of', 'western', 'culture', 'true', 'to', 'form', 'the', 'new', 'young', 'of', 'japan', 'seem', 'to', 'be', 'creating', 'an', 'international', 'blend', 'as', 'the', 'ando', 'family', 'demonstrates', 'in', 'this', 'beautifully', 'written', 'book', 'of', 'vignettes', 'of', 'the', 'private', 'lives', 'of', 'members', 'of', 'this', 'family', 'steven', 'wardell', 'is', 'clearly', 'a', 'talented', 'young', 'author', 'adopted', 'for', 'some', 'of', 'his', 'schooling', 'into', 'this', 'family', 'of', 'four', 'teens', 'and', 'thus', 'able', 'to', 'view', 'family', 'life', 'in', 'japan', 'from', 'the', 'inside', 'out', 'a', 'great', 'read']",
         "['fascinating', 'insight', 'life', 'modern', 'japanese', 'teens', 'thoroughly', 'enjoyed', 'rising', 'sons', 'daughters', 'know', 'book', 'looks', 'japanese', 'society', 'point', 'view', 'young', 'people', 'poised', 'parents', 'ageold', 'japanese', 'culture', 'restraint', 'obedience', 'community', 'peers', 'adulation', 'western', 'culture', 'true', 'form', 'new', 'young', 'japan', 'seem', 'creating', 'international', 'blend', 'ando', 'family', 'demonstrates', 'beautifully', 'written', 'book', 'vignettes', 'private', 'lives', 'members', 'family', 'steven', 'wardell', 'clearly', 'talented', 'young', 'author', 'adopted', 'schooling', 'family', 'four', 'teens', 'thus', 'able', 'view', 'family', 'life', 'japan', 'inside', 'great', 'read']",
         "['fascinating', 'insight', 'life', 'modern', 'japanese', 'teen', 'thoroughly', 'enjoyed', 'rising', 'son', 'daughter', 'know', 'book', 'look', 'japanese', 'society', 'point', 'view', 'young', 'people', 'poised', 'parent', 'ageold', 'japanese', 'culture', 'restraint', 'obedience', 'community', 'peer', 'adulation', 'western', 'culture', 'true', 'form', 'new', 'young', 'japan', 'seem', 'creating', 'international', 'blend', 'ando', 'family', 'demonstrates', 'beautifully', 'written', 'book', 'vignette', 'private', 'life', 'member', 'family', 'steven', 'wardell', 'clearly', 'talented', 'young', 'author', 'adopted', 'schooling', 'family', 'four', 'teen', 'thus', 'able', 'view', 'family', 'life', 'japan', 'inside', 'great', 'read']",
         "['fascin', 'insight', 'life', 'modern', 'japanes', 'teen', 'thoroughli', 'enjoy', 'rise', 'son', 'daughter', 'know', 'book', 'look', 'japanes', 'societi', 'point', 'view', 'young', 'peopl', 'pois', 'parent', 'ageold', 'japanes', 'cultur', 'restraint', 'obedi', 'commun', 'peer', 'adul', 'western', 'cultur', 'true', 'form', 'new', 'young', 'japan', 'seem', 'creat', 'intern', 'blend', 'ando', 'famili', 'demonstr', 'beauti', 'written', 'book', 'vignett', 'privat', 'live', 'member', 'famili', 'steven', 'wardel', 'clearli', 'talent', 'young', 'author', 'adopt', 'school', 'famili', 'four', 'teen', 'thu', 'abl', 'view', 'famili', 'life', 'japan', 'insid', 'great', 'read']",
         "['fascin', 'insight', 'life', 'modern', 'japanes', 'teen', 'thorough', 'enjoy', 'rise', 'son', 'daughter', 'know', 'book', 'look', 'japanes', 'societi', 'point', 'view', 'young', 'peopl', 'pois', 'parent', 'ageold', 'japanes', 'cultur', 'restraint', 'obedi', 'communiti', 'peer', 'adul', 'western', 'cultur', 'true', 'form', 'new', 'young', 'japan', 'seem', 'creat', 'intern', 'blend', 'ando', 'famili', 'demonstr', 'beauti', 'written', 'book', 'vignett', 'privat', 'live', 'member', 'famili', 'steven', 'wardel', 'clear', 'talent', 'young', 'author', 'adopt', 'school', 'famili', 'four', 'teen', 'thus', 'abl', 'view', 'famili', 'life', 'japan', 'insid', 'great', 'read']",
         "fascinating insight life modern japanese teen thoroughly enjoyed rising son daughter know book look japanese society point view young people poised parent ageold japanese culture restraint obedience community peer adulation western culture true form new young japan seem creating international blend ando family demonstrates beautifully written book vignette private life member family steven wardell clearly talented young author adopted schooling family four teen thus able view family life japan inside great read",
         "fascinating insight life modern japanese teen thoroughly enjoyed rising son daughter know book look japanese society point view young people poised parent ageold japanese culture restraint obedience community peer adulation western culture true form new young japan seem creating international blend ando family demonstrates beautifully written book vignette private life member family steven wardell clearly talented young author adopted schooling family four teen thus able view family life japan inside great read."
        ],
        [
         "24",
         "__label__2",
         "i liked this album more then i thought i would i heard a song or two and thought same o same obut when i listened to songs like blue angellanna and mama the hair just rose off my neckroy is trully an amazing singer with a talent you do not find much now days",
         "['i', 'liked', 'this', 'album', 'more', 'then', 'i', 'thought', 'i', 'would', 'i', 'heard', 'a', 'song', 'or', 'two', 'and', 'thought', 'same', 'o', 'same', 'obut', 'when', 'i', 'listened', 'to', 'songs', 'like', 'blue', 'angellanna', 'and', 'mama', 'the', 'hair', 'just', 'rose', 'off', 'my', 'neckroy', 'is', 'trully', 'an', 'amazing', 'singer', 'with', 'a', 'talent', 'you', 'do', 'not', 'find', 'much', 'now', 'days']",
         "['liked', 'album', 'thought', 'would', 'heard', 'song', 'two', 'thought', 'obut', 'listened', 'songs', 'like', 'blue', 'angellanna', 'mama', 'hair', 'rose', 'neckroy', 'trully', 'amazing', 'singer', 'talent', 'find', 'much', 'days']",
         "['liked', 'album', 'thought', 'would', 'heard', 'song', 'two', 'thought', 'obut', 'listened', 'song', 'like', 'blue', 'angellanna', 'mama', 'hair', 'rose', 'neckroy', 'trully', 'amazing', 'singer', 'talent', 'find', 'much', 'day']",
         "['like', 'album', 'thought', 'would', 'heard', 'song', 'two', 'thought', 'obut', 'listen', 'song', 'like', 'blue', 'angellanna', 'mama', 'hair', 'rose', 'neckroy', 'trulli', 'amaz', 'singer', 'talent', 'find', 'much', 'day']",
         "['like', 'album', 'thought', 'would', 'heard', 'song', 'two', 'thought', 'obut', 'listen', 'song', 'like', 'blue', 'angellanna', 'mama', 'hair', 'rose', 'neckroy', 'trulli', 'amaz', 'singer', 'talent', 'find', 'much', 'day']",
         "liked album thought would heard song two thought obut listened song like blue angellanna mama hair rose neckroy trully amazing singer talent find much day",
         "liked album thought would heard song two thought obut listened song like blue angellanna mama hair rose neckroy trully amazing singer talent find much day."
        ],
        [
         "25",
         "__label__1",
         "problem with charging smaller aaas i have had the charger for more than two years it charges aa batteries just fine but has a huge problem securing smaller aaa batteries to charge the smaller batteries you need to flip down the little button at the positive end in the beginning one of the four aaa batteries would pop up and now three out of the four will not hold the problem is the flip mechanism became loose and any horizontal pressure would push the buttons back up what i have to do now is using duct tape and a segment of crayon apply the crayon on the buttons and wrap the tape around you know how painful that is",
         "['problem', 'with', 'charging', 'smaller', 'aaas', 'i', 'have', 'had', 'the', 'charger', 'for', 'more', 'than', 'two', 'years', 'it', 'charges', 'aa', 'batteries', 'just', 'fine', 'but', 'has', 'a', 'huge', 'problem', 'securing', 'smaller', 'aaa', 'batteries', 'to', 'charge', 'the', 'smaller', 'batteries', 'you', 'need', 'to', 'flip', 'down', 'the', 'little', 'button', 'at', 'the', 'positive', 'end', 'in', 'the', 'beginning', 'one', 'of', 'the', 'four', 'aaa', 'batteries', 'would', 'pop', 'up', 'and', 'now', 'three', 'out', 'of', 'the', 'four', 'will', 'not', 'hold', 'the', 'problem', 'is', 'the', 'flip', 'mechanism', 'became', 'loose', 'and', 'any', 'horizontal', 'pressure', 'would', 'push', 'the', 'buttons', 'back', 'up', 'what', 'i', 'have', 'to', 'do', 'now', 'is', 'using', 'duct', 'tape', 'and', 'a', 'segment', 'of', 'crayon', 'apply', 'the', 'crayon', 'on', 'the', 'buttons', 'and', 'wrap', 'the', 'tape', 'around', 'you', 'know', 'how', 'painful', 'that', 'is']",
         "['problem', 'charging', 'smaller', 'aaas', 'charger', 'two', 'years', 'charges', 'aa', 'batteries', 'fine', 'huge', 'problem', 'securing', 'smaller', 'aaa', 'batteries', 'charge', 'smaller', 'batteries', 'need', 'flip', 'little', 'button', 'positive', 'end', 'beginning', 'one', 'four', 'aaa', 'batteries', 'would', 'pop', 'three', 'four', 'hold', 'problem', 'flip', 'mechanism', 'became', 'loose', 'horizontal', 'pressure', 'would', 'push', 'buttons', 'back', 'using', 'duct', 'tape', 'segment', 'crayon', 'apply', 'crayon', 'buttons', 'wrap', 'tape', 'around', 'know', 'painful']",
         "['problem', 'charging', 'smaller', 'aaa', 'charger', 'two', 'year', 'charge', 'aa', 'battery', 'fine', 'huge', 'problem', 'securing', 'smaller', 'aaa', 'battery', 'charge', 'smaller', 'battery', 'need', 'flip', 'little', 'button', 'positive', 'end', 'beginning', 'one', 'four', 'aaa', 'battery', 'would', 'pop', 'three', 'four', 'hold', 'problem', 'flip', 'mechanism', 'became', 'loose', 'horizontal', 'pressure', 'would', 'push', 'button', 'back', 'using', 'duct', 'tape', 'segment', 'crayon', 'apply', 'crayon', 'button', 'wrap', 'tape', 'around', 'know', 'painful']",
         "['problem', 'charg', 'smaller', 'aaa', 'charger', 'two', 'year', 'charg', 'aa', 'batteri', 'fine', 'huge', 'problem', 'secur', 'smaller', 'aaa', 'batteri', 'charg', 'smaller', 'batteri', 'need', 'flip', 'littl', 'button', 'posit', 'end', 'begin', 'one', 'four', 'aaa', 'batteri', 'would', 'pop', 'three', 'four', 'hold', 'problem', 'flip', 'mechan', 'becam', 'loos', 'horizont', 'pressur', 'would', 'push', 'button', 'back', 'use', 'duct', 'tape', 'segment', 'crayon', 'appli', 'crayon', 'button', 'wrap', 'tape', 'around', 'know', 'pain']",
         "['problem', 'charg', 'smaller', 'aaa', 'charger', 'two', 'year', 'charg', 'aa', 'batteri', 'fine', 'huge', 'problem', 'secur', 'smaller', 'aaa', 'batteri', 'charg', 'smaller', 'batteri', 'need', 'flip', 'littl', 'button', 'posit', 'end', 'begin', 'one', 'four', 'aaa', 'batteri', 'would', 'pop', 'three', 'four', 'hold', 'problem', 'flip', 'mechan', 'becam', 'loos', 'horizont', 'pressur', 'would', 'push', 'button', 'back', 'use', 'duct', 'tape', 'segment', 'crayon', 'appli', 'crayon', 'button', 'wrap', 'tape', 'around', 'know', 'pain']",
         "problem charging smaller aaa charger two year charge aa battery fine huge problem securing smaller aaa battery charge smaller battery need flip little button positive end beginning one four aaa battery would pop three four hold problem flip mechanism became loose horizontal pressure would push button back using duct tape segment crayon apply crayon button wrap tape around know painful",
         "problem charging smaller aaa charger two year charge aa battery fine huge problem securing smaller aaa battery charge smaller battery need flip little button positive end beginning one four aaa battery would pop three four hold problem flip mechanism became loose horizontal pressure would push button back using duct tape segment crayon apply crayon button wrap tape around know painful."
        ],
        [
         "26",
         "__label__1",
         "works but not as advertised i bought one of these chargersthe instructions say the lights stay on while the battery chargestrue the instructions do not say the lights turn off when its done which is also true  hours of charging and the lights stay on i returned it thinking i had a bad unitthe new one did the same thing i just kept it since it does chargebut the lights are useless since they seem to always stay on its a backup charger for when i manage to drain all my aas but i would not want this as my only charger",
         "['works', 'but', 'not', 'as', 'advertised', 'i', 'bought', 'one', 'of', 'these', 'chargersthe', 'instructions', 'say', 'the', 'lights', 'stay', 'on', 'while', 'the', 'battery', 'chargestrue', 'the', 'instructions', 'do', 'not', 'say', 'the', 'lights', 'turn', 'off', 'when', 'its', 'done', 'which', 'is', 'also', 'true', 'hours', 'of', 'charging', 'and', 'the', 'lights', 'stay', 'on', 'i', 'returned', 'it', 'thinking', 'i', 'had', 'a', 'bad', 'unitthe', 'new', 'one', 'did', 'the', 'same', 'thing', 'i', 'just', 'kept', 'it', 'since', 'it', 'does', 'chargebut', 'the', 'lights', 'are', 'useless', 'since', 'they', 'seem', 'to', 'always', 'stay', 'on', 'its', 'a', 'backup', 'charger', 'for', 'when', 'i', 'manage', 'to', 'drain', 'all', 'my', 'aas', 'but', 'i', 'would', 'not', 'want', 'this', 'as', 'my', 'only', 'charger']",
         "['works', 'advertised', 'bought', 'one', 'chargersthe', 'instructions', 'say', 'lights', 'stay', 'battery', 'chargestrue', 'instructions', 'say', 'lights', 'turn', 'done', 'also', 'true', 'hours', 'charging', 'lights', 'stay', 'returned', 'thinking', 'bad', 'unitthe', 'new', 'one', 'thing', 'kept', 'since', 'chargebut', 'lights', 'useless', 'since', 'seem', 'always', 'stay', 'backup', 'charger', 'manage', 'drain', 'aas', 'would', 'want', 'charger']",
         "['work', 'advertised', 'bought', 'one', 'chargersthe', 'instruction', 'say', 'light', 'stay', 'battery', 'chargestrue', 'instruction', 'say', 'light', 'turn', 'done', 'also', 'true', 'hour', 'charging', 'light', 'stay', 'returned', 'thinking', 'bad', 'unitthe', 'new', 'one', 'thing', 'kept', 'since', 'chargebut', 'light', 'useless', 'since', 'seem', 'always', 'stay', 'backup', 'charger', 'manage', 'drain', 'aa', 'would', 'want', 'charger']",
         "['work', 'advertis', 'bought', 'one', 'chargersth', 'instruct', 'say', 'light', 'stay', 'batteri', 'chargestru', 'instruct', 'say', 'light', 'turn', 'done', 'also', 'true', 'hour', 'charg', 'light', 'stay', 'return', 'think', 'bad', 'unitth', 'new', 'one', 'thing', 'kept', 'sinc', 'chargebut', 'light', 'useless', 'sinc', 'seem', 'alway', 'stay', 'backup', 'charger', 'manag', 'drain', 'aa', 'would', 'want', 'charger']",
         "['work', 'advertis', 'bought', 'one', 'chargersth', 'instruct', 'say', 'light', 'stay', 'batteri', 'chargestru', 'instruct', 'say', 'light', 'turn', 'done', 'also', 'true', 'hour', 'charg', 'light', 'stay', 'return', 'think', 'bad', 'unitth', 'new', 'one', 'thing', 'kept', 'sinc', 'chargebut', 'light', 'useless', 'sinc', 'seem', 'alway', 'stay', 'backup', 'charger', 'manag', 'drain', 'aa', 'would', 'want', 'charger']",
         "work advertised bought one chargersthe instruction say light stay battery chargestrue instruction say light turn done also true hour charging light stay returned thinking bad unitthe new one thing kept since chargebut light useless since seem always stay backup charger manage drain aa would want charger",
         "work advertised bought one chargersthe instruction say light stay battery chargestrue instruction say light turn done also true hour charging light stay returned thinking bad unitthe new one thing kept since chargebut light useless since seem always stay backup charger manage drain aa would want charger."
        ],
        [
         "27",
         "__label__1",
         "disappointed i read the reviewsmade my purchase and was very disappointed the charger is convenient by charging all four batteries at once but the charge only lasts a very short time i now have to go and find batteries that will give me longer life than the kodak nimh aa batteries",
         "['disappointed', 'i', 'read', 'the', 'reviewsmade', 'my', 'purchase', 'and', 'was', 'very', 'disappointed', 'the', 'charger', 'is', 'convenient', 'by', 'charging', 'all', 'four', 'batteries', 'at', 'once', 'but', 'the', 'charge', 'only', 'lasts', 'a', 'very', 'short', 'time', 'i', 'now', 'have', 'to', 'go', 'and', 'find', 'batteries', 'that', 'will', 'give', 'me', 'longer', 'life', 'than', 'the', 'kodak', 'nimh', 'aa', 'batteries']",
         "['disappointed', 'read', 'reviewsmade', 'purchase', 'disappointed', 'charger', 'convenient', 'charging', 'four', 'batteries', 'charge', 'lasts', 'short', 'time', 'go', 'find', 'batteries', 'give', 'longer', 'life', 'kodak', 'nimh', 'aa', 'batteries']",
         "['disappointed', 'read', 'reviewsmade', 'purchase', 'disappointed', 'charger', 'convenient', 'charging', 'four', 'battery', 'charge', 'last', 'short', 'time', 'go', 'find', 'battery', 'give', 'longer', 'life', 'kodak', 'nimh', 'aa', 'battery']",
         "['disappoint', 'read', 'reviewsmad', 'purchas', 'disappoint', 'charger', 'conveni', 'charg', 'four', 'batteri', 'charg', 'last', 'short', 'time', 'go', 'find', 'batteri', 'give', 'longer', 'life', 'kodak', 'nimh', 'aa', 'batteri']",
         "['disappoint', 'read', 'reviewsmad', 'purchas', 'disappoint', 'charger', 'conveni', 'charg', 'four', 'batteri', 'charg', 'last', 'short', 'time', 'go', 'find', 'batteri', 'give', 'longer', 'life', 'kodak', 'nimh', 'aa', 'batteri']",
         "disappointed read reviewsmade purchase disappointed charger convenient charging four battery charge last short time go find battery give longer life kodak nimh aa battery",
         "disappointed read reviewsmade purchase disappointed charger convenient charging four battery charge last short time go find battery give longer life kodak nimh aa battery."
        ],
        [
         "28",
         "__label__1",
         "oh dear i was excited to find a book ostensibly about muslim feminism but this volume did not live up to the expectationsone essay among other things describes the veil as potentially liberating it does not begin to explain how or whyanother on muslim women in cape town claims that muslim women there are separate but more than equal gee whiz what a disappointmenti had expected and hoped for at least one muslim feminist condemnation of gender apartheid but there is not a single one in the bookim surprised it did not have an essay extolling the virtues of female genital mutilationalyssa a lappen",
         "['oh', 'dear', 'i', 'was', 'excited', 'to', 'find', 'a', 'book', 'ostensibly', 'about', 'muslim', 'feminism', 'but', 'this', 'volume', 'did', 'not', 'live', 'up', 'to', 'the', 'expectationsone', 'essay', 'among', 'other', 'things', 'describes', 'the', 'veil', 'as', 'potentially', 'liberating', 'it', 'does', 'not', 'begin', 'to', 'explain', 'how', 'or', 'whyanother', 'on', 'muslim', 'women', 'in', 'cape', 'town', 'claims', 'that', 'muslim', 'women', 'there', 'are', 'separate', 'but', 'more', 'than', 'equal', 'gee', 'whiz', 'what', 'a', 'disappointmenti', 'had', 'expected', 'and', 'hoped', 'for', 'at', 'least', 'one', 'muslim', 'feminist', 'condemnation', 'of', 'gender', 'apartheid', 'but', 'there', 'is', 'not', 'a', 'single', 'one', 'in', 'the', 'bookim', 'surprised', 'it', 'did', 'not', 'have', 'an', 'essay', 'extolling', 'the', 'virtues', 'of', 'female', 'genital', 'mutilationalyssa', 'a', 'lappen']",
         "['oh', 'dear', 'excited', 'find', 'book', 'ostensibly', 'muslim', 'feminism', 'volume', 'live', 'expectationsone', 'essay', 'among', 'things', 'describes', 'veil', 'potentially', 'liberating', 'begin', 'explain', 'whyanother', 'muslim', 'women', 'cape', 'town', 'claims', 'muslim', 'women', 'separate', 'equal', 'gee', 'whiz', 'disappointmenti', 'expected', 'hoped', 'least', 'one', 'muslim', 'feminist', 'condemnation', 'gender', 'apartheid', 'single', 'one', 'bookim', 'surprised', 'essay', 'extolling', 'virtues', 'female', 'genital', 'mutilationalyssa', 'lappen']",
         "['oh', 'dear', 'excited', 'find', 'book', 'ostensibly', 'muslim', 'feminism', 'volume', 'live', 'expectationsone', 'essay', 'among', 'thing', 'describes', 'veil', 'potentially', 'liberating', 'begin', 'explain', 'whyanother', 'muslim', 'woman', 'cape', 'town', 'claim', 'muslim', 'woman', 'separate', 'equal', 'gee', 'whiz', 'disappointmenti', 'expected', 'hoped', 'least', 'one', 'muslim', 'feminist', 'condemnation', 'gender', 'apartheid', 'single', 'one', 'bookim', 'surprised', 'essay', 'extolling', 'virtue', 'female', 'genital', 'mutilationalyssa', 'lappen']",
         "['oh', 'dear', 'excit', 'find', 'book', 'ostens', 'muslim', 'femin', 'volum', 'live', 'expectationson', 'essay', 'among', 'thing', 'describ', 'veil', 'potenti', 'liber', 'begin', 'explain', 'whyanoth', 'muslim', 'women', 'cape', 'town', 'claim', 'muslim', 'women', 'separ', 'equal', 'gee', 'whiz', 'disappointmenti', 'expect', 'hope', 'least', 'one', 'muslim', 'feminist', 'condemn', 'gender', 'apartheid', 'singl', 'one', 'bookim', 'surpris', 'essay', 'extol', 'virtu', 'femal', 'genit', 'mutilationalyssa', 'lappen']",
         "['oh', 'dear', 'excit', 'find', 'book', 'ostens', 'muslim', 'femin', 'volum', 'live', 'expectationson', 'essay', 'among', 'thing', 'describ', 'veil', 'potenti', 'liber', 'begin', 'explain', 'whyanoth', 'muslim', 'women', 'cape', 'town', 'claim', 'muslim', 'women', 'separ', 'equal', 'gee', 'whiz', 'disappointmenti', 'expect', 'hope', 'least', 'one', 'muslim', 'feminist', 'condemn', 'gender', 'apartheid', 'singl', 'one', 'bookim', 'surpris', 'essay', 'extol', 'virtu', 'femal', 'genit', 'mutilationalyssa', 'lappen']",
         "oh dear excited find book ostensibly muslim feminism volume live expectationsone essay among thing describes veil potentially liberating begin explain whyanother muslim woman cape town claim muslim woman separate equal gee whiz disappointmenti expected hoped least one muslim feminist condemnation gender apartheid single one bookim surprised essay extolling virtue female genital mutilationalyssa lappen",
         "oh dear excited find book ostensibly muslim feminism volume live expectationsone essay among thing describes veil potentially liberating begin explain whyanother muslim woman cape town claim muslim woman separate equal gee whiz disappointmenti expected hoped least one muslim feminist condemnation gender apartheid single one bookim surprised essay extolling virtue female genital mutilationalyssa lappen."
        ],
        [
         "29",
         "__label__2",
         "based on the reviews here i bought one and i am glad i did this vcrdvd was an early christmas present to myself after deciding to join the rest of the world in dvdland but not wanting to let go of my vhs movies quite yet based on the reviews and price and because i own a jvc tv this was my choice i agree with the easy setup its a bit awkward to work the whole tvvhsdvd selection options but i think i have gotten the hang of ittwo comments its not intuitive and actually is pretty complicated too many buttons on the remote but that might please others who are more technicallyminded than me so i have had to rely heavily on the howto manual and setting the vcr timer is awkward  you cannot enter the start and end time but have to scroll unless i am missing somethingbut those are my only complaints this is a good product for your ",
         "['based', 'on', 'the', 'reviews', 'here', 'i', 'bought', 'one', 'and', 'i', 'am', 'glad', 'i', 'did', 'this', 'vcrdvd', 'was', 'an', 'early', 'christmas', 'present', 'to', 'myself', 'after', 'deciding', 'to', 'join', 'the', 'rest', 'of', 'the', 'world', 'in', 'dvdland', 'but', 'not', 'wanting', 'to', 'let', 'go', 'of', 'my', 'vhs', 'movies', 'quite', 'yet', 'based', 'on', 'the', 'reviews', 'and', 'price', 'and', 'because', 'i', 'own', 'a', 'jvc', 'tv', 'this', 'was', 'my', 'choice', 'i', 'agree', 'with', 'the', 'easy', 'setup', 'its', 'a', 'bit', 'awkward', 'to', 'work', 'the', 'whole', 'tvvhsdvd', 'selection', 'options', 'but', 'i', 'think', 'i', 'have', 'gotten', 'the', 'hang', 'of', 'ittwo', 'comments', 'its', 'not', 'intuitive', 'and', 'actually', 'is', 'pretty', 'complicated', 'too', 'many', 'buttons', 'on', 'the', 'remote', 'but', 'that', 'might', 'please', 'others', 'who', 'are', 'more', 'technicallyminded', 'than', 'me', 'so', 'i', 'have', 'had', 'to', 'rely', 'heavily', 'on', 'the', 'howto', 'manual', 'and', 'setting', 'the', 'vcr', 'timer', 'is', 'awkward', 'you', 'can', 'not', 'enter', 'the', 'start', 'and', 'end', 'time', 'but', 'have', 'to', 'scroll', 'unless', 'i', 'am', 'missing', 'somethingbut', 'those', 'are', 'my', 'only', 'complaints', 'this', 'is', 'a', 'good', 'product', 'for', 'your']",
         "['based', 'reviews', 'bought', 'one', 'glad', 'vcrdvd', 'early', 'christmas', 'present', 'deciding', 'join', 'rest', 'world', 'dvdland', 'wanting', 'let', 'go', 'vhs', 'movies', 'quite', 'yet', 'based', 'reviews', 'price', 'jvc', 'tv', 'choice', 'agree', 'easy', 'setup', 'bit', 'awkward', 'work', 'whole', 'tvvhsdvd', 'selection', 'options', 'think', 'gotten', 'hang', 'ittwo', 'comments', 'intuitive', 'actually', 'pretty', 'complicated', 'many', 'buttons', 'remote', 'might', 'please', 'others', 'technicallyminded', 'rely', 'heavily', 'howto', 'manual', 'setting', 'vcr', 'timer', 'awkward', 'enter', 'start', 'end', 'time', 'scroll', 'unless', 'missing', 'somethingbut', 'complaints', 'good', 'product']",
         "['based', 'review', 'bought', 'one', 'glad', 'vcrdvd', 'early', 'christmas', 'present', 'deciding', 'join', 'rest', 'world', 'dvdland', 'wanting', 'let', 'go', 'vhs', 'movie', 'quite', 'yet', 'based', 'review', 'price', 'jvc', 'tv', 'choice', 'agree', 'easy', 'setup', 'bit', 'awkward', 'work', 'whole', 'tvvhsdvd', 'selection', 'option', 'think', 'gotten', 'hang', 'ittwo', 'comment', 'intuitive', 'actually', 'pretty', 'complicated', 'many', 'button', 'remote', 'might', 'please', 'others', 'technicallyminded', 'rely', 'heavily', 'howto', 'manual', 'setting', 'vcr', 'timer', 'awkward', 'enter', 'start', 'end', 'time', 'scroll', 'unless', 'missing', 'somethingbut', 'complaint', 'good', 'product']",
         "['base', 'review', 'bought', 'one', 'glad', 'vcrdvd', 'earli', 'christma', 'present', 'decid', 'join', 'rest', 'world', 'dvdland', 'want', 'let', 'go', 'vh', 'movi', 'quit', 'yet', 'base', 'review', 'price', 'jvc', 'tv', 'choic', 'agre', 'easi', 'setup', 'bit', 'awkward', 'work', 'whole', 'tvvhsdvd', 'select', 'option', 'think', 'gotten', 'hang', 'ittwo', 'comment', 'intuit', 'actual', 'pretti', 'complic', 'mani', 'button', 'remot', 'might', 'pleas', 'other', 'technicallymind', 'reli', 'heavili', 'howto', 'manual', 'set', 'vcr', 'timer', 'awkward', 'enter', 'start', 'end', 'time', 'scroll', 'unless', 'miss', 'somethingbut', 'complaint', 'good', 'product']",
         "['base', 'review', 'bought', 'one', 'glad', 'vcrdvd', 'earli', 'christma', 'present', 'decid', 'join', 'rest', 'world', 'dvdland', 'want', 'let', 'go', 'vhs', 'movi', 'quit', 'yet', 'base', 'review', 'price', 'jvc', 'tv', 'choic', 'agre', 'easi', 'setup', 'bit', 'awkward', 'work', 'whole', 'tvvhsdvd', 'select', 'option', 'think', 'gotten', 'hang', 'ittwo', 'comment', 'intuit', 'actual', 'pretti', 'complic', 'mani', 'button', 'remot', 'might', 'pleas', 'other', 'technicallymind', 'reli', 'heavili', 'howto', 'manual', 'set', 'vcr', 'timer', 'awkward', 'enter', 'start', 'end', 'time', 'scroll', 'unless', 'miss', 'somethingbut', 'complaint', 'good', 'product']",
         "based review bought one glad vcrdvd early christmas present deciding join rest world dvdland wanting let go vhs movie quite yet based review price jvc tv choice agree easy setup bit awkward work whole tvvhsdvd selection option think gotten hang ittwo comment intuitive actually pretty complicated many button remote might please others technicallyminded rely heavily howto manual setting vcr timer awkward enter start end time scroll unless missing somethingbut complaint good product",
         "based review bought one glad vcrdvd early christmas present deciding join rest world dvdland wanting let go vhs movie quite yet based review price jvc tv choice agree easy setup bit awkward work whole tvvhsdvd selection option think gotten hang ittwo comment intuitive actually pretty complicated many button remote might please others technicallyminded rely heavily howto manual setting vcr timer awkward enter start end time scroll unless missing somethingbut complaint good product."
        ],
        [
         "30",
         "__label__1",
         "incorrect disc i am a big jvc fan but i do not like this model i was suspiscious when i saw several units in the return section of the store i bought one anyway new and must say i am not happy the unit sends out clicks to the receiver once in a while the transition between scenes is not always smoothlike a little pause and while it is still fairly new i cannot get any dvdcd or even a dvd headcleaner to work all i get is a incorrect disc message",
         "['incorrect', 'disc', 'i', 'am', 'a', 'big', 'jvc', 'fan', 'but', 'i', 'do', 'not', 'like', 'this', 'model', 'i', 'was', 'suspiscious', 'when', 'i', 'saw', 'several', 'units', 'in', 'the', 'return', 'section', 'of', 'the', 'store', 'i', 'bought', 'one', 'anyway', 'new', 'and', 'must', 'say', 'i', 'am', 'not', 'happy', 'the', 'unit', 'sends', 'out', 'clicks', 'to', 'the', 'receiver', 'once', 'in', 'a', 'while', 'the', 'transition', 'between', 'scenes', 'is', 'not', 'always', 'smoothlike', 'a', 'little', 'pause', 'and', 'while', 'it', 'is', 'still', 'fairly', 'new', 'i', 'can', 'not', 'get', 'any', 'dvdcd', 'or', 'even', 'a', 'dvd', 'headcleaner', 'to', 'work', 'all', 'i', 'get', 'is', 'a', 'incorrect', 'disc', 'message']",
         "['incorrect', 'disc', 'big', 'jvc', 'fan', 'like', 'model', 'suspiscious', 'saw', 'several', 'units', 'return', 'section', 'store', 'bought', 'one', 'anyway', 'new', 'must', 'say', 'happy', 'unit', 'sends', 'clicks', 'receiver', 'transition', 'scenes', 'always', 'smoothlike', 'little', 'pause', 'still', 'fairly', 'new', 'get', 'dvdcd', 'even', 'dvd', 'headcleaner', 'work', 'get', 'incorrect', 'disc', 'message']",
         "['incorrect', 'disc', 'big', 'jvc', 'fan', 'like', 'model', 'suspiscious', 'saw', 'several', 'unit', 'return', 'section', 'store', 'bought', 'one', 'anyway', 'new', 'must', 'say', 'happy', 'unit', 'sends', 'click', 'receiver', 'transition', 'scene', 'always', 'smoothlike', 'little', 'pause', 'still', 'fairly', 'new', 'get', 'dvdcd', 'even', 'dvd', 'headcleaner', 'work', 'get', 'incorrect', 'disc', 'message']",
         "['incorrect', 'disc', 'big', 'jvc', 'fan', 'like', 'model', 'suspisci', 'saw', 'sever', 'unit', 'return', 'section', 'store', 'bought', 'one', 'anyway', 'new', 'must', 'say', 'happi', 'unit', 'send', 'click', 'receiv', 'transit', 'scene', 'alway', 'smoothlik', 'littl', 'paus', 'still', 'fairli', 'new', 'get', 'dvdcd', 'even', 'dvd', 'headclean', 'work', 'get', 'incorrect', 'disc', 'messag']",
         "['incorrect', 'disc', 'big', 'jvc', 'fan', 'like', 'model', 'suspisci', 'saw', 'sever', 'unit', 'return', 'section', 'store', 'bought', 'one', 'anyway', 'new', 'must', 'say', 'happi', 'unit', 'send', 'click', 'receiv', 'transit', 'scene', 'alway', 'smoothlik', 'littl', 'paus', 'still', 'fair', 'new', 'get', 'dvdcd', 'even', 'dvd', 'headclean', 'work', 'get', 'incorrect', 'disc', 'messag']",
         "incorrect disc big jvc fan like model suspiscious saw several unit return section store bought one anyway new must say happy unit sends click receiver transition scene always smoothlike little pause still fairly new get dvdcd even dvd headcleaner work get incorrect disc message",
         "incorrect disc big jvc fan like model suspiscious saw several unit return section store bought one anyway new must say happy unit sends click receiver transition scene always smoothlike little pause still fairly new get dvdcd even dvd headcleaner work get incorrect disc message."
        ],
        [
         "31",
         "__label__2",
         "happy with itbut i am a jvc nuti have  jvc televisions one vcr one bookshelf audio system and car audio system so when it came time to move the vcr player to the boys room and get another one for the old man i knew what make it was going to be i decided on the combo player because i do not think vhs is going to be around much longer i like my combo player except for  thingsno cable box compatability on the remote control no seperate audio video inputs only input for coax cable from my cable box so all of the cable programming is in monowife cannot tell the difference in the sound so if she is happy then ill just live with it vcr and dvd look and sound great",
         "['happy', 'with', 'itbut', 'i', 'am', 'a', 'jvc', 'nuti', 'have', 'jvc', 'televisions', 'one', 'vcr', 'one', 'bookshelf', 'audio', 'system', 'and', 'car', 'audio', 'system', 'so', 'when', 'it', 'came', 'time', 'to', 'move', 'the', 'vcr', 'player', 'to', 'the', 'boys', 'room', 'and', 'get', 'another', 'one', 'for', 'the', 'old', 'man', 'i', 'knew', 'what', 'make', 'it', 'was', 'going', 'to', 'be', 'i', 'decided', 'on', 'the', 'combo', 'player', 'because', 'i', 'do', 'not', 'think', 'vhs', 'is', 'going', 'to', 'be', 'around', 'much', 'longer', 'i', 'like', 'my', 'combo', 'player', 'except', 'for', 'thingsno', 'cable', 'box', 'compatability', 'on', 'the', 'remote', 'control', 'no', 'seperate', 'audio', 'video', 'inputs', 'only', 'input', 'for', 'coax', 'cable', 'from', 'my', 'cable', 'box', 'so', 'all', 'of', 'the', 'cable', 'programming', 'is', 'in', 'monowife', 'can', 'not', 'tell', 'the', 'difference', 'in', 'the', 'sound', 'so', 'if', 'she', 'is', 'happy', 'then', 'ill', 'just', 'live', 'with', 'it', 'vcr', 'and', 'dvd', 'look', 'and', 'sound', 'great']",
         "['happy', 'itbut', 'jvc', 'nuti', 'jvc', 'televisions', 'one', 'vcr', 'one', 'bookshelf', 'audio', 'system', 'car', 'audio', 'system', 'came', 'time', 'move', 'vcr', 'player', 'boys', 'room', 'get', 'another', 'one', 'old', 'man', 'knew', 'make', 'going', 'decided', 'combo', 'player', 'think', 'vhs', 'going', 'around', 'much', 'longer', 'like', 'combo', 'player', 'except', 'thingsno', 'cable', 'box', 'compatability', 'remote', 'control', 'seperate', 'audio', 'video', 'inputs', 'input', 'coax', 'cable', 'cable', 'box', 'cable', 'programming', 'monowife', 'tell', 'difference', 'sound', 'happy', 'ill', 'live', 'vcr', 'dvd', 'look', 'sound', 'great']",
         "['happy', 'itbut', 'jvc', 'nuti', 'jvc', 'television', 'one', 'vcr', 'one', 'bookshelf', 'audio', 'system', 'car', 'audio', 'system', 'came', 'time', 'move', 'vcr', 'player', 'boy', 'room', 'get', 'another', 'one', 'old', 'man', 'knew', 'make', 'going', 'decided', 'combo', 'player', 'think', 'vhs', 'going', 'around', 'much', 'longer', 'like', 'combo', 'player', 'except', 'thingsno', 'cable', 'box', 'compatability', 'remote', 'control', 'seperate', 'audio', 'video', 'input', 'input', 'coax', 'cable', 'cable', 'box', 'cable', 'programming', 'monowife', 'tell', 'difference', 'sound', 'happy', 'ill', 'live', 'vcr', 'dvd', 'look', 'sound', 'great']",
         "['happi', 'itbut', 'jvc', 'nuti', 'jvc', 'televis', 'one', 'vcr', 'one', 'bookshelf', 'audio', 'system', 'car', 'audio', 'system', 'came', 'time', 'move', 'vcr', 'player', 'boy', 'room', 'get', 'anoth', 'one', 'old', 'man', 'knew', 'make', 'go', 'decid', 'combo', 'player', 'think', 'vh', 'go', 'around', 'much', 'longer', 'like', 'combo', 'player', 'except', 'thingsno', 'cabl', 'box', 'compat', 'remot', 'control', 'seper', 'audio', 'video', 'input', 'input', 'coax', 'cabl', 'cabl', 'box', 'cabl', 'program', 'monowif', 'tell', 'differ', 'sound', 'happi', 'ill', 'live', 'vcr', 'dvd', 'look', 'sound', 'great']",
         "['happi', 'itbut', 'jvc', 'nuti', 'jvc', 'televis', 'one', 'vcr', 'one', 'bookshelf', 'audio', 'system', 'car', 'audio', 'system', 'came', 'time', 'move', 'vcr', 'player', 'boy', 'room', 'get', 'anoth', 'one', 'old', 'man', 'knew', 'make', 'go', 'decid', 'combo', 'player', 'think', 'vhs', 'go', 'around', 'much', 'longer', 'like', 'combo', 'player', 'except', 'thingsno', 'cabl', 'box', 'compat', 'remot', 'control', 'seper', 'audio', 'video', 'input', 'input', 'coax', 'cabl', 'cabl', 'box', 'cabl', 'program', 'monowif', 'tell', 'differ', 'sound', 'happi', 'ill', 'live', 'vcr', 'dvd', 'look', 'sound', 'great']",
         "happy itbut jvc nuti jvc television one vcr one bookshelf audio system car audio system came time move vcr player boy room get another one old man knew make going decided combo player think vhs going around much longer like combo player except thingsno cable box compatability remote control seperate audio video input input coax cable cable box cable programming monowife tell difference sound happy ill live vcr dvd look sound great",
         "happy itbut jvc nuti jvc television one vcr one bookshelf audio system car audio system came time move vcr player boy room get another one old man knew make going decided combo player think vhs going around much longer like combo player except thingsno cable box compatability remote control seperate audio video input input coax cable cable box cable programming monowife tell difference sound happy ill live vcr dvd look sound great."
        ],
        [
         "32",
         "__label__1",
         "should be titled hollywood debacle the plot is so ridiculous i have to wonder if they even read the script before making this film the mountain lion breaks out of his trailer  and the cars behind do not notice the mountain lion is captured  and put in a jail cell get real utterly completely stupid",
         "['should', 'be', 'titled', 'hollywood', 'debacle', 'the', 'plot', 'is', 'so', 'ridiculous', 'i', 'have', 'to', 'wonder', 'if', 'they', 'even', 'read', 'the', 'script', 'before', 'making', 'this', 'film', 'the', 'mountain', 'lion', 'breaks', 'out', 'of', 'his', 'trailer', 'and', 'the', 'cars', 'behind', 'do', 'not', 'notice', 'the', 'mountain', 'lion', 'is', 'captured', 'and', 'put', 'in', 'a', 'jail', 'cell', 'get', 'real', 'utterly', 'completely', 'stupid']",
         "['titled', 'hollywood', 'debacle', 'plot', 'ridiculous', 'wonder', 'even', 'read', 'script', 'making', 'film', 'mountain', 'lion', 'breaks', 'trailer', 'cars', 'behind', 'notice', 'mountain', 'lion', 'captured', 'put', 'jail', 'cell', 'get', 'real', 'utterly', 'completely', 'stupid']",
         "['titled', 'hollywood', 'debacle', 'plot', 'ridiculous', 'wonder', 'even', 'read', 'script', 'making', 'film', 'mountain', 'lion', 'break', 'trailer', 'car', 'behind', 'notice', 'mountain', 'lion', 'captured', 'put', 'jail', 'cell', 'get', 'real', 'utterly', 'completely', 'stupid']",
         "['titl', 'hollywood', 'debacl', 'plot', 'ridicul', 'wonder', 'even', 'read', 'script', 'make', 'film', 'mountain', 'lion', 'break', 'trailer', 'car', 'behind', 'notic', 'mountain', 'lion', 'captur', 'put', 'jail', 'cell', 'get', 'real', 'utterli', 'complet', 'stupid']",
         "['titl', 'hollywood', 'debacl', 'plot', 'ridicul', 'wonder', 'even', 'read', 'script', 'make', 'film', 'mountain', 'lion', 'break', 'trailer', 'car', 'behind', 'notic', 'mountain', 'lion', 'captur', 'put', 'jail', 'cell', 'get', 'real', 'utter', 'complet', 'stupid']",
         "titled hollywood debacle plot ridiculous wonder even read script making film mountain lion break trailer car behind notice mountain lion captured put jail cell get real utterly completely stupid",
         "titled hollywood debacle plot ridiculous wonder even read script making film mountain lion break trailer car behind notice mountain lion captured put jail cell get real utterly completely stupid."
        ],
        [
         "33",
         "__label__2",
         "is this great tv you bet it is hotel babylon is not just good tvits great tv the show features some incredible acting from tamzin outhwaite formerly of eastenders a bbc soap and max beesley from the illfated movie glitter starring mariah carey the show could make for a great drama series but i felt that it is a mix of a drama comedy and soap opera all mixed into a great bbc show the show aired on bbc america for a while but did not get around to seeing it i can now say that i got the dvd set and all the episodes are great the season finale was an interesting to watchthe show reminds me of hotel which aired on abc from  to  the reasonhotel was set at a fictional san francisco hotel as hotel babylon was set at a luxury fivestar hotel in englandi recommend this dvd to anyone who is willing to watch a great show from the bbc",
         "['is', 'this', 'great', 'tv', 'you', 'bet', 'it', 'is', 'hotel', 'babylon', 'is', 'not', 'just', 'good', 'tvits', 'great', 'tv', 'the', 'show', 'features', 'some', 'incredible', 'acting', 'from', 'tamzin', 'outhwaite', 'formerly', 'of', 'eastenders', 'a', 'bbc', 'soap', 'and', 'max', 'beesley', 'from', 'the', 'illfated', 'movie', 'glitter', 'starring', 'mariah', 'carey', 'the', 'show', 'could', 'make', 'for', 'a', 'great', 'drama', 'series', 'but', 'i', 'felt', 'that', 'it', 'is', 'a', 'mix', 'of', 'a', 'drama', 'comedy', 'and', 'soap', 'opera', 'all', 'mixed', 'into', 'a', 'great', 'bbc', 'show', 'the', 'show', 'aired', 'on', 'bbc', 'america', 'for', 'a', 'while', 'but', 'did', 'not', 'get', 'around', 'to', 'seeing', 'it', 'i', 'can', 'now', 'say', 'that', 'i', 'got', 'the', 'dvd', 'set', 'and', 'all', 'the', 'episodes', 'are', 'great', 'the', 'season', 'finale', 'was', 'an', 'interesting', 'to', 'watchthe', 'show', 'reminds', 'me', 'of', 'hotel', 'which', 'aired', 'on', 'abc', 'from', 'to', 'the', 'reasonhotel', 'was', 'set', 'at', 'a', 'fictional', 'san', 'francisco', 'hotel', 'as', 'hotel', 'babylon', 'was', 'set', 'at', 'a', 'luxury', 'fivestar', 'hotel', 'in', 'englandi', 'recommend', 'this', 'dvd', 'to', 'anyone', 'who', 'is', 'willing', 'to', 'watch', 'a', 'great', 'show', 'from', 'the', 'bbc']",
         "['great', 'tv', 'bet', 'hotel', 'babylon', 'good', 'tvits', 'great', 'tv', 'show', 'features', 'incredible', 'acting', 'tamzin', 'outhwaite', 'formerly', 'eastenders', 'bbc', 'soap', 'max', 'beesley', 'illfated', 'movie', 'glitter', 'starring', 'mariah', 'carey', 'show', 'could', 'make', 'great', 'drama', 'series', 'felt', 'mix', 'drama', 'comedy', 'soap', 'opera', 'mixed', 'great', 'bbc', 'show', 'show', 'aired', 'bbc', 'america', 'get', 'around', 'seeing', 'say', 'got', 'dvd', 'set', 'episodes', 'great', 'season', 'finale', 'interesting', 'watchthe', 'show', 'reminds', 'hotel', 'aired', 'abc', 'reasonhotel', 'set', 'fictional', 'san', 'francisco', 'hotel', 'hotel', 'babylon', 'set', 'luxury', 'fivestar', 'hotel', 'englandi', 'recommend', 'dvd', 'anyone', 'willing', 'watch', 'great', 'show', 'bbc']",
         "['great', 'tv', 'bet', 'hotel', 'babylon', 'good', 'tvits', 'great', 'tv', 'show', 'feature', 'incredible', 'acting', 'tamzin', 'outhwaite', 'formerly', 'eastenders', 'bbc', 'soap', 'max', 'beesley', 'illfated', 'movie', 'glitter', 'starring', 'mariah', 'carey', 'show', 'could', 'make', 'great', 'drama', 'series', 'felt', 'mix', 'drama', 'comedy', 'soap', 'opera', 'mixed', 'great', 'bbc', 'show', 'show', 'aired', 'bbc', 'america', 'get', 'around', 'seeing', 'say', 'got', 'dvd', 'set', 'episode', 'great', 'season', 'finale', 'interesting', 'watchthe', 'show', 'reminds', 'hotel', 'aired', 'abc', 'reasonhotel', 'set', 'fictional', 'san', 'francisco', 'hotel', 'hotel', 'babylon', 'set', 'luxury', 'fivestar', 'hotel', 'englandi', 'recommend', 'dvd', 'anyone', 'willing', 'watch', 'great', 'show', 'bbc']",
         "['great', 'tv', 'bet', 'hotel', 'babylon', 'good', 'tvit', 'great', 'tv', 'show', 'featur', 'incred', 'act', 'tamzin', 'outhwait', 'formerli', 'eastend', 'bbc', 'soap', 'max', 'beesley', 'illfat', 'movi', 'glitter', 'star', 'mariah', 'carey', 'show', 'could', 'make', 'great', 'drama', 'seri', 'felt', 'mix', 'drama', 'comedi', 'soap', 'opera', 'mix', 'great', 'bbc', 'show', 'show', 'air', 'bbc', 'america', 'get', 'around', 'see', 'say', 'got', 'dvd', 'set', 'episod', 'great', 'season', 'final', 'interest', 'watchth', 'show', 'remind', 'hotel', 'air', 'abc', 'reasonhotel', 'set', 'fiction', 'san', 'francisco', 'hotel', 'hotel', 'babylon', 'set', 'luxuri', 'fivestar', 'hotel', 'englandi', 'recommend', 'dvd', 'anyon', 'will', 'watch', 'great', 'show', 'bbc']",
         "['great', 'tv', 'bet', 'hotel', 'babylon', 'good', 'tvit', 'great', 'tv', 'show', 'featur', 'incred', 'act', 'tamzin', 'outhwait', 'former', 'eastend', 'bbc', 'soap', 'max', 'beesley', 'illfat', 'movi', 'glitter', 'star', 'mariah', 'carey', 'show', 'could', 'make', 'great', 'drama', 'seri', 'felt', 'mix', 'drama', 'comedi', 'soap', 'opera', 'mix', 'great', 'bbc', 'show', 'show', 'air', 'bbc', 'america', 'get', 'around', 'see', 'say', 'got', 'dvd', 'set', 'episod', 'great', 'season', 'final', 'interest', 'watchth', 'show', 'remind', 'hotel', 'air', 'abc', 'reasonhotel', 'set', 'fiction', 'san', 'francisco', 'hotel', 'hotel', 'babylon', 'set', 'luxuri', 'fivestar', 'hotel', 'englandi', 'recommend', 'dvd', 'anyon', 'will', 'watch', 'great', 'show', 'bbc']",
         "great tv bet hotel babylon good tvits great tv show feature incredible acting tamzin outhwaite formerly eastenders bbc soap max beesley illfated movie glitter starring mariah carey show could make great drama series felt mix drama comedy soap opera mixed great bbc show show aired bbc america get around seeing say got dvd set episode great season finale interesting watchthe show reminds hotel aired abc reasonhotel set fictional san francisco hotel hotel babylon set luxury fivestar hotel englandi recommend dvd anyone willing watch great show bbc",
         "great tv bet hotel babylon good tvits great tv show feature incredible acting tamzin outhwaite formerly eastenders bbc soap max beesley illfated movie glitter starring mariah carey show could make great drama series felt mix drama comedy soap opera mixed great bbc show show aired bbc america get around seeing say got dvd set episode great season finale interesting watchthe show reminds hotel aired abc reasonhotel set fictional san francisco hotel hotel babylon set luxury fivestar hotel englandi recommend dvd anyone willing watch great show bbc."
        ],
        [
         "34",
         "__label__1",
         "nothing you do not already know if you have even casually looked into applying to law school have already read everything there is in this book do not waste your money seriously",
         "['nothing', 'you', 'do', 'not', 'already', 'know', 'if', 'you', 'have', 'even', 'casually', 'looked', 'into', 'applying', 'to', 'law', 'school', 'have', 'already', 'read', 'everything', 'there', 'is', 'in', 'this', 'book', 'do', 'not', 'waste', 'your', 'money', 'seriously']",
         "['nothing', 'already', 'know', 'even', 'casually', 'looked', 'applying', 'law', 'school', 'already', 'read', 'everything', 'book', 'waste', 'money', 'seriously']",
         "['nothing', 'already', 'know', 'even', 'casually', 'looked', 'applying', 'law', 'school', 'already', 'read', 'everything', 'book', 'waste', 'money', 'seriously']",
         "['noth', 'alreadi', 'know', 'even', 'casual', 'look', 'appli', 'law', 'school', 'alreadi', 'read', 'everyth', 'book', 'wast', 'money', 'serious']",
         "['noth', 'alreadi', 'know', 'even', 'casual', 'look', 'appli', 'law', 'school', 'alreadi', 'read', 'everyth', 'book', 'wast', 'money', 'serious']",
         "nothing already know even casually looked applying law school already read everything book waste money seriously",
         "nothing already know even casually looked applying law school already read everything book waste money seriously."
        ],
        [
         "35",
         "__label__1",
         "unfortunately it was not entertaining in the least bit when i first ordered the cd i figured it was going to be a hip cool daddy vibe cd however much to my dismay it sounds like a fourth grade music class the main jist of the cd is that there is a xylaphone playing over peoples voices trying to replicate happening party i believe if i played this cd at a party anywhere in my neighborhood i would get laughed off the beach growing up a surfer in san diego i would not recommend this cd to any of my southern california brothers honestly when i played it i kind of of felt i was in a bad b movie the absolutle epitimy of the cd is the last vibe surf cha cha surfers do not cha",
         "['unfortunately', 'it', 'was', 'not', 'entertaining', 'in', 'the', 'least', 'bit', 'when', 'i', 'first', 'ordered', 'the', 'cd', 'i', 'figured', 'it', 'was', 'going', 'to', 'be', 'a', 'hip', 'cool', 'daddy', 'vibe', 'cd', 'however', 'much', 'to', 'my', 'dismay', 'it', 'sounds', 'like', 'a', 'fourth', 'grade', 'music', 'class', 'the', 'main', 'jist', 'of', 'the', 'cd', 'is', 'that', 'there', 'is', 'a', 'xylaphone', 'playing', 'over', 'peoples', 'voices', 'trying', 'to', 'replicate', 'happening', 'party', 'i', 'believe', 'if', 'i', 'played', 'this', 'cd', 'at', 'a', 'party', 'anywhere', 'in', 'my', 'neighborhood', 'i', 'would', 'get', 'laughed', 'off', 'the', 'beach', 'growing', 'up', 'a', 'surfer', 'in', 'san', 'diego', 'i', 'would', 'not', 'recommend', 'this', 'cd', 'to', 'any', 'of', 'my', 'southern', 'california', 'brothers', 'honestly', 'when', 'i', 'played', 'it', 'i', 'kind', 'of', 'of', 'felt', 'i', 'was', 'in', 'a', 'bad', 'b', 'movie', 'the', 'absolutle', 'epitimy', 'of', 'the', 'cd', 'is', 'the', 'last', 'vibe', 'surf', 'cha', 'cha', 'surfers', 'do', 'not', 'cha']",
         "['unfortunately', 'entertaining', 'least', 'bit', 'first', 'ordered', 'cd', 'figured', 'going', 'hip', 'cool', 'daddy', 'vibe', 'cd', 'however', 'much', 'dismay', 'sounds', 'like', 'fourth', 'grade', 'music', 'class', 'main', 'jist', 'cd', 'xylaphone', 'playing', 'peoples', 'voices', 'trying', 'replicate', 'happening', 'party', 'believe', 'played', 'cd', 'party', 'anywhere', 'neighborhood', 'would', 'get', 'laughed', 'beach', 'growing', 'surfer', 'san', 'diego', 'would', 'recommend', 'cd', 'southern', 'california', 'brothers', 'honestly', 'played', 'kind', 'felt', 'bad', 'b', 'movie', 'absolutle', 'epitimy', 'cd', 'last', 'vibe', 'surf', 'cha', 'cha', 'surfers', 'cha']",
         "['unfortunately', 'entertaining', 'least', 'bit', 'first', 'ordered', 'cd', 'figured', 'going', 'hip', 'cool', 'daddy', 'vibe', 'cd', 'however', 'much', 'dismay', 'sound', 'like', 'fourth', 'grade', 'music', 'class', 'main', 'jist', 'cd', 'xylaphone', 'playing', 'people', 'voice', 'trying', 'replicate', 'happening', 'party', 'believe', 'played', 'cd', 'party', 'anywhere', 'neighborhood', 'would', 'get', 'laughed', 'beach', 'growing', 'surfer', 'san', 'diego', 'would', 'recommend', 'cd', 'southern', 'california', 'brother', 'honestly', 'played', 'kind', 'felt', 'bad', 'b', 'movie', 'absolutle', 'epitimy', 'cd', 'last', 'vibe', 'surf', 'cha', 'cha', 'surfer', 'cha']",
         "['unfortun', 'entertain', 'least', 'bit', 'first', 'order', 'cd', 'figur', 'go', 'hip', 'cool', 'daddi', 'vibe', 'cd', 'howev', 'much', 'dismay', 'sound', 'like', 'fourth', 'grade', 'music', 'class', 'main', 'jist', 'cd', 'xylaphon', 'play', 'peopl', 'voic', 'tri', 'replic', 'happen', 'parti', 'believ', 'play', 'cd', 'parti', 'anywher', 'neighborhood', 'would', 'get', 'laugh', 'beach', 'grow', 'surfer', 'san', 'diego', 'would', 'recommend', 'cd', 'southern', 'california', 'brother', 'honestli', 'play', 'kind', 'felt', 'bad', 'b', 'movi', 'absolutl', 'epitimi', 'cd', 'last', 'vibe', 'surf', 'cha', 'cha', 'surfer', 'cha']",
         "['unfortun', 'entertain', 'least', 'bit', 'first', 'order', 'cd', 'figur', 'go', 'hip', 'cool', 'daddi', 'vibe', 'cd', 'howev', 'much', 'dismay', 'sound', 'like', 'fourth', 'grade', 'music', 'class', 'main', 'jist', 'cd', 'xylaphon', 'play', 'peopl', 'voic', 'tri', 'replic', 'happen', 'parti', 'believ', 'play', 'cd', 'parti', 'anywher', 'neighborhood', 'would', 'get', 'laugh', 'beach', 'grow', 'surfer', 'san', 'diego', 'would', 'recommend', 'cd', 'southern', 'california', 'brother', 'honest', 'play', 'kind', 'felt', 'bad', 'b', 'movi', 'absolutl', 'epitimi', 'cd', 'last', 'vibe', 'surf', 'cha', 'cha', 'surfer', 'cha']",
         "unfortunately entertaining least bit first ordered cd figured going hip cool daddy vibe cd however much dismay sound like fourth grade music class main jist cd xylaphone playing people voice trying replicate happening party believe played cd party anywhere neighborhood would get laughed beach growing surfer san diego would recommend cd southern california brother honestly played kind felt bad b movie absolutle epitimy cd last vibe surf cha cha surfer cha",
         "unfortunately entertaining least bit first ordered cd figured going hip cool daddy vibe cd however much dismay sound like fourth grade music class main jist cd xylaphone playing people voice trying replicate happening party believe played cd party anywhere neighborhood would get laughed beach growing surfer san diego would recommend cd southern california brother honestly played kind felt bad b movie absolutle epitimy cd last vibe surf cha cha surfer cha."
        ],
        [
         "36",
         "__label__2",
         "rochelle explains it all for you wondering what the hell has happened to the moral aspect of modern american culture  this book is a lucid well argued explanation of the simple fact that we have become so totally focused on our individual rights that we have completely ignored and even mocked our personal and public responsibilities the final response and indictment of robert ringers best seller looking out for  this is a great time for anyone who is disgusted with the boorish state of american media politics and discourse in general to clear their heads for the substantial challenges that lie before us not only as americans but as human beings a great book",
         "['rochelle', 'explains', 'it', 'all', 'for', 'you', 'wondering', 'what', 'the', 'hell', 'has', 'happened', 'to', 'the', 'moral', 'aspect', 'of', 'modern', 'american', 'culture', 'this', 'book', 'is', 'a', 'lucid', 'well', 'argued', 'explanation', 'of', 'the', 'simple', 'fact', 'that', 'we', 'have', 'become', 'so', 'totally', 'focused', 'on', 'our', 'individual', 'rights', 'that', 'we', 'have', 'completely', 'ignored', 'and', 'even', 'mocked', 'our', 'personal', 'and', 'public', 'responsibilities', 'the', 'final', 'response', 'and', 'indictment', 'of', 'robert', 'ringers', 'best', 'seller', 'looking', 'out', 'for', 'this', 'is', 'a', 'great', 'time', 'for', 'anyone', 'who', 'is', 'disgusted', 'with', 'the', 'boorish', 'state', 'of', 'american', 'media', 'politics', 'and', 'discourse', 'in', 'general', 'to', 'clear', 'their', 'heads', 'for', 'the', 'substantial', 'challenges', 'that', 'lie', 'before', 'us', 'not', 'only', 'as', 'americans', 'but', 'as', 'human', 'beings', 'a', 'great', 'book']",
         "['rochelle', 'explains', 'wondering', 'hell', 'happened', 'moral', 'aspect', 'modern', 'american', 'culture', 'book', 'lucid', 'well', 'argued', 'explanation', 'simple', 'fact', 'become', 'totally', 'focused', 'individual', 'rights', 'completely', 'ignored', 'even', 'mocked', 'personal', 'public', 'responsibilities', 'final', 'response', 'indictment', 'robert', 'ringers', 'best', 'seller', 'looking', 'great', 'time', 'anyone', 'disgusted', 'boorish', 'state', 'american', 'media', 'politics', 'discourse', 'general', 'clear', 'heads', 'substantial', 'challenges', 'lie', 'us', 'americans', 'human', 'beings', 'great', 'book']",
         "['rochelle', 'explains', 'wondering', 'hell', 'happened', 'moral', 'aspect', 'modern', 'american', 'culture', 'book', 'lucid', 'well', 'argued', 'explanation', 'simple', 'fact', 'become', 'totally', 'focused', 'individual', 'right', 'completely', 'ignored', 'even', 'mocked', 'personal', 'public', 'responsibility', 'final', 'response', 'indictment', 'robert', 'ringer', 'best', 'seller', 'looking', 'great', 'time', 'anyone', 'disgusted', 'boorish', 'state', 'american', 'medium', 'politics', 'discourse', 'general', 'clear', 'head', 'substantial', 'challenge', 'lie', 'u', 'american', 'human', 'being', 'great', 'book']",
         "['rochel', 'explain', 'wonder', 'hell', 'happen', 'moral', 'aspect', 'modern', 'american', 'cultur', 'book', 'lucid', 'well', 'argu', 'explan', 'simpl', 'fact', 'becom', 'total', 'focus', 'individu', 'right', 'complet', 'ignor', 'even', 'mock', 'person', 'public', 'respons', 'final', 'respons', 'indict', 'robert', 'ringer', 'best', 'seller', 'look', 'great', 'time', 'anyon', 'disgust', 'boorish', 'state', 'american', 'media', 'polit', 'discours', 'gener', 'clear', 'head', 'substanti', 'challeng', 'lie', 'us', 'american', 'human', 'be', 'great', 'book']",
         "['rochell', 'explain', 'wonder', 'hell', 'happen', 'moral', 'aspect', 'modern', 'american', 'cultur', 'book', 'lucid', 'well', 'argu', 'explan', 'simpl', 'fact', 'becom', 'total', 'focus', 'individu', 'right', 'complet', 'ignor', 'even', 'mock', 'person', 'public', 'respons', 'final', 'respons', 'indict', 'robert', 'ringer', 'best', 'seller', 'look', 'great', 'time', 'anyon', 'disgust', 'boorish', 'state', 'american', 'media', 'polit', 'discours', 'general', 'clear', 'head', 'substanti', 'challeng', 'lie', 'us', 'american', 'human', 'be', 'great', 'book']",
         "rochelle explains wondering hell happened moral aspect modern american culture book lucid well argued explanation simple fact become totally focused individual right completely ignored even mocked personal public responsibility final response indictment robert ringer best seller looking great time anyone disgusted boorish state american medium politics discourse general clear head substantial challenge lie u american human being great book",
         "rochelle explains wondering hell happened moral aspect modern american culture book lucid well argued explanation simple fact become totally focused individual right completely ignored even mocked personal public responsibility final response indictment robert ringer best seller looking great time anyone disgusted boorish state american medium politics discourse general clear head substantial challenge lie u american human being great book."
        ],
        [
         "37",
         "__label__2",
         "more great playing larrys work for the muse label in the late s and early s found him exploring the rich catalog of jazz standards that he probably grew up playing surrounding himself with the best musicians around larry sounds relaxed focused and totally in control listen to larrys take on my funny valentine and tell me it does not stand right up there with chet bakers or miles a very fine album that you will enjoy again and again",
         "['more', 'great', 'playing', 'larrys', 'work', 'for', 'the', 'muse', 'label', 'in', 'the', 'late', 's', 'and', 'early', 's', 'found', 'him', 'exploring', 'the', 'rich', 'catalog', 'of', 'jazz', 'standards', 'that', 'he', 'probably', 'grew', 'up', 'playing', 'surrounding', 'himself', 'with', 'the', 'best', 'musicians', 'around', 'larry', 'sounds', 'relaxed', 'focused', 'and', 'totally', 'in', 'control', 'listen', 'to', 'larrys', 'take', 'on', 'my', 'funny', 'valentine', 'and', 'tell', 'me', 'it', 'does', 'not', 'stand', 'right', 'up', 'there', 'with', 'chet', 'bakers', 'or', 'miles', 'a', 'very', 'fine', 'album', 'that', 'you', 'will', 'enjoy', 'again', 'and', 'again']",
         "['great', 'playing', 'larrys', 'work', 'muse', 'label', 'late', 'early', 'found', 'exploring', 'rich', 'catalog', 'jazz', 'standards', 'probably', 'grew', 'playing', 'surrounding', 'best', 'musicians', 'around', 'larry', 'sounds', 'relaxed', 'focused', 'totally', 'control', 'listen', 'larrys', 'take', 'funny', 'valentine', 'tell', 'stand', 'right', 'chet', 'bakers', 'miles', 'fine', 'album', 'enjoy']",
         "['great', 'playing', 'larrys', 'work', 'muse', 'label', 'late', 'early', 'found', 'exploring', 'rich', 'catalog', 'jazz', 'standard', 'probably', 'grew', 'playing', 'surrounding', 'best', 'musician', 'around', 'larry', 'sound', 'relaxed', 'focused', 'totally', 'control', 'listen', 'larrys', 'take', 'funny', 'valentine', 'tell', 'stand', 'right', 'chet', 'baker', 'mile', 'fine', 'album', 'enjoy']",
         "['great', 'play', 'larri', 'work', 'muse', 'label', 'late', 'earli', 'found', 'explor', 'rich', 'catalog', 'jazz', 'standard', 'probabl', 'grew', 'play', 'surround', 'best', 'musician', 'around', 'larri', 'sound', 'relax', 'focus', 'total', 'control', 'listen', 'larri', 'take', 'funni', 'valentin', 'tell', 'stand', 'right', 'chet', 'baker', 'mile', 'fine', 'album', 'enjoy']",
         "['great', 'play', 'larri', 'work', 'muse', 'label', 'late', 'earli', 'found', 'explor', 'rich', 'catalog', 'jazz', 'standard', 'probabl', 'grew', 'play', 'surround', 'best', 'musician', 'around', 'larri', 'sound', 'relax', 'focus', 'total', 'control', 'listen', 'larri', 'take', 'funni', 'valentin', 'tell', 'stand', 'right', 'chet', 'baker', 'mile', 'fine', 'album', 'enjoy']",
         "great playing larrys work muse label late early found exploring rich catalog jazz standard probably grew playing surrounding best musician around larry sound relaxed focused totally control listen larrys take funny valentine tell stand right chet baker mile fine album enjoy",
         "great playing larrys work muse label late early found exploring rich catalog jazz standard probably grew playing surrounding best musician around larry sound relaxed focused totally control listen larrys take funny valentine tell stand right chet baker mile fine album enjoy."
        ],
        [
         "38",
         "__label__1",
         "does not work on a mac it clearly says on line this will work on a mac os system the disk comes and it does not only windows  do not order this if you have a mac",
         "['does', 'not', 'work', 'on', 'a', 'mac', 'it', 'clearly', 'says', 'on', 'line', 'this', 'will', 'work', 'on', 'a', 'mac', 'os', 'system', 'the', 'disk', 'comes', 'and', 'it', 'does', 'not', 'only', 'windows', 'do', 'not', 'order', 'this', 'if', 'you', 'have', 'a', 'mac']",
         "['work', 'mac', 'clearly', 'says', 'line', 'work', 'mac', 'os', 'system', 'disk', 'comes', 'windows', 'order', 'mac']",
         "['work', 'mac', 'clearly', 'say', 'line', 'work', 'mac', 'o', 'system', 'disk', 'come', 'window', 'order', 'mac']",
         "['work', 'mac', 'clearli', 'say', 'line', 'work', 'mac', 'os', 'system', 'disk', 'come', 'window', 'order', 'mac']",
         "['work', 'mac', 'clear', 'say', 'line', 'work', 'mac', 'os', 'system', 'disk', 'come', 'window', 'order', 'mac']",
         "work mac clearly say line work mac o system disk come window order mac",
         "work mac clearly say line work mac o system disk come window order mac."
        ],
        [
         "39",
         "__label__1",
         "very frustrating my three year old son was very excited to get this but after two attempts at playing it has not been touched since you are not able to use the mouse through any of the games except for the powerup segments instead you are using the updown arrows on the keyboard  too hard for him and not much fun very disapointed with this game and wish i could return it",
         "['very', 'frustrating', 'my', 'three', 'year', 'old', 'son', 'was', 'very', 'excited', 'to', 'get', 'this', 'but', 'after', 'two', 'attempts', 'at', 'playing', 'it', 'has', 'not', 'been', 'touched', 'since', 'you', 'are', 'not', 'able', 'to', 'use', 'the', 'mouse', 'through', 'any', 'of', 'the', 'games', 'except', 'for', 'the', 'powerup', 'segments', 'instead', 'you', 'are', 'using', 'the', 'updown', 'arrows', 'on', 'the', 'keyboard', 'too', 'hard', 'for', 'him', 'and', 'not', 'much', 'fun', 'very', 'disapointed', 'with', 'this', 'game', 'and', 'wish', 'i', 'could', 'return', 'it']",
         "['frustrating', 'three', 'year', 'old', 'son', 'excited', 'get', 'two', 'attempts', 'playing', 'touched', 'since', 'able', 'use', 'mouse', 'games', 'except', 'powerup', 'segments', 'instead', 'using', 'updown', 'arrows', 'keyboard', 'hard', 'much', 'fun', 'disapointed', 'game', 'wish', 'could', 'return']",
         "['frustrating', 'three', 'year', 'old', 'son', 'excited', 'get', 'two', 'attempt', 'playing', 'touched', 'since', 'able', 'use', 'mouse', 'game', 'except', 'powerup', 'segment', 'instead', 'using', 'updown', 'arrow', 'keyboard', 'hard', 'much', 'fun', 'disapointed', 'game', 'wish', 'could', 'return']",
         "['frustrat', 'three', 'year', 'old', 'son', 'excit', 'get', 'two', 'attempt', 'play', 'touch', 'sinc', 'abl', 'use', 'mous', 'game', 'except', 'powerup', 'segment', 'instead', 'use', 'updown', 'arrow', 'keyboard', 'hard', 'much', 'fun', 'disapoint', 'game', 'wish', 'could', 'return']",
         "['frustrat', 'three', 'year', 'old', 'son', 'excit', 'get', 'two', 'attempt', 'play', 'touch', 'sinc', 'abl', 'use', 'mous', 'game', 'except', 'powerup', 'segment', 'instead', 'use', 'updown', 'arrow', 'keyboard', 'hard', 'much', 'fun', 'disapoint', 'game', 'wish', 'could', 'return']",
         "frustrating three year old son excited get two attempt playing touched since able use mouse game except powerup segment instead using updown arrow keyboard hard much fun disapointed game wish could return",
         "frustrating three year old son excited get two attempt playing touched since able use mouse game except powerup segment instead using updown arrow keyboard hard much fun disapointed game wish could return."
        ],
        [
         "40",
         "__label__1",
         "mind numbing this game makes you do the same things over and over it never holds my sons attention long enough to get to the next level there is no choice of games you have to do every thing in order we have another rescue heroes game and both my boys  and  love it but this one is a dog",
         "['mind', 'numbing', 'this', 'game', 'makes', 'you', 'do', 'the', 'same', 'things', 'over', 'and', 'over', 'it', 'never', 'holds', 'my', 'sons', 'attention', 'long', 'enough', 'to', 'get', 'to', 'the', 'next', 'level', 'there', 'is', 'no', 'choice', 'of', 'games', 'you', 'have', 'to', 'do', 'every', 'thing', 'in', 'order', 'we', 'have', 'another', 'rescue', 'heroes', 'game', 'and', 'both', 'my', 'boys', 'and', 'love', 'it', 'but', 'this', 'one', 'is', 'a', 'dog']",
         "['mind', 'numbing', 'game', 'makes', 'things', 'never', 'holds', 'sons', 'attention', 'long', 'enough', 'get', 'next', 'level', 'choice', 'games', 'every', 'thing', 'order', 'another', 'rescue', 'heroes', 'game', 'boys', 'love', 'one', 'dog']",
         "['mind', 'numbing', 'game', 'make', 'thing', 'never', 'hold', 'son', 'attention', 'long', 'enough', 'get', 'next', 'level', 'choice', 'game', 'every', 'thing', 'order', 'another', 'rescue', 'hero', 'game', 'boy', 'love', 'one', 'dog']",
         "['mind', 'numb', 'game', 'make', 'thing', 'never', 'hold', 'son', 'attent', 'long', 'enough', 'get', 'next', 'level', 'choic', 'game', 'everi', 'thing', 'order', 'anoth', 'rescu', 'hero', 'game', 'boy', 'love', 'one', 'dog']",
         "['mind', 'numb', 'game', 'make', 'thing', 'never', 'hold', 'son', 'attent', 'long', 'enough', 'get', 'next', 'level', 'choic', 'game', 'everi', 'thing', 'order', 'anoth', 'rescu', 'hero', 'game', 'boy', 'love', 'one', 'dog']",
         "mind numbing game make thing never hold son attention long enough get next level choice game every thing order another rescue hero game boy love one dog",
         "mind numbing game make thing never hold son attention long enough get next level choice game every thing order another rescue hero game boy love one dog."
        ],
        [
         "41",
         "__label__1",
         "cannot recommend as a former alaskan i did not want to have to do this but after repeatedly attempting allmans recipes and having to throw out  cups of flour and miscellaneous ingredients nearly every timeand then comparing to ed woods recipes which work flawlessly and lisa rayners very excellent wild bread handbaked sourdough artisan breads in your own kitchen i cannot help but notice that their recipes work where allmans failim not a novice baker the only thing that worked reliably was the pancakes recipe but that can be found other places as wellif you are looking for reliable recipes and concise information about starting a sourdough and maintaining it i recommend any of ed woods books even his very old ones lisa rayner has written a fabulous tome in wild bread but pass on this bookwhile some of the historical vignettes were interestingnot enough so to warrant the cost of the book check it out at your library if you must",
         "['can', 'not', 'recommend', 'as', 'a', 'former', 'alaskan', 'i', 'did', 'not', 'want', 'to', 'have', 'to', 'do', 'this', 'but', 'after', 'repeatedly', 'attempting', 'allmans', 'recipes', 'and', 'having', 'to', 'throw', 'out', 'cups', 'of', 'flour', 'and', 'miscellaneous', 'ingredients', 'nearly', 'every', 'timeand', 'then', 'comparing', 'to', 'ed', 'woods', 'recipes', 'which', 'work', 'flawlessly', 'and', 'lisa', 'rayners', 'very', 'excellent', 'wild', 'bread', 'handbaked', 'sourdough', 'artisan', 'breads', 'in', 'your', 'own', 'kitchen', 'i', 'can', 'not', 'help', 'but', 'notice', 'that', 'their', 'recipes', 'work', 'where', 'allmans', 'failim', 'not', 'a', 'novice', 'baker', 'the', 'only', 'thing', 'that', 'worked', 'reliably', 'was', 'the', 'pancakes', 'recipe', 'but', 'that', 'can', 'be', 'found', 'other', 'places', 'as', 'wellif', 'you', 'are', 'looking', 'for', 'reliable', 'recipes', 'and', 'concise', 'information', 'about', 'starting', 'a', 'sourdough', 'and', 'maintaining', 'it', 'i', 'recommend', 'any', 'of', 'ed', 'woods', 'books', 'even', 'his', 'very', 'old', 'ones', 'lisa', 'rayner', 'has', 'written', 'a', 'fabulous', 'tome', 'in', 'wild', 'bread', 'but', 'pass', 'on', 'this', 'bookwhile', 'some', 'of', 'the', 'historical', 'vignettes', 'were', 'interestingnot', 'enough', 'so', 'to', 'warrant', 'the', 'cost', 'of', 'the', 'book', 'check', 'it', 'out', 'at', 'your', 'library', 'if', 'you', 'must']",
         "['recommend', 'former', 'alaskan', 'want', 'repeatedly', 'attempting', 'allmans', 'recipes', 'throw', 'cups', 'flour', 'miscellaneous', 'ingredients', 'nearly', 'every', 'timeand', 'comparing', 'ed', 'woods', 'recipes', 'work', 'flawlessly', 'lisa', 'rayners', 'excellent', 'wild', 'bread', 'handbaked', 'sourdough', 'artisan', 'breads', 'kitchen', 'help', 'notice', 'recipes', 'work', 'allmans', 'failim', 'novice', 'baker', 'thing', 'worked', 'reliably', 'pancakes', 'recipe', 'found', 'places', 'wellif', 'looking', 'reliable', 'recipes', 'concise', 'information', 'starting', 'sourdough', 'maintaining', 'recommend', 'ed', 'woods', 'books', 'even', 'old', 'ones', 'lisa', 'rayner', 'written', 'fabulous', 'tome', 'wild', 'bread', 'pass', 'bookwhile', 'historical', 'vignettes', 'interestingnot', 'enough', 'warrant', 'cost', 'book', 'check', 'library', 'must']",
         "['recommend', 'former', 'alaskan', 'want', 'repeatedly', 'attempting', 'allmans', 'recipe', 'throw', 'cup', 'flour', 'miscellaneous', 'ingredient', 'nearly', 'every', 'timeand', 'comparing', 'ed', 'wood', 'recipe', 'work', 'flawlessly', 'lisa', 'rayners', 'excellent', 'wild', 'bread', 'handbaked', 'sourdough', 'artisan', 'bread', 'kitchen', 'help', 'notice', 'recipe', 'work', 'allmans', 'failim', 'novice', 'baker', 'thing', 'worked', 'reliably', 'pancake', 'recipe', 'found', 'place', 'wellif', 'looking', 'reliable', 'recipe', 'concise', 'information', 'starting', 'sourdough', 'maintaining', 'recommend', 'ed', 'wood', 'book', 'even', 'old', 'one', 'lisa', 'rayner', 'written', 'fabulous', 'tome', 'wild', 'bread', 'pas', 'bookwhile', 'historical', 'vignette', 'interestingnot', 'enough', 'warrant', 'cost', 'book', 'check', 'library', 'must']",
         "['recommend', 'former', 'alaskan', 'want', 'repeatedli', 'attempt', 'allman', 'recip', 'throw', 'cup', 'flour', 'miscellan', 'ingredi', 'nearli', 'everi', 'timeand', 'compar', 'ed', 'wood', 'recip', 'work', 'flawlessli', 'lisa', 'rayner', 'excel', 'wild', 'bread', 'handbak', 'sourdough', 'artisan', 'bread', 'kitchen', 'help', 'notic', 'recip', 'work', 'allman', 'failim', 'novic', 'baker', 'thing', 'work', 'reliabl', 'pancak', 'recip', 'found', 'place', 'wellif', 'look', 'reliabl', 'recip', 'concis', 'inform', 'start', 'sourdough', 'maintain', 'recommend', 'ed', 'wood', 'book', 'even', 'old', 'one', 'lisa', 'rayner', 'written', 'fabul', 'tome', 'wild', 'bread', 'pass', 'bookwhil', 'histor', 'vignett', 'interestingnot', 'enough', 'warrant', 'cost', 'book', 'check', 'librari', 'must']",
         "['recommend', 'former', 'alaskan', 'want', 'repeat', 'attempt', 'allman', 'recip', 'throw', 'cup', 'flour', 'miscellan', 'ingredi', 'near', 'everi', 'timeand', 'compar', 'ed', 'wood', 'recip', 'work', 'flawless', 'lisa', 'rayner', 'excel', 'wild', 'bread', 'handbak', 'sourdough', 'artisan', 'bread', 'kitchen', 'help', 'notic', 'recip', 'work', 'allman', 'failim', 'novic', 'baker', 'thing', 'work', 'reliabl', 'pancak', 'recip', 'found', 'place', 'wellif', 'look', 'reliabl', 'recip', 'concis', 'inform', 'start', 'sourdough', 'maintain', 'recommend', 'ed', 'wood', 'book', 'even', 'old', 'one', 'lisa', 'rayner', 'written', 'fabul', 'tome', 'wild', 'bread', 'pass', 'bookwhil', 'histor', 'vignett', 'interestingnot', 'enough', 'warrant', 'cost', 'book', 'check', 'librari', 'must']",
         "recommend former alaskan want repeatedly attempting allmans recipe throw cup flour miscellaneous ingredient nearly every timeand comparing ed wood recipe work flawlessly lisa rayners excellent wild bread handbaked sourdough artisan bread kitchen help notice recipe work allmans failim novice baker thing worked reliably pancake recipe found place wellif looking reliable recipe concise information starting sourdough maintaining recommend ed wood book even old one lisa rayner written fabulous tome wild bread pas bookwhile historical vignette interestingnot enough warrant cost book check library must",
         "recommend former alaskan want repeatedly attempting allmans recipe throw cup flour miscellaneous ingredient nearly every timeand comparing ed wood recipe work flawlessly lisa rayners excellent wild bread handbaked sourdough artisan bread kitchen help notice recipe work allmans failim novice baker thing worked reliably pancake recipe found place wellif looking reliable recipe concise information starting sourdough maintaining recommend ed wood book even old one lisa rayner written fabulous tome wild bread pas bookwhile historical vignette interestingnot enough warrant cost book check library must."
        ],
        [
         "42",
         "__label__2",
         "alaska sourdough read most of the book while visiting my brother in alaska loved it i am going to be making my sourdough starter soon book is full of great stories and recipes",
         "['alaska', 'sourdough', 'read', 'most', 'of', 'the', 'book', 'while', 'visiting', 'my', 'brother', 'in', 'alaska', 'loved', 'it', 'i', 'am', 'going', 'to', 'be', 'making', 'my', 'sourdough', 'starter', 'soon', 'book', 'is', 'full', 'of', 'great', 'stories', 'and', 'recipes']",
         "['alaska', 'sourdough', 'read', 'book', 'visiting', 'brother', 'alaska', 'loved', 'going', 'making', 'sourdough', 'starter', 'soon', 'book', 'full', 'great', 'stories', 'recipes']",
         "['alaska', 'sourdough', 'read', 'book', 'visiting', 'brother', 'alaska', 'loved', 'going', 'making', 'sourdough', 'starter', 'soon', 'book', 'full', 'great', 'story', 'recipe']",
         "['alaska', 'sourdough', 'read', 'book', 'visit', 'brother', 'alaska', 'love', 'go', 'make', 'sourdough', 'starter', 'soon', 'book', 'full', 'great', 'stori', 'recip']",
         "['alaska', 'sourdough', 'read', 'book', 'visit', 'brother', 'alaska', 'love', 'go', 'make', 'sourdough', 'starter', 'soon', 'book', 'full', 'great', 'stori', 'recip']",
         "alaska sourdough read book visiting brother alaska loved going making sourdough starter soon book full great story recipe",
         "alaska sourdough read book visiting brother alaska loved going making sourdough starter soon book full great story recipe."
        ],
        [
         "43",
         "__label__2",
         "old and good this book is worth to keep in your collection as it does not only advise what to do with sourdough but ruth also told you what the picture of past  years ago in alaska where no stand mixer nor any civilized stuffs in kitchen just a pot of sourdough",
         "['old', 'and', 'good', 'this', 'book', 'is', 'worth', 'to', 'keep', 'in', 'your', 'collection', 'as', 'it', 'does', 'not', 'only', 'advise', 'what', 'to', 'do', 'with', 'sourdough', 'but', 'ruth', 'also', 'told', 'you', 'what', 'the', 'picture', 'of', 'past', 'years', 'ago', 'in', 'alaska', 'where', 'no', 'stand', 'mixer', 'nor', 'any', 'civilized', 'stuffs', 'in', 'kitchen', 'just', 'a', 'pot', 'of', 'sourdough']",
         "['old', 'good', 'book', 'worth', 'keep', 'collection', 'advise', 'sourdough', 'ruth', 'also', 'told', 'picture', 'past', 'years', 'ago', 'alaska', 'stand', 'mixer', 'civilized', 'stuffs', 'kitchen', 'pot', 'sourdough']",
         "['old', 'good', 'book', 'worth', 'keep', 'collection', 'advise', 'sourdough', 'ruth', 'also', 'told', 'picture', 'past', 'year', 'ago', 'alaska', 'stand', 'mixer', 'civilized', 'stuff', 'kitchen', 'pot', 'sourdough']",
         "['old', 'good', 'book', 'worth', 'keep', 'collect', 'advis', 'sourdough', 'ruth', 'also', 'told', 'pictur', 'past', 'year', 'ago', 'alaska', 'stand', 'mixer', 'civil', 'stuff', 'kitchen', 'pot', 'sourdough']",
         "['old', 'good', 'book', 'worth', 'keep', 'collect', 'advis', 'sourdough', 'ruth', 'also', 'told', 'pictur', 'past', 'year', 'ago', 'alaska', 'stand', 'mixer', 'civil', 'stuff', 'kitchen', 'pot', 'sourdough']",
         "old good book worth keep collection advise sourdough ruth also told picture past year ago alaska stand mixer civilized stuff kitchen pot sourdough",
         "old good book worth keep collection advise sourdough ruth also told picture past year ago alaska stand mixer civilized stuff kitchen pot sourdough."
        ],
        [
         "44",
         "__label__2",
         "autumn got this for my daughter in nc she is now making prefect bread wish she lived closer to make me some",
         "['autumn', 'got', 'this', 'for', 'my', 'daughter', 'in', 'nc', 'she', 'is', 'now', 'making', 'prefect', 'bread', 'wish', 'she', 'lived', 'closer', 'to', 'make', 'me', 'some']",
         "['autumn', 'got', 'daughter', 'nc', 'making', 'prefect', 'bread', 'wish', 'lived', 'closer', 'make']",
         "['autumn', 'got', 'daughter', 'nc', 'making', 'prefect', 'bread', 'wish', 'lived', 'closer', 'make']",
         "['autumn', 'got', 'daughter', 'nc', 'make', 'prefect', 'bread', 'wish', 'live', 'closer', 'make']",
         "['autumn', 'got', 'daughter', 'nc', 'make', 'prefect', 'bread', 'wish', 'live', 'closer', 'make']",
         "autumn got daughter nc making prefect bread wish lived closer make",
         "autumn got daughter nc making prefect bread wish lived closer make."
        ],
        [
         "45",
         "__label__2",
         "fast mp download of music waxed decades ago one of these  songs played as background music on a youtube video of some kind of gymnastic or dance feat out of russia i hunted down the melody read the english lyrics then decided to see what else was in the album downloaded the full album for  via amazon mp downloader and now happily listen to the melodies interspersed on my ipod",
         "['fast', 'mp', 'download', 'of', 'music', 'waxed', 'decades', 'ago', 'one', 'of', 'these', 'songs', 'played', 'as', 'background', 'music', 'on', 'a', 'youtube', 'video', 'of', 'some', 'kind', 'of', 'gymnastic', 'or', 'dance', 'feat', 'out', 'of', 'russia', 'i', 'hunted', 'down', 'the', 'melody', 'read', 'the', 'english', 'lyrics', 'then', 'decided', 'to', 'see', 'what', 'else', 'was', 'in', 'the', 'album', 'downloaded', 'the', 'full', 'album', 'for', 'via', 'amazon', 'mp', 'downloader', 'and', 'now', 'happily', 'listen', 'to', 'the', 'melodies', 'interspersed', 'on', 'my', 'ipod']",
         "['fast', 'mp', 'download', 'music', 'waxed', 'decades', 'ago', 'one', 'songs', 'played', 'background', 'music', 'youtube', 'video', 'kind', 'gymnastic', 'dance', 'feat', 'russia', 'hunted', 'melody', 'read', 'english', 'lyrics', 'decided', 'see', 'else', 'album', 'downloaded', 'full', 'album', 'via', 'amazon', 'mp', 'downloader', 'happily', 'listen', 'melodies', 'interspersed', 'ipod']",
         "['fast', 'mp', 'download', 'music', 'waxed', 'decade', 'ago', 'one', 'song', 'played', 'background', 'music', 'youtube', 'video', 'kind', 'gymnastic', 'dance', 'feat', 'russia', 'hunted', 'melody', 'read', 'english', 'lyric', 'decided', 'see', 'else', 'album', 'downloaded', 'full', 'album', 'via', 'amazon', 'mp', 'downloader', 'happily', 'listen', 'melody', 'interspersed', 'ipod']",
         "['fast', 'mp', 'download', 'music', 'wax', 'decad', 'ago', 'one', 'song', 'play', 'background', 'music', 'youtub', 'video', 'kind', 'gymnast', 'danc', 'feat', 'russia', 'hunt', 'melodi', 'read', 'english', 'lyric', 'decid', 'see', 'els', 'album', 'download', 'full', 'album', 'via', 'amazon', 'mp', 'download', 'happili', 'listen', 'melodi', 'interspers', 'ipod']",
         "['fast', 'mp', 'download', 'music', 'wax', 'decad', 'ago', 'one', 'song', 'play', 'background', 'music', 'youtub', 'video', 'kind', 'gymnast', 'danc', 'feat', 'russia', 'hunt', 'melodi', 'read', 'english', 'lyric', 'decid', 'see', 'els', 'album', 'download', 'full', 'album', 'via', 'amazon', 'mp', 'download', 'happili', 'listen', 'melodi', 'interspers', 'ipod']",
         "fast mp download music waxed decade ago one song played background music youtube video kind gymnastic dance feat russia hunted melody read english lyric decided see else album downloaded full album via amazon mp downloader happily listen melody interspersed ipod",
         "fast mp download music waxed decade ago one song played background music youtube video kind gymnastic dance feat russia hunted melody read english lyric decided see else album downloaded full album via amazon mp downloader happily listen melody interspersed ipod."
        ],
        [
         "46",
         "__label__1",
         "maybe i got a bad one my experience i got this from fm not amazon the dvd player rattled pretty loudly sometimes but not always when i put in a dvd i tried several the picture quality was not all that great and the screen got a horizontal line thru the middle after a short time that would not go away plus one of the other reviewers was dead on about the remote  the layout makes no sense at all very poor human engineering i am going to i brought it back to the store for a refund i saw the same model under the emerson name for  at wm but was hesitant to buy it",
         "['maybe', 'i', 'got', 'a', 'bad', 'one', 'my', 'experience', 'i', 'got', 'this', 'from', 'fm', 'not', 'amazon', 'the', 'dvd', 'player', 'rattled', 'pretty', 'loudly', 'sometimes', 'but', 'not', 'always', 'when', 'i', 'put', 'in', 'a', 'dvd', 'i', 'tried', 'several', 'the', 'picture', 'quality', 'was', 'not', 'all', 'that', 'great', 'and', 'the', 'screen', 'got', 'a', 'horizontal', 'line', 'thru', 'the', 'middle', 'after', 'a', 'short', 'time', 'that', 'would', 'not', 'go', 'away', 'plus', 'one', 'of', 'the', 'other', 'reviewers', 'was', 'dead', 'on', 'about', 'the', 'remote', 'the', 'layout', 'makes', 'no', 'sense', 'at', 'all', 'very', 'poor', 'human', 'engineering', 'i', 'am', 'going', 'to', 'i', 'brought', 'it', 'back', 'to', 'the', 'store', 'for', 'a', 'refund', 'i', 'saw', 'the', 'same', 'model', 'under', 'the', 'emerson', 'name', 'for', 'at', 'wm', 'but', 'was', 'hesitant', 'to', 'buy', 'it']",
         "['maybe', 'got', 'bad', 'one', 'experience', 'got', 'fm', 'amazon', 'dvd', 'player', 'rattled', 'pretty', 'loudly', 'sometimes', 'always', 'put', 'dvd', 'tried', 'several', 'picture', 'quality', 'great', 'screen', 'got', 'horizontal', 'line', 'thru', 'middle', 'short', 'time', 'would', 'go', 'away', 'plus', 'one', 'reviewers', 'dead', 'remote', 'layout', 'makes', 'sense', 'poor', 'human', 'engineering', 'going', 'brought', 'back', 'store', 'refund', 'saw', 'model', 'emerson', 'name', 'wm', 'hesitant', 'buy']",
         "['maybe', 'got', 'bad', 'one', 'experience', 'got', 'fm', 'amazon', 'dvd', 'player', 'rattled', 'pretty', 'loudly', 'sometimes', 'always', 'put', 'dvd', 'tried', 'several', 'picture', 'quality', 'great', 'screen', 'got', 'horizontal', 'line', 'thru', 'middle', 'short', 'time', 'would', 'go', 'away', 'plus', 'one', 'reviewer', 'dead', 'remote', 'layout', 'make', 'sense', 'poor', 'human', 'engineering', 'going', 'brought', 'back', 'store', 'refund', 'saw', 'model', 'emerson', 'name', 'wm', 'hesitant', 'buy']",
         "['mayb', 'got', 'bad', 'one', 'experi', 'got', 'fm', 'amazon', 'dvd', 'player', 'rattl', 'pretti', 'loudli', 'sometim', 'alway', 'put', 'dvd', 'tri', 'sever', 'pictur', 'qualiti', 'great', 'screen', 'got', 'horizont', 'line', 'thru', 'middl', 'short', 'time', 'would', 'go', 'away', 'plu', 'one', 'review', 'dead', 'remot', 'layout', 'make', 'sens', 'poor', 'human', 'engin', 'go', 'brought', 'back', 'store', 'refund', 'saw', 'model', 'emerson', 'name', 'wm', 'hesit', 'buy']",
         "['mayb', 'got', 'bad', 'one', 'experi', 'got', 'fm', 'amazon', 'dvd', 'player', 'rattl', 'pretti', 'loud', 'sometim', 'alway', 'put', 'dvd', 'tri', 'sever', 'pictur', 'qualiti', 'great', 'screen', 'got', 'horizont', 'line', 'thru', 'middl', 'short', 'time', 'would', 'go', 'away', 'plus', 'one', 'review', 'dead', 'remot', 'layout', 'make', 'sens', 'poor', 'human', 'engin', 'go', 'brought', 'back', 'store', 'refund', 'saw', 'model', 'emerson', 'name', 'wm', 'hesit', 'buy']",
         "maybe got bad one experience got fm amazon dvd player rattled pretty loudly sometimes always put dvd tried several picture quality great screen got horizontal line thru middle short time would go away plus one reviewer dead remote layout make sense poor human engineering going brought back store refund saw model emerson name wm hesitant buy",
         "maybe got bad one experience got fm amazon dvd player rattled pretty loudly sometimes always put dvd tried several picture quality great screen got horizontal line thru middle short time would go away plus one reviewer dead remote layout make sense poor human engineering going brought back store refund saw model emerson name wm hesitant buy."
        ],
        [
         "47",
         "__label__2",
         "sylvania ldg  flat panel lcd tv with built in dvd player light weight space saving very attractive design sharp picture good sound quality and quick response time dvd playback also excellent only negative is its remote control it is hard to read the functions of the keys due to color choices the placement of the keys are almost illogical and you have to look at it carefully before each use it almost seems like it was designed by an imbecil the quality the features and the price still makes this tv an excellent buy",
         "['sylvania', 'ldg', 'flat', 'panel', 'lcd', 'tv', 'with', 'built', 'in', 'dvd', 'player', 'light', 'weight', 'space', 'saving', 'very', 'attractive', 'design', 'sharp', 'picture', 'good', 'sound', 'quality', 'and', 'quick', 'response', 'time', 'dvd', 'playback', 'also', 'excellent', 'only', 'negative', 'is', 'its', 'remote', 'control', 'it', 'is', 'hard', 'to', 'read', 'the', 'functions', 'of', 'the', 'keys', 'due', 'to', 'color', 'choices', 'the', 'placement', 'of', 'the', 'keys', 'are', 'almost', 'illogical', 'and', 'you', 'have', 'to', 'look', 'at', 'it', 'carefully', 'before', 'each', 'use', 'it', 'almost', 'seems', 'like', 'it', 'was', 'designed', 'by', 'an', 'imbecil', 'the', 'quality', 'the', 'features', 'and', 'the', 'price', 'still', 'makes', 'this', 'tv', 'an', 'excellent', 'buy']",
         "['sylvania', 'ldg', 'flat', 'panel', 'lcd', 'tv', 'built', 'dvd', 'player', 'light', 'weight', 'space', 'saving', 'attractive', 'design', 'sharp', 'picture', 'good', 'sound', 'quality', 'quick', 'response', 'time', 'dvd', 'playback', 'also', 'excellent', 'negative', 'remote', 'control', 'hard', 'read', 'functions', 'keys', 'due', 'color', 'choices', 'placement', 'keys', 'almost', 'illogical', 'look', 'carefully', 'use', 'almost', 'seems', 'like', 'designed', 'imbecil', 'quality', 'features', 'price', 'still', 'makes', 'tv', 'excellent', 'buy']",
         "['sylvania', 'ldg', 'flat', 'panel', 'lcd', 'tv', 'built', 'dvd', 'player', 'light', 'weight', 'space', 'saving', 'attractive', 'design', 'sharp', 'picture', 'good', 'sound', 'quality', 'quick', 'response', 'time', 'dvd', 'playback', 'also', 'excellent', 'negative', 'remote', 'control', 'hard', 'read', 'function', 'key', 'due', 'color', 'choice', 'placement', 'key', 'almost', 'illogical', 'look', 'carefully', 'use', 'almost', 'seems', 'like', 'designed', 'imbecil', 'quality', 'feature', 'price', 'still', 'make', 'tv', 'excellent', 'buy']",
         "['sylvania', 'ldg', 'flat', 'panel', 'lcd', 'tv', 'built', 'dvd', 'player', 'light', 'weight', 'space', 'save', 'attract', 'design', 'sharp', 'pictur', 'good', 'sound', 'qualiti', 'quick', 'respons', 'time', 'dvd', 'playback', 'also', 'excel', 'neg', 'remot', 'control', 'hard', 'read', 'function', 'key', 'due', 'color', 'choic', 'placement', 'key', 'almost', 'illog', 'look', 'care', 'use', 'almost', 'seem', 'like', 'design', 'imbecil', 'qualiti', 'featur', 'price', 'still', 'make', 'tv', 'excel', 'buy']",
         "['sylvania', 'ldg', 'flat', 'panel', 'lcd', 'tv', 'built', 'dvd', 'player', 'light', 'weight', 'space', 'save', 'attract', 'design', 'sharp', 'pictur', 'good', 'sound', 'qualiti', 'quick', 'respons', 'time', 'dvd', 'playback', 'also', 'excel', 'negat', 'remot', 'control', 'hard', 'read', 'function', 'key', 'due', 'color', 'choic', 'placement', 'key', 'almost', 'illog', 'look', 'care', 'use', 'almost', 'seem', 'like', 'design', 'imbecil', 'qualiti', 'featur', 'price', 'still', 'make', 'tv', 'excel', 'buy']",
         "sylvania ldg flat panel lcd tv built dvd player light weight space saving attractive design sharp picture good sound quality quick response time dvd playback also excellent negative remote control hard read function key due color choice placement key almost illogical look carefully use almost seems like designed imbecil quality feature price still make tv excellent buy",
         "sylvania ldg flat panel lcd tv built dvd player light weight space saving attractive design sharp picture good sound quality quick response time dvd playback also excellent negative remote control hard read function key due color choice placement key almost illogical look carefully use almost seems like designed imbecil quality feature price still make tv excellent buy."
        ],
        [
         "48",
         "__label__1",
         "terrible do not buy this i bought this for my wife for her birthdayand had toreturn it because the dvd palyer would not work i returned it and got a repalcement which once again the dvd player failed to work it is a piece of junk",
         "['terrible', 'do', 'not', 'buy', 'this', 'i', 'bought', 'this', 'for', 'my', 'wife', 'for', 'her', 'birthdayand', 'had', 'toreturn', 'it', 'because', 'the', 'dvd', 'palyer', 'would', 'not', 'work', 'i', 'returned', 'it', 'and', 'got', 'a', 'repalcement', 'which', 'once', 'again', 'the', 'dvd', 'player', 'failed', 'to', 'work', 'it', 'is', 'a', 'piece', 'of', 'junk']",
         "['terrible', 'buy', 'bought', 'wife', 'birthdayand', 'toreturn', 'dvd', 'palyer', 'would', 'work', 'returned', 'got', 'repalcement', 'dvd', 'player', 'failed', 'work', 'piece', 'junk']",
         "['terrible', 'buy', 'bought', 'wife', 'birthdayand', 'toreturn', 'dvd', 'palyer', 'would', 'work', 'returned', 'got', 'repalcement', 'dvd', 'player', 'failed', 'work', 'piece', 'junk']",
         "['terribl', 'buy', 'bought', 'wife', 'birthdayand', 'toreturn', 'dvd', 'palyer', 'would', 'work', 'return', 'got', 'repalc', 'dvd', 'player', 'fail', 'work', 'piec', 'junk']",
         "['terribl', 'buy', 'bought', 'wife', 'birthdayand', 'toreturn', 'dvd', 'palyer', 'would', 'work', 'return', 'got', 'repalc', 'dvd', 'player', 'fail', 'work', 'piec', 'junk']",
         "terrible buy bought wife birthdayand toreturn dvd palyer would work returned got repalcement dvd player failed work piece junk",
         "terrible buy bought wife birthdayand toreturn dvd palyer would work returned got repalcement dvd player failed work piece junk."
        ],
        [
         "49",
         "__label__1",
         " beware  this tv is set so that it is not capable of a recall function if you want to flash back between channels this tv is not going to give it to you the remote control that comes with the tv has no recall function so i bought a sony universal which is a much better remote that had the recall button on it however i soon learned that the tv is set at the factory to not have the capability to flashback it may not be a big deal to some but this user found it very annoying",
         "['beware', 'this', 'tv', 'is', 'set', 'so', 'that', 'it', 'is', 'not', 'capable', 'of', 'a', 'recall', 'function', 'if', 'you', 'want', 'to', 'flash', 'back', 'between', 'channels', 'this', 'tv', 'is', 'not', 'going', 'to', 'give', 'it', 'to', 'you', 'the', 'remote', 'control', 'that', 'comes', 'with', 'the', 'tv', 'has', 'no', 'recall', 'function', 'so', 'i', 'bought', 'a', 'sony', 'universal', 'which', 'is', 'a', 'much', 'better', 'remote', 'that', 'had', 'the', 'recall', 'button', 'on', 'it', 'however', 'i', 'soon', 'learned', 'that', 'the', 'tv', 'is', 'set', 'at', 'the', 'factory', 'to', 'not', 'have', 'the', 'capability', 'to', 'flashback', 'it', 'may', 'not', 'be', 'a', 'big', 'deal', 'to', 'some', 'but', 'this', 'user', 'found', 'it', 'very', 'annoying']",
         "['beware', 'tv', 'set', 'capable', 'recall', 'function', 'want', 'flash', 'back', 'channels', 'tv', 'going', 'give', 'remote', 'control', 'comes', 'tv', 'recall', 'function', 'bought', 'sony', 'universal', 'much', 'better', 'remote', 'recall', 'button', 'however', 'soon', 'learned', 'tv', 'set', 'factory', 'capability', 'flashback', 'may', 'big', 'deal', 'user', 'found', 'annoying']",
         "['beware', 'tv', 'set', 'capable', 'recall', 'function', 'want', 'flash', 'back', 'channel', 'tv', 'going', 'give', 'remote', 'control', 'come', 'tv', 'recall', 'function', 'bought', 'sony', 'universal', 'much', 'better', 'remote', 'recall', 'button', 'however', 'soon', 'learned', 'tv', 'set', 'factory', 'capability', 'flashback', 'may', 'big', 'deal', 'user', 'found', 'annoying']",
         "['bewar', 'tv', 'set', 'capabl', 'recal', 'function', 'want', 'flash', 'back', 'channel', 'tv', 'go', 'give', 'remot', 'control', 'come', 'tv', 'recal', 'function', 'bought', 'soni', 'univers', 'much', 'better', 'remot', 'recal', 'button', 'howev', 'soon', 'learn', 'tv', 'set', 'factori', 'capabl', 'flashback', 'may', 'big', 'deal', 'user', 'found', 'annoy']",
         "['bewar', 'tv', 'set', 'capabl', 'recal', 'function', 'want', 'flash', 'back', 'channel', 'tv', 'go', 'give', 'remot', 'control', 'come', 'tv', 'recal', 'function', 'bought', 'soni', 'univers', 'much', 'better', 'remot', 'recal', 'button', 'howev', 'soon', 'learn', 'tv', 'set', 'factori', 'capabl', 'flashback', 'may', 'big', 'deal', 'user', 'found', 'annoy']",
         "beware tv set capable recall function want flash back channel tv going give remote control come tv recall function bought sony universal much better remote recall button however soon learned tv set factory capability flashback may big deal user found annoying",
         "beware tv set capable recall function want flash back channel tv going give remote control come tv recall function bought sony universal much better remote recall button however soon learned tv set factory capability flashback may big deal user found annoying."
        ]
       ],
       "shape": {
        "columns": 9,
        "rows": 500
       }
      },
      "text/html": [
       "<div>\n",
       "<style scoped>\n",
       "    .dataframe tbody tr th:only-of-type {\n",
       "        vertical-align: middle;\n",
       "    }\n",
       "\n",
       "    .dataframe tbody tr th {\n",
       "        vertical-align: top;\n",
       "    }\n",
       "\n",
       "    .dataframe thead th {\n",
       "        text-align: right;\n",
       "    }\n",
       "</style>\n",
       "<table border=\"1\" class=\"dataframe\">\n",
       "  <thead>\n",
       "    <tr style=\"text-align: right;\">\n",
       "      <th></th>\n",
       "      <th>label</th>\n",
       "      <th>text</th>\n",
       "      <th>TOKENS</th>\n",
       "      <th>TOKEN</th>\n",
       "      <th>LEMMATIZED</th>\n",
       "      <th>STEMMED</th>\n",
       "      <th>S_STEMMED</th>\n",
       "      <th>detokenized_text</th>\n",
       "      <th>JOIN_TEXT</th>\n",
       "    </tr>\n",
       "  </thead>\n",
       "  <tbody>\n",
       "    <tr>\n",
       "      <th>0</th>\n",
       "      <td>__label__2</td>\n",
       "      <td>stuning even for the nongamer this sound track...</td>\n",
       "      <td>[stuning, even, for, the, nongamer, this, soun...</td>\n",
       "      <td>[stuning, even, nongamer, sound, track, beauti...</td>\n",
       "      <td>[stuning, even, nongamer, sound, track, beauti...</td>\n",
       "      <td>[stune, even, nongam, sound, track, beauti, pa...</td>\n",
       "      <td>[stune, even, nongam, sound, track, beauti, pa...</td>\n",
       "      <td>stuning even nongamer sound track beautiful pa...</td>\n",
       "      <td>stuning even nongamer sound track beautiful pa...</td>\n",
       "    </tr>\n",
       "    <tr>\n",
       "      <th>1</th>\n",
       "      <td>__label__2</td>\n",
       "      <td>the best soundtrack ever to anything i am read...</td>\n",
       "      <td>[the, best, soundtrack, ever, to, anything, i,...</td>\n",
       "      <td>[best, soundtrack, ever, anything, reading, lo...</td>\n",
       "      <td>[best, soundtrack, ever, anything, reading, lo...</td>\n",
       "      <td>[best, soundtrack, ever, anyth, read, lot, rev...</td>\n",
       "      <td>[best, soundtrack, ever, anyth, read, lot, rev...</td>\n",
       "      <td>best soundtrack ever anything reading lot revi...</td>\n",
       "      <td>best soundtrack ever anything reading lot revi...</td>\n",
       "    </tr>\n",
       "    <tr>\n",
       "      <th>2</th>\n",
       "      <td>__label__2</td>\n",
       "      <td>amazing this soundtrack is my favorite music o...</td>\n",
       "      <td>[amazing, this, soundtrack, is, my, favorite, ...</td>\n",
       "      <td>[amazing, soundtrack, favorite, music, time, h...</td>\n",
       "      <td>[amazing, soundtrack, favorite, music, time, h...</td>\n",
       "      <td>[amaz, soundtrack, favorit, music, time, hand,...</td>\n",
       "      <td>[amaz, soundtrack, favorit, music, time, hand,...</td>\n",
       "      <td>amazing soundtrack favorite music time hand in...</td>\n",
       "      <td>amazing soundtrack favorite music time hand in...</td>\n",
       "    </tr>\n",
       "    <tr>\n",
       "      <th>3</th>\n",
       "      <td>__label__2</td>\n",
       "      <td>excellent soundtrack i truly like this soundtr...</td>\n",
       "      <td>[excellent, soundtrack, i, truly, like, this, ...</td>\n",
       "      <td>[excellent, soundtrack, truly, like, soundtrac...</td>\n",
       "      <td>[excellent, soundtrack, truly, like, soundtrac...</td>\n",
       "      <td>[excel, soundtrack, truli, like, soundtrack, e...</td>\n",
       "      <td>[excel, soundtrack, truli, like, soundtrack, e...</td>\n",
       "      <td>excellent soundtrack truly like soundtrack enj...</td>\n",
       "      <td>excellent soundtrack truly like soundtrack enj...</td>\n",
       "    </tr>\n",
       "    <tr>\n",
       "      <th>4</th>\n",
       "      <td>__label__2</td>\n",
       "      <td>remember pull your jaw off the floor after hea...</td>\n",
       "      <td>[remember, pull, your, jaw, off, the, floor, a...</td>\n",
       "      <td>[remember, pull, jaw, floor, hearing, played, ...</td>\n",
       "      <td>[remember, pull, jaw, floor, hearing, played, ...</td>\n",
       "      <td>[rememb, pull, jaw, floor, hear, play, game, k...</td>\n",
       "      <td>[rememb, pull, jaw, floor, hear, play, game, k...</td>\n",
       "      <td>remember pull jaw floor hearing played game kn...</td>\n",
       "      <td>remember pull jaw floor hearing played game kn...</td>\n",
       "    </tr>\n",
       "    <tr>\n",
       "      <th>...</th>\n",
       "      <td>...</td>\n",
       "      <td>...</td>\n",
       "      <td>...</td>\n",
       "      <td>...</td>\n",
       "      <td>...</td>\n",
       "      <td>...</td>\n",
       "      <td>...</td>\n",
       "      <td>...</td>\n",
       "      <td>...</td>\n",
       "    </tr>\n",
       "    <tr>\n",
       "      <th>495</th>\n",
       "      <td>__label__2</td>\n",
       "      <td>if you do not have this get it this book is a ...</td>\n",
       "      <td>[if, you, do, not, have, this, get, it, this, ...</td>\n",
       "      <td>[get, book, wonderful, illustration, simple, s...</td>\n",
       "      <td>[get, book, wonderful, illustration, simple, s...</td>\n",
       "      <td>[get, book, wonder, illustr, simpl, simpl, go,...</td>\n",
       "      <td>[get, book, wonder, illustr, simpl, simpl, go,...</td>\n",
       "      <td>get book wonderful illustration simple simple ...</td>\n",
       "      <td>get book wonderful illustration simple simple ...</td>\n",
       "    </tr>\n",
       "    <tr>\n",
       "      <th>496</th>\n",
       "      <td>__label__2</td>\n",
       "      <td>read the angry antihazlitt reviews for a real ...</td>\n",
       "      <td>[read, the, angry, antihazlitt, reviews, for, ...</td>\n",
       "      <td>[read, angry, antihazlitt, reviews, real, indi...</td>\n",
       "      <td>[read, angry, antihazlitt, review, real, indic...</td>\n",
       "      <td>[read, angri, antihazlitt, review, real, indic...</td>\n",
       "      <td>[read, angri, antihazlitt, review, real, indic...</td>\n",
       "      <td>read angry antihazlitt review real indication ...</td>\n",
       "      <td>read angry antihazlitt review real indication ...</td>\n",
       "    </tr>\n",
       "    <tr>\n",
       "      <th>497</th>\n",
       "      <td>__label__2</td>\n",
       "      <td>give this book to a your children economics in...</td>\n",
       "      <td>[give, this, book, to, a, your, children, econ...</td>\n",
       "      <td>[give, book, children, economics, one, lesson,...</td>\n",
       "      <td>[give, book, child, economics, one, lesson, el...</td>\n",
       "      <td>[give, book, children, econom, one, lesson, el...</td>\n",
       "      <td>[give, book, children, econom, one, lesson, el...</td>\n",
       "      <td>give book child economics one lesson elucidate...</td>\n",
       "      <td>give book child economics one lesson elucidate...</td>\n",
       "    </tr>\n",
       "    <tr>\n",
       "      <th>498</th>\n",
       "      <td>__label__2</td>\n",
       "      <td>economics in one lesson economics in one lesso...</td>\n",
       "      <td>[economics, in, one, lesson, economics, in, on...</td>\n",
       "      <td>[economics, one, lesson, economics, one, lesso...</td>\n",
       "      <td>[economics, one, lesson, economics, one, lesso...</td>\n",
       "      <td>[econom, one, lesson, econom, one, lesson, ano...</td>\n",
       "      <td>[econom, one, lesson, econom, one, lesson, ano...</td>\n",
       "      <td>economics one lesson economics one lesson anot...</td>\n",
       "      <td>economics one lesson economics one lesson anot...</td>\n",
       "    </tr>\n",
       "    <tr>\n",
       "      <th>499</th>\n",
       "      <td>__label__2</td>\n",
       "      <td>never more needed than today sure a few of the...</td>\n",
       "      <td>[never, more, needed, than, today, sure, a, fe...</td>\n",
       "      <td>[never, needed, today, sure, specific, example...</td>\n",
       "      <td>[never, needed, today, sure, specific, example...</td>\n",
       "      <td>[never, need, today, sure, specif, exampl, cit...</td>\n",
       "      <td>[never, need, today, sure, specif, exampl, cit...</td>\n",
       "      <td>never needed today sure specific example cited...</td>\n",
       "      <td>never needed today sure specific example cited...</td>\n",
       "    </tr>\n",
       "  </tbody>\n",
       "</table>\n",
       "<p>500 rows × 9 columns</p>\n",
       "</div>"
      ],
      "text/plain": [
       "          label                                               text  \\\n",
       "0    __label__2  stuning even for the nongamer this sound track...   \n",
       "1    __label__2  the best soundtrack ever to anything i am read...   \n",
       "2    __label__2  amazing this soundtrack is my favorite music o...   \n",
       "3    __label__2  excellent soundtrack i truly like this soundtr...   \n",
       "4    __label__2  remember pull your jaw off the floor after hea...   \n",
       "..          ...                                                ...   \n",
       "495  __label__2  if you do not have this get it this book is a ...   \n",
       "496  __label__2  read the angry antihazlitt reviews for a real ...   \n",
       "497  __label__2  give this book to a your children economics in...   \n",
       "498  __label__2  economics in one lesson economics in one lesso...   \n",
       "499  __label__2  never more needed than today sure a few of the...   \n",
       "\n",
       "                                                TOKENS  \\\n",
       "0    [stuning, even, for, the, nongamer, this, soun...   \n",
       "1    [the, best, soundtrack, ever, to, anything, i,...   \n",
       "2    [amazing, this, soundtrack, is, my, favorite, ...   \n",
       "3    [excellent, soundtrack, i, truly, like, this, ...   \n",
       "4    [remember, pull, your, jaw, off, the, floor, a...   \n",
       "..                                                 ...   \n",
       "495  [if, you, do, not, have, this, get, it, this, ...   \n",
       "496  [read, the, angry, antihazlitt, reviews, for, ...   \n",
       "497  [give, this, book, to, a, your, children, econ...   \n",
       "498  [economics, in, one, lesson, economics, in, on...   \n",
       "499  [never, more, needed, than, today, sure, a, fe...   \n",
       "\n",
       "                                                 TOKEN  \\\n",
       "0    [stuning, even, nongamer, sound, track, beauti...   \n",
       "1    [best, soundtrack, ever, anything, reading, lo...   \n",
       "2    [amazing, soundtrack, favorite, music, time, h...   \n",
       "3    [excellent, soundtrack, truly, like, soundtrac...   \n",
       "4    [remember, pull, jaw, floor, hearing, played, ...   \n",
       "..                                                 ...   \n",
       "495  [get, book, wonderful, illustration, simple, s...   \n",
       "496  [read, angry, antihazlitt, reviews, real, indi...   \n",
       "497  [give, book, children, economics, one, lesson,...   \n",
       "498  [economics, one, lesson, economics, one, lesso...   \n",
       "499  [never, needed, today, sure, specific, example...   \n",
       "\n",
       "                                            LEMMATIZED  \\\n",
       "0    [stuning, even, nongamer, sound, track, beauti...   \n",
       "1    [best, soundtrack, ever, anything, reading, lo...   \n",
       "2    [amazing, soundtrack, favorite, music, time, h...   \n",
       "3    [excellent, soundtrack, truly, like, soundtrac...   \n",
       "4    [remember, pull, jaw, floor, hearing, played, ...   \n",
       "..                                                 ...   \n",
       "495  [get, book, wonderful, illustration, simple, s...   \n",
       "496  [read, angry, antihazlitt, review, real, indic...   \n",
       "497  [give, book, child, economics, one, lesson, el...   \n",
       "498  [economics, one, lesson, economics, one, lesso...   \n",
       "499  [never, needed, today, sure, specific, example...   \n",
       "\n",
       "                                               STEMMED  \\\n",
       "0    [stune, even, nongam, sound, track, beauti, pa...   \n",
       "1    [best, soundtrack, ever, anyth, read, lot, rev...   \n",
       "2    [amaz, soundtrack, favorit, music, time, hand,...   \n",
       "3    [excel, soundtrack, truli, like, soundtrack, e...   \n",
       "4    [rememb, pull, jaw, floor, hear, play, game, k...   \n",
       "..                                                 ...   \n",
       "495  [get, book, wonder, illustr, simpl, simpl, go,...   \n",
       "496  [read, angri, antihazlitt, review, real, indic...   \n",
       "497  [give, book, children, econom, one, lesson, el...   \n",
       "498  [econom, one, lesson, econom, one, lesson, ano...   \n",
       "499  [never, need, today, sure, specif, exampl, cit...   \n",
       "\n",
       "                                             S_STEMMED  \\\n",
       "0    [stune, even, nongam, sound, track, beauti, pa...   \n",
       "1    [best, soundtrack, ever, anyth, read, lot, rev...   \n",
       "2    [amaz, soundtrack, favorit, music, time, hand,...   \n",
       "3    [excel, soundtrack, truli, like, soundtrack, e...   \n",
       "4    [rememb, pull, jaw, floor, hear, play, game, k...   \n",
       "..                                                 ...   \n",
       "495  [get, book, wonder, illustr, simpl, simpl, go,...   \n",
       "496  [read, angri, antihazlitt, review, real, indic...   \n",
       "497  [give, book, children, econom, one, lesson, el...   \n",
       "498  [econom, one, lesson, econom, one, lesson, ano...   \n",
       "499  [never, need, today, sure, specif, exampl, cit...   \n",
       "\n",
       "                                      detokenized_text  \\\n",
       "0    stuning even nongamer sound track beautiful pa...   \n",
       "1    best soundtrack ever anything reading lot revi...   \n",
       "2    amazing soundtrack favorite music time hand in...   \n",
       "3    excellent soundtrack truly like soundtrack enj...   \n",
       "4    remember pull jaw floor hearing played game kn...   \n",
       "..                                                 ...   \n",
       "495  get book wonderful illustration simple simple ...   \n",
       "496  read angry antihazlitt review real indication ...   \n",
       "497  give book child economics one lesson elucidate...   \n",
       "498  economics one lesson economics one lesson anot...   \n",
       "499  never needed today sure specific example cited...   \n",
       "\n",
       "                                             JOIN_TEXT  \n",
       "0    stuning even nongamer sound track beautiful pa...  \n",
       "1    best soundtrack ever anything reading lot revi...  \n",
       "2    amazing soundtrack favorite music time hand in...  \n",
       "3    excellent soundtrack truly like soundtrack enj...  \n",
       "4    remember pull jaw floor hearing played game kn...  \n",
       "..                                                 ...  \n",
       "495  get book wonderful illustration simple simple ...  \n",
       "496  read angry antihazlitt review real indication ...  \n",
       "497  give book child economics one lesson elucidate...  \n",
       "498  economics one lesson economics one lesson anot...  \n",
       "499  never needed today sure specific example cited...  \n",
       "\n",
       "[500 rows x 9 columns]"
      ]
     },
     "execution_count": 59,
     "metadata": {},
     "output_type": "execute_result"
    }
   ],
   "source": [
    "DATA"
   ]
  },
  {
   "cell_type": "markdown",
   "id": "a5ca717d",
   "metadata": {},
   "source": [
    "##  SENTIMENT RECOGNITION"
   ]
  },
  {
   "cell_type": "markdown",
   "id": "0c474fb4",
   "metadata": {},
   "source": [
    "## 1. **TextBlob**\n",
    "\n",
    "* Ek simple library jo pre-built rules aur word polarity pe kaam karti hai.\n",
    "* Basic sentiment score deti hai: Positive, Negative, Neutral.\n",
    "* Beginner-friendly!\n",
    "\n",
    "**Explanation:**\n",
    "\n",
    "Polarity > 0 means positive, < 0 means negative, 0 means neutral.\n",
    "\n"
   ]
  },
  {
   "cell_type": "code",
   "execution_count": 60,
   "id": "77147ad3",
   "metadata": {},
   "outputs": [
    {
     "name": "stdout",
     "output_type": "stream",
     "text": [
      "Sentiment polarity: 0.6125\n",
      "Sentiment subjectivity: 0.75\n"
     ]
    }
   ],
   "source": [
    "from textblob import TextBlob\n",
    "\n",
    "text = \"I love this product! It is amazing 😊\"\n",
    "blob = TextBlob(text)\n",
    "print(\"Sentiment polarity:\", blob.sentiment.polarity)  # -1 se +1 (negative to positive)\n",
    "print(\"Sentiment subjectivity:\", blob.sentiment.subjectivity)  # 0 to 1 (fact to opinion)"
   ]
  },
  {
   "cell_type": "code",
   "execution_count": null,
   "id": "a89ec006",
   "metadata": {},
   "outputs": [
    {
     "data": {
      "application/vnd.microsoft.datawrangler.viewer.v0+json": {
       "columns": [
        {
         "name": "index",
         "rawType": "int64",
         "type": "integer"
        },
        {
         "name": "label",
         "rawType": "object",
         "type": "string"
        },
        {
         "name": "text",
         "rawType": "object",
         "type": "string"
        },
        {
         "name": "TOKENS",
         "rawType": "object",
         "type": "unknown"
        },
        {
         "name": "TOKEN",
         "rawType": "object",
         "type": "unknown"
        },
        {
         "name": "LEMMATIZED",
         "rawType": "object",
         "type": "unknown"
        },
        {
         "name": "STEMMED",
         "rawType": "object",
         "type": "unknown"
        },
        {
         "name": "S_STEMMED",
         "rawType": "object",
         "type": "unknown"
        },
        {
         "name": "detokenized_text",
         "rawType": "object",
         "type": "string"
        },
        {
         "name": "JOIN_TEXT",
         "rawType": "object",
         "type": "string"
        },
        {
         "name": "TEXTBLOB_SENTIMENT_SCORE",
         "rawType": "float64",
         "type": "float"
        },
        {
         "name": "TEXTBLOB_SENTIMENTS",
         "rawType": "object",
         "type": "string"
        }
       ],
       "ref": "052298b1-a3f4-49b9-b265-f086cbeef0df",
       "rows": [
        [
         "0",
         "__label__2",
         "stuning even for the nongamer this sound track was beautiful it paints the senery in your mind so well i would recomend it even to people who hate vid game music i have played the game chrono cross but out of all of the games i have ever played it has the best music it backs away from crude keyboarding and takes a fresher step with grate guitars and soulful orchestras it would impress anyone who cares to listen ",
         "['stuning', 'even', 'for', 'the', 'nongamer', 'this', 'sound', 'track', 'was', 'beautiful', 'it', 'paints', 'the', 'senery', 'in', 'your', 'mind', 'so', 'well', 'i', 'would', 'recomend', 'it', 'even', 'to', 'people', 'who', 'hate', 'vid', 'game', 'music', 'i', 'have', 'played', 'the', 'game', 'chrono', 'cross', 'but', 'out', 'of', 'all', 'of', 'the', 'games', 'i', 'have', 'ever', 'played', 'it', 'has', 'the', 'best', 'music', 'it', 'backs', 'away', 'from', 'crude', 'keyboarding', 'and', 'takes', 'a', 'fresher', 'step', 'with', 'grate', 'guitars', 'and', 'soulful', 'orchestras', 'it', 'would', 'impress', 'anyone', 'who', 'cares', 'to', 'listen']",
         "['stuning', 'even', 'nongamer', 'sound', 'track', 'beautiful', 'paints', 'senery', 'mind', 'well', 'would', 'recomend', 'even', 'people', 'hate', 'vid', 'game', 'music', 'played', 'game', 'chrono', 'cross', 'games', 'ever', 'played', 'best', 'music', 'backs', 'away', 'crude', 'keyboarding', 'takes', 'fresher', 'step', 'grate', 'guitars', 'soulful', 'orchestras', 'would', 'impress', 'anyone', 'cares', 'listen']",
         "['stuning', 'even', 'nongamer', 'sound', 'track', 'beautiful', 'paint', 'senery', 'mind', 'well', 'would', 'recomend', 'even', 'people', 'hate', 'vid', 'game', 'music', 'played', 'game', 'chrono', 'cross', 'game', 'ever', 'played', 'best', 'music', 'back', 'away', 'crude', 'keyboarding', 'take', 'fresher', 'step', 'grate', 'guitar', 'soulful', 'orchestra', 'would', 'impress', 'anyone', 'care', 'listen']",
         "['stune', 'even', 'nongam', 'sound', 'track', 'beauti', 'paint', 'seneri', 'mind', 'well', 'would', 'recomend', 'even', 'peopl', 'hate', 'vid', 'game', 'music', 'play', 'game', 'chrono', 'cross', 'game', 'ever', 'play', 'best', 'music', 'back', 'away', 'crude', 'keyboard', 'take', 'fresher', 'step', 'grate', 'guitar', 'soul', 'orchestra', 'would', 'impress', 'anyon', 'care', 'listen']",
         "['stune', 'even', 'nongam', 'sound', 'track', 'beauti', 'paint', 'seneri', 'mind', 'well', 'would', 'recomend', 'even', 'peopl', 'hate', 'vid', 'game', 'music', 'play', 'game', 'chrono', 'cross', 'game', 'ever', 'play', 'best', 'music', 'back', 'away', 'crude', 'keyboard', 'take', 'fresher', 'step', 'grate', 'guitar', 'soul', 'orchestra', 'would', 'impress', 'anyon', 'care', 'listen']",
         "stuning even nongamer sound track beautiful paint senery mind well would recomend even people hate vid game music played game chrono cross game ever played best music back away crude keyboarding take fresher step grate guitar soulful orchestra would impress anyone care listen",
         "stuning even nongamer sound track beautiful paint senery mind well would recomend even people hate vid game music played game chrono cross game ever played best music back away crude keyboarding take fresher step grate guitar soulful orchestra would impress anyone care listen.",
         "-0.045000000000000005",
         "Negative 😞"
        ],
        [
         "1",
         "__label__2",
         "the best soundtrack ever to anything i am reading a lot of reviews saying that this is the best game soundtrack and i figured that id write a review to disagree a bit this in my opinino is yasunori mitsudas ultimate masterpiece the music is timeless and i am been listening to it for years now and its beauty simply refuses to fadethe price tag on this is pretty staggering i must say but if you are going to buy any cd for this much money this is the only one that i feel would be worth every penny",
         "['the', 'best', 'soundtrack', 'ever', 'to', 'anything', 'i', 'am', 'reading', 'a', 'lot', 'of', 'reviews', 'saying', 'that', 'this', 'is', 'the', 'best', 'game', 'soundtrack', 'and', 'i', 'figured', 'that', 'id', 'write', 'a', 'review', 'to', 'disagree', 'a', 'bit', 'this', 'in', 'my', 'opinino', 'is', 'yasunori', 'mitsudas', 'ultimate', 'masterpiece', 'the', 'music', 'is', 'timeless', 'and', 'i', 'am', 'been', 'listening', 'to', 'it', 'for', 'years', 'now', 'and', 'its', 'beauty', 'simply', 'refuses', 'to', 'fadethe', 'price', 'tag', 'on', 'this', 'is', 'pretty', 'staggering', 'i', 'must', 'say', 'but', 'if', 'you', 'are', 'going', 'to', 'buy', 'any', 'cd', 'for', 'this', 'much', 'money', 'this', 'is', 'the', 'only', 'one', 'that', 'i', 'feel', 'would', 'be', 'worth', 'every', 'penny']",
         "['best', 'soundtrack', 'ever', 'anything', 'reading', 'lot', 'reviews', 'saying', 'best', 'game', 'soundtrack', 'figured', 'id', 'write', 'review', 'disagree', 'bit', 'opinino', 'yasunori', 'mitsudas', 'ultimate', 'masterpiece', 'music', 'timeless', 'listening', 'years', 'beauty', 'simply', 'refuses', 'fadethe', 'price', 'tag', 'pretty', 'staggering', 'must', 'say', 'going', 'buy', 'cd', 'much', 'money', 'one', 'feel', 'would', 'worth', 'every', 'penny']",
         "['best', 'soundtrack', 'ever', 'anything', 'reading', 'lot', 'review', 'saying', 'best', 'game', 'soundtrack', 'figured', 'id', 'write', 'review', 'disagree', 'bit', 'opinino', 'yasunori', 'mitsudas', 'ultimate', 'masterpiece', 'music', 'timeless', 'listening', 'year', 'beauty', 'simply', 'refuse', 'fadethe', 'price', 'tag', 'pretty', 'staggering', 'must', 'say', 'going', 'buy', 'cd', 'much', 'money', 'one', 'feel', 'would', 'worth', 'every', 'penny']",
         "['best', 'soundtrack', 'ever', 'anyth', 'read', 'lot', 'review', 'say', 'best', 'game', 'soundtrack', 'figur', 'id', 'write', 'review', 'disagre', 'bit', 'opinino', 'yasunori', 'mitsuda', 'ultim', 'masterpiec', 'music', 'timeless', 'listen', 'year', 'beauti', 'simpli', 'refus', 'fadeth', 'price', 'tag', 'pretti', 'stagger', 'must', 'say', 'go', 'buy', 'cd', 'much', 'money', 'one', 'feel', 'would', 'worth', 'everi', 'penni']",
         "['best', 'soundtrack', 'ever', 'anyth', 'read', 'lot', 'review', 'say', 'best', 'game', 'soundtrack', 'figur', 'id', 'write', 'review', 'disagre', 'bit', 'opinino', 'yasunori', 'mitsuda', 'ultim', 'masterpiec', 'music', 'timeless', 'listen', 'year', 'beauti', 'simpli', 'refus', 'fadeth', 'price', 'tag', 'pretti', 'stagger', 'must', 'say', 'go', 'buy', 'cd', 'much', 'money', 'one', 'feel', 'would', 'worth', 'everi', 'penni']",
         "best soundtrack ever anything reading lot review saying best game soundtrack figured id write review disagree bit opinino yasunori mitsudas ultimate masterpiece music timeless listening year beauty simply refuse fadethe price tag pretty staggering must say going buy cd much money one feel would worth every penny",
         "best soundtrack ever anything reading lot review saying best game soundtrack figured id write review disagree bit opinino yasunori mitsudas ultimate masterpiece music timeless listening year beauty simply refuse fadethe price tag pretty staggering must say going buy cd much money one feel would worth every penny.",
         "0.29375",
         "Positive 😊"
        ],
        [
         "2",
         "__label__2",
         "amazing this soundtrack is my favorite music of all time hands down the intense sadness of prisoners of fate which means all the more if you have played the game and the hope in a distant promise and girl who stole the star have been an important inspiration to me personally throughout my teen years the higher energy tracks like chrono cross  times scar time of the dreamwatch and chronomantique indefinably remeniscent of chrono trigger are all absolutely superb as wellthis soundtrack is amazing music probably the best of this composers work i have not heard the xenogears soundtrack so i cannot say for sure and even if you have never played the game it would be worth twice the price to buy iti wish i could give it  stars",
         "['amazing', 'this', 'soundtrack', 'is', 'my', 'favorite', 'music', 'of', 'all', 'time', 'hands', 'down', 'the', 'intense', 'sadness', 'of', 'prisoners', 'of', 'fate', 'which', 'means', 'all', 'the', 'more', 'if', 'you', 'have', 'played', 'the', 'game', 'and', 'the', 'hope', 'in', 'a', 'distant', 'promise', 'and', 'girl', 'who', 'stole', 'the', 'star', 'have', 'been', 'an', 'important', 'inspiration', 'to', 'me', 'personally', 'throughout', 'my', 'teen', 'years', 'the', 'higher', 'energy', 'tracks', 'like', 'chrono', 'cross', 'times', 'scar', 'time', 'of', 'the', 'dreamwatch', 'and', 'chronomantique', 'indefinably', 'remeniscent', 'of', 'chrono', 'trigger', 'are', 'all', 'absolutely', 'superb', 'as', 'wellthis', 'soundtrack', 'is', 'amazing', 'music', 'probably', 'the', 'best', 'of', 'this', 'composers', 'work', 'i', 'have', 'not', 'heard', 'the', 'xenogears', 'soundtrack', 'so', 'i', 'can', 'not', 'say', 'for', 'sure', 'and', 'even', 'if', 'you', 'have', 'never', 'played', 'the', 'game', 'it', 'would', 'be', 'worth', 'twice', 'the', 'price', 'to', 'buy', 'iti', 'wish', 'i', 'could', 'give', 'it', 'stars']",
         "['amazing', 'soundtrack', 'favorite', 'music', 'time', 'hands', 'intense', 'sadness', 'prisoners', 'fate', 'means', 'played', 'game', 'hope', 'distant', 'promise', 'girl', 'stole', 'star', 'important', 'inspiration', 'personally', 'throughout', 'teen', 'years', 'higher', 'energy', 'tracks', 'like', 'chrono', 'cross', 'times', 'scar', 'time', 'dreamwatch', 'chronomantique', 'indefinably', 'remeniscent', 'chrono', 'trigger', 'absolutely', 'superb', 'wellthis', 'soundtrack', 'amazing', 'music', 'probably', 'best', 'composers', 'work', 'heard', 'xenogears', 'soundtrack', 'say', 'sure', 'even', 'never', 'played', 'game', 'would', 'worth', 'twice', 'price', 'buy', 'iti', 'wish', 'could', 'give', 'stars']",
         "['amazing', 'soundtrack', 'favorite', 'music', 'time', 'hand', 'intense', 'sadness', 'prisoner', 'fate', 'mean', 'played', 'game', 'hope', 'distant', 'promise', 'girl', 'stole', 'star', 'important', 'inspiration', 'personally', 'throughout', 'teen', 'year', 'higher', 'energy', 'track', 'like', 'chrono', 'cross', 'time', 'scar', 'time', 'dreamwatch', 'chronomantique', 'indefinably', 'remeniscent', 'chrono', 'trigger', 'absolutely', 'superb', 'wellthis', 'soundtrack', 'amazing', 'music', 'probably', 'best', 'composer', 'work', 'heard', 'xenogears', 'soundtrack', 'say', 'sure', 'even', 'never', 'played', 'game', 'would', 'worth', 'twice', 'price', 'buy', 'iti', 'wish', 'could', 'give', 'star']",
         "['amaz', 'soundtrack', 'favorit', 'music', 'time', 'hand', 'intens', 'sad', 'prison', 'fate', 'mean', 'play', 'game', 'hope', 'distant', 'promis', 'girl', 'stole', 'star', 'import', 'inspir', 'person', 'throughout', 'teen', 'year', 'higher', 'energi', 'track', 'like', 'chrono', 'cross', 'time', 'scar', 'time', 'dreamwatch', 'chronomantiqu', 'indefin', 'remenisc', 'chrono', 'trigger', 'absolut', 'superb', 'wellthi', 'soundtrack', 'amaz', 'music', 'probabl', 'best', 'compos', 'work', 'heard', 'xenogear', 'soundtrack', 'say', 'sure', 'even', 'never', 'play', 'game', 'would', 'worth', 'twice', 'price', 'buy', 'iti', 'wish', 'could', 'give', 'star']",
         "['amaz', 'soundtrack', 'favorit', 'music', 'time', 'hand', 'intens', 'sad', 'prison', 'fate', 'mean', 'play', 'game', 'hope', 'distant', 'promis', 'girl', 'stole', 'star', 'import', 'inspir', 'person', 'throughout', 'teen', 'year', 'higher', 'energi', 'track', 'like', 'chrono', 'cross', 'time', 'scar', 'time', 'dreamwatch', 'chronomantiqu', 'indefin', 'remenisc', 'chrono', 'trigger', 'absolut', 'superb', 'wellthi', 'soundtrack', 'amaz', 'music', 'probabl', 'best', 'compos', 'work', 'heard', 'xenogear', 'soundtrack', 'say', 'sure', 'even', 'never', 'play', 'game', 'would', 'worth', 'twice', 'price', 'buy', 'iti', 'wish', 'could', 'give', 'star']",
         "amazing soundtrack favorite music time hand intense sadness prisoner fate mean played game hope distant promise girl stole star important inspiration personally throughout teen year higher energy track like chrono cross time scar time dreamwatch chronomantique indefinably remeniscent chrono trigger absolutely superb wellthis soundtrack amazing music probably best composer work heard xenogears soundtrack say sure even never played game would worth twice price buy iti wish could give star",
         "amazing soundtrack favorite music time hand intense sadness prisoner fate mean played game hope distant promise girl stole star important inspiration personally throughout teen year higher energy track like chrono cross time scar time dreamwatch chronomantique indefinably remeniscent chrono trigger absolutely superb wellthis soundtrack amazing music probably best composer work heard xenogears soundtrack say sure even never played game would worth twice price buy iti wish could give star.",
         "0.24338235294117652",
         "Positive 😊"
        ],
        [
         "3",
         "__label__2",
         "excellent soundtrack i truly like this soundtrack and i enjoy video game music i have played this game and most of the music on here i enjoy and its truly relaxing and peacefulon disk one my favorites are scars of time between life and death forest of illusion fortress of ancient dragons lost fragment and drowned valleydisk two the draggons galdorb  home chronomantique prisoners of fate gale and my girlfriend likes zelbessdisk three the best of the three garden of god chronopolis fates jellyfish sea burning orphange dragons prayer tower of stars dragon god and radical dreamers  unstealable jeweloverall this is a excellent soundtrack and should be brought by those that like video game musicxander cross",
         "['excellent', 'soundtrack', 'i', 'truly', 'like', 'this', 'soundtrack', 'and', 'i', 'enjoy', 'video', 'game', 'music', 'i', 'have', 'played', 'this', 'game', 'and', 'most', 'of', 'the', 'music', 'on', 'here', 'i', 'enjoy', 'and', 'its', 'truly', 'relaxing', 'and', 'peacefulon', 'disk', 'one', 'my', 'favorites', 'are', 'scars', 'of', 'time', 'between', 'life', 'and', 'death', 'forest', 'of', 'illusion', 'fortress', 'of', 'ancient', 'dragons', 'lost', 'fragment', 'and', 'drowned', 'valleydisk', 'two', 'the', 'draggons', 'galdorb', 'home', 'chronomantique', 'prisoners', 'of', 'fate', 'gale', 'and', 'my', 'girlfriend', 'likes', 'zelbessdisk', 'three', 'the', 'best', 'of', 'the', 'three', 'garden', 'of', 'god', 'chronopolis', 'fates', 'jellyfish', 'sea', 'burning', 'orphange', 'dragons', 'prayer', 'tower', 'of', 'stars', 'dragon', 'god', 'and', 'radical', 'dreamers', 'unstealable', 'jeweloverall', 'this', 'is', 'a', 'excellent', 'soundtrack', 'and', 'should', 'be', 'brought', 'by', 'those', 'that', 'like', 'video', 'game', 'musicxander', 'cross']",
         "['excellent', 'soundtrack', 'truly', 'like', 'soundtrack', 'enjoy', 'video', 'game', 'music', 'played', 'game', 'music', 'enjoy', 'truly', 'relaxing', 'peacefulon', 'disk', 'one', 'favorites', 'scars', 'time', 'life', 'death', 'forest', 'illusion', 'fortress', 'ancient', 'dragons', 'lost', 'fragment', 'drowned', 'valleydisk', 'two', 'draggons', 'galdorb', 'home', 'chronomantique', 'prisoners', 'fate', 'gale', 'girlfriend', 'likes', 'zelbessdisk', 'three', 'best', 'three', 'garden', 'god', 'chronopolis', 'fates', 'jellyfish', 'sea', 'burning', 'orphange', 'dragons', 'prayer', 'tower', 'stars', 'dragon', 'god', 'radical', 'dreamers', 'unstealable', 'jeweloverall', 'excellent', 'soundtrack', 'brought', 'like', 'video', 'game', 'musicxander', 'cross']",
         "['excellent', 'soundtrack', 'truly', 'like', 'soundtrack', 'enjoy', 'video', 'game', 'music', 'played', 'game', 'music', 'enjoy', 'truly', 'relaxing', 'peacefulon', 'disk', 'one', 'favorite', 'scar', 'time', 'life', 'death', 'forest', 'illusion', 'fortress', 'ancient', 'dragon', 'lost', 'fragment', 'drowned', 'valleydisk', 'two', 'draggons', 'galdorb', 'home', 'chronomantique', 'prisoner', 'fate', 'gale', 'girlfriend', 'like', 'zelbessdisk', 'three', 'best', 'three', 'garden', 'god', 'chronopolis', 'fate', 'jellyfish', 'sea', 'burning', 'orphange', 'dragon', 'prayer', 'tower', 'star', 'dragon', 'god', 'radical', 'dreamer', 'unstealable', 'jeweloverall', 'excellent', 'soundtrack', 'brought', 'like', 'video', 'game', 'musicxander', 'cross']",
         "['excel', 'soundtrack', 'truli', 'like', 'soundtrack', 'enjoy', 'video', 'game', 'music', 'play', 'game', 'music', 'enjoy', 'truli', 'relax', 'peacefulon', 'disk', 'one', 'favorit', 'scar', 'time', 'life', 'death', 'forest', 'illus', 'fortress', 'ancient', 'dragon', 'lost', 'fragment', 'drown', 'valleydisk', 'two', 'draggon', 'galdorb', 'home', 'chronomantiqu', 'prison', 'fate', 'gale', 'girlfriend', 'like', 'zelbessdisk', 'three', 'best', 'three', 'garden', 'god', 'chronopoli', 'fate', 'jellyfish', 'sea', 'burn', 'orphang', 'dragon', 'prayer', 'tower', 'star', 'dragon', 'god', 'radic', 'dreamer', 'unsteal', 'jeweloveral', 'excel', 'soundtrack', 'brought', 'like', 'video', 'game', 'musicxand', 'cross']",
         "['excel', 'soundtrack', 'truli', 'like', 'soundtrack', 'enjoy', 'video', 'game', 'music', 'play', 'game', 'music', 'enjoy', 'truli', 'relax', 'peacefulon', 'disk', 'one', 'favorit', 'scar', 'time', 'life', 'death', 'forest', 'illus', 'fortress', 'ancient', 'dragon', 'lost', 'fragment', 'drown', 'valleydisk', 'two', 'draggon', 'galdorb', 'home', 'chronomantiqu', 'prison', 'fate', 'gale', 'girlfriend', 'like', 'zelbessdisk', 'three', 'best', 'three', 'garden', 'god', 'chronopoli', 'fate', 'jellyfish', 'sea', 'burn', 'orphang', 'dragon', 'prayer', 'tower', 'star', 'dragon', 'god', 'radic', 'dreamer', 'unsteal', 'jeweloveral', 'excel', 'soundtrack', 'brought', 'like', 'video', 'game', 'musicxand', 'cross']",
         "excellent soundtrack truly like soundtrack enjoy video game music played game music enjoy truly relaxing peacefulon disk one favorite scar time life death forest illusion fortress ancient dragon lost fragment drowned valleydisk two draggons galdorb home chronomantique prisoner fate gale girlfriend like zelbessdisk three best three garden god chronopolis fate jellyfish sea burning orphange dragon prayer tower star dragon god radical dreamer unstealable jeweloverall excellent soundtrack brought like video game musicxander cross",
         "excellent soundtrack truly like soundtrack enjoy video game music played game music enjoy truly relaxing peacefulon disk one favorite scar time life death forest illusion fortress ancient dragon lost fragment drowned valleydisk two draggons galdorb home chronomantique prisoner fate gale girlfriend like zelbessdisk three best three garden god chronopolis fate jellyfish sea burning orphange dragon prayer tower star dragon god radical dreamer unstealable jeweloverall excellent soundtrack brought like video game musicxander cross.",
         "0.2727272727272727",
         "Positive 😊"
        ],
        [
         "4",
         "__label__2",
         "remember pull your jaw off the floor after hearing it if you have played the game you know how divine the music is every single song tells a story of the game its that good the greatest songs are without a doubt chrono cross times scar magical dreamers the wind the stars and the sea and radical dreamers unstolen jewel translation varies this music is perfect if you ask me the best it can be yasunori mitsuda just poured his heart on and wrote it down on paper",
         "['remember', 'pull', 'your', 'jaw', 'off', 'the', 'floor', 'after', 'hearing', 'it', 'if', 'you', 'have', 'played', 'the', 'game', 'you', 'know', 'how', 'divine', 'the', 'music', 'is', 'every', 'single', 'song', 'tells', 'a', 'story', 'of', 'the', 'game', 'its', 'that', 'good', 'the', 'greatest', 'songs', 'are', 'without', 'a', 'doubt', 'chrono', 'cross', 'times', 'scar', 'magical', 'dreamers', 'the', 'wind', 'the', 'stars', 'and', 'the', 'sea', 'and', 'radical', 'dreamers', 'unstolen', 'jewel', 'translation', 'varies', 'this', 'music', 'is', 'perfect', 'if', 'you', 'ask', 'me', 'the', 'best', 'it', 'can', 'be', 'yasunori', 'mitsuda', 'just', 'poured', 'his', 'heart', 'on', 'and', 'wrote', 'it', 'down', 'on', 'paper']",
         "['remember', 'pull', 'jaw', 'floor', 'hearing', 'played', 'game', 'know', 'divine', 'music', 'every', 'single', 'song', 'tells', 'story', 'game', 'good', 'greatest', 'songs', 'without', 'doubt', 'chrono', 'cross', 'times', 'scar', 'magical', 'dreamers', 'wind', 'stars', 'sea', 'radical', 'dreamers', 'unstolen', 'jewel', 'translation', 'varies', 'music', 'perfect', 'ask', 'best', 'yasunori', 'mitsuda', 'poured', 'heart', 'wrote', 'paper']",
         "['remember', 'pull', 'jaw', 'floor', 'hearing', 'played', 'game', 'know', 'divine', 'music', 'every', 'single', 'song', 'tell', 'story', 'game', 'good', 'greatest', 'song', 'without', 'doubt', 'chrono', 'cross', 'time', 'scar', 'magical', 'dreamer', 'wind', 'star', 'sea', 'radical', 'dreamer', 'unstolen', 'jewel', 'translation', 'varies', 'music', 'perfect', 'ask', 'best', 'yasunori', 'mitsuda', 'poured', 'heart', 'wrote', 'paper']",
         "['rememb', 'pull', 'jaw', 'floor', 'hear', 'play', 'game', 'know', 'divin', 'music', 'everi', 'singl', 'song', 'tell', 'stori', 'game', 'good', 'greatest', 'song', 'without', 'doubt', 'chrono', 'cross', 'time', 'scar', 'magic', 'dreamer', 'wind', 'star', 'sea', 'radic', 'dreamer', 'unstolen', 'jewel', 'translat', 'vari', 'music', 'perfect', 'ask', 'best', 'yasunori', 'mitsuda', 'pour', 'heart', 'wrote', 'paper']",
         "['rememb', 'pull', 'jaw', 'floor', 'hear', 'play', 'game', 'know', 'divin', 'music', 'everi', 'singl', 'song', 'tell', 'stori', 'game', 'good', 'greatest', 'song', 'without', 'doubt', 'chrono', 'cross', 'time', 'scar', 'magic', 'dreamer', 'wind', 'star', 'sea', 'radic', 'dreamer', 'unstolen', 'jewel', 'translat', 'vari', 'music', 'perfect', 'ask', 'best', 'yasunori', 'mitsuda', 'pour', 'heart', 'wrote', 'paper']",
         "remember pull jaw floor hearing played game know divine music every single song tell story game good greatest song without doubt chrono cross time scar magical dreamer wind star sea radical dreamer unstolen jewel translation varies music perfect ask best yasunori mitsuda poured heart wrote paper",
         "remember pull jaw floor hearing played game know divine music every single song tell story game good greatest song without doubt chrono cross time scar magical dreamer wind star sea radical dreamer unstolen jewel translation varies music perfect ask best yasunori mitsuda poured heart wrote paper.",
         "0.3698412698412698",
         "Positive 😊"
        ]
       ],
       "shape": {
        "columns": 11,
        "rows": 5
       }
      },
      "text/html": [
       "<div>\n",
       "<style scoped>\n",
       "    .dataframe tbody tr th:only-of-type {\n",
       "        vertical-align: middle;\n",
       "    }\n",
       "\n",
       "    .dataframe tbody tr th {\n",
       "        vertical-align: top;\n",
       "    }\n",
       "\n",
       "    .dataframe thead th {\n",
       "        text-align: right;\n",
       "    }\n",
       "</style>\n",
       "<table border=\"1\" class=\"dataframe\">\n",
       "  <thead>\n",
       "    <tr style=\"text-align: right;\">\n",
       "      <th></th>\n",
       "      <th>label</th>\n",
       "      <th>text</th>\n",
       "      <th>TOKENS</th>\n",
       "      <th>TOKEN</th>\n",
       "      <th>LEMMATIZED</th>\n",
       "      <th>STEMMED</th>\n",
       "      <th>S_STEMMED</th>\n",
       "      <th>detokenized_text</th>\n",
       "      <th>JOIN_TEXT</th>\n",
       "      <th>TEXTBLOB_SENTIMENT_SCORE</th>\n",
       "      <th>TEXTBLOB_SENTIMENTS</th>\n",
       "    </tr>\n",
       "  </thead>\n",
       "  <tbody>\n",
       "    <tr>\n",
       "      <th>0</th>\n",
       "      <td>__label__2</td>\n",
       "      <td>stuning even for the nongamer this sound track...</td>\n",
       "      <td>[stuning, even, for, the, nongamer, this, soun...</td>\n",
       "      <td>[stuning, even, nongamer, sound, track, beauti...</td>\n",
       "      <td>[stuning, even, nongamer, sound, track, beauti...</td>\n",
       "      <td>[stune, even, nongam, sound, track, beauti, pa...</td>\n",
       "      <td>[stune, even, nongam, sound, track, beauti, pa...</td>\n",
       "      <td>stuning even nongamer sound track beautiful pa...</td>\n",
       "      <td>stuning even nongamer sound track beautiful pa...</td>\n",
       "      <td>-0.045000</td>\n",
       "      <td>Negative 😞</td>\n",
       "    </tr>\n",
       "    <tr>\n",
       "      <th>1</th>\n",
       "      <td>__label__2</td>\n",
       "      <td>the best soundtrack ever to anything i am read...</td>\n",
       "      <td>[the, best, soundtrack, ever, to, anything, i,...</td>\n",
       "      <td>[best, soundtrack, ever, anything, reading, lo...</td>\n",
       "      <td>[best, soundtrack, ever, anything, reading, lo...</td>\n",
       "      <td>[best, soundtrack, ever, anyth, read, lot, rev...</td>\n",
       "      <td>[best, soundtrack, ever, anyth, read, lot, rev...</td>\n",
       "      <td>best soundtrack ever anything reading lot revi...</td>\n",
       "      <td>best soundtrack ever anything reading lot revi...</td>\n",
       "      <td>0.293750</td>\n",
       "      <td>Positive 😊</td>\n",
       "    </tr>\n",
       "    <tr>\n",
       "      <th>2</th>\n",
       "      <td>__label__2</td>\n",
       "      <td>amazing this soundtrack is my favorite music o...</td>\n",
       "      <td>[amazing, this, soundtrack, is, my, favorite, ...</td>\n",
       "      <td>[amazing, soundtrack, favorite, music, time, h...</td>\n",
       "      <td>[amazing, soundtrack, favorite, music, time, h...</td>\n",
       "      <td>[amaz, soundtrack, favorit, music, time, hand,...</td>\n",
       "      <td>[amaz, soundtrack, favorit, music, time, hand,...</td>\n",
       "      <td>amazing soundtrack favorite music time hand in...</td>\n",
       "      <td>amazing soundtrack favorite music time hand in...</td>\n",
       "      <td>0.243382</td>\n",
       "      <td>Positive 😊</td>\n",
       "    </tr>\n",
       "    <tr>\n",
       "      <th>3</th>\n",
       "      <td>__label__2</td>\n",
       "      <td>excellent soundtrack i truly like this soundtr...</td>\n",
       "      <td>[excellent, soundtrack, i, truly, like, this, ...</td>\n",
       "      <td>[excellent, soundtrack, truly, like, soundtrac...</td>\n",
       "      <td>[excellent, soundtrack, truly, like, soundtrac...</td>\n",
       "      <td>[excel, soundtrack, truli, like, soundtrack, e...</td>\n",
       "      <td>[excel, soundtrack, truli, like, soundtrack, e...</td>\n",
       "      <td>excellent soundtrack truly like soundtrack enj...</td>\n",
       "      <td>excellent soundtrack truly like soundtrack enj...</td>\n",
       "      <td>0.272727</td>\n",
       "      <td>Positive 😊</td>\n",
       "    </tr>\n",
       "    <tr>\n",
       "      <th>4</th>\n",
       "      <td>__label__2</td>\n",
       "      <td>remember pull your jaw off the floor after hea...</td>\n",
       "      <td>[remember, pull, your, jaw, off, the, floor, a...</td>\n",
       "      <td>[remember, pull, jaw, floor, hearing, played, ...</td>\n",
       "      <td>[remember, pull, jaw, floor, hearing, played, ...</td>\n",
       "      <td>[rememb, pull, jaw, floor, hear, play, game, k...</td>\n",
       "      <td>[rememb, pull, jaw, floor, hear, play, game, k...</td>\n",
       "      <td>remember pull jaw floor hearing played game kn...</td>\n",
       "      <td>remember pull jaw floor hearing played game kn...</td>\n",
       "      <td>0.369841</td>\n",
       "      <td>Positive 😊</td>\n",
       "    </tr>\n",
       "  </tbody>\n",
       "</table>\n",
       "</div>"
      ],
      "text/plain": [
       "        label                                               text  \\\n",
       "0  __label__2  stuning even for the nongamer this sound track...   \n",
       "1  __label__2  the best soundtrack ever to anything i am read...   \n",
       "2  __label__2  amazing this soundtrack is my favorite music o...   \n",
       "3  __label__2  excellent soundtrack i truly like this soundtr...   \n",
       "4  __label__2  remember pull your jaw off the floor after hea...   \n",
       "\n",
       "                                              TOKENS  \\\n",
       "0  [stuning, even, for, the, nongamer, this, soun...   \n",
       "1  [the, best, soundtrack, ever, to, anything, i,...   \n",
       "2  [amazing, this, soundtrack, is, my, favorite, ...   \n",
       "3  [excellent, soundtrack, i, truly, like, this, ...   \n",
       "4  [remember, pull, your, jaw, off, the, floor, a...   \n",
       "\n",
       "                                               TOKEN  \\\n",
       "0  [stuning, even, nongamer, sound, track, beauti...   \n",
       "1  [best, soundtrack, ever, anything, reading, lo...   \n",
       "2  [amazing, soundtrack, favorite, music, time, h...   \n",
       "3  [excellent, soundtrack, truly, like, soundtrac...   \n",
       "4  [remember, pull, jaw, floor, hearing, played, ...   \n",
       "\n",
       "                                          LEMMATIZED  \\\n",
       "0  [stuning, even, nongamer, sound, track, beauti...   \n",
       "1  [best, soundtrack, ever, anything, reading, lo...   \n",
       "2  [amazing, soundtrack, favorite, music, time, h...   \n",
       "3  [excellent, soundtrack, truly, like, soundtrac...   \n",
       "4  [remember, pull, jaw, floor, hearing, played, ...   \n",
       "\n",
       "                                             STEMMED  \\\n",
       "0  [stune, even, nongam, sound, track, beauti, pa...   \n",
       "1  [best, soundtrack, ever, anyth, read, lot, rev...   \n",
       "2  [amaz, soundtrack, favorit, music, time, hand,...   \n",
       "3  [excel, soundtrack, truli, like, soundtrack, e...   \n",
       "4  [rememb, pull, jaw, floor, hear, play, game, k...   \n",
       "\n",
       "                                           S_STEMMED  \\\n",
       "0  [stune, even, nongam, sound, track, beauti, pa...   \n",
       "1  [best, soundtrack, ever, anyth, read, lot, rev...   \n",
       "2  [amaz, soundtrack, favorit, music, time, hand,...   \n",
       "3  [excel, soundtrack, truli, like, soundtrack, e...   \n",
       "4  [rememb, pull, jaw, floor, hear, play, game, k...   \n",
       "\n",
       "                                    detokenized_text  \\\n",
       "0  stuning even nongamer sound track beautiful pa...   \n",
       "1  best soundtrack ever anything reading lot revi...   \n",
       "2  amazing soundtrack favorite music time hand in...   \n",
       "3  excellent soundtrack truly like soundtrack enj...   \n",
       "4  remember pull jaw floor hearing played game kn...   \n",
       "\n",
       "                                           JOIN_TEXT  \\\n",
       "0  stuning even nongamer sound track beautiful pa...   \n",
       "1  best soundtrack ever anything reading lot revi...   \n",
       "2  amazing soundtrack favorite music time hand in...   \n",
       "3  excellent soundtrack truly like soundtrack enj...   \n",
       "4  remember pull jaw floor hearing played game kn...   \n",
       "\n",
       "   TEXTBLOB_SENTIMENT_SCORE TEXTBLOB_SENTIMENTS  \n",
       "0                 -0.045000          Negative 😞  \n",
       "1                  0.293750          Positive 😊  \n",
       "2                  0.243382          Positive 😊  \n",
       "3                  0.272727          Positive 😊  \n",
       "4                  0.369841          Positive 😊  "
      ]
     },
     "execution_count": 69,
     "metadata": {},
     "output_type": "execute_result"
    }
   ],
   "source": [
    "# 🧠  Define a function to get polarity\n",
    "def get_sentiment(text):\n",
    "    blob = TextBlob(text)\n",
    "    return blob.sentiment.polarity\n",
    "\n",
    "# 📊  Apply the function to the 'review' column\n",
    "DATA[\"TEXTBLOB_SENTIMENT_SCORE\"] = DATA[\"detokenized_text\"].apply(get_sentiment)\n",
    "\n",
    "# 😄 Step 5: Add sentiment label (positive, negative, neutral)\n",
    "def label_sentiment(score):\n",
    "    if score > 0:\n",
    "        return \"Positive 😊\"\n",
    "    elif score < 0:\n",
    "        return \"Negative 😞\"\n",
    "    else:\n",
    "        return \"Neutral 😐\"\n",
    "\n",
    "DATA[\"TEXTBLOB_SENTIMENTS\"] = DATA[\"TEXTBLOB_SENTIMENT_SCORE\"].apply(label_sentiment)\n",
    "DATA.head()\n",
    "\n",
    "# 🧠 DEFINE FUNCTION TO GET SUBJECTIVE SCORE !!!"
   ]
  },
  {
   "cell_type": "markdown",
   "id": "af19136a",
   "metadata": {},
   "source": [
    "\n",
    "---\n",
    "\n",
    "## 2. **VADER (Valence Aware Dictionary and sEntiment Reasoner)**\n",
    "\n",
    "* Specially social media jaise short text ke liye bana.\n",
    "* Ek lexicon + rule-based approach use karta hai.\n",
    "* Neutral, Positive, Negative scores deta hai.\n",
    "\n",
    "**Explanation:**\n",
    "`compound` score ko dekho:\n",
    "\n",
    "* > 0.05 positive,\n",
    "* <-0.05 negative,\n",
    "* Beech mein neutral.\n"
   ]
  },
  {
   "cell_type": "code",
   "execution_count": 62,
   "id": "4fe60c66",
   "metadata": {},
   "outputs": [
    {
     "name": "stdout",
     "output_type": "stream",
     "text": [
      "Collecting vaderSentiment\n",
      "  Downloading vaderSentiment-3.3.2-py2.py3-none-any.whl.metadata (572 bytes)\n",
      "Requirement already satisfied: requests in c:\\users\\nagesh agrawal\\anaconda3\\lib\\site-packages (from vaderSentiment) (2.32.3)\n",
      "Requirement already satisfied: charset-normalizer<4,>=2 in c:\\users\\nagesh agrawal\\anaconda3\\lib\\site-packages (from requests->vaderSentiment) (3.3.2)\n",
      "Requirement already satisfied: idna<4,>=2.5 in c:\\users\\nagesh agrawal\\anaconda3\\lib\\site-packages (from requests->vaderSentiment) (3.7)\n",
      "Requirement already satisfied: urllib3<3,>=1.21.1 in c:\\users\\nagesh agrawal\\anaconda3\\lib\\site-packages (from requests->vaderSentiment) (2.2.3)\n",
      "Requirement already satisfied: certifi>=2017.4.17 in c:\\users\\nagesh agrawal\\anaconda3\\lib\\site-packages (from requests->vaderSentiment) (2025.4.26)\n",
      "Downloading vaderSentiment-3.3.2-py2.py3-none-any.whl (125 kB)\n",
      "Installing collected packages: vaderSentiment\n",
      "Successfully installed vaderSentiment-3.3.2\n"
     ]
    }
   ],
   "source": [
    "! pip install vaderSentiment"
   ]
  },
  {
   "cell_type": "code",
   "execution_count": 63,
   "id": "12c83eb5",
   "metadata": {},
   "outputs": [
    {
     "name": "stdout",
     "output_type": "stream",
     "text": [
      "{'neg': 0.166, 'neu': 0.562, 'pos': 0.272, 'compound': 0.2244}\n"
     ]
    }
   ],
   "source": [
    "from vaderSentiment.vaderSentiment import SentimentIntensityAnalyzer\n",
    "\n",
    "analyzer = SentimentIntensityAnalyzer()\n",
    "text = \"This movie is awesome! 😍 But some parts were boring...\"\n",
    "scores = analyzer.polarity_scores(text)\n",
    "print(scores)  # {'neg':..., 'neu':..., 'pos':..., 'compound':...}\n"
   ]
  },
  {
   "cell_type": "code",
   "execution_count": 70,
   "id": "934cd713",
   "metadata": {},
   "outputs": [],
   "source": [
    "# 🧠  Define a function to get VADER compound score\n",
    "def get_vader_score(text):\n",
    "    return analyzer.polarity_scores(text)['compound']\n",
    "\n",
    "# 📊 Apply the function to the review column\n",
    "DATA[\"VADER_COMPOUND_SCORE\"] = DATA[\"detokenized_text\"].apply(get_vader_score)\n",
    "\n",
    "# 😄 Convert score to sentiment label\n",
    "def vader_label(score):\n",
    "    if score >= 0.05:\n",
    "        return \"Positive 😊\"\n",
    "    elif score <= -0.05:\n",
    "        return \"Negative 😞\"\n",
    "    else:\n",
    "        return \"Neutral 😐\"\n",
    "\n",
    "DATA[\"VADER_SENTIMENTS\"] = DATA[\"VADER_COMPOUND_SCORE\"].apply(vader_label)"
   ]
  },
  {
   "cell_type": "markdown",
   "id": "ab309773",
   "metadata": {},
   "source": [
    "\n",
    "---\n",
    "\n",
    "## 3. **Pretrained Deep Learning Models (BERT)**\n",
    "\n",
    "* BERT jaise models ko fine-tune ya directly use kar sakte hain.\n",
    "* Context samajh ke better accuracy deta hai, par heavy hai.\n",
    "* Transfer learning ke liye best!\n",
    "\n",
    "**(using HuggingFace transformers):**\n",
    "\n"
   ]
  },
  {
   "cell_type": "code",
   "execution_count": 65,
   "id": "884736eb",
   "metadata": {},
   "outputs": [
    {
     "name": "stdout",
     "output_type": "stream",
     "text": [
      "Collecting tf-keras\n",
      "  Downloading tf_keras-2.19.0-py3-none-any.whl.metadata (1.8 kB)\n",
      "Requirement already satisfied: tensorflow<2.20,>=2.19 in c:\\users\\nagesh agrawal\\anaconda3\\lib\\site-packages (from tf-keras) (2.19.0)\n",
      "Requirement already satisfied: absl-py>=1.0.0 in c:\\users\\nagesh agrawal\\anaconda3\\lib\\site-packages (from tensorflow<2.20,>=2.19->tf-keras) (2.2.2)\n",
      "Requirement already satisfied: astunparse>=1.6.0 in c:\\users\\nagesh agrawal\\anaconda3\\lib\\site-packages (from tensorflow<2.20,>=2.19->tf-keras) (1.6.3)\n",
      "Requirement already satisfied: flatbuffers>=24.3.25 in c:\\users\\nagesh agrawal\\anaconda3\\lib\\site-packages (from tensorflow<2.20,>=2.19->tf-keras) (25.2.10)\n",
      "Requirement already satisfied: gast!=0.5.0,!=0.5.1,!=0.5.2,>=0.2.1 in c:\\users\\nagesh agrawal\\anaconda3\\lib\\site-packages (from tensorflow<2.20,>=2.19->tf-keras) (0.6.0)\n",
      "Requirement already satisfied: google-pasta>=0.1.1 in c:\\users\\nagesh agrawal\\anaconda3\\lib\\site-packages (from tensorflow<2.20,>=2.19->tf-keras) (0.2.0)\n",
      "Requirement already satisfied: libclang>=13.0.0 in c:\\users\\nagesh agrawal\\anaconda3\\lib\\site-packages (from tensorflow<2.20,>=2.19->tf-keras) (18.1.1)\n",
      "Requirement already satisfied: opt-einsum>=2.3.2 in c:\\users\\nagesh agrawal\\anaconda3\\lib\\site-packages (from tensorflow<2.20,>=2.19->tf-keras) (3.4.0)\n",
      "Requirement already satisfied: packaging in c:\\users\\nagesh agrawal\\anaconda3\\lib\\site-packages (from tensorflow<2.20,>=2.19->tf-keras) (24.1)\n",
      "Requirement already satisfied: protobuf!=4.21.0,!=4.21.1,!=4.21.2,!=4.21.3,!=4.21.4,!=4.21.5,<6.0.0dev,>=3.20.3 in c:\\users\\nagesh agrawal\\anaconda3\\lib\\site-packages (from tensorflow<2.20,>=2.19->tf-keras) (4.25.3)\n",
      "Requirement already satisfied: requests<3,>=2.21.0 in c:\\users\\nagesh agrawal\\anaconda3\\lib\\site-packages (from tensorflow<2.20,>=2.19->tf-keras) (2.32.3)\n",
      "Requirement already satisfied: setuptools in c:\\users\\nagesh agrawal\\anaconda3\\lib\\site-packages (from tensorflow<2.20,>=2.19->tf-keras) (75.1.0)\n",
      "Requirement already satisfied: six>=1.12.0 in c:\\users\\nagesh agrawal\\anaconda3\\lib\\site-packages (from tensorflow<2.20,>=2.19->tf-keras) (1.16.0)\n",
      "Requirement already satisfied: termcolor>=1.1.0 in c:\\users\\nagesh agrawal\\anaconda3\\lib\\site-packages (from tensorflow<2.20,>=2.19->tf-keras) (3.1.0)\n",
      "Requirement already satisfied: typing-extensions>=3.6.6 in c:\\users\\nagesh agrawal\\anaconda3\\lib\\site-packages (from tensorflow<2.20,>=2.19->tf-keras) (4.11.0)\n",
      "Requirement already satisfied: wrapt>=1.11.0 in c:\\users\\nagesh agrawal\\anaconda3\\lib\\site-packages (from tensorflow<2.20,>=2.19->tf-keras) (1.14.1)\n",
      "Requirement already satisfied: grpcio<2.0,>=1.24.3 in c:\\users\\nagesh agrawal\\anaconda3\\lib\\site-packages (from tensorflow<2.20,>=2.19->tf-keras) (1.71.0)\n",
      "Requirement already satisfied: tensorboard~=2.19.0 in c:\\users\\nagesh agrawal\\anaconda3\\lib\\site-packages (from tensorflow<2.20,>=2.19->tf-keras) (2.19.0)\n",
      "Requirement already satisfied: keras>=3.5.0 in c:\\users\\nagesh agrawal\\anaconda3\\lib\\site-packages (from tensorflow<2.20,>=2.19->tf-keras) (3.9.2)\n",
      "Requirement already satisfied: numpy<2.2.0,>=1.26.0 in c:\\users\\nagesh agrawal\\anaconda3\\lib\\site-packages (from tensorflow<2.20,>=2.19->tf-keras) (1.26.4)\n",
      "Requirement already satisfied: h5py>=3.11.0 in c:\\users\\nagesh agrawal\\anaconda3\\lib\\site-packages (from tensorflow<2.20,>=2.19->tf-keras) (3.11.0)\n",
      "Requirement already satisfied: ml-dtypes<1.0.0,>=0.5.1 in c:\\users\\nagesh agrawal\\anaconda3\\lib\\site-packages (from tensorflow<2.20,>=2.19->tf-keras) (0.5.1)\n",
      "Requirement already satisfied: wheel<1.0,>=0.23.0 in c:\\users\\nagesh agrawal\\anaconda3\\lib\\site-packages (from astunparse>=1.6.0->tensorflow<2.20,>=2.19->tf-keras) (0.44.0)\n",
      "Requirement already satisfied: rich in c:\\users\\nagesh agrawal\\anaconda3\\lib\\site-packages (from keras>=3.5.0->tensorflow<2.20,>=2.19->tf-keras) (13.7.1)\n",
      "Requirement already satisfied: namex in c:\\users\\nagesh agrawal\\anaconda3\\lib\\site-packages (from keras>=3.5.0->tensorflow<2.20,>=2.19->tf-keras) (0.0.9)\n",
      "Requirement already satisfied: optree in c:\\users\\nagesh agrawal\\anaconda3\\lib\\site-packages (from keras>=3.5.0->tensorflow<2.20,>=2.19->tf-keras) (0.15.0)\n",
      "Requirement already satisfied: charset-normalizer<4,>=2 in c:\\users\\nagesh agrawal\\anaconda3\\lib\\site-packages (from requests<3,>=2.21.0->tensorflow<2.20,>=2.19->tf-keras) (3.3.2)\n",
      "Requirement already satisfied: idna<4,>=2.5 in c:\\users\\nagesh agrawal\\anaconda3\\lib\\site-packages (from requests<3,>=2.21.0->tensorflow<2.20,>=2.19->tf-keras) (3.7)\n",
      "Requirement already satisfied: urllib3<3,>=1.21.1 in c:\\users\\nagesh agrawal\\anaconda3\\lib\\site-packages (from requests<3,>=2.21.0->tensorflow<2.20,>=2.19->tf-keras) (2.2.3)\n",
      "Requirement already satisfied: certifi>=2017.4.17 in c:\\users\\nagesh agrawal\\anaconda3\\lib\\site-packages (from requests<3,>=2.21.0->tensorflow<2.20,>=2.19->tf-keras) (2025.4.26)\n",
      "Requirement already satisfied: markdown>=2.6.8 in c:\\users\\nagesh agrawal\\anaconda3\\lib\\site-packages (from tensorboard~=2.19.0->tensorflow<2.20,>=2.19->tf-keras) (3.4.1)\n",
      "Requirement already satisfied: tensorboard-data-server<0.8.0,>=0.7.0 in c:\\users\\nagesh agrawal\\anaconda3\\lib\\site-packages (from tensorboard~=2.19.0->tensorflow<2.20,>=2.19->tf-keras) (0.7.2)\n",
      "Requirement already satisfied: werkzeug>=1.0.1 in c:\\users\\nagesh agrawal\\anaconda3\\lib\\site-packages (from tensorboard~=2.19.0->tensorflow<2.20,>=2.19->tf-keras) (3.0.3)\n",
      "Requirement already satisfied: MarkupSafe>=2.1.1 in c:\\users\\nagesh agrawal\\anaconda3\\lib\\site-packages (from werkzeug>=1.0.1->tensorboard~=2.19.0->tensorflow<2.20,>=2.19->tf-keras) (2.1.3)\n",
      "Requirement already satisfied: markdown-it-py>=2.2.0 in c:\\users\\nagesh agrawal\\anaconda3\\lib\\site-packages (from rich->keras>=3.5.0->tensorflow<2.20,>=2.19->tf-keras) (2.2.0)\n",
      "Requirement already satisfied: pygments<3.0.0,>=2.13.0 in c:\\users\\nagesh agrawal\\anaconda3\\lib\\site-packages (from rich->keras>=3.5.0->tensorflow<2.20,>=2.19->tf-keras) (2.15.1)\n",
      "Requirement already satisfied: mdurl~=0.1 in c:\\users\\nagesh agrawal\\anaconda3\\lib\\site-packages (from markdown-it-py>=2.2.0->rich->keras>=3.5.0->tensorflow<2.20,>=2.19->tf-keras) (0.1.0)\n",
      "Downloading tf_keras-2.19.0-py3-none-any.whl (1.7 MB)\n",
      "   ---------------------------------------- 0.0/1.7 MB ? eta -:--:--\n",
      "   ---------------------------------------- 0.0/1.7 MB ? eta -:--:--\n",
      "   ------ --------------------------------- 0.3/1.7 MB ? eta -:--:--\n",
      "   ------ --------------------------------- 0.3/1.7 MB ? eta -:--:--\n",
      "   ------------ --------------------------- 0.5/1.7 MB 645.7 kB/s eta 0:00:02\n",
      "   ------------ --------------------------- 0.5/1.7 MB 645.7 kB/s eta 0:00:02\n",
      "   ------------------ --------------------- 0.8/1.7 MB 671.3 kB/s eta 0:00:02\n",
      "   ------------------ --------------------- 0.8/1.7 MB 671.3 kB/s eta 0:00:02\n",
      "   ------------------------ --------------- 1.0/1.7 MB 729.5 kB/s eta 0:00:01\n",
      "   ------------------------------ --------- 1.3/1.7 MB 714.3 kB/s eta 0:00:01\n",
      "   ------------------------------ --------- 1.3/1.7 MB 714.3 kB/s eta 0:00:01\n",
      "   ------------------------------------ --- 1.6/1.7 MB 729.8 kB/s eta 0:00:01\n",
      "   ---------------------------------------- 1.7/1.7 MB 744.2 kB/s eta 0:00:00\n",
      "Installing collected packages: tf-keras\n",
      "Successfully installed tf-keras-2.19.0\n"
     ]
    }
   ],
   "source": [
    "! pip install tf-keras"
   ]
  },
  {
   "cell_type": "code",
   "execution_count": null,
   "id": "3988058e",
   "metadata": {},
   "outputs": [
    {
     "name": "stderr",
     "output_type": "stream",
     "text": [
      "No model was supplied, defaulted to distilbert/distilbert-base-uncased-finetuned-sst-2-english and revision 714eb0f (https://huggingface.co/distilbert/distilbert-base-uncased-finetuned-sst-2-english).\n",
      "Using a pipeline without specifying a model name and revision in production is not recommended.\n"
     ]
    },
    {
     "name": "stdout",
     "output_type": "stream",
     "text": [
      "WARNING:tensorflow:From c:\\Users\\Nagesh Agrawal\\anaconda3\\Lib\\site-packages\\tf_keras\\src\\losses.py:2976: The name tf.losses.sparse_softmax_cross_entropy is deprecated. Please use tf.compat.v1.losses.sparse_softmax_cross_entropy instead.\n",
      "\n"
     ]
    },
    {
     "name": "stderr",
     "output_type": "stream",
     "text": [
      "Xet Storage is enabled for this repo, but the 'hf_xet' package is not installed. Falling back to regular HTTP download. For better performance, install the package with: `pip install huggingface_hub[hf_xet]` or `pip install hf_xet`\n"
     ]
    },
    {
     "data": {
      "application/vnd.jupyter.widget-view+json": {
       "model_id": "65c7d0d75eea4d689880d46a6de80667",
       "version_major": 2,
       "version_minor": 0
      },
      "text/plain": [
       "model.safetensors:   0%|          | 0.00/268M [00:00<?, ?B/s]"
      ]
     },
     "metadata": {},
     "output_type": "display_data"
    },
    {
     "data": {
      "application/vnd.jupyter.widget-view+json": {
       "model_id": "fb2d86370ca14622b56c8c6aeb24310c",
       "version_major": 2,
       "version_minor": 0
      },
      "text/plain": [
       "tokenizer_config.json:   0%|          | 0.00/48.0 [00:00<?, ?B/s]"
      ]
     },
     "metadata": {},
     "output_type": "display_data"
    },
    {
     "data": {
      "application/vnd.jupyter.widget-view+json": {
       "model_id": "3fe9a60f56534c99a926180eaa6fdb9f",
       "version_major": 2,
       "version_minor": 0
      },
      "text/plain": [
       "vocab.txt:   0%|          | 0.00/232k [00:00<?, ?B/s]"
      ]
     },
     "metadata": {},
     "output_type": "display_data"
    },
    {
     "name": "stderr",
     "output_type": "stream",
     "text": [
      "Device set to use cpu\n"
     ]
    },
    {
     "name": "stdout",
     "output_type": "stream",
     "text": [
      "[{'label': 'POSITIVE', 'score': 0.9998797178268433}]\n"
     ]
    }
   ],
   "source": [
    "# 😎 Let's apply Hugging Face's pipeline(\"sentiment-analysis\") (like BERT-based models)\n",
    "from transformers import pipeline\n",
    "\n",
    "classifier = pipeline(\"sentiment-analysis\")\n",
    "result = classifier(\"I am very happy today! 😊\")\n",
    "print(result)  # [{'label': 'POSITIVE', 'score': 0.999}]"
   ]
  },
  {
   "cell_type": "code",
   "execution_count": 74,
   "id": "a5185908",
   "metadata": {},
   "outputs": [
    {
     "data": {
      "application/vnd.microsoft.datawrangler.viewer.v0+json": {
       "columns": [
        {
         "name": "index",
         "rawType": "int64",
         "type": "integer"
        },
        {
         "name": "label",
         "rawType": "object",
         "type": "string"
        },
        {
         "name": "text",
         "rawType": "object",
         "type": "string"
        },
        {
         "name": "TOKENS",
         "rawType": "object",
         "type": "unknown"
        },
        {
         "name": "TOKEN",
         "rawType": "object",
         "type": "unknown"
        },
        {
         "name": "LEMMATIZED",
         "rawType": "object",
         "type": "unknown"
        },
        {
         "name": "STEMMED",
         "rawType": "object",
         "type": "unknown"
        },
        {
         "name": "S_STEMMED",
         "rawType": "object",
         "type": "unknown"
        },
        {
         "name": "detokenized_text",
         "rawType": "object",
         "type": "string"
        },
        {
         "name": "JOIN_TEXT",
         "rawType": "object",
         "type": "string"
        },
        {
         "name": "TEXTBLOB_SENTIMENT_SCORE",
         "rawType": "float64",
         "type": "float"
        },
        {
         "name": "TEXTBLOB_SENTIMENTS",
         "rawType": "object",
         "type": "string"
        },
        {
         "name": "VADER_COMPOUND_SCORE",
         "rawType": "float64",
         "type": "float"
        },
        {
         "name": "VADER_SENTIMENTS",
         "rawType": "object",
         "type": "string"
        },
        {
         "name": "HUGGING_FACE_RESULT",
         "rawType": "object",
         "type": "unknown"
        },
        {
         "name": "HUGGING_FACE_LABEL",
         "rawType": "object",
         "type": "string"
        },
        {
         "name": "CONFIDENCE",
         "rawType": "float64",
         "type": "float"
        },
        {
         "name": "HUGGING_FACE_SENTIMENTS",
         "rawType": "object",
         "type": "string"
        }
       ],
       "ref": "70a55c5f-96fe-45f5-a661-880644766938",
       "rows": [
        [
         "0",
         "__label__2",
         "stuning even for the nongamer this sound track was beautiful it paints the senery in your mind so well i would recomend it even to people who hate vid game music i have played the game chrono cross but out of all of the games i have ever played it has the best music it backs away from crude keyboarding and takes a fresher step with grate guitars and soulful orchestras it would impress anyone who cares to listen ",
         "['stuning', 'even', 'for', 'the', 'nongamer', 'this', 'sound', 'track', 'was', 'beautiful', 'it', 'paints', 'the', 'senery', 'in', 'your', 'mind', 'so', 'well', 'i', 'would', 'recomend', 'it', 'even', 'to', 'people', 'who', 'hate', 'vid', 'game', 'music', 'i', 'have', 'played', 'the', 'game', 'chrono', 'cross', 'but', 'out', 'of', 'all', 'of', 'the', 'games', 'i', 'have', 'ever', 'played', 'it', 'has', 'the', 'best', 'music', 'it', 'backs', 'away', 'from', 'crude', 'keyboarding', 'and', 'takes', 'a', 'fresher', 'step', 'with', 'grate', 'guitars', 'and', 'soulful', 'orchestras', 'it', 'would', 'impress', 'anyone', 'who', 'cares', 'to', 'listen']",
         "['stuning', 'even', 'nongamer', 'sound', 'track', 'beautiful', 'paints', 'senery', 'mind', 'well', 'would', 'recomend', 'even', 'people', 'hate', 'vid', 'game', 'music', 'played', 'game', 'chrono', 'cross', 'games', 'ever', 'played', 'best', 'music', 'backs', 'away', 'crude', 'keyboarding', 'takes', 'fresher', 'step', 'grate', 'guitars', 'soulful', 'orchestras', 'would', 'impress', 'anyone', 'cares', 'listen']",
         "['stuning', 'even', 'nongamer', 'sound', 'track', 'beautiful', 'paint', 'senery', 'mind', 'well', 'would', 'recomend', 'even', 'people', 'hate', 'vid', 'game', 'music', 'played', 'game', 'chrono', 'cross', 'game', 'ever', 'played', 'best', 'music', 'back', 'away', 'crude', 'keyboarding', 'take', 'fresher', 'step', 'grate', 'guitar', 'soulful', 'orchestra', 'would', 'impress', 'anyone', 'care', 'listen']",
         "['stune', 'even', 'nongam', 'sound', 'track', 'beauti', 'paint', 'seneri', 'mind', 'well', 'would', 'recomend', 'even', 'peopl', 'hate', 'vid', 'game', 'music', 'play', 'game', 'chrono', 'cross', 'game', 'ever', 'play', 'best', 'music', 'back', 'away', 'crude', 'keyboard', 'take', 'fresher', 'step', 'grate', 'guitar', 'soul', 'orchestra', 'would', 'impress', 'anyon', 'care', 'listen']",
         "['stune', 'even', 'nongam', 'sound', 'track', 'beauti', 'paint', 'seneri', 'mind', 'well', 'would', 'recomend', 'even', 'peopl', 'hate', 'vid', 'game', 'music', 'play', 'game', 'chrono', 'cross', 'game', 'ever', 'play', 'best', 'music', 'back', 'away', 'crude', 'keyboard', 'take', 'fresher', 'step', 'grate', 'guitar', 'soul', 'orchestra', 'would', 'impress', 'anyon', 'care', 'listen']",
         "stuning even nongamer sound track beautiful paint senery mind well would recomend even people hate vid game music played game chrono cross game ever played best music back away crude keyboarding take fresher step grate guitar soulful orchestra would impress anyone care listen",
         "stuning even nongamer sound track beautiful paint senery mind well would recomend even people hate vid game music played game chrono cross game ever played best music back away crude keyboarding take fresher step grate guitar soulful orchestra would impress anyone care listen.",
         "-0.045000000000000005",
         "Negative 😞",
         "0.9136",
         "Positive 😊",
         "{'label': 'POSITIVE', 'score': 0.6898343563079834}",
         "POSITIVE",
         "0.69",
         "Positive 😊"
        ],
        [
         "1",
         "__label__2",
         "the best soundtrack ever to anything i am reading a lot of reviews saying that this is the best game soundtrack and i figured that id write a review to disagree a bit this in my opinino is yasunori mitsudas ultimate masterpiece the music is timeless and i am been listening to it for years now and its beauty simply refuses to fadethe price tag on this is pretty staggering i must say but if you are going to buy any cd for this much money this is the only one that i feel would be worth every penny",
         "['the', 'best', 'soundtrack', 'ever', 'to', 'anything', 'i', 'am', 'reading', 'a', 'lot', 'of', 'reviews', 'saying', 'that', 'this', 'is', 'the', 'best', 'game', 'soundtrack', 'and', 'i', 'figured', 'that', 'id', 'write', 'a', 'review', 'to', 'disagree', 'a', 'bit', 'this', 'in', 'my', 'opinino', 'is', 'yasunori', 'mitsudas', 'ultimate', 'masterpiece', 'the', 'music', 'is', 'timeless', 'and', 'i', 'am', 'been', 'listening', 'to', 'it', 'for', 'years', 'now', 'and', 'its', 'beauty', 'simply', 'refuses', 'to', 'fadethe', 'price', 'tag', 'on', 'this', 'is', 'pretty', 'staggering', 'i', 'must', 'say', 'but', 'if', 'you', 'are', 'going', 'to', 'buy', 'any', 'cd', 'for', 'this', 'much', 'money', 'this', 'is', 'the', 'only', 'one', 'that', 'i', 'feel', 'would', 'be', 'worth', 'every', 'penny']",
         "['best', 'soundtrack', 'ever', 'anything', 'reading', 'lot', 'reviews', 'saying', 'best', 'game', 'soundtrack', 'figured', 'id', 'write', 'review', 'disagree', 'bit', 'opinino', 'yasunori', 'mitsudas', 'ultimate', 'masterpiece', 'music', 'timeless', 'listening', 'years', 'beauty', 'simply', 'refuses', 'fadethe', 'price', 'tag', 'pretty', 'staggering', 'must', 'say', 'going', 'buy', 'cd', 'much', 'money', 'one', 'feel', 'would', 'worth', 'every', 'penny']",
         "['best', 'soundtrack', 'ever', 'anything', 'reading', 'lot', 'review', 'saying', 'best', 'game', 'soundtrack', 'figured', 'id', 'write', 'review', 'disagree', 'bit', 'opinino', 'yasunori', 'mitsudas', 'ultimate', 'masterpiece', 'music', 'timeless', 'listening', 'year', 'beauty', 'simply', 'refuse', 'fadethe', 'price', 'tag', 'pretty', 'staggering', 'must', 'say', 'going', 'buy', 'cd', 'much', 'money', 'one', 'feel', 'would', 'worth', 'every', 'penny']",
         "['best', 'soundtrack', 'ever', 'anyth', 'read', 'lot', 'review', 'say', 'best', 'game', 'soundtrack', 'figur', 'id', 'write', 'review', 'disagre', 'bit', 'opinino', 'yasunori', 'mitsuda', 'ultim', 'masterpiec', 'music', 'timeless', 'listen', 'year', 'beauti', 'simpli', 'refus', 'fadeth', 'price', 'tag', 'pretti', 'stagger', 'must', 'say', 'go', 'buy', 'cd', 'much', 'money', 'one', 'feel', 'would', 'worth', 'everi', 'penni']",
         "['best', 'soundtrack', 'ever', 'anyth', 'read', 'lot', 'review', 'say', 'best', 'game', 'soundtrack', 'figur', 'id', 'write', 'review', 'disagre', 'bit', 'opinino', 'yasunori', 'mitsuda', 'ultim', 'masterpiec', 'music', 'timeless', 'listen', 'year', 'beauti', 'simpli', 'refus', 'fadeth', 'price', 'tag', 'pretti', 'stagger', 'must', 'say', 'go', 'buy', 'cd', 'much', 'money', 'one', 'feel', 'would', 'worth', 'everi', 'penni']",
         "best soundtrack ever anything reading lot review saying best game soundtrack figured id write review disagree bit opinino yasunori mitsudas ultimate masterpiece music timeless listening year beauty simply refuse fadethe price tag pretty staggering must say going buy cd much money one feel would worth every penny",
         "best soundtrack ever anything reading lot review saying best game soundtrack figured id write review disagree bit opinino yasunori mitsudas ultimate masterpiece music timeless listening year beauty simply refuse fadethe price tag pretty staggering must say going buy cd much money one feel would worth every penny.",
         "0.29375",
         "Positive 😊",
         "0.9559",
         "Positive 😊",
         "{'label': 'POSITIVE', 'score': 0.989570140838623}",
         "POSITIVE",
         "0.99",
         "Positive 😊"
        ],
        [
         "2",
         "__label__2",
         "amazing this soundtrack is my favorite music of all time hands down the intense sadness of prisoners of fate which means all the more if you have played the game and the hope in a distant promise and girl who stole the star have been an important inspiration to me personally throughout my teen years the higher energy tracks like chrono cross  times scar time of the dreamwatch and chronomantique indefinably remeniscent of chrono trigger are all absolutely superb as wellthis soundtrack is amazing music probably the best of this composers work i have not heard the xenogears soundtrack so i cannot say for sure and even if you have never played the game it would be worth twice the price to buy iti wish i could give it  stars",
         "['amazing', 'this', 'soundtrack', 'is', 'my', 'favorite', 'music', 'of', 'all', 'time', 'hands', 'down', 'the', 'intense', 'sadness', 'of', 'prisoners', 'of', 'fate', 'which', 'means', 'all', 'the', 'more', 'if', 'you', 'have', 'played', 'the', 'game', 'and', 'the', 'hope', 'in', 'a', 'distant', 'promise', 'and', 'girl', 'who', 'stole', 'the', 'star', 'have', 'been', 'an', 'important', 'inspiration', 'to', 'me', 'personally', 'throughout', 'my', 'teen', 'years', 'the', 'higher', 'energy', 'tracks', 'like', 'chrono', 'cross', 'times', 'scar', 'time', 'of', 'the', 'dreamwatch', 'and', 'chronomantique', 'indefinably', 'remeniscent', 'of', 'chrono', 'trigger', 'are', 'all', 'absolutely', 'superb', 'as', 'wellthis', 'soundtrack', 'is', 'amazing', 'music', 'probably', 'the', 'best', 'of', 'this', 'composers', 'work', 'i', 'have', 'not', 'heard', 'the', 'xenogears', 'soundtrack', 'so', 'i', 'can', 'not', 'say', 'for', 'sure', 'and', 'even', 'if', 'you', 'have', 'never', 'played', 'the', 'game', 'it', 'would', 'be', 'worth', 'twice', 'the', 'price', 'to', 'buy', 'iti', 'wish', 'i', 'could', 'give', 'it', 'stars']",
         "['amazing', 'soundtrack', 'favorite', 'music', 'time', 'hands', 'intense', 'sadness', 'prisoners', 'fate', 'means', 'played', 'game', 'hope', 'distant', 'promise', 'girl', 'stole', 'star', 'important', 'inspiration', 'personally', 'throughout', 'teen', 'years', 'higher', 'energy', 'tracks', 'like', 'chrono', 'cross', 'times', 'scar', 'time', 'dreamwatch', 'chronomantique', 'indefinably', 'remeniscent', 'chrono', 'trigger', 'absolutely', 'superb', 'wellthis', 'soundtrack', 'amazing', 'music', 'probably', 'best', 'composers', 'work', 'heard', 'xenogears', 'soundtrack', 'say', 'sure', 'even', 'never', 'played', 'game', 'would', 'worth', 'twice', 'price', 'buy', 'iti', 'wish', 'could', 'give', 'stars']",
         "['amazing', 'soundtrack', 'favorite', 'music', 'time', 'hand', 'intense', 'sadness', 'prisoner', 'fate', 'mean', 'played', 'game', 'hope', 'distant', 'promise', 'girl', 'stole', 'star', 'important', 'inspiration', 'personally', 'throughout', 'teen', 'year', 'higher', 'energy', 'track', 'like', 'chrono', 'cross', 'time', 'scar', 'time', 'dreamwatch', 'chronomantique', 'indefinably', 'remeniscent', 'chrono', 'trigger', 'absolutely', 'superb', 'wellthis', 'soundtrack', 'amazing', 'music', 'probably', 'best', 'composer', 'work', 'heard', 'xenogears', 'soundtrack', 'say', 'sure', 'even', 'never', 'played', 'game', 'would', 'worth', 'twice', 'price', 'buy', 'iti', 'wish', 'could', 'give', 'star']",
         "['amaz', 'soundtrack', 'favorit', 'music', 'time', 'hand', 'intens', 'sad', 'prison', 'fate', 'mean', 'play', 'game', 'hope', 'distant', 'promis', 'girl', 'stole', 'star', 'import', 'inspir', 'person', 'throughout', 'teen', 'year', 'higher', 'energi', 'track', 'like', 'chrono', 'cross', 'time', 'scar', 'time', 'dreamwatch', 'chronomantiqu', 'indefin', 'remenisc', 'chrono', 'trigger', 'absolut', 'superb', 'wellthi', 'soundtrack', 'amaz', 'music', 'probabl', 'best', 'compos', 'work', 'heard', 'xenogear', 'soundtrack', 'say', 'sure', 'even', 'never', 'play', 'game', 'would', 'worth', 'twice', 'price', 'buy', 'iti', 'wish', 'could', 'give', 'star']",
         "['amaz', 'soundtrack', 'favorit', 'music', 'time', 'hand', 'intens', 'sad', 'prison', 'fate', 'mean', 'play', 'game', 'hope', 'distant', 'promis', 'girl', 'stole', 'star', 'import', 'inspir', 'person', 'throughout', 'teen', 'year', 'higher', 'energi', 'track', 'like', 'chrono', 'cross', 'time', 'scar', 'time', 'dreamwatch', 'chronomantiqu', 'indefin', 'remenisc', 'chrono', 'trigger', 'absolut', 'superb', 'wellthi', 'soundtrack', 'amaz', 'music', 'probabl', 'best', 'compos', 'work', 'heard', 'xenogear', 'soundtrack', 'say', 'sure', 'even', 'never', 'play', 'game', 'would', 'worth', 'twice', 'price', 'buy', 'iti', 'wish', 'could', 'give', 'star']",
         "amazing soundtrack favorite music time hand intense sadness prisoner fate mean played game hope distant promise girl stole star important inspiration personally throughout teen year higher energy track like chrono cross time scar time dreamwatch chronomantique indefinably remeniscent chrono trigger absolutely superb wellthis soundtrack amazing music probably best composer work heard xenogears soundtrack say sure even never played game would worth twice price buy iti wish could give star",
         "amazing soundtrack favorite music time hand intense sadness prisoner fate mean played game hope distant promise girl stole star important inspiration personally throughout teen year higher energy track like chrono cross time scar time dreamwatch chronomantique indefinably remeniscent chrono trigger absolutely superb wellthis soundtrack amazing music probably best composer work heard xenogears soundtrack say sure even never played game would worth twice price buy iti wish could give star.",
         "0.24338235294117652",
         "Positive 😊",
         "0.9887",
         "Positive 😊",
         "{'label': 'POSITIVE', 'score': 0.99959796667099}",
         "POSITIVE",
         "1.0",
         "Positive 😊"
        ],
        [
         "3",
         "__label__2",
         "excellent soundtrack i truly like this soundtrack and i enjoy video game music i have played this game and most of the music on here i enjoy and its truly relaxing and peacefulon disk one my favorites are scars of time between life and death forest of illusion fortress of ancient dragons lost fragment and drowned valleydisk two the draggons galdorb  home chronomantique prisoners of fate gale and my girlfriend likes zelbessdisk three the best of the three garden of god chronopolis fates jellyfish sea burning orphange dragons prayer tower of stars dragon god and radical dreamers  unstealable jeweloverall this is a excellent soundtrack and should be brought by those that like video game musicxander cross",
         "['excellent', 'soundtrack', 'i', 'truly', 'like', 'this', 'soundtrack', 'and', 'i', 'enjoy', 'video', 'game', 'music', 'i', 'have', 'played', 'this', 'game', 'and', 'most', 'of', 'the', 'music', 'on', 'here', 'i', 'enjoy', 'and', 'its', 'truly', 'relaxing', 'and', 'peacefulon', 'disk', 'one', 'my', 'favorites', 'are', 'scars', 'of', 'time', 'between', 'life', 'and', 'death', 'forest', 'of', 'illusion', 'fortress', 'of', 'ancient', 'dragons', 'lost', 'fragment', 'and', 'drowned', 'valleydisk', 'two', 'the', 'draggons', 'galdorb', 'home', 'chronomantique', 'prisoners', 'of', 'fate', 'gale', 'and', 'my', 'girlfriend', 'likes', 'zelbessdisk', 'three', 'the', 'best', 'of', 'the', 'three', 'garden', 'of', 'god', 'chronopolis', 'fates', 'jellyfish', 'sea', 'burning', 'orphange', 'dragons', 'prayer', 'tower', 'of', 'stars', 'dragon', 'god', 'and', 'radical', 'dreamers', 'unstealable', 'jeweloverall', 'this', 'is', 'a', 'excellent', 'soundtrack', 'and', 'should', 'be', 'brought', 'by', 'those', 'that', 'like', 'video', 'game', 'musicxander', 'cross']",
         "['excellent', 'soundtrack', 'truly', 'like', 'soundtrack', 'enjoy', 'video', 'game', 'music', 'played', 'game', 'music', 'enjoy', 'truly', 'relaxing', 'peacefulon', 'disk', 'one', 'favorites', 'scars', 'time', 'life', 'death', 'forest', 'illusion', 'fortress', 'ancient', 'dragons', 'lost', 'fragment', 'drowned', 'valleydisk', 'two', 'draggons', 'galdorb', 'home', 'chronomantique', 'prisoners', 'fate', 'gale', 'girlfriend', 'likes', 'zelbessdisk', 'three', 'best', 'three', 'garden', 'god', 'chronopolis', 'fates', 'jellyfish', 'sea', 'burning', 'orphange', 'dragons', 'prayer', 'tower', 'stars', 'dragon', 'god', 'radical', 'dreamers', 'unstealable', 'jeweloverall', 'excellent', 'soundtrack', 'brought', 'like', 'video', 'game', 'musicxander', 'cross']",
         "['excellent', 'soundtrack', 'truly', 'like', 'soundtrack', 'enjoy', 'video', 'game', 'music', 'played', 'game', 'music', 'enjoy', 'truly', 'relaxing', 'peacefulon', 'disk', 'one', 'favorite', 'scar', 'time', 'life', 'death', 'forest', 'illusion', 'fortress', 'ancient', 'dragon', 'lost', 'fragment', 'drowned', 'valleydisk', 'two', 'draggons', 'galdorb', 'home', 'chronomantique', 'prisoner', 'fate', 'gale', 'girlfriend', 'like', 'zelbessdisk', 'three', 'best', 'three', 'garden', 'god', 'chronopolis', 'fate', 'jellyfish', 'sea', 'burning', 'orphange', 'dragon', 'prayer', 'tower', 'star', 'dragon', 'god', 'radical', 'dreamer', 'unstealable', 'jeweloverall', 'excellent', 'soundtrack', 'brought', 'like', 'video', 'game', 'musicxander', 'cross']",
         "['excel', 'soundtrack', 'truli', 'like', 'soundtrack', 'enjoy', 'video', 'game', 'music', 'play', 'game', 'music', 'enjoy', 'truli', 'relax', 'peacefulon', 'disk', 'one', 'favorit', 'scar', 'time', 'life', 'death', 'forest', 'illus', 'fortress', 'ancient', 'dragon', 'lost', 'fragment', 'drown', 'valleydisk', 'two', 'draggon', 'galdorb', 'home', 'chronomantiqu', 'prison', 'fate', 'gale', 'girlfriend', 'like', 'zelbessdisk', 'three', 'best', 'three', 'garden', 'god', 'chronopoli', 'fate', 'jellyfish', 'sea', 'burn', 'orphang', 'dragon', 'prayer', 'tower', 'star', 'dragon', 'god', 'radic', 'dreamer', 'unsteal', 'jeweloveral', 'excel', 'soundtrack', 'brought', 'like', 'video', 'game', 'musicxand', 'cross']",
         "['excel', 'soundtrack', 'truli', 'like', 'soundtrack', 'enjoy', 'video', 'game', 'music', 'play', 'game', 'music', 'enjoy', 'truli', 'relax', 'peacefulon', 'disk', 'one', 'favorit', 'scar', 'time', 'life', 'death', 'forest', 'illus', 'fortress', 'ancient', 'dragon', 'lost', 'fragment', 'drown', 'valleydisk', 'two', 'draggon', 'galdorb', 'home', 'chronomantiqu', 'prison', 'fate', 'gale', 'girlfriend', 'like', 'zelbessdisk', 'three', 'best', 'three', 'garden', 'god', 'chronopoli', 'fate', 'jellyfish', 'sea', 'burn', 'orphang', 'dragon', 'prayer', 'tower', 'star', 'dragon', 'god', 'radic', 'dreamer', 'unsteal', 'jeweloveral', 'excel', 'soundtrack', 'brought', 'like', 'video', 'game', 'musicxand', 'cross']",
         "excellent soundtrack truly like soundtrack enjoy video game music played game music enjoy truly relaxing peacefulon disk one favorite scar time life death forest illusion fortress ancient dragon lost fragment drowned valleydisk two draggons galdorb home chronomantique prisoner fate gale girlfriend like zelbessdisk three best three garden god chronopolis fate jellyfish sea burning orphange dragon prayer tower star dragon god radical dreamer unstealable jeweloverall excellent soundtrack brought like video game musicxander cross",
         "excellent soundtrack truly like soundtrack enjoy video game music played game music enjoy truly relaxing peacefulon disk one favorite scar time life death forest illusion fortress ancient dragon lost fragment drowned valleydisk two draggons galdorb home chronomantique prisoner fate gale girlfriend like zelbessdisk three best three garden god chronopolis fate jellyfish sea burning orphange dragon prayer tower star dragon god radical dreamer unstealable jeweloverall excellent soundtrack brought like video game musicxander cross.",
         "0.2727272727272727",
         "Positive 😊",
         "0.9808",
         "Positive 😊",
         "{'label': 'POSITIVE', 'score': 0.9985697269439697}",
         "POSITIVE",
         "0.999",
         "Positive 😊"
        ],
        [
         "4",
         "__label__2",
         "remember pull your jaw off the floor after hearing it if you have played the game you know how divine the music is every single song tells a story of the game its that good the greatest songs are without a doubt chrono cross times scar magical dreamers the wind the stars and the sea and radical dreamers unstolen jewel translation varies this music is perfect if you ask me the best it can be yasunori mitsuda just poured his heart on and wrote it down on paper",
         "['remember', 'pull', 'your', 'jaw', 'off', 'the', 'floor', 'after', 'hearing', 'it', 'if', 'you', 'have', 'played', 'the', 'game', 'you', 'know', 'how', 'divine', 'the', 'music', 'is', 'every', 'single', 'song', 'tells', 'a', 'story', 'of', 'the', 'game', 'its', 'that', 'good', 'the', 'greatest', 'songs', 'are', 'without', 'a', 'doubt', 'chrono', 'cross', 'times', 'scar', 'magical', 'dreamers', 'the', 'wind', 'the', 'stars', 'and', 'the', 'sea', 'and', 'radical', 'dreamers', 'unstolen', 'jewel', 'translation', 'varies', 'this', 'music', 'is', 'perfect', 'if', 'you', 'ask', 'me', 'the', 'best', 'it', 'can', 'be', 'yasunori', 'mitsuda', 'just', 'poured', 'his', 'heart', 'on', 'and', 'wrote', 'it', 'down', 'on', 'paper']",
         "['remember', 'pull', 'jaw', 'floor', 'hearing', 'played', 'game', 'know', 'divine', 'music', 'every', 'single', 'song', 'tells', 'story', 'game', 'good', 'greatest', 'songs', 'without', 'doubt', 'chrono', 'cross', 'times', 'scar', 'magical', 'dreamers', 'wind', 'stars', 'sea', 'radical', 'dreamers', 'unstolen', 'jewel', 'translation', 'varies', 'music', 'perfect', 'ask', 'best', 'yasunori', 'mitsuda', 'poured', 'heart', 'wrote', 'paper']",
         "['remember', 'pull', 'jaw', 'floor', 'hearing', 'played', 'game', 'know', 'divine', 'music', 'every', 'single', 'song', 'tell', 'story', 'game', 'good', 'greatest', 'song', 'without', 'doubt', 'chrono', 'cross', 'time', 'scar', 'magical', 'dreamer', 'wind', 'star', 'sea', 'radical', 'dreamer', 'unstolen', 'jewel', 'translation', 'varies', 'music', 'perfect', 'ask', 'best', 'yasunori', 'mitsuda', 'poured', 'heart', 'wrote', 'paper']",
         "['rememb', 'pull', 'jaw', 'floor', 'hear', 'play', 'game', 'know', 'divin', 'music', 'everi', 'singl', 'song', 'tell', 'stori', 'game', 'good', 'greatest', 'song', 'without', 'doubt', 'chrono', 'cross', 'time', 'scar', 'magic', 'dreamer', 'wind', 'star', 'sea', 'radic', 'dreamer', 'unstolen', 'jewel', 'translat', 'vari', 'music', 'perfect', 'ask', 'best', 'yasunori', 'mitsuda', 'pour', 'heart', 'wrote', 'paper']",
         "['rememb', 'pull', 'jaw', 'floor', 'hear', 'play', 'game', 'know', 'divin', 'music', 'everi', 'singl', 'song', 'tell', 'stori', 'game', 'good', 'greatest', 'song', 'without', 'doubt', 'chrono', 'cross', 'time', 'scar', 'magic', 'dreamer', 'wind', 'star', 'sea', 'radic', 'dreamer', 'unstolen', 'jewel', 'translat', 'vari', 'music', 'perfect', 'ask', 'best', 'yasunori', 'mitsuda', 'pour', 'heart', 'wrote', 'paper']",
         "remember pull jaw floor hearing played game know divine music every single song tell story game good greatest song without doubt chrono cross time scar magical dreamer wind star sea radical dreamer unstolen jewel translation varies music perfect ask best yasunori mitsuda poured heart wrote paper",
         "remember pull jaw floor hearing played game know divine music every single song tell story game good greatest song without doubt chrono cross time scar magical dreamer wind star sea radical dreamer unstolen jewel translation varies music perfect ask best yasunori mitsuda poured heart wrote paper.",
         "0.3698412698412698",
         "Positive 😊",
         "0.9831",
         "Positive 😊",
         "{'label': 'POSITIVE', 'score': 0.9981192946434021}",
         "POSITIVE",
         "0.998",
         "Positive 😊"
        ]
       ],
       "shape": {
        "columns": 17,
        "rows": 5
       }
      },
      "text/html": [
       "<div>\n",
       "<style scoped>\n",
       "    .dataframe tbody tr th:only-of-type {\n",
       "        vertical-align: middle;\n",
       "    }\n",
       "\n",
       "    .dataframe tbody tr th {\n",
       "        vertical-align: top;\n",
       "    }\n",
       "\n",
       "    .dataframe thead th {\n",
       "        text-align: right;\n",
       "    }\n",
       "</style>\n",
       "<table border=\"1\" class=\"dataframe\">\n",
       "  <thead>\n",
       "    <tr style=\"text-align: right;\">\n",
       "      <th></th>\n",
       "      <th>label</th>\n",
       "      <th>text</th>\n",
       "      <th>TOKENS</th>\n",
       "      <th>TOKEN</th>\n",
       "      <th>LEMMATIZED</th>\n",
       "      <th>STEMMED</th>\n",
       "      <th>S_STEMMED</th>\n",
       "      <th>detokenized_text</th>\n",
       "      <th>JOIN_TEXT</th>\n",
       "      <th>TEXTBLOB_SENTIMENT_SCORE</th>\n",
       "      <th>TEXTBLOB_SENTIMENTS</th>\n",
       "      <th>VADER_COMPOUND_SCORE</th>\n",
       "      <th>VADER_SENTIMENTS</th>\n",
       "      <th>HUGGING_FACE_RESULT</th>\n",
       "      <th>HUGGING_FACE_LABEL</th>\n",
       "      <th>CONFIDENCE</th>\n",
       "      <th>HUGGING_FACE_SENTIMENTS</th>\n",
       "    </tr>\n",
       "  </thead>\n",
       "  <tbody>\n",
       "    <tr>\n",
       "      <th>0</th>\n",
       "      <td>__label__2</td>\n",
       "      <td>stuning even for the nongamer this sound track...</td>\n",
       "      <td>[stuning, even, for, the, nongamer, this, soun...</td>\n",
       "      <td>[stuning, even, nongamer, sound, track, beauti...</td>\n",
       "      <td>[stuning, even, nongamer, sound, track, beauti...</td>\n",
       "      <td>[stune, even, nongam, sound, track, beauti, pa...</td>\n",
       "      <td>[stune, even, nongam, sound, track, beauti, pa...</td>\n",
       "      <td>stuning even nongamer sound track beautiful pa...</td>\n",
       "      <td>stuning even nongamer sound track beautiful pa...</td>\n",
       "      <td>-0.045000</td>\n",
       "      <td>Negative 😞</td>\n",
       "      <td>0.9136</td>\n",
       "      <td>Positive 😊</td>\n",
       "      <td>{'label': 'POSITIVE', 'score': 0.6898343563079...</td>\n",
       "      <td>POSITIVE</td>\n",
       "      <td>0.690</td>\n",
       "      <td>Positive 😊</td>\n",
       "    </tr>\n",
       "    <tr>\n",
       "      <th>1</th>\n",
       "      <td>__label__2</td>\n",
       "      <td>the best soundtrack ever to anything i am read...</td>\n",
       "      <td>[the, best, soundtrack, ever, to, anything, i,...</td>\n",
       "      <td>[best, soundtrack, ever, anything, reading, lo...</td>\n",
       "      <td>[best, soundtrack, ever, anything, reading, lo...</td>\n",
       "      <td>[best, soundtrack, ever, anyth, read, lot, rev...</td>\n",
       "      <td>[best, soundtrack, ever, anyth, read, lot, rev...</td>\n",
       "      <td>best soundtrack ever anything reading lot revi...</td>\n",
       "      <td>best soundtrack ever anything reading lot revi...</td>\n",
       "      <td>0.293750</td>\n",
       "      <td>Positive 😊</td>\n",
       "      <td>0.9559</td>\n",
       "      <td>Positive 😊</td>\n",
       "      <td>{'label': 'POSITIVE', 'score': 0.989570140838623}</td>\n",
       "      <td>POSITIVE</td>\n",
       "      <td>0.990</td>\n",
       "      <td>Positive 😊</td>\n",
       "    </tr>\n",
       "    <tr>\n",
       "      <th>2</th>\n",
       "      <td>__label__2</td>\n",
       "      <td>amazing this soundtrack is my favorite music o...</td>\n",
       "      <td>[amazing, this, soundtrack, is, my, favorite, ...</td>\n",
       "      <td>[amazing, soundtrack, favorite, music, time, h...</td>\n",
       "      <td>[amazing, soundtrack, favorite, music, time, h...</td>\n",
       "      <td>[amaz, soundtrack, favorit, music, time, hand,...</td>\n",
       "      <td>[amaz, soundtrack, favorit, music, time, hand,...</td>\n",
       "      <td>amazing soundtrack favorite music time hand in...</td>\n",
       "      <td>amazing soundtrack favorite music time hand in...</td>\n",
       "      <td>0.243382</td>\n",
       "      <td>Positive 😊</td>\n",
       "      <td>0.9887</td>\n",
       "      <td>Positive 😊</td>\n",
       "      <td>{'label': 'POSITIVE', 'score': 0.99959796667099}</td>\n",
       "      <td>POSITIVE</td>\n",
       "      <td>1.000</td>\n",
       "      <td>Positive 😊</td>\n",
       "    </tr>\n",
       "    <tr>\n",
       "      <th>3</th>\n",
       "      <td>__label__2</td>\n",
       "      <td>excellent soundtrack i truly like this soundtr...</td>\n",
       "      <td>[excellent, soundtrack, i, truly, like, this, ...</td>\n",
       "      <td>[excellent, soundtrack, truly, like, soundtrac...</td>\n",
       "      <td>[excellent, soundtrack, truly, like, soundtrac...</td>\n",
       "      <td>[excel, soundtrack, truli, like, soundtrack, e...</td>\n",
       "      <td>[excel, soundtrack, truli, like, soundtrack, e...</td>\n",
       "      <td>excellent soundtrack truly like soundtrack enj...</td>\n",
       "      <td>excellent soundtrack truly like soundtrack enj...</td>\n",
       "      <td>0.272727</td>\n",
       "      <td>Positive 😊</td>\n",
       "      <td>0.9808</td>\n",
       "      <td>Positive 😊</td>\n",
       "      <td>{'label': 'POSITIVE', 'score': 0.9985697269439...</td>\n",
       "      <td>POSITIVE</td>\n",
       "      <td>0.999</td>\n",
       "      <td>Positive 😊</td>\n",
       "    </tr>\n",
       "    <tr>\n",
       "      <th>4</th>\n",
       "      <td>__label__2</td>\n",
       "      <td>remember pull your jaw off the floor after hea...</td>\n",
       "      <td>[remember, pull, your, jaw, off, the, floor, a...</td>\n",
       "      <td>[remember, pull, jaw, floor, hearing, played, ...</td>\n",
       "      <td>[remember, pull, jaw, floor, hearing, played, ...</td>\n",
       "      <td>[rememb, pull, jaw, floor, hear, play, game, k...</td>\n",
       "      <td>[rememb, pull, jaw, floor, hear, play, game, k...</td>\n",
       "      <td>remember pull jaw floor hearing played game kn...</td>\n",
       "      <td>remember pull jaw floor hearing played game kn...</td>\n",
       "      <td>0.369841</td>\n",
       "      <td>Positive 😊</td>\n",
       "      <td>0.9831</td>\n",
       "      <td>Positive 😊</td>\n",
       "      <td>{'label': 'POSITIVE', 'score': 0.9981192946434...</td>\n",
       "      <td>POSITIVE</td>\n",
       "      <td>0.998</td>\n",
       "      <td>Positive 😊</td>\n",
       "    </tr>\n",
       "  </tbody>\n",
       "</table>\n",
       "</div>"
      ],
      "text/plain": [
       "        label                                               text  \\\n",
       "0  __label__2  stuning even for the nongamer this sound track...   \n",
       "1  __label__2  the best soundtrack ever to anything i am read...   \n",
       "2  __label__2  amazing this soundtrack is my favorite music o...   \n",
       "3  __label__2  excellent soundtrack i truly like this soundtr...   \n",
       "4  __label__2  remember pull your jaw off the floor after hea...   \n",
       "\n",
       "                                              TOKENS  \\\n",
       "0  [stuning, even, for, the, nongamer, this, soun...   \n",
       "1  [the, best, soundtrack, ever, to, anything, i,...   \n",
       "2  [amazing, this, soundtrack, is, my, favorite, ...   \n",
       "3  [excellent, soundtrack, i, truly, like, this, ...   \n",
       "4  [remember, pull, your, jaw, off, the, floor, a...   \n",
       "\n",
       "                                               TOKEN  \\\n",
       "0  [stuning, even, nongamer, sound, track, beauti...   \n",
       "1  [best, soundtrack, ever, anything, reading, lo...   \n",
       "2  [amazing, soundtrack, favorite, music, time, h...   \n",
       "3  [excellent, soundtrack, truly, like, soundtrac...   \n",
       "4  [remember, pull, jaw, floor, hearing, played, ...   \n",
       "\n",
       "                                          LEMMATIZED  \\\n",
       "0  [stuning, even, nongamer, sound, track, beauti...   \n",
       "1  [best, soundtrack, ever, anything, reading, lo...   \n",
       "2  [amazing, soundtrack, favorite, music, time, h...   \n",
       "3  [excellent, soundtrack, truly, like, soundtrac...   \n",
       "4  [remember, pull, jaw, floor, hearing, played, ...   \n",
       "\n",
       "                                             STEMMED  \\\n",
       "0  [stune, even, nongam, sound, track, beauti, pa...   \n",
       "1  [best, soundtrack, ever, anyth, read, lot, rev...   \n",
       "2  [amaz, soundtrack, favorit, music, time, hand,...   \n",
       "3  [excel, soundtrack, truli, like, soundtrack, e...   \n",
       "4  [rememb, pull, jaw, floor, hear, play, game, k...   \n",
       "\n",
       "                                           S_STEMMED  \\\n",
       "0  [stune, even, nongam, sound, track, beauti, pa...   \n",
       "1  [best, soundtrack, ever, anyth, read, lot, rev...   \n",
       "2  [amaz, soundtrack, favorit, music, time, hand,...   \n",
       "3  [excel, soundtrack, truli, like, soundtrack, e...   \n",
       "4  [rememb, pull, jaw, floor, hear, play, game, k...   \n",
       "\n",
       "                                    detokenized_text  \\\n",
       "0  stuning even nongamer sound track beautiful pa...   \n",
       "1  best soundtrack ever anything reading lot revi...   \n",
       "2  amazing soundtrack favorite music time hand in...   \n",
       "3  excellent soundtrack truly like soundtrack enj...   \n",
       "4  remember pull jaw floor hearing played game kn...   \n",
       "\n",
       "                                           JOIN_TEXT  \\\n",
       "0  stuning even nongamer sound track beautiful pa...   \n",
       "1  best soundtrack ever anything reading lot revi...   \n",
       "2  amazing soundtrack favorite music time hand in...   \n",
       "3  excellent soundtrack truly like soundtrack enj...   \n",
       "4  remember pull jaw floor hearing played game kn...   \n",
       "\n",
       "   TEXTBLOB_SENTIMENT_SCORE TEXTBLOB_SENTIMENTS  VADER_COMPOUND_SCORE  \\\n",
       "0                 -0.045000          Negative 😞                0.9136   \n",
       "1                  0.293750          Positive 😊                0.9559   \n",
       "2                  0.243382          Positive 😊                0.9887   \n",
       "3                  0.272727          Positive 😊                0.9808   \n",
       "4                  0.369841          Positive 😊                0.9831   \n",
       "\n",
       "  VADER_SENTIMENTS                                HUGGING_FACE_RESULT  \\\n",
       "0       Positive 😊  {'label': 'POSITIVE', 'score': 0.6898343563079...   \n",
       "1       Positive 😊  {'label': 'POSITIVE', 'score': 0.989570140838623}   \n",
       "2       Positive 😊   {'label': 'POSITIVE', 'score': 0.99959796667099}   \n",
       "3       Positive 😊  {'label': 'POSITIVE', 'score': 0.9985697269439...   \n",
       "4       Positive 😊  {'label': 'POSITIVE', 'score': 0.9981192946434...   \n",
       "\n",
       "  HUGGING_FACE_LABEL  CONFIDENCE HUGGING_FACE_SENTIMENTS  \n",
       "0           POSITIVE       0.690              Positive 😊  \n",
       "1           POSITIVE       0.990              Positive 😊  \n",
       "2           POSITIVE       1.000              Positive 😊  \n",
       "3           POSITIVE       0.999              Positive 😊  \n",
       "4           POSITIVE       0.998              Positive 😊  "
      ]
     },
     "execution_count": 74,
     "metadata": {},
     "output_type": "execute_result"
    }
   ],
   "source": [
    "# 🧠  Apply the classifier to each detokenized_text\n",
    "DATA[\"HUGGING_FACE_RESULT\"] = DATA[\"detokenized_text\"].apply(lambda x: classifier(x)[0])  # Each result is a dictionary\n",
    "\n",
    "# 🔍 Step 5: Extract label and score from the result\n",
    "DATA[\"HUGGING_FACE_LABEL\"] = DATA[\"HUGGING_FACE_RESULT\"].apply(lambda x: x['label'])\n",
    "DATA[\"CONFIDENCE\"] = DATA[\"HUGGING_FACE_RESULT\"].apply(lambda x: round(x['score'], 3))\n",
    "\n",
    "# 🌈 Step 6: Add emojis to labels\n",
    "def decorate(label):\n",
    "    if label == \"POSITIVE\":\n",
    "        return \"Positive 😊\"\n",
    "    elif label == \"NEGATIVE\":\n",
    "        return \"Negative 😞\"\n",
    "    else:\n",
    "        return \"Neutral 😐\"\n",
    "\n",
    "DATA[\"HUGGING_FACE_SENTIMENTS\"] = DATA[\"HUGGING_FACE_LABEL\"].apply(decorate)\n",
    "\n",
    "DATA.head()\n"
   ]
  },
  {
   "cell_type": "markdown",
   "id": "c6f3abcc",
   "metadata": {},
   "source": [
    "\n",
    "---\n",
    "\n",
    "# Jab aapke paas **koi labeled data nahi ho** 😟\n",
    "\n",
    "## 1. **Manual Labeling / Annotation**\n",
    "\n",
    "* Insaan khud sentences ko label karta hai.\n",
    "* Time-consuming, par best quality.\n",
    "\n"
   ]
  },
  {
   "cell_type": "markdown",
   "id": "753b142a",
   "metadata": {},
   "source": [
    "## 2. **Unsupervised or Semi-Supervised Methods**\n",
    "\n",
    "* Labeled data na ho to ye algorithms patterns se seekhte hain.\n",
    "* Clustering, lexicons use kar sakte hain.\n",
    "\n"
   ]
  },
  {
   "cell_type": "markdown",
   "id": "23a6b5b9",
   "metadata": {},
   "source": [
    "## 3. **Weak Supervision / Distant Supervision**\n",
    "\n",
    "* Indirect signals se labels generate karna (jaise hashtags, emojis).\n",
    "* Example: Tweet mein \"😊\" ho to positive label.\n",
    "\n"
   ]
  },
  {
   "cell_type": "markdown",
   "id": "975b7147",
   "metadata": {},
   "source": [
    "## 4. **Transfer Learning with Pretrained Models (BERT)**\n",
    "\n",
    "* Pehle se trained model le kar apne data pe thoda train karo.\n",
    "* Kam labeled data mein bhi kaam karta hai.\n",
    "\n"
   ]
  },
  {
   "cell_type": "markdown",
   "id": "cc31b665",
   "metadata": {},
   "source": [
    "## 5. **Rule-Based Sentiment Labeling (Lexicon Approach)**\n",
    "\n",
    "* Shabdon ki ek list hoti hai jisme unka sentiment score hota hai.\n",
    "* Text ke shabdon ke scores jod ke overall sentiment nikalta hai.\n",
    "\n"
   ]
  },
  {
   "cell_type": "markdown",
   "id": "0e1ac359",
   "metadata": {},
   "source": [
    "\n",
    "---\n",
    "\n",
    "# **Rule-Based Sentiment Assignment Using Word Lists Example:**\n",
    "\n",
    "Suppose hamare paas word list:\n",
    "\n",
    "```python\n",
    "lexicon = {\n",
    "    \"good\": 1,\n",
    "    \"happy\": 2,\n",
    "    \"bad\": -2,\n",
    "    \"sad\": -1,\n",
    "    \"amazing\": 3,\n",
    "    \"boring\": -2\n",
    "}\n",
    "```\n",
    "\n",
    "**Python code:**\n",
    "\n",
    "```python\n",
    "def rule_based_sentiment(text, lexicon):\n",
    "    words = text.lower().split()\n",
    "    score = 0\n",
    "    for w in words:\n",
    "        if w in lexicon:\n",
    "            score += lexicon[w]\n",
    "    if score > 0:\n",
    "        return \"Positive 😊\"\n",
    "    elif score < 0:\n",
    "        return \"Negative 😞\"\n",
    "    else:\n",
    "        return \"Neutral 😐\"\n",
    "\n",
    "text = \"This product is amazing but a bit boring\"\n",
    "print(rule_based_sentiment(text, lexicon))\n",
    "```\n",
    "\n"
   ]
  }
 ],
 "metadata": {
  "kernelspec": {
   "display_name": "base",
   "language": "python",
   "name": "python3"
  },
  "language_info": {
   "codemirror_mode": {
    "name": "ipython",
    "version": 3
   },
   "file_extension": ".py",
   "mimetype": "text/x-python",
   "name": "python",
   "nbconvert_exporter": "python",
   "pygments_lexer": "ipython3",
   "version": "3.12.7"
  }
 },
 "nbformat": 4,
 "nbformat_minor": 5
}
