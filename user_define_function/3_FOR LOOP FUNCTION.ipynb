{
 "cells": [
  {
   "cell_type": "markdown",
   "id": "c1289102",
   "metadata": {},
   "source": [
    "# ➿♾️ FOR LOOP FUNCTION\n",
    "\n",
    "### 🔁✨ **Definition of a `for` Loop in Python** ✨🔁\n",
    "\n",
    "📝 **A for loop in Python is used to iterate over a sequence (like a list, tuple, or string) and execute a block of code multiple times, once for each item in the sequence.**\n",
    "\n",
    "---\n",
    "\n",
    "#### 💡 **What It Does:**\n",
    "\n",
    "It lets you **loop through** sequences like:\n",
    "\n",
    "* Lists 🍽️\n",
    "* Tuples 🔗\n",
    "* Strings 🧩\n",
    "\n",
    "And it does the work **for you** — running your code once for **each item**! 🚀\n",
    "\n",
    "---\n",
    "\n",
    "### 🔑 **Syntax Magic:**\n",
    "\n",
    "```python\n",
    "for item in sequence:\n",
    "    # Execute the code for each item!\n",
    "```\n",
    "\n",
    "---\n",
    "\n",
    "### 🎯 **Example:**\n",
    "\n",
    "```python\n",
    "for number in [1, 2, 3, 4]:\n",
    "    print(number)\n",
    "```\n",
    "\n",
    "This will print:\n",
    "`1`,\n",
    "`2`,\n",
    "`3`,\n",
    "`4`\n",
    "\n",
    "---\n",
    "\n",
    "\n"
   ]
  },
  {
   "cell_type": "markdown",
   "id": "f87d7b41",
   "metadata": {},
   "source": [
    "##### VERTICALLY PRINTING(SR.NO) IN COLUMN."
   ]
  },
  {
   "cell_type": "code",
   "execution_count": 1,
   "id": "c1ff8baf",
   "metadata": {},
   "outputs": [
    {
     "name": "stdout",
     "output_type": "stream",
     "text": [
      "SR.NO\n",
      "SR.NO\n",
      "SR.NO\n",
      "SR.NO\n"
     ]
    }
   ],
   "source": [
    "for a in range(1,5):\n",
    "    print(\"SR.NO\")"
   ]
  },
  {
   "cell_type": "code",
   "execution_count": 16,
   "id": "b9b4a36e",
   "metadata": {},
   "outputs": [
    {
     "name": "stdout",
     "output_type": "stream",
     "text": [
      "u\n",
      "j\n",
      "w\n",
      "a\n",
      "l\n"
     ]
    }
   ],
   "source": [
    "# PRINTING SINGLE LETTER ONE BY ONE:\n",
    "for a in \"ujwal\":\n",
    "    print(a)"
   ]
  },
  {
   "cell_type": "markdown",
   "id": "ca392977",
   "metadata": {},
   "source": [
    "##### HORIZONTALLY PRINTING(YES) IN ROW"
   ]
  },
  {
   "cell_type": "code",
   "execution_count": 6,
   "id": "8b1325a9",
   "metadata": {},
   "outputs": [
    {
     "name": "stdout",
     "output_type": "stream",
     "text": [
      "YES YES YES YES "
     ]
    }
   ],
   "source": [
    "for a in range(1,5):\n",
    "    print(\"YES\",end=\" \")"
   ]
  },
  {
   "cell_type": "markdown",
   "id": "3504219d",
   "metadata": {},
   "source": [
    "##### PRINT ODD NUMBER WITHIN RANGE"
   ]
  },
  {
   "cell_type": "code",
   "execution_count": 9,
   "id": "a1efac22",
   "metadata": {},
   "outputs": [
    {
     "name": "stdout",
     "output_type": "stream",
     "text": [
      "1\n",
      "3\n",
      "5\n",
      "7\n",
      "9\n"
     ]
    }
   ],
   "source": [
    "for a in range(1,11,2):\n",
    "    print(a)"
   ]
  },
  {
   "cell_type": "markdown",
   "id": "9fb89310",
   "metadata": {},
   "source": [
    "##### PRINT EVEN NUMBER WITHIN RANGE:\n"
   ]
  },
  {
   "cell_type": "code",
   "execution_count": 10,
   "id": "b6803706",
   "metadata": {},
   "outputs": [
    {
     "name": "stdout",
     "output_type": "stream",
     "text": [
      "2\n",
      "4\n",
      "6\n",
      "8\n",
      "10\n"
     ]
    }
   ],
   "source": [
    "for a in range(2,11,2):\n",
    "    print(a)"
   ]
  },
  {
   "cell_type": "code",
   "execution_count": 18,
   "id": "df5aa9d5",
   "metadata": {},
   "outputs": [
    {
     "data": {
      "text/plain": [
       "'ujwal ujwal ujwal '"
      ]
     },
     "execution_count": 18,
     "metadata": {},
     "output_type": "execute_result"
    }
   ],
   "source": [
    "# MUTIPLE TEXT:\n",
    "text=\"ujwal \"\n",
    "text*3"
   ]
  },
  {
   "cell_type": "code",
   "execution_count": 20,
   "id": "07105eee",
   "metadata": {},
   "outputs": [
    {
     "name": "stdout",
     "output_type": "stream",
     "text": [
      "UJWAL\n",
      "UJWALUJWAL\n",
      "UJWALUJWALUJWAL\n",
      "UJWALUJWALUJWALUJWAL\n"
     ]
    }
   ],
   "source": [
    "# WITH RANGE OF MULTIPLIER:\n",
    "TEXT=\"UJWAL\"\n",
    "for a in range(1,5):\n",
    "    print(TEXT*a)"
   ]
  },
  {
   "cell_type": "code",
   "execution_count": 13,
   "id": "80a5b18a",
   "metadata": {},
   "outputs": [
    {
     "name": "stdout",
     "output_type": "stream",
     "text": [
      "10\n",
      "8\n",
      "6\n",
      "4\n"
     ]
    }
   ],
   "source": [
    "# reserve:\n",
    "for a in range(10,2,-2):# last digit is not visible\n",
    "    print(a)"
   ]
  },
  {
   "cell_type": "markdown",
   "id": "ce13162d",
   "metadata": {},
   "source": [
    "##### BREAK"
   ]
  },
  {
   "cell_type": "markdown",
   "id": "d67bc38b",
   "metadata": {},
   "source": [
    "### 🔚 **Use of `break` in a `for` Loop (Python)**\n",
    "\n",
    "The `break` statement is used to **stop a loop early** when a specific condition is met. 🚨\n",
    "\n",
    "---\n",
    "\n",
    "### ✅ **Why use `break`?**\n",
    "\n",
    "* To **exit the loop** immediately.\n",
    "* To **save time** when you've found what you need.\n",
    "\n",
    "\n"
   ]
  },
  {
   "cell_type": "code",
   "execution_count": 15,
   "id": "c41973d6",
   "metadata": {},
   "outputs": [
    {
     "name": "stdout",
     "output_type": "stream",
     "text": [
      "1\n",
      "2\n",
      "same\n"
     ]
    }
   ],
   "source": [
    "for a in range(1,5):\n",
    "    if a==3:\n",
    "        print(\"same\")\n",
    "        break\n",
    "    else:\n",
    "        print(a) "
   ]
  },
  {
   "cell_type": "markdown",
   "id": "ca922ee1",
   "metadata": {},
   "source": [
    "##### FOR LOOP IN LIST COMPREHENSION "
   ]
  },
  {
   "cell_type": "code",
   "execution_count": 21,
   "id": "e8610a92",
   "metadata": {},
   "outputs": [
    {
     "name": "stdout",
     "output_type": "stream",
     "text": [
      "[1, 4, 9, 16]\n"
     ]
    }
   ],
   "source": [
    "# NORMAL FOR LOOP :\n",
    "numbers = [1, 2, 3, 4]\n",
    "squares = []\n",
    "\n",
    "for num in numbers:\n",
    "    squares.append(num ** 2)\n",
    "\n",
    "print(squares)  # Output: [1, 4, 9, 16]\n"
   ]
  },
  {
   "cell_type": "code",
   "execution_count": 23,
   "id": "f0a2e8de",
   "metadata": {},
   "outputs": [
    {
     "name": "stdout",
     "output_type": "stream",
     "text": [
      "[1, 4, 9, 16, 25, 36]\n"
     ]
    }
   ],
   "source": [
    "# SAME USING LIST COMPREHENSION:\n",
    "num_list=[1,2,3,4,5,6]\n",
    "SQUARES=[x**2 for x in num_list]\n",
    "print(SQUARES)"
   ]
  },
  {
   "cell_type": "code",
   "execution_count": 25,
   "id": "e2e580e3",
   "metadata": {},
   "outputs": [
    {
     "data": {
      "text/plain": [
       "[4, 16, 36]"
      ]
     },
     "execution_count": 25,
     "metadata": {},
     "output_type": "execute_result"
    }
   ],
   "source": [
    "# WITH CONDITION : FIND EVEN NUMBER SQUARES ONLY\n",
    "EVEN_SQUARE=[x**2 for x in num_list if x%2==0]\n",
    "EVEN_SQUARE\n"
   ]
  },
  {
   "cell_type": "markdown",
   "id": "ddc43a1d",
   "metadata": {},
   "source": [
    "##### IN NESTED FOR LOOP"
   ]
  },
  {
   "cell_type": "code",
   "execution_count": 26,
   "id": "0af9fb89",
   "metadata": {},
   "outputs": [
    {
     "name": "stdout",
     "output_type": "stream",
     "text": [
      "[(1, 'a'), (1, 'b'), (2, 'a'), (2, 'b'), (3, 'a'), (3, 'b')]\n"
     ]
    }
   ],
   "source": [
    "# NORMAL NESTED FOR LOOP:\n",
    "pairs = []\n",
    "for x in [1, 2, 3]:\n",
    "    for y in ['a', 'b']:\n",
    "        pairs.append((x, y))\n",
    "\n",
    "print(pairs) "
   ]
  },
  {
   "cell_type": "code",
   "execution_count": 29,
   "id": "a2580d42",
   "metadata": {},
   "outputs": [
    {
     "data": {
      "text/plain": [
       "[(1, 'a'), (1, 'b'), (2, 'a'), (2, 'b'), (3, 'a'), (3, 'b')]"
      ]
     },
     "execution_count": 29,
     "metadata": {},
     "output_type": "execute_result"
    }
   ],
   "source": [
    "# SAME IN LIST COMPREHENSION:\n",
    "PAIRS=[(x,y) for x in [1,2,3] for y in [\"a\",\"b\"]]\n",
    "PAIRS"
   ]
  },
  {
   "cell_type": "markdown",
   "id": "2e51f09d",
   "metadata": {},
   "source": [
    "##### IF ELSE STAETMENT"
   ]
  },
  {
   "cell_type": "code",
   "execution_count": 30,
   "id": "66488be4",
   "metadata": {},
   "outputs": [
    {
     "name": "stdout",
     "output_type": "stream",
     "text": [
      "['even', 'odd', 'even', 'odd', 'even']\n"
     ]
    }
   ],
   "source": [
    "# if else statement NORMAL FOR LOOP:\n",
    "labels = []\n",
    "\n",
    "for x in range(5):\n",
    "    if x % 2 == 0:\n",
    "        labels.append('even')\n",
    "    else:\n",
    "        labels.append('odd')\n",
    "\n",
    "print(labels)  \n"
   ]
  },
  {
   "cell_type": "code",
   "execution_count": 32,
   "id": "4e9ac9f6",
   "metadata": {},
   "outputs": [
    {
     "data": {
      "text/plain": [
       "['even', 'even', 'odd', 'odd']"
      ]
     },
     "execution_count": 32,
     "metadata": {},
     "output_type": "execute_result"
    }
   ],
   "source": [
    "LABELS=[\"even\" if 2%a==0 else \"odd\" for a in range(1,5)]\n",
    "LABELS"
   ]
  },
  {
   "cell_type": "markdown",
   "id": "d24c1cd2",
   "metadata": {},
   "source": [
    "##### FLATTEN 2D ARRAY "
   ]
  },
  {
   "cell_type": "code",
   "execution_count": 35,
   "id": "5d5cffd9",
   "metadata": {},
   "outputs": [
    {
     "data": {
      "text/plain": [
       "[1, 2, 3, 4, 5, 6]"
      ]
     },
     "execution_count": 35,
     "metadata": {},
     "output_type": "execute_result"
    }
   ],
   "source": [
    "# FLATTEN A 2D LIST :\n",
    "matrix = [[1, 2], [3, 4], [5, 6]]\n",
    "FLATTEN_LIST=[num  for row in matrix for num in row]\n",
    "FLATTEN_LIST"
   ]
  },
  {
   "cell_type": "markdown",
   "id": "4379e5ae",
   "metadata": {},
   "source": [
    "##### WITH FUNCTION"
   ]
  },
  {
   "cell_type": "code",
   "execution_count": 36,
   "id": "98c18d5d",
   "metadata": {},
   "outputs": [
    {
     "name": "stdout",
     "output_type": "stream",
     "text": [
      "[0, 1, 4, 9, 16]\n"
     ]
    }
   ],
   "source": [
    "def square(n):\n",
    "    return n * n\n",
    "\n",
    "results = [square(x) for x in range(5)]\n",
    "print(results)  # [0, 1, 4, 9, 16]\n"
   ]
  },
  {
   "cell_type": "code",
   "execution_count": null,
   "id": "3a656392",
   "metadata": {},
   "outputs": [],
   "source": [
    "def FIX_DATE(date_str):\n",
    "    from datetime import datetime\n",
    "    try:\n",
    "        # If format is 'yyyy-mm-dd', convert to 'dd-mm-yyyy'\n",
    "        d1 = datetime.strptime(date_str, '%Y-%m-%d')\n",
    "        return d1.strftime('%d-%m-%Y')\n",
    "    except:\n",
    "        try:\n",
    "            # If already 'dd-mm-yyyy', keep it\n",
    "            datetime.strptime(date_str, '%d-%m-%Y')\n",
    "            return date_str\n",
    "        except:\n",
    "            return 'Invalid'"
   ]
  }
 ],
 "metadata": {
  "kernelspec": {
   "display_name": "Python 3",
   "language": "python",
   "name": "python3"
  },
  "language_info": {
   "codemirror_mode": {
    "name": "ipython",
    "version": 3
   },
   "file_extension": ".py",
   "mimetype": "text/x-python",
   "name": "python",
   "nbconvert_exporter": "python",
   "pygments_lexer": "ipython3",
   "version": "3.11.9"
  }
 },
 "nbformat": 4,
 "nbformat_minor": 5
}
