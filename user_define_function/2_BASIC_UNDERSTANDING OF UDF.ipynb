{
 "cells": [
  {
   "cell_type": "markdown",
   "id": "46c5aaef",
   "metadata": {},
   "source": [
    "# 🙅🏽‍♂️ WITHOUT PARAMETER AND WITHOUT RETURN VALUE"
   ]
  },
  {
   "cell_type": "code",
   "execution_count": 57,
   "id": "8df2a26e",
   "metadata": {},
   "outputs": [],
   "source": [
    "def greet():\n",
    "    print(\"Hello world !\")\n",
    "    "
   ]
  },
  {
   "cell_type": "code",
   "execution_count": 58,
   "id": "56dd2a45",
   "metadata": {},
   "outputs": [
    {
     "name": "stdout",
     "output_type": "stream",
     "text": [
      "Hello world !\n"
     ]
    }
   ],
   "source": [
    "greet()"
   ]
  },
  {
   "cell_type": "markdown",
   "id": "6059338a",
   "metadata": {},
   "source": [
    "# 💬 WITH PARAMETER"
   ]
  },
  {
   "cell_type": "code",
   "execution_count": 59,
   "id": "3a50cd3f",
   "metadata": {},
   "outputs": [],
   "source": [
    "def greet(name):\n",
    "    print(f\"Hello ! {name}\")"
   ]
  },
  {
   "cell_type": "code",
   "execution_count": 60,
   "id": "07b9b83e",
   "metadata": {},
   "outputs": [],
   "source": [
    "#greet()"
   ]
  },
  {
   "cell_type": "code",
   "execution_count": 61,
   "id": "99a495f2",
   "metadata": {},
   "outputs": [
    {
     "name": "stdout",
     "output_type": "stream",
     "text": [
      "Hello ! Ujwal Agrawal\n"
     ]
    }
   ],
   "source": [
    "greet(\"Ujwal Agrawal\")"
   ]
  },
  {
   "cell_type": "markdown",
   "id": "a99a7b5c",
   "metadata": {},
   "source": [
    "# 🤑WITH RETURN VALUE"
   ]
  },
  {
   "cell_type": "code",
   "execution_count": 62,
   "id": "27ea9b24",
   "metadata": {},
   "outputs": [],
   "source": [
    "def SEP_EVEN_ODD(num_list):\n",
    "    EVEN=[]\n",
    "    ODD=[]\n",
    "    for num in num_list:\n",
    "        if num%2==0:\n",
    "            EVEN.append(num)\n",
    "        else:\n",
    "            ODD.append(num)\n",
    "    print(f\"EVEN_NUMBER : {EVEN}\")\n",
    "    print(f\"ODD_NUMBER :{ODD}\")             "
   ]
  },
  {
   "cell_type": "code",
   "execution_count": 63,
   "id": "118afc48",
   "metadata": {},
   "outputs": [
    {
     "name": "stdout",
     "output_type": "stream",
     "text": [
      "EVEN_NUMBER : [2, 4, 6, 8, 10, 12, 14, 16, 18]\n",
      "ODD_NUMBER :[1, 3, 5, 7, 9, 11, 13, 15, 17]\n"
     ]
    }
   ],
   "source": [
    "\n",
    "SEP_EVEN_ODD([1,2,3,4,5,6,7,8,9,10,11,12,13,14,15,16,17,18])"
   ]
  },
  {
   "cell_type": "markdown",
   "id": "116ed875",
   "metadata": {},
   "source": [
    "# WITH DEFAULT PARAMETERS"
   ]
  },
  {
   "cell_type": "code",
   "execution_count": 64,
   "id": "23978fd0",
   "metadata": {},
   "outputs": [],
   "source": [
    "def GREET(name, greeting=\"have a great day..\"):\n",
    "    print(f\"Hello! {name} {greeting}\")"
   ]
  },
  {
   "cell_type": "code",
   "execution_count": 65,
   "id": "6dc947c0",
   "metadata": {},
   "outputs": [
    {
     "name": "stdout",
     "output_type": "stream",
     "text": [
      "Hello! Ujwal have a great day..\n"
     ]
    }
   ],
   "source": [
    "GREET(\"Ujwal\")"
   ]
  },
  {
   "cell_type": "markdown",
   "id": "478c055e",
   "metadata": {},
   "source": [
    "# 🔁 RECURSIVE FUNCTION"
   ]
  },
  {
   "cell_type": "code",
   "execution_count": 66,
   "id": "2930672d",
   "metadata": {},
   "outputs": [],
   "source": [
    "def countdown(n):\n",
    "    import time\n",
    "    if n<1:\n",
    "        return 1\n",
    "    print(n)\n",
    "    time.sleep(1)\n",
    "    countdown(n-1)"
   ]
  },
  {
   "cell_type": "code",
   "execution_count": 67,
   "id": "6dd5d451",
   "metadata": {},
   "outputs": [
    {
     "name": "stdout",
     "output_type": "stream",
     "text": [
      "10\n"
     ]
    },
    {
     "name": "stdout",
     "output_type": "stream",
     "text": [
      "9\n",
      "8\n",
      "7\n",
      "6\n",
      "5\n",
      "4\n",
      "3\n",
      "2\n",
      "1\n"
     ]
    }
   ],
   "source": [
    "countdown(10)"
   ]
  },
  {
   "cell_type": "code",
   "execution_count": 68,
   "id": "cd43602e",
   "metadata": {},
   "outputs": [],
   "source": [
    "def factorial(n):# n=5\n",
    "    if n<=1:\n",
    "        return 1\n",
    "    return n*factorial(n-1)# here factorial(n-1) will be 4 from recursive function\n"
   ]
  },
  {
   "cell_type": "code",
   "execution_count": 69,
   "id": "09195d97",
   "metadata": {},
   "outputs": [
    {
     "data": {
      "text/plain": [
       "120"
      ]
     },
     "execution_count": 69,
     "metadata": {},
     "output_type": "execute_result"
    }
   ],
   "source": [
    "factorial(5)"
   ]
  },
  {
   "cell_type": "markdown",
   "id": "0673d238",
   "metadata": {},
   "source": [
    "---\n",
    "\n",
    "### 🌟 What is a **Factorial**?\n",
    "\n",
    "Factorial means **multiply all numbers from `n` down to 1**.\n",
    "We write it as `n!` (say: “n factorial”).\n",
    "\n",
    "🧮 Example:\n",
    "**5! = 5 × 4 × 3 × 2 × 1 = 120**\n",
    "\n",
    "💡 Quick facts:\n",
    "\n",
    "* **0! = 1** (just remember it!)\n",
    "* Used in **math, probability, and counting things**!\n",
    "\n",
    "Sure! Here's a super simple explanation with just the idea and output:\n",
    "\n",
    "---\n",
    "\n",
    "Factorial gives the total when you multiply a number by all smaller numbers down to 1.\n",
    "\n",
    "\n",
    "📌 **3! means \"factorial of 3\" → answer is 6**\n",
    "\n",
    "📌 **4! → answer is 24**\n",
    "\n",
    "📌 **5! → answer is 120**\n",
    "\n",
    "📌 **0! → answer is 1**\n",
    "\n",
    "\n",
    "\n",
    "---\n"
   ]
  },
  {
   "cell_type": "markdown",
   "id": "5880a724",
   "metadata": {},
   "source": [
    "# 📖 DATA VALIDATION FUNCTION \n",
    "##### VALIDATE USER INPUT"
   ]
  },
  {
   "cell_type": "code",
   "execution_count": 70,
   "id": "cabda3fd",
   "metadata": {},
   "outputs": [],
   "source": [
    "def is_positive():\n",
    "    num=int(input(\"enter number\"))\n",
    "    if num > 1 :\n",
    "        print(f\"{num} is Positive ➕\")\n",
    "    else :\n",
    "        print(f\"{num} is Negative ➖\")    "
   ]
  },
  {
   "cell_type": "code",
   "execution_count": 71,
   "id": "7a6fd30c",
   "metadata": {},
   "outputs": [
    {
     "name": "stdout",
     "output_type": "stream",
     "text": [
      "6 is Positive ➕\n"
     ]
    }
   ],
   "source": [
    "is_positive()"
   ]
  },
  {
   "cell_type": "markdown",
   "id": "22aa15d8",
   "metadata": {},
   "source": [
    "# 🔖WORKING WITH LIST"
   ]
  },
  {
   "cell_type": "code",
   "execution_count": 72,
   "id": "cd14a0cc",
   "metadata": {},
   "outputs": [],
   "source": [
    "def find_largest(NUM_LIST):\n",
    "    LARGEST_NUM=0\n",
    "    for num in NUM_LIST:\n",
    "        if num > LARGEST_NUM:\n",
    "            LARGEST_NUM=num\n",
    "    return LARGEST_NUM        "
   ]
  },
  {
   "cell_type": "code",
   "execution_count": 73,
   "id": "e044a125",
   "metadata": {},
   "outputs": [
    {
     "data": {
      "text/plain": [
       "5"
      ]
     },
     "execution_count": 73,
     "metadata": {},
     "output_type": "execute_result"
    }
   ],
   "source": [
    "find_largest([1,2,3,4,5])"
   ]
  },
  {
   "cell_type": "markdown",
   "id": "9a27f94d",
   "metadata": {},
   "source": [
    "# 🪹NESTED FUNCTION\n",
    "##### USE HELPER FUNCTION INSIDE ANOTHER FUNCTION\n",
    "\n",
    "\n",
    "---\n",
    "\n",
    "### 📝 **Practice Task:**\n",
    "\n",
    "**Create a function** called `check_even_odd` that:\n",
    "\n",
    "#### ✅ Conditions:\n",
    "\n",
    "1. Takes **one number** as input.\n",
    "2. Checks if the number is **even** or **odd**.\n",
    "3. **Prints** `\"Even number\"` if even, or `\"Odd number\"` if odd.\n",
    "4. Do **not use return**, just use `print()`.\n",
    "\n",
    "---\n"
   ]
  },
  {
   "cell_type": "code",
   "execution_count": 74,
   "id": "b3fe4a6b",
   "metadata": {},
   "outputs": [],
   "source": [
    "def CHECK_EVEN_ODD(NUM):\n",
    "    def CHECK_EVEN(NUM):\n",
    "        if NUM%2==0:\n",
    "            print(\"even\")\n",
    "        else:\n",
    "            CHECK_ODD(NUM)\n",
    "    def CHECK_ODD(NUM):\n",
    "        if NUM% 2!=0:\n",
    "            print(\"odd\")\n",
    "    CHECK_EVEN(NUM)        "
   ]
  },
  {
   "cell_type": "code",
   "execution_count": 75,
   "id": "9c7ab949",
   "metadata": {},
   "outputs": [
    {
     "name": "stdout",
     "output_type": "stream",
     "text": [
      "odd\n"
     ]
    }
   ],
   "source": [
    "CHECK_EVEN_ODD(5)"
   ]
  },
  {
   "cell_type": "markdown",
   "id": "d2e760ac",
   "metadata": {},
   "source": [
    "# ⁉️HANDING EXCEPTIONS\n",
    "\n",
    "---\n",
    "\n",
    "### 🌟 **Error Handling in Python: `try` and `except`** 🌟\n",
    "\n",
    "Imagine you're walking through a **maze of code** 🏃‍♂️, but **oops!** — sometimes, **errors** pop up like obstacles! 😱\n",
    "\n",
    "#### 🛡️ **The Superpower of `try` and `except`** 🛡️\n",
    "\n",
    "Instead of **stopping your journey** when you face an obstacle, you simply **handle it and keep going**! 💪\n",
    "\n",
    "---\n",
    "\n",
    "### ✅ **How It Works:**\n",
    "\n",
    "1. **`try:`** 🧭\n",
    "   This is where you **give it a go**. It holds the **risky code** that might cause an error.\n",
    "\n",
    "2. **`except:`** 💥\n",
    "   If anything goes wrong, the **`except` block** steps in to **save the day**! You can handle the error in a controlled way instead of crashing. 🚀\n",
    "   except: This block catches the error if one occurs and allows you to handle it.\n",
    "\n",
    "---\n",
    "\n",
    "### 💡 **Why Use `try` and `except`?**\n",
    "\n",
    "* **Error-Free Zone** 🛡️: The program keeps going, even if it stumbles!\n",
    "* **Friendly Fixes** 💬: Catch and handle errors with **helpful messages**. ✨\n",
    "\n",
    "---\n",
    "\n",
    "### 🚀 **Keep Going, No Stopping!** 💡\n",
    "\n",
    "With `try` and `except`, your program is like a **superhero** 🦸‍♂️, always bouncing back from errors! ✨\n"
   ]
  },
  {
   "cell_type": "code",
   "execution_count": 76,
   "id": "3794e82e",
   "metadata": {},
   "outputs": [],
   "source": [
    "def Divide(a,b):\n",
    "    return a/b"
   ]
  },
  {
   "cell_type": "code",
   "execution_count": 78,
   "id": "2484fa67",
   "metadata": {},
   "outputs": [],
   "source": [
    "#Divide(2,0)"
   ]
  },
  {
   "cell_type": "code",
   "execution_count": 79,
   "id": "bc03316f",
   "metadata": {},
   "outputs": [],
   "source": [
    "def Division(a,b):\n",
    "    try:\n",
    "        return a/b\n",
    "    except ZeroDivisionError :\n",
    "        return \"Divsion by zero is not allowed \"\n",
    "    "
   ]
  },
  {
   "cell_type": "code",
   "execution_count": 80,
   "id": "b2614b87",
   "metadata": {},
   "outputs": [
    {
     "data": {
      "text/plain": [
       "'Divsion by zero is not allowed '"
      ]
     },
     "execution_count": 80,
     "metadata": {},
     "output_type": "execute_result"
    }
   ],
   "source": [
    "Division(2,0)"
   ]
  },
  {
   "cell_type": "markdown",
   "id": "cf1b337b",
   "metadata": {},
   "source": [
    "# 💁🏽‍♀️FUNCTION WITH CONDITION\n",
    "##### IF ELIF ELSE\n",
    "📝 Condition:\n",
    "Create a function that:\n",
    "- Takes an integer as input.\n",
    "- Prints \"Positive\" if the number is greater than 0.\n",
    "- Prints \"Zero\" if the number is exactly 0.\n",
    "- Prints \"Negative\" if the number is less than 0."
   ]
  },
  {
   "cell_type": "code",
   "execution_count": 82,
   "id": "f7392e38",
   "metadata": {},
   "outputs": [],
   "source": [
    "def CHECK_NUM(NUM):\n",
    "    if NUM>0:\n",
    "        print(f\"{NUM} is positive\")\n",
    "    elif NUM==0:\n",
    "        print(f\"{NUM} is zero\")\n",
    "    else :\n",
    "        print(f\"{NUM} is negative\")        "
   ]
  },
  {
   "cell_type": "code",
   "execution_count": 83,
   "id": "c7d35db0",
   "metadata": {},
   "outputs": [
    {
     "name": "stdout",
     "output_type": "stream",
     "text": [
      "5 is positive\n"
     ]
    }
   ],
   "source": [
    "CHECK_NUM(5)"
   ]
  }
 ],
 "metadata": {
  "kernelspec": {
   "display_name": "Python 3",
   "language": "python",
   "name": "python3"
  },
  "language_info": {
   "codemirror_mode": {
    "name": "ipython",
    "version": 3
   },
   "file_extension": ".py",
   "mimetype": "text/x-python",
   "name": "python",
   "nbconvert_exporter": "python",
   "pygments_lexer": "ipython3",
   "version": "3.11.9"
  }
 },
 "nbformat": 4,
 "nbformat_minor": 5
}
